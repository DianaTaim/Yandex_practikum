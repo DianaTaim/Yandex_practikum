{
 "cells": [
  {
   "cell_type": "markdown",
   "metadata": {},
   "source": [
    "# Проект по SQL"
   ]
  },
  {
   "cell_type": "markdown",
   "metadata": {},
   "source": [
    "### План\n",
    "\n",
    "- Посчитайте, сколько книг вышло после 1 января 2000 года;\n",
    "- Для каждой книги посчитайте количество обзоров и среднюю оценку;\n",
    "- Определите издательство, которое выпустило наибольшее число книг толще 50 страниц — так вы исключите из анализа брошюры;\n",
    "- Определите автора с самой высокой средней оценкой книг — учитывайте только книги с 50 и более оценками;\n",
    "- Посчитайте среднее количество обзоров от пользователей, которые поставили больше 48 оценок."
   ]
  },
  {
   "cell_type": "markdown",
   "metadata": {},
   "source": [
    "### Цель исследования"
   ]
  },
  {
   "cell_type": "markdown",
   "metadata": {},
   "source": [
    "Проанализировать базу данных для выпуска приложения с наиболее популярными книгами, издательствами, авторами"
   ]
  },
  {
   "cell_type": "markdown",
   "metadata": {},
   "source": [
    "### Описание данных\n",
    "\n",
    "**Таблица `books`**\n",
    "\n",
    "Содержит данные о книгах:\n",
    "\n",
    "- `book_id` — идентификатор книги;\n",
    "- `author_id` — идентификатор автора;\n",
    "- `title` — название книги;\n",
    "- `num_pages` — количество страниц;\n",
    "- `publication_date` — дата публикации книги;\n",
    "- `publisher_id` — идентификатор издателя.\n",
    "\n",
    "**Таблица `authors`**\n",
    "\n",
    "Содержит данные об авторах:\n",
    "\n",
    "- `author_id` — идентификатор автора;\n",
    "- `author` — имя автора.\n",
    "\n",
    "**Таблица `publishers`**\n",
    "\n",
    "Содержит данные об издательствах:\n",
    "- `publisher_id` — идентификатор издательства;\n",
    "- `publisher` — название издательства;\n",
    "\n",
    "**Таблица `ratings`**\n",
    "\n",
    "Содержит данные о пользовательских оценках книг:\n",
    "\n",
    "- `rating_id` — идентификатор оценки;\n",
    "- `book_id` — идентификатор книги;\n",
    "- `username` — имя пользователя, оставившего оценку;\n",
    "- `rating` — оценка книги.\n",
    "\n",
    "**Таблица `reviews`**\n",
    "\n",
    "Содержит данные о пользовательских обзорах на книги:\n",
    "\n",
    "- `review_id` — идентификатор обзора;\n",
    "- `book_id` — идентификатор книги;\n",
    "- `username` — имя пользователя, написавшего обзор;\n",
    "- `text` — текст обзора."
   ]
  },
  {
   "cell_type": "code",
   "execution_count": 1,
   "metadata": {},
   "outputs": [
    {
     "data": {
      "text/html": [
       "<div>\n",
       "<style scoped>\n",
       "    .dataframe tbody tr th:only-of-type {\n",
       "        vertical-align: middle;\n",
       "    }\n",
       "\n",
       "    .dataframe tbody tr th {\n",
       "        vertical-align: top;\n",
       "    }\n",
       "\n",
       "    .dataframe thead th {\n",
       "        text-align: right;\n",
       "    }\n",
       "</style>\n",
       "<table border=\"1\" class=\"dataframe\">\n",
       "  <thead>\n",
       "    <tr style=\"text-align: right;\">\n",
       "      <th></th>\n",
       "      <th>book_id</th>\n",
       "      <th>author_id</th>\n",
       "      <th>title</th>\n",
       "      <th>num_pages</th>\n",
       "      <th>publication_date</th>\n",
       "      <th>publisher_id</th>\n",
       "    </tr>\n",
       "  </thead>\n",
       "  <tbody>\n",
       "    <tr>\n",
       "      <th>0</th>\n",
       "      <td>1</td>\n",
       "      <td>546</td>\n",
       "      <td>'Salem's Lot</td>\n",
       "      <td>594</td>\n",
       "      <td>2005-11-01</td>\n",
       "      <td>93</td>\n",
       "    </tr>\n",
       "    <tr>\n",
       "      <th>1</th>\n",
       "      <td>2</td>\n",
       "      <td>465</td>\n",
       "      <td>1 000 Places to See Before You Die</td>\n",
       "      <td>992</td>\n",
       "      <td>2003-05-22</td>\n",
       "      <td>336</td>\n",
       "    </tr>\n",
       "    <tr>\n",
       "      <th>2</th>\n",
       "      <td>3</td>\n",
       "      <td>407</td>\n",
       "      <td>13 Little Blue Envelopes (Little Blue Envelope...</td>\n",
       "      <td>322</td>\n",
       "      <td>2010-12-21</td>\n",
       "      <td>135</td>\n",
       "    </tr>\n",
       "    <tr>\n",
       "      <th>3</th>\n",
       "      <td>4</td>\n",
       "      <td>82</td>\n",
       "      <td>1491: New Revelations of the Americas Before C...</td>\n",
       "      <td>541</td>\n",
       "      <td>2006-10-10</td>\n",
       "      <td>309</td>\n",
       "    </tr>\n",
       "    <tr>\n",
       "      <th>4</th>\n",
       "      <td>5</td>\n",
       "      <td>125</td>\n",
       "      <td>1776</td>\n",
       "      <td>386</td>\n",
       "      <td>2006-07-04</td>\n",
       "      <td>268</td>\n",
       "    </tr>\n",
       "    <tr>\n",
       "      <th>...</th>\n",
       "      <td>...</td>\n",
       "      <td>...</td>\n",
       "      <td>...</td>\n",
       "      <td>...</td>\n",
       "      <td>...</td>\n",
       "      <td>...</td>\n",
       "    </tr>\n",
       "    <tr>\n",
       "      <th>995</th>\n",
       "      <td>996</td>\n",
       "      <td>571</td>\n",
       "      <td>Wyrd Sisters (Discworld  #6; Witches #2)</td>\n",
       "      <td>265</td>\n",
       "      <td>2001-02-06</td>\n",
       "      <td>147</td>\n",
       "    </tr>\n",
       "    <tr>\n",
       "      <th>996</th>\n",
       "      <td>997</td>\n",
       "      <td>454</td>\n",
       "      <td>Xenocide (Ender's Saga  #3)</td>\n",
       "      <td>592</td>\n",
       "      <td>1996-07-15</td>\n",
       "      <td>297</td>\n",
       "    </tr>\n",
       "    <tr>\n",
       "      <th>997</th>\n",
       "      <td>998</td>\n",
       "      <td>201</td>\n",
       "      <td>Year of Wonders</td>\n",
       "      <td>358</td>\n",
       "      <td>2002-04-30</td>\n",
       "      <td>212</td>\n",
       "    </tr>\n",
       "    <tr>\n",
       "      <th>998</th>\n",
       "      <td>999</td>\n",
       "      <td>94</td>\n",
       "      <td>You Suck (A Love Story  #2)</td>\n",
       "      <td>328</td>\n",
       "      <td>2007-01-16</td>\n",
       "      <td>331</td>\n",
       "    </tr>\n",
       "    <tr>\n",
       "      <th>999</th>\n",
       "      <td>1000</td>\n",
       "      <td>509</td>\n",
       "      <td>Zen and the Art of Motorcycle Maintenance: An ...</td>\n",
       "      <td>540</td>\n",
       "      <td>2006-04-25</td>\n",
       "      <td>143</td>\n",
       "    </tr>\n",
       "  </tbody>\n",
       "</table>\n",
       "<p>1000 rows × 6 columns</p>\n",
       "</div>"
      ],
      "text/plain": [
       "     book_id  author_id                                              title  \\\n",
       "0          1        546                                       'Salem's Lot   \n",
       "1          2        465                 1 000 Places to See Before You Die   \n",
       "2          3        407  13 Little Blue Envelopes (Little Blue Envelope...   \n",
       "3          4         82  1491: New Revelations of the Americas Before C...   \n",
       "4          5        125                                               1776   \n",
       "..       ...        ...                                                ...   \n",
       "995      996        571           Wyrd Sisters (Discworld  #6; Witches #2)   \n",
       "996      997        454                        Xenocide (Ender's Saga  #3)   \n",
       "997      998        201                                    Year of Wonders   \n",
       "998      999         94                        You Suck (A Love Story  #2)   \n",
       "999     1000        509  Zen and the Art of Motorcycle Maintenance: An ...   \n",
       "\n",
       "     num_pages publication_date  publisher_id  \n",
       "0          594       2005-11-01            93  \n",
       "1          992       2003-05-22           336  \n",
       "2          322       2010-12-21           135  \n",
       "3          541       2006-10-10           309  \n",
       "4          386       2006-07-04           268  \n",
       "..         ...              ...           ...  \n",
       "995        265       2001-02-06           147  \n",
       "996        592       1996-07-15           297  \n",
       "997        358       2002-04-30           212  \n",
       "998        328       2007-01-16           331  \n",
       "999        540       2006-04-25           143  \n",
       "\n",
       "[1000 rows x 6 columns]"
      ]
     },
     "execution_count": 1,
     "metadata": {},
     "output_type": "execute_result"
    }
   ],
   "source": [
    "# импортируем библиотеки\n",
    "import pandas as pd\n",
    "from sqlalchemy import text, create_engine\n",
    "\n",
    "# устанавливаем параметры\n",
    "db_config = {'user': 'praktikum_student', # имя пользователя\n",
    "'pwd': 'Sdf4$2;d-d30pp', # пароль\n",
    "'host': 'rc1b-wcoijxj3yxfsf3fs.mdb.yandexcloud.net',\n",
    "'port': 6432, # порт подключения\n",
    "'db': 'data-analyst-final-project-db'} # название базы данных\n",
    "connection_string = 'postgresql://{user}:{pwd}@{host}:{port}/{db}'.format(**db_config)\n",
    "\n",
    "# сохраняем коннектор\n",
    "engine = create_engine(connection_string, connect_args={'sslmode':'require'})\n",
    "\n",
    "# чтобы выполнить SQL-запрос, используем Pandas\n",
    "query = '''SELECT * FROM books'''\n",
    "\n",
    "con=engine.connect()\n",
    "\n",
    "pd.io.sql.read_sql(sql=text(query), con = con)"
   ]
  },
  {
   "cell_type": "code",
   "execution_count": 2,
   "metadata": {},
   "outputs": [
    {
     "data": {
      "text/html": [
       "<div>\n",
       "<style scoped>\n",
       "    .dataframe tbody tr th:only-of-type {\n",
       "        vertical-align: middle;\n",
       "    }\n",
       "\n",
       "    .dataframe tbody tr th {\n",
       "        vertical-align: top;\n",
       "    }\n",
       "\n",
       "    .dataframe thead th {\n",
       "        text-align: right;\n",
       "    }\n",
       "</style>\n",
       "<table border=\"1\" class=\"dataframe\">\n",
       "  <thead>\n",
       "    <tr style=\"text-align: right;\">\n",
       "      <th></th>\n",
       "      <th>author_id</th>\n",
       "      <th>author</th>\n",
       "    </tr>\n",
       "  </thead>\n",
       "  <tbody>\n",
       "    <tr>\n",
       "      <th>0</th>\n",
       "      <td>1</td>\n",
       "      <td>A.S. Byatt</td>\n",
       "    </tr>\n",
       "    <tr>\n",
       "      <th>1</th>\n",
       "      <td>2</td>\n",
       "      <td>Aesop/Laura Harris/Laura Gibbs</td>\n",
       "    </tr>\n",
       "    <tr>\n",
       "      <th>2</th>\n",
       "      <td>3</td>\n",
       "      <td>Agatha Christie</td>\n",
       "    </tr>\n",
       "    <tr>\n",
       "      <th>3</th>\n",
       "      <td>4</td>\n",
       "      <td>Alan Brennert</td>\n",
       "    </tr>\n",
       "    <tr>\n",
       "      <th>4</th>\n",
       "      <td>5</td>\n",
       "      <td>Alan Moore/David   Lloyd</td>\n",
       "    </tr>\n",
       "  </tbody>\n",
       "</table>\n",
       "</div>"
      ],
      "text/plain": [
       "   author_id                          author\n",
       "0          1                      A.S. Byatt\n",
       "1          2  Aesop/Laura Harris/Laura Gibbs\n",
       "2          3                 Agatha Christie\n",
       "3          4                   Alan Brennert\n",
       "4          5        Alan Moore/David   Lloyd"
      ]
     },
     "execution_count": 2,
     "metadata": {},
     "output_type": "execute_result"
    }
   ],
   "source": [
    "query = '''SELECT * FROM authors LIMIT 5'''\n",
    "\n",
    "con=engine.connect()\n",
    "\n",
    "pd.io.sql.read_sql(sql=text(query), con = con)"
   ]
  },
  {
   "cell_type": "code",
   "execution_count": 3,
   "metadata": {},
   "outputs": [
    {
     "data": {
      "text/html": [
       "<div>\n",
       "<style scoped>\n",
       "    .dataframe tbody tr th:only-of-type {\n",
       "        vertical-align: middle;\n",
       "    }\n",
       "\n",
       "    .dataframe tbody tr th {\n",
       "        vertical-align: top;\n",
       "    }\n",
       "\n",
       "    .dataframe thead th {\n",
       "        text-align: right;\n",
       "    }\n",
       "</style>\n",
       "<table border=\"1\" class=\"dataframe\">\n",
       "  <thead>\n",
       "    <tr style=\"text-align: right;\">\n",
       "      <th></th>\n",
       "      <th>publisher_id</th>\n",
       "      <th>publisher</th>\n",
       "    </tr>\n",
       "  </thead>\n",
       "  <tbody>\n",
       "    <tr>\n",
       "      <th>0</th>\n",
       "      <td>1</td>\n",
       "      <td>Ace</td>\n",
       "    </tr>\n",
       "    <tr>\n",
       "      <th>1</th>\n",
       "      <td>2</td>\n",
       "      <td>Ace Book</td>\n",
       "    </tr>\n",
       "    <tr>\n",
       "      <th>2</th>\n",
       "      <td>3</td>\n",
       "      <td>Ace Books</td>\n",
       "    </tr>\n",
       "    <tr>\n",
       "      <th>3</th>\n",
       "      <td>4</td>\n",
       "      <td>Ace Hardcover</td>\n",
       "    </tr>\n",
       "    <tr>\n",
       "      <th>4</th>\n",
       "      <td>5</td>\n",
       "      <td>Addison Wesley Publishing Company</td>\n",
       "    </tr>\n",
       "  </tbody>\n",
       "</table>\n",
       "</div>"
      ],
      "text/plain": [
       "   publisher_id                          publisher\n",
       "0             1                                Ace\n",
       "1             2                           Ace Book\n",
       "2             3                          Ace Books\n",
       "3             4                      Ace Hardcover\n",
       "4             5  Addison Wesley Publishing Company"
      ]
     },
     "execution_count": 3,
     "metadata": {},
     "output_type": "execute_result"
    }
   ],
   "source": [
    "query = '''SELECT * FROM publishers LIMIT 5'''\n",
    "\n",
    "con=engine.connect()\n",
    "\n",
    "pd.io.sql.read_sql(sql=text(query), con = con)"
   ]
  },
  {
   "cell_type": "code",
   "execution_count": 4,
   "metadata": {},
   "outputs": [
    {
     "data": {
      "text/html": [
       "<div>\n",
       "<style scoped>\n",
       "    .dataframe tbody tr th:only-of-type {\n",
       "        vertical-align: middle;\n",
       "    }\n",
       "\n",
       "    .dataframe tbody tr th {\n",
       "        vertical-align: top;\n",
       "    }\n",
       "\n",
       "    .dataframe thead th {\n",
       "        text-align: right;\n",
       "    }\n",
       "</style>\n",
       "<table border=\"1\" class=\"dataframe\">\n",
       "  <thead>\n",
       "    <tr style=\"text-align: right;\">\n",
       "      <th></th>\n",
       "      <th>rating_id</th>\n",
       "      <th>book_id</th>\n",
       "      <th>username</th>\n",
       "      <th>rating</th>\n",
       "    </tr>\n",
       "  </thead>\n",
       "  <tbody>\n",
       "    <tr>\n",
       "      <th>0</th>\n",
       "      <td>1</td>\n",
       "      <td>1</td>\n",
       "      <td>ryanfranco</td>\n",
       "      <td>4</td>\n",
       "    </tr>\n",
       "    <tr>\n",
       "      <th>1</th>\n",
       "      <td>2</td>\n",
       "      <td>1</td>\n",
       "      <td>grantpatricia</td>\n",
       "      <td>2</td>\n",
       "    </tr>\n",
       "    <tr>\n",
       "      <th>2</th>\n",
       "      <td>3</td>\n",
       "      <td>1</td>\n",
       "      <td>brandtandrea</td>\n",
       "      <td>5</td>\n",
       "    </tr>\n",
       "    <tr>\n",
       "      <th>3</th>\n",
       "      <td>4</td>\n",
       "      <td>2</td>\n",
       "      <td>lorichen</td>\n",
       "      <td>3</td>\n",
       "    </tr>\n",
       "    <tr>\n",
       "      <th>4</th>\n",
       "      <td>5</td>\n",
       "      <td>2</td>\n",
       "      <td>mariokeller</td>\n",
       "      <td>2</td>\n",
       "    </tr>\n",
       "  </tbody>\n",
       "</table>\n",
       "</div>"
      ],
      "text/plain": [
       "   rating_id  book_id       username  rating\n",
       "0          1        1     ryanfranco       4\n",
       "1          2        1  grantpatricia       2\n",
       "2          3        1   brandtandrea       5\n",
       "3          4        2       lorichen       3\n",
       "4          5        2    mariokeller       2"
      ]
     },
     "execution_count": 4,
     "metadata": {},
     "output_type": "execute_result"
    }
   ],
   "source": [
    "query = '''SELECT * FROM ratings LIMIT 5'''\n",
    "\n",
    "con=engine.connect()\n",
    "\n",
    "pd.io.sql.read_sql(sql=text(query), con = con)"
   ]
  },
  {
   "cell_type": "code",
   "execution_count": 5,
   "metadata": {},
   "outputs": [
    {
     "data": {
      "text/html": [
       "<div>\n",
       "<style scoped>\n",
       "    .dataframe tbody tr th:only-of-type {\n",
       "        vertical-align: middle;\n",
       "    }\n",
       "\n",
       "    .dataframe tbody tr th {\n",
       "        vertical-align: top;\n",
       "    }\n",
       "\n",
       "    .dataframe thead th {\n",
       "        text-align: right;\n",
       "    }\n",
       "</style>\n",
       "<table border=\"1\" class=\"dataframe\">\n",
       "  <thead>\n",
       "    <tr style=\"text-align: right;\">\n",
       "      <th></th>\n",
       "      <th>review_id</th>\n",
       "      <th>book_id</th>\n",
       "      <th>username</th>\n",
       "      <th>text</th>\n",
       "    </tr>\n",
       "  </thead>\n",
       "  <tbody>\n",
       "    <tr>\n",
       "      <th>0</th>\n",
       "      <td>1</td>\n",
       "      <td>1</td>\n",
       "      <td>brandtandrea</td>\n",
       "      <td>Mention society tell send professor analysis. ...</td>\n",
       "    </tr>\n",
       "    <tr>\n",
       "      <th>1</th>\n",
       "      <td>2</td>\n",
       "      <td>1</td>\n",
       "      <td>ryanfranco</td>\n",
       "      <td>Foot glass pretty audience hit themselves. Amo...</td>\n",
       "    </tr>\n",
       "    <tr>\n",
       "      <th>2</th>\n",
       "      <td>3</td>\n",
       "      <td>2</td>\n",
       "      <td>lorichen</td>\n",
       "      <td>Listen treat keep worry. Miss husband tax but ...</td>\n",
       "    </tr>\n",
       "    <tr>\n",
       "      <th>3</th>\n",
       "      <td>4</td>\n",
       "      <td>3</td>\n",
       "      <td>johnsonamanda</td>\n",
       "      <td>Finally month interesting blue could nature cu...</td>\n",
       "    </tr>\n",
       "    <tr>\n",
       "      <th>4</th>\n",
       "      <td>5</td>\n",
       "      <td>3</td>\n",
       "      <td>scotttamara</td>\n",
       "      <td>Nation purpose heavy give wait song will. List...</td>\n",
       "    </tr>\n",
       "  </tbody>\n",
       "</table>\n",
       "</div>"
      ],
      "text/plain": [
       "   review_id  book_id       username  \\\n",
       "0          1        1   brandtandrea   \n",
       "1          2        1     ryanfranco   \n",
       "2          3        2       lorichen   \n",
       "3          4        3  johnsonamanda   \n",
       "4          5        3    scotttamara   \n",
       "\n",
       "                                                text  \n",
       "0  Mention society tell send professor analysis. ...  \n",
       "1  Foot glass pretty audience hit themselves. Amo...  \n",
       "2  Listen treat keep worry. Miss husband tax but ...  \n",
       "3  Finally month interesting blue could nature cu...  \n",
       "4  Nation purpose heavy give wait song will. List...  "
      ]
     },
     "execution_count": 5,
     "metadata": {},
     "output_type": "execute_result"
    }
   ],
   "source": [
    "query = '''SELECT * FROM reviews LIMIT 5'''\n",
    "\n",
    "con=engine.connect()\n",
    "\n",
    "pd.io.sql.read_sql(sql=text(query), con = con)"
   ]
  },
  {
   "cell_type": "markdown",
   "metadata": {},
   "source": [
    "###### Найдем какое количество книг вышло после 1 января 2000 года;"
   ]
  },
  {
   "cell_type": "code",
   "execution_count": 6,
   "metadata": {},
   "outputs": [
    {
     "data": {
      "text/html": [
       "<div>\n",
       "<style scoped>\n",
       "    .dataframe tbody tr th:only-of-type {\n",
       "        vertical-align: middle;\n",
       "    }\n",
       "\n",
       "    .dataframe tbody tr th {\n",
       "        vertical-align: top;\n",
       "    }\n",
       "\n",
       "    .dataframe thead th {\n",
       "        text-align: right;\n",
       "    }\n",
       "</style>\n",
       "<table border=\"1\" class=\"dataframe\">\n",
       "  <thead>\n",
       "    <tr style=\"text-align: right;\">\n",
       "      <th></th>\n",
       "      <th>count</th>\n",
       "    </tr>\n",
       "  </thead>\n",
       "  <tbody>\n",
       "    <tr>\n",
       "      <th>0</th>\n",
       "      <td>819</td>\n",
       "    </tr>\n",
       "  </tbody>\n",
       "</table>\n",
       "</div>"
      ],
      "text/plain": [
       "   count\n",
       "0    819"
      ]
     },
     "execution_count": 6,
     "metadata": {},
     "output_type": "execute_result"
    }
   ],
   "source": [
    "query = '''SELECT COUNT(book_id) \n",
    "FROM books \n",
    "WHERE publication_date>'2000-01-01' \n",
    "LIMIT 5'''\n",
    "\n",
    "con=engine.connect()\n",
    "\n",
    "pd.io.sql.read_sql(sql=text(query), con = con)"
   ]
  },
  {
   "cell_type": "markdown",
   "metadata": {},
   "source": [
    "Вывод: за период с 01/01/2000 было выпущено 819 книг"
   ]
  },
  {
   "cell_type": "markdown",
   "metadata": {},
   "source": [
    "###### Посчитаем количество обзоров и среднюю оценку;"
   ]
  },
  {
   "cell_type": "code",
   "execution_count": 12,
   "metadata": {},
   "outputs": [
    {
     "data": {
      "text/html": [
       "<div>\n",
       "<style scoped>\n",
       "    .dataframe tbody tr th:only-of-type {\n",
       "        vertical-align: middle;\n",
       "    }\n",
       "\n",
       "    .dataframe tbody tr th {\n",
       "        vertical-align: top;\n",
       "    }\n",
       "\n",
       "    .dataframe thead th {\n",
       "        text-align: right;\n",
       "    }\n",
       "</style>\n",
       "<table border=\"1\" class=\"dataframe\">\n",
       "  <thead>\n",
       "    <tr style=\"text-align: right;\">\n",
       "      <th></th>\n",
       "      <th>book_id</th>\n",
       "      <th>title</th>\n",
       "      <th>mean_rating</th>\n",
       "      <th>review_quantity</th>\n",
       "    </tr>\n",
       "  </thead>\n",
       "  <tbody>\n",
       "    <tr>\n",
       "      <th>0</th>\n",
       "      <td>948</td>\n",
       "      <td>Twilight (Twilight  #1)</td>\n",
       "      <td>3.662500</td>\n",
       "      <td>7</td>\n",
       "    </tr>\n",
       "    <tr>\n",
       "      <th>1</th>\n",
       "      <td>963</td>\n",
       "      <td>Water for Elephants</td>\n",
       "      <td>3.977273</td>\n",
       "      <td>6</td>\n",
       "    </tr>\n",
       "    <tr>\n",
       "      <th>2</th>\n",
       "      <td>734</td>\n",
       "      <td>The Glass Castle</td>\n",
       "      <td>4.206897</td>\n",
       "      <td>6</td>\n",
       "    </tr>\n",
       "    <tr>\n",
       "      <th>3</th>\n",
       "      <td>302</td>\n",
       "      <td>Harry Potter and the Prisoner of Azkaban (Harr...</td>\n",
       "      <td>4.414634</td>\n",
       "      <td>6</td>\n",
       "    </tr>\n",
       "    <tr>\n",
       "      <th>4</th>\n",
       "      <td>695</td>\n",
       "      <td>The Curious Incident of the Dog in the Night-Time</td>\n",
       "      <td>4.081081</td>\n",
       "      <td>6</td>\n",
       "    </tr>\n",
       "    <tr>\n",
       "      <th>...</th>\n",
       "      <td>...</td>\n",
       "      <td>...</td>\n",
       "      <td>...</td>\n",
       "      <td>...</td>\n",
       "    </tr>\n",
       "    <tr>\n",
       "      <th>995</th>\n",
       "      <td>83</td>\n",
       "      <td>Anne Rice's The Vampire Lestat: A Graphic Novel</td>\n",
       "      <td>3.666667</td>\n",
       "      <td>0</td>\n",
       "    </tr>\n",
       "    <tr>\n",
       "      <th>996</th>\n",
       "      <td>808</td>\n",
       "      <td>The Natural Way to Draw</td>\n",
       "      <td>3.000000</td>\n",
       "      <td>0</td>\n",
       "    </tr>\n",
       "    <tr>\n",
       "      <th>997</th>\n",
       "      <td>672</td>\n",
       "      <td>The Cat in the Hat and Other Dr. Seuss Favorites</td>\n",
       "      <td>5.000000</td>\n",
       "      <td>0</td>\n",
       "    </tr>\n",
       "    <tr>\n",
       "      <th>998</th>\n",
       "      <td>221</td>\n",
       "      <td>Essential Tales and Poems</td>\n",
       "      <td>4.000000</td>\n",
       "      <td>0</td>\n",
       "    </tr>\n",
       "    <tr>\n",
       "      <th>999</th>\n",
       "      <td>191</td>\n",
       "      <td>Disney's Beauty and the Beast (A Little Golden...</td>\n",
       "      <td>4.000000</td>\n",
       "      <td>0</td>\n",
       "    </tr>\n",
       "  </tbody>\n",
       "</table>\n",
       "<p>1000 rows × 4 columns</p>\n",
       "</div>"
      ],
      "text/plain": [
       "     book_id                                              title  mean_rating  \\\n",
       "0        948                            Twilight (Twilight  #1)     3.662500   \n",
       "1        963                                Water for Elephants     3.977273   \n",
       "2        734                                   The Glass Castle     4.206897   \n",
       "3        302  Harry Potter and the Prisoner of Azkaban (Harr...     4.414634   \n",
       "4        695  The Curious Incident of the Dog in the Night-Time     4.081081   \n",
       "..       ...                                                ...          ...   \n",
       "995       83    Anne Rice's The Vampire Lestat: A Graphic Novel     3.666667   \n",
       "996      808                            The Natural Way to Draw     3.000000   \n",
       "997      672   The Cat in the Hat and Other Dr. Seuss Favorites     5.000000   \n",
       "998      221                          Essential Tales and Poems     4.000000   \n",
       "999      191  Disney's Beauty and the Beast (A Little Golden...     4.000000   \n",
       "\n",
       "     review_quantity  \n",
       "0                  7  \n",
       "1                  6  \n",
       "2                  6  \n",
       "3                  6  \n",
       "4                  6  \n",
       "..               ...  \n",
       "995                0  \n",
       "996                0  \n",
       "997                0  \n",
       "998                0  \n",
       "999                0  \n",
       "\n",
       "[1000 rows x 4 columns]"
      ]
     },
     "execution_count": 12,
     "metadata": {},
     "output_type": "execute_result"
    }
   ],
   "source": [
    "query = '''SELECT bo.book_id,\n",
    "bo.title,\n",
    "AVG(ra.rating) AS mean_rating,\n",
    "COUNT(DISTINCT re.review_id) AS review_quantity\n",
    "FROM books AS bo\n",
    "LEFT OUTER JOIN ratings AS ra ON bo.book_id=ra.book_id\n",
    "LEFT OUTER JOIN reviews AS re ON bo.book_id=re.book_id\n",
    "GROUP BY bo.book_id\n",
    "ORDER BY COUNT(DISTINCT re.review_id) DESC'''\n",
    "\n",
    "con=engine.connect()\n",
    "\n",
    "pd.io.sql.read_sql(sql=text(query), con = con)"
   ]
  },
  {
   "cell_type": "markdown",
   "metadata": {},
   "source": [
    "Всего по выгрузке получилось 1000 книг. Каждому ID книги соответсвует количество обзоров и средний рейтинг. Количество обзоров вариируется в пределах от 0 до 7. Максимальное количество 7 по книге с ID 948. Средние рейтинги вариируеются от 1,5 до 5. 5-максимальный рейтинг."
   ]
  },
  {
   "cell_type": "markdown",
   "metadata": {},
   "source": [
    "###### Определим издательство, которое выпустило наибольшее число книг толще 50 страниц"
   ]
  },
  {
   "cell_type": "code",
   "execution_count": 8,
   "metadata": {},
   "outputs": [
    {
     "data": {
      "text/html": [
       "<div>\n",
       "<style scoped>\n",
       "    .dataframe tbody tr th:only-of-type {\n",
       "        vertical-align: middle;\n",
       "    }\n",
       "\n",
       "    .dataframe tbody tr th {\n",
       "        vertical-align: top;\n",
       "    }\n",
       "\n",
       "    .dataframe thead th {\n",
       "        text-align: right;\n",
       "    }\n",
       "</style>\n",
       "<table border=\"1\" class=\"dataframe\">\n",
       "  <thead>\n",
       "    <tr style=\"text-align: right;\">\n",
       "      <th></th>\n",
       "      <th>publisher</th>\n",
       "      <th>quantity</th>\n",
       "    </tr>\n",
       "  </thead>\n",
       "  <tbody>\n",
       "    <tr>\n",
       "      <th>0</th>\n",
       "      <td>Penguin Books</td>\n",
       "      <td>42</td>\n",
       "    </tr>\n",
       "    <tr>\n",
       "      <th>1</th>\n",
       "      <td>Vintage</td>\n",
       "      <td>31</td>\n",
       "    </tr>\n",
       "    <tr>\n",
       "      <th>2</th>\n",
       "      <td>Grand Central Publishing</td>\n",
       "      <td>25</td>\n",
       "    </tr>\n",
       "    <tr>\n",
       "      <th>3</th>\n",
       "      <td>Penguin Classics</td>\n",
       "      <td>24</td>\n",
       "    </tr>\n",
       "    <tr>\n",
       "      <th>4</th>\n",
       "      <td>Ballantine Books</td>\n",
       "      <td>19</td>\n",
       "    </tr>\n",
       "    <tr>\n",
       "      <th>...</th>\n",
       "      <td>...</td>\n",
       "      <td>...</td>\n",
       "    </tr>\n",
       "    <tr>\n",
       "      <th>329</th>\n",
       "      <td>Turtleback</td>\n",
       "      <td>1</td>\n",
       "    </tr>\n",
       "    <tr>\n",
       "      <th>330</th>\n",
       "      <td>Atheneum Books for Young Readers: Richard Jack...</td>\n",
       "      <td>1</td>\n",
       "    </tr>\n",
       "    <tr>\n",
       "      <th>331</th>\n",
       "      <td>Penguin Signet</td>\n",
       "      <td>1</td>\n",
       "    </tr>\n",
       "    <tr>\n",
       "      <th>332</th>\n",
       "      <td>Victor Gollancz</td>\n",
       "      <td>1</td>\n",
       "    </tr>\n",
       "    <tr>\n",
       "      <th>333</th>\n",
       "      <td>Harvard Business Review Press</td>\n",
       "      <td>1</td>\n",
       "    </tr>\n",
       "  </tbody>\n",
       "</table>\n",
       "<p>334 rows × 2 columns</p>\n",
       "</div>"
      ],
      "text/plain": [
       "                                             publisher  quantity\n",
       "0                                        Penguin Books        42\n",
       "1                                              Vintage        31\n",
       "2                             Grand Central Publishing        25\n",
       "3                                     Penguin Classics        24\n",
       "4                                     Ballantine Books        19\n",
       "..                                                 ...       ...\n",
       "329                                         Turtleback         1\n",
       "330  Atheneum Books for Young Readers: Richard Jack...         1\n",
       "331                                     Penguin Signet         1\n",
       "332                                    Victor Gollancz         1\n",
       "333                      Harvard Business Review Press         1\n",
       "\n",
       "[334 rows x 2 columns]"
      ]
     },
     "execution_count": 8,
     "metadata": {},
     "output_type": "execute_result"
    }
   ],
   "source": [
    "query = '''SELECT pu.publisher,\n",
    "COUNT(bo.book_id) AS quantity\n",
    "FROM books AS bo\n",
    "JOIN publishers AS pu ON bo.publisher_id=pu.publisher_id\n",
    "WHERE bo.num_pages>50\n",
    "GROUP BY pu.publisher\n",
    "ORDER BY COUNT(bo.book_id) DESC'''\n",
    "\n",
    "con=engine.connect()\n",
    "\n",
    "pd.io.sql.read_sql(sql=text(query), con = con)"
   ]
  },
  {
   "cell_type": "markdown",
   "metadata": {},
   "source": [
    "По примененным фильтрам получилось 334 издательства, которые выпустили книги, тольщиной более 50 страниц. Первая 5-ка по количеству книг: Penguin Books-42, Vintage-31, Grand Central Publishing-25, Penguin Classics-24, Ballantine Books-19. Последняя 5-ка: Turtleback - 1, Atheneum Books for Young Readers: Richard Jack - 1, Penguin Signet- 1, Victor Gollancz-1, Harvard Business Review Press - 1."
   ]
  },
  {
   "cell_type": "markdown",
   "metadata": {},
   "source": [
    "###### Найдем автора с самой высокой средней оценкой книг (только книги с 50 и более оценками)"
   ]
  },
  {
   "cell_type": "code",
   "execution_count": 9,
   "metadata": {},
   "outputs": [
    {
     "data": {
      "text/html": [
       "<div>\n",
       "<style scoped>\n",
       "    .dataframe tbody tr th:only-of-type {\n",
       "        vertical-align: middle;\n",
       "    }\n",
       "\n",
       "    .dataframe tbody tr th {\n",
       "        vertical-align: top;\n",
       "    }\n",
       "\n",
       "    .dataframe thead th {\n",
       "        text-align: right;\n",
       "    }\n",
       "</style>\n",
       "<table border=\"1\" class=\"dataframe\">\n",
       "  <thead>\n",
       "    <tr style=\"text-align: right;\">\n",
       "      <th></th>\n",
       "      <th>author</th>\n",
       "      <th>avg</th>\n",
       "    </tr>\n",
       "  </thead>\n",
       "  <tbody>\n",
       "    <tr>\n",
       "      <th>0</th>\n",
       "      <td>J.K. Rowling/Mary GrandPré</td>\n",
       "      <td>4.287097</td>\n",
       "    </tr>\n",
       "  </tbody>\n",
       "</table>\n",
       "</div>"
      ],
      "text/plain": [
       "                       author       avg\n",
       "0  J.K. Rowling/Mary GrandPré  4.287097"
      ]
     },
     "execution_count": 9,
     "metadata": {},
     "output_type": "execute_result"
    }
   ],
   "source": [
    "query = '''SELECT au.author, \n",
    "AVG(ra.rating)\n",
    "FROM authors as au\n",
    "LEFT JOIN books as bo ON au.author_id = bo.author_id\n",
    "LEFT JOIN ratings as ra ON bo.book_id= ra.book_id\n",
    "WHERE bo.book_id in (SELECT book_id\n",
    "                    from ratings\n",
    "                    group by book_id\n",
    "                    having count(rating)>=50\n",
    "                    order by count(rating) desc)\n",
    "GROUP BY au.author\n",
    "ORDER BY AVG(ra.rating) DESC\n",
    "LIMIT 1\n",
    "'''\n",
    "\n",
    "con=engine.connect()\n",
    "\n",
    "pd.io.sql.read_sql(sql=text(query), con = con)"
   ]
  },
  {
   "cell_type": "markdown",
   "metadata": {},
   "source": [
    "Автор с самой высокой средней оценкой, по книгам которого более 50 оценок J.K. Rowling/Mary GrandPré - 4.288462"
   ]
  },
  {
   "cell_type": "markdown",
   "metadata": {},
   "source": [
    "###### Посчитаем среднее количество обзоров от пользователей, которые поставили больше 48 оценок."
   ]
  },
  {
   "cell_type": "code",
   "execution_count": 10,
   "metadata": {},
   "outputs": [
    {
     "data": {
      "text/html": [
       "<div>\n",
       "<style scoped>\n",
       "    .dataframe tbody tr th:only-of-type {\n",
       "        vertical-align: middle;\n",
       "    }\n",
       "\n",
       "    .dataframe tbody tr th {\n",
       "        vertical-align: top;\n",
       "    }\n",
       "\n",
       "    .dataframe thead th {\n",
       "        text-align: right;\n",
       "    }\n",
       "</style>\n",
       "<table border=\"1\" class=\"dataframe\">\n",
       "  <thead>\n",
       "    <tr style=\"text-align: right;\">\n",
       "      <th></th>\n",
       "      <th>avg</th>\n",
       "    </tr>\n",
       "  </thead>\n",
       "  <tbody>\n",
       "    <tr>\n",
       "      <th>0</th>\n",
       "      <td>24.0</td>\n",
       "    </tr>\n",
       "  </tbody>\n",
       "</table>\n",
       "</div>"
      ],
      "text/plain": [
       "    avg\n",
       "0  24.0"
      ]
     },
     "execution_count": 10,
     "metadata": {},
     "output_type": "execute_result"
    }
   ],
   "source": [
    "query = '''\n",
    "\n",
    "SELECT AVG(r.quantity)\n",
    "FROM (SELECT username,\n",
    "    COUNT(review_id) AS quantity\n",
    "    FROM reviews\n",
    "    WHERE username in (SELECT username\n",
    "                        FROM ratings\n",
    "                        GROUP BY username\n",
    "                        HAVING COUNT(rating)>48)\n",
    "    GROUP BY username) AS r\n",
    "'''\n",
    "\n",
    "con=engine.connect()\n",
    "\n",
    "pd.io.sql.read_sql(sql=text(query), con = con)"
   ]
  },
  {
   "cell_type": "markdown",
   "metadata": {},
   "source": [
    "Среднее количество обзоров от пользователей, которые поставили больше 48 оценок равно 24"
   ]
  },
  {
   "cell_type": "code",
   "execution_count": 11,
   "metadata": {},
   "outputs": [
    {
     "data": {
      "text/html": [
       "<div>\n",
       "<style scoped>\n",
       "    .dataframe tbody tr th:only-of-type {\n",
       "        vertical-align: middle;\n",
       "    }\n",
       "\n",
       "    .dataframe tbody tr th {\n",
       "        vertical-align: top;\n",
       "    }\n",
       "\n",
       "    .dataframe thead th {\n",
       "        text-align: right;\n",
       "    }\n",
       "</style>\n",
       "<table border=\"1\" class=\"dataframe\">\n",
       "  <thead>\n",
       "    <tr style=\"text-align: right;\">\n",
       "      <th></th>\n",
       "      <th>count</th>\n",
       "    </tr>\n",
       "  </thead>\n",
       "  <tbody>\n",
       "    <tr>\n",
       "      <th>0</th>\n",
       "      <td>2793</td>\n",
       "    </tr>\n",
       "  </tbody>\n",
       "</table>\n",
       "</div>"
      ],
      "text/plain": [
       "   count\n",
       "0   2793"
      ]
     },
     "execution_count": 11,
     "metadata": {},
     "output_type": "execute_result"
    }
   ],
   "source": [
    "#КОД РЕВЬЮЕРА\n",
    "query = '''SELECT COUNT(*) FROM reviews'''\n",
    "\n",
    "con=engine.connect()\n",
    "\n",
    "pd.io.sql.read_sql(sql=text(query), con = con)"
   ]
  },
  {
   "cell_type": "markdown",
   "metadata": {},
   "source": [
    "Итоговый вывод:\n",
    "Было изучено 5 датасетов, выполнено 5 заданий со следующим результатом:\n",
    "\n",
    "1. за период с 01/01/2000 было выпущено 819 книг\n",
    "2. Всего по выгрузке получилось 1000 книг. Каждому ID книги соответсвует количество обзоров и средний рейтинг. Количество обзоров вариируется в пределах от 0 до 7. Максимальное количество 7 по книге с ID 948. Средние рейтинги вариируеются от 1,5 до 5. 5-максимальный рейтинг.\n",
    "3. По примененным фильтрам получилось 334 издательства, которые выпустили книги, тольщиной более 50 страниц. Первая 5-ка по количеству книг: Penguin Books-42, Vintage-31, Grand Central Publishing-25, Penguin Classics-24, Ballantine Books-19. Последняя 5-ка: Turtleback - 1, Atheneum Books for Young Readers: Richard Jack - 1, Penguin Signet- 1, Victor Gollancz-1, Harvard Business Review Press - 1.\n",
    "4. Автор с самой высокой средней оценкой, по книгам которого более 50 оценок J.K. Rowling/Mary GrandPré - 4.288462\n",
    "5. Среднее количество обзоров от пользователей, которые поставили больше 48 оценок равно 24"
   ]
  },
  {
   "cell_type": "code",
   "execution_count": null,
   "metadata": {},
   "outputs": [],
   "source": []
  }
 ],
 "metadata": {
  "ExecuteTimeLog": [
   {
    "duration": 104,
    "start_time": "2023-07-25T19:13:30.993Z"
   },
   {
    "duration": 84,
    "start_time": "2023-07-25T19:13:35.501Z"
   },
   {
    "duration": 237,
    "start_time": "2023-07-25T19:14:42.723Z"
   },
   {
    "duration": 138,
    "start_time": "2023-07-25T19:15:10.794Z"
   },
   {
    "duration": 86,
    "start_time": "2023-07-25T19:15:48.412Z"
   },
   {
    "duration": 57,
    "start_time": "2023-07-25T19:16:29.065Z"
   },
   {
    "duration": 57,
    "start_time": "2023-07-25T19:17:10.196Z"
   },
   {
    "duration": 64,
    "start_time": "2023-07-25T19:17:51.906Z"
   },
   {
    "duration": 12367,
    "start_time": "2023-07-26T16:43:17.008Z"
   },
   {
    "duration": 248,
    "start_time": "2023-07-26T16:45:16.338Z"
   },
   {
    "duration": 238,
    "start_time": "2023-07-26T16:45:24.264Z"
   },
   {
    "duration": 239,
    "start_time": "2023-07-26T16:46:06.987Z"
   },
   {
    "duration": 259,
    "start_time": "2023-07-26T16:46:30.327Z"
   },
   {
    "duration": 123,
    "start_time": "2023-07-26T16:46:33.674Z"
   },
   {
    "duration": 55,
    "start_time": "2023-07-26T16:46:57.001Z"
   },
   {
    "duration": 54,
    "start_time": "2023-07-26T16:47:21.095Z"
   },
   {
    "duration": 56,
    "start_time": "2023-07-26T16:47:30.668Z"
   },
   {
    "duration": 8134,
    "start_time": "2023-07-26T19:24:19.952Z"
   },
   {
    "duration": 123,
    "start_time": "2023-07-26T19:24:28.087Z"
   },
   {
    "duration": 50,
    "start_time": "2023-07-26T19:24:28.212Z"
   },
   {
    "duration": 52,
    "start_time": "2023-07-26T19:24:28.264Z"
   },
   {
    "duration": 53,
    "start_time": "2023-07-26T19:24:28.317Z"
   },
   {
    "duration": 52,
    "start_time": "2023-07-26T19:24:28.372Z"
   },
   {
    "duration": 77,
    "start_time": "2023-07-26T19:24:28.425Z"
   },
   {
    "duration": 55,
    "start_time": "2023-07-26T19:24:28.503Z"
   },
   {
    "duration": 55,
    "start_time": "2023-07-26T19:24:28.560Z"
   },
   {
    "duration": 64,
    "start_time": "2023-07-26T19:24:28.617Z"
   },
   {
    "duration": 51,
    "start_time": "2023-07-26T19:24:28.683Z"
   },
   {
    "duration": 55,
    "start_time": "2023-07-26T19:27:41.996Z"
   },
   {
    "duration": 13433,
    "start_time": "2023-07-26T19:34:03.109Z"
   },
   {
    "duration": 116,
    "start_time": "2023-07-26T19:34:16.544Z"
   },
   {
    "duration": 54,
    "start_time": "2023-07-26T19:34:16.661Z"
   },
   {
    "duration": 53,
    "start_time": "2023-07-26T19:34:16.718Z"
   },
   {
    "duration": 53,
    "start_time": "2023-07-26T19:34:16.773Z"
   },
   {
    "duration": 52,
    "start_time": "2023-07-26T19:34:16.827Z"
   },
   {
    "duration": 70,
    "start_time": "2023-07-26T19:34:16.880Z"
   },
   {
    "duration": 56,
    "start_time": "2023-07-26T19:34:16.951Z"
   },
   {
    "duration": 57,
    "start_time": "2023-07-26T19:34:17.009Z"
   },
   {
    "duration": 65,
    "start_time": "2023-07-26T19:34:17.069Z"
   },
   {
    "duration": 51,
    "start_time": "2023-07-26T19:34:17.136Z"
   },
   {
    "duration": 89,
    "start_time": "2023-07-26T19:44:49.790Z"
   },
   {
    "duration": 89,
    "start_time": "2023-07-26T19:47:49.251Z"
   },
   {
    "duration": 93,
    "start_time": "2023-07-26T19:49:33.491Z"
   },
   {
    "duration": 89,
    "start_time": "2023-07-26T19:55:08.094Z"
   },
   {
    "duration": 135,
    "start_time": "2023-07-26T19:58:09.481Z"
   },
   {
    "duration": 62,
    "start_time": "2023-07-26T20:03:28.110Z"
   },
   {
    "duration": 126,
    "start_time": "2023-07-26T20:04:45.605Z"
   },
   {
    "duration": 182,
    "start_time": "2023-07-26T20:39:43.413Z"
   },
   {
    "duration": 101,
    "start_time": "2023-07-26T20:40:41.316Z"
   },
   {
    "duration": 82,
    "start_time": "2023-07-26T20:41:21.650Z"
   },
   {
    "duration": 61,
    "start_time": "2023-07-26T20:41:45.786Z"
   },
   {
    "duration": 73,
    "start_time": "2023-07-26T20:42:08.290Z"
   },
   {
    "duration": 78,
    "start_time": "2023-07-26T20:42:22.968Z"
   },
   {
    "duration": 80,
    "start_time": "2023-07-26T20:42:37.995Z"
   },
   {
    "duration": 147,
    "start_time": "2023-07-26T20:44:59.775Z"
   },
   {
    "duration": 83,
    "start_time": "2023-07-26T20:45:22.982Z"
   },
   {
    "duration": 77,
    "start_time": "2023-07-26T20:47:29.387Z"
   },
   {
    "duration": 104,
    "start_time": "2023-07-26T20:50:48.571Z"
   },
   {
    "duration": 81,
    "start_time": "2023-07-26T20:51:04.684Z"
   },
   {
    "duration": 97,
    "start_time": "2023-07-26T20:55:24.587Z"
   },
   {
    "duration": 163,
    "start_time": "2023-07-26T20:59:23.098Z"
   },
   {
    "duration": 91,
    "start_time": "2023-07-26T21:02:16.742Z"
   },
   {
    "duration": 83,
    "start_time": "2023-07-26T21:02:41.337Z"
   },
   {
    "duration": 46,
    "start_time": "2023-07-26T21:03:01.101Z"
   },
   {
    "duration": 239,
    "start_time": "2023-07-26T21:24:00.992Z"
   },
   {
    "duration": 67,
    "start_time": "2023-07-26T21:25:48.276Z"
   },
   {
    "duration": 197,
    "start_time": "2023-07-26T21:26:31.431Z"
   },
   {
    "duration": 164,
    "start_time": "2023-07-26T21:27:03.302Z"
   },
   {
    "duration": 66,
    "start_time": "2023-07-26T21:27:42.049Z"
   },
   {
    "duration": 72,
    "start_time": "2023-07-26T21:37:18.378Z"
   },
   {
    "duration": 102,
    "start_time": "2023-07-26T21:38:31.482Z"
   },
   {
    "duration": 72,
    "start_time": "2023-07-26T21:39:01.397Z"
   },
   {
    "duration": 76,
    "start_time": "2023-07-26T21:44:59.706Z"
   },
   {
    "duration": 59,
    "start_time": "2023-07-26T21:45:17.588Z"
   },
   {
    "duration": 55,
    "start_time": "2023-07-26T21:48:40.780Z"
   },
   {
    "duration": 72,
    "start_time": "2023-07-26T22:09:19.482Z"
   },
   {
    "duration": 45,
    "start_time": "2023-07-26T22:09:49.999Z"
   },
   {
    "duration": 76,
    "start_time": "2023-07-26T22:17:33.802Z"
   },
   {
    "duration": 63,
    "start_time": "2023-07-26T22:20:43.889Z"
   },
   {
    "duration": 74,
    "start_time": "2023-07-26T22:21:55.408Z"
   },
   {
    "duration": 70,
    "start_time": "2023-07-26T22:22:22.182Z"
   },
   {
    "duration": 185,
    "start_time": "2023-07-26T22:23:25.638Z"
   },
   {
    "duration": 185,
    "start_time": "2023-07-26T22:23:44.338Z"
   },
   {
    "duration": 84,
    "start_time": "2023-07-26T22:24:08.228Z"
   },
   {
    "duration": 80,
    "start_time": "2023-07-26T22:24:22.741Z"
   },
   {
    "duration": 75,
    "start_time": "2023-07-26T22:24:54.429Z"
   },
   {
    "duration": 44,
    "start_time": "2023-07-26T22:25:46.284Z"
   },
   {
    "duration": 148,
    "start_time": "2023-07-26T22:26:38.176Z"
   },
   {
    "duration": 55,
    "start_time": "2023-07-26T22:26:58.285Z"
   },
   {
    "duration": 8,
    "start_time": "2023-07-26T22:27:49.927Z"
   },
   {
    "duration": 87,
    "start_time": "2023-07-26T22:28:12.177Z"
   },
   {
    "duration": 82,
    "start_time": "2023-07-27T03:56:37.321Z"
   },
   {
    "duration": 12875,
    "start_time": "2023-07-27T03:56:45.092Z"
   },
   {
    "duration": 144,
    "start_time": "2023-07-27T03:56:57.970Z"
   },
   {
    "duration": 57,
    "start_time": "2023-07-27T03:56:58.116Z"
   },
   {
    "duration": 63,
    "start_time": "2023-07-27T03:56:58.176Z"
   },
   {
    "duration": 59,
    "start_time": "2023-07-27T03:56:58.241Z"
   },
   {
    "duration": 83,
    "start_time": "2023-07-27T03:56:58.302Z"
   },
   {
    "duration": 85,
    "start_time": "2023-07-27T03:56:58.387Z"
   },
   {
    "duration": 199,
    "start_time": "2023-07-27T03:56:58.475Z"
   },
   {
    "duration": 61,
    "start_time": "2023-07-27T03:56:58.676Z"
   },
   {
    "duration": 61,
    "start_time": "2023-07-27T03:56:58.741Z"
   },
   {
    "duration": 53,
    "start_time": "2023-07-27T03:56:58.804Z"
   },
   {
    "duration": 91,
    "start_time": "2023-07-27T03:57:46.493Z"
   }
  ],
  "kernelspec": {
   "display_name": "Python 3 (ipykernel)",
   "language": "python",
   "name": "python3"
  },
  "language_info": {
   "codemirror_mode": {
    "name": "ipython",
    "version": 3
   },
   "file_extension": ".py",
   "mimetype": "text/x-python",
   "name": "python",
   "nbconvert_exporter": "python",
   "pygments_lexer": "ipython3",
   "version": "3.10.9"
  },
  "toc": {
   "base_numbering": 1,
   "nav_menu": {},
   "number_sections": true,
   "sideBar": true,
   "skip_h1_title": true,
   "title_cell": "Table of Contents",
   "title_sidebar": "Contents",
   "toc_cell": false,
   "toc_position": {},
   "toc_section_display": true,
   "toc_window_display": false
  }
 },
 "nbformat": 4,
 "nbformat_minor": 2
}
