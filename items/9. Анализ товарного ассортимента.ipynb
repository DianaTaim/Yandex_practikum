{
 "cells": [
  {
   "cell_type": "markdown",
   "metadata": {},
   "source": [
    "# Проект \"Анализ товарного ассортимента\""
   ]
  },
  {
   "cell_type": "markdown",
   "metadata": {},
   "source": [
    "План работы:\n",
    "\n",
    "1. Знакомство с данными\n",
    "2. Предобработка данных\n",
    "- привести формат даты в соответствие\n",
    "- проверить датасет на дубликаты и пропуски\n",
    "- проверить уникальыне значения\n",
    "3. Исследователький анализ\n",
    "- определить начало и конец исследуемого периода\n",
    "- добавление дополнительных столбцов по дням недели и месяцам\n",
    "- добавить столбец с категорией по столбцу product\n",
    "- найти аномалии по количеству продуктов в заказе\n",
    "- добавить столбцы с кластеризацией по столбцам price и quantity на основной, дополнительный, вывод из ассортимента\n",
    "- найти ТОП 5 продуктов по выручке и по количество в покупках\n",
    "- построить графики \n",
    "- сформулировать и проверить гипотезы (различие между основной и дополнительной категорией)\n",
    "4. Выводы и рекомендации\n",
    "5. Подготовить презентацию\n",
    "6. Постоить дэшборд"
   ]
  },
  {
   "cell_type": "markdown",
   "metadata": {},
   "source": [
    "Описание данных:\n",
    "\n",
    "- date — дата заказа;\n",
    "- customer_id — идентификатор покупателя;\n",
    "- order_id — идентификатор заказа;\n",
    "- product — наименование товара;\n",
    "- quantity — количество товара в заказе;\n",
    "- price — цена товара"
   ]
  },
  {
   "cell_type": "markdown",
   "metadata": {},
   "source": [
    "### Знакомство с данными"
   ]
  },
  {
   "cell_type": "code",
   "execution_count": 1,
   "metadata": {},
   "outputs": [],
   "source": [
    "import pandas as pd\n",
    "import matplotlib.pyplot as plt \n",
    "import seaborn as sns\n",
    "from scipy import stats as st\n",
    "import numpy as np\n",
    "import warnings\n",
    "warnings.simplefilter('ignore')"
   ]
  },
  {
   "cell_type": "code",
   "execution_count": 2,
   "metadata": {},
   "outputs": [],
   "source": [
    "try:\n",
    "    df = pd.read_csv('/datasets/ecommerce_dataset.csv', sep=',')\n",
    "except:\n",
    "    df = pd.read_csv('https://code.s3.yandex.net/datasets/ecommerce_dataset.csv', sep=',')"
   ]
  },
  {
   "cell_type": "code",
   "execution_count": 3,
   "metadata": {},
   "outputs": [
    {
     "name": "stdout",
     "output_type": "stream",
     "text": [
      "<class 'pandas.core.frame.DataFrame'>\n",
      "RangeIndex: 6737 entries, 0 to 6736\n",
      "Data columns (total 6 columns):\n",
      " #   Column       Non-Null Count  Dtype  \n",
      "---  ------       --------------  -----  \n",
      " 0   date         6737 non-null   int64  \n",
      " 1   customer_id  6737 non-null   object \n",
      " 2   order_id     6737 non-null   int64  \n",
      " 3   product      6737 non-null   object \n",
      " 4   quantity     6737 non-null   int64  \n",
      " 5   price        6737 non-null   float64\n",
      "dtypes: float64(1), int64(3), object(2)\n",
      "memory usage: 315.9+ KB\n"
     ]
    }
   ],
   "source": [
    "df.info()"
   ]
  },
  {
   "cell_type": "code",
   "execution_count": 4,
   "metadata": {},
   "outputs": [
    {
     "data": {
      "text/html": [
       "<div>\n",
       "<style scoped>\n",
       "    .dataframe tbody tr th:only-of-type {\n",
       "        vertical-align: middle;\n",
       "    }\n",
       "\n",
       "    .dataframe tbody tr th {\n",
       "        vertical-align: top;\n",
       "    }\n",
       "\n",
       "    .dataframe thead th {\n",
       "        text-align: right;\n",
       "    }\n",
       "</style>\n",
       "<table border=\"1\" class=\"dataframe\">\n",
       "  <thead>\n",
       "    <tr style=\"text-align: right;\">\n",
       "      <th></th>\n",
       "      <th>date</th>\n",
       "      <th>order_id</th>\n",
       "      <th>quantity</th>\n",
       "      <th>price</th>\n",
       "    </tr>\n",
       "  </thead>\n",
       "  <tbody>\n",
       "    <tr>\n",
       "      <th>count</th>\n",
       "      <td>6.737000e+03</td>\n",
       "      <td>6737.000000</td>\n",
       "      <td>6737.000000</td>\n",
       "      <td>6737.000000</td>\n",
       "    </tr>\n",
       "    <tr>\n",
       "      <th>mean</th>\n",
       "      <td>2.018855e+09</td>\n",
       "      <td>43128.948345</td>\n",
       "      <td>2.501559</td>\n",
       "      <td>462.028499</td>\n",
       "    </tr>\n",
       "    <tr>\n",
       "      <th>std</th>\n",
       "      <td>3.855185e+05</td>\n",
       "      <td>27899.414662</td>\n",
       "      <td>15.266478</td>\n",
       "      <td>871.296064</td>\n",
       "    </tr>\n",
       "    <tr>\n",
       "      <th>min</th>\n",
       "      <td>2.018100e+09</td>\n",
       "      <td>12624.000000</td>\n",
       "      <td>1.000000</td>\n",
       "      <td>9.000000</td>\n",
       "    </tr>\n",
       "    <tr>\n",
       "      <th>25%</th>\n",
       "      <td>2.019020e+09</td>\n",
       "      <td>14827.000000</td>\n",
       "      <td>1.000000</td>\n",
       "      <td>101.000000</td>\n",
       "    </tr>\n",
       "    <tr>\n",
       "      <th>50%</th>\n",
       "      <td>2.019050e+09</td>\n",
       "      <td>68503.000000</td>\n",
       "      <td>1.000000</td>\n",
       "      <td>135.000000</td>\n",
       "    </tr>\n",
       "    <tr>\n",
       "      <th>75%</th>\n",
       "      <td>2.019061e+09</td>\n",
       "      <td>70504.000000</td>\n",
       "      <td>1.000000</td>\n",
       "      <td>398.000000</td>\n",
       "    </tr>\n",
       "    <tr>\n",
       "      <th>max</th>\n",
       "      <td>2.019103e+09</td>\n",
       "      <td>73164.000000</td>\n",
       "      <td>1000.000000</td>\n",
       "      <td>14917.000000</td>\n",
       "    </tr>\n",
       "  </tbody>\n",
       "</table>\n",
       "</div>"
      ],
      "text/plain": [
       "               date      order_id     quantity         price\n",
       "count  6.737000e+03   6737.000000  6737.000000   6737.000000\n",
       "mean   2.018855e+09  43128.948345     2.501559    462.028499\n",
       "std    3.855185e+05  27899.414662    15.266478    871.296064\n",
       "min    2.018100e+09  12624.000000     1.000000      9.000000\n",
       "25%    2.019020e+09  14827.000000     1.000000    101.000000\n",
       "50%    2.019050e+09  68503.000000     1.000000    135.000000\n",
       "75%    2.019061e+09  70504.000000     1.000000    398.000000\n",
       "max    2.019103e+09  73164.000000  1000.000000  14917.000000"
      ]
     },
     "execution_count": 4,
     "metadata": {},
     "output_type": "execute_result"
    }
   ],
   "source": [
    "df.describe()"
   ]
  },
  {
   "cell_type": "code",
   "execution_count": 5,
   "metadata": {},
   "outputs": [
    {
     "data": {
      "text/html": [
       "<div>\n",
       "<style scoped>\n",
       "    .dataframe tbody tr th:only-of-type {\n",
       "        vertical-align: middle;\n",
       "    }\n",
       "\n",
       "    .dataframe tbody tr th {\n",
       "        vertical-align: top;\n",
       "    }\n",
       "\n",
       "    .dataframe thead th {\n",
       "        text-align: right;\n",
       "    }\n",
       "</style>\n",
       "<table border=\"1\" class=\"dataframe\">\n",
       "  <thead>\n",
       "    <tr style=\"text-align: right;\">\n",
       "      <th></th>\n",
       "      <th>date</th>\n",
       "      <th>customer_id</th>\n",
       "      <th>order_id</th>\n",
       "      <th>product</th>\n",
       "      <th>quantity</th>\n",
       "      <th>price</th>\n",
       "    </tr>\n",
       "  </thead>\n",
       "  <tbody>\n",
       "    <tr>\n",
       "      <th>0</th>\n",
       "      <td>2018100100</td>\n",
       "      <td>ee47d746-6d2f-4d3c-9622-c31412542920</td>\n",
       "      <td>68477</td>\n",
       "      <td>Комнатное растение в горшке Алое Вера, d12, h30</td>\n",
       "      <td>1</td>\n",
       "      <td>142.0</td>\n",
       "    </tr>\n",
       "    <tr>\n",
       "      <th>1</th>\n",
       "      <td>2018100100</td>\n",
       "      <td>ee47d746-6d2f-4d3c-9622-c31412542920</td>\n",
       "      <td>68477</td>\n",
       "      <td>Комнатное растение в горшке Кофе Арабика, d12,...</td>\n",
       "      <td>1</td>\n",
       "      <td>194.0</td>\n",
       "    </tr>\n",
       "    <tr>\n",
       "      <th>2</th>\n",
       "      <td>2018100100</td>\n",
       "      <td>ee47d746-6d2f-4d3c-9622-c31412542920</td>\n",
       "      <td>68477</td>\n",
       "      <td>Радермахера d-12 см h-20 см</td>\n",
       "      <td>1</td>\n",
       "      <td>112.0</td>\n",
       "    </tr>\n",
       "    <tr>\n",
       "      <th>3</th>\n",
       "      <td>2018100100</td>\n",
       "      <td>ee47d746-6d2f-4d3c-9622-c31412542920</td>\n",
       "      <td>68477</td>\n",
       "      <td>Хризолидокарпус Лутесценс d-9 см</td>\n",
       "      <td>1</td>\n",
       "      <td>179.0</td>\n",
       "    </tr>\n",
       "    <tr>\n",
       "      <th>4</th>\n",
       "      <td>2018100100</td>\n",
       "      <td>ee47d746-6d2f-4d3c-9622-c31412542920</td>\n",
       "      <td>68477</td>\n",
       "      <td>Циперус Зумула d-12 см h-25 см</td>\n",
       "      <td>1</td>\n",
       "      <td>112.0</td>\n",
       "    </tr>\n",
       "    <tr>\n",
       "      <th>...</th>\n",
       "      <td>...</td>\n",
       "      <td>...</td>\n",
       "      <td>...</td>\n",
       "      <td>...</td>\n",
       "      <td>...</td>\n",
       "      <td>...</td>\n",
       "    </tr>\n",
       "    <tr>\n",
       "      <th>6732</th>\n",
       "      <td>2019103111</td>\n",
       "      <td>73d1cd35-5e5f-4629-8cf2-3fda829d4e58</td>\n",
       "      <td>73156</td>\n",
       "      <td>Таз пластмассовый 40,0 л пищевой овальный (Иж)...</td>\n",
       "      <td>1</td>\n",
       "      <td>404.0</td>\n",
       "    </tr>\n",
       "    <tr>\n",
       "      <th>6733</th>\n",
       "      <td>2019103112</td>\n",
       "      <td>1f0a7f35-7459-4f23-b468-5e45bf481dd1</td>\n",
       "      <td>73158</td>\n",
       "      <td>Сумка-тележка 2-х колесная Gimi Argo синяя</td>\n",
       "      <td>1</td>\n",
       "      <td>1087.0</td>\n",
       "    </tr>\n",
       "    <tr>\n",
       "      <th>6734</th>\n",
       "      <td>2019103113</td>\n",
       "      <td>25df96a7-c453-4708-9cea-a3dfc7c342ea</td>\n",
       "      <td>73162</td>\n",
       "      <td>Герань домашняя (пеларгония зональная) цветуща...</td>\n",
       "      <td>1</td>\n",
       "      <td>157.0</td>\n",
       "    </tr>\n",
       "    <tr>\n",
       "      <th>6735</th>\n",
       "      <td>2019103114</td>\n",
       "      <td>73d1cd35-5e5f-4629-8cf2-3fda829d4e58</td>\n",
       "      <td>73164</td>\n",
       "      <td>Таз пластмассовый со стиральной доской (Иж), 1...</td>\n",
       "      <td>1</td>\n",
       "      <td>397.0</td>\n",
       "    </tr>\n",
       "    <tr>\n",
       "      <th>6736</th>\n",
       "      <td>2019103116</td>\n",
       "      <td>344aa778-e436-419e-a9c6-9b8f37b7c1df</td>\n",
       "      <td>73137</td>\n",
       "      <td>Сумка-тележка 2-х колесная Gimi Argo синяя</td>\n",
       "      <td>1</td>\n",
       "      <td>1087.0</td>\n",
       "    </tr>\n",
       "  </tbody>\n",
       "</table>\n",
       "<p>6737 rows × 6 columns</p>\n",
       "</div>"
      ],
      "text/plain": [
       "            date                           customer_id  order_id  \\\n",
       "0     2018100100  ee47d746-6d2f-4d3c-9622-c31412542920     68477   \n",
       "1     2018100100  ee47d746-6d2f-4d3c-9622-c31412542920     68477   \n",
       "2     2018100100  ee47d746-6d2f-4d3c-9622-c31412542920     68477   \n",
       "3     2018100100  ee47d746-6d2f-4d3c-9622-c31412542920     68477   \n",
       "4     2018100100  ee47d746-6d2f-4d3c-9622-c31412542920     68477   \n",
       "...          ...                                   ...       ...   \n",
       "6732  2019103111  73d1cd35-5e5f-4629-8cf2-3fda829d4e58     73156   \n",
       "6733  2019103112  1f0a7f35-7459-4f23-b468-5e45bf481dd1     73158   \n",
       "6734  2019103113  25df96a7-c453-4708-9cea-a3dfc7c342ea     73162   \n",
       "6735  2019103114  73d1cd35-5e5f-4629-8cf2-3fda829d4e58     73164   \n",
       "6736  2019103116  344aa778-e436-419e-a9c6-9b8f37b7c1df     73137   \n",
       "\n",
       "                                                product  quantity   price  \n",
       "0       Комнатное растение в горшке Алое Вера, d12, h30         1   142.0  \n",
       "1     Комнатное растение в горшке Кофе Арабика, d12,...         1   194.0  \n",
       "2                           Радермахера d-12 см h-20 см         1   112.0  \n",
       "3                      Хризолидокарпус Лутесценс d-9 см         1   179.0  \n",
       "4                        Циперус Зумула d-12 см h-25 см         1   112.0  \n",
       "...                                                 ...       ...     ...  \n",
       "6732  Таз пластмассовый 40,0 л пищевой овальный (Иж)...         1   404.0  \n",
       "6733         Сумка-тележка 2-х колесная Gimi Argo синяя         1  1087.0  \n",
       "6734  Герань домашняя (пеларгония зональная) цветуща...         1   157.0  \n",
       "6735  Таз пластмассовый со стиральной доской (Иж), 1...         1   397.0  \n",
       "6736         Сумка-тележка 2-х колесная Gimi Argo синяя         1  1087.0  \n",
       "\n",
       "[6737 rows x 6 columns]"
      ]
     },
     "metadata": {},
     "output_type": "display_data"
    }
   ],
   "source": [
    "display(df)"
   ]
  },
  {
   "cell_type": "markdown",
   "metadata": {},
   "source": [
    "Вывод по разделу : \n",
    "\n",
    "Датасет df сотсоит из 6737 строк и 6 колонок, данные в форматах int, object и float. Среднее значение по количеству 2.5, минимальное - 1, максимальное  - 1000.  Среднее значение цены 462, минимальное - 9, максимальное 14917."
   ]
  },
  {
   "cell_type": "markdown",
   "metadata": {},
   "source": [
    "### Предобработка данных"
   ]
  },
  {
   "cell_type": "markdown",
   "metadata": {},
   "source": [
    "###### Приведем формат даты в соответствие"
   ]
  },
  {
   "cell_type": "code",
   "execution_count": 6,
   "metadata": {},
   "outputs": [],
   "source": [
    "df['date'] = pd.to_datetime(df['date'], format = '%Y%m%d%H')"
   ]
  },
  {
   "cell_type": "markdown",
   "metadata": {},
   "source": [
    "###### Проверим датасет на пропуски"
   ]
  },
  {
   "cell_type": "code",
   "execution_count": 7,
   "metadata": {
    "scrolled": true
   },
   "outputs": [
    {
     "data": {
      "text/plain": [
       "date           0\n",
       "customer_id    0\n",
       "order_id       0\n",
       "product        0\n",
       "quantity       0\n",
       "price          0\n",
       "dtype: int64"
      ]
     },
     "metadata": {},
     "output_type": "display_data"
    }
   ],
   "source": [
    "display(df.isna().sum())"
   ]
  },
  {
   "cell_type": "markdown",
   "metadata": {},
   "source": [
    "###### Приведем названия продуктов в столбце product к нижнему регистру"
   ]
  },
  {
   "cell_type": "code",
   "execution_count": 8,
   "metadata": {},
   "outputs": [],
   "source": [
    "df['product'] = df['product'].str.lower()"
   ]
  },
  {
   "cell_type": "markdown",
   "metadata": {},
   "source": [
    "###### Поменяем формат столбцов"
   ]
  },
  {
   "cell_type": "code",
   "execution_count": 9,
   "metadata": {},
   "outputs": [],
   "source": [
    "df['price'] = df['price'].astype(int)\n",
    "df['quantity'] = df['quantity'].astype(int)"
   ]
  },
  {
   "cell_type": "code",
   "execution_count": 10,
   "metadata": {},
   "outputs": [
    {
     "data": {
      "text/plain": [
       "array([   1,   10,   96,   15,    6,   11,    2,    4,    3,    5,   37,\n",
       "         64,   25,  150,   50,   30,   17,    8,    9,    7,  170,   16,\n",
       "        140,   27,   20,   12,   13,   24,  100,  200,   57,   40,   45,\n",
       "         29,   23,   43,   14,   31,   59,   60,   18,   26,  300,   70,\n",
       "        334, 1000,   22,   80,   65])"
      ]
     },
     "execution_count": 10,
     "metadata": {},
     "output_type": "execute_result"
    }
   ],
   "source": [
    "df['quantity'].unique()"
   ]
  },
  {
   "cell_type": "markdown",
   "metadata": {},
   "source": [
    "###### Проверим датасет на явные дубликаты"
   ]
  },
  {
   "cell_type": "code",
   "execution_count": 11,
   "metadata": {},
   "outputs": [
    {
     "name": "stdout",
     "output_type": "stream",
     "text": [
      "1864\n"
     ]
    }
   ],
   "source": [
    "print(df[['customer_id','order_id', 'product', 'quantity', 'price']].duplicated().sum())"
   ]
  },
  {
   "cell_type": "code",
   "execution_count": 12,
   "metadata": {},
   "outputs": [
    {
     "data": {
      "text/html": [
       "<div>\n",
       "<style scoped>\n",
       "    .dataframe tbody tr th:only-of-type {\n",
       "        vertical-align: middle;\n",
       "    }\n",
       "\n",
       "    .dataframe tbody tr th {\n",
       "        vertical-align: top;\n",
       "    }\n",
       "\n",
       "    .dataframe thead th {\n",
       "        text-align: right;\n",
       "    }\n",
       "</style>\n",
       "<table border=\"1\" class=\"dataframe\">\n",
       "  <thead>\n",
       "    <tr style=\"text-align: right;\">\n",
       "      <th></th>\n",
       "      <th>date</th>\n",
       "      <th>customer_id</th>\n",
       "      <th>order_id</th>\n",
       "      <th>product</th>\n",
       "      <th>quantity</th>\n",
       "      <th>price</th>\n",
       "    </tr>\n",
       "  </thead>\n",
       "  <tbody>\n",
       "    <tr>\n",
       "      <th>5456</th>\n",
       "      <td>2019-06-18 15:00:00</td>\n",
       "      <td>312e9a3e-5fca-43ff-a6a1-892d2b2d5ba6</td>\n",
       "      <td>71743</td>\n",
       "      <td>вантуз с деревянной ручкой d14 см красный, bur...</td>\n",
       "      <td>1000</td>\n",
       "      <td>675</td>\n",
       "    </tr>\n",
       "    <tr>\n",
       "      <th>5071</th>\n",
       "      <td>2019-06-11 07:00:00</td>\n",
       "      <td>146cd9bf-a95c-4afb-915b-5f6684b17444</td>\n",
       "      <td>71668</td>\n",
       "      <td>вешалки мягкие для деликатных вещей 3 шт шоколад</td>\n",
       "      <td>334</td>\n",
       "      <td>148</td>\n",
       "    </tr>\n",
       "    <tr>\n",
       "      <th>3961</th>\n",
       "      <td>2019-05-20 21:00:00</td>\n",
       "      <td>5d189e88-d4d6-4eac-ab43-fa65a3c4d106</td>\n",
       "      <td>71478</td>\n",
       "      <td>муляж яблоко 9 см красное</td>\n",
       "      <td>300</td>\n",
       "      <td>51</td>\n",
       "    </tr>\n",
       "    <tr>\n",
       "      <th>1158</th>\n",
       "      <td>2018-12-10 14:00:00</td>\n",
       "      <td>a984c5b7-ff7e-4647-b84e-ef0b85a2762d</td>\n",
       "      <td>69289</td>\n",
       "      <td>ручка-скоба рс-100 белая *трибатрон*, 1108035</td>\n",
       "      <td>200</td>\n",
       "      <td>29</td>\n",
       "    </tr>\n",
       "    <tr>\n",
       "      <th>568</th>\n",
       "      <td>2018-11-01 08:00:00</td>\n",
       "      <td>aa42dc38-780f-4b50-9a65-83b6fa64e766</td>\n",
       "      <td>68815</td>\n",
       "      <td>муляж яблоко 9 см красное</td>\n",
       "      <td>170</td>\n",
       "      <td>51</td>\n",
       "    </tr>\n",
       "    <tr>\n",
       "      <th>...</th>\n",
       "      <td>...</td>\n",
       "      <td>...</td>\n",
       "      <td>...</td>\n",
       "      <td>...</td>\n",
       "      <td>...</td>\n",
       "      <td>...</td>\n",
       "    </tr>\n",
       "    <tr>\n",
       "      <th>2107</th>\n",
       "      <td>2019-03-01 14:00:00</td>\n",
       "      <td>9650580f-4b5d-43a9-b93f-8598337d2948</td>\n",
       "      <td>14555</td>\n",
       "      <td>пеларгония розебудная margaretha укорененный ч...</td>\n",
       "      <td>1</td>\n",
       "      <td>135</td>\n",
       "    </tr>\n",
       "    <tr>\n",
       "      <th>2108</th>\n",
       "      <td>2019-03-01 14:00:00</td>\n",
       "      <td>9650580f-4b5d-43a9-b93f-8598337d2948</td>\n",
       "      <td>14555</td>\n",
       "      <td>пеларгония розебудная mary укорененный черенок</td>\n",
       "      <td>1</td>\n",
       "      <td>135</td>\n",
       "    </tr>\n",
       "    <tr>\n",
       "      <th>2109</th>\n",
       "      <td>2019-03-01 14:00:00</td>\n",
       "      <td>9650580f-4b5d-43a9-b93f-8598337d2948</td>\n",
       "      <td>14555</td>\n",
       "      <td>пеларгония розебудная prins nikolai укорененны...</td>\n",
       "      <td>1</td>\n",
       "      <td>135</td>\n",
       "    </tr>\n",
       "    <tr>\n",
       "      <th>2110</th>\n",
       "      <td>2019-03-01 14:00:00</td>\n",
       "      <td>9650580f-4b5d-43a9-b93f-8598337d2948</td>\n",
       "      <td>14555</td>\n",
       "      <td>пеларгония розебудная queen ingrid укорененный...</td>\n",
       "      <td>1</td>\n",
       "      <td>135</td>\n",
       "    </tr>\n",
       "    <tr>\n",
       "      <th>6735</th>\n",
       "      <td>2019-10-31 14:00:00</td>\n",
       "      <td>73d1cd35-5e5f-4629-8cf2-3fda829d4e58</td>\n",
       "      <td>73164</td>\n",
       "      <td>таз пластмассовый со стиральной доской (иж), 1...</td>\n",
       "      <td>1</td>\n",
       "      <td>397</td>\n",
       "    </tr>\n",
       "  </tbody>\n",
       "</table>\n",
       "<p>4873 rows × 6 columns</p>\n",
       "</div>"
      ],
      "text/plain": [
       "                    date                           customer_id  order_id  \\\n",
       "5456 2019-06-18 15:00:00  312e9a3e-5fca-43ff-a6a1-892d2b2d5ba6     71743   \n",
       "5071 2019-06-11 07:00:00  146cd9bf-a95c-4afb-915b-5f6684b17444     71668   \n",
       "3961 2019-05-20 21:00:00  5d189e88-d4d6-4eac-ab43-fa65a3c4d106     71478   \n",
       "1158 2018-12-10 14:00:00  a984c5b7-ff7e-4647-b84e-ef0b85a2762d     69289   \n",
       "568  2018-11-01 08:00:00  aa42dc38-780f-4b50-9a65-83b6fa64e766     68815   \n",
       "...                  ...                                   ...       ...   \n",
       "2107 2019-03-01 14:00:00  9650580f-4b5d-43a9-b93f-8598337d2948     14555   \n",
       "2108 2019-03-01 14:00:00  9650580f-4b5d-43a9-b93f-8598337d2948     14555   \n",
       "2109 2019-03-01 14:00:00  9650580f-4b5d-43a9-b93f-8598337d2948     14555   \n",
       "2110 2019-03-01 14:00:00  9650580f-4b5d-43a9-b93f-8598337d2948     14555   \n",
       "6735 2019-10-31 14:00:00  73d1cd35-5e5f-4629-8cf2-3fda829d4e58     73164   \n",
       "\n",
       "                                                product  quantity  price  \n",
       "5456  вантуз с деревянной ручкой d14 см красный, bur...      1000    675  \n",
       "5071   вешалки мягкие для деликатных вещей 3 шт шоколад       334    148  \n",
       "3961                          муляж яблоко 9 см красное       300     51  \n",
       "1158      ручка-скоба рс-100 белая *трибатрон*, 1108035       200     29  \n",
       "568                           муляж яблоко 9 см красное       170     51  \n",
       "...                                                 ...       ...    ...  \n",
       "2107  пеларгония розебудная margaretha укорененный ч...         1    135  \n",
       "2108     пеларгония розебудная mary укорененный черенок         1    135  \n",
       "2109  пеларгония розебудная prins nikolai укорененны...         1    135  \n",
       "2110  пеларгония розебудная queen ingrid укорененный...         1    135  \n",
       "6735  таз пластмассовый со стиральной доской (иж), 1...         1    397  \n",
       "\n",
       "[4873 rows x 6 columns]"
      ]
     },
     "execution_count": 12,
     "metadata": {},
     "output_type": "execute_result"
    }
   ],
   "source": [
    "df = df.drop_duplicates(subset=['customer_id','order_id', 'product', 'quantity', 'price'], keep='first')\n",
    "df.sort_values(by='quantity', ascending=False)"
   ]
  },
  {
   "cell_type": "markdown",
   "metadata": {},
   "source": [
    "###### Найдем неявные дубликаты в столбце product"
   ]
  },
  {
   "cell_type": "code",
   "execution_count": 61,
   "metadata": {},
   "outputs": [
    {
     "data": {
      "text/plain": [
       "array(['комнатное растение в горшке алое вера, d12, h30',\n",
       "       'комнатное растение в горшке кофе арабика, d12, h25',\n",
       "       'радермахера d-12 см h-20 см', ...,\n",
       "       'сушилка для белья на ванну freudenberg (gimi) alablock varadero silver a4p',\n",
       "       'каланхое каландива малиновое d-7 см', 'литопс микс d-5 см'],\n",
       "      dtype=object)"
      ]
     },
     "execution_count": 61,
     "metadata": {},
     "output_type": "execute_result"
    }
   ],
   "source": [
    "df['product'].unique()"
   ]
  },
  {
   "cell_type": "code",
   "execution_count": 59,
   "metadata": {},
   "outputs": [],
   "source": [
    "duplicates = ['муляж груша мини 2 шт желтая 4 см']\n",
    "name = ['муляж груша мини 2 шт, желтая 4 см']\n",
    "df['product'] = df['product'] .replace(duplicates, name)\n",
    "duplicates = ['набор вешалок для костюма 45 см 4 шт цвет кремовый attribute ahp224']\n",
    "name = ['набор вешалок для костюма 45см 4шт цвет: кремовый, attribute, ahp224']\n",
    "df['product'] = df['product'] .replace(duplicates, name)\n",
    "duplicates = ['пеларгония зональная розоцветная ред розебад']\n",
    "name = ['пеларгония зональная розоцветная ред розебад (red rosebud)']\n",
    "df['product'] = df['product'] .replace(duplicates, name)\n",
    "duplicates = ['сушилка для белья потолочная zalger lift basic 1520 200 см 10 м']\n",
    "name = ['сушилка для белья потолочная zalger lift basic 1520 200 см, 10 м']\n",
    "df['product'] = df['product'] .replace(duplicates, name)\n",
    "duplicates = ['сушилка для белья потолочно-настенная gimi lift 240 5031']\n",
    "name = ['сушилка для белья потолочно-настенная gimi lift 240, 5031']\n",
    "df['product'] = df['product'] .replace(duplicates, name)\n",
    "duplicates = ['чайник эмалированный metalloni со свистком и керамической ручкой \"французский шарм\" 2,5 л em-250x1/28']\n",
    "name = ['чайник эмалированный metalloni со свистком и керамической ручкой французский шарм 2,5 л em-250x1/28']\n",
    "df['product'] = df['product'] .replace(duplicates, name)"
   ]
  },
  {
   "cell_type": "markdown",
   "metadata": {},
   "source": [
    "###### Сгруппируем данные по номеру заказа, чтобы выявить аномалию (аномальное количество товаров в конкретном заказе). Отсортируем данные по убыванию"
   ]
  },
  {
   "cell_type": "code",
   "execution_count": 16,
   "metadata": {},
   "outputs": [
    {
     "data": {
      "text/html": [
       "<div>\n",
       "<style scoped>\n",
       "    .dataframe tbody tr th:only-of-type {\n",
       "        vertical-align: middle;\n",
       "    }\n",
       "\n",
       "    .dataframe tbody tr th {\n",
       "        vertical-align: top;\n",
       "    }\n",
       "\n",
       "    .dataframe thead th {\n",
       "        text-align: right;\n",
       "    }\n",
       "</style>\n",
       "<table border=\"1\" class=\"dataframe\">\n",
       "  <thead>\n",
       "    <tr style=\"text-align: right;\">\n",
       "      <th></th>\n",
       "      <th>order_id</th>\n",
       "      <th>quantity</th>\n",
       "    </tr>\n",
       "  </thead>\n",
       "  <tbody>\n",
       "    <tr>\n",
       "      <th>2045</th>\n",
       "      <td>71743</td>\n",
       "      <td>1000</td>\n",
       "    </tr>\n",
       "    <tr>\n",
       "      <th>2008</th>\n",
       "      <td>71668</td>\n",
       "      <td>334</td>\n",
       "    </tr>\n",
       "    <tr>\n",
       "      <th>405</th>\n",
       "      <td>68611</td>\n",
       "      <td>300</td>\n",
       "    </tr>\n",
       "    <tr>\n",
       "      <th>1912</th>\n",
       "      <td>71478</td>\n",
       "      <td>300</td>\n",
       "    </tr>\n",
       "    <tr>\n",
       "      <th>800</th>\n",
       "      <td>69289</td>\n",
       "      <td>200</td>\n",
       "    </tr>\n",
       "    <tr>\n",
       "      <th>534</th>\n",
       "      <td>68815</td>\n",
       "      <td>170</td>\n",
       "    </tr>\n",
       "    <tr>\n",
       "      <th>2610</th>\n",
       "      <td>72845</td>\n",
       "      <td>160</td>\n",
       "    </tr>\n",
       "    <tr>\n",
       "      <th>1597</th>\n",
       "      <td>70841</td>\n",
       "      <td>150</td>\n",
       "    </tr>\n",
       "    <tr>\n",
       "      <th>542</th>\n",
       "      <td>68831</td>\n",
       "      <td>140</td>\n",
       "    </tr>\n",
       "    <tr>\n",
       "      <th>722</th>\n",
       "      <td>69156</td>\n",
       "      <td>101</td>\n",
       "    </tr>\n",
       "  </tbody>\n",
       "</table>\n",
       "</div>"
      ],
      "text/plain": [
       "      order_id  quantity\n",
       "2045     71743      1000\n",
       "2008     71668       334\n",
       "405      68611       300\n",
       "1912     71478       300\n",
       "800      69289       200\n",
       "534      68815       170\n",
       "2610     72845       160\n",
       "1597     70841       150\n",
       "542      68831       140\n",
       "722      69156       101"
      ]
     },
     "metadata": {},
     "output_type": "display_data"
    }
   ],
   "source": [
    "grouped_orders = df.groupby('order_id', as_index=False).agg({'quantity':'sum'}).sort_values(by='quantity', ascending=False)\n",
    "display(grouped_orders.head(10))"
   ]
  },
  {
   "cell_type": "code",
   "execution_count": 17,
   "metadata": {},
   "outputs": [
    {
     "data": {
      "image/png": "[encoded data removed]",
      "text/plain": [
       "<Figure size 1080x360 with 1 Axes>"
      ]
     },
     "metadata": {
      "needs_background": "light"
     },
     "output_type": "display_data"
    }
   ],
   "source": [
    "plt.figure(figsize=(15,5))\n",
    "plt.boxplot(grouped_orders['quantity'])\n",
    "plt.title('Диаграмма заказа')\n",
    "plt.xlabel('Количество')\n",
    "plt.show()"
   ]
  },
  {
   "cell_type": "markdown",
   "metadata": {},
   "source": [
    "###### Сделаем срез по заказу  с аномальным значением и узнаем какие товары были куплены и в каком количестве"
   ]
  },
  {
   "cell_type": "code",
   "execution_count": 56,
   "metadata": {},
   "outputs": [
    {
     "data": {
      "text/html": [
       "<div>\n",
       "<style scoped>\n",
       "    .dataframe tbody tr th:only-of-type {\n",
       "        vertical-align: middle;\n",
       "    }\n",
       "\n",
       "    .dataframe tbody tr th {\n",
       "        vertical-align: top;\n",
       "    }\n",
       "\n",
       "    .dataframe thead th {\n",
       "        text-align: right;\n",
       "    }\n",
       "</style>\n",
       "<table border=\"1\" class=\"dataframe\">\n",
       "  <thead>\n",
       "    <tr style=\"text-align: right;\">\n",
       "      <th></th>\n",
       "      <th>order_id</th>\n",
       "      <th>product</th>\n",
       "      <th>quantity</th>\n",
       "    </tr>\n",
       "  </thead>\n",
       "  <tbody>\n",
       "    <tr>\n",
       "      <th>5456</th>\n",
       "      <td>71743</td>\n",
       "      <td>вантуз с деревянной ручкой d14 см красный, bur...</td>\n",
       "      <td>1000</td>\n",
       "    </tr>\n",
       "  </tbody>\n",
       "</table>\n",
       "</div>"
      ],
      "text/plain": [
       "      order_id                                            product  quantity\n",
       "5456     71743  вантуз с деревянной ручкой d14 см красный, bur...      1000"
      ]
     },
     "execution_count": 56,
     "metadata": {},
     "output_type": "execute_result"
    }
   ],
   "source": [
    "df.query('quantity==1000')[['order_id','product', 'quantity']].sort_values(by='order_id', ascending=False).head(20)"
   ]
  },
  {
   "cell_type": "markdown",
   "metadata": {},
   "source": [
    "Итак, в трех заказах - 71743 было куплено 1000 вантузов. Возможно эти покупки были совершены оптовыми покупателями, но для более  ровных данных удалим эти данные из датасета"
   ]
  },
  {
   "cell_type": "code",
   "execution_count": 57,
   "metadata": {},
   "outputs": [
    {
     "data": {
      "text/html": [
       "<div>\n",
       "<style scoped>\n",
       "    .dataframe tbody tr th:only-of-type {\n",
       "        vertical-align: middle;\n",
       "    }\n",
       "\n",
       "    .dataframe tbody tr th {\n",
       "        vertical-align: top;\n",
       "    }\n",
       "\n",
       "    .dataframe thead th {\n",
       "        text-align: right;\n",
       "    }\n",
       "</style>\n",
       "<table border=\"1\" class=\"dataframe\">\n",
       "  <thead>\n",
       "    <tr style=\"text-align: right;\">\n",
       "      <th></th>\n",
       "      <th>date</th>\n",
       "      <th>customer_id</th>\n",
       "      <th>order_id</th>\n",
       "      <th>product</th>\n",
       "      <th>quantity</th>\n",
       "      <th>price</th>\n",
       "    </tr>\n",
       "  </thead>\n",
       "  <tbody>\n",
       "    <tr>\n",
       "      <th>0</th>\n",
       "      <td>2018-10-01 00:00:00</td>\n",
       "      <td>ee47d746-6d2f-4d3c-9622-c31412542920</td>\n",
       "      <td>68477</td>\n",
       "      <td>комнатное растение в горшке алое вера, d12, h30</td>\n",
       "      <td>1</td>\n",
       "      <td>142</td>\n",
       "    </tr>\n",
       "    <tr>\n",
       "      <th>1</th>\n",
       "      <td>2018-10-01 00:00:00</td>\n",
       "      <td>ee47d746-6d2f-4d3c-9622-c31412542920</td>\n",
       "      <td>68477</td>\n",
       "      <td>комнатное растение в горшке кофе арабика, d12,...</td>\n",
       "      <td>1</td>\n",
       "      <td>194</td>\n",
       "    </tr>\n",
       "    <tr>\n",
       "      <th>2</th>\n",
       "      <td>2018-10-01 00:00:00</td>\n",
       "      <td>ee47d746-6d2f-4d3c-9622-c31412542920</td>\n",
       "      <td>68477</td>\n",
       "      <td>радермахера d-12 см h-20 см</td>\n",
       "      <td>1</td>\n",
       "      <td>112</td>\n",
       "    </tr>\n",
       "    <tr>\n",
       "      <th>3</th>\n",
       "      <td>2018-10-01 00:00:00</td>\n",
       "      <td>ee47d746-6d2f-4d3c-9622-c31412542920</td>\n",
       "      <td>68477</td>\n",
       "      <td>хризолидокарпус лутесценс d-9 см</td>\n",
       "      <td>1</td>\n",
       "      <td>179</td>\n",
       "    </tr>\n",
       "    <tr>\n",
       "      <th>4</th>\n",
       "      <td>2018-10-01 00:00:00</td>\n",
       "      <td>ee47d746-6d2f-4d3c-9622-c31412542920</td>\n",
       "      <td>68477</td>\n",
       "      <td>циперус зумула d-12 см h-25 см</td>\n",
       "      <td>1</td>\n",
       "      <td>112</td>\n",
       "    </tr>\n",
       "    <tr>\n",
       "      <th>...</th>\n",
       "      <td>...</td>\n",
       "      <td>...</td>\n",
       "      <td>...</td>\n",
       "      <td>...</td>\n",
       "      <td>...</td>\n",
       "      <td>...</td>\n",
       "    </tr>\n",
       "    <tr>\n",
       "      <th>6731</th>\n",
       "      <td>2019-10-31 11:00:00</td>\n",
       "      <td>f17ed857-178e-45e1-a662-0a9dd3b58c5f</td>\n",
       "      <td>73155</td>\n",
       "      <td>мимоза стыдливая d-9 см</td>\n",
       "      <td>1</td>\n",
       "      <td>329</td>\n",
       "    </tr>\n",
       "    <tr>\n",
       "      <th>6732</th>\n",
       "      <td>2019-10-31 11:00:00</td>\n",
       "      <td>73d1cd35-5e5f-4629-8cf2-3fda829d4e58</td>\n",
       "      <td>73156</td>\n",
       "      <td>таз пластмассовый 40,0 л пищевой овальный (иж)...</td>\n",
       "      <td>1</td>\n",
       "      <td>404</td>\n",
       "    </tr>\n",
       "    <tr>\n",
       "      <th>6733</th>\n",
       "      <td>2019-10-31 12:00:00</td>\n",
       "      <td>1f0a7f35-7459-4f23-b468-5e45bf481dd1</td>\n",
       "      <td>73158</td>\n",
       "      <td>сумка-тележка 2-х колесная gimi argo синяя</td>\n",
       "      <td>1</td>\n",
       "      <td>1087</td>\n",
       "    </tr>\n",
       "    <tr>\n",
       "      <th>6734</th>\n",
       "      <td>2019-10-31 13:00:00</td>\n",
       "      <td>25df96a7-c453-4708-9cea-a3dfc7c342ea</td>\n",
       "      <td>73162</td>\n",
       "      <td>герань домашняя (пеларгония зональная) цветуща...</td>\n",
       "      <td>1</td>\n",
       "      <td>157</td>\n",
       "    </tr>\n",
       "    <tr>\n",
       "      <th>6735</th>\n",
       "      <td>2019-10-31 14:00:00</td>\n",
       "      <td>73d1cd35-5e5f-4629-8cf2-3fda829d4e58</td>\n",
       "      <td>73164</td>\n",
       "      <td>таз пластмассовый со стиральной доской (иж), 1...</td>\n",
       "      <td>1</td>\n",
       "      <td>397</td>\n",
       "    </tr>\n",
       "  </tbody>\n",
       "</table>\n",
       "<p>4872 rows × 6 columns</p>\n",
       "</div>"
      ],
      "text/plain": [
       "                    date                           customer_id  order_id  \\\n",
       "0    2018-10-01 00:00:00  ee47d746-6d2f-4d3c-9622-c31412542920     68477   \n",
       "1    2018-10-01 00:00:00  ee47d746-6d2f-4d3c-9622-c31412542920     68477   \n",
       "2    2018-10-01 00:00:00  ee47d746-6d2f-4d3c-9622-c31412542920     68477   \n",
       "3    2018-10-01 00:00:00  ee47d746-6d2f-4d3c-9622-c31412542920     68477   \n",
       "4    2018-10-01 00:00:00  ee47d746-6d2f-4d3c-9622-c31412542920     68477   \n",
       "...                  ...                                   ...       ...   \n",
       "6731 2019-10-31 11:00:00  f17ed857-178e-45e1-a662-0a9dd3b58c5f     73155   \n",
       "6732 2019-10-31 11:00:00  73d1cd35-5e5f-4629-8cf2-3fda829d4e58     73156   \n",
       "6733 2019-10-31 12:00:00  1f0a7f35-7459-4f23-b468-5e45bf481dd1     73158   \n",
       "6734 2019-10-31 13:00:00  25df96a7-c453-4708-9cea-a3dfc7c342ea     73162   \n",
       "6735 2019-10-31 14:00:00  73d1cd35-5e5f-4629-8cf2-3fda829d4e58     73164   \n",
       "\n",
       "                                                product  quantity  price  \n",
       "0       комнатное растение в горшке алое вера, d12, h30         1    142  \n",
       "1     комнатное растение в горшке кофе арабика, d12,...         1    194  \n",
       "2                           радермахера d-12 см h-20 см         1    112  \n",
       "3                      хризолидокарпус лутесценс d-9 см         1    179  \n",
       "4                        циперус зумула d-12 см h-25 см         1    112  \n",
       "...                                                 ...       ...    ...  \n",
       "6731                            мимоза стыдливая d-9 см         1    329  \n",
       "6732  таз пластмассовый 40,0 л пищевой овальный (иж)...         1    404  \n",
       "6733         сумка-тележка 2-х колесная gimi argo синяя         1   1087  \n",
       "6734  герань домашняя (пеларгония зональная) цветуща...         1    157  \n",
       "6735  таз пластмассовый со стиральной доской (иж), 1...         1    397  \n",
       "\n",
       "[4872 rows x 6 columns]"
      ]
     },
     "execution_count": 57,
     "metadata": {},
     "output_type": "execute_result"
    }
   ],
   "source": [
    "df_new = df.query('quantity!=1000')\n",
    "df_new"
   ]
  },
  {
   "cell_type": "markdown",
   "metadata": {},
   "source": [
    " <div class=\"alert alert-success\">\n",
    " <b>👍 Успех:</b> Все верно!\n",
    " </div>"
   ]
  },
  {
   "cell_type": "markdown",
   "metadata": {},
   "source": [
    "Вывод по разделу:\n",
    "\n",
    "По 2 разделу привели формат даты в соответствие. В датасете 6737 строк. Проверили датасет на пропуски - 0 пропущенных значений. Привели названия продуктов к нижнему регистру. Проверили датасет на явные дубликаты  - 1864. После удаления осталось 4873 строки. Заменены неявные дубликаты с столбце product. Удалено аномальное значение по заказу 71743 - 1000 вантузов. После удаления осталось 4872 строки. Приведен в соответствие формат цены из float в int. Проверены уникальные значения по столбцам: price, product, customer_id, order_id, quantity. "
   ]
  },
  {
   "cell_type": "markdown",
   "metadata": {},
   "source": [
    "### Исследовательский анализ"
   ]
  },
  {
   "cell_type": "markdown",
   "metadata": {},
   "source": [
    "###### Определим начало и конец исследуемого периода"
   ]
  },
  {
   "cell_type": "code",
   "execution_count": 62,
   "metadata": {},
   "outputs": [
    {
     "name": "stdout",
     "output_type": "stream",
     "text": [
      "Начало исследуемого периода: 2018-10-01 00:00:00\n",
      "Окончание исследуемого периода: 2019-10-31 14:00:00\n"
     ]
    }
   ],
   "source": [
    "print('Начало исследуемого периода:', df_new['date'].min())\n",
    "print('Окончание исследуемого периода:', df_new['date'].max())"
   ]
  },
  {
   "cell_type": "markdown",
   "metadata": {},
   "source": [
    "###### Добавим новые столбцы в датасет - month, weekday, hour, key_word"
   ]
  },
  {
   "cell_type": "code",
   "execution_count": 63,
   "metadata": {},
   "outputs": [],
   "source": [
    "df_new['month'] = pd.to_datetime(df_new['date']).dt.month\n",
    "df_new['weekday'] = pd.to_datetime(df_new['date']).dt.weekday\n",
    "df_new['year'] = pd.to_datetime(df_new['date']).dt.year\n",
    "df_new['hour']= pd.to_datetime(df_new['date']).dt.hour\n",
    "df_new['key_word'] = df_new['product'].str.split(' ').str[0]"
   ]
  },
  {
   "cell_type": "markdown",
   "metadata": {},
   "source": [
    "###### Разобьем ключевые слова по категориям на группы"
   ]
  },
  {
   "cell_type": "code",
   "execution_count": 64,
   "metadata": {},
   "outputs": [],
   "source": [
    "food = ['табак','кофе','овощной', 'травы']\n",
    "home = ['настенная', 'чехол', 'вешалка', 'сушилка', 'крючок', 'корзина', 'доска', 'сумка-тележка', 'муляж', 'щетка-сметка', 'сумка', 'коврик', 'подкладка', 'мусорный', 'ковер', 'гладильная', 'готовая', 'искусственный', 'штора', 'декоративная', 'плечики', 'салфетка', 'вкладыши', 'кофр', 'щетка', 'щетка-утюжок', 'светильник', 'контейнер', 'веник', 'ящик', 'подголовник', 'ведро', 'короб', 'коробка', 'насадка', 'вешалка-плечики', 'настольная', 'сиденье', 'утюг', 'корыто', 'шнур', 'урна', 'сметка', 'лопатка', 'салфетница', 'вешалка-стойка', 'лоток', 'вешалки', 'фен', 'универсальное', 'сменный', 'термометр', 'скребок', 'сетка', 'подставка', 'вешалка-сушилка', 'новогоднее', 'защитный', 'многофункциональный', 'фоторамка', 'ключница', 'защитная', 'гипоаллергенный', 'вешалка-перекладина', 'махровое', 'искусственная', 'совок', 'насадка-отжим', 'нетканые', 'пылесос', 'штанга', 'подарочный', 'махровый', 'бак', 'окномойка', 'урна-пепельница', 'сменная', 'ткань', 'насадка-моп', 'подвесное', 'автоматическая', 'бельевые', 'отжим', 'пряные', 'антинакипин', 'корзинка', 'ваза', 'прищепки', 'пьезозажигалка', 'запасная', 'щётка', 'универсальный', 'вакуумный']\n",
    "kitchen = ['мини-сковорода', 'сковорода', 'стеклянная', 'тарелка', 'вилка', 'ложка', 'нож', 'котел', 'набор', 'скатерть', 'кувшин', 'толкушка', 'чайник', 'банка', 'противень', 'миксер', 'чистящий', 'tepмокружка', 'подрукавник', 'ножеточка', 'масленка', 'сервировочная', 'салатник', 'чайный', 'рыбочистка', 'овощеварка', 'терка', 'кружка', 'стакан', 'столовая', 'чайная', 'овощечистка', 'пробка', 'измельчитель', 'антижир', 'мантоварка', 'ролик', 'ковш', 'кухонные', 'кисточка', 'картофелемялка', 'жестяная', 'ополаскиватель', 'весы', 'миска', 'пресс', 'термостакан', 'термокружка', 'термос', 'фарфоровая', 'электроштопор', 'столовый', 'блюдце', 'бульонница', 'разделочная', 'мантоварка-пароварка', 'складная', 'емкость', 'просеиватель', 'кастрюля', 'хлебница', 'форма', 'орехоколка', 'кухонное', 'скалка', 'венчик', 'сито', 'тортница', 'блюдо', 'тряпкодержатель', 'сотейник', 'бидон', 'складной', 'отделитель', 'шприц', 'крышка', 'мешок', 'сахарница', 'соковарка', 'соковыжималка', 'половник', 'кипятильник', 'основание', 'мерный']\n",
    "furniture = ['лестница-стремянка', 'петля', 'карниз', 'петля-стрела', 'комод', 'этажерка', 'полки', 'модульная', 'лестница', 'полка', 'обувница-3', 'стеллаж', 'завертка', 'ручка', 'шпингалет']\n",
    "bedroom = ['простыня', 'подушка', 'ковёр', 'наматрасник', 'наматрицник-чехол', 'халат', 'средство', 'покрывало', 'одеяло', 'простынь', 'наматрацник', 'наволочка', 'пододеяльник', 'двуспальное']\n",
    "flowers = ['радермахера', 'хризолидокарпус', 'циперус', 'шеффлера', 'юкка', 'пеларгония', 'эхеверия', 'адиантум', 'кампанула', 'калатея', 'хлорофитум', 'цикламен', 'глоксиния', 'азалия', 'гортензия', 'хризантема', 'сантолина', 'аспарагус', 'афеляндра', 'антуриум', 'фиалка', 'гербера', 'роза', 'бегония', 'бальзамин', 'крассула', 'артемизия', 'лаванда', 'каланхое', 'примула', 'дендробиум', 'калоцефалус', 'каллуна', 'капсикум', 'мимоза', 'соланум', 'бархатцы', 'космея', 'настурция', 'петуния', 'алиссум', 'гвоздика', 'годеция', 'календула', 'кореопсис', 'лапчатка', 'львиный', 'флокс', 'цинерария', 'эшшольция', 'диффенбахия', 'фаленопсис', 'подсолнечник', 'аптения', 'пуансеттия', 'скиммия', 'фиттония', 'алоэ', 'спатифиллум', 'фикус', 'эхинокактус', 'гипсофила', 'калибрахоа', 'эпипремнум', 'аквилегия', 'седум', 'нефролепис', 'тюльпан', 'гиацинт', 'вербена', 'однолетнее', 'чабер', 'ранункулус', 'овсянница', 'георгина', 'смолевка', 'цинния', 'вербейник', 'виола', 'колокольчик', 'котовник', 'ясколка', 'платикодон', 'энотера', 'фуксия', 'цитрофортунелла', 'пеперомия', 'синнингия', 'гардения', 'лобелия', 'мускари', 'пиретрум', 'муррайя', 'астра', 'драцена', 'фатсия', 'монарда', 'рудбекия', 'барвинок', 'сциндапсус', 'камнеломка', 'солидаго', 'физостегия', 'бадан', 'лантана', 'лаватера', 'анемона', 'буддлея', 'любисток', 'хамедорея', 'мединилла', 'импатиенс', 'замиокулькас', 'амариллис', 'пахира']\n",
    "renovation = ['стремянка', 'стяжка', 'комплект', 'крепеж', 'пружина', 'стремянки', 'сверло-фреза,', 'холодная', 'измерительный', 'линейка,', 'бензин', 'шило', 'рассекатель', 'ручка-скоба', 'стремянка-табурет', 'кольца', 'фал', 'штангенциркуль', 'рукав', 'сверло', 'фиксатор-шар', 'портулак', 'шпагат', 'покрытие', 'веревка', 'решетка', 'уголок', 'стяжки']\n",
    "garden = ['комнатное', 'многолетнее', 'рассада', 'герань', 'суккулент', 'эвкалипт', 'цветок', 'тележка', 'нолина', 'мирт', 'цветущее', 'кориандр', 'иссоп', 'молодило', 'душица', 'мелисса', 'розмарин', 'альбука', 'мята', 'морковь', 'огурец', 'капуста', 'пуансетия', 'гиностемма', 'ель', 'кипарисовик', 'тимьян', 'кодонанта', 'цикламен,', 'гимнокалициум', 'крокусы', 'базилик', 'горох', 'земляника', 'незабудка', 'томат', 'укроп', 'калла', 'декабрист', 'бакопа', 'газания', 'лавр', 'эхинацея', 'лилейник', 'папоротник', 'дыня', 'циния', 'томата', 'девичий', 'агератум', 'колеус', 'тагетис', 'цинерания', 'аргирантерум', 'левкой', 'вероника', 'целозия', 'арбуз', 'баклажан', 'клубника', 'патиссон', 'маттиола', 'сальвия', 'лук', 'джункус', 'хоста', 'гайлардия', 'нивянник', 'осина', 'бузульник', 'лен', 'валериана', 'змееголовник', 'петрушка', 'сельдерей', 'шалфей', 'вигна', 'кабачок', 'тыква', 'зверобой', 'клен', 'салат', 'литопс']\n",
    "bathroom = ['таз', 'ерш', 'дозатор', 'ёрш', 'плед', 'перчатки', 'полотенце', 'стиральный', 'жидкое', 'пена', 'зубная', 'швабра', 'мыло', 'паста', 'держатель', 'губка', 'ароматизированное', 'бальзам', 'мыльница', 'вантуз', 'кондиционер', 'увлажняющая', 'мыло-скраб', 'концентрат', 'ванна', 'отбеливатель', 'тряпка']"
   ]
  },
  {
   "cell_type": "markdown",
   "metadata": {},
   "source": [
    "###### Напишем функцию для категоризации товаров и создадим новый столбец category"
   ]
  },
  {
   "cell_type": "code",
   "execution_count": 65,
   "metadata": {},
   "outputs": [],
   "source": [
    "def categorize(category):\n",
    "    try:\n",
    "        if category in kitchen:\n",
    "            return 'кухня'\n",
    "        elif category in home:\n",
    "            return 'дом'\n",
    "        elif category in garden:\n",
    "            return 'сад'\n",
    "        elif category in bathroom:\n",
    "            return 'ванная'\n",
    "        elif category in furniture:\n",
    "            return 'мебель'\n",
    "        elif category in bedroom:\n",
    "            return 'спальня'\n",
    "        elif category in flowers:\n",
    "            return 'цветы'\n",
    "        elif category in food:\n",
    "            return 'еда'\n",
    "        elif category in renovation:\n",
    "            return 'ремонт'\n",
    "    except:\n",
    "        pass\n",
    "    \n",
    "df_new['category'] = df_new['key_word'].apply(categorize)"
   ]
  },
  {
   "cell_type": "code",
   "execution_count": 66,
   "metadata": {},
   "outputs": [
    {
     "data": {
      "text/html": [
       "<div>\n",
       "<style scoped>\n",
       "    .dataframe tbody tr th:only-of-type {\n",
       "        vertical-align: middle;\n",
       "    }\n",
       "\n",
       "    .dataframe tbody tr th {\n",
       "        vertical-align: top;\n",
       "    }\n",
       "\n",
       "    .dataframe thead th {\n",
       "        text-align: right;\n",
       "    }\n",
       "</style>\n",
       "<table border=\"1\" class=\"dataframe\">\n",
       "  <thead>\n",
       "    <tr style=\"text-align: right;\">\n",
       "      <th></th>\n",
       "      <th>date</th>\n",
       "      <th>customer_id</th>\n",
       "      <th>order_id</th>\n",
       "      <th>product</th>\n",
       "      <th>quantity</th>\n",
       "      <th>price</th>\n",
       "      <th>month</th>\n",
       "      <th>weekday</th>\n",
       "      <th>year</th>\n",
       "      <th>hour</th>\n",
       "      <th>key_word</th>\n",
       "      <th>category</th>\n",
       "    </tr>\n",
       "  </thead>\n",
       "  <tbody>\n",
       "    <tr>\n",
       "      <th>2107</th>\n",
       "      <td>2019-03-01 14:00:00</td>\n",
       "      <td>9650580f-4b5d-43a9-b93f-8598337d2948</td>\n",
       "      <td>14555</td>\n",
       "      <td>пеларгония розебудная margaretha укорененный ч...</td>\n",
       "      <td>1</td>\n",
       "      <td>135</td>\n",
       "      <td>3</td>\n",
       "      <td>4</td>\n",
       "      <td>2019</td>\n",
       "      <td>14</td>\n",
       "      <td>пеларгония</td>\n",
       "      <td>цветы</td>\n",
       "    </tr>\n",
       "    <tr>\n",
       "      <th>5563</th>\n",
       "      <td>2019-06-24 15:00:00</td>\n",
       "      <td>b975add8-83bc-4b4a-aae2-8c48829ee519</td>\n",
       "      <td>14874</td>\n",
       "      <td>петуния гибридная ампельная, диам. 12 см</td>\n",
       "      <td>1</td>\n",
       "      <td>142</td>\n",
       "      <td>6</td>\n",
       "      <td>0</td>\n",
       "      <td>2019</td>\n",
       "      <td>15</td>\n",
       "      <td>петуния</td>\n",
       "      <td>цветы</td>\n",
       "    </tr>\n",
       "    <tr>\n",
       "      <th>2320</th>\n",
       "      <td>2019-03-13 19:00:00</td>\n",
       "      <td>bd57cbda-03d8-4758-85e3-b9c671b6bca0</td>\n",
       "      <td>14572</td>\n",
       "      <td>пеларгония розебудная red pandora укорененный ...</td>\n",
       "      <td>1</td>\n",
       "      <td>135</td>\n",
       "      <td>3</td>\n",
       "      <td>2</td>\n",
       "      <td>2019</td>\n",
       "      <td>19</td>\n",
       "      <td>пеларгония</td>\n",
       "      <td>цветы</td>\n",
       "    </tr>\n",
       "    <tr>\n",
       "      <th>2322</th>\n",
       "      <td>2019-03-14 05:00:00</td>\n",
       "      <td>af96cc67-1726-43ba-bca1-1da7b78cb33a</td>\n",
       "      <td>70726</td>\n",
       "      <td>пеларгония розебудная red pandora укорененный ...</td>\n",
       "      <td>2</td>\n",
       "      <td>134</td>\n",
       "      <td>3</td>\n",
       "      <td>3</td>\n",
       "      <td>2019</td>\n",
       "      <td>5</td>\n",
       "      <td>пеларгония</td>\n",
       "      <td>цветы</td>\n",
       "    </tr>\n",
       "    <tr>\n",
       "      <th>2323</th>\n",
       "      <td>2019-03-14 07:00:00</td>\n",
       "      <td>95d61179-404e-4ebd-9762-29d800b1583e</td>\n",
       "      <td>70726</td>\n",
       "      <td>пеларгония розебудная red pandora укорененный ...</td>\n",
       "      <td>2</td>\n",
       "      <td>134</td>\n",
       "      <td>3</td>\n",
       "      <td>3</td>\n",
       "      <td>2019</td>\n",
       "      <td>7</td>\n",
       "      <td>пеларгония</td>\n",
       "      <td>цветы</td>\n",
       "    </tr>\n",
       "    <tr>\n",
       "      <th>...</th>\n",
       "      <td>...</td>\n",
       "      <td>...</td>\n",
       "      <td>...</td>\n",
       "      <td>...</td>\n",
       "      <td>...</td>\n",
       "      <td>...</td>\n",
       "      <td>...</td>\n",
       "      <td>...</td>\n",
       "      <td>...</td>\n",
       "      <td>...</td>\n",
       "      <td>...</td>\n",
       "      <td>...</td>\n",
       "    </tr>\n",
       "    <tr>\n",
       "      <th>272</th>\n",
       "      <td>2018-10-16 14:00:00</td>\n",
       "      <td>14891ee0-b828-4ea3-8566-6d4cac339de5</td>\n",
       "      <td>68663</td>\n",
       "      <td>таз пластмассовый со стиральной доской (иж), 1...</td>\n",
       "      <td>1</td>\n",
       "      <td>397</td>\n",
       "      <td>10</td>\n",
       "      <td>1</td>\n",
       "      <td>2018</td>\n",
       "      <td>14</td>\n",
       "      <td>таз</td>\n",
       "      <td>ванная</td>\n",
       "    </tr>\n",
       "    <tr>\n",
       "      <th>6088</th>\n",
       "      <td>2019-08-13 10:00:00</td>\n",
       "      <td>b18c373d-fcb4-4d14-8425-f26f21f52158</td>\n",
       "      <td>72275</td>\n",
       "      <td>таз пластмассовый 30,0 л овальный пц2913, 1404051</td>\n",
       "      <td>1</td>\n",
       "      <td>404</td>\n",
       "      <td>8</td>\n",
       "      <td>1</td>\n",
       "      <td>2019</td>\n",
       "      <td>10</td>\n",
       "      <td>таз</td>\n",
       "      <td>ванная</td>\n",
       "    </tr>\n",
       "    <tr>\n",
       "      <th>2972</th>\n",
       "      <td>2019-04-19 19:00:00</td>\n",
       "      <td>498f12a4-6a62-4725-8516-cf5dc9ab8a3a</td>\n",
       "      <td>71207</td>\n",
       "      <td>таз пластмассовый строительный круглый 40 л, 1...</td>\n",
       "      <td>3</td>\n",
       "      <td>188</td>\n",
       "      <td>4</td>\n",
       "      <td>4</td>\n",
       "      <td>2019</td>\n",
       "      <td>19</td>\n",
       "      <td>таз</td>\n",
       "      <td>ванная</td>\n",
       "    </tr>\n",
       "    <tr>\n",
       "      <th>1213</th>\n",
       "      <td>2018-12-15 15:00:00</td>\n",
       "      <td>b671b176-6d01-43f4-a168-a22ef061b2fd</td>\n",
       "      <td>69375</td>\n",
       "      <td>ёрш унитазный с деревянной ручкой , ваир 1712012</td>\n",
       "      <td>1</td>\n",
       "      <td>59</td>\n",
       "      <td>12</td>\n",
       "      <td>5</td>\n",
       "      <td>2018</td>\n",
       "      <td>15</td>\n",
       "      <td>ёрш</td>\n",
       "      <td>ванная</td>\n",
       "    </tr>\n",
       "    <tr>\n",
       "      <th>6735</th>\n",
       "      <td>2019-10-31 14:00:00</td>\n",
       "      <td>73d1cd35-5e5f-4629-8cf2-3fda829d4e58</td>\n",
       "      <td>73164</td>\n",
       "      <td>таз пластмассовый со стиральной доской (иж), 1...</td>\n",
       "      <td>1</td>\n",
       "      <td>397</td>\n",
       "      <td>10</td>\n",
       "      <td>3</td>\n",
       "      <td>2019</td>\n",
       "      <td>14</td>\n",
       "      <td>таз</td>\n",
       "      <td>ванная</td>\n",
       "    </tr>\n",
       "  </tbody>\n",
       "</table>\n",
       "<p>4872 rows × 12 columns</p>\n",
       "</div>"
      ],
      "text/plain": [
       "                    date                           customer_id  order_id  \\\n",
       "2107 2019-03-01 14:00:00  9650580f-4b5d-43a9-b93f-8598337d2948     14555   \n",
       "5563 2019-06-24 15:00:00  b975add8-83bc-4b4a-aae2-8c48829ee519     14874   \n",
       "2320 2019-03-13 19:00:00  bd57cbda-03d8-4758-85e3-b9c671b6bca0     14572   \n",
       "2322 2019-03-14 05:00:00  af96cc67-1726-43ba-bca1-1da7b78cb33a     70726   \n",
       "2323 2019-03-14 07:00:00  95d61179-404e-4ebd-9762-29d800b1583e     70726   \n",
       "...                  ...                                   ...       ...   \n",
       "272  2018-10-16 14:00:00  14891ee0-b828-4ea3-8566-6d4cac339de5     68663   \n",
       "6088 2019-08-13 10:00:00  b18c373d-fcb4-4d14-8425-f26f21f52158     72275   \n",
       "2972 2019-04-19 19:00:00  498f12a4-6a62-4725-8516-cf5dc9ab8a3a     71207   \n",
       "1213 2018-12-15 15:00:00  b671b176-6d01-43f4-a168-a22ef061b2fd     69375   \n",
       "6735 2019-10-31 14:00:00  73d1cd35-5e5f-4629-8cf2-3fda829d4e58     73164   \n",
       "\n",
       "                                                product  quantity  price  \\\n",
       "2107  пеларгония розебудная margaretha укорененный ч...         1    135   \n",
       "5563           петуния гибридная ампельная, диам. 12 см         1    142   \n",
       "2320  пеларгония розебудная red pandora укорененный ...         1    135   \n",
       "2322  пеларгония розебудная red pandora укорененный ...         2    134   \n",
       "2323  пеларгония розебудная red pandora укорененный ...         2    134   \n",
       "...                                                 ...       ...    ...   \n",
       "272   таз пластмассовый со стиральной доской (иж), 1...         1    397   \n",
       "6088  таз пластмассовый 30,0 л овальный пц2913, 1404051         1    404   \n",
       "2972  таз пластмассовый строительный круглый 40 л, 1...         3    188   \n",
       "1213   ёрш унитазный с деревянной ручкой , ваир 1712012         1     59   \n",
       "6735  таз пластмассовый со стиральной доской (иж), 1...         1    397   \n",
       "\n",
       "      month  weekday  year  hour    key_word category  \n",
       "2107      3        4  2019    14  пеларгония    цветы  \n",
       "5563      6        0  2019    15     петуния    цветы  \n",
       "2320      3        2  2019    19  пеларгония    цветы  \n",
       "2322      3        3  2019     5  пеларгония    цветы  \n",
       "2323      3        3  2019     7  пеларгония    цветы  \n",
       "...     ...      ...   ...   ...         ...      ...  \n",
       "272      10        1  2018    14         таз   ванная  \n",
       "6088      8        1  2019    10         таз   ванная  \n",
       "2972      4        4  2019    19         таз   ванная  \n",
       "1213     12        5  2018    15         ёрш   ванная  \n",
       "6735     10        3  2019    14         таз   ванная  \n",
       "\n",
       "[4872 rows x 12 columns]"
      ]
     },
     "execution_count": 66,
     "metadata": {},
     "output_type": "execute_result"
    }
   ],
   "source": [
    "df_new.sort_values(by = 'category', ascending=False)"
   ]
  },
  {
   "cell_type": "markdown",
   "metadata": {},
   "source": [
    "###### Узнаем какая категория приносит больше прибыли"
   ]
  },
  {
   "cell_type": "code",
   "execution_count": 67,
   "metadata": {},
   "outputs": [
    {
     "data": {
      "text/html": [
       "<div>\n",
       "<style scoped>\n",
       "    .dataframe tbody tr th:only-of-type {\n",
       "        vertical-align: middle;\n",
       "    }\n",
       "\n",
       "    .dataframe tbody tr th {\n",
       "        vertical-align: top;\n",
       "    }\n",
       "\n",
       "    .dataframe thead th {\n",
       "        text-align: right;\n",
       "    }\n",
       "</style>\n",
       "<table border=\"1\" class=\"dataframe\">\n",
       "  <thead>\n",
       "    <tr style=\"text-align: right;\">\n",
       "      <th></th>\n",
       "      <th>category</th>\n",
       "      <th>total_amount</th>\n",
       "    </tr>\n",
       "  </thead>\n",
       "  <tbody>\n",
       "    <tr>\n",
       "      <th>1</th>\n",
       "      <td>дом</td>\n",
       "      <td>1581284</td>\n",
       "    </tr>\n",
       "    <tr>\n",
       "      <th>8</th>\n",
       "      <td>цветы</td>\n",
       "      <td>229440</td>\n",
       "    </tr>\n",
       "    <tr>\n",
       "      <th>3</th>\n",
       "      <td>кухня</td>\n",
       "      <td>197628</td>\n",
       "    </tr>\n",
       "    <tr>\n",
       "      <th>6</th>\n",
       "      <td>сад</td>\n",
       "      <td>191061</td>\n",
       "    </tr>\n",
       "    <tr>\n",
       "      <th>5</th>\n",
       "      <td>ремонт</td>\n",
       "      <td>112776</td>\n",
       "    </tr>\n",
       "    <tr>\n",
       "      <th>4</th>\n",
       "      <td>мебель</td>\n",
       "      <td>94845</td>\n",
       "    </tr>\n",
       "    <tr>\n",
       "      <th>0</th>\n",
       "      <td>ванная</td>\n",
       "      <td>57345</td>\n",
       "    </tr>\n",
       "    <tr>\n",
       "      <th>7</th>\n",
       "      <td>спальня</td>\n",
       "      <td>42478</td>\n",
       "    </tr>\n",
       "    <tr>\n",
       "      <th>2</th>\n",
       "      <td>еда</td>\n",
       "      <td>844</td>\n",
       "    </tr>\n",
       "  </tbody>\n",
       "</table>\n",
       "</div>"
      ],
      "text/plain": [
       "  category  total_amount\n",
       "1      дом       1581284\n",
       "8    цветы        229440\n",
       "3    кухня        197628\n",
       "6      сад        191061\n",
       "5   ремонт        112776\n",
       "4   мебель         94845\n",
       "0   ванная         57345\n",
       "7  спальня         42478\n",
       "2      еда           844"
      ]
     },
     "metadata": {},
     "output_type": "display_data"
    }
   ],
   "source": [
    "category_by_price = df_new.groupby('category', as_index = False).agg({'price':'sum'})\\\n",
    ".rename(columns={'price':'total_amount'}).sort_values(by='total_amount', ascending=False)\n",
    "display(category_by_price)"
   ]
  },
  {
   "cell_type": "code",
   "execution_count": 69,
   "metadata": {},
   "outputs": [
    {
     "data": {
      "text/plain": [
       "<AxesSubplot:xlabel='category', ylabel='total_amount'>"
      ]
     },
     "execution_count": 69,
     "metadata": {},
     "output_type": "execute_result"
    },
    {
     "data": {
      "image/png": "[encoded data removed]",
      "text/plain": [
       "<Figure size 1080x360 with 1 Axes>"
      ]
     },
     "metadata": {
      "needs_background": "light"
     },
     "output_type": "display_data"
    }
   ],
   "source": [
    "plt.subplots(figsize=(15,5))\n",
    "sns.barplot(data=category_by_price, x='category', y='total_amount')"
   ]
  },
  {
   "cell_type": "markdown",
   "metadata": {},
   "source": [
    "###### Узнаем товары какой категории больше всего пользуются спросом"
   ]
  },
  {
   "cell_type": "code",
   "execution_count": 70,
   "metadata": {},
   "outputs": [
    {
     "data": {
      "text/html": [
       "<div>\n",
       "<style scoped>\n",
       "    .dataframe tbody tr th:only-of-type {\n",
       "        vertical-align: middle;\n",
       "    }\n",
       "\n",
       "    .dataframe tbody tr th {\n",
       "        vertical-align: top;\n",
       "    }\n",
       "\n",
       "    .dataframe thead th {\n",
       "        text-align: right;\n",
       "    }\n",
       "</style>\n",
       "<table border=\"1\" class=\"dataframe\">\n",
       "  <thead>\n",
       "    <tr style=\"text-align: right;\">\n",
       "      <th></th>\n",
       "      <th>category</th>\n",
       "      <th>total_quantity</th>\n",
       "    </tr>\n",
       "  </thead>\n",
       "  <tbody>\n",
       "    <tr>\n",
       "      <th>1</th>\n",
       "      <td>дом</td>\n",
       "      <td>5643</td>\n",
       "    </tr>\n",
       "    <tr>\n",
       "      <th>8</th>\n",
       "      <td>цветы</td>\n",
       "      <td>2165</td>\n",
       "    </tr>\n",
       "    <tr>\n",
       "      <th>6</th>\n",
       "      <td>сад</td>\n",
       "      <td>1994</td>\n",
       "    </tr>\n",
       "    <tr>\n",
       "      <th>3</th>\n",
       "      <td>кухня</td>\n",
       "      <td>1310</td>\n",
       "    </tr>\n",
       "    <tr>\n",
       "      <th>5</th>\n",
       "      <td>ремонт</td>\n",
       "      <td>874</td>\n",
       "    </tr>\n",
       "    <tr>\n",
       "      <th>0</th>\n",
       "      <td>ванная</td>\n",
       "      <td>420</td>\n",
       "    </tr>\n",
       "    <tr>\n",
       "      <th>4</th>\n",
       "      <td>мебель</td>\n",
       "      <td>324</td>\n",
       "    </tr>\n",
       "    <tr>\n",
       "      <th>7</th>\n",
       "      <td>спальня</td>\n",
       "      <td>81</td>\n",
       "    </tr>\n",
       "    <tr>\n",
       "      <th>2</th>\n",
       "      <td>еда</td>\n",
       "      <td>16</td>\n",
       "    </tr>\n",
       "  </tbody>\n",
       "</table>\n",
       "</div>"
      ],
      "text/plain": [
       "  category  total_quantity\n",
       "1      дом            5643\n",
       "8    цветы            2165\n",
       "6      сад            1994\n",
       "3    кухня            1310\n",
       "5   ремонт             874\n",
       "0   ванная             420\n",
       "4   мебель             324\n",
       "7  спальня              81\n",
       "2      еда              16"
      ]
     },
     "metadata": {},
     "output_type": "display_data"
    }
   ],
   "source": [
    "category_by_quantity = df_new.groupby('category', as_index = False).agg({'quantity':'sum'})\\\n",
    ".rename(columns={'quantity':'total_quantity'}).sort_values(by='total_quantity', ascending=False)\n",
    "display(category_by_quantity)"
   ]
  },
  {
   "cell_type": "code",
   "execution_count": 71,
   "metadata": {},
   "outputs": [
    {
     "data": {
      "text/plain": [
       "<AxesSubplot:xlabel='category', ylabel='total_quantity'>"
      ]
     },
     "execution_count": 71,
     "metadata": {},
     "output_type": "execute_result"
    },
    {
     "data": {
      "image/png": "[encoded data removed]",
      "text/plain": [
       "<Figure size 1080x360 with 1 Axes>"
      ]
     },
     "metadata": {
      "needs_background": "light"
     },
     "output_type": "display_data"
    }
   ],
   "source": [
    "plt.subplots(figsize=(15,5))\n",
    "sns.barplot(data=category_by_quantity, x='category', y='total_quantity')"
   ]
  },
  {
   "cell_type": "markdown",
   "metadata": {},
   "source": [
    "###### Визуализируем на диаграмме рассеяния соотношение количества и цены товара"
   ]
  },
  {
   "cell_type": "code",
   "execution_count": 29,
   "metadata": {},
   "outputs": [
    {
     "data": {
      "text/plain": [
       "<AxesSubplot:xlabel='quantity', ylabel='price'>"
      ]
     },
     "execution_count": 29,
     "metadata": {},
     "output_type": "execute_result"
    },
    {
     "data": {
      "image/png": "[encoded data removed]",
      "text/plain": [
       "<Figure size 1224x432 with 1 Axes>"
      ]
     },
     "metadata": {
      "needs_background": "light"
     },
     "output_type": "display_data"
    }
   ],
   "source": [
    "df_new.plot(x='quantity', y='price', kind='scatter', alpha=0.4, figsize=(17,6))"
   ]
  },
  {
   "cell_type": "markdown",
   "metadata": {},
   "source": [
    "В датасете количество товаров варьируется от 1 до 350. 90% товаров находится в диапазоне от 1 до 30 (количество товарных единиц). В основном в датасете товаров по 1-2-3 единицы. Стоимость товаров варируется от 9 до 16 000, основная часть товаров варьируется от 1 до 6-8 тыс. "
   ]
  },
  {
   "cell_type": "markdown",
   "metadata": {},
   "source": [
    "###### Визуализируем на столбчатой диаграмме распределение покупок по дням"
   ]
  },
  {
   "cell_type": "code",
   "execution_count": 72,
   "metadata": {},
   "outputs": [
    {
     "data": {
      "text/html": [
       "<div>\n",
       "<style scoped>\n",
       "    .dataframe tbody tr th:only-of-type {\n",
       "        vertical-align: middle;\n",
       "    }\n",
       "\n",
       "    .dataframe tbody tr th {\n",
       "        vertical-align: top;\n",
       "    }\n",
       "\n",
       "    .dataframe thead th {\n",
       "        text-align: right;\n",
       "    }\n",
       "</style>\n",
       "<table border=\"1\" class=\"dataframe\">\n",
       "  <thead>\n",
       "    <tr style=\"text-align: right;\">\n",
       "      <th></th>\n",
       "      <th>weekday</th>\n",
       "      <th>quantity</th>\n",
       "    </tr>\n",
       "  </thead>\n",
       "  <tbody>\n",
       "    <tr>\n",
       "      <th>0</th>\n",
       "      <td>0</td>\n",
       "      <td>870</td>\n",
       "    </tr>\n",
       "    <tr>\n",
       "      <th>1</th>\n",
       "      <td>1</td>\n",
       "      <td>805</td>\n",
       "    </tr>\n",
       "    <tr>\n",
       "      <th>2</th>\n",
       "      <td>2</td>\n",
       "      <td>717</td>\n",
       "    </tr>\n",
       "    <tr>\n",
       "      <th>3</th>\n",
       "      <td>3</td>\n",
       "      <td>786</td>\n",
       "    </tr>\n",
       "    <tr>\n",
       "      <th>4</th>\n",
       "      <td>4</td>\n",
       "      <td>633</td>\n",
       "    </tr>\n",
       "    <tr>\n",
       "      <th>5</th>\n",
       "      <td>5</td>\n",
       "      <td>473</td>\n",
       "    </tr>\n",
       "    <tr>\n",
       "      <th>6</th>\n",
       "      <td>6</td>\n",
       "      <td>588</td>\n",
       "    </tr>\n",
       "  </tbody>\n",
       "</table>\n",
       "</div>"
      ],
      "text/plain": [
       "   weekday  quantity\n",
       "0        0       870\n",
       "1        1       805\n",
       "2        2       717\n",
       "3        3       786\n",
       "4        4       633\n",
       "5        5       473\n",
       "6        6       588"
      ]
     },
     "metadata": {},
     "output_type": "display_data"
    }
   ],
   "source": [
    "groped_by_weekday = df_new.groupby('weekday', as_index=False).agg({'order_id':'count'}).rename(columns = {'order_id':'quantity'})\n",
    "display(groped_by_weekday)"
   ]
  },
  {
   "cell_type": "code",
   "execution_count": 73,
   "metadata": {},
   "outputs": [
    {
     "data": {
      "text/plain": [
       "<AxesSubplot:xlabel='weekday'>"
      ]
     },
     "execution_count": 73,
     "metadata": {},
     "output_type": "execute_result"
    },
    {
     "data": {
      "image/png": "[encoded data removed]",
      "text/plain": [
       "<Figure size 1224x432 with 1 Axes>"
      ]
     },
     "metadata": {
      "needs_background": "light"
     },
     "output_type": "display_data"
    }
   ],
   "source": [
    "groped_by_weekday.plot(x='weekday', y='quantity', kind='bar', alpha=0.4, figsize=(17,6))"
   ]
  },
  {
   "cell_type": "markdown",
   "metadata": {},
   "source": [
    "Больше всего заказов совершается в пн(870) и вт(805), чуть меньше в ср, наименьшее число заказов по дням делается в сб (473)"
   ]
  },
  {
   "cell_type": "markdown",
   "metadata": {},
   "source": [
    "###### Визуализируем на столбчатой диаграмме распределение покупок по часам"
   ]
  },
  {
   "cell_type": "code",
   "execution_count": 74,
   "metadata": {},
   "outputs": [
    {
     "data": {
      "text/html": [
       "<div>\n",
       "<style scoped>\n",
       "    .dataframe tbody tr th:only-of-type {\n",
       "        vertical-align: middle;\n",
       "    }\n",
       "\n",
       "    .dataframe tbody tr th {\n",
       "        vertical-align: top;\n",
       "    }\n",
       "\n",
       "    .dataframe thead th {\n",
       "        text-align: right;\n",
       "    }\n",
       "</style>\n",
       "<table border=\"1\" class=\"dataframe\">\n",
       "  <thead>\n",
       "    <tr style=\"text-align: right;\">\n",
       "      <th></th>\n",
       "      <th>hour</th>\n",
       "      <th>quantity</th>\n",
       "    </tr>\n",
       "  </thead>\n",
       "  <tbody>\n",
       "    <tr>\n",
       "      <th>0</th>\n",
       "      <td>0</td>\n",
       "      <td>50</td>\n",
       "    </tr>\n",
       "    <tr>\n",
       "      <th>1</th>\n",
       "      <td>1</td>\n",
       "      <td>41</td>\n",
       "    </tr>\n",
       "    <tr>\n",
       "      <th>2</th>\n",
       "      <td>2</td>\n",
       "      <td>16</td>\n",
       "    </tr>\n",
       "    <tr>\n",
       "      <th>3</th>\n",
       "      <td>3</td>\n",
       "      <td>7</td>\n",
       "    </tr>\n",
       "    <tr>\n",
       "      <th>4</th>\n",
       "      <td>4</td>\n",
       "      <td>25</td>\n",
       "    </tr>\n",
       "    <tr>\n",
       "      <th>5</th>\n",
       "      <td>5</td>\n",
       "      <td>36</td>\n",
       "    </tr>\n",
       "    <tr>\n",
       "      <th>6</th>\n",
       "      <td>6</td>\n",
       "      <td>28</td>\n",
       "    </tr>\n",
       "    <tr>\n",
       "      <th>7</th>\n",
       "      <td>7</td>\n",
       "      <td>83</td>\n",
       "    </tr>\n",
       "    <tr>\n",
       "      <th>8</th>\n",
       "      <td>8</td>\n",
       "      <td>240</td>\n",
       "    </tr>\n",
       "    <tr>\n",
       "      <th>9</th>\n",
       "      <td>9</td>\n",
       "      <td>320</td>\n",
       "    </tr>\n",
       "    <tr>\n",
       "      <th>10</th>\n",
       "      <td>10</td>\n",
       "      <td>336</td>\n",
       "    </tr>\n",
       "    <tr>\n",
       "      <th>11</th>\n",
       "      <td>11</td>\n",
       "      <td>394</td>\n",
       "    </tr>\n",
       "    <tr>\n",
       "      <th>12</th>\n",
       "      <td>12</td>\n",
       "      <td>352</td>\n",
       "    </tr>\n",
       "    <tr>\n",
       "      <th>13</th>\n",
       "      <td>13</td>\n",
       "      <td>438</td>\n",
       "    </tr>\n",
       "    <tr>\n",
       "      <th>14</th>\n",
       "      <td>14</td>\n",
       "      <td>383</td>\n",
       "    </tr>\n",
       "    <tr>\n",
       "      <th>15</th>\n",
       "      <td>15</td>\n",
       "      <td>306</td>\n",
       "    </tr>\n",
       "    <tr>\n",
       "      <th>16</th>\n",
       "      <td>16</td>\n",
       "      <td>349</td>\n",
       "    </tr>\n",
       "    <tr>\n",
       "      <th>17</th>\n",
       "      <td>17</td>\n",
       "      <td>298</td>\n",
       "    </tr>\n",
       "    <tr>\n",
       "      <th>18</th>\n",
       "      <td>18</td>\n",
       "      <td>163</td>\n",
       "    </tr>\n",
       "    <tr>\n",
       "      <th>19</th>\n",
       "      <td>19</td>\n",
       "      <td>261</td>\n",
       "    </tr>\n",
       "    <tr>\n",
       "      <th>20</th>\n",
       "      <td>20</td>\n",
       "      <td>200</td>\n",
       "    </tr>\n",
       "    <tr>\n",
       "      <th>21</th>\n",
       "      <td>21</td>\n",
       "      <td>237</td>\n",
       "    </tr>\n",
       "    <tr>\n",
       "      <th>22</th>\n",
       "      <td>22</td>\n",
       "      <td>236</td>\n",
       "    </tr>\n",
       "    <tr>\n",
       "      <th>23</th>\n",
       "      <td>23</td>\n",
       "      <td>73</td>\n",
       "    </tr>\n",
       "  </tbody>\n",
       "</table>\n",
       "</div>"
      ],
      "text/plain": [
       "    hour  quantity\n",
       "0      0        50\n",
       "1      1        41\n",
       "2      2        16\n",
       "3      3         7\n",
       "4      4        25\n",
       "5      5        36\n",
       "6      6        28\n",
       "7      7        83\n",
       "8      8       240\n",
       "9      9       320\n",
       "10    10       336\n",
       "11    11       394\n",
       "12    12       352\n",
       "13    13       438\n",
       "14    14       383\n",
       "15    15       306\n",
       "16    16       349\n",
       "17    17       298\n",
       "18    18       163\n",
       "19    19       261\n",
       "20    20       200\n",
       "21    21       237\n",
       "22    22       236\n",
       "23    23        73"
      ]
     },
     "metadata": {},
     "output_type": "display_data"
    }
   ],
   "source": [
    "groped_by_hour = df_new.groupby('hour', as_index=False).agg({'order_id':'count'}).rename(columns = {'order_id':'quantity'})\n",
    "display(groped_by_hour)"
   ]
  },
  {
   "cell_type": "code",
   "execution_count": 33,
   "metadata": {},
   "outputs": [
    {
     "data": {
      "text/plain": [
       "<AxesSubplot:xlabel='hour'>"
      ]
     },
     "execution_count": 33,
     "metadata": {},
     "output_type": "execute_result"
    },
    {
     "data": {
      "image/png": "[encoded data removed]",
      "text/plain": [
       "<Figure size 1224x432 with 1 Axes>"
      ]
     },
     "metadata": {
      "needs_background": "light"
     },
     "output_type": "display_data"
    }
   ],
   "source": [
    "groped_by_hour.plot(x='hour', y='quantity', kind='bar', alpha=0.4, figsize=(17,6))"
   ]
  },
  {
   "cell_type": "markdown",
   "metadata": {},
   "source": [
    "Наибольшее количество покупок делается в 9, 13, 14 и 16 часов. Наименьшее в ночное время - с 0 до 6 утра."
   ]
  },
  {
   "cell_type": "markdown",
   "metadata": {},
   "source": [
    "###### Визуализируем на столбчатой диаграмме распределение покупок по месяцам"
   ]
  },
  {
   "cell_type": "code",
   "execution_count": 75,
   "metadata": {},
   "outputs": [
    {
     "data": {
      "text/html": [
       "<div>\n",
       "<style scoped>\n",
       "    .dataframe tbody tr th:only-of-type {\n",
       "        vertical-align: middle;\n",
       "    }\n",
       "\n",
       "    .dataframe tbody tr th {\n",
       "        vertical-align: top;\n",
       "    }\n",
       "\n",
       "    .dataframe thead th {\n",
       "        text-align: right;\n",
       "    }\n",
       "</style>\n",
       "<table border=\"1\" class=\"dataframe\">\n",
       "  <thead>\n",
       "    <tr style=\"text-align: right;\">\n",
       "      <th></th>\n",
       "      <th>month</th>\n",
       "      <th>year</th>\n",
       "      <th>quantity</th>\n",
       "    </tr>\n",
       "  </thead>\n",
       "  <tbody>\n",
       "    <tr>\n",
       "      <th>0</th>\n",
       "      <td>1</td>\n",
       "      <td>2019</td>\n",
       "      <td>186</td>\n",
       "    </tr>\n",
       "    <tr>\n",
       "      <th>1</th>\n",
       "      <td>2</td>\n",
       "      <td>2019</td>\n",
       "      <td>363</td>\n",
       "    </tr>\n",
       "    <tr>\n",
       "      <th>2</th>\n",
       "      <td>3</td>\n",
       "      <td>2019</td>\n",
       "      <td>418</td>\n",
       "    </tr>\n",
       "    <tr>\n",
       "      <th>3</th>\n",
       "      <td>4</td>\n",
       "      <td>2019</td>\n",
       "      <td>677</td>\n",
       "    </tr>\n",
       "    <tr>\n",
       "      <th>4</th>\n",
       "      <td>5</td>\n",
       "      <td>2019</td>\n",
       "      <td>737</td>\n",
       "    </tr>\n",
       "    <tr>\n",
       "      <th>5</th>\n",
       "      <td>6</td>\n",
       "      <td>2019</td>\n",
       "      <td>306</td>\n",
       "    </tr>\n",
       "    <tr>\n",
       "      <th>6</th>\n",
       "      <td>7</td>\n",
       "      <td>2019</td>\n",
       "      <td>313</td>\n",
       "    </tr>\n",
       "    <tr>\n",
       "      <th>7</th>\n",
       "      <td>8</td>\n",
       "      <td>2019</td>\n",
       "      <td>202</td>\n",
       "    </tr>\n",
       "    <tr>\n",
       "      <th>8</th>\n",
       "      <td>9</td>\n",
       "      <td>2019</td>\n",
       "      <td>221</td>\n",
       "    </tr>\n",
       "    <tr>\n",
       "      <th>9</th>\n",
       "      <td>10</td>\n",
       "      <td>2018</td>\n",
       "      <td>484</td>\n",
       "    </tr>\n",
       "    <tr>\n",
       "      <th>10</th>\n",
       "      <td>10</td>\n",
       "      <td>2019</td>\n",
       "      <td>219</td>\n",
       "    </tr>\n",
       "    <tr>\n",
       "      <th>11</th>\n",
       "      <td>11</td>\n",
       "      <td>2018</td>\n",
       "      <td>428</td>\n",
       "    </tr>\n",
       "    <tr>\n",
       "      <th>12</th>\n",
       "      <td>12</td>\n",
       "      <td>2018</td>\n",
       "      <td>318</td>\n",
       "    </tr>\n",
       "  </tbody>\n",
       "</table>\n",
       "</div>"
      ],
      "text/plain": [
       "    month  year  quantity\n",
       "0       1  2019       186\n",
       "1       2  2019       363\n",
       "2       3  2019       418\n",
       "3       4  2019       677\n",
       "4       5  2019       737\n",
       "5       6  2019       306\n",
       "6       7  2019       313\n",
       "7       8  2019       202\n",
       "8       9  2019       221\n",
       "9      10  2018       484\n",
       "10     10  2019       219\n",
       "11     11  2018       428\n",
       "12     12  2018       318"
      ]
     },
     "metadata": {},
     "output_type": "display_data"
    }
   ],
   "source": [
    "groped_by_month = df_new.groupby(['month','year'], as_index=False).agg({'order_id':'count'}).rename(columns = {'order_id':'quantity'})\n",
    "display(groped_by_month)"
   ]
  },
  {
   "cell_type": "code",
   "execution_count": 35,
   "metadata": {},
   "outputs": [
    {
     "data": {
      "text/plain": [
       "<AxesSubplot:xlabel='month'>"
      ]
     },
     "execution_count": 35,
     "metadata": {},
     "output_type": "execute_result"
    },
    {
     "data": {
      "image/png": "[encoded data removed]",
      "text/plain": [
       "<Figure size 1224x432 with 1 Axes>"
      ]
     },
     "metadata": {
      "needs_background": "light"
     },
     "output_type": "display_data"
    }
   ],
   "source": [
    "groped_by_month.query('quantity!=250').plot(x='month', y='quantity', kind='bar', alpha=0.4, figsize=(17,6))"
   ]
  },
  {
   "cell_type": "markdown",
   "metadata": {},
   "source": [
    "Наибольшее число заказов в апреле, мае. Наименьшее в январе, августе, сентябре и октябре"
   ]
  },
  {
   "cell_type": "markdown",
   "metadata": {},
   "source": [
    "###### Проведем ABC, сгруппируем датасет по товарам"
   ]
  },
  {
   "cell_type": "code",
   "execution_count": 76,
   "metadata": {},
   "outputs": [
    {
     "data": {
      "text/html": [
       "<div>\n",
       "<style scoped>\n",
       "    .dataframe tbody tr th:only-of-type {\n",
       "        vertical-align: middle;\n",
       "    }\n",
       "\n",
       "    .dataframe tbody tr th {\n",
       "        vertical-align: top;\n",
       "    }\n",
       "\n",
       "    .dataframe thead th {\n",
       "        text-align: right;\n",
       "    }\n",
       "</style>\n",
       "<table border=\"1\" class=\"dataframe\">\n",
       "  <thead>\n",
       "    <tr style=\"text-align: right;\">\n",
       "      <th></th>\n",
       "      <th>product</th>\n",
       "      <th>total_amount</th>\n",
       "      <th>total_quantity</th>\n",
       "    </tr>\n",
       "  </thead>\n",
       "  <tbody>\n",
       "    <tr>\n",
       "      <th>0</th>\n",
       "      <td>tepмокружка avex freeflow 700 мл зеленый avex0759</td>\n",
       "      <td>2399</td>\n",
       "      <td>1</td>\n",
       "    </tr>\n",
       "    <tr>\n",
       "      <th>1</th>\n",
       "      <td>tepмокружка avex freeflow 700 мл сталь avex0776</td>\n",
       "      <td>2399</td>\n",
       "      <td>1</td>\n",
       "    </tr>\n",
       "    <tr>\n",
       "      <th>2</th>\n",
       "      <td>tepмокружка avex recharge 500 мл голубой avex0681</td>\n",
       "      <td>4198</td>\n",
       "      <td>2</td>\n",
       "    </tr>\n",
       "    <tr>\n",
       "      <th>3</th>\n",
       "      <td>автоматическая щетка leifheit для мытья окон с...</td>\n",
       "      <td>7229</td>\n",
       "      <td>1</td>\n",
       "    </tr>\n",
       "    <tr>\n",
       "      <th>4</th>\n",
       "      <td>агератум рассада однолетних цветов в кассете п...</td>\n",
       "      <td>210</td>\n",
       "      <td>2</td>\n",
       "    </tr>\n",
       "    <tr>\n",
       "      <th>...</th>\n",
       "      <td>...</td>\n",
       "      <td>...</td>\n",
       "      <td>...</td>\n",
       "    </tr>\n",
       "    <tr>\n",
       "      <th>2329</th>\n",
       "      <td>ёрш радиаторный без ручки 1807007</td>\n",
       "      <td>60</td>\n",
       "      <td>2</td>\n",
       "    </tr>\n",
       "    <tr>\n",
       "      <th>2330</th>\n",
       "      <td>ёрш унитазный пластмассовый, ваир 1712002</td>\n",
       "      <td>44</td>\n",
       "      <td>1</td>\n",
       "    </tr>\n",
       "    <tr>\n",
       "      <th>2331</th>\n",
       "      <td>ёрш унитазный с деревянной ручкой , ваир 1712012</td>\n",
       "      <td>452</td>\n",
       "      <td>103</td>\n",
       "    </tr>\n",
       "    <tr>\n",
       "      <th>2332</th>\n",
       "      <td>ёрш унитазный с подставкой wc \"люкс\", мультипл...</td>\n",
       "      <td>112</td>\n",
       "      <td>3</td>\n",
       "    </tr>\n",
       "    <tr>\n",
       "      <th>2333</th>\n",
       "      <td>ёрш унитазный с подставкой wc \"стандарт\", муль...</td>\n",
       "      <td>67</td>\n",
       "      <td>1</td>\n",
       "    </tr>\n",
       "  </tbody>\n",
       "</table>\n",
       "<p>2334 rows × 3 columns</p>\n",
       "</div>"
      ],
      "text/plain": [
       "                                                product  total_amount  \\\n",
       "0     tepмокружка avex freeflow 700 мл зеленый avex0759          2399   \n",
       "1       tepмокружка avex freeflow 700 мл сталь avex0776          2399   \n",
       "2     tepмокружка avex recharge 500 мл голубой avex0681          4198   \n",
       "3     автоматическая щетка leifheit для мытья окон с...          7229   \n",
       "4     агератум рассада однолетних цветов в кассете п...           210   \n",
       "...                                                 ...           ...   \n",
       "2329                  ёрш радиаторный без ручки 1807007            60   \n",
       "2330          ёрш унитазный пластмассовый, ваир 1712002            44   \n",
       "2331   ёрш унитазный с деревянной ручкой , ваир 1712012           452   \n",
       "2332  ёрш унитазный с подставкой wc \"люкс\", мультипл...           112   \n",
       "2333  ёрш унитазный с подставкой wc \"стандарт\", муль...            67   \n",
       "\n",
       "      total_quantity  \n",
       "0                  1  \n",
       "1                  1  \n",
       "2                  2  \n",
       "3                  1  \n",
       "4                  2  \n",
       "...              ...  \n",
       "2329               2  \n",
       "2330               1  \n",
       "2331             103  \n",
       "2332               3  \n",
       "2333               1  \n",
       "\n",
       "[2334 rows x 3 columns]"
      ]
     },
     "metadata": {},
     "output_type": "display_data"
    }
   ],
   "source": [
    "total_grouped = df_new.groupby('product', as_index=False).agg({'price':'sum', 'quantity':'sum'})\\\n",
    ".rename(columns={'price':'total_amount','quantity':'total_quantity'})\n",
    "display(total_grouped)"
   ]
  },
  {
   "cell_type": "markdown",
   "metadata": {},
   "source": [
    "###### Выведем перцентиль по итоговой сумме товара, напишем функцию для определения кластера по сумме товара:"
   ]
  },
  {
   "cell_type": "code",
   "execution_count": 77,
   "metadata": {},
   "outputs": [
    {
     "data": {
      "text/plain": [
       "array([  97., 1349.])"
      ]
     },
     "execution_count": 77,
     "metadata": {},
     "output_type": "execute_result"
    }
   ],
   "source": [
    "percentile_price = np.percentile(total_grouped['total_amount'], [20,80])\n",
    "perc_20 = percentile_price[0]\n",
    "perc_80 = percentile_price[1]\n",
    "percentile_price"
   ]
  },
  {
   "cell_type": "code",
   "execution_count": 78,
   "metadata": {},
   "outputs": [],
   "source": [
    "def cluster_price(i):\n",
    "    try:\n",
    "        if i>perc_80:\n",
    "            return 'Основной'\n",
    "        elif i<perc_20:\n",
    "            return 'Исключить'\n",
    "        else:\n",
    "            return 'Дополнительный'\n",
    "    except:\n",
    "        pass\n",
    "    \n",
    "total_grouped['cluster_price'] = total_grouped['total_amount'].apply(cluster_price)"
   ]
  },
  {
   "cell_type": "markdown",
   "metadata": {},
   "source": [
    "###### Выведем перцентиль по итоговому количеству товара, напишем функцию для определения кластера по количеству товара:"
   ]
  },
  {
   "cell_type": "code",
   "execution_count": 79,
   "metadata": {},
   "outputs": [
    {
     "data": {
      "text/plain": [
       "array([1., 5.])"
      ]
     },
     "execution_count": 79,
     "metadata": {},
     "output_type": "execute_result"
    }
   ],
   "source": [
    "percentile_quantity = np.percentile(total_grouped['total_quantity'], [20,80])\n",
    "perce_20 = percentile_quantity[0]\n",
    "perce_80 = percentile_quantity[1]\n",
    "percentile_quantity"
   ]
  },
  {
   "cell_type": "code",
   "execution_count": 80,
   "metadata": {},
   "outputs": [],
   "source": [
    "def cluster_quantity(i):\n",
    "    try:\n",
    "        if i>perce_80:\n",
    "            return 'Основной'\n",
    "        elif i<=perce_20:\n",
    "            return 'Исключить'\n",
    "        else:\n",
    "            return 'Дополнительный'\n",
    "    except:\n",
    "        pass\n",
    "    \n",
    "total_grouped['cluster_quantity'] = total_grouped['total_quantity'].apply(cluster_quantity)"
   ]
  },
  {
   "cell_type": "code",
   "execution_count": 41,
   "metadata": {},
   "outputs": [
    {
     "data": {
      "text/html": [
       "<div>\n",
       "<style scoped>\n",
       "    .dataframe tbody tr th:only-of-type {\n",
       "        vertical-align: middle;\n",
       "    }\n",
       "\n",
       "    .dataframe tbody tr th {\n",
       "        vertical-align: top;\n",
       "    }\n",
       "\n",
       "    .dataframe thead th {\n",
       "        text-align: right;\n",
       "    }\n",
       "</style>\n",
       "<table border=\"1\" class=\"dataframe\">\n",
       "  <thead>\n",
       "    <tr style=\"text-align: right;\">\n",
       "      <th></th>\n",
       "      <th>product</th>\n",
       "      <th>total_amount</th>\n",
       "      <th>total_quantity</th>\n",
       "      <th>cluster_price</th>\n",
       "      <th>cluster_quantity</th>\n",
       "    </tr>\n",
       "  </thead>\n",
       "  <tbody>\n",
       "    <tr>\n",
       "      <th>0</th>\n",
       "      <td>tepмокружка avex freeflow 700 мл зеленый avex0759</td>\n",
       "      <td>2399</td>\n",
       "      <td>1</td>\n",
       "      <td>Основной</td>\n",
       "      <td>Исключить</td>\n",
       "    </tr>\n",
       "    <tr>\n",
       "      <th>1</th>\n",
       "      <td>tepмокружка avex freeflow 700 мл сталь avex0776</td>\n",
       "      <td>2399</td>\n",
       "      <td>1</td>\n",
       "      <td>Основной</td>\n",
       "      <td>Исключить</td>\n",
       "    </tr>\n",
       "    <tr>\n",
       "      <th>2</th>\n",
       "      <td>tepмокружка avex recharge 500 мл голубой avex0681</td>\n",
       "      <td>4198</td>\n",
       "      <td>2</td>\n",
       "      <td>Основной</td>\n",
       "      <td>Дополнительный</td>\n",
       "    </tr>\n",
       "    <tr>\n",
       "      <th>3</th>\n",
       "      <td>автоматическая щетка leifheit для мытья окон с...</td>\n",
       "      <td>7229</td>\n",
       "      <td>1</td>\n",
       "      <td>Основной</td>\n",
       "      <td>Исключить</td>\n",
       "    </tr>\n",
       "    <tr>\n",
       "      <th>4</th>\n",
       "      <td>агератум рассада однолетних цветов в кассете п...</td>\n",
       "      <td>210</td>\n",
       "      <td>2</td>\n",
       "      <td>Дополнительный</td>\n",
       "      <td>Дополнительный</td>\n",
       "    </tr>\n",
       "    <tr>\n",
       "      <th>...</th>\n",
       "      <td>...</td>\n",
       "      <td>...</td>\n",
       "      <td>...</td>\n",
       "      <td>...</td>\n",
       "      <td>...</td>\n",
       "    </tr>\n",
       "    <tr>\n",
       "      <th>2326</th>\n",
       "      <td>ёрш радиаторный без ручки 1807007</td>\n",
       "      <td>60</td>\n",
       "      <td>2</td>\n",
       "      <td>Исключить</td>\n",
       "      <td>Дополнительный</td>\n",
       "    </tr>\n",
       "    <tr>\n",
       "      <th>2327</th>\n",
       "      <td>ёрш унитазный пластмассовый, ваир 1712002</td>\n",
       "      <td>44</td>\n",
       "      <td>1</td>\n",
       "      <td>Исключить</td>\n",
       "      <td>Исключить</td>\n",
       "    </tr>\n",
       "    <tr>\n",
       "      <th>2328</th>\n",
       "      <td>ёрш унитазный с деревянной ручкой , ваир 1712012</td>\n",
       "      <td>452</td>\n",
       "      <td>103</td>\n",
       "      <td>Дополнительный</td>\n",
       "      <td>Основной</td>\n",
       "    </tr>\n",
       "    <tr>\n",
       "      <th>2329</th>\n",
       "      <td>ёрш унитазный с подставкой wc \"люкс\", мультипл...</td>\n",
       "      <td>112</td>\n",
       "      <td>3</td>\n",
       "      <td>Дополнительный</td>\n",
       "      <td>Дополнительный</td>\n",
       "    </tr>\n",
       "    <tr>\n",
       "      <th>2330</th>\n",
       "      <td>ёрш унитазный с подставкой wc \"стандарт\", муль...</td>\n",
       "      <td>67</td>\n",
       "      <td>1</td>\n",
       "      <td>Исключить</td>\n",
       "      <td>Исключить</td>\n",
       "    </tr>\n",
       "  </tbody>\n",
       "</table>\n",
       "<p>2331 rows × 5 columns</p>\n",
       "</div>"
      ],
      "text/plain": [
       "                                                product  total_amount  \\\n",
       "0     tepмокружка avex freeflow 700 мл зеленый avex0759          2399   \n",
       "1       tepмокружка avex freeflow 700 мл сталь avex0776          2399   \n",
       "2     tepмокружка avex recharge 500 мл голубой avex0681          4198   \n",
       "3     автоматическая щетка leifheit для мытья окон с...          7229   \n",
       "4     агератум рассада однолетних цветов в кассете п...           210   \n",
       "...                                                 ...           ...   \n",
       "2326                  ёрш радиаторный без ручки 1807007            60   \n",
       "2327          ёрш унитазный пластмассовый, ваир 1712002            44   \n",
       "2328   ёрш унитазный с деревянной ручкой , ваир 1712012           452   \n",
       "2329  ёрш унитазный с подставкой wc \"люкс\", мультипл...           112   \n",
       "2330  ёрш унитазный с подставкой wc \"стандарт\", муль...            67   \n",
       "\n",
       "      total_quantity   cluster_price cluster_quantity  \n",
       "0                  1        Основной        Исключить  \n",
       "1                  1        Основной        Исключить  \n",
       "2                  2        Основной   Дополнительный  \n",
       "3                  1        Основной        Исключить  \n",
       "4                  2  Дополнительный   Дополнительный  \n",
       "...              ...             ...              ...  \n",
       "2326               2       Исключить   Дополнительный  \n",
       "2327               1       Исключить        Исключить  \n",
       "2328             103  Дополнительный         Основной  \n",
       "2329               3  Дополнительный   Дополнительный  \n",
       "2330               1       Исключить        Исключить  \n",
       "\n",
       "[2331 rows x 5 columns]"
      ]
     },
     "metadata": {},
     "output_type": "display_data"
    }
   ],
   "source": [
    "display(total_grouped)"
   ]
  },
  {
   "cell_type": "code",
   "execution_count": 42,
   "metadata": {},
   "outputs": [
    {
     "data": {
      "image/png": "[encoded data removed]",
      "text/plain": [
       "<Figure size 432x288 with 1 Axes>"
      ]
     },
     "metadata": {
      "needs_background": "light"
     },
     "output_type": "display_data"
    }
   ],
   "source": [
    "total_grouped_price = total_grouped.groupby('cluster_price', as_index=False).agg({'total_amount':'sum'})\n",
    "plt.bar(total_grouped_price['cluster_price'],total_grouped_price['total_amount'])\n",
    "plt.title('Распределение вырчки товаров по кластерам \"Основной\", \"Дополнительный\", \"Исключить\"')\n",
    "plt.ylabel('Сумма')\n",
    "plt.xlabel('Кластеры')\n",
    "plt.show()"
   ]
  },
  {
   "cell_type": "code",
   "execution_count": 43,
   "metadata": {},
   "outputs": [
    {
     "data": {
      "image/png": "[encoded data removed]",
      "text/plain": [
       "<Figure size 432x288 with 1 Axes>"
      ]
     },
     "metadata": {
      "needs_background": "light"
     },
     "output_type": "display_data"
    }
   ],
   "source": [
    "total_grouped_quantity = total_grouped.groupby('cluster_quantity', as_index=False).agg({'total_quantity':'sum'})\n",
    "plt.bar(total_grouped_quantity['cluster_quantity'],total_grouped_quantity['total_quantity'])\n",
    "plt.title('Распределение количества товаров по кластерам \"Основной\", \"Дополнительный\", \"Исключить\"')\n",
    "plt.ylabel('Количество')\n",
    "plt.xlabel('Кластеры')\n",
    "plt.show()"
   ]
  },
  {
   "cell_type": "markdown",
   "metadata": {},
   "source": [
    "###### Выведем ТОП 5 товаров по наибольшей сумме:"
   ]
  },
  {
   "cell_type": "code",
   "execution_count": 44,
   "metadata": {},
   "outputs": [
    {
     "data": {
      "text/html": [
       "<div>\n",
       "<style scoped>\n",
       "    .dataframe tbody tr th:only-of-type {\n",
       "        vertical-align: middle;\n",
       "    }\n",
       "\n",
       "    .dataframe tbody tr th {\n",
       "        vertical-align: top;\n",
       "    }\n",
       "\n",
       "    .dataframe thead th {\n",
       "        text-align: right;\n",
       "    }\n",
       "</style>\n",
       "<table border=\"1\" class=\"dataframe\">\n",
       "  <thead>\n",
       "    <tr style=\"text-align: right;\">\n",
       "      <th></th>\n",
       "      <th>product</th>\n",
       "      <th>total_amount</th>\n",
       "    </tr>\n",
       "  </thead>\n",
       "  <tbody>\n",
       "    <tr>\n",
       "      <th>1603</th>\n",
       "      <td>сумка-тележка 2-х колесная gimi argo синяя</td>\n",
       "      <td>50405</td>\n",
       "    </tr>\n",
       "    <tr>\n",
       "      <th>1629</th>\n",
       "      <td>сумка-тележка хозяйственная andersen scala sho...</td>\n",
       "      <td>28045</td>\n",
       "    </tr>\n",
       "    <tr>\n",
       "      <th>1614</th>\n",
       "      <td>сумка-тележка 3-х колесная gimi tris floral синяя</td>\n",
       "      <td>18893</td>\n",
       "    </tr>\n",
       "    <tr>\n",
       "      <th>1634</th>\n",
       "      <td>сумка-тележка хозяйственная andersen treppenst...</td>\n",
       "      <td>18560</td>\n",
       "    </tr>\n",
       "    <tr>\n",
       "      <th>1632</th>\n",
       "      <td>сумка-тележка хозяйственная andersen scala sho...</td>\n",
       "      <td>18296</td>\n",
       "    </tr>\n",
       "  </tbody>\n",
       "</table>\n",
       "</div>"
      ],
      "text/plain": [
       "                                                product  total_amount\n",
       "1603         сумка-тележка 2-х колесная gimi argo синяя         50405\n",
       "1629  сумка-тележка хозяйственная andersen scala sho...         28045\n",
       "1614  сумка-тележка 3-х колесная gimi tris floral синяя         18893\n",
       "1634  сумка-тележка хозяйственная andersen treppenst...         18560\n",
       "1632  сумка-тележка хозяйственная andersen scala sho...         18296"
      ]
     },
     "execution_count": 44,
     "metadata": {},
     "output_type": "execute_result"
    }
   ],
   "source": [
    "top_5_by_price = total_grouped.sort_values(by = 'total_amount',ascending=False).head(5)\n",
    "top_5_by_price[['product', 'total_amount']]"
   ]
  },
  {
   "cell_type": "code",
   "execution_count": 45,
   "metadata": {},
   "outputs": [
    {
     "data": {
      "text/plain": [
       "<AxesSubplot:xlabel='total_amount', ylabel='product'>"
      ]
     },
     "execution_count": 45,
     "metadata": {},
     "output_type": "execute_result"
    },
    {
     "data": {
      "image/png": "[encoded data removed]",
      "text/plain": [
       "<Figure size 1080x360 with 1 Axes>"
      ]
     },
     "metadata": {
      "needs_background": "light"
     },
     "output_type": "display_data"
    }
   ],
   "source": [
    "plt.subplots(figsize=(15,5))\n",
    "sns.barplot(data=top_5_by_price, y='product', x='total_amount')"
   ]
  },
  {
   "cell_type": "markdown",
   "metadata": {},
   "source": [
    "###### Выведем ТОП 5 товаров по наибольшеve количеству:"
   ]
  },
  {
   "cell_type": "code",
   "execution_count": 46,
   "metadata": {},
   "outputs": [
    {
     "data": {
      "text/html": [
       "<div>\n",
       "<style scoped>\n",
       "    .dataframe tbody tr th:only-of-type {\n",
       "        vertical-align: middle;\n",
       "    }\n",
       "\n",
       "    .dataframe tbody tr th {\n",
       "        vertical-align: top;\n",
       "    }\n",
       "\n",
       "    .dataframe thead th {\n",
       "        text-align: right;\n",
       "    }\n",
       "</style>\n",
       "<table border=\"1\" class=\"dataframe\">\n",
       "  <thead>\n",
       "    <tr style=\"text-align: right;\">\n",
       "      <th></th>\n",
       "      <th>product</th>\n",
       "      <th>total_quantity</th>\n",
       "    </tr>\n",
       "  </thead>\n",
       "  <tbody>\n",
       "    <tr>\n",
       "      <th>827</th>\n",
       "      <td>муляж яблоко 9 см красное</td>\n",
       "      <td>618</td>\n",
       "    </tr>\n",
       "    <tr>\n",
       "      <th>184</th>\n",
       "      <td>вешалки мягкие для деликатных вещей 3 шт шоколад</td>\n",
       "      <td>335</td>\n",
       "    </tr>\n",
       "    <tr>\n",
       "      <th>829</th>\n",
       "      <td>муляж яблоко зеленый 9 см полиуретан</td>\n",
       "      <td>308</td>\n",
       "    </tr>\n",
       "    <tr>\n",
       "      <th>1438</th>\n",
       "      <td>ручка-скоба рс-100 белая *трибатрон*, 1108035</td>\n",
       "      <td>200</td>\n",
       "    </tr>\n",
       "    <tr>\n",
       "      <th>1104</th>\n",
       "      <td>плечики пластмассовые размер 52 - 54 тула 1205158</td>\n",
       "      <td>160</td>\n",
       "    </tr>\n",
       "  </tbody>\n",
       "</table>\n",
       "</div>"
      ],
      "text/plain": [
       "                                                product  total_quantity\n",
       "827                           муляж яблоко 9 см красное             618\n",
       "184    вешалки мягкие для деликатных вещей 3 шт шоколад             335\n",
       "829                муляж яблоко зеленый 9 см полиуретан             308\n",
       "1438      ручка-скоба рс-100 белая *трибатрон*, 1108035             200\n",
       "1104  плечики пластмассовые размер 52 - 54 тула 1205158             160"
      ]
     },
     "execution_count": 46,
     "metadata": {},
     "output_type": "execute_result"
    }
   ],
   "source": [
    "top_5_by_quantity = total_grouped.sort_values(by = 'total_quantity',ascending=False).head(5)\n",
    "top_5_by_quantity[['product','total_quantity']]"
   ]
  },
  {
   "cell_type": "code",
   "execution_count": 47,
   "metadata": {},
   "outputs": [
    {
     "data": {
      "text/plain": [
       "<AxesSubplot:xlabel='total_quantity', ylabel='product'>"
      ]
     },
     "execution_count": 47,
     "metadata": {},
     "output_type": "execute_result"
    },
    {
     "data": {
      "image/png": "[encoded data removed]",
      "text/plain": [
       "<Figure size 1080x360 with 1 Axes>"
      ]
     },
     "metadata": {
      "needs_background": "light"
     },
     "output_type": "display_data"
    }
   ],
   "source": [
    "plt.subplots(figsize=(15,5))\n",
    "sns.barplot(data=top_5_by_quantity, y='product', x='total_quantity')"
   ]
  },
  {
   "cell_type": "code",
   "execution_count": 48,
   "metadata": {},
   "outputs": [
    {
     "name": "stdout",
     "output_type": "stream",
     "text": [
      "Товары на вывод из ассортимента 219\n"
     ]
    },
    {
     "data": {
      "text/plain": [
       "32                        арбуз огонек раннеспелый d-7 см\n",
       "33                арбуз сибирские огни раннеспелый d-7 см\n",
       "34                      арбуз холодок позднеспелая d-7 см\n",
       "35                    арбуз шуга бейби раннеспелый d-7 см\n",
       "37      ароматизированное средство дудаления известков...\n",
       "                              ...                        \n",
       "2296       щетка-сметка с пластиковой ручкой лаура sv3020\n",
       "2302                  эвкалипт сильвердроп d-7 см h-30 см\n",
       "2303                 эвкалипт сильвердроп в горшке d-7 см\n",
       "2327            ёрш унитазный пластмассовый, ваир 1712002\n",
       "2330    ёрш унитазный с подставкой wc \"стандарт\", муль...\n",
       "Name: product, Length: 219, dtype: object"
      ]
     },
     "metadata": {},
     "output_type": "display_data"
    }
   ],
   "source": [
    "print('Товары на вывод из ассортимента', total_grouped.loc[(total_grouped['cluster_quantity']=='Исключить')&(total_grouped['cluster_price']=='Исключить')]['product'].count())\n",
    "\n",
    "product_for_out = total_grouped.loc[(total_grouped['cluster_quantity']=='Исключить') & (total_grouped['cluster_price']=='Исключить')]['product']\n",
    "\n",
    "display(product_for_out)"
   ]
  },
  {
   "cell_type": "markdown",
   "metadata": {},
   "source": [
    "Вывод по разделу:\n",
    "\n",
    "Предоставлен датасет за период с 01/10/2018 по 31/10/2019. Добавлены новые столбцы month, weekday, hour и key_word(ключевое слово). Категории по выручке:\n",
    "\n",
    "дом(1 581 284), цветы(229 440), кухня(197 628), сад(191 061), ремонт (112 776), мебель(94 845), ванная (57 345), спальня\t(42 478), еда (844)\n",
    "\n",
    "Категории по количеству:\n",
    "\n",
    "дом(5643), цветы(2165), сад(1994), кухня(1310), ремонт(874),ванная\t(420), мебель(324), спальня(81), еда(16)\n",
    "\n",
    "В датасете количество товаров варьируется от 1 до 350. 90% товаров находится в диапазоне от 1 до 30 (количество товарных единиц). В основном в датасете товаров по 1-2-3 единицы. Стоимость товаров варируется от 9 до 16 000, основная часть товаров варьируется от 1 до 6-8 тыс.\n",
    "\n",
    "Больше всего заказов совершается в пн(870) и вт(805), чуть меньше в ср, наименьшее число заказов по дням делается в сб (473). Наибольшее количество покупок делается в 9, 13, 14 и 16 часов. Наименьшее в ночное время - с 0 до 6 утра. Наибольшее число заказов в апреле, мае. Наименьшее в январе, августе, сентябре и октябре.\n",
    "\n",
    "ТОП 5 товаров по наибольшей выручке:\n",
    "\n",
    "1. сумка-тележка 2-х колесная gimi argo синяя\t50405\n",
    "2. сумка-тележка хозяйственная andersen scala sho...\t28045\n",
    "3. сумка-тележка 3-х колесная gimi tris floral синяя\t18893\n",
    "4. сумка-тележка хозяйственная andersen treppenst...\t18560\n",
    "5. сумка-тележка хозяйственная andersen scala sho...\t18296\n",
    "\n",
    "\n",
    "ТОП 5 товаров по количеству:\n",
    "\n",
    "1. муляж яблоко 9 см красное\t618\n",
    "2. вешалки мягкие для деликатных вещей 3 шт шоколад\t335\n",
    "3. муляж яблоко зеленый 9 см полиуретан\t308\n",
    "4. ручка-скоба рс-100 белая *трибатрон*, 1108035\t200\n",
    "5. плечики пластмассовые размер 52 - 54 тула 1205158\t160"
   ]
  },
  {
   "cell_type": "markdown",
   "metadata": {},
   "source": [
    "### Формирование гипотез"
   ]
  },
  {
   "cell_type": "markdown",
   "metadata": {},
   "source": [
    "###### Сформулируем гипотезы\n",
    "\n",
    "- нулевая гипотеза: Различий между основной и дополнительной категорией нет\n",
    "- альтернативная гипотеза: Различия между основной и дополнительной категорией есть"
   ]
  },
  {
   "cell_type": "code",
   "execution_count": 49,
   "metadata": {},
   "outputs": [
    {
     "name": "stdout",
     "output_type": "stream",
     "text": [
      "1.3093795168321329e-64\n",
      "Отвергаем нулевую гипотезу\n"
     ]
    }
   ],
   "source": [
    "alpha = 0.05\n",
    "sample_pr_A = total_grouped[total_grouped['cluster_price']=='Основной']['total_amount']\n",
    "sample_pr_B = total_grouped[total_grouped['cluster_price']=='Дополнительный']['total_amount']\n",
    "\n",
    "results = st.ttest_ind(sample_pr_A, sample_pr_B, equal_var=False)\n",
    "\n",
    "print(results.pvalue)\n",
    "\n",
    "if results.pvalue<alpha:\n",
    "    print('Отвергаем нулевую гипотезу')\n",
    "else:\n",
    "    print('Не получилось отвергнуть нулевую гипотезу')"
   ]
  },
  {
   "cell_type": "code",
   "execution_count": 50,
   "metadata": {},
   "outputs": [
    {
     "data": {
      "text/plain": [
       "<AxesSubplot:>"
      ]
     },
     "execution_count": 50,
     "metadata": {},
     "output_type": "execute_result"
    },
    {
     "data": {
      "image/png": "[encoded data removed]",
      "text/plain": [
       "<Figure size 720x360 with 1 Axes>"
      ]
     },
     "metadata": {
      "needs_background": "light"
     },
     "output_type": "display_data"
    }
   ],
   "source": [
    "total_grouped[total_grouped['cluster_price']=='Основной']['total_amount'].hist(bins=35, figsize=(10,5), alpha=0.5, color='green')\n",
    "total_grouped[total_grouped['cluster_price']=='Дополнительный']['total_amount'].hist(bins=35, figsize=(10,5), alpha=0.5, color='blue')"
   ]
  },
  {
   "cell_type": "code",
   "execution_count": 51,
   "metadata": {},
   "outputs": [
    {
     "name": "stdout",
     "output_type": "stream",
     "text": [
      "4.642290212173868e-18\n",
      "Отвергаем нулевую гипотезу\n"
     ]
    }
   ],
   "source": [
    "alpha = 0.05\n",
    "sample_qu_A = total_grouped[total_grouped['cluster_quantity']=='Основной']['total_quantity']\n",
    "sample_qu_B = total_grouped[total_grouped['cluster_quantity']=='Дополнительный']['total_quantity']\n",
    "\n",
    "results = st.ttest_ind(sample_qu_A, sample_qu_B, equal_var=False)\n",
    "\n",
    "print(results.pvalue)\n",
    "\n",
    "if results.pvalue<alpha:\n",
    "    print('Отвергаем нулевую гипотезу')\n",
    "else:\n",
    "    print('Не получилось отвергнуть нулевую гипотезу')"
   ]
  },
  {
   "cell_type": "code",
   "execution_count": 52,
   "metadata": {},
   "outputs": [
    {
     "data": {
      "text/plain": [
       "<AxesSubplot:>"
      ]
     },
     "execution_count": 52,
     "metadata": {},
     "output_type": "execute_result"
    },
    {
     "data": {
      "image/png": "[encoded data removed]",
      "text/plain": [
       "<Figure size 720x360 with 1 Axes>"
      ]
     },
     "metadata": {
      "needs_background": "light"
     },
     "output_type": "display_data"
    }
   ],
   "source": [
    "total_grouped[total_grouped['cluster_quantity']=='Основной']['total_quantity'].hist(bins=35, figsize=(10,5), alpha=0.5, color='green')\n",
    "total_grouped[total_grouped['cluster_quantity']=='Дополнительный']['total_quantity'].hist(bins=35, figsize=(10,5), alpha=0.5, color='blue')"
   ]
  },
  {
   "cell_type": "markdown",
   "metadata": {},
   "source": [
    "Вывод по разделу:\n",
    "\n",
    "При проверке гипотез и в первом, и во втором случаях отвергаем нулевую гипотезу о равенстве двух выборок: (1) что основной и дополнительный ассортимент по выручке равны, (2) что основной и дополнительный ассортимент по количеству продаваемых товаров равны."
   ]
  },
  {
   "cell_type": "markdown",
   "metadata": {},
   "source": [
    "### Итоговый вывод\n",
    "\n",
    "\n",
    "Предоставлен датасет за период с 01/10/2018 по 31/10/2019. Добавлены новые столбцы month, weekday, hour и key_word(ключевое слово). Также добавлен новый столбец с категорией товара. \n",
    "\n",
    "Выявлены аномальные значения по количеству товара в категориях.В категории ванная есть выброс со значением 1000. Заказы с аномальным количеством товаров были удалены - 71743(1000 вантузов), 14833(900 - рассада), 68611(600 - 300 крепежей для пружины дверной, 300 дверных пружин). Категория \"дом\" за исследуемый период принесла больше всего прибыли - 1 902 566. На втором месте категория \"цветы\" - 265 209. Категория \"еда\" принесла меньше всего по сумме - 888. По количеству самая популярная категория - \"дом\" (6503) и \"цветы\" (2520) и \"сад\" (2278), наименьшее в категории \"еда\"(18). \n",
    "\n",
    "В датасете количество товаров варьируется от 1 до 350. 90% товаров находится в диапазоне от 1 до 30 (количество товарных единиц). В основном в датасете товаров по 1-2-3 единицы. Стоимость товаров варируется от 9 до 14 000, основная часть товаров варьируется от 9 до 6-8 тыс. \n",
    "\n",
    "Больше всего заказов совершается в пн и вт, чуть меньше в ср, наименьшее число заказов по дням делается в пт. Наибольшее количество покупок делается в 9, 11, 13 и 16 часов. Наименьшее в ночное время - с 0 до 6 утра.Наибольшее число заказов в апреле, мае и октябре. Наименьшее в январе, августе, сентябре. \n",
    "\n",
    "ТОП 5 товаров по прибыльности сумка-тележка 2-х колесная gimi argo красная(76090), сумка-тележка 2-х колесная gimi argo синяя\t(65281), сумка-тележка хозяйственная rolser bab010 rojo(49668), сумка-тележка хозяйственная andersen scala sho(33294), гладильная доска ника гранд 122х42 см нг\t(28784). \n",
    "\n",
    "ТОП 5 товаров по наибольшему количеству: муляж яблоко 9 см красное(618), вешалки мягкие для деликатных вещей 3 шт шоколад(335), муляж яблоко зеленый 9 см полиуретан(308), ручка-скоба рс-100 белая *трибатрон*\t(200), плечики пластмассовые размер 52 - 54 тула (160).\n",
    "\n",
    "При проверке гипотез и в первом, и во втором случаях отвергаем нулевую гипотезу о равенстве двух выборок: (1) что основной и дополнительный ассортимент по выручке равны, (2) что основной и дополнительный ассортимент по количеству продаваемых товаров равны.\n",
    "\n",
    "Рекомендации: При кластеризации товаров товары были выделены в 3 категории: А, В, С. Товары в категории основного ассотртимерта приносят больше выручки или являются самым ходовым товаром. Товары категории дополнительного ассортимента также приносят прибыль или явяются ходовым товаром по количеству, но в более меньшей степени. Товары в категории на вывод из ассортимента было выявлено 211 товаров на вывод из ассортимента (товары, не приносящие достаточной выручки и не продаются в достаточном количестве). В их числе:\n",
    "\n",
    "1) аквилегия махровая тауэр смесь окрасок объем 1 л\n",
    "\n",
    "2) анемона белый объем 0,5 л\n",
    "\n",
    "3) ароматизированное средство дудаления известков\n",
    "\n",
    "4) астра альпийская микс объем 1 л\n",
    "\n",
    "5) базилик овощной арарат в кассете 4 штуки средн\n",
    "\n",
    "6) щетка палубная 215х80х20 мм 6-рядная без черен\n",
    "\n",
    "7) щетка-сметка 3-х рядная деревянная 450 мм \n",
    "\n",
    "8) эвкалипт сильвердроп d-7 см h-30 см\n",
    "\n",
    "9)  ёрш унитазный пластмассовый, ваир\n",
    "\n",
    "10) ёрш унитазный с подставкой wc \"стандарт\", муль\n"
   ]
  },
  {
   "cell_type": "markdown",
   "metadata": {},
   "source": [
    "Ссылки на материалы:\n"
   ]
  },
  {
   "cell_type": "markdown",
   "metadata": {},
   "source": [
    "Дэшборд\n",
    "https://public.tableau.com/views/DianaTaymusheva_dashboard_project_v3/Dashboard1?:language=en-US&:display_count=n&:origin=viz_share_link\n",
    "\n",
    "Презентация:\n",
    "https://drive.google.com/file/d/1tGVgxiefSZRxomjLD5kJ3iV30Wimvf8_/view?usp=drive_link"
   ]
  },
  {
   "cell_type": "code",
   "execution_count": 82,
   "metadata": {},
   "outputs": [],
   "source": [
    "total_grouped.to_csv('total_grouped.csv')\n",
    "df_new.to_csv('df_new.csv')"
   ]
  },
  {
   "cell_type": "markdown",
   "metadata": {},
   "source": [
    "Дэшборд\n",
    "https://public.tableau.com/authoring/DianaTaymusheva_dashboard_project_v3/Dashboard1#2\n",
    "\n",
    "Презентация:\n",
    "https://drive.google.com/file/d/1tGVgxiefSZRxomjLD5kJ3iV30Wimvf8_/view?usp=drive_link"
   ]
  },
  {
   "cell_type": "code",
   "execution_count": null,
   "metadata": {},
   "outputs": [],
   "source": []
  }
 ],
 "metadata": {
  "ExecuteTimeLog": [
   {
    "duration": 1404,
    "start_time": "2023-07-09T15:27:44.391Z"
   },
   {
    "duration": 95,
    "start_time": "2023-07-09T15:27:53.821Z"
   },
   {
    "duration": 15,
    "start_time": "2023-07-09T15:28:04.184Z"
   },
   {
    "duration": 30,
    "start_time": "2023-07-09T15:28:19.609Z"
   },
   {
    "duration": 17,
    "start_time": "2023-07-09T15:28:30.554Z"
   },
   {
    "duration": 24,
    "start_time": "2023-07-09T15:29:03.034Z"
   },
   {
    "duration": 21,
    "start_time": "2023-07-09T15:29:12.978Z"
   },
   {
    "duration": 9,
    "start_time": "2023-07-09T15:29:29.854Z"
   },
   {
    "duration": 7,
    "start_time": "2023-07-09T15:29:37.521Z"
   },
   {
    "duration": 6,
    "start_time": "2023-07-09T15:29:48.223Z"
   },
   {
    "duration": 7,
    "start_time": "2023-07-09T15:30:05.484Z"
   },
   {
    "duration": 12,
    "start_time": "2023-07-09T15:30:31.779Z"
   },
   {
    "duration": 5,
    "start_time": "2023-07-09T15:31:48.561Z"
   },
   {
    "duration": 12,
    "start_time": "2023-07-09T15:32:44.890Z"
   },
   {
    "duration": 25,
    "start_time": "2023-07-09T15:33:07.298Z"
   },
   {
    "duration": 1235,
    "start_time": "2023-07-09T17:02:04.896Z"
   },
   {
    "duration": 46,
    "start_time": "2023-07-09T17:02:06.133Z"
   },
   {
    "duration": 15,
    "start_time": "2023-07-09T17:02:06.180Z"
   },
   {
    "duration": 27,
    "start_time": "2023-07-09T17:02:06.197Z"
   },
   {
    "duration": 14,
    "start_time": "2023-07-09T17:02:06.225Z"
   },
   {
    "duration": 22,
    "start_time": "2023-07-09T17:02:06.240Z"
   },
   {
    "duration": 16,
    "start_time": "2023-07-09T17:02:06.264Z"
   },
   {
    "duration": 33,
    "start_time": "2023-07-09T17:02:06.281Z"
   },
   {
    "duration": 14,
    "start_time": "2023-07-09T17:02:06.316Z"
   },
   {
    "duration": 11,
    "start_time": "2023-07-09T17:02:06.332Z"
   },
   {
    "duration": 9,
    "start_time": "2023-07-09T17:02:06.344Z"
   },
   {
    "duration": 11,
    "start_time": "2023-07-09T17:02:06.355Z"
   },
   {
    "duration": 6,
    "start_time": "2023-07-09T17:02:06.368Z"
   },
   {
    "duration": 54,
    "start_time": "2023-07-09T17:02:06.376Z"
   },
   {
    "duration": 68,
    "start_time": "2023-07-09T17:04:31.692Z"
   },
   {
    "duration": 16,
    "start_time": "2023-07-09T17:06:31.040Z"
   },
   {
    "duration": 24,
    "start_time": "2023-07-09T17:06:31.521Z"
   },
   {
    "duration": 3,
    "start_time": "2023-07-09T17:06:32.152Z"
   },
   {
    "duration": 5,
    "start_time": "2023-07-09T17:06:32.989Z"
   },
   {
    "duration": 5,
    "start_time": "2023-07-09T17:06:34.191Z"
   },
   {
    "duration": 8,
    "start_time": "2023-07-09T17:06:34.801Z"
   },
   {
    "duration": 10,
    "start_time": "2023-07-09T17:06:35.302Z"
   },
   {
    "duration": 7,
    "start_time": "2023-07-09T17:24:18.739Z"
   },
   {
    "duration": 94,
    "start_time": "2023-07-09T17:25:20.334Z"
   },
   {
    "duration": 21,
    "start_time": "2023-07-09T17:25:35.695Z"
   },
   {
    "duration": 7,
    "start_time": "2023-07-09T18:09:03.566Z"
   },
   {
    "duration": 15,
    "start_time": "2023-07-09T18:09:44.632Z"
   },
   {
    "duration": 15,
    "start_time": "2023-07-09T18:10:00.850Z"
   },
   {
    "duration": 1335,
    "start_time": "2023-07-09T18:10:11.909Z"
   },
   {
    "duration": 46,
    "start_time": "2023-07-09T18:10:13.246Z"
   },
   {
    "duration": 15,
    "start_time": "2023-07-09T18:10:13.294Z"
   },
   {
    "duration": 38,
    "start_time": "2023-07-09T18:10:13.312Z"
   },
   {
    "duration": 16,
    "start_time": "2023-07-09T18:10:13.352Z"
   },
   {
    "duration": 21,
    "start_time": "2023-07-09T18:10:13.371Z"
   },
   {
    "duration": 25,
    "start_time": "2023-07-09T18:10:13.394Z"
   },
   {
    "duration": 4,
    "start_time": "2023-07-09T18:10:13.421Z"
   },
   {
    "duration": 17,
    "start_time": "2023-07-09T18:10:13.426Z"
   },
   {
    "duration": 12,
    "start_time": "2023-07-09T18:10:13.445Z"
   },
   {
    "duration": 14,
    "start_time": "2023-07-09T18:10:13.459Z"
   },
   {
    "duration": 8,
    "start_time": "2023-07-09T18:10:13.475Z"
   },
   {
    "duration": 152,
    "start_time": "2023-07-09T18:10:13.484Z"
   },
   {
    "duration": 0,
    "start_time": "2023-07-09T18:10:13.638Z"
   },
   {
    "duration": 0,
    "start_time": "2023-07-09T18:10:13.640Z"
   },
   {
    "duration": 4,
    "start_time": "2023-07-09T18:10:33.263Z"
   },
   {
    "duration": 54,
    "start_time": "2023-07-09T18:10:33.757Z"
   },
   {
    "duration": 12,
    "start_time": "2023-07-09T18:10:34.158Z"
   },
   {
    "duration": 32,
    "start_time": "2023-07-09T18:10:35.009Z"
   },
   {
    "duration": 22,
    "start_time": "2023-07-09T18:10:35.669Z"
   },
   {
    "duration": 13,
    "start_time": "2023-07-09T18:10:38.104Z"
   },
   {
    "duration": 14,
    "start_time": "2023-07-09T18:10:38.734Z"
   },
   {
    "duration": 5,
    "start_time": "2023-07-09T18:10:39.343Z"
   },
   {
    "duration": 7,
    "start_time": "2023-07-09T18:10:41.323Z"
   },
   {
    "duration": 6,
    "start_time": "2023-07-09T18:10:48.846Z"
   },
   {
    "duration": 8,
    "start_time": "2023-07-09T18:10:50.910Z"
   },
   {
    "duration": 9,
    "start_time": "2023-07-09T18:10:51.974Z"
   },
   {
    "duration": 11,
    "start_time": "2023-07-09T18:10:53.968Z"
   },
   {
    "duration": 6,
    "start_time": "2023-07-09T18:11:00.692Z"
   },
   {
    "duration": 6,
    "start_time": "2023-07-09T18:11:20.667Z"
   },
   {
    "duration": 6,
    "start_time": "2023-07-09T18:12:11.592Z"
   },
   {
    "duration": 49,
    "start_time": "2023-07-09T18:37:36.674Z"
   },
   {
    "duration": 1171,
    "start_time": "2023-07-09T18:37:54.668Z"
   },
   {
    "duration": 47,
    "start_time": "2023-07-09T18:37:55.842Z"
   },
   {
    "duration": 14,
    "start_time": "2023-07-09T18:37:55.891Z"
   },
   {
    "duration": 38,
    "start_time": "2023-07-09T18:37:55.908Z"
   },
   {
    "duration": 22,
    "start_time": "2023-07-09T18:37:55.948Z"
   },
   {
    "duration": 13,
    "start_time": "2023-07-09T18:37:55.972Z"
   },
   {
    "duration": 39,
    "start_time": "2023-07-09T18:37:55.986Z"
   },
   {
    "duration": 4,
    "start_time": "2023-07-09T18:37:56.026Z"
   },
   {
    "duration": 13,
    "start_time": "2023-07-09T18:37:56.032Z"
   },
   {
    "duration": 23,
    "start_time": "2023-07-09T18:37:56.047Z"
   },
   {
    "duration": 8,
    "start_time": "2023-07-09T18:37:56.072Z"
   },
   {
    "duration": 15,
    "start_time": "2023-07-09T18:37:56.082Z"
   },
   {
    "duration": 103,
    "start_time": "2023-07-09T18:37:56.100Z"
   },
   {
    "duration": 5,
    "start_time": "2023-07-09T18:37:56.205Z"
   },
   {
    "duration": 27,
    "start_time": "2023-07-09T18:37:56.212Z"
   },
   {
    "duration": 127,
    "start_time": "2023-07-09T18:38:01.492Z"
   },
   {
    "duration": 99,
    "start_time": "2023-07-09T18:41:57.822Z"
   },
   {
    "duration": 16,
    "start_time": "2023-07-09T18:42:23.547Z"
   },
   {
    "duration": 227,
    "start_time": "2023-07-09T18:42:29.141Z"
   },
   {
    "duration": 7,
    "start_time": "2023-07-09T18:44:30.115Z"
   },
   {
    "duration": 6,
    "start_time": "2023-07-09T18:44:40.564Z"
   },
   {
    "duration": 7,
    "start_time": "2023-07-09T18:45:02.231Z"
   },
   {
    "duration": 6,
    "start_time": "2023-07-09T18:45:06.009Z"
   },
   {
    "duration": 21,
    "start_time": "2023-07-09T18:45:42.745Z"
   },
   {
    "duration": 11,
    "start_time": "2023-07-09T18:45:50.740Z"
   },
   {
    "duration": 11,
    "start_time": "2023-07-09T18:46:03.578Z"
   },
   {
    "duration": 12,
    "start_time": "2023-07-09T18:48:15.515Z"
   },
   {
    "duration": 11,
    "start_time": "2023-07-09T18:51:35.433Z"
   },
   {
    "duration": 7,
    "start_time": "2023-07-09T18:51:39.654Z"
   },
   {
    "duration": 6,
    "start_time": "2023-07-09T19:00:09.794Z"
   },
   {
    "duration": 5,
    "start_time": "2023-07-09T19:00:38.238Z"
   },
   {
    "duration": 9,
    "start_time": "2023-07-09T19:38:05.564Z"
   },
   {
    "duration": 5,
    "start_time": "2023-07-09T19:39:38.881Z"
   },
   {
    "duration": 17,
    "start_time": "2023-07-09T20:01:26.482Z"
   },
   {
    "duration": 28,
    "start_time": "2023-07-09T20:02:12.224Z"
   },
   {
    "duration": 16,
    "start_time": "2023-07-09T20:02:16.357Z"
   },
   {
    "duration": 13,
    "start_time": "2023-07-09T20:15:39.035Z"
   },
   {
    "duration": 12,
    "start_time": "2023-07-09T20:16:23.850Z"
   },
   {
    "duration": 62,
    "start_time": "2023-07-09T20:16:31.039Z"
   },
   {
    "duration": 24,
    "start_time": "2023-07-09T20:18:19.455Z"
   },
   {
    "duration": 1290,
    "start_time": "2023-07-09T20:18:26.560Z"
   },
   {
    "duration": 46,
    "start_time": "2023-07-09T20:18:27.852Z"
   },
   {
    "duration": 15,
    "start_time": "2023-07-09T20:18:27.900Z"
   },
   {
    "duration": 32,
    "start_time": "2023-07-09T20:18:27.918Z"
   },
   {
    "duration": 17,
    "start_time": "2023-07-09T20:18:27.952Z"
   },
   {
    "duration": 13,
    "start_time": "2023-07-09T20:18:27.971Z"
   },
   {
    "duration": 39,
    "start_time": "2023-07-09T20:18:27.986Z"
   },
   {
    "duration": 7,
    "start_time": "2023-07-09T20:18:28.027Z"
   },
   {
    "duration": 8,
    "start_time": "2023-07-09T20:18:28.036Z"
   },
   {
    "duration": 6,
    "start_time": "2023-07-09T20:18:28.046Z"
   },
   {
    "duration": 9,
    "start_time": "2023-07-09T20:18:28.054Z"
   },
   {
    "duration": 49,
    "start_time": "2023-07-09T20:18:28.065Z"
   },
   {
    "duration": 7,
    "start_time": "2023-07-09T20:18:28.117Z"
   },
   {
    "duration": 6,
    "start_time": "2023-07-09T20:18:28.126Z"
   },
   {
    "duration": 38,
    "start_time": "2023-07-09T20:18:28.134Z"
   },
   {
    "duration": 145,
    "start_time": "2023-07-09T20:18:28.175Z"
   },
   {
    "duration": 2273,
    "start_time": "2023-07-09T20:18:49.462Z"
   },
   {
    "duration": 6,
    "start_time": "2023-07-09T20:28:51.039Z"
   },
   {
    "duration": 9,
    "start_time": "2023-07-09T20:29:16.867Z"
   },
   {
    "duration": 11,
    "start_time": "2023-07-09T20:29:36.107Z"
   },
   {
    "duration": 9,
    "start_time": "2023-07-09T20:29:44.558Z"
   },
   {
    "duration": 1804,
    "start_time": "2023-07-09T20:30:12.947Z"
   },
   {
    "duration": 51,
    "start_time": "2023-07-09T20:59:42.307Z"
   },
   {
    "duration": 46,
    "start_time": "2023-07-09T20:59:55.410Z"
   },
   {
    "duration": 19,
    "start_time": "2023-07-09T21:00:01.536Z"
   },
   {
    "duration": 39,
    "start_time": "2023-07-09T21:00:21.919Z"
   },
   {
    "duration": 20,
    "start_time": "2023-07-09T21:00:25.008Z"
   },
   {
    "duration": 9,
    "start_time": "2023-07-09T21:01:38.438Z"
   },
   {
    "duration": 519,
    "start_time": "2023-07-09T21:01:50.093Z"
   },
   {
    "duration": 67,
    "start_time": "2023-07-09T21:05:19.737Z"
   },
   {
    "duration": 76,
    "start_time": "2023-07-09T21:05:38.940Z"
   },
   {
    "duration": 801,
    "start_time": "2023-07-09T21:05:58.864Z"
   },
   {
    "duration": 19,
    "start_time": "2023-07-09T21:06:17.773Z"
   },
   {
    "duration": 1594,
    "start_time": "2023-07-09T21:10:16.761Z"
   },
   {
    "duration": 66,
    "start_time": "2023-07-09T21:10:36.129Z"
   },
   {
    "duration": 17,
    "start_time": "2023-07-09T21:10:41.323Z"
   },
   {
    "duration": 62,
    "start_time": "2023-07-09T21:11:10.778Z"
   },
   {
    "duration": 20,
    "start_time": "2023-07-09T21:11:12.787Z"
   },
   {
    "duration": 11,
    "start_time": "2023-07-09T21:13:16.065Z"
   },
   {
    "duration": 12,
    "start_time": "2023-07-09T21:14:01.448Z"
   },
   {
    "duration": 24,
    "start_time": "2023-07-09T21:14:52.684Z"
   },
   {
    "duration": 166,
    "start_time": "2023-07-09T21:17:07.847Z"
   },
   {
    "duration": 17,
    "start_time": "2023-07-09T21:17:09.204Z"
   },
   {
    "duration": 19,
    "start_time": "2023-07-09T21:17:25.786Z"
   },
   {
    "duration": 1459,
    "start_time": "2023-07-10T17:29:48.438Z"
   },
   {
    "duration": 106,
    "start_time": "2023-07-10T17:29:49.900Z"
   },
   {
    "duration": 16,
    "start_time": "2023-07-10T17:29:50.008Z"
   },
   {
    "duration": 28,
    "start_time": "2023-07-10T17:29:50.580Z"
   },
   {
    "duration": 15,
    "start_time": "2023-07-10T17:29:51.683Z"
   },
   {
    "duration": 18,
    "start_time": "2023-07-10T17:29:54.374Z"
   },
   {
    "duration": 14,
    "start_time": "2023-07-10T17:29:55.093Z"
   },
   {
    "duration": 114,
    "start_time": "2023-07-10T17:29:56.254Z"
   },
   {
    "duration": 9,
    "start_time": "2023-07-10T17:30:12.716Z"
   },
   {
    "duration": 4,
    "start_time": "2023-07-10T17:30:15.793Z"
   },
   {
    "duration": 12,
    "start_time": "2023-07-10T17:30:16.565Z"
   },
   {
    "duration": 4,
    "start_time": "2023-07-10T17:30:25.107Z"
   },
   {
    "duration": 8,
    "start_time": "2023-07-10T17:30:26.028Z"
   },
   {
    "duration": 10,
    "start_time": "2023-07-10T17:30:28.886Z"
   },
   {
    "duration": 14,
    "start_time": "2023-07-10T17:30:30.098Z"
   },
   {
    "duration": 2201,
    "start_time": "2023-07-10T17:30:47.422Z"
   },
   {
    "duration": 7,
    "start_time": "2023-07-10T17:30:53.848Z"
   },
   {
    "duration": 103,
    "start_time": "2023-07-10T17:30:54.451Z"
   },
   {
    "duration": 13,
    "start_time": "2023-07-10T17:31:57.376Z"
   },
   {
    "duration": 16,
    "start_time": "2023-07-10T17:32:01.542Z"
   },
   {
    "duration": 254,
    "start_time": "2023-07-10T17:32:02.495Z"
   },
   {
    "duration": 341,
    "start_time": "2023-07-10T17:34:49.820Z"
   },
   {
    "duration": 1292,
    "start_time": "2023-07-11T17:29:58.207Z"
   },
   {
    "duration": 94,
    "start_time": "2023-07-11T17:29:59.502Z"
   },
   {
    "duration": 15,
    "start_time": "2023-07-11T17:29:59.598Z"
   },
   {
    "duration": 24,
    "start_time": "2023-07-11T17:29:59.615Z"
   },
   {
    "duration": 14,
    "start_time": "2023-07-11T17:29:59.641Z"
   },
   {
    "duration": 13,
    "start_time": "2023-07-11T17:29:59.659Z"
   },
   {
    "duration": 17,
    "start_time": "2023-07-11T17:29:59.674Z"
   },
   {
    "duration": 10,
    "start_time": "2023-07-11T17:29:59.693Z"
   },
   {
    "duration": 8,
    "start_time": "2023-07-11T17:29:59.705Z"
   },
   {
    "duration": 5,
    "start_time": "2023-07-11T17:29:59.716Z"
   },
   {
    "duration": 5,
    "start_time": "2023-07-11T17:29:59.723Z"
   },
   {
    "duration": 31,
    "start_time": "2023-07-11T17:29:59.729Z"
   },
   {
    "duration": 7,
    "start_time": "2023-07-11T17:29:59.762Z"
   },
   {
    "duration": 17,
    "start_time": "2023-07-11T17:29:59.771Z"
   },
   {
    "duration": 1575,
    "start_time": "2023-07-11T17:29:59.790Z"
   },
   {
    "duration": 5,
    "start_time": "2023-07-11T17:30:01.367Z"
   },
   {
    "duration": 178,
    "start_time": "2023-07-11T17:30:01.374Z"
   },
   {
    "duration": 18,
    "start_time": "2023-07-11T17:30:01.554Z"
   },
   {
    "duration": 263,
    "start_time": "2023-07-11T17:30:01.573Z"
   },
   {
    "duration": 8,
    "start_time": "2023-07-11T17:30:01.838Z"
   },
   {
    "duration": 180,
    "start_time": "2023-07-11T17:30:43.924Z"
   },
   {
    "duration": 19,
    "start_time": "2023-07-11T17:30:46.008Z"
   },
   {
    "duration": 1260,
    "start_time": "2023-07-11T17:31:03.572Z"
   },
   {
    "duration": 44,
    "start_time": "2023-07-11T17:31:04.834Z"
   },
   {
    "duration": 14,
    "start_time": "2023-07-11T17:31:04.880Z"
   },
   {
    "duration": 31,
    "start_time": "2023-07-11T17:31:04.896Z"
   },
   {
    "duration": 15,
    "start_time": "2023-07-11T17:31:04.929Z"
   },
   {
    "duration": 17,
    "start_time": "2023-07-11T17:31:04.960Z"
   },
   {
    "duration": 21,
    "start_time": "2023-07-11T17:31:04.979Z"
   },
   {
    "duration": 13,
    "start_time": "2023-07-11T17:31:05.002Z"
   },
   {
    "duration": 26,
    "start_time": "2023-07-11T17:31:05.017Z"
   },
   {
    "duration": 16,
    "start_time": "2023-07-11T17:31:05.046Z"
   },
   {
    "duration": 56,
    "start_time": "2023-07-11T17:31:05.063Z"
   },
   {
    "duration": 30,
    "start_time": "2023-07-11T17:31:05.121Z"
   },
   {
    "duration": 20,
    "start_time": "2023-07-11T17:31:05.153Z"
   },
   {
    "duration": 19,
    "start_time": "2023-07-11T17:31:05.175Z"
   },
   {
    "duration": 1631,
    "start_time": "2023-07-11T17:31:05.196Z"
   },
   {
    "duration": 4,
    "start_time": "2023-07-11T17:31:06.829Z"
   },
   {
    "duration": 83,
    "start_time": "2023-07-11T17:31:06.835Z"
   },
   {
    "duration": 20,
    "start_time": "2023-07-11T17:31:06.920Z"
   },
   {
    "duration": 130,
    "start_time": "2023-07-11T17:31:06.941Z"
   },
   {
    "duration": 0,
    "start_time": "2023-07-11T17:31:07.073Z"
   },
   {
    "duration": 1169,
    "start_time": "2023-07-11T19:03:49.326Z"
   },
   {
    "duration": 44,
    "start_time": "2023-07-11T19:03:50.497Z"
   },
   {
    "duration": 13,
    "start_time": "2023-07-11T19:03:50.543Z"
   },
   {
    "duration": 28,
    "start_time": "2023-07-11T19:03:50.558Z"
   },
   {
    "duration": 14,
    "start_time": "2023-07-11T19:03:50.588Z"
   },
   {
    "duration": 15,
    "start_time": "2023-07-11T19:03:50.604Z"
   },
   {
    "duration": 20,
    "start_time": "2023-07-11T19:03:50.620Z"
   },
   {
    "duration": 22,
    "start_time": "2023-07-11T19:03:50.642Z"
   },
   {
    "duration": 13,
    "start_time": "2023-07-11T19:03:50.666Z"
   },
   {
    "duration": 14,
    "start_time": "2023-07-11T19:03:50.682Z"
   },
   {
    "duration": 17,
    "start_time": "2023-07-11T19:03:50.698Z"
   },
   {
    "duration": 11,
    "start_time": "2023-07-11T19:03:50.717Z"
   },
   {
    "duration": 10,
    "start_time": "2023-07-11T19:03:50.730Z"
   },
   {
    "duration": 12,
    "start_time": "2023-07-11T19:03:50.741Z"
   },
   {
    "duration": 1543,
    "start_time": "2023-07-11T19:03:50.758Z"
   },
   {
    "duration": 5,
    "start_time": "2023-07-11T19:03:52.303Z"
   },
   {
    "duration": 70,
    "start_time": "2023-07-11T19:03:52.309Z"
   },
   {
    "duration": 17,
    "start_time": "2023-07-11T19:03:52.381Z"
   },
   {
    "duration": 12,
    "start_time": "2023-07-11T19:03:52.399Z"
   },
   {
    "duration": 13,
    "start_time": "2023-07-11T19:18:39.631Z"
   },
   {
    "duration": 66,
    "start_time": "2023-07-11T20:10:06.438Z"
   },
   {
    "duration": 15,
    "start_time": "2023-07-11T20:10:14.755Z"
   },
   {
    "duration": 18,
    "start_time": "2023-07-11T20:10:18.811Z"
   },
   {
    "duration": 31,
    "start_time": "2023-07-11T20:22:03.738Z"
   },
   {
    "duration": 18,
    "start_time": "2023-07-11T20:22:07.588Z"
   },
   {
    "duration": 1235,
    "start_time": "2023-07-11T20:22:21.781Z"
   },
   {
    "duration": 50,
    "start_time": "2023-07-11T20:22:23.019Z"
   },
   {
    "duration": 18,
    "start_time": "2023-07-11T20:22:23.073Z"
   },
   {
    "duration": 32,
    "start_time": "2023-07-11T20:22:23.093Z"
   },
   {
    "duration": 15,
    "start_time": "2023-07-11T20:22:23.127Z"
   },
   {
    "duration": 23,
    "start_time": "2023-07-11T20:22:23.165Z"
   },
   {
    "duration": 19,
    "start_time": "2023-07-11T20:22:23.189Z"
   },
   {
    "duration": 9,
    "start_time": "2023-07-11T20:22:23.209Z"
   },
   {
    "duration": 14,
    "start_time": "2023-07-11T20:22:23.220Z"
   },
   {
    "duration": 9,
    "start_time": "2023-07-11T20:22:23.236Z"
   },
   {
    "duration": 20,
    "start_time": "2023-07-11T20:22:23.247Z"
   },
   {
    "duration": 11,
    "start_time": "2023-07-11T20:22:23.270Z"
   },
   {
    "duration": 8,
    "start_time": "2023-07-11T20:22:23.282Z"
   },
   {
    "duration": 10,
    "start_time": "2023-07-11T20:22:23.292Z"
   },
   {
    "duration": 1851,
    "start_time": "2023-07-11T20:22:23.304Z"
   },
   {
    "duration": 7,
    "start_time": "2023-07-11T20:22:25.157Z"
   },
   {
    "duration": 73,
    "start_time": "2023-07-11T20:22:25.167Z"
   },
   {
    "duration": 45,
    "start_time": "2023-07-11T20:22:25.241Z"
   },
   {
    "duration": 19,
    "start_time": "2023-07-11T20:22:25.289Z"
   },
   {
    "duration": 69,
    "start_time": "2023-07-11T20:22:25.310Z"
   },
   {
    "duration": 19,
    "start_time": "2023-07-11T20:22:25.381Z"
   },
   {
    "duration": 157,
    "start_time": "2023-07-11T20:29:57.891Z"
   },
   {
    "duration": 18,
    "start_time": "2023-07-11T20:29:58.829Z"
   },
   {
    "duration": 59,
    "start_time": "2023-07-11T20:30:12.287Z"
   },
   {
    "duration": 17,
    "start_time": "2023-07-11T20:30:13.589Z"
   },
   {
    "duration": 14,
    "start_time": "2023-07-11T20:30:23.362Z"
   },
   {
    "duration": 111,
    "start_time": "2023-07-11T20:44:57.941Z"
   },
   {
    "duration": 13,
    "start_time": "2023-07-11T20:46:09.788Z"
   },
   {
    "duration": 31,
    "start_time": "2023-07-11T20:46:35.473Z"
   },
   {
    "duration": 18,
    "start_time": "2023-07-11T20:46:40.081Z"
   },
   {
    "duration": 30,
    "start_time": "2023-07-11T20:49:55.973Z"
   },
   {
    "duration": 18,
    "start_time": "2023-07-11T20:49:59.053Z"
   },
   {
    "duration": 46,
    "start_time": "2023-07-11T20:51:25.485Z"
   },
   {
    "duration": 18,
    "start_time": "2023-07-11T20:51:26.822Z"
   },
   {
    "duration": 30,
    "start_time": "2023-07-11T20:51:56.673Z"
   },
   {
    "duration": 18,
    "start_time": "2023-07-11T20:51:58.981Z"
   },
   {
    "duration": 31,
    "start_time": "2023-07-11T20:52:43.349Z"
   },
   {
    "duration": 17,
    "start_time": "2023-07-11T20:52:44.864Z"
   },
   {
    "duration": 102,
    "start_time": "2023-07-11T20:53:43.517Z"
   },
   {
    "duration": 18,
    "start_time": "2023-07-11T20:53:45.093Z"
   },
   {
    "duration": 26,
    "start_time": "2023-07-11T20:53:51.949Z"
   },
   {
    "duration": 18,
    "start_time": "2023-07-11T20:53:53.253Z"
   },
   {
    "duration": 44,
    "start_time": "2023-07-11T20:54:44.074Z"
   },
   {
    "duration": 21,
    "start_time": "2023-07-11T20:54:44.621Z"
   },
   {
    "duration": 14,
    "start_time": "2023-07-11T20:54:45.472Z"
   },
   {
    "duration": 42,
    "start_time": "2023-07-11T20:54:47.829Z"
   },
   {
    "duration": 19,
    "start_time": "2023-07-11T20:54:49.055Z"
   },
   {
    "duration": 54,
    "start_time": "2023-07-11T20:57:10.621Z"
   },
   {
    "duration": 18,
    "start_time": "2023-07-11T20:57:11.545Z"
   },
   {
    "duration": 102,
    "start_time": "2023-07-11T20:57:13.037Z"
   },
   {
    "duration": 33,
    "start_time": "2023-07-11T20:57:18.076Z"
   },
   {
    "duration": 18,
    "start_time": "2023-07-11T20:57:19.292Z"
   },
   {
    "duration": 37,
    "start_time": "2023-07-11T21:00:05.453Z"
   },
   {
    "duration": 20,
    "start_time": "2023-07-11T21:00:06.121Z"
   },
   {
    "duration": 14,
    "start_time": "2023-07-11T21:00:08.518Z"
   },
   {
    "duration": 24,
    "start_time": "2023-07-11T21:00:09.630Z"
   },
   {
    "duration": 19,
    "start_time": "2023-07-11T21:00:11.153Z"
   },
   {
    "duration": 13,
    "start_time": "2023-07-11T21:00:47.623Z"
   },
   {
    "duration": 22,
    "start_time": "2023-07-11T21:00:48.268Z"
   },
   {
    "duration": 18,
    "start_time": "2023-07-11T21:00:48.885Z"
   },
   {
    "duration": 13,
    "start_time": "2023-07-11T21:01:11.414Z"
   },
   {
    "duration": 26,
    "start_time": "2023-07-11T21:01:16.666Z"
   },
   {
    "duration": 19,
    "start_time": "2023-07-11T21:01:17.229Z"
   },
   {
    "duration": 2102,
    "start_time": "2023-07-11T21:01:47.037Z"
   },
   {
    "duration": 46,
    "start_time": "2023-07-11T21:06:33.353Z"
   },
   {
    "duration": 18,
    "start_time": "2023-07-11T21:06:37.445Z"
   },
   {
    "duration": 51,
    "start_time": "2023-07-11T21:06:58.849Z"
   },
   {
    "duration": 21,
    "start_time": "2023-07-11T21:06:59.585Z"
   },
   {
    "duration": 1274,
    "start_time": "2023-07-11T21:07:11.313Z"
   },
   {
    "duration": 45,
    "start_time": "2023-07-11T21:07:12.589Z"
   },
   {
    "duration": 14,
    "start_time": "2023-07-11T21:07:12.636Z"
   },
   {
    "duration": 33,
    "start_time": "2023-07-11T21:07:12.651Z"
   },
   {
    "duration": 14,
    "start_time": "2023-07-11T21:07:12.686Z"
   },
   {
    "duration": 19,
    "start_time": "2023-07-11T21:07:12.702Z"
   },
   {
    "duration": 16,
    "start_time": "2023-07-11T21:07:12.723Z"
   },
   {
    "duration": 19,
    "start_time": "2023-07-11T21:07:12.741Z"
   },
   {
    "duration": 17,
    "start_time": "2023-07-11T21:07:12.761Z"
   },
   {
    "duration": 7,
    "start_time": "2023-07-11T21:07:12.780Z"
   },
   {
    "duration": 8,
    "start_time": "2023-07-11T21:07:12.788Z"
   },
   {
    "duration": 11,
    "start_time": "2023-07-11T21:07:12.798Z"
   },
   {
    "duration": 13,
    "start_time": "2023-07-11T21:07:12.811Z"
   },
   {
    "duration": 13,
    "start_time": "2023-07-11T21:07:12.828Z"
   },
   {
    "duration": 1603,
    "start_time": "2023-07-11T21:07:12.843Z"
   },
   {
    "duration": 5,
    "start_time": "2023-07-11T21:07:14.448Z"
   },
   {
    "duration": 48,
    "start_time": "2023-07-11T21:07:14.454Z"
   },
   {
    "duration": 19,
    "start_time": "2023-07-11T21:07:14.504Z"
   },
   {
    "duration": 17,
    "start_time": "2023-07-11T21:07:14.524Z"
   },
   {
    "duration": 1182,
    "start_time": "2023-07-11T21:07:14.559Z"
   },
   {
    "duration": 0,
    "start_time": "2023-07-11T21:07:15.743Z"
   },
   {
    "duration": 51,
    "start_time": "2023-07-11T21:07:59.598Z"
   },
   {
    "duration": 19,
    "start_time": "2023-07-11T21:08:04.828Z"
   },
   {
    "duration": 37,
    "start_time": "2023-07-11T21:08:48.254Z"
   },
   {
    "duration": 1227,
    "start_time": "2023-07-11T21:08:53.846Z"
   },
   {
    "duration": 46,
    "start_time": "2023-07-11T21:08:55.076Z"
   },
   {
    "duration": 13,
    "start_time": "2023-07-11T21:08:55.123Z"
   },
   {
    "duration": 24,
    "start_time": "2023-07-11T21:08:55.138Z"
   },
   {
    "duration": 21,
    "start_time": "2023-07-11T21:08:55.165Z"
   },
   {
    "duration": 11,
    "start_time": "2023-07-11T21:08:55.188Z"
   },
   {
    "duration": 19,
    "start_time": "2023-07-11T21:08:55.200Z"
   },
   {
    "duration": 9,
    "start_time": "2023-07-11T21:08:55.220Z"
   },
   {
    "duration": 33,
    "start_time": "2023-07-11T21:08:55.231Z"
   },
   {
    "duration": 9,
    "start_time": "2023-07-11T21:08:55.266Z"
   },
   {
    "duration": 10,
    "start_time": "2023-07-11T21:08:55.278Z"
   },
   {
    "duration": 15,
    "start_time": "2023-07-11T21:08:55.290Z"
   },
   {
    "duration": 7,
    "start_time": "2023-07-11T21:08:55.307Z"
   },
   {
    "duration": 20,
    "start_time": "2023-07-11T21:08:55.317Z"
   },
   {
    "duration": 1500,
    "start_time": "2023-07-11T21:08:55.340Z"
   },
   {
    "duration": 5,
    "start_time": "2023-07-11T21:08:56.842Z"
   },
   {
    "duration": 49,
    "start_time": "2023-07-11T21:08:56.848Z"
   },
   {
    "duration": 21,
    "start_time": "2023-07-11T21:08:56.899Z"
   },
   {
    "duration": 16,
    "start_time": "2023-07-11T21:08:56.922Z"
   },
   {
    "duration": 42,
    "start_time": "2023-07-11T21:08:56.940Z"
   },
   {
    "duration": 23,
    "start_time": "2023-07-11T21:08:56.984Z"
   },
   {
    "duration": 1435,
    "start_time": "2023-07-12T16:59:44.176Z"
   },
   {
    "duration": 181,
    "start_time": "2023-07-12T16:59:45.613Z"
   },
   {
    "duration": 14,
    "start_time": "2023-07-12T16:59:45.796Z"
   },
   {
    "duration": 88,
    "start_time": "2023-07-12T16:59:45.813Z"
   },
   {
    "duration": 97,
    "start_time": "2023-07-12T16:59:45.903Z"
   },
   {
    "duration": 98,
    "start_time": "2023-07-12T16:59:46.002Z"
   },
   {
    "duration": 37,
    "start_time": "2023-07-12T16:59:46.102Z"
   },
   {
    "duration": 13,
    "start_time": "2023-07-12T16:59:46.141Z"
   },
   {
    "duration": 8,
    "start_time": "2023-07-12T16:59:46.156Z"
   },
   {
    "duration": 9,
    "start_time": "2023-07-12T16:59:46.168Z"
   },
   {
    "duration": 7,
    "start_time": "2023-07-12T16:59:46.179Z"
   },
   {
    "duration": 9,
    "start_time": "2023-07-12T16:59:46.187Z"
   },
   {
    "duration": 9,
    "start_time": "2023-07-12T16:59:46.198Z"
   },
   {
    "duration": 13,
    "start_time": "2023-07-12T16:59:46.209Z"
   },
   {
    "duration": 2258,
    "start_time": "2023-07-12T16:59:46.224Z"
   },
   {
    "duration": 7,
    "start_time": "2023-07-12T16:59:48.484Z"
   },
   {
    "duration": 63,
    "start_time": "2023-07-12T16:59:48.493Z"
   },
   {
    "duration": 24,
    "start_time": "2023-07-12T16:59:48.558Z"
   },
   {
    "duration": 19,
    "start_time": "2023-07-12T16:59:48.585Z"
   },
   {
    "duration": 50,
    "start_time": "2023-07-12T16:59:48.606Z"
   },
   {
    "duration": 22,
    "start_time": "2023-07-12T16:59:48.658Z"
   },
   {
    "duration": 49,
    "start_time": "2023-07-12T17:00:36.778Z"
   },
   {
    "duration": 18,
    "start_time": "2023-07-12T17:00:38.613Z"
   },
   {
    "duration": 2183,
    "start_time": "2023-07-12T17:01:22.794Z"
   },
   {
    "duration": 14,
    "start_time": "2023-07-12T17:03:39.432Z"
   },
   {
    "duration": 38,
    "start_time": "2023-07-12T17:03:39.448Z"
   },
   {
    "duration": 2114,
    "start_time": "2023-07-12T17:03:40.112Z"
   },
   {
    "duration": 20,
    "start_time": "2023-07-12T17:03:45.524Z"
   },
   {
    "duration": 40,
    "start_time": "2023-07-12T19:46:36.629Z"
   },
   {
    "duration": 18,
    "start_time": "2023-07-12T19:46:37.425Z"
   },
   {
    "duration": 21,
    "start_time": "2023-07-12T19:47:32.413Z"
   },
   {
    "duration": 35,
    "start_time": "2023-07-12T19:48:06.886Z"
   },
   {
    "duration": 18,
    "start_time": "2023-07-12T19:48:07.591Z"
   },
   {
    "duration": 125,
    "start_time": "2023-07-12T19:48:10.286Z"
   },
   {
    "duration": 73,
    "start_time": "2023-07-12T19:48:12.019Z"
   },
   {
    "duration": 19,
    "start_time": "2023-07-12T19:48:13.700Z"
   },
   {
    "duration": 34,
    "start_time": "2023-07-12T19:51:09.390Z"
   },
   {
    "duration": 27,
    "start_time": "2023-07-12T19:51:12.196Z"
   },
   {
    "duration": 27,
    "start_time": "2023-07-12T19:51:31.499Z"
   },
   {
    "duration": 87,
    "start_time": "2023-07-12T19:51:32.056Z"
   },
   {
    "duration": 42,
    "start_time": "2023-07-12T19:51:32.551Z"
   },
   {
    "duration": 38,
    "start_time": "2023-07-12T19:51:50.576Z"
   },
   {
    "duration": 37,
    "start_time": "2023-07-12T19:51:51.247Z"
   },
   {
    "duration": 16,
    "start_time": "2023-07-12T19:51:51.819Z"
   },
   {
    "duration": 41,
    "start_time": "2023-07-12T19:51:52.995Z"
   },
   {
    "duration": 17,
    "start_time": "2023-07-12T19:51:54.487Z"
   },
   {
    "duration": 29,
    "start_time": "2023-07-12T20:38:56.650Z"
   },
   {
    "duration": 46,
    "start_time": "2023-07-12T20:38:56.686Z"
   },
   {
    "duration": 46,
    "start_time": "2023-07-12T20:38:56.735Z"
   },
   {
    "duration": 25,
    "start_time": "2023-07-12T20:39:15.120Z"
   },
   {
    "duration": 1358,
    "start_time": "2023-07-12T20:39:27.790Z"
   },
   {
    "duration": 72,
    "start_time": "2023-07-12T20:39:29.150Z"
   },
   {
    "duration": 16,
    "start_time": "2023-07-12T20:39:29.224Z"
   },
   {
    "duration": 71,
    "start_time": "2023-07-12T20:39:29.241Z"
   },
   {
    "duration": 88,
    "start_time": "2023-07-12T20:39:29.315Z"
   },
   {
    "duration": 405,
    "start_time": "2023-07-12T20:39:29.405Z"
   },
   {
    "duration": 21,
    "start_time": "2023-07-12T20:39:29.814Z"
   },
   {
    "duration": 11,
    "start_time": "2023-07-12T20:39:29.837Z"
   },
   {
    "duration": 57,
    "start_time": "2023-07-12T20:39:29.850Z"
   },
   {
    "duration": 17,
    "start_time": "2023-07-12T20:39:29.909Z"
   },
   {
    "duration": 13,
    "start_time": "2023-07-12T20:39:29.929Z"
   },
   {
    "duration": 15,
    "start_time": "2023-07-12T20:39:29.944Z"
   },
   {
    "duration": 55,
    "start_time": "2023-07-12T20:39:29.960Z"
   },
   {
    "duration": 101,
    "start_time": "2023-07-12T20:39:30.018Z"
   },
   {
    "duration": 2213,
    "start_time": "2023-07-12T20:39:30.120Z"
   },
   {
    "duration": 10,
    "start_time": "2023-07-12T20:39:32.335Z"
   },
   {
    "duration": 93,
    "start_time": "2023-07-12T20:39:32.348Z"
   },
   {
    "duration": 22,
    "start_time": "2023-07-12T20:39:32.443Z"
   },
   {
    "duration": 47,
    "start_time": "2023-07-12T20:39:32.467Z"
   },
   {
    "duration": 50,
    "start_time": "2023-07-12T20:39:32.517Z"
   },
   {
    "duration": 36,
    "start_time": "2023-07-12T20:39:32.572Z"
   },
   {
    "duration": 36,
    "start_time": "2023-07-12T20:39:52.398Z"
   },
   {
    "duration": 35,
    "start_time": "2023-07-12T20:39:53.666Z"
   },
   {
    "duration": 23,
    "start_time": "2023-07-12T20:39:54.278Z"
   },
   {
    "duration": 33,
    "start_time": "2023-07-12T20:39:55.114Z"
   },
   {
    "duration": 35,
    "start_time": "2023-07-12T20:39:55.579Z"
   },
   {
    "duration": 47,
    "start_time": "2023-07-12T20:44:05.198Z"
   },
   {
    "duration": 27,
    "start_time": "2023-07-12T20:45:04.046Z"
   },
   {
    "duration": 14,
    "start_time": "2023-07-12T20:45:45.716Z"
   },
   {
    "duration": 25,
    "start_time": "2023-07-12T20:46:19.966Z"
   },
   {
    "duration": 160,
    "start_time": "2023-07-12T20:47:17.699Z"
   },
   {
    "duration": 26,
    "start_time": "2023-07-12T20:47:39.956Z"
   },
   {
    "duration": 14,
    "start_time": "2023-07-12T21:22:08.352Z"
   },
   {
    "duration": 5,
    "start_time": "2023-07-12T21:22:24.425Z"
   },
   {
    "duration": 8,
    "start_time": "2023-07-12T21:23:22.075Z"
   },
   {
    "duration": 6,
    "start_time": "2023-07-12T21:23:23.638Z"
   },
   {
    "duration": 5,
    "start_time": "2023-07-12T21:23:24.214Z"
   },
   {
    "duration": 7,
    "start_time": "2023-07-12T21:23:25.501Z"
   },
   {
    "duration": 21,
    "start_time": "2023-07-12T21:23:26.342Z"
   },
   {
    "duration": 20,
    "start_time": "2023-07-12T21:23:28.749Z"
   },
   {
    "duration": 2820,
    "start_time": "2023-07-12T21:23:29.192Z"
   },
   {
    "duration": 6,
    "start_time": "2023-07-12T21:23:32.015Z"
   },
   {
    "duration": 89,
    "start_time": "2023-07-12T21:23:32.022Z"
   },
   {
    "duration": 29,
    "start_time": "2023-07-12T21:23:32.747Z"
   },
   {
    "duration": 36,
    "start_time": "2023-07-12T21:23:34.261Z"
   },
   {
    "duration": 22,
    "start_time": "2023-07-12T21:23:34.709Z"
   },
   {
    "duration": 13,
    "start_time": "2023-07-12T21:23:35.200Z"
   },
   {
    "duration": 14,
    "start_time": "2023-07-12T21:23:37.010Z"
   },
   {
    "duration": 6,
    "start_time": "2023-07-12T21:23:42.102Z"
   },
   {
    "duration": 10,
    "start_time": "2023-07-12T21:23:42.872Z"
   },
   {
    "duration": 6,
    "start_time": "2023-07-12T21:23:53.106Z"
   },
   {
    "duration": 5,
    "start_time": "2023-07-12T21:23:57.419Z"
   },
   {
    "duration": 1240,
    "start_time": "2023-07-14T19:25:25.535Z"
   },
   {
    "duration": 57,
    "start_time": "2023-07-14T19:25:26.777Z"
   },
   {
    "duration": 15,
    "start_time": "2023-07-14T19:25:26.836Z"
   },
   {
    "duration": 43,
    "start_time": "2023-07-14T19:25:26.854Z"
   },
   {
    "duration": 32,
    "start_time": "2023-07-14T19:25:26.899Z"
   },
   {
    "duration": 13,
    "start_time": "2023-07-14T19:25:26.934Z"
   },
   {
    "duration": 22,
    "start_time": "2023-07-14T19:25:26.950Z"
   },
   {
    "duration": 16,
    "start_time": "2023-07-14T19:25:26.974Z"
   },
   {
    "duration": 14,
    "start_time": "2023-07-14T19:25:26.992Z"
   },
   {
    "duration": 43,
    "start_time": "2023-07-14T19:25:27.015Z"
   },
   {
    "duration": 22,
    "start_time": "2023-07-14T19:25:27.061Z"
   },
   {
    "duration": 58,
    "start_time": "2023-07-14T19:25:27.085Z"
   },
   {
    "duration": 11,
    "start_time": "2023-07-14T19:25:27.145Z"
   },
   {
    "duration": 18,
    "start_time": "2023-07-14T19:25:27.158Z"
   },
   {
    "duration": 2178,
    "start_time": "2023-07-14T19:25:27.178Z"
   },
   {
    "duration": 5,
    "start_time": "2023-07-14T19:25:29.358Z"
   },
   {
    "duration": 95,
    "start_time": "2023-07-14T19:25:29.364Z"
   },
   {
    "duration": 27,
    "start_time": "2023-07-14T19:25:29.461Z"
   },
   {
    "duration": 44,
    "start_time": "2023-07-14T19:25:29.491Z"
   },
   {
    "duration": 50,
    "start_time": "2023-07-14T19:25:29.537Z"
   },
   {
    "duration": 31,
    "start_time": "2023-07-14T19:25:29.589Z"
   },
   {
    "duration": 29,
    "start_time": "2023-07-14T19:25:29.625Z"
   },
   {
    "duration": 6,
    "start_time": "2023-07-14T19:25:29.657Z"
   },
   {
    "duration": 13,
    "start_time": "2023-07-14T19:25:29.665Z"
   },
   {
    "duration": 3,
    "start_time": "2023-07-14T19:26:20.536Z"
   },
   {
    "duration": 45,
    "start_time": "2023-07-14T19:26:20.929Z"
   },
   {
    "duration": 16,
    "start_time": "2023-07-14T19:26:21.383Z"
   },
   {
    "duration": 29,
    "start_time": "2023-07-14T19:26:21.971Z"
   },
   {
    "duration": 17,
    "start_time": "2023-07-14T19:26:22.555Z"
   },
   {
    "duration": 12,
    "start_time": "2023-07-14T19:26:24.230Z"
   },
   {
    "duration": 22,
    "start_time": "2023-07-14T19:26:25.232Z"
   },
   {
    "duration": 8,
    "start_time": "2023-07-14T19:26:26.186Z"
   },
   {
    "duration": 5,
    "start_time": "2023-07-14T19:26:27.071Z"
   },
   {
    "duration": 5,
    "start_time": "2023-07-14T19:26:28.053Z"
   },
   {
    "duration": 5,
    "start_time": "2023-07-14T19:26:28.946Z"
   },
   {
    "duration": 9,
    "start_time": "2023-07-14T19:26:29.665Z"
   },
   {
    "duration": 8,
    "start_time": "2023-07-14T19:27:08.491Z"
   },
   {
    "duration": 14,
    "start_time": "2023-07-14T19:27:09.035Z"
   },
   {
    "duration": 1731,
    "start_time": "2023-07-14T19:27:09.650Z"
   },
   {
    "duration": 5,
    "start_time": "2023-07-14T19:27:12.291Z"
   },
   {
    "duration": 38,
    "start_time": "2023-07-14T19:27:13.675Z"
   },
   {
    "duration": 19,
    "start_time": "2023-07-14T19:27:15.323Z"
   },
   {
    "duration": 21,
    "start_time": "2023-07-14T19:27:16.848Z"
   },
   {
    "duration": 23,
    "start_time": "2023-07-14T19:27:18.430Z"
   },
   {
    "duration": 13,
    "start_time": "2023-07-14T19:27:23.330Z"
   },
   {
    "duration": 13,
    "start_time": "2023-07-14T19:27:27.183Z"
   },
   {
    "duration": 7,
    "start_time": "2023-07-14T19:27:49.754Z"
   },
   {
    "duration": 294,
    "start_time": "2023-07-14T19:39:42.706Z"
   },
   {
    "duration": 1267,
    "start_time": "2023-07-14T19:43:07.364Z"
   },
   {
    "duration": 44,
    "start_time": "2023-07-14T19:43:08.633Z"
   },
   {
    "duration": 14,
    "start_time": "2023-07-14T19:43:08.679Z"
   },
   {
    "duration": 42,
    "start_time": "2023-07-14T19:43:08.695Z"
   },
   {
    "duration": 15,
    "start_time": "2023-07-14T19:43:08.739Z"
   },
   {
    "duration": 12,
    "start_time": "2023-07-14T19:43:08.756Z"
   },
   {
    "duration": 15,
    "start_time": "2023-07-14T19:43:08.770Z"
   },
   {
    "duration": 16,
    "start_time": "2023-07-14T19:43:08.813Z"
   },
   {
    "duration": 4,
    "start_time": "2023-07-14T19:43:08.833Z"
   },
   {
    "duration": 6,
    "start_time": "2023-07-14T19:43:08.839Z"
   },
   {
    "duration": 11,
    "start_time": "2023-07-14T19:43:08.846Z"
   },
   {
    "duration": 2075,
    "start_time": "2023-07-14T19:43:08.859Z"
   },
   {
    "duration": 6,
    "start_time": "2023-07-14T19:43:10.936Z"
   },
   {
    "duration": 43,
    "start_time": "2023-07-14T19:43:10.946Z"
   },
   {
    "duration": 19,
    "start_time": "2023-07-14T19:43:10.991Z"
   },
   {
    "duration": 77,
    "start_time": "2023-07-14T19:43:11.012Z"
   },
   {
    "duration": 105,
    "start_time": "2023-07-14T19:43:11.091Z"
   },
   {
    "duration": 140,
    "start_time": "2023-07-14T19:43:11.198Z"
   },
   {
    "duration": 18,
    "start_time": "2023-07-14T19:43:11.341Z"
   },
   {
    "duration": 14,
    "start_time": "2023-07-14T19:43:11.361Z"
   },
   {
    "duration": 315,
    "start_time": "2023-07-14T19:43:11.377Z"
   },
   {
    "duration": 20,
    "start_time": "2023-07-14T19:43:11.693Z"
   },
   {
    "duration": 16,
    "start_time": "2023-07-14T19:43:47.633Z"
   },
   {
    "duration": 12,
    "start_time": "2023-07-14T19:44:13.289Z"
   },
   {
    "duration": 19,
    "start_time": "2023-07-14T19:44:24.001Z"
   },
   {
    "duration": 7,
    "start_time": "2023-07-14T19:45:05.137Z"
   },
   {
    "duration": 6,
    "start_time": "2023-07-14T19:45:15.969Z"
   },
   {
    "duration": 7,
    "start_time": "2023-07-14T19:45:20.509Z"
   },
   {
    "duration": 17,
    "start_time": "2023-07-14T19:45:34.037Z"
   },
   {
    "duration": 14,
    "start_time": "2023-07-14T19:45:45.482Z"
   },
   {
    "duration": 11,
    "start_time": "2023-07-14T19:45:59.462Z"
   },
   {
    "duration": 6,
    "start_time": "2023-07-14T19:46:18.329Z"
   },
   {
    "duration": 5,
    "start_time": "2023-07-14T19:46:24.073Z"
   },
   {
    "duration": 11,
    "start_time": "2023-07-14T19:49:01.745Z"
   },
   {
    "duration": 76,
    "start_time": "2023-07-14T19:50:35.483Z"
   },
   {
    "duration": 12,
    "start_time": "2023-07-14T19:50:45.912Z"
   },
   {
    "duration": 13,
    "start_time": "2023-07-14T19:52:38.988Z"
   },
   {
    "duration": 15,
    "start_time": "2023-07-14T19:52:55.835Z"
   },
   {
    "duration": 11,
    "start_time": "2023-07-14T19:53:20.327Z"
   },
   {
    "duration": 15,
    "start_time": "2023-07-14T19:55:00.925Z"
   },
   {
    "duration": 245,
    "start_time": "2023-07-14T19:59:52.293Z"
   },
   {
    "duration": 61,
    "start_time": "2023-07-14T20:10:38.090Z"
   },
   {
    "duration": 8,
    "start_time": "2023-07-14T20:10:42.600Z"
   },
   {
    "duration": 19,
    "start_time": "2023-07-14T20:10:49.275Z"
   },
   {
    "duration": 12,
    "start_time": "2023-07-14T20:12:01.090Z"
   },
   {
    "duration": 13,
    "start_time": "2023-07-14T20:12:47.228Z"
   },
   {
    "duration": 13,
    "start_time": "2023-07-14T20:14:11.025Z"
   },
   {
    "duration": 206,
    "start_time": "2023-07-14T20:21:03.111Z"
   },
   {
    "duration": 303,
    "start_time": "2023-07-14T20:23:21.453Z"
   },
   {
    "duration": 17,
    "start_time": "2023-07-14T20:27:05.885Z"
   },
   {
    "duration": 17,
    "start_time": "2023-07-14T20:34:24.818Z"
   },
   {
    "duration": 1311,
    "start_time": "2023-07-15T12:05:01.272Z"
   },
   {
    "duration": 208,
    "start_time": "2023-07-15T12:05:02.585Z"
   },
   {
    "duration": 13,
    "start_time": "2023-07-15T12:05:02.794Z"
   },
   {
    "duration": 76,
    "start_time": "2023-07-15T12:05:02.809Z"
   },
   {
    "duration": 29,
    "start_time": "2023-07-15T12:05:02.886Z"
   },
   {
    "duration": 51,
    "start_time": "2023-07-15T12:05:02.917Z"
   },
   {
    "duration": 32,
    "start_time": "2023-07-15T12:05:02.970Z"
   },
   {
    "duration": 16,
    "start_time": "2023-07-15T12:05:03.003Z"
   },
   {
    "duration": 63,
    "start_time": "2023-07-15T12:05:03.020Z"
   },
   {
    "duration": 25,
    "start_time": "2023-07-15T12:05:03.085Z"
   },
   {
    "duration": 81,
    "start_time": "2023-07-15T12:05:03.112Z"
   },
   {
    "duration": 2424,
    "start_time": "2023-07-15T12:05:03.195Z"
   },
   {
    "duration": 5,
    "start_time": "2023-07-15T12:05:05.633Z"
   },
   {
    "duration": 97,
    "start_time": "2023-07-15T12:05:05.640Z"
   },
   {
    "duration": 38,
    "start_time": "2023-07-15T12:05:05.739Z"
   },
   {
    "duration": 55,
    "start_time": "2023-07-15T12:05:05.780Z"
   },
   {
    "duration": 119,
    "start_time": "2023-07-15T12:05:05.836Z"
   },
   {
    "duration": 274,
    "start_time": "2023-07-15T12:05:05.957Z"
   },
   {
    "duration": 14,
    "start_time": "2023-07-15T12:05:06.233Z"
   },
   {
    "duration": 42,
    "start_time": "2023-07-15T12:05:06.248Z"
   },
   {
    "duration": 35,
    "start_time": "2023-07-15T12:05:06.292Z"
   },
   {
    "duration": 14,
    "start_time": "2023-07-15T12:05:06.329Z"
   },
   {
    "duration": 46,
    "start_time": "2023-07-15T12:05:06.344Z"
   },
   {
    "duration": 197,
    "start_time": "2023-07-15T12:05:06.392Z"
   },
   {
    "duration": 17,
    "start_time": "2023-07-15T12:05:06.591Z"
   },
   {
    "duration": 228,
    "start_time": "2023-07-15T12:10:42.011Z"
   },
   {
    "duration": 270,
    "start_time": "2023-07-15T12:10:52.709Z"
   },
   {
    "duration": 256,
    "start_time": "2023-07-15T12:11:04.710Z"
   },
   {
    "duration": 250,
    "start_time": "2023-07-15T12:12:22.286Z"
   },
   {
    "duration": 264,
    "start_time": "2023-07-15T12:13:05.009Z"
   },
   {
    "duration": 223,
    "start_time": "2023-07-15T12:13:19.411Z"
   },
   {
    "duration": 187,
    "start_time": "2023-07-15T12:18:17.999Z"
   },
   {
    "duration": 221,
    "start_time": "2023-07-15T12:18:32.877Z"
   },
   {
    "duration": 161,
    "start_time": "2023-07-15T12:18:49.478Z"
   },
   {
    "duration": 156,
    "start_time": "2023-07-15T12:21:30.536Z"
   },
   {
    "duration": 163,
    "start_time": "2023-07-15T12:23:17.520Z"
   },
   {
    "duration": 164,
    "start_time": "2023-07-15T12:24:30.769Z"
   },
   {
    "duration": 1554,
    "start_time": "2023-07-15T12:24:48.318Z"
   },
   {
    "duration": 150,
    "start_time": "2023-07-15T12:25:04.903Z"
   },
   {
    "duration": 10,
    "start_time": "2023-07-15T12:32:30.736Z"
   },
   {
    "duration": 13,
    "start_time": "2023-07-15T12:32:40.979Z"
   },
   {
    "duration": 17,
    "start_time": "2023-07-15T12:34:40.295Z"
   },
   {
    "duration": 178,
    "start_time": "2023-07-15T12:35:30.835Z"
   },
   {
    "duration": 186,
    "start_time": "2023-07-15T12:35:38.548Z"
   },
   {
    "duration": 12,
    "start_time": "2023-07-15T12:37:00.164Z"
   },
   {
    "duration": 160,
    "start_time": "2023-07-15T12:37:13.804Z"
   },
   {
    "duration": 10,
    "start_time": "2023-07-15T12:38:02.605Z"
   },
   {
    "duration": 13,
    "start_time": "2023-07-15T12:38:10.441Z"
   },
   {
    "duration": 13,
    "start_time": "2023-07-15T12:38:28.440Z"
   },
   {
    "duration": 173,
    "start_time": "2023-07-15T12:38:57.164Z"
   },
   {
    "duration": 169,
    "start_time": "2023-07-15T12:39:50.375Z"
   },
   {
    "duration": 12,
    "start_time": "2023-07-15T12:40:16.695Z"
   },
   {
    "duration": 190,
    "start_time": "2023-07-15T12:40:29.454Z"
   },
   {
    "duration": 10,
    "start_time": "2023-07-15T13:12:00.413Z"
   },
   {
    "duration": 10,
    "start_time": "2023-07-15T13:12:44.636Z"
   },
   {
    "duration": 10,
    "start_time": "2023-07-15T13:14:11.040Z"
   },
   {
    "duration": 12,
    "start_time": "2023-07-15T13:14:24.934Z"
   },
   {
    "duration": 12,
    "start_time": "2023-07-15T13:14:56.527Z"
   },
   {
    "duration": 142,
    "start_time": "2023-07-15T13:15:08.251Z"
   },
   {
    "duration": 142,
    "start_time": "2023-07-15T13:15:56.417Z"
   },
   {
    "duration": 12,
    "start_time": "2023-07-15T13:32:53.194Z"
   },
   {
    "duration": 212,
    "start_time": "2023-07-15T13:33:31.947Z"
   },
   {
    "duration": 212,
    "start_time": "2023-07-15T13:33:39.773Z"
   },
   {
    "duration": 9,
    "start_time": "2023-07-15T13:47:07.882Z"
   },
   {
    "duration": 12,
    "start_time": "2023-07-15T13:47:18.719Z"
   },
   {
    "duration": 163,
    "start_time": "2023-07-15T13:47:58.891Z"
   },
   {
    "duration": 4,
    "start_time": "2023-07-15T17:57:10.849Z"
   },
   {
    "duration": 3,
    "start_time": "2023-07-15T18:18:28.108Z"
   },
   {
    "duration": 4,
    "start_time": "2023-07-15T18:18:35.768Z"
   },
   {
    "duration": 3,
    "start_time": "2023-07-15T18:32:05.591Z"
   },
   {
    "duration": 5,
    "start_time": "2023-07-15T18:32:11.750Z"
   },
   {
    "duration": 3,
    "start_time": "2023-07-15T18:34:52.735Z"
   },
   {
    "duration": 218,
    "start_time": "2023-07-15T18:43:47.810Z"
   },
   {
    "duration": 5,
    "start_time": "2023-07-15T18:44:26.139Z"
   },
   {
    "duration": 16,
    "start_time": "2023-07-15T18:46:19.339Z"
   },
   {
    "duration": 17,
    "start_time": "2023-07-15T18:46:55.913Z"
   },
   {
    "duration": 7,
    "start_time": "2023-07-15T18:49:17.549Z"
   },
   {
    "duration": 7,
    "start_time": "2023-07-15T18:49:25.666Z"
   },
   {
    "duration": 14,
    "start_time": "2023-07-15T18:49:34.480Z"
   },
   {
    "duration": 6,
    "start_time": "2023-07-15T18:52:19.623Z"
   },
   {
    "duration": 15,
    "start_time": "2023-07-15T18:55:30.318Z"
   },
   {
    "duration": 7,
    "start_time": "2023-07-15T18:55:55.819Z"
   },
   {
    "duration": 15,
    "start_time": "2023-07-15T18:56:08.929Z"
   },
   {
    "duration": 16,
    "start_time": "2023-07-15T18:56:21.392Z"
   },
   {
    "duration": 7,
    "start_time": "2023-07-15T18:57:35.493Z"
   },
   {
    "duration": 5,
    "start_time": "2023-07-15T18:59:12.944Z"
   },
   {
    "duration": 4,
    "start_time": "2023-07-15T18:59:19.053Z"
   },
   {
    "duration": 5,
    "start_time": "2023-07-15T18:59:38.015Z"
   },
   {
    "duration": 5,
    "start_time": "2023-07-15T18:59:47.251Z"
   },
   {
    "duration": 5,
    "start_time": "2023-07-15T18:59:58.275Z"
   },
   {
    "duration": 7,
    "start_time": "2023-07-15T19:08:37.928Z"
   },
   {
    "duration": 6,
    "start_time": "2023-07-15T19:09:06.051Z"
   },
   {
    "duration": 18,
    "start_time": "2023-07-15T19:09:14.314Z"
   },
   {
    "duration": 16,
    "start_time": "2023-07-15T19:16:12.470Z"
   },
   {
    "duration": 15,
    "start_time": "2023-07-15T19:16:43.119Z"
   },
   {
    "duration": 4,
    "start_time": "2023-07-15T19:18:54.731Z"
   },
   {
    "duration": 5,
    "start_time": "2023-07-15T19:19:24.415Z"
   },
   {
    "duration": 1341,
    "start_time": "2023-07-15T19:20:21.360Z"
   },
   {
    "duration": 5,
    "start_time": "2023-07-15T19:20:32.471Z"
   },
   {
    "duration": 5,
    "start_time": "2023-07-15T19:27:13.773Z"
   },
   {
    "duration": 11,
    "start_time": "2023-07-15T19:27:22.611Z"
   },
   {
    "duration": 4,
    "start_time": "2023-07-15T19:33:58.925Z"
   },
   {
    "duration": 4,
    "start_time": "2023-07-15T19:34:21.182Z"
   },
   {
    "duration": 5,
    "start_time": "2023-07-15T19:34:44.146Z"
   },
   {
    "duration": 8,
    "start_time": "2023-07-15T19:36:13.889Z"
   },
   {
    "duration": 5,
    "start_time": "2023-07-15T19:36:50.107Z"
   },
   {
    "duration": 10,
    "start_time": "2023-07-15T19:36:52.681Z"
   },
   {
    "duration": 4,
    "start_time": "2023-07-15T20:12:13.326Z"
   },
   {
    "duration": 4,
    "start_time": "2023-07-15T20:12:31.658Z"
   },
   {
    "duration": 9,
    "start_time": "2023-07-15T20:12:34.694Z"
   },
   {
    "duration": 7,
    "start_time": "2023-07-15T20:14:53.954Z"
   },
   {
    "duration": 3,
    "start_time": "2023-07-15T20:15:21.376Z"
   },
   {
    "duration": 8,
    "start_time": "2023-07-15T20:15:30.616Z"
   },
   {
    "duration": 7,
    "start_time": "2023-07-15T20:15:57.981Z"
   },
   {
    "duration": 10,
    "start_time": "2023-07-15T20:20:18.259Z"
   },
   {
    "duration": 153,
    "start_time": "2023-07-15T20:23:23.235Z"
   },
   {
    "duration": 164,
    "start_time": "2023-07-15T20:23:39.494Z"
   },
   {
    "duration": 161,
    "start_time": "2023-07-15T20:25:33.231Z"
   },
   {
    "duration": 1005,
    "start_time": "2023-07-15T21:17:18.382Z"
   },
   {
    "duration": 45,
    "start_time": "2023-07-15T21:17:19.389Z"
   },
   {
    "duration": 12,
    "start_time": "2023-07-15T21:17:19.436Z"
   },
   {
    "duration": 48,
    "start_time": "2023-07-15T21:17:19.450Z"
   },
   {
    "duration": 14,
    "start_time": "2023-07-15T21:17:19.501Z"
   },
   {
    "duration": 34,
    "start_time": "2023-07-15T21:17:19.517Z"
   },
   {
    "duration": 19,
    "start_time": "2023-07-15T21:17:19.553Z"
   },
   {
    "duration": 7,
    "start_time": "2023-07-15T21:17:19.574Z"
   },
   {
    "duration": 8,
    "start_time": "2023-07-15T21:17:19.582Z"
   },
   {
    "duration": 18,
    "start_time": "2023-07-15T21:17:19.592Z"
   },
   {
    "duration": 16,
    "start_time": "2023-07-15T21:17:19.611Z"
   },
   {
    "duration": 1442,
    "start_time": "2023-07-15T21:17:19.628Z"
   },
   {
    "duration": 4,
    "start_time": "2023-07-15T21:17:21.072Z"
   },
   {
    "duration": 52,
    "start_time": "2023-07-15T21:17:21.077Z"
   },
   {
    "duration": 16,
    "start_time": "2023-07-15T21:17:21.130Z"
   },
   {
    "duration": 42,
    "start_time": "2023-07-15T21:17:21.147Z"
   },
   {
    "duration": 46,
    "start_time": "2023-07-15T21:17:21.190Z"
   },
   {
    "duration": 234,
    "start_time": "2023-07-15T21:17:21.237Z"
   },
   {
    "duration": 11,
    "start_time": "2023-07-15T21:17:21.472Z"
   },
   {
    "duration": 11,
    "start_time": "2023-07-15T21:17:21.484Z"
   },
   {
    "duration": 40,
    "start_time": "2023-07-15T21:17:21.497Z"
   },
   {
    "duration": 13,
    "start_time": "2023-07-15T21:17:21.538Z"
   },
   {
    "duration": 163,
    "start_time": "2023-07-15T21:17:21.552Z"
   },
   {
    "duration": 12,
    "start_time": "2023-07-15T21:17:21.719Z"
   },
   {
    "duration": 159,
    "start_time": "2023-07-15T21:17:21.733Z"
   },
   {
    "duration": 171,
    "start_time": "2023-07-15T21:17:21.894Z"
   },
   {
    "duration": 10,
    "start_time": "2023-07-15T21:17:22.066Z"
   },
   {
    "duration": 164,
    "start_time": "2023-07-15T21:17:22.079Z"
   },
   {
    "duration": 9,
    "start_time": "2023-07-15T21:17:22.244Z"
   },
   {
    "duration": 325,
    "start_time": "2023-07-15T21:17:22.255Z"
   },
   {
    "duration": 10,
    "start_time": "2023-07-15T21:17:22.582Z"
   },
   {
    "duration": 188,
    "start_time": "2023-07-15T21:17:22.594Z"
   },
   {
    "duration": 14,
    "start_time": "2023-07-15T21:17:22.784Z"
   },
   {
    "duration": 4,
    "start_time": "2023-07-15T21:17:22.799Z"
   },
   {
    "duration": 20,
    "start_time": "2023-07-15T21:17:22.805Z"
   },
   {
    "duration": 40,
    "start_time": "2023-07-15T21:17:22.826Z"
   },
   {
    "duration": 20,
    "start_time": "2023-07-15T21:17:22.867Z"
   },
   {
    "duration": 26,
    "start_time": "2023-07-15T21:17:22.888Z"
   },
   {
    "duration": 27,
    "start_time": "2023-07-15T21:17:22.915Z"
   },
   {
    "duration": 176,
    "start_time": "2023-07-15T21:17:22.944Z"
   },
   {
    "duration": 10,
    "start_time": "2023-07-15T21:17:23.121Z"
   },
   {
    "duration": 175,
    "start_time": "2023-07-15T21:17:23.132Z"
   },
   {
    "duration": 1465,
    "start_time": "2023-07-16T11:27:25.334Z"
   },
   {
    "duration": 94,
    "start_time": "2023-07-16T11:27:26.801Z"
   },
   {
    "duration": 14,
    "start_time": "2023-07-16T11:27:26.897Z"
   },
   {
    "duration": 33,
    "start_time": "2023-07-16T11:27:26.915Z"
   },
   {
    "duration": 22,
    "start_time": "2023-07-16T11:27:26.951Z"
   },
   {
    "duration": 20,
    "start_time": "2023-07-16T11:27:26.976Z"
   },
   {
    "duration": 16,
    "start_time": "2023-07-16T11:27:26.998Z"
   },
   {
    "duration": 10,
    "start_time": "2023-07-16T11:27:27.016Z"
   },
   {
    "duration": 33,
    "start_time": "2023-07-16T11:27:27.028Z"
   },
   {
    "duration": 5,
    "start_time": "2023-07-16T11:27:27.064Z"
   },
   {
    "duration": 11,
    "start_time": "2023-07-16T11:27:27.071Z"
   },
   {
    "duration": 1986,
    "start_time": "2023-07-16T11:27:27.083Z"
   },
   {
    "duration": 5,
    "start_time": "2023-07-16T11:27:29.071Z"
   },
   {
    "duration": 42,
    "start_time": "2023-07-16T11:27:29.077Z"
   },
   {
    "duration": 16,
    "start_time": "2023-07-16T11:27:29.121Z"
   },
   {
    "duration": 35,
    "start_time": "2023-07-16T11:27:29.140Z"
   },
   {
    "duration": 35,
    "start_time": "2023-07-16T11:27:29.178Z"
   },
   {
    "duration": 344,
    "start_time": "2023-07-16T11:27:29.215Z"
   },
   {
    "duration": 12,
    "start_time": "2023-07-16T11:27:29.561Z"
   },
   {
    "duration": 17,
    "start_time": "2023-07-16T11:27:29.575Z"
   },
   {
    "duration": 23,
    "start_time": "2023-07-16T11:27:29.595Z"
   },
   {
    "duration": 50,
    "start_time": "2023-07-16T11:27:29.620Z"
   },
   {
    "duration": 269,
    "start_time": "2023-07-16T11:27:29.672Z"
   },
   {
    "duration": 21,
    "start_time": "2023-07-16T11:27:29.943Z"
   },
   {
    "duration": 235,
    "start_time": "2023-07-16T11:27:29.966Z"
   },
   {
    "duration": 214,
    "start_time": "2023-07-16T11:27:30.203Z"
   },
   {
    "duration": 11,
    "start_time": "2023-07-16T11:27:30.419Z"
   },
   {
    "duration": 210,
    "start_time": "2023-07-16T11:27:30.433Z"
   },
   {
    "duration": 21,
    "start_time": "2023-07-16T11:27:30.644Z"
   },
   {
    "duration": 394,
    "start_time": "2023-07-16T11:27:30.667Z"
   },
   {
    "duration": 12,
    "start_time": "2023-07-16T11:27:31.063Z"
   },
   {
    "duration": 288,
    "start_time": "2023-07-16T11:27:31.078Z"
   },
   {
    "duration": 31,
    "start_time": "2023-07-16T11:27:31.368Z"
   },
   {
    "duration": 43,
    "start_time": "2023-07-16T11:27:31.401Z"
   },
   {
    "duration": 47,
    "start_time": "2023-07-16T11:27:31.446Z"
   },
   {
    "duration": 66,
    "start_time": "2023-07-16T11:27:31.494Z"
   },
   {
    "duration": 60,
    "start_time": "2023-07-16T11:27:31.562Z"
   },
   {
    "duration": 66,
    "start_time": "2023-07-16T11:27:31.624Z"
   },
   {
    "duration": 48,
    "start_time": "2023-07-16T11:27:31.692Z"
   },
   {
    "duration": 216,
    "start_time": "2023-07-16T11:27:31.742Z"
   },
   {
    "duration": 9,
    "start_time": "2023-07-16T11:27:31.960Z"
   },
   {
    "duration": 189,
    "start_time": "2023-07-16T11:27:31.970Z"
   },
   {
    "duration": 2,
    "start_time": "2023-07-16T11:27:32.161Z"
   },
   {
    "duration": 14,
    "start_time": "2023-07-16T12:00:02.408Z"
   },
   {
    "duration": 7,
    "start_time": "2023-07-16T12:04:26.572Z"
   },
   {
    "duration": 11,
    "start_time": "2023-07-16T12:04:33.863Z"
   },
   {
    "duration": 16,
    "start_time": "2023-07-16T12:04:40.338Z"
   },
   {
    "duration": 12,
    "start_time": "2023-07-16T12:14:46.038Z"
   },
   {
    "duration": 19,
    "start_time": "2023-07-16T12:15:14.084Z"
   },
   {
    "duration": 16,
    "start_time": "2023-07-16T12:15:33.170Z"
   },
   {
    "duration": 8,
    "start_time": "2023-07-16T12:19:50.026Z"
   },
   {
    "duration": 13,
    "start_time": "2023-07-16T12:20:46.156Z"
   },
   {
    "duration": 4,
    "start_time": "2023-07-16T12:24:09.511Z"
   },
   {
    "duration": 6,
    "start_time": "2023-07-16T12:24:38.915Z"
   },
   {
    "duration": 5,
    "start_time": "2023-07-16T12:25:19.643Z"
   },
   {
    "duration": 6,
    "start_time": "2023-07-16T12:28:33.028Z"
   },
   {
    "duration": 17,
    "start_time": "2023-07-16T12:28:34.628Z"
   },
   {
    "duration": 9,
    "start_time": "2023-07-16T12:29:31.161Z"
   },
   {
    "duration": 28,
    "start_time": "2023-07-16T12:29:32.350Z"
   },
   {
    "duration": 6,
    "start_time": "2023-07-16T12:30:16.131Z"
   },
   {
    "duration": 14,
    "start_time": "2023-07-16T12:30:17.944Z"
   },
   {
    "duration": 13,
    "start_time": "2023-07-16T12:30:48.177Z"
   },
   {
    "duration": 14,
    "start_time": "2023-07-16T12:30:48.844Z"
   },
   {
    "duration": 5,
    "start_time": "2023-07-16T12:31:03.628Z"
   },
   {
    "duration": 7,
    "start_time": "2023-07-16T12:31:07.818Z"
   },
   {
    "duration": 18,
    "start_time": "2023-07-16T12:31:15.398Z"
   },
   {
    "duration": 349,
    "start_time": "2023-07-16T12:33:48.780Z"
   },
   {
    "duration": 293,
    "start_time": "2023-07-16T12:34:05.225Z"
   },
   {
    "duration": 200,
    "start_time": "2023-07-16T12:34:18.130Z"
   },
   {
    "duration": 191,
    "start_time": "2023-07-16T12:34:26.844Z"
   },
   {
    "duration": 182,
    "start_time": "2023-07-16T12:34:39.617Z"
   },
   {
    "duration": 434,
    "start_time": "2023-07-16T12:34:46.443Z"
   },
   {
    "duration": 482,
    "start_time": "2023-07-16T12:34:57.285Z"
   },
   {
    "duration": 296,
    "start_time": "2023-07-16T12:35:32.552Z"
   },
   {
    "duration": 223,
    "start_time": "2023-07-16T12:35:44.779Z"
   },
   {
    "duration": 270,
    "start_time": "2023-07-16T12:35:52.017Z"
   },
   {
    "duration": 189,
    "start_time": "2023-07-16T12:36:05.649Z"
   },
   {
    "duration": 288,
    "start_time": "2023-07-16T12:36:19.919Z"
   },
   {
    "duration": 472,
    "start_time": "2023-07-16T12:37:50.745Z"
   },
   {
    "duration": 283,
    "start_time": "2023-07-16T12:38:05.017Z"
   },
   {
    "duration": 259,
    "start_time": "2023-07-16T12:38:22.712Z"
   },
   {
    "duration": 296,
    "start_time": "2023-07-16T12:39:06.180Z"
   },
   {
    "duration": 206,
    "start_time": "2023-07-16T12:39:25.521Z"
   },
   {
    "duration": 326,
    "start_time": "2023-07-16T12:39:37.911Z"
   },
   {
    "duration": 213,
    "start_time": "2023-07-16T12:40:17.834Z"
   },
   {
    "duration": 444,
    "start_time": "2023-07-16T12:40:31.945Z"
   },
   {
    "duration": 33,
    "start_time": "2023-07-16T13:02:18.154Z"
   },
   {
    "duration": 378,
    "start_time": "2023-07-16T13:03:48.919Z"
   },
   {
    "duration": 1219,
    "start_time": "2023-07-16T13:03:56.112Z"
   },
   {
    "duration": 51,
    "start_time": "2023-07-16T13:03:57.333Z"
   },
   {
    "duration": 15,
    "start_time": "2023-07-16T13:03:57.388Z"
   },
   {
    "duration": 24,
    "start_time": "2023-07-16T13:03:57.405Z"
   },
   {
    "duration": 39,
    "start_time": "2023-07-16T13:03:57.431Z"
   },
   {
    "duration": 14,
    "start_time": "2023-07-16T13:03:57.479Z"
   },
   {
    "duration": 52,
    "start_time": "2023-07-16T13:03:57.494Z"
   },
   {
    "duration": 9,
    "start_time": "2023-07-16T13:03:57.548Z"
   },
   {
    "duration": 25,
    "start_time": "2023-07-16T13:03:57.558Z"
   },
   {
    "duration": 20,
    "start_time": "2023-07-16T13:03:57.588Z"
   },
   {
    "duration": 13,
    "start_time": "2023-07-16T13:03:57.609Z"
   },
   {
    "duration": 1728,
    "start_time": "2023-07-16T13:03:57.624Z"
   },
   {
    "duration": 4,
    "start_time": "2023-07-16T13:03:59.354Z"
   },
   {
    "duration": 71,
    "start_time": "2023-07-16T13:03:59.372Z"
   },
   {
    "duration": 27,
    "start_time": "2023-07-16T13:03:59.445Z"
   },
   {
    "duration": 26,
    "start_time": "2023-07-16T13:03:59.474Z"
   },
   {
    "duration": 30,
    "start_time": "2023-07-16T13:03:59.502Z"
   },
   {
    "duration": 306,
    "start_time": "2023-07-16T13:03:59.535Z"
   },
   {
    "duration": 38,
    "start_time": "2023-07-16T13:03:59.843Z"
   },
   {
    "duration": 14,
    "start_time": "2023-07-16T13:03:59.884Z"
   },
   {
    "duration": 26,
    "start_time": "2023-07-16T13:03:59.899Z"
   },
   {
    "duration": 13,
    "start_time": "2023-07-16T13:03:59.927Z"
   },
   {
    "duration": 242,
    "start_time": "2023-07-16T13:03:59.941Z"
   },
   {
    "duration": 15,
    "start_time": "2023-07-16T13:04:00.185Z"
   },
   {
    "duration": 234,
    "start_time": "2023-07-16T13:04:00.202Z"
   },
   {
    "duration": 239,
    "start_time": "2023-07-16T13:04:00.437Z"
   },
   {
    "duration": 16,
    "start_time": "2023-07-16T13:04:00.679Z"
   },
   {
    "duration": 243,
    "start_time": "2023-07-16T13:04:00.699Z"
   },
   {
    "duration": 37,
    "start_time": "2023-07-16T13:04:00.943Z"
   },
   {
    "duration": 456,
    "start_time": "2023-07-16T13:04:00.982Z"
   },
   {
    "duration": 33,
    "start_time": "2023-07-16T13:04:01.441Z"
   },
   {
    "duration": 310,
    "start_time": "2023-07-16T13:04:01.476Z"
   },
   {
    "duration": 21,
    "start_time": "2023-07-16T13:04:01.788Z"
   },
   {
    "duration": 17,
    "start_time": "2023-07-16T13:04:01.811Z"
   },
   {
    "duration": 22,
    "start_time": "2023-07-16T13:04:01.830Z"
   },
   {
    "duration": 27,
    "start_time": "2023-07-16T13:04:01.854Z"
   },
   {
    "duration": 37,
    "start_time": "2023-07-16T13:04:01.883Z"
   },
   {
    "duration": 34,
    "start_time": "2023-07-16T13:04:01.922Z"
   },
   {
    "duration": 36,
    "start_time": "2023-07-16T13:04:01.958Z"
   },
   {
    "duration": 228,
    "start_time": "2023-07-16T13:04:01.996Z"
   },
   {
    "duration": 10,
    "start_time": "2023-07-16T13:04:02.226Z"
   },
   {
    "duration": 276,
    "start_time": "2023-07-16T13:04:02.238Z"
   },
   {
    "duration": 496,
    "start_time": "2023-07-16T13:04:02.516Z"
   },
   {
    "duration": 0,
    "start_time": "2023-07-16T13:04:03.014Z"
   },
   {
    "duration": 0,
    "start_time": "2023-07-16T13:04:03.015Z"
   },
   {
    "duration": 0,
    "start_time": "2023-07-16T13:04:03.016Z"
   },
   {
    "duration": 0,
    "start_time": "2023-07-16T13:04:03.017Z"
   },
   {
    "duration": 0,
    "start_time": "2023-07-16T13:04:03.018Z"
   },
   {
    "duration": 9,
    "start_time": "2023-07-16T13:04:31.414Z"
   },
   {
    "duration": 9,
    "start_time": "2023-07-16T13:05:05.242Z"
   },
   {
    "duration": 13,
    "start_time": "2023-07-16T13:05:49.607Z"
   },
   {
    "duration": 10,
    "start_time": "2023-07-16T13:05:59.035Z"
   },
   {
    "duration": 9,
    "start_time": "2023-07-16T13:06:11.926Z"
   },
   {
    "duration": 14,
    "start_time": "2023-07-16T13:31:49.817Z"
   },
   {
    "duration": 14,
    "start_time": "2023-07-16T13:32:11.297Z"
   },
   {
    "duration": 13,
    "start_time": "2023-07-16T13:32:30.300Z"
   },
   {
    "duration": 25,
    "start_time": "2023-07-16T13:32:53.056Z"
   },
   {
    "duration": 19,
    "start_time": "2023-07-16T13:33:32.234Z"
   },
   {
    "duration": 8,
    "start_time": "2023-07-16T13:34:56.157Z"
   },
   {
    "duration": 7,
    "start_time": "2023-07-16T13:34:57.098Z"
   },
   {
    "duration": 6,
    "start_time": "2023-07-16T13:35:01.644Z"
   },
   {
    "duration": 7,
    "start_time": "2023-07-16T13:35:04.212Z"
   },
   {
    "duration": 17,
    "start_time": "2023-07-16T13:35:09.493Z"
   },
   {
    "duration": 216,
    "start_time": "2023-07-16T13:35:32.241Z"
   },
   {
    "duration": 10,
    "start_time": "2023-07-16T13:35:53.805Z"
   },
   {
    "duration": 9,
    "start_time": "2023-07-16T13:36:13.410Z"
   },
   {
    "duration": 6,
    "start_time": "2023-07-16T13:37:13.388Z"
   },
   {
    "duration": 9,
    "start_time": "2023-07-16T13:37:27.082Z"
   },
   {
    "duration": 12,
    "start_time": "2023-07-16T13:37:46.086Z"
   },
   {
    "duration": 5,
    "start_time": "2023-07-16T13:37:59.232Z"
   },
   {
    "duration": 14,
    "start_time": "2023-07-16T13:38:01.989Z"
   },
   {
    "duration": 13,
    "start_time": "2023-07-16T13:38:19.080Z"
   },
   {
    "duration": 5,
    "start_time": "2023-07-16T13:38:40.474Z"
   },
   {
    "duration": 69,
    "start_time": "2023-07-16T13:41:22.171Z"
   },
   {
    "duration": 8,
    "start_time": "2023-07-16T13:41:28.778Z"
   },
   {
    "duration": 16,
    "start_time": "2023-07-16T13:41:31.376Z"
   },
   {
    "duration": 5,
    "start_time": "2023-07-16T13:41:40.100Z"
   },
   {
    "duration": 9,
    "start_time": "2023-07-16T13:41:49.332Z"
   },
   {
    "duration": 217,
    "start_time": "2023-07-16T13:41:55.288Z"
   },
   {
    "duration": 11,
    "start_time": "2023-07-16T13:42:03.802Z"
   },
   {
    "duration": 196,
    "start_time": "2023-07-16T13:42:11.760Z"
   },
   {
    "duration": 11,
    "start_time": "2023-07-16T13:42:32.134Z"
   },
   {
    "duration": 12,
    "start_time": "2023-07-16T13:43:37.189Z"
   },
   {
    "duration": 9,
    "start_time": "2023-07-16T13:43:55.242Z"
   },
   {
    "duration": 10,
    "start_time": "2023-07-16T13:47:07.501Z"
   },
   {
    "duration": 261,
    "start_time": "2023-07-16T13:47:23.591Z"
   },
   {
    "duration": 12,
    "start_time": "2023-07-16T13:47:28.752Z"
   },
   {
    "duration": 274,
    "start_time": "2023-07-16T13:47:31.288Z"
   },
   {
    "duration": 551,
    "start_time": "2023-07-16T14:40:30.257Z"
   },
   {
    "duration": 2384,
    "start_time": "2023-07-16T14:40:58.799Z"
   },
   {
    "duration": 361,
    "start_time": "2023-07-16T14:50:00.638Z"
   },
   {
    "duration": 48,
    "start_time": "2023-07-17T17:15:34.838Z"
   },
   {
    "duration": 1362,
    "start_time": "2023-07-17T17:15:41.715Z"
   },
   {
    "duration": 172,
    "start_time": "2023-07-17T17:15:43.079Z"
   },
   {
    "duration": 12,
    "start_time": "2023-07-17T17:15:43.253Z"
   },
   {
    "duration": 24,
    "start_time": "2023-07-17T17:15:43.267Z"
   },
   {
    "duration": 13,
    "start_time": "2023-07-17T17:15:43.293Z"
   },
   {
    "duration": 24,
    "start_time": "2023-07-17T17:15:43.307Z"
   },
   {
    "duration": 21,
    "start_time": "2023-07-17T17:15:43.333Z"
   },
   {
    "duration": 8,
    "start_time": "2023-07-17T17:15:43.355Z"
   },
   {
    "duration": 43,
    "start_time": "2023-07-17T17:15:43.364Z"
   },
   {
    "duration": 21,
    "start_time": "2023-07-17T17:15:43.410Z"
   },
   {
    "duration": 38,
    "start_time": "2023-07-17T17:15:43.432Z"
   },
   {
    "duration": 1844,
    "start_time": "2023-07-17T17:15:43.471Z"
   },
   {
    "duration": 222,
    "start_time": "2023-07-17T17:15:45.317Z"
   },
   {
    "duration": 0,
    "start_time": "2023-07-17T17:15:45.542Z"
   },
   {
    "duration": 0,
    "start_time": "2023-07-17T17:15:45.544Z"
   },
   {
    "duration": 0,
    "start_time": "2023-07-17T17:15:45.545Z"
   },
   {
    "duration": 0,
    "start_time": "2023-07-17T17:15:45.546Z"
   },
   {
    "duration": 0,
    "start_time": "2023-07-17T17:15:45.548Z"
   },
   {
    "duration": 0,
    "start_time": "2023-07-17T17:15:45.549Z"
   },
   {
    "duration": 0,
    "start_time": "2023-07-17T17:15:45.551Z"
   },
   {
    "duration": 0,
    "start_time": "2023-07-17T17:15:45.552Z"
   },
   {
    "duration": 0,
    "start_time": "2023-07-17T17:15:45.553Z"
   },
   {
    "duration": 0,
    "start_time": "2023-07-17T17:15:45.555Z"
   },
   {
    "duration": 0,
    "start_time": "2023-07-17T17:15:45.575Z"
   },
   {
    "duration": 0,
    "start_time": "2023-07-17T17:15:45.576Z"
   },
   {
    "duration": 0,
    "start_time": "2023-07-17T17:15:45.578Z"
   },
   {
    "duration": 0,
    "start_time": "2023-07-17T17:15:45.580Z"
   },
   {
    "duration": 0,
    "start_time": "2023-07-17T17:15:45.581Z"
   },
   {
    "duration": 0,
    "start_time": "2023-07-17T17:15:45.582Z"
   },
   {
    "duration": 0,
    "start_time": "2023-07-17T17:15:45.584Z"
   },
   {
    "duration": 0,
    "start_time": "2023-07-17T17:15:45.585Z"
   },
   {
    "duration": 0,
    "start_time": "2023-07-17T17:15:45.586Z"
   },
   {
    "duration": 0,
    "start_time": "2023-07-17T17:15:45.588Z"
   },
   {
    "duration": 0,
    "start_time": "2023-07-17T17:15:45.589Z"
   },
   {
    "duration": 0,
    "start_time": "2023-07-17T17:15:45.591Z"
   },
   {
    "duration": 0,
    "start_time": "2023-07-17T17:15:45.592Z"
   },
   {
    "duration": 0,
    "start_time": "2023-07-17T17:15:45.594Z"
   },
   {
    "duration": 0,
    "start_time": "2023-07-17T17:15:45.595Z"
   },
   {
    "duration": 0,
    "start_time": "2023-07-17T17:15:45.597Z"
   },
   {
    "duration": 0,
    "start_time": "2023-07-17T17:15:45.598Z"
   },
   {
    "duration": 0,
    "start_time": "2023-07-17T17:15:45.599Z"
   },
   {
    "duration": 0,
    "start_time": "2023-07-17T17:15:45.601Z"
   },
   {
    "duration": 0,
    "start_time": "2023-07-17T17:15:45.602Z"
   },
   {
    "duration": 0,
    "start_time": "2023-07-17T17:15:45.603Z"
   },
   {
    "duration": 0,
    "start_time": "2023-07-17T17:15:45.605Z"
   },
   {
    "duration": 0,
    "start_time": "2023-07-17T17:15:45.606Z"
   },
   {
    "duration": 0,
    "start_time": "2023-07-17T17:15:45.607Z"
   },
   {
    "duration": 0,
    "start_time": "2023-07-17T17:15:45.608Z"
   },
   {
    "duration": 1143,
    "start_time": "2023-07-17T17:34:00.642Z"
   },
   {
    "duration": 42,
    "start_time": "2023-07-17T17:34:01.787Z"
   },
   {
    "duration": 12,
    "start_time": "2023-07-17T17:34:01.831Z"
   },
   {
    "duration": 56,
    "start_time": "2023-07-17T17:34:01.845Z"
   },
   {
    "duration": 43,
    "start_time": "2023-07-17T17:34:01.903Z"
   },
   {
    "duration": 28,
    "start_time": "2023-07-17T17:34:01.948Z"
   },
   {
    "duration": 33,
    "start_time": "2023-07-17T17:34:01.978Z"
   },
   {
    "duration": 19,
    "start_time": "2023-07-17T17:34:02.012Z"
   },
   {
    "duration": 34,
    "start_time": "2023-07-17T17:34:02.033Z"
   },
   {
    "duration": 26,
    "start_time": "2023-07-17T17:34:02.070Z"
   },
   {
    "duration": 28,
    "start_time": "2023-07-17T17:34:02.097Z"
   },
   {
    "duration": 1504,
    "start_time": "2023-07-17T17:34:02.127Z"
   },
   {
    "duration": 12,
    "start_time": "2023-07-17T17:34:03.633Z"
   },
   {
    "duration": 35,
    "start_time": "2023-07-17T17:34:03.647Z"
   },
   {
    "duration": 124,
    "start_time": "2023-07-17T17:34:03.684Z"
   },
   {
    "duration": 5,
    "start_time": "2023-07-17T17:34:03.810Z"
   },
   {
    "duration": 45,
    "start_time": "2023-07-17T17:34:03.817Z"
   },
   {
    "duration": 25,
    "start_time": "2023-07-17T17:34:03.864Z"
   },
   {
    "duration": 85,
    "start_time": "2023-07-17T17:34:03.890Z"
   },
   {
    "duration": 51,
    "start_time": "2023-07-17T17:34:03.977Z"
   },
   {
    "duration": 109,
    "start_time": "2023-07-17T17:34:04.030Z"
   },
   {
    "duration": 0,
    "start_time": "2023-07-17T17:34:04.142Z"
   },
   {
    "duration": 0,
    "start_time": "2023-07-17T17:34:04.143Z"
   },
   {
    "duration": 0,
    "start_time": "2023-07-17T17:34:04.144Z"
   },
   {
    "duration": 0,
    "start_time": "2023-07-17T17:34:04.145Z"
   },
   {
    "duration": 0,
    "start_time": "2023-07-17T17:34:04.147Z"
   },
   {
    "duration": 0,
    "start_time": "2023-07-17T17:34:04.148Z"
   },
   {
    "duration": 0,
    "start_time": "2023-07-17T17:34:04.148Z"
   },
   {
    "duration": 0,
    "start_time": "2023-07-17T17:34:04.149Z"
   },
   {
    "duration": 0,
    "start_time": "2023-07-17T17:34:04.150Z"
   },
   {
    "duration": 0,
    "start_time": "2023-07-17T17:34:04.151Z"
   },
   {
    "duration": 1,
    "start_time": "2023-07-17T17:34:04.152Z"
   },
   {
    "duration": 0,
    "start_time": "2023-07-17T17:34:04.174Z"
   },
   {
    "duration": 1,
    "start_time": "2023-07-17T17:34:04.175Z"
   },
   {
    "duration": 0,
    "start_time": "2023-07-17T17:34:04.176Z"
   },
   {
    "duration": 0,
    "start_time": "2023-07-17T17:34:04.177Z"
   },
   {
    "duration": 0,
    "start_time": "2023-07-17T17:34:04.178Z"
   },
   {
    "duration": 0,
    "start_time": "2023-07-17T17:34:04.179Z"
   },
   {
    "duration": 0,
    "start_time": "2023-07-17T17:34:04.180Z"
   },
   {
    "duration": 0,
    "start_time": "2023-07-17T17:34:04.181Z"
   },
   {
    "duration": 0,
    "start_time": "2023-07-17T17:34:04.182Z"
   },
   {
    "duration": 0,
    "start_time": "2023-07-17T17:34:04.183Z"
   },
   {
    "duration": 0,
    "start_time": "2023-07-17T17:34:04.184Z"
   },
   {
    "duration": 0,
    "start_time": "2023-07-17T17:34:04.185Z"
   },
   {
    "duration": 0,
    "start_time": "2023-07-17T17:34:04.186Z"
   },
   {
    "duration": 0,
    "start_time": "2023-07-17T17:34:04.187Z"
   },
   {
    "duration": 0,
    "start_time": "2023-07-17T17:34:04.188Z"
   },
   {
    "duration": 12,
    "start_time": "2023-07-17T17:51:23.206Z"
   },
   {
    "duration": 1193,
    "start_time": "2023-07-17T17:51:51.671Z"
   },
   {
    "duration": 43,
    "start_time": "2023-07-17T17:51:52.866Z"
   },
   {
    "duration": 12,
    "start_time": "2023-07-17T17:51:52.910Z"
   },
   {
    "duration": 26,
    "start_time": "2023-07-17T17:51:52.923Z"
   },
   {
    "duration": 13,
    "start_time": "2023-07-17T17:51:52.951Z"
   },
   {
    "duration": 15,
    "start_time": "2023-07-17T17:51:52.966Z"
   },
   {
    "duration": 17,
    "start_time": "2023-07-17T17:51:52.986Z"
   },
   {
    "duration": 9,
    "start_time": "2023-07-17T17:51:53.005Z"
   },
   {
    "duration": 13,
    "start_time": "2023-07-17T17:51:53.016Z"
   },
   {
    "duration": 10,
    "start_time": "2023-07-17T17:51:53.031Z"
   },
   {
    "duration": 17,
    "start_time": "2023-07-17T17:51:53.043Z"
   },
   {
    "duration": 1580,
    "start_time": "2023-07-17T17:51:53.061Z"
   },
   {
    "duration": 11,
    "start_time": "2023-07-17T17:51:54.643Z"
   },
   {
    "duration": 23,
    "start_time": "2023-07-17T17:51:54.657Z"
   },
   {
    "duration": 14,
    "start_time": "2023-07-17T17:51:54.682Z"
   },
   {
    "duration": 14,
    "start_time": "2023-07-17T17:51:54.698Z"
   },
   {
    "duration": 45,
    "start_time": "2023-07-17T17:51:54.714Z"
   },
   {
    "duration": 16,
    "start_time": "2023-07-17T17:51:54.761Z"
   },
   {
    "duration": 30,
    "start_time": "2023-07-17T17:51:54.778Z"
   },
   {
    "duration": 59,
    "start_time": "2023-07-17T17:51:54.810Z"
   },
   {
    "duration": 106,
    "start_time": "2023-07-17T17:51:54.870Z"
   },
   {
    "duration": 0,
    "start_time": "2023-07-17T17:51:54.978Z"
   },
   {
    "duration": 0,
    "start_time": "2023-07-17T17:51:54.979Z"
   },
   {
    "duration": 0,
    "start_time": "2023-07-17T17:51:54.979Z"
   },
   {
    "duration": 0,
    "start_time": "2023-07-17T17:51:54.981Z"
   },
   {
    "duration": 0,
    "start_time": "2023-07-17T17:51:54.982Z"
   },
   {
    "duration": 0,
    "start_time": "2023-07-17T17:51:54.983Z"
   },
   {
    "duration": 0,
    "start_time": "2023-07-17T17:51:54.984Z"
   },
   {
    "duration": 0,
    "start_time": "2023-07-17T17:51:54.984Z"
   },
   {
    "duration": 0,
    "start_time": "2023-07-17T17:51:54.985Z"
   },
   {
    "duration": 0,
    "start_time": "2023-07-17T17:51:54.986Z"
   },
   {
    "duration": 0,
    "start_time": "2023-07-17T17:51:54.988Z"
   },
   {
    "duration": 0,
    "start_time": "2023-07-17T17:51:54.989Z"
   },
   {
    "duration": 0,
    "start_time": "2023-07-17T17:51:54.990Z"
   },
   {
    "duration": 0,
    "start_time": "2023-07-17T17:51:54.991Z"
   },
   {
    "duration": 0,
    "start_time": "2023-07-17T17:51:54.992Z"
   },
   {
    "duration": 0,
    "start_time": "2023-07-17T17:51:54.993Z"
   },
   {
    "duration": 0,
    "start_time": "2023-07-17T17:51:54.993Z"
   },
   {
    "duration": 0,
    "start_time": "2023-07-17T17:51:54.994Z"
   },
   {
    "duration": 0,
    "start_time": "2023-07-17T17:51:54.995Z"
   },
   {
    "duration": 0,
    "start_time": "2023-07-17T17:51:54.996Z"
   },
   {
    "duration": 0,
    "start_time": "2023-07-17T17:51:54.997Z"
   },
   {
    "duration": 0,
    "start_time": "2023-07-17T17:51:54.998Z"
   },
   {
    "duration": 0,
    "start_time": "2023-07-17T17:51:54.999Z"
   },
   {
    "duration": 0,
    "start_time": "2023-07-17T17:51:55.000Z"
   },
   {
    "duration": 0,
    "start_time": "2023-07-17T17:51:55.001Z"
   },
   {
    "duration": 0,
    "start_time": "2023-07-17T17:51:55.002Z"
   },
   {
    "duration": 5,
    "start_time": "2023-07-17T17:53:15.497Z"
   },
   {
    "duration": 6162,
    "start_time": "2023-07-17T17:53:36.792Z"
   },
   {
    "duration": 0,
    "start_time": "2023-07-17T17:53:42.956Z"
   },
   {
    "duration": 37,
    "start_time": "2023-07-17T17:56:12.454Z"
   },
   {
    "duration": 1207,
    "start_time": "2023-07-17T17:56:22.689Z"
   },
   {
    "duration": 44,
    "start_time": "2023-07-17T17:56:23.898Z"
   },
   {
    "duration": 13,
    "start_time": "2023-07-17T17:56:23.944Z"
   },
   {
    "duration": 36,
    "start_time": "2023-07-17T17:56:23.958Z"
   },
   {
    "duration": 14,
    "start_time": "2023-07-17T17:56:23.996Z"
   },
   {
    "duration": 11,
    "start_time": "2023-07-17T17:56:24.012Z"
   },
   {
    "duration": 20,
    "start_time": "2023-07-17T17:56:24.025Z"
   },
   {
    "duration": 8,
    "start_time": "2023-07-17T17:56:24.047Z"
   },
   {
    "duration": 4,
    "start_time": "2023-07-17T17:56:24.075Z"
   },
   {
    "duration": 11,
    "start_time": "2023-07-17T17:56:24.080Z"
   },
   {
    "duration": 14,
    "start_time": "2023-07-17T17:56:24.092Z"
   },
   {
    "duration": 1474,
    "start_time": "2023-07-17T17:56:24.108Z"
   },
   {
    "duration": 11,
    "start_time": "2023-07-17T17:56:25.584Z"
   },
   {
    "duration": 12,
    "start_time": "2023-07-17T17:56:25.597Z"
   },
   {
    "duration": 16,
    "start_time": "2023-07-17T17:56:25.611Z"
   },
   {
    "duration": 3,
    "start_time": "2023-07-17T17:56:25.629Z"
   },
   {
    "duration": 49,
    "start_time": "2023-07-17T17:56:25.634Z"
   },
   {
    "duration": 14,
    "start_time": "2023-07-17T17:56:25.685Z"
   },
   {
    "duration": 24,
    "start_time": "2023-07-17T17:56:25.700Z"
   },
   {
    "duration": 21,
    "start_time": "2023-07-17T17:56:25.725Z"
   },
   {
    "duration": 31,
    "start_time": "2023-07-17T17:56:25.748Z"
   },
   {
    "duration": 181,
    "start_time": "2023-07-17T17:56:25.781Z"
   },
   {
    "duration": 18,
    "start_time": "2023-07-17T17:56:25.963Z"
   },
   {
    "duration": 181,
    "start_time": "2023-07-17T17:56:25.983Z"
   },
   {
    "duration": 195,
    "start_time": "2023-07-17T17:56:26.166Z"
   },
   {
    "duration": 14,
    "start_time": "2023-07-17T17:56:26.362Z"
   },
   {
    "duration": 157,
    "start_time": "2023-07-17T17:56:26.377Z"
   },
   {
    "duration": 10,
    "start_time": "2023-07-17T17:56:26.536Z"
   },
   {
    "duration": 294,
    "start_time": "2023-07-17T17:56:26.548Z"
   },
   {
    "duration": 14,
    "start_time": "2023-07-17T17:56:26.844Z"
   },
   {
    "duration": 302,
    "start_time": "2023-07-17T17:56:26.875Z"
   },
   {
    "duration": 17,
    "start_time": "2023-07-17T17:56:27.179Z"
   },
   {
    "duration": 5,
    "start_time": "2023-07-17T17:56:27.197Z"
   },
   {
    "duration": 14,
    "start_time": "2023-07-17T17:56:27.203Z"
   },
   {
    "duration": 35,
    "start_time": "2023-07-17T17:56:27.219Z"
   },
   {
    "duration": 7,
    "start_time": "2023-07-17T17:56:27.256Z"
   },
   {
    "duration": 35,
    "start_time": "2023-07-17T17:56:27.264Z"
   },
   {
    "duration": 9,
    "start_time": "2023-07-17T17:56:27.302Z"
   },
   {
    "duration": 169,
    "start_time": "2023-07-17T17:56:27.312Z"
   },
   {
    "duration": 9,
    "start_time": "2023-07-17T17:56:27.483Z"
   },
   {
    "duration": 182,
    "start_time": "2023-07-17T17:56:27.495Z"
   },
   {
    "duration": 9,
    "start_time": "2023-07-17T17:56:27.678Z"
   },
   {
    "duration": 17,
    "start_time": "2023-07-17T17:56:27.689Z"
   },
   {
    "duration": 225,
    "start_time": "2023-07-17T17:56:27.707Z"
   },
   {
    "duration": 7,
    "start_time": "2023-07-17T17:56:27.934Z"
   },
   {
    "duration": 227,
    "start_time": "2023-07-17T17:56:27.943Z"
   },
   {
    "duration": 313,
    "start_time": "2023-07-17T17:56:28.176Z"
   },
   {
    "duration": 35,
    "start_time": "2023-07-17T17:58:11.989Z"
   },
   {
    "duration": 22,
    "start_time": "2023-07-17T17:58:49.097Z"
   },
   {
    "duration": 4,
    "start_time": "2023-07-17T18:07:54.873Z"
   },
   {
    "duration": 1165,
    "start_time": "2023-07-17T18:08:03.314Z"
   },
   {
    "duration": 44,
    "start_time": "2023-07-17T18:08:04.480Z"
   },
   {
    "duration": 11,
    "start_time": "2023-07-17T18:08:04.526Z"
   },
   {
    "duration": 25,
    "start_time": "2023-07-17T18:08:04.539Z"
   },
   {
    "duration": 19,
    "start_time": "2023-07-17T18:08:04.566Z"
   },
   {
    "duration": 12,
    "start_time": "2023-07-17T18:08:04.587Z"
   },
   {
    "duration": 15,
    "start_time": "2023-07-17T18:08:04.600Z"
   },
   {
    "duration": 8,
    "start_time": "2023-07-17T18:08:04.617Z"
   },
   {
    "duration": 7,
    "start_time": "2023-07-17T18:08:04.626Z"
   },
   {
    "duration": 7,
    "start_time": "2023-07-17T18:08:04.634Z"
   },
   {
    "duration": 14,
    "start_time": "2023-07-17T18:08:04.642Z"
   },
   {
    "duration": 1601,
    "start_time": "2023-07-17T18:08:04.675Z"
   },
   {
    "duration": 13,
    "start_time": "2023-07-17T18:08:06.278Z"
   },
   {
    "duration": 34,
    "start_time": "2023-07-17T18:08:06.294Z"
   },
   {
    "duration": 30,
    "start_time": "2023-07-17T18:08:06.330Z"
   },
   {
    "duration": 48,
    "start_time": "2023-07-17T18:08:06.362Z"
   },
   {
    "duration": 44,
    "start_time": "2023-07-17T18:08:06.413Z"
   },
   {
    "duration": 19,
    "start_time": "2023-07-17T18:08:06.459Z"
   },
   {
    "duration": 50,
    "start_time": "2023-07-17T18:08:06.480Z"
   },
   {
    "duration": 29,
    "start_time": "2023-07-17T18:08:06.532Z"
   },
   {
    "duration": 12,
    "start_time": "2023-07-17T18:08:06.563Z"
   },
   {
    "duration": 180,
    "start_time": "2023-07-17T18:08:06.577Z"
   },
   {
    "duration": 21,
    "start_time": "2023-07-17T18:08:06.759Z"
   },
   {
    "duration": 178,
    "start_time": "2023-07-17T18:08:06.782Z"
   },
   {
    "duration": 201,
    "start_time": "2023-07-17T18:08:06.962Z"
   },
   {
    "duration": 16,
    "start_time": "2023-07-17T18:08:07.165Z"
   },
   {
    "duration": 169,
    "start_time": "2023-07-17T18:08:07.183Z"
   },
   {
    "duration": 11,
    "start_time": "2023-07-17T18:08:07.353Z"
   },
   {
    "duration": 255,
    "start_time": "2023-07-17T18:08:07.366Z"
   },
   {
    "duration": 10,
    "start_time": "2023-07-17T18:08:07.622Z"
   },
   {
    "duration": 292,
    "start_time": "2023-07-17T18:08:07.633Z"
   },
   {
    "duration": 17,
    "start_time": "2023-07-17T18:08:07.926Z"
   },
   {
    "duration": 20,
    "start_time": "2023-07-17T18:08:07.945Z"
   },
   {
    "duration": 20,
    "start_time": "2023-07-17T18:08:07.967Z"
   },
   {
    "duration": 15,
    "start_time": "2023-07-17T18:08:07.988Z"
   },
   {
    "duration": 20,
    "start_time": "2023-07-17T18:08:08.005Z"
   },
   {
    "duration": 30,
    "start_time": "2023-07-17T18:08:08.027Z"
   },
   {
    "duration": 38,
    "start_time": "2023-07-17T18:08:08.059Z"
   },
   {
    "duration": 179,
    "start_time": "2023-07-17T18:08:08.099Z"
   },
   {
    "duration": 9,
    "start_time": "2023-07-17T18:08:08.280Z"
   },
   {
    "duration": 176,
    "start_time": "2023-07-17T18:08:08.293Z"
   },
   {
    "duration": 8,
    "start_time": "2023-07-17T18:08:08.471Z"
   },
   {
    "duration": 16,
    "start_time": "2023-07-17T18:08:08.481Z"
   },
   {
    "duration": 217,
    "start_time": "2023-07-17T18:08:08.498Z"
   },
   {
    "duration": 8,
    "start_time": "2023-07-17T18:08:08.717Z"
   },
   {
    "duration": 225,
    "start_time": "2023-07-17T18:08:08.727Z"
   },
   {
    "duration": 269,
    "start_time": "2023-07-17T18:08:08.954Z"
   },
   {
    "duration": 126,
    "start_time": "2023-07-17T18:34:56.073Z"
   },
   {
    "duration": 128,
    "start_time": "2023-07-17T18:35:20.168Z"
   },
   {
    "duration": 126,
    "start_time": "2023-07-17T18:44:53.989Z"
   },
   {
    "duration": 98,
    "start_time": "2023-07-17T18:45:04.500Z"
   },
   {
    "duration": 6,
    "start_time": "2023-07-17T19:12:48.484Z"
   },
   {
    "duration": 99,
    "start_time": "2023-07-17T19:50:52.644Z"
   },
   {
    "duration": 7,
    "start_time": "2023-07-17T19:51:04.502Z"
   },
   {
    "duration": 5,
    "start_time": "2023-07-17T19:51:19.510Z"
   },
   {
    "duration": 9,
    "start_time": "2023-07-17T19:51:45.944Z"
   },
   {
    "duration": 14,
    "start_time": "2023-07-17T20:09:54.011Z"
   },
   {
    "duration": 7,
    "start_time": "2023-07-17T20:10:43.113Z"
   },
   {
    "duration": 6,
    "start_time": "2023-07-17T20:11:22.442Z"
   },
   {
    "duration": 8,
    "start_time": "2023-07-17T20:48:14.812Z"
   },
   {
    "duration": 5,
    "start_time": "2023-07-17T20:48:38.213Z"
   },
   {
    "duration": 6,
    "start_time": "2023-07-17T20:50:01.092Z"
   },
   {
    "duration": 14,
    "start_time": "2023-07-17T20:50:53.984Z"
   },
   {
    "duration": 11,
    "start_time": "2023-07-17T20:51:02.920Z"
   },
   {
    "duration": 9,
    "start_time": "2023-07-17T20:51:32.391Z"
   },
   {
    "duration": 6,
    "start_time": "2023-07-17T21:03:50.142Z"
   },
   {
    "duration": 16,
    "start_time": "2023-07-17T21:04:01.842Z"
   },
   {
    "duration": 21,
    "start_time": "2023-07-17T21:05:46.271Z"
   },
   {
    "duration": 9,
    "start_time": "2023-07-17T21:07:37.351Z"
   },
   {
    "duration": 10,
    "start_time": "2023-07-17T21:07:50.288Z"
   },
   {
    "duration": 9,
    "start_time": "2023-07-17T21:08:45.707Z"
   },
   {
    "duration": 18,
    "start_time": "2023-07-17T21:09:23.909Z"
   },
   {
    "duration": 1293,
    "start_time": "2023-07-17T21:16:35.114Z"
   },
   {
    "duration": 50,
    "start_time": "2023-07-17T21:16:36.409Z"
   },
   {
    "duration": 17,
    "start_time": "2023-07-17T21:16:36.461Z"
   },
   {
    "duration": 52,
    "start_time": "2023-07-17T21:16:36.480Z"
   },
   {
    "duration": 22,
    "start_time": "2023-07-17T21:16:36.535Z"
   },
   {
    "duration": 38,
    "start_time": "2023-07-17T21:16:36.558Z"
   },
   {
    "duration": 34,
    "start_time": "2023-07-17T21:16:36.598Z"
   },
   {
    "duration": 62,
    "start_time": "2023-07-17T21:16:36.634Z"
   },
   {
    "duration": 25,
    "start_time": "2023-07-17T21:16:36.698Z"
   },
   {
    "duration": 22,
    "start_time": "2023-07-17T21:16:36.725Z"
   },
   {
    "duration": 24,
    "start_time": "2023-07-17T21:16:36.750Z"
   },
   {
    "duration": 34,
    "start_time": "2023-07-17T21:16:36.776Z"
   },
   {
    "duration": 36,
    "start_time": "2023-07-17T21:16:36.812Z"
   },
   {
    "duration": 36,
    "start_time": "2023-07-17T21:16:36.851Z"
   },
   {
    "duration": 25,
    "start_time": "2023-07-17T21:16:36.889Z"
   },
   {
    "duration": 11,
    "start_time": "2023-07-17T21:16:36.916Z"
   },
   {
    "duration": 27,
    "start_time": "2023-07-17T21:16:36.929Z"
   },
   {
    "duration": 270,
    "start_time": "2023-07-17T21:16:36.957Z"
   },
   {
    "duration": 14,
    "start_time": "2023-07-17T21:16:37.229Z"
   },
   {
    "duration": 190,
    "start_time": "2023-07-17T21:16:37.244Z"
   },
   {
    "duration": 9,
    "start_time": "2023-07-17T21:16:37.436Z"
   },
   {
    "duration": 31,
    "start_time": "2023-07-17T21:16:37.447Z"
   },
   {
    "duration": 9,
    "start_time": "2023-07-17T21:16:37.480Z"
   },
   {
    "duration": 17,
    "start_time": "2023-07-17T21:16:37.491Z"
   },
   {
    "duration": 17,
    "start_time": "2023-07-17T21:16:37.513Z"
   },
   {
    "duration": 20,
    "start_time": "2023-07-17T21:16:37.532Z"
   },
   {
    "duration": 23,
    "start_time": "2023-07-17T21:16:37.554Z"
   },
   {
    "duration": 29,
    "start_time": "2023-07-17T21:16:37.580Z"
   },
   {
    "duration": 216,
    "start_time": "2023-07-17T21:16:37.612Z"
   },
   {
    "duration": 11,
    "start_time": "2023-07-17T21:16:37.830Z"
   },
   {
    "duration": 200,
    "start_time": "2023-07-17T21:16:37.843Z"
   },
   {
    "duration": 204,
    "start_time": "2023-07-17T21:16:38.044Z"
   },
   {
    "duration": 10,
    "start_time": "2023-07-17T21:16:38.250Z"
   },
   {
    "duration": 327,
    "start_time": "2023-07-17T21:16:38.261Z"
   },
   {
    "duration": 16,
    "start_time": "2023-07-17T21:16:38.591Z"
   },
   {
    "duration": 286,
    "start_time": "2023-07-17T21:16:38.611Z"
   },
   {
    "duration": 15,
    "start_time": "2023-07-17T21:16:38.899Z"
   },
   {
    "duration": 240,
    "start_time": "2023-07-17T21:16:38.917Z"
   },
   {
    "duration": 18,
    "start_time": "2023-07-17T21:16:39.159Z"
   },
   {
    "duration": 30,
    "start_time": "2023-07-17T21:16:39.179Z"
   },
   {
    "duration": 19,
    "start_time": "2023-07-17T21:16:39.215Z"
   },
   {
    "duration": 75,
    "start_time": "2023-07-17T21:16:39.236Z"
   },
   {
    "duration": 52,
    "start_time": "2023-07-17T21:16:39.314Z"
   },
   {
    "duration": 46,
    "start_time": "2023-07-17T21:16:39.368Z"
   },
   {
    "duration": 21,
    "start_time": "2023-07-17T21:16:39.416Z"
   },
   {
    "duration": 225,
    "start_time": "2023-07-17T21:16:39.438Z"
   },
   {
    "duration": 19,
    "start_time": "2023-07-17T21:16:39.665Z"
   },
   {
    "duration": 249,
    "start_time": "2023-07-17T21:16:39.686Z"
   },
   {
    "duration": 8,
    "start_time": "2023-07-17T21:16:39.937Z"
   },
   {
    "duration": 39,
    "start_time": "2023-07-17T21:16:39.947Z"
   },
   {
    "duration": 342,
    "start_time": "2023-07-17T21:16:39.988Z"
   },
   {
    "duration": 9,
    "start_time": "2023-07-17T21:16:40.332Z"
   },
   {
    "duration": 254,
    "start_time": "2023-07-17T21:16:40.343Z"
   },
   {
    "duration": 203,
    "start_time": "2023-07-17T21:16:40.599Z"
   },
   {
    "duration": 1295,
    "start_time": "2023-07-17T21:17:52.659Z"
   },
   {
    "duration": 50,
    "start_time": "2023-07-17T21:17:53.956Z"
   },
   {
    "duration": 15,
    "start_time": "2023-07-17T21:17:54.008Z"
   },
   {
    "duration": 33,
    "start_time": "2023-07-17T21:17:54.026Z"
   },
   {
    "duration": 20,
    "start_time": "2023-07-17T21:17:54.061Z"
   },
   {
    "duration": 29,
    "start_time": "2023-07-17T21:17:54.084Z"
   },
   {
    "duration": 31,
    "start_time": "2023-07-17T21:17:54.115Z"
   },
   {
    "duration": 32,
    "start_time": "2023-07-17T21:17:54.148Z"
   },
   {
    "duration": 23,
    "start_time": "2023-07-17T21:17:54.182Z"
   },
   {
    "duration": 13,
    "start_time": "2023-07-17T21:17:54.209Z"
   },
   {
    "duration": 35,
    "start_time": "2023-07-17T21:17:54.223Z"
   },
   {
    "duration": 20,
    "start_time": "2023-07-17T21:17:54.260Z"
   },
   {
    "duration": 28,
    "start_time": "2023-07-17T21:17:54.282Z"
   },
   {
    "duration": 42,
    "start_time": "2023-07-17T21:17:54.313Z"
   },
   {
    "duration": 32,
    "start_time": "2023-07-17T21:17:54.357Z"
   },
   {
    "duration": 21,
    "start_time": "2023-07-17T21:17:54.392Z"
   },
   {
    "duration": 34,
    "start_time": "2023-07-17T21:17:54.416Z"
   },
   {
    "duration": 1726,
    "start_time": "2023-07-17T21:17:54.451Z"
   },
   {
    "duration": 14,
    "start_time": "2023-07-17T21:17:56.180Z"
   },
   {
    "duration": 183,
    "start_time": "2023-07-17T21:17:56.197Z"
   },
   {
    "duration": 21,
    "start_time": "2023-07-17T21:17:56.383Z"
   },
   {
    "duration": 44,
    "start_time": "2023-07-17T21:17:56.407Z"
   },
   {
    "duration": 21,
    "start_time": "2023-07-17T21:17:56.453Z"
   },
   {
    "duration": 55,
    "start_time": "2023-07-17T21:17:56.476Z"
   },
   {
    "duration": 19,
    "start_time": "2023-07-17T21:17:56.535Z"
   },
   {
    "duration": 40,
    "start_time": "2023-07-17T21:17:56.556Z"
   },
   {
    "duration": 31,
    "start_time": "2023-07-17T21:17:56.598Z"
   },
   {
    "duration": 11,
    "start_time": "2023-07-17T21:17:56.633Z"
   },
   {
    "duration": 223,
    "start_time": "2023-07-17T21:17:56.646Z"
   },
   {
    "duration": 14,
    "start_time": "2023-07-17T21:17:56.875Z"
   },
   {
    "duration": 214,
    "start_time": "2023-07-17T21:17:56.891Z"
   },
   {
    "duration": 214,
    "start_time": "2023-07-17T21:17:57.107Z"
   },
   {
    "duration": 17,
    "start_time": "2023-07-17T21:17:57.323Z"
   },
   {
    "duration": 211,
    "start_time": "2023-07-17T21:17:57.341Z"
   },
   {
    "duration": 11,
    "start_time": "2023-07-17T21:17:57.554Z"
   },
   {
    "duration": 301,
    "start_time": "2023-07-17T21:17:57.566Z"
   },
   {
    "duration": 17,
    "start_time": "2023-07-17T21:17:57.869Z"
   },
   {
    "duration": 343,
    "start_time": "2023-07-17T21:17:57.887Z"
   },
   {
    "duration": 17,
    "start_time": "2023-07-17T21:17:58.231Z"
   },
   {
    "duration": 5,
    "start_time": "2023-07-17T21:17:58.250Z"
   },
   {
    "duration": 22,
    "start_time": "2023-07-17T21:17:58.256Z"
   },
   {
    "duration": 18,
    "start_time": "2023-07-17T21:17:58.280Z"
   },
   {
    "duration": 10,
    "start_time": "2023-07-17T21:17:58.301Z"
   },
   {
    "duration": 15,
    "start_time": "2023-07-17T21:17:58.314Z"
   },
   {
    "duration": 14,
    "start_time": "2023-07-17T21:17:58.330Z"
   },
   {
    "duration": 226,
    "start_time": "2023-07-17T21:17:58.346Z"
   },
   {
    "duration": 11,
    "start_time": "2023-07-17T21:17:58.574Z"
   },
   {
    "duration": 203,
    "start_time": "2023-07-17T21:17:58.587Z"
   },
   {
    "duration": 12,
    "start_time": "2023-07-17T21:17:58.792Z"
   },
   {
    "duration": 15,
    "start_time": "2023-07-17T21:17:58.806Z"
   },
   {
    "duration": 262,
    "start_time": "2023-07-17T21:17:58.823Z"
   },
   {
    "duration": 11,
    "start_time": "2023-07-17T21:17:59.087Z"
   },
   {
    "duration": 278,
    "start_time": "2023-07-17T21:17:59.100Z"
   },
   {
    "duration": 314,
    "start_time": "2023-07-17T21:17:59.380Z"
   },
   {
    "duration": 38,
    "start_time": "2023-07-17T21:25:03.361Z"
   },
   {
    "duration": 118,
    "start_time": "2023-07-17T21:26:05.762Z"
   },
   {
    "duration": 1271,
    "start_time": "2023-07-17T21:26:41.106Z"
   },
   {
    "duration": 45,
    "start_time": "2023-07-17T21:26:42.379Z"
   },
   {
    "duration": 12,
    "start_time": "2023-07-17T21:26:42.426Z"
   },
   {
    "duration": 27,
    "start_time": "2023-07-17T21:26:42.440Z"
   },
   {
    "duration": 16,
    "start_time": "2023-07-17T21:26:42.468Z"
   },
   {
    "duration": 10,
    "start_time": "2023-07-17T21:26:42.486Z"
   },
   {
    "duration": 29,
    "start_time": "2023-07-17T21:26:42.497Z"
   },
   {
    "duration": 15,
    "start_time": "2023-07-17T21:26:42.528Z"
   },
   {
    "duration": 9,
    "start_time": "2023-07-17T21:26:42.544Z"
   },
   {
    "duration": 8,
    "start_time": "2023-07-17T21:26:42.556Z"
   },
   {
    "duration": 17,
    "start_time": "2023-07-17T21:26:42.565Z"
   },
   {
    "duration": 13,
    "start_time": "2023-07-17T21:26:42.584Z"
   },
   {
    "duration": 12,
    "start_time": "2023-07-17T21:26:42.598Z"
   },
   {
    "duration": 15,
    "start_time": "2023-07-17T21:26:42.612Z"
   },
   {
    "duration": 14,
    "start_time": "2023-07-17T21:26:42.629Z"
   },
   {
    "duration": 18,
    "start_time": "2023-07-17T21:26:42.644Z"
   },
   {
    "duration": 22,
    "start_time": "2023-07-17T21:26:42.664Z"
   },
   {
    "duration": 1513,
    "start_time": "2023-07-17T21:26:42.687Z"
   },
   {
    "duration": 13,
    "start_time": "2023-07-17T21:26:44.202Z"
   },
   {
    "duration": 138,
    "start_time": "2023-07-17T21:26:44.216Z"
   },
   {
    "duration": 20,
    "start_time": "2023-07-17T21:26:44.355Z"
   },
   {
    "duration": 15,
    "start_time": "2023-07-17T21:26:44.376Z"
   },
   {
    "duration": 7,
    "start_time": "2023-07-17T21:26:44.393Z"
   },
   {
    "duration": 55,
    "start_time": "2023-07-17T21:26:44.401Z"
   },
   {
    "duration": 21,
    "start_time": "2023-07-17T21:26:44.458Z"
   },
   {
    "duration": 26,
    "start_time": "2023-07-17T21:26:44.481Z"
   },
   {
    "duration": 28,
    "start_time": "2023-07-17T21:26:44.508Z"
   },
   {
    "duration": 12,
    "start_time": "2023-07-17T21:26:44.541Z"
   },
   {
    "duration": 194,
    "start_time": "2023-07-17T21:26:44.555Z"
   },
   {
    "duration": 26,
    "start_time": "2023-07-17T21:26:44.751Z"
   },
   {
    "duration": 168,
    "start_time": "2023-07-17T21:26:44.779Z"
   },
   {
    "duration": 204,
    "start_time": "2023-07-17T21:26:44.949Z"
   },
   {
    "duration": 23,
    "start_time": "2023-07-17T21:26:45.155Z"
   },
   {
    "duration": 170,
    "start_time": "2023-07-17T21:26:45.180Z"
   },
   {
    "duration": 10,
    "start_time": "2023-07-17T21:26:45.352Z"
   },
   {
    "duration": 152,
    "start_time": "2023-07-17T21:26:45.364Z"
   },
   {
    "duration": 13,
    "start_time": "2023-07-17T21:26:45.518Z"
   },
   {
    "duration": 271,
    "start_time": "2023-07-17T21:26:45.533Z"
   },
   {
    "duration": 0,
    "start_time": "2023-07-17T21:26:45.806Z"
   },
   {
    "duration": 0,
    "start_time": "2023-07-17T21:26:45.808Z"
   },
   {
    "duration": 0,
    "start_time": "2023-07-17T21:26:45.809Z"
   },
   {
    "duration": 0,
    "start_time": "2023-07-17T21:26:45.811Z"
   },
   {
    "duration": 0,
    "start_time": "2023-07-17T21:26:45.813Z"
   },
   {
    "duration": 0,
    "start_time": "2023-07-17T21:26:45.814Z"
   },
   {
    "duration": 0,
    "start_time": "2023-07-17T21:26:45.815Z"
   },
   {
    "duration": 0,
    "start_time": "2023-07-17T21:26:45.816Z"
   },
   {
    "duration": 0,
    "start_time": "2023-07-17T21:26:45.818Z"
   },
   {
    "duration": 0,
    "start_time": "2023-07-17T21:26:45.819Z"
   },
   {
    "duration": 0,
    "start_time": "2023-07-17T21:26:45.820Z"
   },
   {
    "duration": 0,
    "start_time": "2023-07-17T21:26:45.821Z"
   },
   {
    "duration": 0,
    "start_time": "2023-07-17T21:26:45.822Z"
   },
   {
    "duration": 0,
    "start_time": "2023-07-17T21:26:45.823Z"
   },
   {
    "duration": 0,
    "start_time": "2023-07-17T21:26:45.824Z"
   },
   {
    "duration": 0,
    "start_time": "2023-07-17T21:26:45.825Z"
   },
   {
    "duration": 116,
    "start_time": "2023-07-17T21:28:39.750Z"
   },
   {
    "duration": 16,
    "start_time": "2023-07-17T21:28:43.350Z"
   },
   {
    "duration": 20,
    "start_time": "2023-07-17T21:28:45.057Z"
   },
   {
    "duration": 20,
    "start_time": "2023-07-17T21:28:47.663Z"
   },
   {
    "duration": 29,
    "start_time": "2023-07-17T21:29:11.179Z"
   },
   {
    "duration": 16,
    "start_time": "2023-07-17T21:29:12.263Z"
   },
   {
    "duration": 21,
    "start_time": "2023-07-17T21:29:13.690Z"
   },
   {
    "duration": 21,
    "start_time": "2023-07-17T21:29:14.546Z"
   },
   {
    "duration": 1260,
    "start_time": "2023-07-17T21:29:21.654Z"
   },
   {
    "duration": 47,
    "start_time": "2023-07-17T21:29:22.917Z"
   },
   {
    "duration": 13,
    "start_time": "2023-07-17T21:29:22.966Z"
   },
   {
    "duration": 26,
    "start_time": "2023-07-17T21:29:22.981Z"
   },
   {
    "duration": 14,
    "start_time": "2023-07-17T21:29:23.009Z"
   },
   {
    "duration": 13,
    "start_time": "2023-07-17T21:29:23.025Z"
   },
   {
    "duration": 41,
    "start_time": "2023-07-17T21:29:23.040Z"
   },
   {
    "duration": 9,
    "start_time": "2023-07-17T21:29:23.082Z"
   },
   {
    "duration": 15,
    "start_time": "2023-07-17T21:29:23.092Z"
   },
   {
    "duration": 13,
    "start_time": "2023-07-17T21:29:23.109Z"
   },
   {
    "duration": 16,
    "start_time": "2023-07-17T21:29:23.124Z"
   },
   {
    "duration": 15,
    "start_time": "2023-07-17T21:29:23.142Z"
   },
   {
    "duration": 16,
    "start_time": "2023-07-17T21:29:23.159Z"
   },
   {
    "duration": 7,
    "start_time": "2023-07-17T21:29:23.178Z"
   },
   {
    "duration": 21,
    "start_time": "2023-07-17T21:29:23.186Z"
   },
   {
    "duration": 10,
    "start_time": "2023-07-17T21:29:23.209Z"
   },
   {
    "duration": 16,
    "start_time": "2023-07-17T21:29:23.221Z"
   },
   {
    "duration": 1533,
    "start_time": "2023-07-17T21:29:23.238Z"
   },
   {
    "duration": 14,
    "start_time": "2023-07-17T21:29:24.772Z"
   },
   {
    "duration": 123,
    "start_time": "2023-07-17T21:29:24.788Z"
   },
   {
    "duration": 13,
    "start_time": "2023-07-17T21:29:24.913Z"
   },
   {
    "duration": 15,
    "start_time": "2023-07-17T21:29:24.928Z"
   },
   {
    "duration": 4,
    "start_time": "2023-07-17T21:29:24.944Z"
   },
   {
    "duration": 62,
    "start_time": "2023-07-17T21:29:24.949Z"
   },
   {
    "duration": 15,
    "start_time": "2023-07-17T21:29:25.013Z"
   },
   {
    "duration": 28,
    "start_time": "2023-07-17T21:29:25.029Z"
   },
   {
    "duration": 45,
    "start_time": "2023-07-17T21:29:25.058Z"
   },
   {
    "duration": 12,
    "start_time": "2023-07-17T21:29:25.104Z"
   },
   {
    "duration": 188,
    "start_time": "2023-07-17T21:29:25.117Z"
   },
   {
    "duration": 12,
    "start_time": "2023-07-17T21:29:25.306Z"
   },
   {
    "duration": 177,
    "start_time": "2023-07-17T21:29:25.319Z"
   },
   {
    "duration": 192,
    "start_time": "2023-07-17T21:29:25.498Z"
   },
   {
    "duration": 11,
    "start_time": "2023-07-17T21:29:25.692Z"
   },
   {
    "duration": 173,
    "start_time": "2023-07-17T21:29:25.704Z"
   },
   {
    "duration": 12,
    "start_time": "2023-07-17T21:29:25.879Z"
   },
   {
    "duration": 261,
    "start_time": "2023-07-17T21:29:25.893Z"
   },
   {
    "duration": 20,
    "start_time": "2023-07-17T21:29:26.155Z"
   },
   {
    "duration": 447,
    "start_time": "2023-07-17T21:29:26.177Z"
   },
   {
    "duration": 0,
    "start_time": "2023-07-17T21:29:26.627Z"
   },
   {
    "duration": 0,
    "start_time": "2023-07-17T21:29:26.628Z"
   },
   {
    "duration": 0,
    "start_time": "2023-07-17T21:29:26.629Z"
   },
   {
    "duration": 0,
    "start_time": "2023-07-17T21:29:26.630Z"
   },
   {
    "duration": 0,
    "start_time": "2023-07-17T21:29:26.631Z"
   },
   {
    "duration": 0,
    "start_time": "2023-07-17T21:29:26.632Z"
   },
   {
    "duration": 0,
    "start_time": "2023-07-17T21:29:26.633Z"
   },
   {
    "duration": 0,
    "start_time": "2023-07-17T21:29:26.635Z"
   },
   {
    "duration": 0,
    "start_time": "2023-07-17T21:29:26.636Z"
   },
   {
    "duration": 0,
    "start_time": "2023-07-17T21:29:26.637Z"
   },
   {
    "duration": 0,
    "start_time": "2023-07-17T21:29:26.638Z"
   },
   {
    "duration": 0,
    "start_time": "2023-07-17T21:29:26.639Z"
   },
   {
    "duration": 0,
    "start_time": "2023-07-17T21:29:26.640Z"
   },
   {
    "duration": 0,
    "start_time": "2023-07-17T21:29:26.641Z"
   },
   {
    "duration": 0,
    "start_time": "2023-07-17T21:29:26.642Z"
   },
   {
    "duration": 0,
    "start_time": "2023-07-17T21:29:26.643Z"
   },
   {
    "duration": 63,
    "start_time": "2023-07-17T21:41:44.019Z"
   },
   {
    "duration": 538,
    "start_time": "2023-07-17T21:42:02.681Z"
   },
   {
    "duration": 561,
    "start_time": "2023-07-17T21:43:02.543Z"
   },
   {
    "duration": 1220,
    "start_time": "2023-07-17T21:49:44.355Z"
   },
   {
    "duration": 45,
    "start_time": "2023-07-17T21:49:45.577Z"
   },
   {
    "duration": 13,
    "start_time": "2023-07-17T21:49:45.624Z"
   },
   {
    "duration": 27,
    "start_time": "2023-07-17T21:49:45.639Z"
   },
   {
    "duration": 15,
    "start_time": "2023-07-17T21:49:45.667Z"
   },
   {
    "duration": 14,
    "start_time": "2023-07-17T21:49:45.684Z"
   },
   {
    "duration": 16,
    "start_time": "2023-07-17T21:49:45.700Z"
   },
   {
    "duration": 9,
    "start_time": "2023-07-17T21:49:45.717Z"
   },
   {
    "duration": 10,
    "start_time": "2023-07-17T21:49:45.727Z"
   },
   {
    "duration": 5,
    "start_time": "2023-07-17T21:49:45.740Z"
   },
   {
    "duration": 33,
    "start_time": "2023-07-17T21:49:45.746Z"
   },
   {
    "duration": 14,
    "start_time": "2023-07-17T21:49:45.780Z"
   },
   {
    "duration": 9,
    "start_time": "2023-07-17T21:49:45.796Z"
   },
   {
    "duration": 6,
    "start_time": "2023-07-17T21:49:45.807Z"
   },
   {
    "duration": 12,
    "start_time": "2023-07-17T21:49:45.814Z"
   },
   {
    "duration": 9,
    "start_time": "2023-07-17T21:49:45.827Z"
   },
   {
    "duration": 49,
    "start_time": "2023-07-17T21:49:45.837Z"
   },
   {
    "duration": 1576,
    "start_time": "2023-07-17T21:49:45.888Z"
   },
   {
    "duration": 11,
    "start_time": "2023-07-17T21:49:47.466Z"
   },
   {
    "duration": 136,
    "start_time": "2023-07-17T21:49:47.479Z"
   },
   {
    "duration": 13,
    "start_time": "2023-07-17T21:49:47.616Z"
   },
   {
    "duration": 17,
    "start_time": "2023-07-17T21:49:47.630Z"
   },
   {
    "duration": 4,
    "start_time": "2023-07-17T21:49:47.649Z"
   },
   {
    "duration": 52,
    "start_time": "2023-07-17T21:49:47.654Z"
   },
   {
    "duration": 14,
    "start_time": "2023-07-17T21:49:47.708Z"
   },
   {
    "duration": 28,
    "start_time": "2023-07-17T21:49:47.723Z"
   },
   {
    "duration": 35,
    "start_time": "2023-07-17T21:49:47.753Z"
   },
   {
    "duration": 10,
    "start_time": "2023-07-17T21:49:47.792Z"
   },
   {
    "duration": 186,
    "start_time": "2023-07-17T21:49:47.804Z"
   },
   {
    "duration": 13,
    "start_time": "2023-07-17T21:49:47.991Z"
   },
   {
    "duration": 179,
    "start_time": "2023-07-17T21:49:48.005Z"
   },
   {
    "duration": 203,
    "start_time": "2023-07-17T21:49:48.186Z"
   },
   {
    "duration": 12,
    "start_time": "2023-07-17T21:49:48.391Z"
   },
   {
    "duration": 182,
    "start_time": "2023-07-17T21:49:48.405Z"
   },
   {
    "duration": 11,
    "start_time": "2023-07-17T21:49:48.589Z"
   },
   {
    "duration": 264,
    "start_time": "2023-07-17T21:49:48.601Z"
   },
   {
    "duration": 138,
    "start_time": "2023-07-17T21:49:48.866Z"
   },
   {
    "duration": 0,
    "start_time": "2023-07-17T21:49:49.006Z"
   },
   {
    "duration": 0,
    "start_time": "2023-07-17T21:49:49.007Z"
   },
   {
    "duration": 0,
    "start_time": "2023-07-17T21:49:49.008Z"
   },
   {
    "duration": 0,
    "start_time": "2023-07-17T21:49:49.009Z"
   },
   {
    "duration": 0,
    "start_time": "2023-07-17T21:49:49.010Z"
   },
   {
    "duration": 0,
    "start_time": "2023-07-17T21:49:49.012Z"
   },
   {
    "duration": 0,
    "start_time": "2023-07-17T21:49:49.013Z"
   },
   {
    "duration": 0,
    "start_time": "2023-07-17T21:49:49.014Z"
   },
   {
    "duration": 0,
    "start_time": "2023-07-17T21:49:49.014Z"
   },
   {
    "duration": 0,
    "start_time": "2023-07-17T21:49:49.016Z"
   },
   {
    "duration": 0,
    "start_time": "2023-07-17T21:49:49.132Z"
   },
   {
    "duration": 0,
    "start_time": "2023-07-17T21:49:49.133Z"
   },
   {
    "duration": 0,
    "start_time": "2023-07-17T21:49:49.134Z"
   },
   {
    "duration": 0,
    "start_time": "2023-07-17T21:49:49.135Z"
   },
   {
    "duration": 0,
    "start_time": "2023-07-17T21:49:49.136Z"
   },
   {
    "duration": 0,
    "start_time": "2023-07-17T21:49:49.137Z"
   },
   {
    "duration": 0,
    "start_time": "2023-07-17T21:49:49.138Z"
   },
   {
    "duration": 13,
    "start_time": "2023-07-17T21:50:50.091Z"
   },
   {
    "duration": 137,
    "start_time": "2023-07-17T21:51:33.073Z"
   },
   {
    "duration": 41,
    "start_time": "2023-07-17T21:52:34.394Z"
   },
   {
    "duration": 1214,
    "start_time": "2023-07-17T21:52:41.210Z"
   },
   {
    "duration": 45,
    "start_time": "2023-07-17T21:52:42.426Z"
   },
   {
    "duration": 12,
    "start_time": "2023-07-17T21:52:42.473Z"
   },
   {
    "duration": 30,
    "start_time": "2023-07-17T21:52:42.487Z"
   },
   {
    "duration": 12,
    "start_time": "2023-07-17T21:52:42.519Z"
   },
   {
    "duration": 25,
    "start_time": "2023-07-17T21:52:42.533Z"
   },
   {
    "duration": 20,
    "start_time": "2023-07-17T21:52:42.559Z"
   },
   {
    "duration": 8,
    "start_time": "2023-07-17T21:52:42.580Z"
   },
   {
    "duration": 6,
    "start_time": "2023-07-17T21:52:42.590Z"
   },
   {
    "duration": 9,
    "start_time": "2023-07-17T21:52:42.599Z"
   },
   {
    "duration": 13,
    "start_time": "2023-07-17T21:52:42.610Z"
   },
   {
    "duration": 13,
    "start_time": "2023-07-17T21:52:42.624Z"
   },
   {
    "duration": 5,
    "start_time": "2023-07-17T21:52:42.639Z"
   },
   {
    "duration": 32,
    "start_time": "2023-07-17T21:52:42.645Z"
   },
   {
    "duration": 9,
    "start_time": "2023-07-17T21:52:42.678Z"
   },
   {
    "duration": 8,
    "start_time": "2023-07-17T21:52:42.688Z"
   },
   {
    "duration": 24,
    "start_time": "2023-07-17T21:52:42.697Z"
   },
   {
    "duration": 1649,
    "start_time": "2023-07-17T21:52:42.723Z"
   },
   {
    "duration": 12,
    "start_time": "2023-07-17T21:52:44.374Z"
   },
   {
    "duration": 127,
    "start_time": "2023-07-17T21:52:44.388Z"
   },
   {
    "duration": 13,
    "start_time": "2023-07-17T21:52:44.517Z"
   },
   {
    "duration": 18,
    "start_time": "2023-07-17T21:52:44.531Z"
   },
   {
    "duration": 4,
    "start_time": "2023-07-17T21:52:44.550Z"
   },
   {
    "duration": 42,
    "start_time": "2023-07-17T21:52:44.574Z"
   },
   {
    "duration": 15,
    "start_time": "2023-07-17T21:52:44.617Z"
   },
   {
    "duration": 29,
    "start_time": "2023-07-17T21:52:44.634Z"
   },
   {
    "duration": 26,
    "start_time": "2023-07-17T21:52:44.665Z"
   },
   {
    "duration": 11,
    "start_time": "2023-07-17T21:52:44.695Z"
   },
   {
    "duration": 196,
    "start_time": "2023-07-17T21:52:44.708Z"
   },
   {
    "duration": 12,
    "start_time": "2023-07-17T21:52:44.906Z"
   },
   {
    "duration": 190,
    "start_time": "2023-07-17T21:52:44.919Z"
   },
   {
    "duration": 195,
    "start_time": "2023-07-17T21:52:45.111Z"
   },
   {
    "duration": 11,
    "start_time": "2023-07-17T21:52:45.308Z"
   },
   {
    "duration": 183,
    "start_time": "2023-07-17T21:52:45.320Z"
   },
   {
    "duration": 12,
    "start_time": "2023-07-17T21:52:45.505Z"
   },
   {
    "duration": 267,
    "start_time": "2023-07-17T21:52:45.519Z"
   },
   {
    "duration": 137,
    "start_time": "2023-07-17T21:52:45.787Z"
   },
   {
    "duration": 0,
    "start_time": "2023-07-17T21:52:45.926Z"
   },
   {
    "duration": 0,
    "start_time": "2023-07-17T21:52:45.927Z"
   },
   {
    "duration": 0,
    "start_time": "2023-07-17T21:52:45.929Z"
   },
   {
    "duration": 0,
    "start_time": "2023-07-17T21:52:45.930Z"
   },
   {
    "duration": 0,
    "start_time": "2023-07-17T21:52:46.040Z"
   },
   {
    "duration": 0,
    "start_time": "2023-07-17T21:52:46.042Z"
   },
   {
    "duration": 0,
    "start_time": "2023-07-17T21:52:46.043Z"
   },
   {
    "duration": 0,
    "start_time": "2023-07-17T21:52:46.044Z"
   },
   {
    "duration": 0,
    "start_time": "2023-07-17T21:52:46.045Z"
   },
   {
    "duration": 0,
    "start_time": "2023-07-17T21:52:46.046Z"
   },
   {
    "duration": 0,
    "start_time": "2023-07-17T21:52:46.047Z"
   },
   {
    "duration": 0,
    "start_time": "2023-07-17T21:52:46.048Z"
   },
   {
    "duration": 0,
    "start_time": "2023-07-17T21:52:46.049Z"
   },
   {
    "duration": 0,
    "start_time": "2023-07-17T21:52:46.075Z"
   },
   {
    "duration": 0,
    "start_time": "2023-07-17T21:52:46.076Z"
   },
   {
    "duration": 0,
    "start_time": "2023-07-17T21:52:46.077Z"
   },
   {
    "duration": 0,
    "start_time": "2023-07-17T21:52:46.078Z"
   },
   {
    "duration": 72,
    "start_time": "2023-07-17T21:55:11.960Z"
   },
   {
    "duration": 506,
    "start_time": "2023-07-17T21:55:27.418Z"
   },
   {
    "duration": 2793,
    "start_time": "2023-07-17T22:00:12.082Z"
   },
   {
    "duration": 12,
    "start_time": "2023-07-17T22:00:31.143Z"
   },
   {
    "duration": 615,
    "start_time": "2023-07-17T22:00:38.884Z"
   },
   {
    "duration": 6,
    "start_time": "2023-07-17T22:28:37.699Z"
   },
   {
    "duration": 4,
    "start_time": "2023-07-17T22:31:59.360Z"
   },
   {
    "duration": 15,
    "start_time": "2023-07-17T22:32:41.062Z"
   },
   {
    "duration": 11,
    "start_time": "2023-07-17T22:33:00.993Z"
   },
   {
    "duration": 15,
    "start_time": "2023-07-17T22:33:12.991Z"
   },
   {
    "duration": 14,
    "start_time": "2023-07-17T22:33:23.952Z"
   },
   {
    "duration": 3,
    "start_time": "2023-07-17T22:33:39.870Z"
   },
   {
    "duration": 15,
    "start_time": "2023-07-17T22:33:41.343Z"
   },
   {
    "duration": 1234,
    "start_time": "2023-07-17T22:38:19.520Z"
   },
   {
    "duration": 665,
    "start_time": "2023-07-17T22:38:52.042Z"
   },
   {
    "duration": 46,
    "start_time": "2023-07-17T22:46:29.205Z"
   },
   {
    "duration": 1313,
    "start_time": "2023-07-17T22:46:36.387Z"
   },
   {
    "duration": 45,
    "start_time": "2023-07-17T22:46:37.702Z"
   },
   {
    "duration": 15,
    "start_time": "2023-07-17T22:46:37.749Z"
   },
   {
    "duration": 28,
    "start_time": "2023-07-17T22:46:37.767Z"
   },
   {
    "duration": 14,
    "start_time": "2023-07-17T22:46:37.797Z"
   },
   {
    "duration": 11,
    "start_time": "2023-07-17T22:46:37.812Z"
   },
   {
    "duration": 19,
    "start_time": "2023-07-17T22:46:37.824Z"
   },
   {
    "duration": 35,
    "start_time": "2023-07-17T22:46:37.844Z"
   },
   {
    "duration": 24,
    "start_time": "2023-07-17T22:46:37.881Z"
   },
   {
    "duration": 15,
    "start_time": "2023-07-17T22:46:37.908Z"
   },
   {
    "duration": 14,
    "start_time": "2023-07-17T22:46:37.924Z"
   },
   {
    "duration": 15,
    "start_time": "2023-07-17T22:46:37.939Z"
   },
   {
    "duration": 6,
    "start_time": "2023-07-17T22:46:37.956Z"
   },
   {
    "duration": 15,
    "start_time": "2023-07-17T22:46:37.963Z"
   },
   {
    "duration": 25,
    "start_time": "2023-07-17T22:46:37.980Z"
   },
   {
    "duration": 10,
    "start_time": "2023-07-17T22:46:38.007Z"
   },
   {
    "duration": 16,
    "start_time": "2023-07-17T22:46:38.019Z"
   },
   {
    "duration": 1700,
    "start_time": "2023-07-17T22:46:38.036Z"
   },
   {
    "duration": 15,
    "start_time": "2023-07-17T22:46:39.737Z"
   },
   {
    "duration": 122,
    "start_time": "2023-07-17T22:46:39.755Z"
   },
   {
    "duration": 12,
    "start_time": "2023-07-17T22:46:39.879Z"
   },
   {
    "duration": 52,
    "start_time": "2023-07-17T22:46:39.893Z"
   },
   {
    "duration": 4,
    "start_time": "2023-07-17T22:46:39.946Z"
   },
   {
    "duration": 49,
    "start_time": "2023-07-17T22:46:39.952Z"
   },
   {
    "duration": 16,
    "start_time": "2023-07-17T22:46:40.003Z"
   },
   {
    "duration": 40,
    "start_time": "2023-07-17T22:46:40.021Z"
   },
   {
    "duration": 29,
    "start_time": "2023-07-17T22:46:40.063Z"
   },
   {
    "duration": 11,
    "start_time": "2023-07-17T22:46:40.095Z"
   },
   {
    "duration": 203,
    "start_time": "2023-07-17T22:46:40.108Z"
   },
   {
    "duration": 13,
    "start_time": "2023-07-17T22:46:40.313Z"
   },
   {
    "duration": 191,
    "start_time": "2023-07-17T22:46:40.327Z"
   },
   {
    "duration": 206,
    "start_time": "2023-07-17T22:46:40.520Z"
   },
   {
    "duration": 10,
    "start_time": "2023-07-17T22:46:40.729Z"
   },
   {
    "duration": 195,
    "start_time": "2023-07-17T22:46:40.741Z"
   },
   {
    "duration": 11,
    "start_time": "2023-07-17T22:46:40.937Z"
   },
   {
    "duration": 273,
    "start_time": "2023-07-17T22:46:40.949Z"
   },
   {
    "duration": 3201,
    "start_time": "2023-07-17T22:46:41.225Z"
   },
   {
    "duration": 0,
    "start_time": "2023-07-17T22:46:44.428Z"
   },
   {
    "duration": 0,
    "start_time": "2023-07-17T22:46:44.429Z"
   },
   {
    "duration": 0,
    "start_time": "2023-07-17T22:46:44.430Z"
   },
   {
    "duration": 0,
    "start_time": "2023-07-17T22:46:44.431Z"
   },
   {
    "duration": 0,
    "start_time": "2023-07-17T22:46:44.432Z"
   },
   {
    "duration": 0,
    "start_time": "2023-07-17T22:46:44.433Z"
   },
   {
    "duration": 0,
    "start_time": "2023-07-17T22:46:44.434Z"
   },
   {
    "duration": 0,
    "start_time": "2023-07-17T22:46:44.436Z"
   },
   {
    "duration": 0,
    "start_time": "2023-07-17T22:46:44.437Z"
   },
   {
    "duration": 0,
    "start_time": "2023-07-17T22:46:44.438Z"
   },
   {
    "duration": 0,
    "start_time": "2023-07-17T22:46:44.440Z"
   },
   {
    "duration": 0,
    "start_time": "2023-07-17T22:46:44.441Z"
   },
   {
    "duration": 0,
    "start_time": "2023-07-17T22:46:44.443Z"
   },
   {
    "duration": 0,
    "start_time": "2023-07-17T22:46:44.444Z"
   },
   {
    "duration": 0,
    "start_time": "2023-07-17T22:46:44.445Z"
   },
   {
    "duration": 0,
    "start_time": "2023-07-17T22:46:44.446Z"
   },
   {
    "duration": 0,
    "start_time": "2023-07-17T22:46:44.448Z"
   },
   {
    "duration": 0,
    "start_time": "2023-07-17T22:46:44.551Z"
   },
   {
    "duration": 14,
    "start_time": "2023-07-17T22:47:10.548Z"
   },
   {
    "duration": 15,
    "start_time": "2023-07-17T22:47:29.443Z"
   },
   {
    "duration": 37,
    "start_time": "2023-07-17T22:49:44.195Z"
   },
   {
    "duration": 15,
    "start_time": "2023-07-17T22:50:02.971Z"
   },
   {
    "duration": 13,
    "start_time": "2023-07-17T22:50:27.550Z"
   },
   {
    "duration": 13,
    "start_time": "2023-07-17T22:51:06.374Z"
   },
   {
    "duration": 14,
    "start_time": "2023-07-17T22:51:14.975Z"
   },
   {
    "duration": 213,
    "start_time": "2023-07-17T22:51:46.648Z"
   },
   {
    "duration": 11,
    "start_time": "2023-07-17T22:54:16.165Z"
   },
   {
    "duration": 18,
    "start_time": "2023-07-17T22:54:24.182Z"
   },
   {
    "duration": 5,
    "start_time": "2023-07-17T22:54:30.120Z"
   },
   {
    "duration": 6,
    "start_time": "2023-07-17T22:54:31.487Z"
   },
   {
    "duration": 6,
    "start_time": "2023-07-17T22:55:01.950Z"
   },
   {
    "duration": 6,
    "start_time": "2023-07-17T22:55:05.502Z"
   },
   {
    "duration": 6,
    "start_time": "2023-07-17T22:55:07.510Z"
   },
   {
    "duration": 12,
    "start_time": "2023-07-17T22:55:08.277Z"
   },
   {
    "duration": 11,
    "start_time": "2023-07-17T22:55:18.047Z"
   },
   {
    "duration": 184,
    "start_time": "2023-07-17T22:55:20.194Z"
   },
   {
    "duration": 12,
    "start_time": "2023-07-17T22:55:26.372Z"
   },
   {
    "duration": 173,
    "start_time": "2023-07-17T22:55:27.815Z"
   },
   {
    "duration": 9,
    "start_time": "2023-07-17T22:56:08.081Z"
   },
   {
    "duration": 1194,
    "start_time": "2023-07-18T11:16:01.202Z"
   },
   {
    "duration": 87,
    "start_time": "2023-07-18T11:16:02.398Z"
   },
   {
    "duration": 11,
    "start_time": "2023-07-18T11:16:02.486Z"
   },
   {
    "duration": 47,
    "start_time": "2023-07-18T11:16:02.499Z"
   },
   {
    "duration": 27,
    "start_time": "2023-07-18T11:16:02.547Z"
   },
   {
    "duration": 25,
    "start_time": "2023-07-18T11:16:02.575Z"
   },
   {
    "duration": 38,
    "start_time": "2023-07-18T11:16:02.602Z"
   },
   {
    "duration": 11,
    "start_time": "2023-07-18T11:16:02.642Z"
   },
   {
    "duration": 26,
    "start_time": "2023-07-18T11:16:02.655Z"
   },
   {
    "duration": 10,
    "start_time": "2023-07-18T11:16:02.683Z"
   },
   {
    "duration": 22,
    "start_time": "2023-07-18T11:16:02.695Z"
   },
   {
    "duration": 20,
    "start_time": "2023-07-18T11:16:02.718Z"
   },
   {
    "duration": 19,
    "start_time": "2023-07-18T11:16:02.739Z"
   },
   {
    "duration": 10,
    "start_time": "2023-07-18T11:16:02.759Z"
   },
   {
    "duration": 39,
    "start_time": "2023-07-18T11:16:02.771Z"
   },
   {
    "duration": 32,
    "start_time": "2023-07-18T11:16:02.811Z"
   },
   {
    "duration": 39,
    "start_time": "2023-07-18T11:16:02.844Z"
   },
   {
    "duration": 1750,
    "start_time": "2023-07-18T11:16:02.884Z"
   },
   {
    "duration": 10,
    "start_time": "2023-07-18T11:16:04.636Z"
   },
   {
    "duration": 115,
    "start_time": "2023-07-18T11:16:04.647Z"
   },
   {
    "duration": 10,
    "start_time": "2023-07-18T11:16:04.764Z"
   },
   {
    "duration": 40,
    "start_time": "2023-07-18T11:16:04.775Z"
   },
   {
    "duration": 12,
    "start_time": "2023-07-18T11:16:04.816Z"
   },
   {
    "duration": 59,
    "start_time": "2023-07-18T11:16:04.829Z"
   },
   {
    "duration": 13,
    "start_time": "2023-07-18T11:16:04.889Z"
   },
   {
    "duration": 33,
    "start_time": "2023-07-18T11:16:04.903Z"
   },
   {
    "duration": 44,
    "start_time": "2023-07-18T11:16:04.937Z"
   },
   {
    "duration": 9,
    "start_time": "2023-07-18T11:16:04.985Z"
   },
   {
    "duration": 146,
    "start_time": "2023-07-18T11:16:04.996Z"
   },
   {
    "duration": 11,
    "start_time": "2023-07-18T11:16:05.143Z"
   },
   {
    "duration": 158,
    "start_time": "2023-07-18T11:16:05.155Z"
   },
   {
    "duration": 165,
    "start_time": "2023-07-18T11:16:05.314Z"
   },
   {
    "duration": 9,
    "start_time": "2023-07-18T11:16:05.480Z"
   },
   {
    "duration": 157,
    "start_time": "2023-07-18T11:16:05.490Z"
   },
   {
    "duration": 9,
    "start_time": "2023-07-18T11:16:05.649Z"
   },
   {
    "duration": 229,
    "start_time": "2023-07-18T11:16:05.659Z"
   },
   {
    "duration": 18,
    "start_time": "2023-07-18T11:16:05.889Z"
   },
   {
    "duration": 261,
    "start_time": "2023-07-18T11:16:05.908Z"
   },
   {
    "duration": 15,
    "start_time": "2023-07-18T11:16:06.170Z"
   },
   {
    "duration": 23,
    "start_time": "2023-07-18T11:16:06.186Z"
   },
   {
    "duration": 27,
    "start_time": "2023-07-18T11:16:06.210Z"
   },
   {
    "duration": 34,
    "start_time": "2023-07-18T11:16:06.238Z"
   },
   {
    "duration": 15,
    "start_time": "2023-07-18T11:16:06.274Z"
   },
   {
    "duration": 38,
    "start_time": "2023-07-18T11:16:06.290Z"
   },
   {
    "duration": 36,
    "start_time": "2023-07-18T11:16:06.329Z"
   },
   {
    "duration": 151,
    "start_time": "2023-07-18T11:16:06.366Z"
   },
   {
    "duration": 8,
    "start_time": "2023-07-18T11:16:06.518Z"
   },
   {
    "duration": 156,
    "start_time": "2023-07-18T11:16:06.527Z"
   },
   {
    "duration": 10,
    "start_time": "2023-07-18T11:16:06.687Z"
   },
   {
    "duration": 31,
    "start_time": "2023-07-18T11:16:06.709Z"
   },
   {
    "duration": 179,
    "start_time": "2023-07-18T11:16:06.742Z"
   },
   {
    "duration": 6,
    "start_time": "2023-07-18T11:16:06.923Z"
   },
   {
    "duration": 184,
    "start_time": "2023-07-18T11:16:06.930Z"
   },
   {
    "duration": 204,
    "start_time": "2023-07-18T11:16:07.115Z"
   },
   {
    "duration": 8,
    "start_time": "2023-07-18T11:18:26.650Z"
   },
   {
    "duration": 178,
    "start_time": "2023-07-18T11:18:48.615Z"
   },
   {
    "duration": 6,
    "start_time": "2023-07-18T11:19:13.292Z"
   },
   {
    "duration": 201,
    "start_time": "2023-07-18T11:19:26.284Z"
   },
   {
    "duration": 1026,
    "start_time": "2023-07-18T11:29:19.845Z"
   },
   {
    "duration": 41,
    "start_time": "2023-07-18T11:29:20.872Z"
   },
   {
    "duration": 11,
    "start_time": "2023-07-18T11:29:20.915Z"
   },
   {
    "duration": 31,
    "start_time": "2023-07-18T11:29:20.927Z"
   },
   {
    "duration": 16,
    "start_time": "2023-07-18T11:29:20.960Z"
   },
   {
    "duration": 10,
    "start_time": "2023-07-18T11:29:20.977Z"
   },
   {
    "duration": 22,
    "start_time": "2023-07-18T11:29:20.988Z"
   },
   {
    "duration": 19,
    "start_time": "2023-07-18T11:29:21.012Z"
   },
   {
    "duration": 15,
    "start_time": "2023-07-18T11:29:21.032Z"
   },
   {
    "duration": 46,
    "start_time": "2023-07-18T11:29:21.049Z"
   },
   {
    "duration": 28,
    "start_time": "2023-07-18T11:29:21.097Z"
   },
   {
    "duration": 14,
    "start_time": "2023-07-18T11:29:21.127Z"
   },
   {
    "duration": 26,
    "start_time": "2023-07-18T11:29:21.143Z"
   },
   {
    "duration": 10,
    "start_time": "2023-07-18T11:29:21.170Z"
   },
   {
    "duration": 24,
    "start_time": "2023-07-18T11:29:21.181Z"
   },
   {
    "duration": 28,
    "start_time": "2023-07-18T11:29:21.206Z"
   },
   {
    "duration": 15,
    "start_time": "2023-07-18T11:29:21.236Z"
   },
   {
    "duration": 1427,
    "start_time": "2023-07-18T11:29:21.253Z"
   },
   {
    "duration": 11,
    "start_time": "2023-07-18T11:29:22.682Z"
   },
   {
    "duration": 113,
    "start_time": "2023-07-18T11:29:22.694Z"
   },
   {
    "duration": 13,
    "start_time": "2023-07-18T11:29:22.808Z"
   },
   {
    "duration": 45,
    "start_time": "2023-07-18T11:29:22.823Z"
   },
   {
    "duration": 29,
    "start_time": "2023-07-18T11:29:22.870Z"
   },
   {
    "duration": 38,
    "start_time": "2023-07-18T11:29:22.900Z"
   },
   {
    "duration": 15,
    "start_time": "2023-07-18T11:29:22.940Z"
   },
   {
    "duration": 26,
    "start_time": "2023-07-18T11:29:22.957Z"
   },
   {
    "duration": 26,
    "start_time": "2023-07-18T11:29:22.984Z"
   },
   {
    "duration": 11,
    "start_time": "2023-07-18T11:29:23.013Z"
   },
   {
    "duration": 190,
    "start_time": "2023-07-18T11:29:23.025Z"
   },
   {
    "duration": 11,
    "start_time": "2023-07-18T11:29:23.217Z"
   },
   {
    "duration": 171,
    "start_time": "2023-07-18T11:29:23.230Z"
   },
   {
    "duration": 179,
    "start_time": "2023-07-18T11:29:23.406Z"
   },
   {
    "duration": 8,
    "start_time": "2023-07-18T11:29:23.587Z"
   },
   {
    "duration": 151,
    "start_time": "2023-07-18T11:29:23.606Z"
   },
   {
    "duration": 9,
    "start_time": "2023-07-18T11:29:23.759Z"
   },
   {
    "duration": 237,
    "start_time": "2023-07-18T11:29:23.769Z"
   },
   {
    "duration": 10,
    "start_time": "2023-07-18T11:29:24.008Z"
   },
   {
    "duration": 256,
    "start_time": "2023-07-18T11:29:24.020Z"
   },
   {
    "duration": 16,
    "start_time": "2023-07-18T11:29:24.278Z"
   },
   {
    "duration": 14,
    "start_time": "2023-07-18T11:29:24.306Z"
   },
   {
    "duration": 14,
    "start_time": "2023-07-18T11:29:24.321Z"
   },
   {
    "duration": 24,
    "start_time": "2023-07-18T11:29:24.337Z"
   },
   {
    "duration": 5,
    "start_time": "2023-07-18T11:29:24.363Z"
   },
   {
    "duration": 13,
    "start_time": "2023-07-18T11:29:24.369Z"
   },
   {
    "duration": 9,
    "start_time": "2023-07-18T11:29:24.383Z"
   },
   {
    "duration": 160,
    "start_time": "2023-07-18T11:29:24.393Z"
   },
   {
    "duration": 7,
    "start_time": "2023-07-18T11:29:24.555Z"
   },
   {
    "duration": 157,
    "start_time": "2023-07-18T11:29:24.563Z"
   },
   {
    "duration": 7,
    "start_time": "2023-07-18T11:29:24.722Z"
   },
   {
    "duration": 10,
    "start_time": "2023-07-18T11:29:24.731Z"
   },
   {
    "duration": 207,
    "start_time": "2023-07-18T11:29:24.742Z"
   },
   {
    "duration": 7,
    "start_time": "2023-07-18T11:29:24.951Z"
   },
   {
    "duration": 203,
    "start_time": "2023-07-18T11:29:24.960Z"
   },
   {
    "duration": 223,
    "start_time": "2023-07-18T11:29:25.165Z"
   },
   {
    "duration": 266,
    "start_time": "2023-07-18T11:54:08.875Z"
   },
   {
    "duration": 234,
    "start_time": "2023-07-18T12:02:35.524Z"
   },
   {
    "duration": 1418,
    "start_time": "2023-07-18T17:01:11.571Z"
   },
   {
    "duration": 168,
    "start_time": "2023-07-18T17:01:12.991Z"
   },
   {
    "duration": 13,
    "start_time": "2023-07-18T17:01:13.160Z"
   },
   {
    "duration": 24,
    "start_time": "2023-07-18T17:01:13.175Z"
   },
   {
    "duration": 15,
    "start_time": "2023-07-18T17:01:13.201Z"
   },
   {
    "duration": 20,
    "start_time": "2023-07-18T17:01:13.218Z"
   },
   {
    "duration": 20,
    "start_time": "2023-07-18T17:01:13.240Z"
   },
   {
    "duration": 21,
    "start_time": "2023-07-18T17:01:13.262Z"
   },
   {
    "duration": 6,
    "start_time": "2023-07-18T17:01:13.285Z"
   },
   {
    "duration": 7,
    "start_time": "2023-07-18T17:01:13.293Z"
   },
   {
    "duration": 14,
    "start_time": "2023-07-18T17:01:13.301Z"
   },
   {
    "duration": 14,
    "start_time": "2023-07-18T17:01:13.316Z"
   },
   {
    "duration": 6,
    "start_time": "2023-07-18T17:01:13.331Z"
   },
   {
    "duration": 38,
    "start_time": "2023-07-18T17:01:13.338Z"
   },
   {
    "duration": 9,
    "start_time": "2023-07-18T17:01:13.378Z"
   },
   {
    "duration": 8,
    "start_time": "2023-07-18T17:01:13.389Z"
   },
   {
    "duration": 16,
    "start_time": "2023-07-18T17:01:13.399Z"
   },
   {
    "duration": 1933,
    "start_time": "2023-07-18T17:01:13.416Z"
   },
   {
    "duration": 11,
    "start_time": "2023-07-18T17:01:15.351Z"
   },
   {
    "duration": 123,
    "start_time": "2023-07-18T17:01:15.364Z"
   },
   {
    "duration": 12,
    "start_time": "2023-07-18T17:01:15.489Z"
   },
   {
    "duration": 26,
    "start_time": "2023-07-18T17:01:15.503Z"
   },
   {
    "duration": 5,
    "start_time": "2023-07-18T17:01:15.531Z"
   },
   {
    "duration": 65,
    "start_time": "2023-07-18T17:01:15.538Z"
   },
   {
    "duration": 16,
    "start_time": "2023-07-18T17:01:15.605Z"
   },
   {
    "duration": 36,
    "start_time": "2023-07-18T17:01:15.623Z"
   },
   {
    "duration": 25,
    "start_time": "2023-07-18T17:01:15.662Z"
   },
   {
    "duration": 11,
    "start_time": "2023-07-18T17:01:15.692Z"
   },
   {
    "duration": 189,
    "start_time": "2023-07-18T17:01:15.705Z"
   },
   {
    "duration": 13,
    "start_time": "2023-07-18T17:01:15.896Z"
   },
   {
    "duration": 195,
    "start_time": "2023-07-18T17:01:15.911Z"
   },
   {
    "duration": 197,
    "start_time": "2023-07-18T17:01:16.108Z"
   },
   {
    "duration": 11,
    "start_time": "2023-07-18T17:01:16.308Z"
   },
   {
    "duration": 216,
    "start_time": "2023-07-18T17:01:16.321Z"
   },
   {
    "duration": 15,
    "start_time": "2023-07-18T17:01:16.539Z"
   },
   {
    "duration": 295,
    "start_time": "2023-07-18T17:01:16.556Z"
   },
   {
    "duration": 12,
    "start_time": "2023-07-18T17:01:16.853Z"
   },
   {
    "duration": 300,
    "start_time": "2023-07-18T17:01:16.875Z"
   },
   {
    "duration": 16,
    "start_time": "2023-07-18T17:01:17.177Z"
   },
   {
    "duration": 5,
    "start_time": "2023-07-18T17:01:17.195Z"
   },
   {
    "duration": 8,
    "start_time": "2023-07-18T17:01:17.202Z"
   },
   {
    "duration": 22,
    "start_time": "2023-07-18T17:01:17.212Z"
   },
   {
    "duration": 8,
    "start_time": "2023-07-18T17:01:17.235Z"
   },
   {
    "duration": 30,
    "start_time": "2023-07-18T17:01:17.245Z"
   },
   {
    "duration": 109,
    "start_time": "2023-07-18T17:01:17.277Z"
   },
   {
    "duration": 0,
    "start_time": "2023-07-18T17:01:17.387Z"
   },
   {
    "duration": 0,
    "start_time": "2023-07-18T17:01:17.388Z"
   },
   {
    "duration": 0,
    "start_time": "2023-07-18T17:01:17.390Z"
   },
   {
    "duration": 0,
    "start_time": "2023-07-18T17:01:17.391Z"
   },
   {
    "duration": 0,
    "start_time": "2023-07-18T17:01:17.392Z"
   },
   {
    "duration": 0,
    "start_time": "2023-07-18T17:01:17.393Z"
   },
   {
    "duration": 0,
    "start_time": "2023-07-18T17:01:17.395Z"
   },
   {
    "duration": 0,
    "start_time": "2023-07-18T17:01:17.396Z"
   },
   {
    "duration": 0,
    "start_time": "2023-07-18T17:01:17.397Z"
   },
   {
    "duration": 0,
    "start_time": "2023-07-18T17:01:17.398Z"
   },
   {
    "duration": 10,
    "start_time": "2023-07-18T17:06:17.145Z"
   },
   {
    "duration": 183,
    "start_time": "2023-07-18T17:06:17.666Z"
   },
   {
    "duration": 9,
    "start_time": "2023-07-18T17:06:24.368Z"
   },
   {
    "duration": 168,
    "start_time": "2023-07-18T17:06:24.745Z"
   },
   {
    "duration": 8,
    "start_time": "2023-07-18T17:06:25.247Z"
   },
   {
    "duration": 8,
    "start_time": "2023-07-18T17:07:36.918Z"
   },
   {
    "duration": 10,
    "start_time": "2023-07-18T17:08:18.339Z"
   },
   {
    "duration": 10,
    "start_time": "2023-07-18T17:13:22.334Z"
   },
   {
    "duration": 10,
    "start_time": "2023-07-18T17:13:30.068Z"
   },
   {
    "duration": 7,
    "start_time": "2023-07-18T17:13:50.722Z"
   },
   {
    "duration": 100,
    "start_time": "2023-07-18T17:20:35.311Z"
   },
   {
    "duration": 156,
    "start_time": "2023-07-18T17:22:09.889Z"
   },
   {
    "duration": 110,
    "start_time": "2023-07-18T17:22:26.598Z"
   },
   {
    "duration": 113,
    "start_time": "2023-07-18T17:23:56.864Z"
   },
   {
    "duration": 2665,
    "start_time": "2023-07-18T17:25:23.545Z"
   },
   {
    "duration": 2265,
    "start_time": "2023-07-18T17:26:58.204Z"
   },
   {
    "duration": 131,
    "start_time": "2023-07-18T17:27:39.263Z"
   },
   {
    "duration": 1437,
    "start_time": "2023-07-19T17:37:41.030Z"
   },
   {
    "duration": 184,
    "start_time": "2023-07-19T17:37:42.469Z"
   },
   {
    "duration": 14,
    "start_time": "2023-07-19T17:37:42.655Z"
   },
   {
    "duration": 26,
    "start_time": "2023-07-19T17:37:42.671Z"
   },
   {
    "duration": 14,
    "start_time": "2023-07-19T17:37:42.698Z"
   },
   {
    "duration": 40,
    "start_time": "2023-07-19T17:37:42.714Z"
   },
   {
    "duration": 14,
    "start_time": "2023-07-19T17:37:42.755Z"
   },
   {
    "duration": 8,
    "start_time": "2023-07-19T17:37:42.770Z"
   },
   {
    "duration": 6,
    "start_time": "2023-07-19T17:37:42.780Z"
   },
   {
    "duration": 19,
    "start_time": "2023-07-19T17:37:42.788Z"
   },
   {
    "duration": 12,
    "start_time": "2023-07-19T17:37:42.809Z"
   },
   {
    "duration": 39,
    "start_time": "2023-07-19T17:37:42.822Z"
   },
   {
    "duration": 5,
    "start_time": "2023-07-19T17:37:42.863Z"
   },
   {
    "duration": 7,
    "start_time": "2023-07-19T17:37:42.869Z"
   },
   {
    "duration": 13,
    "start_time": "2023-07-19T17:37:42.878Z"
   },
   {
    "duration": 7,
    "start_time": "2023-07-19T17:37:42.893Z"
   },
   {
    "duration": 52,
    "start_time": "2023-07-19T17:37:42.902Z"
   },
   {
    "duration": 1822,
    "start_time": "2023-07-19T17:37:42.956Z"
   },
   {
    "duration": 16,
    "start_time": "2023-07-19T17:37:44.779Z"
   },
   {
    "duration": 134,
    "start_time": "2023-07-19T17:37:44.798Z"
   },
   {
    "duration": 12,
    "start_time": "2023-07-19T17:37:44.934Z"
   },
   {
    "duration": 19,
    "start_time": "2023-07-19T17:37:44.952Z"
   },
   {
    "duration": 24,
    "start_time": "2023-07-19T17:37:44.973Z"
   },
   {
    "duration": 111,
    "start_time": "2023-07-19T17:37:44.999Z"
   },
   {
    "duration": 15,
    "start_time": "2023-07-19T17:37:45.112Z"
   },
   {
    "duration": 47,
    "start_time": "2023-07-19T17:37:45.129Z"
   },
   {
    "duration": 30,
    "start_time": "2023-07-19T17:37:45.178Z"
   },
   {
    "duration": 13,
    "start_time": "2023-07-19T17:37:45.212Z"
   },
   {
    "duration": 278,
    "start_time": "2023-07-19T17:37:45.227Z"
   },
   {
    "duration": 13,
    "start_time": "2023-07-19T17:37:45.507Z"
   },
   {
    "duration": 188,
    "start_time": "2023-07-19T17:37:45.522Z"
   },
   {
    "duration": 212,
    "start_time": "2023-07-19T17:37:45.712Z"
   },
   {
    "duration": 10,
    "start_time": "2023-07-19T17:37:45.926Z"
   },
   {
    "duration": 185,
    "start_time": "2023-07-19T17:37:45.937Z"
   },
   {
    "duration": 12,
    "start_time": "2023-07-19T17:37:46.123Z"
   },
   {
    "duration": 279,
    "start_time": "2023-07-19T17:37:46.137Z"
   },
   {
    "duration": 13,
    "start_time": "2023-07-19T17:37:46.418Z"
   },
   {
    "duration": 323,
    "start_time": "2023-07-19T17:37:46.433Z"
   },
   {
    "duration": 20,
    "start_time": "2023-07-19T17:37:46.758Z"
   },
   {
    "duration": 20,
    "start_time": "2023-07-19T17:37:46.780Z"
   },
   {
    "duration": 20,
    "start_time": "2023-07-19T17:37:46.802Z"
   },
   {
    "duration": 11,
    "start_time": "2023-07-19T17:37:46.824Z"
   },
   {
    "duration": 15,
    "start_time": "2023-07-19T17:37:46.836Z"
   },
   {
    "duration": 21,
    "start_time": "2023-07-19T17:37:46.853Z"
   },
   {
    "duration": 121,
    "start_time": "2023-07-19T17:37:46.877Z"
   },
   {
    "duration": 140,
    "start_time": "2023-07-19T17:37:47.001Z"
   },
   {
    "duration": 15,
    "start_time": "2023-07-19T17:37:47.143Z"
   },
   {
    "duration": 210,
    "start_time": "2023-07-19T17:37:47.160Z"
   },
   {
    "duration": 12,
    "start_time": "2023-07-19T17:37:47.372Z"
   },
   {
    "duration": 198,
    "start_time": "2023-07-19T17:37:47.386Z"
   },
   {
    "duration": 11,
    "start_time": "2023-07-19T17:37:47.586Z"
   },
   {
    "duration": 8,
    "start_time": "2023-07-19T17:37:47.599Z"
   },
   {
    "duration": 270,
    "start_time": "2023-07-19T17:37:47.608Z"
   },
   {
    "duration": 9,
    "start_time": "2023-07-19T17:37:47.880Z"
   },
   {
    "duration": 279,
    "start_time": "2023-07-19T17:37:47.891Z"
   },
   {
    "duration": 281,
    "start_time": "2023-07-19T17:37:48.172Z"
   },
   {
    "duration": 221,
    "start_time": "2023-07-19T19:49:01.138Z"
   },
   {
    "duration": 1018,
    "start_time": "2023-07-19T19:56:44.538Z"
   },
   {
    "duration": 1197,
    "start_time": "2023-07-19T20:20:09.829Z"
   },
   {
    "duration": 42,
    "start_time": "2023-07-19T20:20:11.028Z"
   },
   {
    "duration": 13,
    "start_time": "2023-07-19T20:20:11.072Z"
   },
   {
    "duration": 22,
    "start_time": "2023-07-19T20:20:11.087Z"
   },
   {
    "duration": 13,
    "start_time": "2023-07-19T20:20:11.111Z"
   },
   {
    "duration": 39,
    "start_time": "2023-07-19T20:20:11.125Z"
   },
   {
    "duration": 15,
    "start_time": "2023-07-19T20:20:11.165Z"
   },
   {
    "duration": 8,
    "start_time": "2023-07-19T20:20:11.182Z"
   },
   {
    "duration": 9,
    "start_time": "2023-07-19T20:20:11.191Z"
   },
   {
    "duration": 11,
    "start_time": "2023-07-19T20:20:11.203Z"
   },
   {
    "duration": 23,
    "start_time": "2023-07-19T20:20:11.215Z"
   },
   {
    "duration": 18,
    "start_time": "2023-07-19T20:20:11.240Z"
   },
   {
    "duration": 6,
    "start_time": "2023-07-19T20:20:11.260Z"
   },
   {
    "duration": 5,
    "start_time": "2023-07-19T20:20:11.268Z"
   },
   {
    "duration": 115,
    "start_time": "2023-07-19T20:20:11.275Z"
   },
   {
    "duration": 0,
    "start_time": "2023-07-19T20:20:11.392Z"
   },
   {
    "duration": 0,
    "start_time": "2023-07-19T20:20:11.393Z"
   },
   {
    "duration": 0,
    "start_time": "2023-07-19T20:20:11.395Z"
   },
   {
    "duration": 0,
    "start_time": "2023-07-19T20:20:11.396Z"
   },
   {
    "duration": 0,
    "start_time": "2023-07-19T20:20:11.397Z"
   },
   {
    "duration": 0,
    "start_time": "2023-07-19T20:20:11.398Z"
   },
   {
    "duration": 0,
    "start_time": "2023-07-19T20:20:11.400Z"
   },
   {
    "duration": 0,
    "start_time": "2023-07-19T20:20:11.401Z"
   },
   {
    "duration": 0,
    "start_time": "2023-07-19T20:20:11.402Z"
   },
   {
    "duration": 0,
    "start_time": "2023-07-19T20:20:11.403Z"
   },
   {
    "duration": 0,
    "start_time": "2023-07-19T20:20:11.404Z"
   },
   {
    "duration": 0,
    "start_time": "2023-07-19T20:20:11.405Z"
   },
   {
    "duration": 0,
    "start_time": "2023-07-19T20:20:11.406Z"
   },
   {
    "duration": 0,
    "start_time": "2023-07-19T20:20:11.407Z"
   },
   {
    "duration": 0,
    "start_time": "2023-07-19T20:20:11.408Z"
   },
   {
    "duration": 0,
    "start_time": "2023-07-19T20:20:11.409Z"
   },
   {
    "duration": 0,
    "start_time": "2023-07-19T20:20:11.410Z"
   },
   {
    "duration": 0,
    "start_time": "2023-07-19T20:20:11.411Z"
   },
   {
    "duration": 0,
    "start_time": "2023-07-19T20:20:11.413Z"
   },
   {
    "duration": 0,
    "start_time": "2023-07-19T20:20:11.414Z"
   },
   {
    "duration": 0,
    "start_time": "2023-07-19T20:20:11.452Z"
   },
   {
    "duration": 0,
    "start_time": "2023-07-19T20:20:11.453Z"
   },
   {
    "duration": 0,
    "start_time": "2023-07-19T20:20:11.454Z"
   },
   {
    "duration": 1,
    "start_time": "2023-07-19T20:20:11.455Z"
   },
   {
    "duration": 0,
    "start_time": "2023-07-19T20:20:11.457Z"
   },
   {
    "duration": 0,
    "start_time": "2023-07-19T20:20:11.458Z"
   },
   {
    "duration": 0,
    "start_time": "2023-07-19T20:20:11.459Z"
   },
   {
    "duration": 0,
    "start_time": "2023-07-19T20:20:11.460Z"
   },
   {
    "duration": 0,
    "start_time": "2023-07-19T20:20:11.461Z"
   },
   {
    "duration": 0,
    "start_time": "2023-07-19T20:20:11.463Z"
   },
   {
    "duration": 0,
    "start_time": "2023-07-19T20:20:11.464Z"
   },
   {
    "duration": 0,
    "start_time": "2023-07-19T20:20:11.465Z"
   },
   {
    "duration": 0,
    "start_time": "2023-07-19T20:20:11.466Z"
   },
   {
    "duration": 0,
    "start_time": "2023-07-19T20:20:11.467Z"
   },
   {
    "duration": 0,
    "start_time": "2023-07-19T20:20:11.468Z"
   },
   {
    "duration": 0,
    "start_time": "2023-07-19T20:20:11.470Z"
   },
   {
    "duration": 0,
    "start_time": "2023-07-19T20:20:11.471Z"
   },
   {
    "duration": 0,
    "start_time": "2023-07-19T20:20:11.472Z"
   },
   {
    "duration": 0,
    "start_time": "2023-07-19T20:20:11.474Z"
   },
   {
    "duration": 9,
    "start_time": "2023-07-19T20:20:50.486Z"
   },
   {
    "duration": 16,
    "start_time": "2023-07-19T20:20:55.753Z"
   },
   {
    "duration": 19,
    "start_time": "2023-07-19T20:26:07.362Z"
   },
   {
    "duration": 13,
    "start_time": "2023-07-19T20:27:52.167Z"
   },
   {
    "duration": 1230,
    "start_time": "2023-07-19T20:28:04.447Z"
   },
   {
    "duration": 44,
    "start_time": "2023-07-19T20:28:05.679Z"
   },
   {
    "duration": 14,
    "start_time": "2023-07-19T20:28:05.724Z"
   },
   {
    "duration": 44,
    "start_time": "2023-07-19T20:28:05.740Z"
   },
   {
    "duration": 13,
    "start_time": "2023-07-19T20:28:05.786Z"
   },
   {
    "duration": 19,
    "start_time": "2023-07-19T20:28:05.800Z"
   },
   {
    "duration": 44,
    "start_time": "2023-07-19T20:28:05.821Z"
   },
   {
    "duration": 9,
    "start_time": "2023-07-19T20:28:05.866Z"
   },
   {
    "duration": 30,
    "start_time": "2023-07-19T20:28:05.876Z"
   },
   {
    "duration": 19,
    "start_time": "2023-07-19T20:28:05.908Z"
   },
   {
    "duration": 44,
    "start_time": "2023-07-19T20:28:05.929Z"
   },
   {
    "duration": 19,
    "start_time": "2023-07-19T20:28:05.974Z"
   },
   {
    "duration": 19,
    "start_time": "2023-07-19T20:28:05.994Z"
   },
   {
    "duration": 26,
    "start_time": "2023-07-19T20:28:06.015Z"
   },
   {
    "duration": 117,
    "start_time": "2023-07-19T20:28:06.043Z"
   },
   {
    "duration": 0,
    "start_time": "2023-07-19T20:28:06.163Z"
   },
   {
    "duration": 0,
    "start_time": "2023-07-19T20:28:06.164Z"
   },
   {
    "duration": 0,
    "start_time": "2023-07-19T20:28:06.166Z"
   },
   {
    "duration": 0,
    "start_time": "2023-07-19T20:28:06.167Z"
   },
   {
    "duration": 0,
    "start_time": "2023-07-19T20:28:06.168Z"
   },
   {
    "duration": 0,
    "start_time": "2023-07-19T20:28:06.169Z"
   },
   {
    "duration": 0,
    "start_time": "2023-07-19T20:28:06.170Z"
   },
   {
    "duration": 0,
    "start_time": "2023-07-19T20:28:06.171Z"
   },
   {
    "duration": 0,
    "start_time": "2023-07-19T20:28:06.172Z"
   },
   {
    "duration": 0,
    "start_time": "2023-07-19T20:28:06.173Z"
   },
   {
    "duration": 0,
    "start_time": "2023-07-19T20:28:06.174Z"
   },
   {
    "duration": 0,
    "start_time": "2023-07-19T20:28:06.175Z"
   },
   {
    "duration": 0,
    "start_time": "2023-07-19T20:28:06.175Z"
   },
   {
    "duration": 0,
    "start_time": "2023-07-19T20:28:06.176Z"
   },
   {
    "duration": 0,
    "start_time": "2023-07-19T20:28:06.177Z"
   },
   {
    "duration": 0,
    "start_time": "2023-07-19T20:28:06.178Z"
   },
   {
    "duration": 0,
    "start_time": "2023-07-19T20:28:06.179Z"
   },
   {
    "duration": 0,
    "start_time": "2023-07-19T20:28:06.180Z"
   },
   {
    "duration": 0,
    "start_time": "2023-07-19T20:28:06.181Z"
   },
   {
    "duration": 0,
    "start_time": "2023-07-19T20:28:06.182Z"
   },
   {
    "duration": 0,
    "start_time": "2023-07-19T20:28:06.183Z"
   },
   {
    "duration": 0,
    "start_time": "2023-07-19T20:28:06.183Z"
   },
   {
    "duration": 0,
    "start_time": "2023-07-19T20:28:06.184Z"
   },
   {
    "duration": 0,
    "start_time": "2023-07-19T20:28:06.185Z"
   },
   {
    "duration": 0,
    "start_time": "2023-07-19T20:28:06.186Z"
   },
   {
    "duration": 0,
    "start_time": "2023-07-19T20:28:06.187Z"
   },
   {
    "duration": 0,
    "start_time": "2023-07-19T20:28:06.188Z"
   },
   {
    "duration": 0,
    "start_time": "2023-07-19T20:28:06.189Z"
   },
   {
    "duration": 0,
    "start_time": "2023-07-19T20:28:06.190Z"
   },
   {
    "duration": 0,
    "start_time": "2023-07-19T20:28:06.191Z"
   },
   {
    "duration": 0,
    "start_time": "2023-07-19T20:28:06.192Z"
   },
   {
    "duration": 0,
    "start_time": "2023-07-19T20:28:06.193Z"
   },
   {
    "duration": 0,
    "start_time": "2023-07-19T20:28:06.194Z"
   },
   {
    "duration": 0,
    "start_time": "2023-07-19T20:28:06.195Z"
   },
   {
    "duration": 0,
    "start_time": "2023-07-19T20:28:06.196Z"
   },
   {
    "duration": 0,
    "start_time": "2023-07-19T20:28:06.197Z"
   },
   {
    "duration": 0,
    "start_time": "2023-07-19T20:28:06.252Z"
   },
   {
    "duration": 0,
    "start_time": "2023-07-19T20:28:06.253Z"
   },
   {
    "duration": 0,
    "start_time": "2023-07-19T20:28:06.254Z"
   },
   {
    "duration": 9,
    "start_time": "2023-07-19T20:28:37.110Z"
   },
   {
    "duration": 7,
    "start_time": "2023-07-19T20:30:57.104Z"
   },
   {
    "duration": 5,
    "start_time": "2023-07-19T20:31:09.426Z"
   },
   {
    "duration": 7,
    "start_time": "2023-07-19T20:31:18.340Z"
   },
   {
    "duration": 7,
    "start_time": "2023-07-19T20:31:31.009Z"
   },
   {
    "duration": 15,
    "start_time": "2023-07-19T20:31:39.882Z"
   },
   {
    "duration": 8,
    "start_time": "2023-07-19T20:37:51.254Z"
   },
   {
    "duration": 14,
    "start_time": "2023-07-19T20:38:01.248Z"
   },
   {
    "duration": 13,
    "start_time": "2023-07-19T20:38:41.477Z"
   },
   {
    "duration": 11,
    "start_time": "2023-07-19T20:44:09.604Z"
   },
   {
    "duration": 11,
    "start_time": "2023-07-19T20:44:15.929Z"
   },
   {
    "duration": 13,
    "start_time": "2023-07-19T20:44:30.028Z"
   },
   {
    "duration": 15,
    "start_time": "2023-07-19T21:18:22.689Z"
   },
   {
    "duration": 12,
    "start_time": "2023-07-19T21:18:32.524Z"
   },
   {
    "duration": 13,
    "start_time": "2023-07-19T21:23:58.585Z"
   },
   {
    "duration": 13,
    "start_time": "2023-07-19T21:24:04.855Z"
   },
   {
    "duration": 13,
    "start_time": "2023-07-19T21:24:26.347Z"
   },
   {
    "duration": 8,
    "start_time": "2023-07-19T21:43:59.969Z"
   },
   {
    "duration": 12,
    "start_time": "2023-07-19T21:45:07.950Z"
   },
   {
    "duration": 8,
    "start_time": "2023-07-19T21:45:13.438Z"
   },
   {
    "duration": 8,
    "start_time": "2023-07-19T21:46:02.247Z"
   },
   {
    "duration": 11,
    "start_time": "2023-07-19T21:46:13.264Z"
   },
   {
    "duration": 9,
    "start_time": "2023-07-19T21:47:20.219Z"
   },
   {
    "duration": 12,
    "start_time": "2023-07-19T21:47:39.168Z"
   },
   {
    "duration": 7,
    "start_time": "2023-07-19T21:47:56.875Z"
   },
   {
    "duration": 12,
    "start_time": "2023-07-19T21:48:59.846Z"
   },
   {
    "duration": 11,
    "start_time": "2023-07-19T21:54:35.825Z"
   },
   {
    "duration": 12,
    "start_time": "2023-07-19T21:54:42.129Z"
   },
   {
    "duration": 13,
    "start_time": "2023-07-19T21:54:50.993Z"
   },
   {
    "duration": 15,
    "start_time": "2023-07-19T22:00:35.337Z"
   },
   {
    "duration": 1222,
    "start_time": "2023-07-19T22:01:09.257Z"
   },
   {
    "duration": 43,
    "start_time": "2023-07-19T22:01:10.482Z"
   },
   {
    "duration": 13,
    "start_time": "2023-07-19T22:01:10.527Z"
   },
   {
    "duration": 23,
    "start_time": "2023-07-19T22:01:10.542Z"
   },
   {
    "duration": 15,
    "start_time": "2023-07-19T22:01:10.567Z"
   },
   {
    "duration": 14,
    "start_time": "2023-07-19T22:01:10.583Z"
   },
   {
    "duration": 27,
    "start_time": "2023-07-19T22:01:10.599Z"
   },
   {
    "duration": 9,
    "start_time": "2023-07-19T22:01:10.627Z"
   },
   {
    "duration": 14,
    "start_time": "2023-07-19T22:01:10.638Z"
   },
   {
    "duration": 20,
    "start_time": "2023-07-19T22:01:10.653Z"
   },
   {
    "duration": 27,
    "start_time": "2023-07-19T22:01:10.675Z"
   },
   {
    "duration": 18,
    "start_time": "2023-07-19T22:01:10.704Z"
   },
   {
    "duration": 23,
    "start_time": "2023-07-19T22:01:10.724Z"
   },
   {
    "duration": 8,
    "start_time": "2023-07-19T22:01:10.750Z"
   },
   {
    "duration": 24,
    "start_time": "2023-07-19T22:01:10.760Z"
   },
   {
    "duration": 15,
    "start_time": "2023-07-19T22:01:10.786Z"
   },
   {
    "duration": 118,
    "start_time": "2023-07-19T22:01:10.802Z"
   },
   {
    "duration": 13,
    "start_time": "2023-07-19T22:01:10.922Z"
   },
   {
    "duration": 27,
    "start_time": "2023-07-19T22:01:10.936Z"
   },
   {
    "duration": 4,
    "start_time": "2023-07-19T22:01:10.965Z"
   },
   {
    "duration": 49,
    "start_time": "2023-07-19T22:01:10.970Z"
   },
   {
    "duration": 14,
    "start_time": "2023-07-19T22:01:11.020Z"
   },
   {
    "duration": 28,
    "start_time": "2023-07-19T22:01:11.036Z"
   },
   {
    "duration": 20,
    "start_time": "2023-07-19T22:01:11.066Z"
   },
   {
    "duration": 12,
    "start_time": "2023-07-19T22:01:11.088Z"
   },
   {
    "duration": 195,
    "start_time": "2023-07-19T22:01:11.101Z"
   },
   {
    "duration": 12,
    "start_time": "2023-07-19T22:01:11.297Z"
   },
   {
    "duration": 185,
    "start_time": "2023-07-19T22:01:11.310Z"
   },
   {
    "duration": 187,
    "start_time": "2023-07-19T22:01:11.497Z"
   },
   {
    "duration": 12,
    "start_time": "2023-07-19T22:01:11.686Z"
   },
   {
    "duration": 246,
    "start_time": "2023-07-19T22:01:11.700Z"
   },
   {
    "duration": 12,
    "start_time": "2023-07-19T22:01:11.952Z"
   },
   {
    "duration": 279,
    "start_time": "2023-07-19T22:01:11.965Z"
   },
   {
    "duration": 12,
    "start_time": "2023-07-19T22:01:12.251Z"
   },
   {
    "duration": 220,
    "start_time": "2023-07-19T22:01:12.265Z"
   },
   {
    "duration": 18,
    "start_time": "2023-07-19T22:01:12.487Z"
   },
   {
    "duration": 9,
    "start_time": "2023-07-19T22:01:12.507Z"
   },
   {
    "duration": 10,
    "start_time": "2023-07-19T22:01:12.517Z"
   },
   {
    "duration": 13,
    "start_time": "2023-07-19T22:01:12.529Z"
   },
   {
    "duration": 6,
    "start_time": "2023-07-19T22:01:12.552Z"
   },
   {
    "duration": 19,
    "start_time": "2023-07-19T22:01:12.562Z"
   },
   {
    "duration": 136,
    "start_time": "2023-07-19T22:01:12.583Z"
   },
   {
    "duration": 121,
    "start_time": "2023-07-19T22:01:12.721Z"
   },
   {
    "duration": 9,
    "start_time": "2023-07-19T22:01:12.851Z"
   },
   {
    "duration": 180,
    "start_time": "2023-07-19T22:01:12.862Z"
   },
   {
    "duration": 12,
    "start_time": "2023-07-19T22:01:13.043Z"
   },
   {
    "duration": 198,
    "start_time": "2023-07-19T22:01:13.057Z"
   },
   {
    "duration": 10,
    "start_time": "2023-07-19T22:01:13.257Z"
   },
   {
    "duration": 13,
    "start_time": "2023-07-19T22:01:13.268Z"
   },
   {
    "duration": 236,
    "start_time": "2023-07-19T22:01:13.283Z"
   },
   {
    "duration": 7,
    "start_time": "2023-07-19T22:01:13.521Z"
   },
   {
    "duration": 233,
    "start_time": "2023-07-19T22:01:13.529Z"
   },
   {
    "duration": 293,
    "start_time": "2023-07-19T22:01:13.764Z"
   },
   {
    "duration": 5,
    "start_time": "2023-07-19T22:02:10.033Z"
   },
   {
    "duration": 12,
    "start_time": "2023-07-19T22:02:29.162Z"
   },
   {
    "duration": 1197,
    "start_time": "2023-07-19T22:03:04.469Z"
   },
   {
    "duration": 43,
    "start_time": "2023-07-19T22:03:05.668Z"
   },
   {
    "duration": 12,
    "start_time": "2023-07-19T22:03:05.713Z"
   },
   {
    "duration": 31,
    "start_time": "2023-07-19T22:03:05.727Z"
   },
   {
    "duration": 12,
    "start_time": "2023-07-19T22:03:05.760Z"
   },
   {
    "duration": 10,
    "start_time": "2023-07-19T22:03:05.774Z"
   },
   {
    "duration": 22,
    "start_time": "2023-07-19T22:03:05.786Z"
   },
   {
    "duration": 23,
    "start_time": "2023-07-19T22:03:05.810Z"
   },
   {
    "duration": 10,
    "start_time": "2023-07-19T22:03:05.834Z"
   },
   {
    "duration": 27,
    "start_time": "2023-07-19T22:03:05.847Z"
   },
   {
    "duration": 31,
    "start_time": "2023-07-19T22:03:05.876Z"
   },
   {
    "duration": 13,
    "start_time": "2023-07-19T22:03:05.909Z"
   },
   {
    "duration": 19,
    "start_time": "2023-07-19T22:03:05.923Z"
   },
   {
    "duration": 8,
    "start_time": "2023-07-19T22:03:05.944Z"
   },
   {
    "duration": 24,
    "start_time": "2023-07-19T22:03:05.953Z"
   },
   {
    "duration": 15,
    "start_time": "2023-07-19T22:03:05.979Z"
   },
   {
    "duration": 131,
    "start_time": "2023-07-19T22:03:05.996Z"
   },
   {
    "duration": 14,
    "start_time": "2023-07-19T22:03:06.129Z"
   },
   {
    "duration": 22,
    "start_time": "2023-07-19T22:03:06.145Z"
   },
   {
    "duration": 4,
    "start_time": "2023-07-19T22:03:06.168Z"
   },
   {
    "duration": 45,
    "start_time": "2023-07-19T22:03:06.174Z"
   },
   {
    "duration": 14,
    "start_time": "2023-07-19T22:03:06.221Z"
   },
   {
    "duration": 33,
    "start_time": "2023-07-19T22:03:06.236Z"
   },
   {
    "duration": 44,
    "start_time": "2023-07-19T22:03:06.270Z"
   },
   {
    "duration": 11,
    "start_time": "2023-07-19T22:03:06.315Z"
   },
   {
    "duration": 172,
    "start_time": "2023-07-19T22:03:06.328Z"
   },
   {
    "duration": 13,
    "start_time": "2023-07-19T22:03:06.501Z"
   },
   {
    "duration": 176,
    "start_time": "2023-07-19T22:03:06.517Z"
   },
   {
    "duration": 182,
    "start_time": "2023-07-19T22:03:06.695Z"
   },
   {
    "duration": 10,
    "start_time": "2023-07-19T22:03:06.879Z"
   },
   {
    "duration": 245,
    "start_time": "2023-07-19T22:03:06.890Z"
   },
   {
    "duration": 21,
    "start_time": "2023-07-19T22:03:07.137Z"
   },
   {
    "duration": 251,
    "start_time": "2023-07-19T22:03:07.160Z"
   },
   {
    "duration": 13,
    "start_time": "2023-07-19T22:03:07.412Z"
   },
   {
    "duration": 206,
    "start_time": "2023-07-19T22:03:07.426Z"
   },
   {
    "duration": 23,
    "start_time": "2023-07-19T22:03:07.634Z"
   },
   {
    "duration": 5,
    "start_time": "2023-07-19T22:03:07.658Z"
   },
   {
    "duration": 10,
    "start_time": "2023-07-19T22:03:07.665Z"
   },
   {
    "duration": 15,
    "start_time": "2023-07-19T22:03:07.677Z"
   },
   {
    "duration": 11,
    "start_time": "2023-07-19T22:03:07.694Z"
   },
   {
    "duration": 16,
    "start_time": "2023-07-19T22:03:07.706Z"
   },
   {
    "duration": 122,
    "start_time": "2023-07-19T22:03:07.724Z"
   },
   {
    "duration": 116,
    "start_time": "2023-07-19T22:03:07.852Z"
   },
   {
    "duration": 9,
    "start_time": "2023-07-19T22:03:07.969Z"
   },
   {
    "duration": 190,
    "start_time": "2023-07-19T22:03:07.979Z"
   },
   {
    "duration": 9,
    "start_time": "2023-07-19T22:03:08.171Z"
   },
   {
    "duration": 218,
    "start_time": "2023-07-19T22:03:08.181Z"
   },
   {
    "duration": 13,
    "start_time": "2023-07-19T22:03:08.402Z"
   },
   {
    "duration": 33,
    "start_time": "2023-07-19T22:03:08.416Z"
   },
   {
    "duration": 243,
    "start_time": "2023-07-19T22:03:08.452Z"
   },
   {
    "duration": 7,
    "start_time": "2023-07-19T22:03:08.697Z"
   },
   {
    "duration": 220,
    "start_time": "2023-07-19T22:03:08.706Z"
   },
   {
    "duration": 494,
    "start_time": "2023-07-19T22:03:08.928Z"
   },
   {
    "duration": 7,
    "start_time": "2023-07-19T22:04:26.108Z"
   },
   {
    "duration": 14,
    "start_time": "2023-07-19T22:04:32.749Z"
   },
   {
    "duration": 15,
    "start_time": "2023-07-19T22:04:48.913Z"
   },
   {
    "duration": 583,
    "start_time": "2023-07-19T22:09:56.679Z"
   },
   {
    "duration": 109,
    "start_time": "2023-07-19T22:12:40.308Z"
   },
   {
    "duration": 13,
    "start_time": "2023-07-19T22:21:00.340Z"
   },
   {
    "duration": 11,
    "start_time": "2023-07-19T22:21:09.180Z"
   },
   {
    "duration": 20,
    "start_time": "2023-07-19T22:22:05.980Z"
   },
   {
    "duration": 22,
    "start_time": "2023-07-19T22:22:14.331Z"
   },
   {
    "duration": 31,
    "start_time": "2023-07-19T22:22:28.298Z"
   },
   {
    "duration": 1163,
    "start_time": "2023-07-19T22:23:34.001Z"
   },
   {
    "duration": 44,
    "start_time": "2023-07-19T22:23:35.166Z"
   },
   {
    "duration": 13,
    "start_time": "2023-07-19T22:23:35.212Z"
   },
   {
    "duration": 36,
    "start_time": "2023-07-19T22:23:35.227Z"
   },
   {
    "duration": 14,
    "start_time": "2023-07-19T22:23:35.265Z"
   },
   {
    "duration": 12,
    "start_time": "2023-07-19T22:23:35.281Z"
   },
   {
    "duration": 18,
    "start_time": "2023-07-19T22:23:35.295Z"
   },
   {
    "duration": 10,
    "start_time": "2023-07-19T22:23:35.315Z"
   },
   {
    "duration": 27,
    "start_time": "2023-07-19T22:23:35.326Z"
   },
   {
    "duration": 15,
    "start_time": "2023-07-19T22:23:35.361Z"
   },
   {
    "duration": 18,
    "start_time": "2023-07-19T22:23:35.378Z"
   },
   {
    "duration": 22,
    "start_time": "2023-07-19T22:23:35.399Z"
   },
   {
    "duration": 24,
    "start_time": "2023-07-19T22:23:35.423Z"
   },
   {
    "duration": 36,
    "start_time": "2023-07-19T22:23:35.448Z"
   },
   {
    "duration": 11,
    "start_time": "2023-07-19T22:23:35.485Z"
   },
   {
    "duration": 130,
    "start_time": "2023-07-19T22:23:35.498Z"
   },
   {
    "duration": 22,
    "start_time": "2023-07-19T22:23:35.630Z"
   },
   {
    "duration": 15,
    "start_time": "2023-07-19T22:23:35.654Z"
   },
   {
    "duration": 4,
    "start_time": "2023-07-19T22:23:35.671Z"
   },
   {
    "duration": 44,
    "start_time": "2023-07-19T22:23:35.676Z"
   },
   {
    "duration": 30,
    "start_time": "2023-07-19T22:23:35.722Z"
   },
   {
    "duration": 18,
    "start_time": "2023-07-19T22:23:35.753Z"
   },
   {
    "duration": 30,
    "start_time": "2023-07-19T22:23:35.773Z"
   },
   {
    "duration": 11,
    "start_time": "2023-07-19T22:23:35.805Z"
   },
   {
    "duration": 194,
    "start_time": "2023-07-19T22:23:35.818Z"
   },
   {
    "duration": 12,
    "start_time": "2023-07-19T22:23:36.013Z"
   },
   {
    "duration": 172,
    "start_time": "2023-07-19T22:23:36.026Z"
   },
   {
    "duration": 188,
    "start_time": "2023-07-19T22:23:36.202Z"
   },
   {
    "duration": 10,
    "start_time": "2023-07-19T22:23:36.392Z"
   },
   {
    "duration": 237,
    "start_time": "2023-07-19T22:23:36.403Z"
   },
   {
    "duration": 10,
    "start_time": "2023-07-19T22:23:36.652Z"
   },
   {
    "duration": 240,
    "start_time": "2023-07-19T22:23:36.663Z"
   },
   {
    "duration": 13,
    "start_time": "2023-07-19T22:23:36.905Z"
   },
   {
    "duration": 215,
    "start_time": "2023-07-19T22:23:36.919Z"
   },
   {
    "duration": 24,
    "start_time": "2023-07-19T22:23:37.135Z"
   },
   {
    "duration": 5,
    "start_time": "2023-07-19T22:23:37.160Z"
   },
   {
    "duration": 22,
    "start_time": "2023-07-19T22:23:37.166Z"
   },
   {
    "duration": 13,
    "start_time": "2023-07-19T22:23:37.189Z"
   },
   {
    "duration": 12,
    "start_time": "2023-07-19T22:23:37.203Z"
   },
   {
    "duration": 27,
    "start_time": "2023-07-19T22:23:37.217Z"
   },
   {
    "duration": 119,
    "start_time": "2023-07-19T22:23:37.246Z"
   },
   {
    "duration": 120,
    "start_time": "2023-07-19T22:23:37.366Z"
   },
   {
    "duration": 9,
    "start_time": "2023-07-19T22:23:37.487Z"
   },
   {
    "duration": 193,
    "start_time": "2023-07-19T22:23:37.497Z"
   },
   {
    "duration": 9,
    "start_time": "2023-07-19T22:23:37.692Z"
   },
   {
    "duration": 168,
    "start_time": "2023-07-19T22:23:37.703Z"
   },
   {
    "duration": 10,
    "start_time": "2023-07-19T22:23:37.873Z"
   },
   {
    "duration": 10,
    "start_time": "2023-07-19T22:23:37.885Z"
   },
   {
    "duration": 273,
    "start_time": "2023-07-19T22:23:37.896Z"
   },
   {
    "duration": 8,
    "start_time": "2023-07-19T22:23:38.171Z"
   },
   {
    "duration": 301,
    "start_time": "2023-07-19T22:23:38.181Z"
   },
   {
    "duration": 297,
    "start_time": "2023-07-19T22:23:38.484Z"
   },
   {
    "duration": 30,
    "start_time": "2023-07-19T22:24:00.481Z"
   },
   {
    "duration": 24,
    "start_time": "2023-07-19T22:26:55.694Z"
   },
   {
    "duration": 3078,
    "start_time": "2023-07-19T22:28:39.642Z"
   },
   {
    "duration": 2675,
    "start_time": "2023-07-19T22:29:37.803Z"
   },
   {
    "duration": 15,
    "start_time": "2023-07-19T22:31:57.564Z"
   },
   {
    "duration": 23,
    "start_time": "2023-07-19T22:32:02.772Z"
   },
   {
    "duration": 109,
    "start_time": "2023-07-19T22:32:33.663Z"
   },
   {
    "duration": 1251,
    "start_time": "2023-07-19T22:32:40.125Z"
   },
   {
    "duration": 42,
    "start_time": "2023-07-19T22:32:41.378Z"
   },
   {
    "duration": 12,
    "start_time": "2023-07-19T22:32:41.421Z"
   },
   {
    "duration": 23,
    "start_time": "2023-07-19T22:32:41.435Z"
   },
   {
    "duration": 13,
    "start_time": "2023-07-19T22:32:41.460Z"
   },
   {
    "duration": 14,
    "start_time": "2023-07-19T22:32:41.474Z"
   },
   {
    "duration": 22,
    "start_time": "2023-07-19T22:32:41.490Z"
   },
   {
    "duration": 18,
    "start_time": "2023-07-19T22:32:41.513Z"
   },
   {
    "duration": 9,
    "start_time": "2023-07-19T22:32:41.533Z"
   },
   {
    "duration": 9,
    "start_time": "2023-07-19T22:32:41.551Z"
   },
   {
    "duration": 16,
    "start_time": "2023-07-19T22:32:41.562Z"
   },
   {
    "duration": 17,
    "start_time": "2023-07-19T22:32:41.579Z"
   },
   {
    "duration": 25,
    "start_time": "2023-07-19T22:32:41.597Z"
   },
   {
    "duration": 19,
    "start_time": "2023-07-19T22:32:41.623Z"
   },
   {
    "duration": 17,
    "start_time": "2023-07-19T22:32:41.644Z"
   },
   {
    "duration": 11,
    "start_time": "2023-07-19T22:32:41.663Z"
   },
   {
    "duration": 133,
    "start_time": "2023-07-19T22:32:41.675Z"
   },
   {
    "duration": 15,
    "start_time": "2023-07-19T22:32:41.810Z"
   },
   {
    "duration": 30,
    "start_time": "2023-07-19T22:32:41.826Z"
   },
   {
    "duration": 4,
    "start_time": "2023-07-19T22:32:41.858Z"
   },
   {
    "duration": 36,
    "start_time": "2023-07-19T22:32:41.863Z"
   },
   {
    "duration": 14,
    "start_time": "2023-07-19T22:32:41.902Z"
   },
   {
    "duration": 40,
    "start_time": "2023-07-19T22:32:41.918Z"
   },
   {
    "duration": 20,
    "start_time": "2023-07-19T22:32:41.959Z"
   },
   {
    "duration": 11,
    "start_time": "2023-07-19T22:32:41.981Z"
   },
   {
    "duration": 204,
    "start_time": "2023-07-19T22:32:41.994Z"
   },
   {
    "duration": 12,
    "start_time": "2023-07-19T22:32:42.199Z"
   },
   {
    "duration": 179,
    "start_time": "2023-07-19T22:32:42.215Z"
   },
   {
    "duration": 207,
    "start_time": "2023-07-19T22:32:42.396Z"
   },
   {
    "duration": 11,
    "start_time": "2023-07-19T22:32:42.606Z"
   },
   {
    "duration": 163,
    "start_time": "2023-07-19T22:32:42.619Z"
   },
   {
    "duration": 11,
    "start_time": "2023-07-19T22:32:42.784Z"
   },
   {
    "duration": 354,
    "start_time": "2023-07-19T22:32:42.797Z"
   },
   {
    "duration": 12,
    "start_time": "2023-07-19T22:32:43.153Z"
   },
   {
    "duration": 211,
    "start_time": "2023-07-19T22:32:43.167Z"
   },
   {
    "duration": 18,
    "start_time": "2023-07-19T22:32:43.380Z"
   },
   {
    "duration": 5,
    "start_time": "2023-07-19T22:32:43.399Z"
   },
   {
    "duration": 8,
    "start_time": "2023-07-19T22:32:43.406Z"
   },
   {
    "duration": 22,
    "start_time": "2023-07-19T22:32:43.416Z"
   },
   {
    "duration": 15,
    "start_time": "2023-07-19T22:32:43.440Z"
   },
   {
    "duration": 15,
    "start_time": "2023-07-19T22:32:43.456Z"
   },
   {
    "duration": 131,
    "start_time": "2023-07-19T22:32:43.472Z"
   },
   {
    "duration": 126,
    "start_time": "2023-07-19T22:32:43.605Z"
   },
   {
    "duration": 9,
    "start_time": "2023-07-19T22:32:43.732Z"
   },
   {
    "duration": 184,
    "start_time": "2023-07-19T22:32:43.752Z"
   },
   {
    "duration": 9,
    "start_time": "2023-07-19T22:32:43.937Z"
   },
   {
    "duration": 182,
    "start_time": "2023-07-19T22:32:43.952Z"
   },
   {
    "duration": 17,
    "start_time": "2023-07-19T22:32:44.136Z"
   },
   {
    "duration": 8,
    "start_time": "2023-07-19T22:32:44.155Z"
   },
   {
    "duration": 222,
    "start_time": "2023-07-19T22:32:44.165Z"
   },
   {
    "duration": 8,
    "start_time": "2023-07-19T22:32:44.389Z"
   },
   {
    "duration": 245,
    "start_time": "2023-07-19T22:32:44.398Z"
   },
   {
    "duration": 374,
    "start_time": "2023-07-19T22:32:44.646Z"
   },
   {
    "duration": 19,
    "start_time": "2023-07-19T22:33:22.177Z"
   },
   {
    "duration": 1234,
    "start_time": "2023-07-19T22:35:32.021Z"
   },
   {
    "duration": 42,
    "start_time": "2023-07-19T22:35:33.257Z"
   },
   {
    "duration": 12,
    "start_time": "2023-07-19T22:35:33.300Z"
   },
   {
    "duration": 38,
    "start_time": "2023-07-19T22:35:33.314Z"
   },
   {
    "duration": 14,
    "start_time": "2023-07-19T22:35:33.354Z"
   },
   {
    "duration": 20,
    "start_time": "2023-07-19T22:35:33.369Z"
   },
   {
    "duration": 11,
    "start_time": "2023-07-19T22:35:33.391Z"
   },
   {
    "duration": 11,
    "start_time": "2023-07-19T22:35:33.403Z"
   },
   {
    "duration": 10,
    "start_time": "2023-07-19T22:35:33.415Z"
   },
   {
    "duration": 14,
    "start_time": "2023-07-19T22:35:33.428Z"
   },
   {
    "duration": 22,
    "start_time": "2023-07-19T22:35:33.444Z"
   },
   {
    "duration": 21,
    "start_time": "2023-07-19T22:35:33.467Z"
   },
   {
    "duration": 8,
    "start_time": "2023-07-19T22:35:33.489Z"
   },
   {
    "duration": 14,
    "start_time": "2023-07-19T22:35:33.499Z"
   },
   {
    "duration": 12,
    "start_time": "2023-07-19T22:35:33.515Z"
   },
   {
    "duration": 24,
    "start_time": "2023-07-19T22:35:33.528Z"
   },
   {
    "duration": 121,
    "start_time": "2023-07-19T22:35:33.554Z"
   },
   {
    "duration": 12,
    "start_time": "2023-07-19T22:35:33.677Z"
   },
   {
    "duration": 15,
    "start_time": "2023-07-19T22:35:33.690Z"
   },
   {
    "duration": 13,
    "start_time": "2023-07-19T22:35:33.707Z"
   },
   {
    "duration": 50,
    "start_time": "2023-07-19T22:35:33.721Z"
   },
   {
    "duration": 15,
    "start_time": "2023-07-19T22:35:33.773Z"
   },
   {
    "duration": 27,
    "start_time": "2023-07-19T22:35:33.790Z"
   },
   {
    "duration": 30,
    "start_time": "2023-07-19T22:35:33.819Z"
   },
   {
    "duration": 12,
    "start_time": "2023-07-19T22:35:33.851Z"
   },
   {
    "duration": 181,
    "start_time": "2023-07-19T22:35:33.865Z"
   },
   {
    "duration": 14,
    "start_time": "2023-07-19T22:35:34.048Z"
   },
   {
    "duration": 178,
    "start_time": "2023-07-19T22:35:34.065Z"
   },
   {
    "duration": 184,
    "start_time": "2023-07-19T22:35:34.245Z"
   },
   {
    "duration": 12,
    "start_time": "2023-07-19T22:35:34.430Z"
   },
   {
    "duration": 162,
    "start_time": "2023-07-19T22:35:34.452Z"
   },
   {
    "duration": 12,
    "start_time": "2023-07-19T22:35:34.615Z"
   },
   {
    "duration": 360,
    "start_time": "2023-07-19T22:35:34.628Z"
   },
   {
    "duration": 13,
    "start_time": "2023-07-19T22:35:34.990Z"
   },
   {
    "duration": 215,
    "start_time": "2023-07-19T22:35:35.004Z"
   },
   {
    "duration": 16,
    "start_time": "2023-07-19T22:35:35.221Z"
   },
   {
    "duration": 16,
    "start_time": "2023-07-19T22:35:35.239Z"
   },
   {
    "duration": 16,
    "start_time": "2023-07-19T22:35:35.257Z"
   },
   {
    "duration": 12,
    "start_time": "2023-07-19T22:35:35.275Z"
   },
   {
    "duration": 18,
    "start_time": "2023-07-19T22:35:35.289Z"
   },
   {
    "duration": 37,
    "start_time": "2023-07-19T22:35:35.309Z"
   },
   {
    "duration": 147,
    "start_time": "2023-07-19T22:35:35.348Z"
   },
   {
    "duration": 122,
    "start_time": "2023-07-19T22:35:35.496Z"
   },
   {
    "duration": 11,
    "start_time": "2023-07-19T22:35:35.620Z"
   },
   {
    "duration": 193,
    "start_time": "2023-07-19T22:35:35.632Z"
   },
   {
    "duration": 9,
    "start_time": "2023-07-19T22:35:35.827Z"
   },
   {
    "duration": 180,
    "start_time": "2023-07-19T22:35:35.838Z"
   },
   {
    "duration": 10,
    "start_time": "2023-07-19T22:35:36.020Z"
   },
   {
    "duration": 43,
    "start_time": "2023-07-19T22:35:36.031Z"
   },
   {
    "duration": 207,
    "start_time": "2023-07-19T22:35:36.076Z"
   },
   {
    "duration": 7,
    "start_time": "2023-07-19T22:35:36.285Z"
   },
   {
    "duration": 242,
    "start_time": "2023-07-19T22:35:36.294Z"
   },
   {
    "duration": 237,
    "start_time": "2023-07-19T22:35:36.538Z"
   },
   {
    "duration": 130,
    "start_time": "2023-07-19T22:38:08.192Z"
   },
   {
    "duration": 19,
    "start_time": "2023-07-19T22:38:17.792Z"
   },
   {
    "duration": 11,
    "start_time": "2023-07-19T22:38:39.799Z"
   },
   {
    "duration": 21,
    "start_time": "2023-07-19T22:41:15.507Z"
   },
   {
    "duration": 9,
    "start_time": "2023-07-19T22:44:36.835Z"
   },
   {
    "duration": 13,
    "start_time": "2023-07-19T22:44:43.804Z"
   },
   {
    "duration": 6,
    "start_time": "2023-07-19T22:44:46.069Z"
   },
   {
    "duration": 5,
    "start_time": "2023-07-19T22:46:28.194Z"
   },
   {
    "duration": 6,
    "start_time": "2023-07-19T22:49:28.435Z"
   },
   {
    "duration": 135,
    "start_time": "2023-07-19T22:49:30.487Z"
   },
   {
    "duration": 14,
    "start_time": "2023-07-19T22:49:35.860Z"
   },
   {
    "duration": 15,
    "start_time": "2023-07-19T22:49:36.980Z"
   },
   {
    "duration": 19,
    "start_time": "2023-07-19T22:49:38.110Z"
   },
   {
    "duration": 15,
    "start_time": "2023-07-19T22:49:48.294Z"
   },
   {
    "duration": 168,
    "start_time": "2023-07-19T22:49:49.582Z"
   },
   {
    "duration": 175,
    "start_time": "2023-07-19T22:51:25.760Z"
   },
   {
    "duration": 12,
    "start_time": "2023-07-19T22:55:46.671Z"
   },
   {
    "duration": 156,
    "start_time": "2023-07-19T22:57:36.879Z"
   },
   {
    "duration": 10,
    "start_time": "2023-07-19T22:59:21.691Z"
   },
   {
    "duration": 149,
    "start_time": "2023-07-19T22:59:40.867Z"
   },
   {
    "duration": 11,
    "start_time": "2023-07-19T23:01:42.341Z"
   },
   {
    "duration": 13,
    "start_time": "2023-07-19T23:03:13.693Z"
   },
   {
    "duration": 19,
    "start_time": "2023-07-19T23:05:30.397Z"
   },
   {
    "duration": 5,
    "start_time": "2023-07-19T23:05:38.026Z"
   },
   {
    "duration": 6,
    "start_time": "2023-07-19T23:05:38.887Z"
   },
   {
    "duration": 6,
    "start_time": "2023-07-19T23:05:45.711Z"
   },
   {
    "duration": 6,
    "start_time": "2023-07-19T23:05:46.715Z"
   },
   {
    "duration": 295,
    "start_time": "2023-07-19T23:16:28.524Z"
   },
   {
    "duration": 647,
    "start_time": "2023-07-19T23:17:56.198Z"
   }
  ],
  "kernelspec": {
   "display_name": "Python 3 (ipykernel)",
   "language": "python",
   "name": "python3"
  },
  "language_info": {
   "codemirror_mode": {
    "name": "ipython",
    "version": 3
   },
   "file_extension": ".py",
   "mimetype": "text/x-python",
   "name": "python",
   "nbconvert_exporter": "python",
   "pygments_lexer": "ipython3",
   "version": "3.10.9"
  },
  "toc": {
   "base_numbering": 1,
   "nav_menu": {},
   "number_sections": true,
   "sideBar": true,
   "skip_h1_title": true,
   "title_cell": "Table of Contents",
   "title_sidebar": "Contents",
   "toc_cell": false,
   "toc_position": {},
   "toc_section_display": true,
   "toc_window_display": false
  }
 },
 "nbformat": 4,
 "nbformat_minor": 2
}
