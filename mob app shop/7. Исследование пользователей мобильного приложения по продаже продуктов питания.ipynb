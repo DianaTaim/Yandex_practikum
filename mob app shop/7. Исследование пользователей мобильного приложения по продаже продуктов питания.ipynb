{
 "cells": [
  {
   "cell_type": "markdown",
   "metadata": {},
   "source": [
    "### Проект по исследованию пользователей мобильного приложения по продаже продуктов питания"
   ]
  },
  {
   "cell_type": "markdown",
   "metadata": {},
   "source": [
    "Необходимо исследовать поведение пользователей мобильного приложения, оценить результаты А/А/В тестирования"
   ]
  },
  {
   "cell_type": "markdown",
   "metadata": {},
   "source": [
    "### План работы\n",
    "\n",
    "1. Ознакомиться с данными\n",
    "2. Предобработка данных (преобразовать названия столбцов, проверить пропуски и типы данных, добавить столбец даты и времени)\n",
    "3. Исследовать данные (определить количество событий в логе, количество пользователей, сколько событий приходится на пользователя, определить макс. и мин. даты, проверить распределение пользователей по группам)\n",
    "4. Проанализировать воронку событий(Определить события в датасете, в каком порядке происходят события,расчитать соотношения пользователей к предыдущему шагу, доля польхователей доходящих до оплаты)\n",
    "5. Изучить результаты эксперимента (есть ли разница между выборками, сравнить группы по событиям)\n",
    "6. Сформулировать вывод"
   ]
  },
  {
   "cell_type": "markdown",
   "metadata": {},
   "source": [
    "### Описание данных\n",
    "\n",
    "Каждая запись в логе — это действие пользователя, или событие. \n",
    "\n",
    "- `EventName` — название события;\n",
    "- `DeviceIDHash` — уникальный идентификатор пользователя;\n",
    "- `EventTimestamp` — время события;\n",
    "- `ExpId` — номер эксперимента: 246 и 247 — контрольные группы, а 248 — экспериментальная."
   ]
  },
  {
   "cell_type": "markdown",
   "metadata": {},
   "source": [
    "### Знакомство с данными"
   ]
  },
  {
   "cell_type": "code",
   "execution_count": 1,
   "metadata": {},
   "outputs": [],
   "source": [
    "import pandas as pd\n",
    "import matplotlib.pyplot as plt\n",
    "import math as mth\n",
    "import numpy as np\n",
    "import datetime as dt\n",
    "from scipy import stats as st\n"
   ]
  },
  {
   "cell_type": "code",
   "execution_count": 2,
   "metadata": {},
   "outputs": [],
   "source": [
    "try:\n",
    "    data = pd.read_csv('/datasets/logs_exp.csv', sep='\\t')\n",
    "except:\n",
    "    data = pd.read_csv('https://code.s3.yandex.net/datasets/logs_exp.csv', sep='\\t')"
   ]
  },
  {
   "cell_type": "code",
   "execution_count": 3,
   "metadata": {},
   "outputs": [
    {
     "data": {
      "text/html": [
       "<div>\n",
       "<style scoped>\n",
       "    .dataframe tbody tr th:only-of-type {\n",
       "        vertical-align: middle;\n",
       "    }\n",
       "\n",
       "    .dataframe tbody tr th {\n",
       "        vertical-align: top;\n",
       "    }\n",
       "\n",
       "    .dataframe thead th {\n",
       "        text-align: right;\n",
       "    }\n",
       "</style>\n",
       "<table border=\"1\" class=\"dataframe\">\n",
       "  <thead>\n",
       "    <tr style=\"text-align: right;\">\n",
       "      <th></th>\n",
       "      <th>EventName</th>\n",
       "      <th>DeviceIDHash</th>\n",
       "      <th>EventTimestamp</th>\n",
       "      <th>ExpId</th>\n",
       "    </tr>\n",
       "  </thead>\n",
       "  <tbody>\n",
       "    <tr>\n",
       "      <th>0</th>\n",
       "      <td>MainScreenAppear</td>\n",
       "      <td>4575588528974610257</td>\n",
       "      <td>1564029816</td>\n",
       "      <td>246</td>\n",
       "    </tr>\n",
       "    <tr>\n",
       "      <th>1</th>\n",
       "      <td>MainScreenAppear</td>\n",
       "      <td>7416695313311560658</td>\n",
       "      <td>1564053102</td>\n",
       "      <td>246</td>\n",
       "    </tr>\n",
       "    <tr>\n",
       "      <th>2</th>\n",
       "      <td>PaymentScreenSuccessful</td>\n",
       "      <td>3518123091307005509</td>\n",
       "      <td>1564054127</td>\n",
       "      <td>248</td>\n",
       "    </tr>\n",
       "    <tr>\n",
       "      <th>3</th>\n",
       "      <td>CartScreenAppear</td>\n",
       "      <td>3518123091307005509</td>\n",
       "      <td>1564054127</td>\n",
       "      <td>248</td>\n",
       "    </tr>\n",
       "    <tr>\n",
       "      <th>4</th>\n",
       "      <td>PaymentScreenSuccessful</td>\n",
       "      <td>6217807653094995999</td>\n",
       "      <td>1564055322</td>\n",
       "      <td>248</td>\n",
       "    </tr>\n",
       "  </tbody>\n",
       "</table>\n",
       "</div>"
      ],
      "text/plain": [
       "                 EventName         DeviceIDHash  EventTimestamp  ExpId\n",
       "0         MainScreenAppear  4575588528974610257      1564029816    246\n",
       "1         MainScreenAppear  7416695313311560658      1564053102    246\n",
       "2  PaymentScreenSuccessful  3518123091307005509      1564054127    248\n",
       "3         CartScreenAppear  3518123091307005509      1564054127    248\n",
       "4  PaymentScreenSuccessful  6217807653094995999      1564055322    248"
      ]
     },
     "metadata": {},
     "output_type": "display_data"
    }
   ],
   "source": [
    "display(data.head(5))"
   ]
  },
  {
   "cell_type": "code",
   "execution_count": 4,
   "metadata": {},
   "outputs": [
    {
     "name": "stdout",
     "output_type": "stream",
     "text": [
      "<class 'pandas.core.frame.DataFrame'>\n",
      "RangeIndex: 244126 entries, 0 to 244125\n",
      "Data columns (total 4 columns):\n",
      " #   Column          Non-Null Count   Dtype \n",
      "---  ------          --------------   ----- \n",
      " 0   EventName       244126 non-null  object\n",
      " 1   DeviceIDHash    244126 non-null  int64 \n",
      " 2   EventTimestamp  244126 non-null  int64 \n",
      " 3   ExpId           244126 non-null  int64 \n",
      "dtypes: int64(3), object(1)\n",
      "memory usage: 7.5+ MB\n"
     ]
    }
   ],
   "source": [
    "data.info()"
   ]
  },
  {
   "cell_type": "markdown",
   "metadata": {},
   "source": [
    "### Предобработка данных"
   ]
  },
  {
   "cell_type": "code",
   "execution_count": 5,
   "metadata": {},
   "outputs": [
    {
     "data": {
      "text/html": [
       "<div>\n",
       "<style scoped>\n",
       "    .dataframe tbody tr th:only-of-type {\n",
       "        vertical-align: middle;\n",
       "    }\n",
       "\n",
       "    .dataframe tbody tr th {\n",
       "        vertical-align: top;\n",
       "    }\n",
       "\n",
       "    .dataframe thead th {\n",
       "        text-align: right;\n",
       "    }\n",
       "</style>\n",
       "<table border=\"1\" class=\"dataframe\">\n",
       "  <thead>\n",
       "    <tr style=\"text-align: right;\">\n",
       "      <th></th>\n",
       "      <th>event_name</th>\n",
       "      <th>user_id</th>\n",
       "      <th>event_time</th>\n",
       "      <th>exp_id</th>\n",
       "    </tr>\n",
       "  </thead>\n",
       "  <tbody>\n",
       "    <tr>\n",
       "      <th>0</th>\n",
       "      <td>MainScreenAppear</td>\n",
       "      <td>4575588528974610257</td>\n",
       "      <td>1564029816</td>\n",
       "      <td>246</td>\n",
       "    </tr>\n",
       "    <tr>\n",
       "      <th>1</th>\n",
       "      <td>MainScreenAppear</td>\n",
       "      <td>7416695313311560658</td>\n",
       "      <td>1564053102</td>\n",
       "      <td>246</td>\n",
       "    </tr>\n",
       "    <tr>\n",
       "      <th>2</th>\n",
       "      <td>PaymentScreenSuccessful</td>\n",
       "      <td>3518123091307005509</td>\n",
       "      <td>1564054127</td>\n",
       "      <td>248</td>\n",
       "    </tr>\n",
       "    <tr>\n",
       "      <th>3</th>\n",
       "      <td>CartScreenAppear</td>\n",
       "      <td>3518123091307005509</td>\n",
       "      <td>1564054127</td>\n",
       "      <td>248</td>\n",
       "    </tr>\n",
       "    <tr>\n",
       "      <th>4</th>\n",
       "      <td>PaymentScreenSuccessful</td>\n",
       "      <td>6217807653094995999</td>\n",
       "      <td>1564055322</td>\n",
       "      <td>248</td>\n",
       "    </tr>\n",
       "  </tbody>\n",
       "</table>\n",
       "</div>"
      ],
      "text/plain": [
       "                event_name              user_id  event_time  exp_id\n",
       "0         MainScreenAppear  4575588528974610257  1564029816     246\n",
       "1         MainScreenAppear  7416695313311560658  1564053102     246\n",
       "2  PaymentScreenSuccessful  3518123091307005509  1564054127     248\n",
       "3         CartScreenAppear  3518123091307005509  1564054127     248\n",
       "4  PaymentScreenSuccessful  6217807653094995999  1564055322     248"
      ]
     },
     "metadata": {},
     "output_type": "display_data"
    }
   ],
   "source": [
    "data = data.rename(columns={'EventName':'event_name', 'DeviceIDHash':'user_id','EventTimestamp':'event_time', 'ExpId':'exp_id'})\n",
    "display(data.head(5))"
   ]
  },
  {
   "cell_type": "code",
   "execution_count": 6,
   "metadata": {},
   "outputs": [
    {
     "data": {
      "text/plain": [
       "event_name    0\n",
       "user_id       0\n",
       "event_time    0\n",
       "exp_id        0\n",
       "dtype: int64"
      ]
     },
     "metadata": {},
     "output_type": "display_data"
    }
   ],
   "source": [
    "display(data.isna().sum())"
   ]
  },
  {
   "cell_type": "code",
   "execution_count": 7,
   "metadata": {},
   "outputs": [
    {
     "data": {
      "text/html": [
       "<div>\n",
       "<style scoped>\n",
       "    .dataframe tbody tr th:only-of-type {\n",
       "        vertical-align: middle;\n",
       "    }\n",
       "\n",
       "    .dataframe tbody tr th {\n",
       "        vertical-align: top;\n",
       "    }\n",
       "\n",
       "    .dataframe thead th {\n",
       "        text-align: right;\n",
       "    }\n",
       "</style>\n",
       "<table border=\"1\" class=\"dataframe\">\n",
       "  <thead>\n",
       "    <tr style=\"text-align: right;\">\n",
       "      <th></th>\n",
       "      <th>event_name</th>\n",
       "      <th>user_id</th>\n",
       "      <th>event_time</th>\n",
       "      <th>exp_id</th>\n",
       "      <th>date</th>\n",
       "      <th>month</th>\n",
       "    </tr>\n",
       "  </thead>\n",
       "  <tbody>\n",
       "    <tr>\n",
       "      <th>0</th>\n",
       "      <td>MainScreenAppear</td>\n",
       "      <td>4575588528974610257</td>\n",
       "      <td>2019-07-25 04:43:36</td>\n",
       "      <td>246</td>\n",
       "      <td>2019-07-25</td>\n",
       "      <td>7</td>\n",
       "    </tr>\n",
       "    <tr>\n",
       "      <th>1</th>\n",
       "      <td>MainScreenAppear</td>\n",
       "      <td>7416695313311560658</td>\n",
       "      <td>2019-07-25 11:11:42</td>\n",
       "      <td>246</td>\n",
       "      <td>2019-07-25</td>\n",
       "      <td>7</td>\n",
       "    </tr>\n",
       "    <tr>\n",
       "      <th>2</th>\n",
       "      <td>PaymentScreenSuccessful</td>\n",
       "      <td>3518123091307005509</td>\n",
       "      <td>2019-07-25 11:28:47</td>\n",
       "      <td>248</td>\n",
       "      <td>2019-07-25</td>\n",
       "      <td>7</td>\n",
       "    </tr>\n",
       "    <tr>\n",
       "      <th>3</th>\n",
       "      <td>CartScreenAppear</td>\n",
       "      <td>3518123091307005509</td>\n",
       "      <td>2019-07-25 11:28:47</td>\n",
       "      <td>248</td>\n",
       "      <td>2019-07-25</td>\n",
       "      <td>7</td>\n",
       "    </tr>\n",
       "    <tr>\n",
       "      <th>4</th>\n",
       "      <td>PaymentScreenSuccessful</td>\n",
       "      <td>6217807653094995999</td>\n",
       "      <td>2019-07-25 11:48:42</td>\n",
       "      <td>248</td>\n",
       "      <td>2019-07-25</td>\n",
       "      <td>7</td>\n",
       "    </tr>\n",
       "    <tr>\n",
       "      <th>...</th>\n",
       "      <td>...</td>\n",
       "      <td>...</td>\n",
       "      <td>...</td>\n",
       "      <td>...</td>\n",
       "      <td>...</td>\n",
       "      <td>...</td>\n",
       "    </tr>\n",
       "    <tr>\n",
       "      <th>244121</th>\n",
       "      <td>MainScreenAppear</td>\n",
       "      <td>4599628364049201812</td>\n",
       "      <td>2019-08-07 21:12:25</td>\n",
       "      <td>247</td>\n",
       "      <td>2019-08-07</td>\n",
       "      <td>8</td>\n",
       "    </tr>\n",
       "    <tr>\n",
       "      <th>244122</th>\n",
       "      <td>MainScreenAppear</td>\n",
       "      <td>5849806612437486590</td>\n",
       "      <td>2019-08-07 21:13:59</td>\n",
       "      <td>246</td>\n",
       "      <td>2019-08-07</td>\n",
       "      <td>8</td>\n",
       "    </tr>\n",
       "    <tr>\n",
       "      <th>244123</th>\n",
       "      <td>MainScreenAppear</td>\n",
       "      <td>5746969938801999050</td>\n",
       "      <td>2019-08-07 21:14:43</td>\n",
       "      <td>246</td>\n",
       "      <td>2019-08-07</td>\n",
       "      <td>8</td>\n",
       "    </tr>\n",
       "    <tr>\n",
       "      <th>244124</th>\n",
       "      <td>MainScreenAppear</td>\n",
       "      <td>5746969938801999050</td>\n",
       "      <td>2019-08-07 21:14:58</td>\n",
       "      <td>246</td>\n",
       "      <td>2019-08-07</td>\n",
       "      <td>8</td>\n",
       "    </tr>\n",
       "    <tr>\n",
       "      <th>244125</th>\n",
       "      <td>OffersScreenAppear</td>\n",
       "      <td>5746969938801999050</td>\n",
       "      <td>2019-08-07 21:15:17</td>\n",
       "      <td>246</td>\n",
       "      <td>2019-08-07</td>\n",
       "      <td>8</td>\n",
       "    </tr>\n",
       "  </tbody>\n",
       "</table>\n",
       "<p>244126 rows × 6 columns</p>\n",
       "</div>"
      ],
      "text/plain": [
       "                     event_name              user_id          event_time  \\\n",
       "0              MainScreenAppear  4575588528974610257 2019-07-25 04:43:36   \n",
       "1              MainScreenAppear  7416695313311560658 2019-07-25 11:11:42   \n",
       "2       PaymentScreenSuccessful  3518123091307005509 2019-07-25 11:28:47   \n",
       "3              CartScreenAppear  3518123091307005509 2019-07-25 11:28:47   \n",
       "4       PaymentScreenSuccessful  6217807653094995999 2019-07-25 11:48:42   \n",
       "...                         ...                  ...                 ...   \n",
       "244121         MainScreenAppear  4599628364049201812 2019-08-07 21:12:25   \n",
       "244122         MainScreenAppear  5849806612437486590 2019-08-07 21:13:59   \n",
       "244123         MainScreenAppear  5746969938801999050 2019-08-07 21:14:43   \n",
       "244124         MainScreenAppear  5746969938801999050 2019-08-07 21:14:58   \n",
       "244125       OffersScreenAppear  5746969938801999050 2019-08-07 21:15:17   \n",
       "\n",
       "        exp_id        date  month  \n",
       "0          246  2019-07-25      7  \n",
       "1          246  2019-07-25      7  \n",
       "2          248  2019-07-25      7  \n",
       "3          248  2019-07-25      7  \n",
       "4          248  2019-07-25      7  \n",
       "...        ...         ...    ...  \n",
       "244121     247  2019-08-07      8  \n",
       "244122     246  2019-08-07      8  \n",
       "244123     246  2019-08-07      8  \n",
       "244124     246  2019-08-07      8  \n",
       "244125     246  2019-08-07      8  \n",
       "\n",
       "[244126 rows x 6 columns]"
      ]
     },
     "metadata": {},
     "output_type": "display_data"
    },
    {
     "name": "stdout",
     "output_type": "stream",
     "text": [
      "<class 'pandas.core.frame.DataFrame'>\n",
      "RangeIndex: 244126 entries, 0 to 244125\n",
      "Data columns (total 6 columns):\n",
      " #   Column      Non-Null Count   Dtype         \n",
      "---  ------      --------------   -----         \n",
      " 0   event_name  244126 non-null  object        \n",
      " 1   user_id     244126 non-null  int64         \n",
      " 2   event_time  244126 non-null  datetime64[ns]\n",
      " 3   exp_id      244126 non-null  int64         \n",
      " 4   date        244126 non-null  object        \n",
      " 5   month       244126 non-null  int64         \n",
      "dtypes: datetime64[ns](1), int64(3), object(2)\n",
      "memory usage: 11.2+ MB\n"
     ]
    }
   ],
   "source": [
    "data['event_time'] = pd.to_datetime(data['event_time'], unit='s')\n",
    "data['date']= pd.to_datetime(data['event_time'], unit='s').dt.date\n",
    "data['month']= pd.to_datetime(data['event_time'], unit='s').dt.month\n",
    "display(data)\n",
    "data.info()"
   ]
  },
  {
   "cell_type": "code",
   "execution_count": 8,
   "metadata": {},
   "outputs": [
    {
     "data": {
      "text/plain": [
       "array(['MainScreenAppear', 'PaymentScreenSuccessful', 'CartScreenAppear',\n",
       "       'OffersScreenAppear', 'Tutorial'], dtype=object)"
      ]
     },
     "metadata": {},
     "output_type": "display_data"
    }
   ],
   "source": [
    "display(data['event_name'].unique())"
   ]
  },
  {
   "cell_type": "code",
   "execution_count": 9,
   "metadata": {},
   "outputs": [
    {
     "data": {
      "text/plain": [
       "413"
      ]
     },
     "metadata": {},
     "output_type": "display_data"
    }
   ],
   "source": [
    "display(data.duplicated().sum())"
   ]
  },
  {
   "cell_type": "code",
   "execution_count": 10,
   "metadata": {},
   "outputs": [
    {
     "data": {
      "text/html": [
       "<div>\n",
       "<style scoped>\n",
       "    .dataframe tbody tr th:only-of-type {\n",
       "        vertical-align: middle;\n",
       "    }\n",
       "\n",
       "    .dataframe tbody tr th {\n",
       "        vertical-align: top;\n",
       "    }\n",
       "\n",
       "    .dataframe thead th {\n",
       "        text-align: right;\n",
       "    }\n",
       "</style>\n",
       "<table border=\"1\" class=\"dataframe\">\n",
       "  <thead>\n",
       "    <tr style=\"text-align: right;\">\n",
       "      <th></th>\n",
       "      <th>event_name</th>\n",
       "      <th>user_id</th>\n",
       "      <th>event_time</th>\n",
       "      <th>exp_id</th>\n",
       "      <th>date</th>\n",
       "      <th>month</th>\n",
       "    </tr>\n",
       "  </thead>\n",
       "  <tbody>\n",
       "    <tr>\n",
       "      <th>0</th>\n",
       "      <td>MainScreenAppear</td>\n",
       "      <td>4575588528974610257</td>\n",
       "      <td>2019-07-25 04:43:36</td>\n",
       "      <td>246</td>\n",
       "      <td>2019-07-25</td>\n",
       "      <td>7</td>\n",
       "    </tr>\n",
       "    <tr>\n",
       "      <th>1</th>\n",
       "      <td>MainScreenAppear</td>\n",
       "      <td>7416695313311560658</td>\n",
       "      <td>2019-07-25 11:11:42</td>\n",
       "      <td>246</td>\n",
       "      <td>2019-07-25</td>\n",
       "      <td>7</td>\n",
       "    </tr>\n",
       "    <tr>\n",
       "      <th>2</th>\n",
       "      <td>PaymentScreenSuccessful</td>\n",
       "      <td>3518123091307005509</td>\n",
       "      <td>2019-07-25 11:28:47</td>\n",
       "      <td>248</td>\n",
       "      <td>2019-07-25</td>\n",
       "      <td>7</td>\n",
       "    </tr>\n",
       "    <tr>\n",
       "      <th>3</th>\n",
       "      <td>CartScreenAppear</td>\n",
       "      <td>3518123091307005509</td>\n",
       "      <td>2019-07-25 11:28:47</td>\n",
       "      <td>248</td>\n",
       "      <td>2019-07-25</td>\n",
       "      <td>7</td>\n",
       "    </tr>\n",
       "    <tr>\n",
       "      <th>4</th>\n",
       "      <td>PaymentScreenSuccessful</td>\n",
       "      <td>6217807653094995999</td>\n",
       "      <td>2019-07-25 11:48:42</td>\n",
       "      <td>248</td>\n",
       "      <td>2019-07-25</td>\n",
       "      <td>7</td>\n",
       "    </tr>\n",
       "  </tbody>\n",
       "</table>\n",
       "</div>"
      ],
      "text/plain": [
       "                event_name              user_id          event_time  exp_id  \\\n",
       "0         MainScreenAppear  4575588528974610257 2019-07-25 04:43:36     246   \n",
       "1         MainScreenAppear  7416695313311560658 2019-07-25 11:11:42     246   \n",
       "2  PaymentScreenSuccessful  3518123091307005509 2019-07-25 11:28:47     248   \n",
       "3         CartScreenAppear  3518123091307005509 2019-07-25 11:28:47     248   \n",
       "4  PaymentScreenSuccessful  6217807653094995999 2019-07-25 11:48:42     248   \n",
       "\n",
       "         date  month  \n",
       "0  2019-07-25      7  \n",
       "1  2019-07-25      7  \n",
       "2  2019-07-25      7  \n",
       "3  2019-07-25      7  \n",
       "4  2019-07-25      7  "
      ]
     },
     "execution_count": 10,
     "metadata": {},
     "output_type": "execute_result"
    }
   ],
   "source": [
    "data = data.drop_duplicates().reset_index(drop=True)\n",
    "data.head(5)"
   ]
  },
  {
   "cell_type": "markdown",
   "metadata": {},
   "source": [
    "Вывод: изначальный датасет на 244126 строки. Названия столбцов приведены к нижнему регистру. Даты в верный формат, добавлен столбец 'date' - только даты без времени. Пропуски отсутвуют. Было найдено 413 дубликатов. После удаления дубликатов остались данные на 243713 строки."
   ]
  },
  {
   "cell_type": "markdown",
   "metadata": {},
   "source": [
    "## Проверка данных"
   ]
  },
  {
   "cell_type": "markdown",
   "metadata": {},
   "source": [
    "###### Сколько всего событий в логе?"
   ]
  },
  {
   "cell_type": "code",
   "execution_count": 11,
   "metadata": {},
   "outputs": [
    {
     "data": {
      "text/plain": [
       "'Событий в логе: '"
      ]
     },
     "metadata": {},
     "output_type": "display_data"
    },
    {
     "data": {
      "text/plain": [
       "243713"
      ]
     },
     "metadata": {},
     "output_type": "display_data"
    }
   ],
   "source": [
    "display('Событий в логе: ',data['event_name'].count())"
   ]
  },
  {
   "cell_type": "markdown",
   "metadata": {},
   "source": [
    "###### Сколько всего пользователей в логе?"
   ]
  },
  {
   "cell_type": "code",
   "execution_count": 12,
   "metadata": {},
   "outputs": [
    {
     "data": {
      "text/plain": [
       "'Всего пользователей в логе: '"
      ]
     },
     "metadata": {},
     "output_type": "display_data"
    },
    {
     "data": {
      "text/plain": [
       "7551"
      ]
     },
     "metadata": {},
     "output_type": "display_data"
    }
   ],
   "source": [
    "display('Всего пользователей в логе: ', data['user_id'].nunique())"
   ]
  },
  {
   "cell_type": "markdown",
   "metadata": {},
   "source": [
    "###### Сколько в среднем событий приходится на пользователя? "
   ]
  },
  {
   "cell_type": "code",
   "execution_count": 13,
   "metadata": {},
   "outputs": [
    {
     "data": {
      "text/plain": [
       "'Количество событий на одного пользователя'"
      ]
     },
     "metadata": {},
     "output_type": "display_data"
    },
    {
     "data": {
      "text/html": [
       "<div>\n",
       "<style scoped>\n",
       "    .dataframe tbody tr th:only-of-type {\n",
       "        vertical-align: middle;\n",
       "    }\n",
       "\n",
       "    .dataframe tbody tr th {\n",
       "        vertical-align: top;\n",
       "    }\n",
       "\n",
       "    .dataframe thead th {\n",
       "        text-align: right;\n",
       "    }\n",
       "</style>\n",
       "<table border=\"1\" class=\"dataframe\">\n",
       "  <thead>\n",
       "    <tr style=\"text-align: right;\">\n",
       "      <th></th>\n",
       "      <th>user_id</th>\n",
       "      <th>count</th>\n",
       "    </tr>\n",
       "  </thead>\n",
       "  <tbody>\n",
       "    <tr>\n",
       "      <th>5116</th>\n",
       "      <td>6304868067479728361</td>\n",
       "      <td>2307</td>\n",
       "    </tr>\n",
       "    <tr>\n",
       "      <th>147</th>\n",
       "      <td>197027893265565660</td>\n",
       "      <td>1998</td>\n",
       "    </tr>\n",
       "    <tr>\n",
       "      <th>3714</th>\n",
       "      <td>4623191541214045580</td>\n",
       "      <td>1768</td>\n",
       "    </tr>\n",
       "    <tr>\n",
       "      <th>5590</th>\n",
       "      <td>6932517045703054087</td>\n",
       "      <td>1439</td>\n",
       "    </tr>\n",
       "    <tr>\n",
       "      <th>1391</th>\n",
       "      <td>1754140665440434215</td>\n",
       "      <td>1221</td>\n",
       "    </tr>\n",
       "  </tbody>\n",
       "</table>\n",
       "</div>"
      ],
      "text/plain": [
       "                  user_id  count\n",
       "5116  6304868067479728361   2307\n",
       "147    197027893265565660   1998\n",
       "3714  4623191541214045580   1768\n",
       "5590  6932517045703054087   1439\n",
       "1391  1754140665440434215   1221"
      ]
     },
     "metadata": {},
     "output_type": "display_data"
    }
   ],
   "source": [
    "users_cnt_avg = data.groupby('user_id', as_index=False).agg({'event_time':'count'}).sort_values(by='event_time', ascending=False)\n",
    "users_cnt_avg.columns=['user_id', 'count']\n",
    "display('Количество событий на одного пользователя', users_cnt_avg.head())"
   ]
  },
  {
   "cell_type": "code",
   "execution_count": 14,
   "metadata": {},
   "outputs": [
    {
     "data": {
      "text/plain": [
       "count    7551.000000\n",
       "mean       32.275593\n",
       "std        65.154219\n",
       "min         1.000000\n",
       "25%         9.000000\n",
       "50%        20.000000\n",
       "75%        37.000000\n",
       "max      2307.000000\n",
       "Name: count, dtype: float64"
      ]
     },
     "execution_count": 14,
     "metadata": {},
     "output_type": "execute_result"
    }
   ],
   "source": [
    "users_cnt_avg['count'].describe()"
   ]
  },
  {
   "cell_type": "code",
   "execution_count": 15,
   "metadata": {},
   "outputs": [
    {
     "data": {
      "text/plain": [
       "'В среднем событий на пользователя:'"
      ]
     },
     "metadata": {},
     "output_type": "display_data"
    },
    {
     "data": {
      "text/plain": [
       "32.27559263673685"
      ]
     },
     "metadata": {},
     "output_type": "display_data"
    }
   ],
   "source": [
    "display('В среднем событий на пользователя:', users_cnt_avg['count'].mean())"
   ]
  },
  {
   "cell_type": "code",
   "execution_count": 16,
   "metadata": {},
   "outputs": [
    {
     "data": {
      "text/plain": [
       "'Перцентили событий на пользователя:'"
      ]
     },
     "metadata": {},
     "output_type": "display_data"
    },
    {
     "data": {
      "text/plain": [
       "array([ 64. ,  89. , 200.5])"
      ]
     },
     "metadata": {},
     "output_type": "display_data"
    }
   ],
   "source": [
    "display('Перцентили событий на пользователя:', np.percentile(users_cnt_avg['count'], [90, 95, 99])) "
   ]
  },
  {
   "cell_type": "markdown",
   "metadata": {},
   "source": [
    "###### Данными за какой период вы располагаете? Найдите максимальную и минимальную дату. "
   ]
  },
  {
   "cell_type": "code",
   "execution_count": 17,
   "metadata": {},
   "outputs": [
    {
     "data": {
      "text/plain": [
       "'Начало исследуемого периода:'"
      ]
     },
     "metadata": {},
     "output_type": "display_data"
    },
    {
     "data": {
      "text/plain": [
       "datetime.date(2019, 7, 25)"
      ]
     },
     "metadata": {},
     "output_type": "display_data"
    },
    {
     "data": {
      "text/plain": [
       "'Окончание исследуемого периода:'"
      ]
     },
     "metadata": {},
     "output_type": "display_data"
    },
    {
     "data": {
      "text/plain": [
       "datetime.date(2019, 8, 7)"
      ]
     },
     "metadata": {},
     "output_type": "display_data"
    }
   ],
   "source": [
    "display('Начало исследуемого периода:', data['date'].min())\n",
    "display('Окончание исследуемого периода:', data['date'].max())"
   ]
  },
  {
   "cell_type": "markdown",
   "metadata": {},
   "source": [
    "###### Постройте гистограмму по дате и времени. Можно ли быть уверенным, что у вас одинаково полные данные за весь период? Технически в логи новых дней по некоторым пользователям могут «доезжать» события из прошлого — это может «перекашивать данные». Определите, с какого момента данные полные и отбросьте более старые. Данными за какой период времени вы располагаете на самом деле?"
   ]
  },
  {
   "cell_type": "code",
   "execution_count": 18,
   "metadata": {},
   "outputs": [
    {
     "data": {
      "text/html": [
       "<div>\n",
       "<style scoped>\n",
       "    .dataframe tbody tr th:only-of-type {\n",
       "        vertical-align: middle;\n",
       "    }\n",
       "\n",
       "    .dataframe tbody tr th {\n",
       "        vertical-align: top;\n",
       "    }\n",
       "\n",
       "    .dataframe thead th {\n",
       "        text-align: right;\n",
       "    }\n",
       "</style>\n",
       "<table border=\"1\" class=\"dataframe\">\n",
       "  <thead>\n",
       "    <tr style=\"text-align: right;\">\n",
       "      <th>date</th>\n",
       "      <th>2019-07-25</th>\n",
       "      <th>2019-07-26</th>\n",
       "      <th>2019-07-27</th>\n",
       "      <th>2019-07-28</th>\n",
       "      <th>2019-07-29</th>\n",
       "      <th>2019-07-30</th>\n",
       "      <th>2019-07-31</th>\n",
       "      <th>2019-08-01</th>\n",
       "      <th>2019-08-02</th>\n",
       "      <th>2019-08-03</th>\n",
       "      <th>2019-08-04</th>\n",
       "      <th>2019-08-05</th>\n",
       "      <th>2019-08-06</th>\n",
       "      <th>2019-08-07</th>\n",
       "    </tr>\n",
       "    <tr>\n",
       "      <th>exp_id</th>\n",
       "      <th></th>\n",
       "      <th></th>\n",
       "      <th></th>\n",
       "      <th></th>\n",
       "      <th></th>\n",
       "      <th></th>\n",
       "      <th></th>\n",
       "      <th></th>\n",
       "      <th></th>\n",
       "      <th></th>\n",
       "      <th></th>\n",
       "      <th></th>\n",
       "      <th></th>\n",
       "      <th></th>\n",
       "    </tr>\n",
       "  </thead>\n",
       "  <tbody>\n",
       "    <tr>\n",
       "      <th>246</th>\n",
       "      <td>4</td>\n",
       "      <td>14</td>\n",
       "      <td>24</td>\n",
       "      <td>33</td>\n",
       "      <td>55</td>\n",
       "      <td>129</td>\n",
       "      <td>620</td>\n",
       "      <td>11561</td>\n",
       "      <td>10946</td>\n",
       "      <td>10575</td>\n",
       "      <td>11514</td>\n",
       "      <td>12368</td>\n",
       "      <td>11726</td>\n",
       "      <td>10612</td>\n",
       "    </tr>\n",
       "    <tr>\n",
       "      <th>247</th>\n",
       "      <td>1</td>\n",
       "      <td>8</td>\n",
       "      <td>23</td>\n",
       "      <td>36</td>\n",
       "      <td>58</td>\n",
       "      <td>138</td>\n",
       "      <td>664</td>\n",
       "      <td>12306</td>\n",
       "      <td>10990</td>\n",
       "      <td>11024</td>\n",
       "      <td>9942</td>\n",
       "      <td>10949</td>\n",
       "      <td>11720</td>\n",
       "      <td>10091</td>\n",
       "    </tr>\n",
       "    <tr>\n",
       "      <th>248</th>\n",
       "      <td>4</td>\n",
       "      <td>9</td>\n",
       "      <td>8</td>\n",
       "      <td>36</td>\n",
       "      <td>71</td>\n",
       "      <td>145</td>\n",
       "      <td>746</td>\n",
       "      <td>12274</td>\n",
       "      <td>13618</td>\n",
       "      <td>11683</td>\n",
       "      <td>11512</td>\n",
       "      <td>12741</td>\n",
       "      <td>12342</td>\n",
       "      <td>10393</td>\n",
       "    </tr>\n",
       "  </tbody>\n",
       "</table>\n",
       "</div>"
      ],
      "text/plain": [
       "date    2019-07-25  2019-07-26  2019-07-27  2019-07-28  2019-07-29  \\\n",
       "exp_id                                                               \n",
       "246              4          14          24          33          55   \n",
       "247              1           8          23          36          58   \n",
       "248              4           9           8          36          71   \n",
       "\n",
       "date    2019-07-30  2019-07-31  2019-08-01  2019-08-02  2019-08-03  \\\n",
       "exp_id                                                               \n",
       "246            129         620       11561       10946       10575   \n",
       "247            138         664       12306       10990       11024   \n",
       "248            145         746       12274       13618       11683   \n",
       "\n",
       "date    2019-08-04  2019-08-05  2019-08-06  2019-08-07  \n",
       "exp_id                                                  \n",
       "246          11514       12368       11726       10612  \n",
       "247           9942       10949       11720       10091  \n",
       "248          11512       12741       12342       10393  "
      ]
     },
     "metadata": {},
     "output_type": "display_data"
    },
    {
     "data": {
      "text/plain": [
       "Text(0.5, 0, 'Дата и время')"
      ]
     },
     "execution_count": 18,
     "metadata": {},
     "output_type": "execute_result"
    },
    {
     "data": {
      "image/png": "[encoded data removed]",
      "text/plain": [
       "<Figure size 1080x432 with 1 Axes>"
      ]
     },
     "metadata": {
      "needs_background": "light"
     },
     "output_type": "display_data"
    }
   ],
   "source": [
    "data_pivot = data.pivot_table(index='exp_id', columns='date', values='user_id', aggfunc='count')\n",
    "display(data_pivot)\n",
    "data['event_time'].hist(bins=14*24, figsize=(15,6))\n",
    "plt.title('Гистограмма по дате и времени')\n",
    "plt.xlabel('Дата и время', fontsize=13)"
   ]
  },
  {
   "cell_type": "markdown",
   "metadata": {},
   "source": [
    "Вывод: Рассматриваемый период с 25/07/2019 по 07/08/2019. Полные данные в логе с 01/08/2019. Не полные с 25/07/2019 по 31/07/2019.\n"
   ]
  },
  {
   "cell_type": "markdown",
   "metadata": {},
   "source": [
    "###### Много ли событий и пользователей вы потеряли, отбросив старые данные?"
   ]
  },
  {
   "cell_type": "code",
   "execution_count": 19,
   "metadata": {},
   "outputs": [
    {
     "data": {
      "text/html": [
       "<div>\n",
       "<style scoped>\n",
       "    .dataframe tbody tr th:only-of-type {\n",
       "        vertical-align: middle;\n",
       "    }\n",
       "\n",
       "    .dataframe tbody tr th {\n",
       "        vertical-align: top;\n",
       "    }\n",
       "\n",
       "    .dataframe thead th {\n",
       "        text-align: right;\n",
       "    }\n",
       "</style>\n",
       "<table border=\"1\" class=\"dataframe\">\n",
       "  <thead>\n",
       "    <tr style=\"text-align: right;\">\n",
       "      <th></th>\n",
       "      <th>event_name</th>\n",
       "      <th>user_id</th>\n",
       "      <th>event_time</th>\n",
       "      <th>exp_id</th>\n",
       "      <th>date</th>\n",
       "      <th>month</th>\n",
       "    </tr>\n",
       "  </thead>\n",
       "  <tbody>\n",
       "    <tr>\n",
       "      <th>0</th>\n",
       "      <td>MainScreenAppear</td>\n",
       "      <td>4575588528974610257</td>\n",
       "      <td>2019-07-25 04:43:36</td>\n",
       "      <td>246</td>\n",
       "      <td>2019-07-25</td>\n",
       "      <td>7</td>\n",
       "    </tr>\n",
       "    <tr>\n",
       "      <th>1</th>\n",
       "      <td>MainScreenAppear</td>\n",
       "      <td>7416695313311560658</td>\n",
       "      <td>2019-07-25 11:11:42</td>\n",
       "      <td>246</td>\n",
       "      <td>2019-07-25</td>\n",
       "      <td>7</td>\n",
       "    </tr>\n",
       "    <tr>\n",
       "      <th>2</th>\n",
       "      <td>PaymentScreenSuccessful</td>\n",
       "      <td>3518123091307005509</td>\n",
       "      <td>2019-07-25 11:28:47</td>\n",
       "      <td>248</td>\n",
       "      <td>2019-07-25</td>\n",
       "      <td>7</td>\n",
       "    </tr>\n",
       "    <tr>\n",
       "      <th>3</th>\n",
       "      <td>CartScreenAppear</td>\n",
       "      <td>3518123091307005509</td>\n",
       "      <td>2019-07-25 11:28:47</td>\n",
       "      <td>248</td>\n",
       "      <td>2019-07-25</td>\n",
       "      <td>7</td>\n",
       "    </tr>\n",
       "    <tr>\n",
       "      <th>4</th>\n",
       "      <td>PaymentScreenSuccessful</td>\n",
       "      <td>6217807653094995999</td>\n",
       "      <td>2019-07-25 11:48:42</td>\n",
       "      <td>248</td>\n",
       "      <td>2019-07-25</td>\n",
       "      <td>7</td>\n",
       "    </tr>\n",
       "  </tbody>\n",
       "</table>\n",
       "</div>"
      ],
      "text/plain": [
       "                event_name              user_id          event_time  exp_id  \\\n",
       "0         MainScreenAppear  4575588528974610257 2019-07-25 04:43:36     246   \n",
       "1         MainScreenAppear  7416695313311560658 2019-07-25 11:11:42     246   \n",
       "2  PaymentScreenSuccessful  3518123091307005509 2019-07-25 11:28:47     248   \n",
       "3         CartScreenAppear  3518123091307005509 2019-07-25 11:28:47     248   \n",
       "4  PaymentScreenSuccessful  6217807653094995999 2019-07-25 11:48:42     248   \n",
       "\n",
       "         date  month  \n",
       "0  2019-07-25      7  \n",
       "1  2019-07-25      7  \n",
       "2  2019-07-25      7  \n",
       "3  2019-07-25      7  \n",
       "4  2019-07-25      7  "
      ]
     },
     "metadata": {},
     "output_type": "display_data"
    }
   ],
   "source": [
    "#найдем id пользователей, с перецентилем более 95\n",
    "ninty_perc_users = users_cnt_avg.query('count>90')\n",
    "ninty_perc_users = ninty_perc_users['user_id']\n",
    "\n",
    "data_fil = data.query('user_id not in @ninty_perc_users')\n",
    "display(data_fil.head())  "
   ]
  },
  {
   "cell_type": "code",
   "execution_count": 20,
   "metadata": {},
   "outputs": [
    {
     "data": {
      "text/html": [
       "<div>\n",
       "<style scoped>\n",
       "    .dataframe tbody tr th:only-of-type {\n",
       "        vertical-align: middle;\n",
       "    }\n",
       "\n",
       "    .dataframe tbody tr th {\n",
       "        vertical-align: top;\n",
       "    }\n",
       "\n",
       "    .dataframe thead th {\n",
       "        text-align: right;\n",
       "    }\n",
       "</style>\n",
       "<table border=\"1\" class=\"dataframe\">\n",
       "  <thead>\n",
       "    <tr style=\"text-align: right;\">\n",
       "      <th></th>\n",
       "      <th>event_name</th>\n",
       "      <th>user_id</th>\n",
       "      <th>event_time</th>\n",
       "      <th>exp_id</th>\n",
       "      <th>date</th>\n",
       "      <th>month</th>\n",
       "    </tr>\n",
       "  </thead>\n",
       "  <tbody>\n",
       "    <tr>\n",
       "      <th>0</th>\n",
       "      <td>MainScreenAppear</td>\n",
       "      <td>4575588528974610257</td>\n",
       "      <td>2019-07-25 04:43:36</td>\n",
       "      <td>246</td>\n",
       "      <td>2019-07-25</td>\n",
       "      <td>7</td>\n",
       "    </tr>\n",
       "    <tr>\n",
       "      <th>1</th>\n",
       "      <td>MainScreenAppear</td>\n",
       "      <td>7416695313311560658</td>\n",
       "      <td>2019-07-25 11:11:42</td>\n",
       "      <td>246</td>\n",
       "      <td>2019-07-25</td>\n",
       "      <td>7</td>\n",
       "    </tr>\n",
       "    <tr>\n",
       "      <th>2</th>\n",
       "      <td>PaymentScreenSuccessful</td>\n",
       "      <td>3518123091307005509</td>\n",
       "      <td>2019-07-25 11:28:47</td>\n",
       "      <td>248</td>\n",
       "      <td>2019-07-25</td>\n",
       "      <td>7</td>\n",
       "    </tr>\n",
       "    <tr>\n",
       "      <th>3</th>\n",
       "      <td>CartScreenAppear</td>\n",
       "      <td>3518123091307005509</td>\n",
       "      <td>2019-07-25 11:28:47</td>\n",
       "      <td>248</td>\n",
       "      <td>2019-07-25</td>\n",
       "      <td>7</td>\n",
       "    </tr>\n",
       "    <tr>\n",
       "      <th>4</th>\n",
       "      <td>PaymentScreenSuccessful</td>\n",
       "      <td>6217807653094995999</td>\n",
       "      <td>2019-07-25 11:48:42</td>\n",
       "      <td>248</td>\n",
       "      <td>2019-07-25</td>\n",
       "      <td>7</td>\n",
       "    </tr>\n",
       "    <tr>\n",
       "      <th>...</th>\n",
       "      <td>...</td>\n",
       "      <td>...</td>\n",
       "      <td>...</td>\n",
       "      <td>...</td>\n",
       "      <td>...</td>\n",
       "      <td>...</td>\n",
       "    </tr>\n",
       "    <tr>\n",
       "      <th>2821</th>\n",
       "      <td>OffersScreenAppear</td>\n",
       "      <td>2413191300976302222</td>\n",
       "      <td>2019-07-31 23:54:55</td>\n",
       "      <td>247</td>\n",
       "      <td>2019-07-31</td>\n",
       "      <td>7</td>\n",
       "    </tr>\n",
       "    <tr>\n",
       "      <th>2822</th>\n",
       "      <td>MainScreenAppear</td>\n",
       "      <td>5505110279185484837</td>\n",
       "      <td>2019-07-31 23:57:30</td>\n",
       "      <td>247</td>\n",
       "      <td>2019-07-31</td>\n",
       "      <td>7</td>\n",
       "    </tr>\n",
       "    <tr>\n",
       "      <th>2823</th>\n",
       "      <td>MainScreenAppear</td>\n",
       "      <td>5505110279185484837</td>\n",
       "      <td>2019-07-31 23:57:42</td>\n",
       "      <td>247</td>\n",
       "      <td>2019-07-31</td>\n",
       "      <td>7</td>\n",
       "    </tr>\n",
       "    <tr>\n",
       "      <th>2824</th>\n",
       "      <td>MainScreenAppear</td>\n",
       "      <td>5505110279185484837</td>\n",
       "      <td>2019-07-31 23:57:52</td>\n",
       "      <td>247</td>\n",
       "      <td>2019-07-31</td>\n",
       "      <td>7</td>\n",
       "    </tr>\n",
       "    <tr>\n",
       "      <th>2825</th>\n",
       "      <td>MainScreenAppear</td>\n",
       "      <td>2413191300976302222</td>\n",
       "      <td>2019-07-31 23:59:59</td>\n",
       "      <td>247</td>\n",
       "      <td>2019-07-31</td>\n",
       "      <td>7</td>\n",
       "    </tr>\n",
       "  </tbody>\n",
       "</table>\n",
       "<p>2410 rows × 6 columns</p>\n",
       "</div>"
      ],
      "text/plain": [
       "                   event_name              user_id          event_time  \\\n",
       "0            MainScreenAppear  4575588528974610257 2019-07-25 04:43:36   \n",
       "1            MainScreenAppear  7416695313311560658 2019-07-25 11:11:42   \n",
       "2     PaymentScreenSuccessful  3518123091307005509 2019-07-25 11:28:47   \n",
       "3            CartScreenAppear  3518123091307005509 2019-07-25 11:28:47   \n",
       "4     PaymentScreenSuccessful  6217807653094995999 2019-07-25 11:48:42   \n",
       "...                       ...                  ...                 ...   \n",
       "2821       OffersScreenAppear  2413191300976302222 2019-07-31 23:54:55   \n",
       "2822         MainScreenAppear  5505110279185484837 2019-07-31 23:57:30   \n",
       "2823         MainScreenAppear  5505110279185484837 2019-07-31 23:57:42   \n",
       "2824         MainScreenAppear  5505110279185484837 2019-07-31 23:57:52   \n",
       "2825         MainScreenAppear  2413191300976302222 2019-07-31 23:59:59   \n",
       "\n",
       "      exp_id        date  month  \n",
       "0        246  2019-07-25      7  \n",
       "1        246  2019-07-25      7  \n",
       "2        248  2019-07-25      7  \n",
       "3        248  2019-07-25      7  \n",
       "4        248  2019-07-25      7  \n",
       "...      ...         ...    ...  \n",
       "2821     247  2019-07-31      7  \n",
       "2822     247  2019-07-31      7  \n",
       "2823     247  2019-07-31      7  \n",
       "2824     247  2019-07-31      7  \n",
       "2825     247  2019-07-31      7  \n",
       "\n",
       "[2410 rows x 6 columns]"
      ]
     },
     "metadata": {},
     "output_type": "display_data"
    },
    {
     "data": {
      "text/html": [
       "<div>\n",
       "<style scoped>\n",
       "    .dataframe tbody tr th:only-of-type {\n",
       "        vertical-align: middle;\n",
       "    }\n",
       "\n",
       "    .dataframe tbody tr th {\n",
       "        vertical-align: top;\n",
       "    }\n",
       "\n",
       "    .dataframe thead th {\n",
       "        text-align: right;\n",
       "    }\n",
       "</style>\n",
       "<table border=\"1\" class=\"dataframe\">\n",
       "  <thead>\n",
       "    <tr style=\"text-align: right;\">\n",
       "      <th></th>\n",
       "      <th>event_name</th>\n",
       "      <th>user_id</th>\n",
       "      <th>event_time</th>\n",
       "      <th>exp_id</th>\n",
       "      <th>date</th>\n",
       "      <th>month</th>\n",
       "    </tr>\n",
       "  </thead>\n",
       "  <tbody>\n",
       "    <tr>\n",
       "      <th>2826</th>\n",
       "      <td>Tutorial</td>\n",
       "      <td>3737462046622621720</td>\n",
       "      <td>2019-08-01 00:07:28</td>\n",
       "      <td>246</td>\n",
       "      <td>2019-08-01</td>\n",
       "      <td>8</td>\n",
       "    </tr>\n",
       "    <tr>\n",
       "      <th>2827</th>\n",
       "      <td>MainScreenAppear</td>\n",
       "      <td>3737462046622621720</td>\n",
       "      <td>2019-08-01 00:08:00</td>\n",
       "      <td>246</td>\n",
       "      <td>2019-08-01</td>\n",
       "      <td>8</td>\n",
       "    </tr>\n",
       "    <tr>\n",
       "      <th>2828</th>\n",
       "      <td>MainScreenAppear</td>\n",
       "      <td>3737462046622621720</td>\n",
       "      <td>2019-08-01 00:08:55</td>\n",
       "      <td>246</td>\n",
       "      <td>2019-08-01</td>\n",
       "      <td>8</td>\n",
       "    </tr>\n",
       "    <tr>\n",
       "      <th>2829</th>\n",
       "      <td>OffersScreenAppear</td>\n",
       "      <td>3737462046622621720</td>\n",
       "      <td>2019-08-01 00:08:58</td>\n",
       "      <td>246</td>\n",
       "      <td>2019-08-01</td>\n",
       "      <td>8</td>\n",
       "    </tr>\n",
       "    <tr>\n",
       "      <th>2830</th>\n",
       "      <td>MainScreenAppear</td>\n",
       "      <td>1433840883824088890</td>\n",
       "      <td>2019-08-01 00:08:59</td>\n",
       "      <td>247</td>\n",
       "      <td>2019-08-01</td>\n",
       "      <td>8</td>\n",
       "    </tr>\n",
       "    <tr>\n",
       "      <th>...</th>\n",
       "      <td>...</td>\n",
       "      <td>...</td>\n",
       "      <td>...</td>\n",
       "      <td>...</td>\n",
       "      <td>...</td>\n",
       "      <td>...</td>\n",
       "    </tr>\n",
       "    <tr>\n",
       "      <th>243707</th>\n",
       "      <td>MainScreenAppear</td>\n",
       "      <td>5746969938801999050</td>\n",
       "      <td>2019-08-07 21:12:11</td>\n",
       "      <td>246</td>\n",
       "      <td>2019-08-07</td>\n",
       "      <td>8</td>\n",
       "    </tr>\n",
       "    <tr>\n",
       "      <th>243709</th>\n",
       "      <td>MainScreenAppear</td>\n",
       "      <td>5849806612437486590</td>\n",
       "      <td>2019-08-07 21:13:59</td>\n",
       "      <td>246</td>\n",
       "      <td>2019-08-07</td>\n",
       "      <td>8</td>\n",
       "    </tr>\n",
       "    <tr>\n",
       "      <th>243710</th>\n",
       "      <td>MainScreenAppear</td>\n",
       "      <td>5746969938801999050</td>\n",
       "      <td>2019-08-07 21:14:43</td>\n",
       "      <td>246</td>\n",
       "      <td>2019-08-07</td>\n",
       "      <td>8</td>\n",
       "    </tr>\n",
       "    <tr>\n",
       "      <th>243711</th>\n",
       "      <td>MainScreenAppear</td>\n",
       "      <td>5746969938801999050</td>\n",
       "      <td>2019-08-07 21:14:58</td>\n",
       "      <td>246</td>\n",
       "      <td>2019-08-07</td>\n",
       "      <td>8</td>\n",
       "    </tr>\n",
       "    <tr>\n",
       "      <th>243712</th>\n",
       "      <td>OffersScreenAppear</td>\n",
       "      <td>5746969938801999050</td>\n",
       "      <td>2019-08-07 21:15:17</td>\n",
       "      <td>246</td>\n",
       "      <td>2019-08-07</td>\n",
       "      <td>8</td>\n",
       "    </tr>\n",
       "  </tbody>\n",
       "</table>\n",
       "<p>171321 rows × 6 columns</p>\n",
       "</div>"
      ],
      "text/plain": [
       "                event_name              user_id          event_time  exp_id  \\\n",
       "2826              Tutorial  3737462046622621720 2019-08-01 00:07:28     246   \n",
       "2827      MainScreenAppear  3737462046622621720 2019-08-01 00:08:00     246   \n",
       "2828      MainScreenAppear  3737462046622621720 2019-08-01 00:08:55     246   \n",
       "2829    OffersScreenAppear  3737462046622621720 2019-08-01 00:08:58     246   \n",
       "2830      MainScreenAppear  1433840883824088890 2019-08-01 00:08:59     247   \n",
       "...                    ...                  ...                 ...     ...   \n",
       "243707    MainScreenAppear  5746969938801999050 2019-08-07 21:12:11     246   \n",
       "243709    MainScreenAppear  5849806612437486590 2019-08-07 21:13:59     246   \n",
       "243710    MainScreenAppear  5746969938801999050 2019-08-07 21:14:43     246   \n",
       "243711    MainScreenAppear  5746969938801999050 2019-08-07 21:14:58     246   \n",
       "243712  OffersScreenAppear  5746969938801999050 2019-08-07 21:15:17     246   \n",
       "\n",
       "              date  month  \n",
       "2826    2019-08-01      8  \n",
       "2827    2019-08-01      8  \n",
       "2828    2019-08-01      8  \n",
       "2829    2019-08-01      8  \n",
       "2830    2019-08-01      8  \n",
       "...            ...    ...  \n",
       "243707  2019-08-07      8  \n",
       "243709  2019-08-07      8  \n",
       "243710  2019-08-07      8  \n",
       "243711  2019-08-07      8  \n",
       "243712  2019-08-07      8  \n",
       "\n",
       "[171321 rows x 6 columns]"
      ]
     },
     "metadata": {},
     "output_type": "display_data"
    }
   ],
   "source": [
    "data_july = data_fil.loc[data_fil['month']==7]\n",
    "data_new = data_fil.loc[data_fil['month']==8]\n",
    "\n",
    "display(data_july)\n",
    "display(data_new)"
   ]
  },
  {
   "cell_type": "code",
   "execution_count": 21,
   "metadata": {},
   "outputs": [
    {
     "name": "stdout",
     "output_type": "stream",
     "text": [
      "Количество потерянных событий после удаления дубликатов и анoмалий: 69982\n",
      "Количество потерянных пользователей после удаления дубликатов и анoмалий: 361\n",
      "Количество потерянных событий после удаления данных неполного периода: 2410\n",
      "Количество потерянных пользователей после удаления данных неполного периода: 17\n"
     ]
    }
   ],
   "source": [
    "print('Количество потерянных событий после удаления дубликатов и анoмалий:', len(data) - len(data_fil))\n",
    "print('Количество потерянных пользователей после удаления дубликатов и анoмалий:', len(data['user_id'].unique()) - len(data_fil['user_id'].unique()))\n",
    "\n",
    "print('Количество потерянных событий после удаления данных неполного периода:', len(data_fil)-len(data_new))\n",
    "print('Количество потерянных пользователей после удаления данных неполного периода:', len(data_fil['user_id'].unique()) - len(data_new['user_id'].unique()))"
   ]
  },
  {
   "cell_type": "code",
   "execution_count": 22,
   "metadata": {},
   "outputs": [
    {
     "name": "stdout",
     "output_type": "stream",
     "text": [
      "Доля потерянных событий после удаления данных неполного периода: 1.39%\n",
      "Доля потерянных пользователей после удаления данных неполного периода: 0.24%\n"
     ]
    }
   ],
   "source": [
    "print('Доля потерянных событий после удаления данных неполного периода:','{0:.2%}'.format((len(data_fil)-len(data_new))/len(data_fil)))\n",
    "print('Доля потерянных пользователей после удаления данных неполного периода:', '{0:.2%}'.format((len(data_fil['user_id'].unique()) - len(data_new['user_id'].unique()))/len(data_fil['user_id'].unique())))"
   ]
  },
  {
   "cell_type": "markdown",
   "metadata": {},
   "source": [
    "Проверьте, что у вас есть пользователи из всех трёх экспериментальных групп."
   ]
  },
  {
   "cell_type": "code",
   "execution_count": 23,
   "metadata": {},
   "outputs": [
    {
     "data": {
      "text/plain": [
       "'Распределение пользователей по группам'"
      ]
     },
     "metadata": {},
     "output_type": "display_data"
    },
    {
     "data": {
      "text/html": [
       "<div>\n",
       "<style scoped>\n",
       "    .dataframe tbody tr th:only-of-type {\n",
       "        vertical-align: middle;\n",
       "    }\n",
       "\n",
       "    .dataframe tbody tr th {\n",
       "        vertical-align: top;\n",
       "    }\n",
       "\n",
       "    .dataframe thead th {\n",
       "        text-align: right;\n",
       "    }\n",
       "</style>\n",
       "<table border=\"1\" class=\"dataframe\">\n",
       "  <thead>\n",
       "    <tr style=\"text-align: right;\">\n",
       "      <th></th>\n",
       "      <th>exp_id</th>\n",
       "      <th>quantity</th>\n",
       "    </tr>\n",
       "  </thead>\n",
       "  <tbody>\n",
       "    <tr>\n",
       "      <th>0</th>\n",
       "      <td>246</td>\n",
       "      <td>2365</td>\n",
       "    </tr>\n",
       "    <tr>\n",
       "      <th>1</th>\n",
       "      <td>247</td>\n",
       "      <td>2399</td>\n",
       "    </tr>\n",
       "    <tr>\n",
       "      <th>2</th>\n",
       "      <td>248</td>\n",
       "      <td>2409</td>\n",
       "    </tr>\n",
       "  </tbody>\n",
       "</table>\n",
       "</div>"
      ],
      "text/plain": [
       "   exp_id  quantity\n",
       "0     246      2365\n",
       "1     247      2399\n",
       "2     248      2409"
      ]
     },
     "metadata": {},
     "output_type": "display_data"
    }
   ],
   "source": [
    "grouped_users = data_new.groupby('exp_id', as_index=False).agg({'user_id':'nunique'}).rename(columns={'user_id':'quantity'})\n",
    "display('Распределение пользователей по группам', grouped_users)"
   ]
  },
  {
   "cell_type": "markdown",
   "metadata": {},
   "source": [
    "Вывод: После удаления дубликатов в предыдущем шаге осталось 243 713 события. Пользователй в логе 7551. В среднем на одного события приходится по 32 события. У 75% пользователей приходится 37 событий. Максимальное число событий 2307. Стандартное отклонение 65,15. Начало периода 25/07/2019, а окончание - 07/08/2019. Полные данные в логе с 01/08/2019. Не полные с 25/07/2019 по 31/07/2019. Количество неполных данных - 2410 (данные в июле). Были оставлены данные за август - 171321. Распределение по группам следующее: 246\t- (2365), 247 - (2399), 248 - (2409)"
   ]
  },
  {
   "cell_type": "markdown",
   "metadata": {},
   "source": [
    "### Изучение воронки событий"
   ]
  },
  {
   "cell_type": "markdown",
   "metadata": {},
   "source": [
    "###### Посмотрите, какие события есть в логах, как часто они встречаются. Отсортируйте события по частоте."
   ]
  },
  {
   "cell_type": "code",
   "execution_count": 24,
   "metadata": {},
   "outputs": [
    {
     "data": {
      "text/html": [
       "<div>\n",
       "<style scoped>\n",
       "    .dataframe tbody tr th:only-of-type {\n",
       "        vertical-align: middle;\n",
       "    }\n",
       "\n",
       "    .dataframe tbody tr th {\n",
       "        vertical-align: top;\n",
       "    }\n",
       "\n",
       "    .dataframe thead th {\n",
       "        text-align: right;\n",
       "    }\n",
       "</style>\n",
       "<table border=\"1\" class=\"dataframe\">\n",
       "  <thead>\n",
       "    <tr style=\"text-align: right;\">\n",
       "      <th></th>\n",
       "      <th>event_name</th>\n",
       "      <th>user_id</th>\n",
       "    </tr>\n",
       "  </thead>\n",
       "  <tbody>\n",
       "    <tr>\n",
       "      <th>1</th>\n",
       "      <td>MainScreenAppear</td>\n",
       "      <td>99416</td>\n",
       "    </tr>\n",
       "    <tr>\n",
       "      <th>2</th>\n",
       "      <td>OffersScreenAppear</td>\n",
       "      <td>32187</td>\n",
       "    </tr>\n",
       "    <tr>\n",
       "      <th>0</th>\n",
       "      <td>CartScreenAppear</td>\n",
       "      <td>22124</td>\n",
       "    </tr>\n",
       "    <tr>\n",
       "      <th>3</th>\n",
       "      <td>PaymentScreenSuccessful</td>\n",
       "      <td>16667</td>\n",
       "    </tr>\n",
       "    <tr>\n",
       "      <th>4</th>\n",
       "      <td>Tutorial</td>\n",
       "      <td>927</td>\n",
       "    </tr>\n",
       "  </tbody>\n",
       "</table>\n",
       "</div>"
      ],
      "text/plain": [
       "                event_name  user_id\n",
       "1         MainScreenAppear    99416\n",
       "2       OffersScreenAppear    32187\n",
       "0         CartScreenAppear    22124\n",
       "3  PaymentScreenSuccessful    16667\n",
       "4                 Tutorial      927"
      ]
     },
     "execution_count": 24,
     "metadata": {},
     "output_type": "execute_result"
    }
   ],
   "source": [
    "data_new.groupby('event_name', as_index=False).agg({'user_id':'count'}).sort_values(by='user_id', ascending=False)"
   ]
  },
  {
   "cell_type": "markdown",
   "metadata": {},
   "source": [
    "Вывод: MainScreenAppear - наибольшее кол-во событий - 99416. Количество у OffersScreenAppear, CartScreenAppear и PaymentScreenSuccessful находится примерно в одном диапазоне - 32187, 22124, 16667 соответственно. Самое наименьшее кол-во у Tutorial - 927."
   ]
  },
  {
   "cell_type": "markdown",
   "metadata": {},
   "source": [
    "###### Посчитайте, сколько пользователей совершали каждое из этих событий. Отсортируйте события по числу пользователей. Посчитайте долю пользователей, которые хоть раз совершали событие."
   ]
  },
  {
   "cell_type": "code",
   "execution_count": 25,
   "metadata": {},
   "outputs": [
    {
     "data": {
      "text/html": [
       "<div>\n",
       "<style scoped>\n",
       "    .dataframe tbody tr th:only-of-type {\n",
       "        vertical-align: middle;\n",
       "    }\n",
       "\n",
       "    .dataframe tbody tr th {\n",
       "        vertical-align: top;\n",
       "    }\n",
       "\n",
       "    .dataframe thead th {\n",
       "        text-align: right;\n",
       "    }\n",
       "</style>\n",
       "<table border=\"1\" class=\"dataframe\">\n",
       "  <thead>\n",
       "    <tr style=\"text-align: right;\">\n",
       "      <th></th>\n",
       "      <th>event_name</th>\n",
       "      <th>user_id</th>\n",
       "      <th>percent</th>\n",
       "    </tr>\n",
       "  </thead>\n",
       "  <tbody>\n",
       "    <tr>\n",
       "      <th>1</th>\n",
       "      <td>MainScreenAppear</td>\n",
       "      <td>7063</td>\n",
       "      <td>0.98</td>\n",
       "    </tr>\n",
       "    <tr>\n",
       "      <th>2</th>\n",
       "      <td>OffersScreenAppear</td>\n",
       "      <td>4245</td>\n",
       "      <td>0.59</td>\n",
       "    </tr>\n",
       "    <tr>\n",
       "      <th>0</th>\n",
       "      <td>CartScreenAppear</td>\n",
       "      <td>3397</td>\n",
       "      <td>0.47</td>\n",
       "    </tr>\n",
       "    <tr>\n",
       "      <th>3</th>\n",
       "      <td>PaymentScreenSuccessful</td>\n",
       "      <td>3205</td>\n",
       "      <td>0.45</td>\n",
       "    </tr>\n",
       "    <tr>\n",
       "      <th>4</th>\n",
       "      <td>Tutorial</td>\n",
       "      <td>776</td>\n",
       "      <td>0.11</td>\n",
       "    </tr>\n",
       "  </tbody>\n",
       "</table>\n",
       "</div>"
      ],
      "text/plain": [
       "                event_name  user_id  percent\n",
       "1         MainScreenAppear     7063     0.98\n",
       "2       OffersScreenAppear     4245     0.59\n",
       "0         CartScreenAppear     3397     0.47\n",
       "3  PaymentScreenSuccessful     3205     0.45\n",
       "4                 Tutorial      776     0.11"
      ]
     },
     "metadata": {},
     "output_type": "display_data"
    }
   ],
   "source": [
    "cnt_event = data_new.groupby('event_name', as_index=False).agg({'user_id':'nunique'}).sort_values(by='user_id', ascending = False)\n",
    "cnt_event['percent'] = round(cnt_event['user_id']/data_fil['user_id'].nunique(),2)\n",
    "display(cnt_event)"
   ]
  },
  {
   "cell_type": "markdown",
   "metadata": {},
   "source": [
    "###### Предположите, в каком порядке происходят события. Все ли они выстраиваются в последовательную цепочку? Их не нужно учитывать при расчёте воронки."
   ]
  },
  {
   "cell_type": "code",
   "execution_count": 26,
   "metadata": {},
   "outputs": [
    {
     "data": {
      "text/html": [
       "<div>\n",
       "<style scoped>\n",
       "    .dataframe tbody tr th:only-of-type {\n",
       "        vertical-align: middle;\n",
       "    }\n",
       "\n",
       "    .dataframe tbody tr th {\n",
       "        vertical-align: top;\n",
       "    }\n",
       "\n",
       "    .dataframe thead th {\n",
       "        text-align: right;\n",
       "    }\n",
       "</style>\n",
       "<table border=\"1\" class=\"dataframe\">\n",
       "  <thead>\n",
       "    <tr style=\"text-align: right;\">\n",
       "      <th></th>\n",
       "      <th>event_name</th>\n",
       "      <th>user_id</th>\n",
       "    </tr>\n",
       "  </thead>\n",
       "  <tbody>\n",
       "    <tr>\n",
       "      <th>1</th>\n",
       "      <td>MainScreenAppear</td>\n",
       "      <td>7063</td>\n",
       "    </tr>\n",
       "    <tr>\n",
       "      <th>2</th>\n",
       "      <td>OffersScreenAppear</td>\n",
       "      <td>4245</td>\n",
       "    </tr>\n",
       "    <tr>\n",
       "      <th>0</th>\n",
       "      <td>CartScreenAppear</td>\n",
       "      <td>3397</td>\n",
       "    </tr>\n",
       "    <tr>\n",
       "      <th>3</th>\n",
       "      <td>PaymentScreenSuccessful</td>\n",
       "      <td>3205</td>\n",
       "    </tr>\n",
       "    <tr>\n",
       "      <th>4</th>\n",
       "      <td>Tutorial</td>\n",
       "      <td>776</td>\n",
       "    </tr>\n",
       "  </tbody>\n",
       "</table>\n",
       "</div>"
      ],
      "text/plain": [
       "                event_name  user_id\n",
       "1         MainScreenAppear     7063\n",
       "2       OffersScreenAppear     4245\n",
       "0         CartScreenAppear     3397\n",
       "3  PaymentScreenSuccessful     3205\n",
       "4                 Tutorial      776"
      ]
     },
     "metadata": {},
     "output_type": "display_data"
    }
   ],
   "source": [
    "grouped_by_event = data_new.groupby('event_name', as_index=False).agg({'user_id':'nunique'}).sort_values(by='user_id', ascending=False)\n",
    "display(grouped_by_event)"
   ]
  },
  {
   "cell_type": "markdown",
   "metadata": {},
   "source": [
    "Вывод: События в логе: CartScreenAppear(Появление экрана с корзиной), MainScreenAppear(Появление главного экрана), OffersScreenAppear(Появление экрана с предложением), PaymentScreenSuccessful(Появление экрана с успешной оплатой), Tutorial(Индивидуальное обучение)\n",
    "Воронка - постепенное уменьшение количества событий от большего к меньшему. Соответственное расположение событий:\n",
    "\n",
    "1. MainScreenAppear\n",
    "2. OffersScreenAppear\n",
    "3. CartScreenAppear\n",
    "4. PaymentScreenSuccessful\n",
    "5. Tutorial\n",
    "\n",
    "Логически названия событий соответсвуют количеству пользователей на каждом этапе, исходя из сводной таблицы."
   ]
  },
  {
   "cell_type": "markdown",
   "metadata": {},
   "source": [
    "###### По воронке событий посчитайте, какая доля пользователей проходит на следующий шаг воронки (от числа пользователей на предыдущем). То есть для последовательности событий A → B → C посчитайте отношение числа пользователей с событием B к количеству пользователей с событием A, а также отношение числа пользователей с событием C к количеству пользователей с событием B."
   ]
  },
  {
   "cell_type": "code",
   "execution_count": 27,
   "metadata": {},
   "outputs": [
    {
     "data": {
      "text/plain": [
       "'Доля пользователей переходящей на следующий этап воронки'"
      ]
     },
     "metadata": {},
     "output_type": "display_data"
    },
    {
     "data": {
      "text/html": [
       "<div>\n",
       "<style scoped>\n",
       "    .dataframe tbody tr th:only-of-type {\n",
       "        vertical-align: middle;\n",
       "    }\n",
       "\n",
       "    .dataframe tbody tr th {\n",
       "        vertical-align: top;\n",
       "    }\n",
       "\n",
       "    .dataframe thead th {\n",
       "        text-align: right;\n",
       "    }\n",
       "</style>\n",
       "<table border=\"1\" class=\"dataframe\">\n",
       "  <thead>\n",
       "    <tr style=\"text-align: right;\">\n",
       "      <th></th>\n",
       "      <th>event_name</th>\n",
       "      <th>user_id</th>\n",
       "      <th>difference</th>\n",
       "    </tr>\n",
       "  </thead>\n",
       "  <tbody>\n",
       "    <tr>\n",
       "      <th>1</th>\n",
       "      <td>MainScreenAppear</td>\n",
       "      <td>7063</td>\n",
       "      <td>NaN</td>\n",
       "    </tr>\n",
       "    <tr>\n",
       "      <th>2</th>\n",
       "      <td>OffersScreenAppear</td>\n",
       "      <td>4245</td>\n",
       "      <td>60.10</td>\n",
       "    </tr>\n",
       "    <tr>\n",
       "      <th>0</th>\n",
       "      <td>CartScreenAppear</td>\n",
       "      <td>3397</td>\n",
       "      <td>80.02</td>\n",
       "    </tr>\n",
       "    <tr>\n",
       "      <th>3</th>\n",
       "      <td>PaymentScreenSuccessful</td>\n",
       "      <td>3205</td>\n",
       "      <td>94.35</td>\n",
       "    </tr>\n",
       "    <tr>\n",
       "      <th>4</th>\n",
       "      <td>Tutorial</td>\n",
       "      <td>776</td>\n",
       "      <td>24.21</td>\n",
       "    </tr>\n",
       "  </tbody>\n",
       "</table>\n",
       "</div>"
      ],
      "text/plain": [
       "                event_name  user_id  difference\n",
       "1         MainScreenAppear     7063         NaN\n",
       "2       OffersScreenAppear     4245       60.10\n",
       "0         CartScreenAppear     3397       80.02\n",
       "3  PaymentScreenSuccessful     3205       94.35\n",
       "4                 Tutorial      776       24.21"
      ]
     },
     "metadata": {},
     "output_type": "display_data"
    }
   ],
   "source": [
    "grouped_by_event['difference'] = round((grouped_by_event['user_id']/grouped_by_event['user_id'].shift(1))*100,2)\n",
    "display('Доля пользователей переходящей на следующий этап воронки', grouped_by_event)"
   ]
  },
  {
   "cell_type": "markdown",
   "metadata": {},
   "source": [
    "Вывод: соотношение пользователей в августе по датам: MainScreenAppear 60% перешло к следующему этапу OffersScreenAppear. С этапа OffersScreenAppear к CartScreenAppear перешло 80%, c этапа CartScreenAppear на PaymentScreenSuccessful\tперешло 94%, от PaymentScreenSuccessful к Tutorial перешло 24% пользователей"
   ]
  },
  {
   "cell_type": "markdown",
   "metadata": {},
   "source": [
    "###### На каком шаге теряете больше всего пользователей?"
   ]
  },
  {
   "cell_type": "code",
   "execution_count": 28,
   "metadata": {},
   "outputs": [
    {
     "name": "stdout",
     "output_type": "stream",
     "text": [
      "Потеря пользователей между этапом 1 и 2 : 2818\n",
      "Потеря пользователей между этапом 2 и 3 : 848\n",
      "Потеря пользователей между этапом 3 и 4 : 192\n",
      "Потеря пользователей между этапом 4 и 5 : 2429\n",
      "Доля потерь между этапом 1 и 2 15.08%\n",
      "Доля потерь между этапом 4 и 5 13.00%\n"
     ]
    }
   ],
   "source": [
    "print('Потеря пользователей между этапом 1 и 2 :', grouped_by_event.iloc[0,1]-grouped_by_event.iloc[1,1])\n",
    "print('Потеря пользователей между этапом 2 и 3 :',grouped_by_event.iloc[1,1]-grouped_by_event.iloc[2,1])\n",
    "print('Потеря пользователей между этапом 3 и 4 :',grouped_by_event.iloc[2,1]-grouped_by_event.iloc[3,1])\n",
    "print('Потеря пользователей между этапом 4 и 5 :',grouped_by_event.iloc[3,1]-grouped_by_event.iloc[4,1])\n",
    "\n",
    "print('Доля потерь между этапом 1 и 2', '{0:.2%}'.format((grouped_by_event.iloc[0,1]-grouped_by_event.iloc[1,1])/sum(grouped_by_event['user_id'])))\n",
    "print('Доля потерь между этапом 4 и 5', '{0:.2%}'.format((grouped_by_event.iloc[3,1]-grouped_by_event.iloc[4,1])/sum(grouped_by_event['user_id'])))"
   ]
  },
  {
   "cell_type": "markdown",
   "metadata": {},
   "source": [
    "При анализе соотношения от этапа к этапу можно отметить, что больше всего теряется пользователей при перехоже с первого на второй этап(MainScreenAppear->OffersScreenAppear) - переходит 15% пользователей. И при переходе с 4 на 5 этап - PaymentScreenSuccessful->Tutorial - переходит 13% пользователей"
   ]
  },
  {
   "cell_type": "markdown",
   "metadata": {},
   "source": [
    "###### Какая доля пользователей доходит от первого события до оплаты?"
   ]
  },
  {
   "cell_type": "code",
   "execution_count": 29,
   "metadata": {},
   "outputs": [
    {
     "name": "stdout",
     "output_type": "stream",
     "text": [
      "Доля пользователей,доходящих от первого события до оплаты:  45.38%\n"
     ]
    }
   ],
   "source": [
    "print('Доля пользователей,доходящих от первого события до оплаты: ', '{0:.2%}'.format(grouped_by_event.iloc[3,1]/grouped_by_event.iloc[0,1]))"
   ]
  },
  {
   "cell_type": "markdown",
   "metadata": {},
   "source": [
    "Вывод:MainScreenAppear - наибольшее кол-во событий - 99416. Количество у OffersScreenAppear, CartScreenAppear и PaymentScreenSuccessful находится примерно в одном диапазоне - 32187, 22124, 16667 соответственно. Самое наименьшее кол-во у Tutorial - 927.\n",
    "\n",
    "События в логе: CartScreenAppear(Появление экрана с корзиной), MainScreenAppear(Появление главного экрана), OffersScreenAppear(Появление экрана с предложением), PaymentScreenSuccessful(Появление экрана с успешной оплатой), Tutorial(Индивидуальное обучение)\n",
    "Воронка - постепенное уменьшение количества событий от большего к меньшему. Соответственное расположение событий:\n",
    "\n",
    "1. MainScreenAppear\n",
    "2. OffersScreenAppear\n",
    "3. CartScreenAppear\n",
    "4. PaymentScreenSuccessful\n",
    "5. Tutorial\n",
    "\n",
    "Логически названия событий соответсвуют количеству пользователей на каждом этапе, исходя из сводной таблицы.\n",
    "\n",
    "Cоотношение пользователей в августе по датам: MainScreenAppear 60% перешло к следующему этапу OffersScreenAppear. С этапа OffersScreenAppear к CartScreenAppear перешло 80%, c этапа CartScreenAppear на PaymentScreenSuccessful перешло 94%, от PaymentScreenSuccessful к Tutorial перешло 24% пользователей\n",
    "\n",
    "При анализе соотношения от этапа к этапу можно отметить, что больше всего теряется пользователей при перехоже с первого на второй этап(MainScreenAppear->OffersScreenAppear) - переходит 15% пользователей. И при переходе с 4 на 5 этап - PaymentScreenSuccessful->Tutorial - переходит 13% пользователей"
   ]
  },
  {
   "cell_type": "markdown",
   "metadata": {},
   "source": [
    "### Изучение результатов эксперимента"
   ]
  },
  {
   "cell_type": "markdown",
   "metadata": {},
   "source": [
    "###### Сколько пользователей в каждой экспериментальной группе?\n"
   ]
  },
  {
   "cell_type": "code",
   "execution_count": 30,
   "metadata": {},
   "outputs": [
    {
     "data": {
      "text/plain": [
       "'Распределение уникальных пользователей по группам'"
      ]
     },
     "metadata": {},
     "output_type": "display_data"
    },
    {
     "data": {
      "text/html": [
       "<div>\n",
       "<style scoped>\n",
       "    .dataframe tbody tr th:only-of-type {\n",
       "        vertical-align: middle;\n",
       "    }\n",
       "\n",
       "    .dataframe tbody tr th {\n",
       "        vertical-align: top;\n",
       "    }\n",
       "\n",
       "    .dataframe thead th {\n",
       "        text-align: right;\n",
       "    }\n",
       "</style>\n",
       "<table border=\"1\" class=\"dataframe\">\n",
       "  <thead>\n",
       "    <tr style=\"text-align: right;\">\n",
       "      <th></th>\n",
       "      <th>exp_id</th>\n",
       "      <th>user_id</th>\n",
       "    </tr>\n",
       "  </thead>\n",
       "  <tbody>\n",
       "    <tr>\n",
       "      <th>0</th>\n",
       "      <td>246</td>\n",
       "      <td>2365</td>\n",
       "    </tr>\n",
       "    <tr>\n",
       "      <th>1</th>\n",
       "      <td>247</td>\n",
       "      <td>2399</td>\n",
       "    </tr>\n",
       "    <tr>\n",
       "      <th>2</th>\n",
       "      <td>248</td>\n",
       "      <td>2409</td>\n",
       "    </tr>\n",
       "  </tbody>\n",
       "</table>\n",
       "</div>"
      ],
      "text/plain": [
       "   exp_id  user_id\n",
       "0     246     2365\n",
       "1     247     2399\n",
       "2     248     2409"
      ]
     },
     "metadata": {},
     "output_type": "display_data"
    }
   ],
   "source": [
    "grouped_data = data_new.groupby('exp_id', as_index=False).agg({'user_id':'nunique'})\n",
    "display('Распределение уникальных пользователей по группам', grouped_data)"
   ]
  },
  {
   "cell_type": "markdown",
   "metadata": {},
   "source": [
    "###### Есть 2 контрольные группы для А/А-эксперимента, чтобы проверить корректность всех механизмов и расчётов. Проверьте, находят ли статистические критерии разницу между выборками 246 и 247."
   ]
  },
  {
   "cell_type": "code",
   "execution_count": 31,
   "metadata": {},
   "outputs": [
    {
     "data": {
      "text/html": [
       "<div>\n",
       "<style scoped>\n",
       "    .dataframe tbody tr th:only-of-type {\n",
       "        vertical-align: middle;\n",
       "    }\n",
       "\n",
       "    .dataframe tbody tr th {\n",
       "        vertical-align: top;\n",
       "    }\n",
       "\n",
       "    .dataframe thead th {\n",
       "        text-align: right;\n",
       "    }\n",
       "</style>\n",
       "<table border=\"1\" class=\"dataframe\">\n",
       "  <thead>\n",
       "    <tr style=\"text-align: right;\">\n",
       "      <th>event_name</th>\n",
       "      <th>exp_id</th>\n",
       "      <th>CartScreenAppear</th>\n",
       "      <th>MainScreenAppear</th>\n",
       "      <th>OffersScreenAppear</th>\n",
       "      <th>PaymentScreenSuccessful</th>\n",
       "      <th>Tutorial</th>\n",
       "      <th>Total</th>\n",
       "    </tr>\n",
       "  </thead>\n",
       "  <tbody>\n",
       "    <tr>\n",
       "      <th>0</th>\n",
       "      <td>246</td>\n",
       "      <td>1154</td>\n",
       "      <td>2332</td>\n",
       "      <td>1427</td>\n",
       "      <td>1088</td>\n",
       "      <td>253</td>\n",
       "      <td>2365</td>\n",
       "    </tr>\n",
       "    <tr>\n",
       "      <th>1</th>\n",
       "      <td>247</td>\n",
       "      <td>1134</td>\n",
       "      <td>2365</td>\n",
       "      <td>1411</td>\n",
       "      <td>1055</td>\n",
       "      <td>268</td>\n",
       "      <td>2399</td>\n",
       "    </tr>\n",
       "    <tr>\n",
       "      <th>2</th>\n",
       "      <td>248</td>\n",
       "      <td>1109</td>\n",
       "      <td>2366</td>\n",
       "      <td>1407</td>\n",
       "      <td>1062</td>\n",
       "      <td>255</td>\n",
       "      <td>2409</td>\n",
       "    </tr>\n",
       "  </tbody>\n",
       "</table>\n",
       "</div>"
      ],
      "text/plain": [
       "event_name  exp_id  CartScreenAppear  MainScreenAppear  OffersScreenAppear  \\\n",
       "0              246              1154              2332                1427   \n",
       "1              247              1134              2365                1411   \n",
       "2              248              1109              2366                1407   \n",
       "\n",
       "event_name  PaymentScreenSuccessful  Tutorial  Total  \n",
       "0                              1088       253   2365  \n",
       "1                              1055       268   2399  \n",
       "2                              1062       255   2409  "
      ]
     },
     "metadata": {},
     "output_type": "display_data"
    }
   ],
   "source": [
    "groped_events = data_new.pivot_table(index = 'exp_id', columns='event_name', values='user_id', aggfunc='nunique').reset_index()\n",
    "groped_events['Total'] = grouped_data['user_id']\n",
    "display(groped_events)"
   ]
  },
  {
   "cell_type": "code",
   "execution_count": 46,
   "metadata": {},
   "outputs": [
    {
     "name": "stdout",
     "output_type": "stream",
     "text": [
      "1154 1134 2365 2399\n"
     ]
    }
   ],
   "source": [
    "print(groped_events.iloc[0,1], groped_events.iloc[1,1], groped_events.iloc[0,6], groped_events.iloc[1,6])"
   ]
  },
  {
   "cell_type": "markdown",
   "metadata": {},
   "source": [
    "###### Сформулируем гипотезу:\n",
    "\n",
    "Нулевая гипотеза: различий в долях между выборками 246 и 247 нет\n",
    "\n",
    "Альтернативная гипотеза: различия в долях между выборками 246 и 247 есть. "
   ]
  },
  {
   "cell_type": "code",
   "execution_count": 32,
   "metadata": {},
   "outputs": [],
   "source": [
    "alpha = 0.05"
   ]
  },
  {
   "cell_type": "code",
   "execution_count": 33,
   "metadata": {},
   "outputs": [],
   "source": [
    "def show_results(index_1, index_2):\n",
    "    if index_1 < index_2:\n",
    "        print('Отвергаем нулевую гипотезу: между долями есть значимая разница')\n",
    "    else:\n",
    "        print('Не получилось отвергнуть нулевую гипотезу, нет оснований считать доли разными') "
   ]
  },
  {
   "cell_type": "code",
   "execution_count": 34,
   "metadata": {},
   "outputs": [],
   "source": [
    "def z_test(successes_1, successes_2, trials_1, trials_2, alpha):\n",
    "    # пропорция успехов в первой группе:\n",
    "    p1 = successes_1/trials_1\n",
    "\n",
    "    # пропорция успехов во второй группе:\n",
    "    p2 = successes_2/trials_2\n",
    "\n",
    "    # пропорция успехов в комбинированном датасете:\n",
    "    p_combined = (successes_1 + successes_2) / (trials_1 + trials_2)\n",
    "\n",
    "    # разница пропорций в датасетах\n",
    "    difference = p1 - p2 \n",
    "    \n",
    "    # считаем статистику в ст.отклонениях стандартного нормального распределения\n",
    "    z_value = difference / mth.sqrt(p_combined * (1 - p_combined) * (1/trials_1 + 1/trials_2))\n",
    "\n",
    "    # задаем стандартное нормальное распределение (среднее 0, ст.отклонение 1)\n",
    "    distr = st.norm(0, 1)  \n",
    "    \n",
    "    p_value = (1 - distr.cdf(abs(z_value))) * 2\n",
    "\n",
    "    result_1 = print('p-значение: ', p_value)\n",
    "    \n",
    "    result_2 = show_results(p_value, alpha)\n",
    "    \n",
    "    return result_1, result_2"
   ]
  },
  {
   "cell_type": "code",
   "execution_count": 35,
   "metadata": {},
   "outputs": [
    {
     "name": "stdout",
     "output_type": "stream",
     "text": [
      "Проверка гипотезы о равности долей групп 246 и 247 по событию CartScreenAppear\n",
      "p-значение:  0.2920961972474885\n",
      "Не получилось отвергнуть нулевую гипотезу, нет оснований считать доли разными\n",
      "_____________________________________________________________________________________________\n",
      "Проверка гипотезы о равности долей групп 246 и 247 по событию MainScreenAppear\n",
      "p-значение:  0.9488058453077359\n",
      "Не получилось отвергнуть нулевую гипотезу, нет оснований считать доли разными\n",
      "_____________________________________________________________________________________________\n",
      "Проверка гипотезы о равности долей групп 246 и 247 по событию OffersScreenAppear\n",
      "p-значение:  0.2844644518221826\n",
      "Не получилось отвергнуть нулевую гипотезу, нет оснований считать доли разными\n",
      "_____________________________________________________________________________________________\n",
      "Проверка гипотезы о равности долей групп 246 и 247 по событию PaymentScreenSuccessful\n",
      "p-значение:  0.15956763723683043\n",
      "Не получилось отвергнуть нулевую гипотезу, нет оснований считать доли разными\n",
      "_____________________________________________________________________________________________\n",
      "Проверка гипотезы о равности долей групп 246 и 247 по событию Tutorial\n",
      "p-значение:  0.6004592136258189\n",
      "Не получилось отвергнуть нулевую гипотезу, нет оснований считать доли разными\n",
      "_____________________________________________________________________________________________\n"
     ]
    }
   ],
   "source": [
    "columns = [1,2,3,4,5]\n",
    "\n",
    "for column in columns:\n",
    "    print('Проверка гипотезы о равности долей групп 246 и 247 по событию',groped_events.columns[column])\n",
    "    z_test(groped_events.iloc[0,column], groped_events.iloc[1,column], groped_events.iloc[0,6], groped_events.iloc[1,6], alpha)\n",
    "    print('_____________________________________________________________________________________________')"
   ]
  },
  {
   "cell_type": "markdown",
   "metadata": {},
   "source": [
    "#### Выберите самое популярное событие. Посчитайте число пользователей, совершивших это событие в каждой из контрольных групп. Посчитайте долю пользователей, совершивших это событие. Проверьте, будет ли отличие между группами статистически достоверным. Проделайте то же самое для всех других событий (удобно обернуть проверку в отдельную функцию). Можно ли сказать, что разбиение на группы работает корректно?"
   ]
  },
  {
   "cell_type": "code",
   "execution_count": 36,
   "metadata": {},
   "outputs": [
    {
     "data": {
      "text/html": [
       "<div>\n",
       "<style scoped>\n",
       "    .dataframe tbody tr th:only-of-type {\n",
       "        vertical-align: middle;\n",
       "    }\n",
       "\n",
       "    .dataframe tbody tr th {\n",
       "        vertical-align: top;\n",
       "    }\n",
       "\n",
       "    .dataframe thead th {\n",
       "        text-align: right;\n",
       "    }\n",
       "</style>\n",
       "<table border=\"1\" class=\"dataframe\">\n",
       "  <thead>\n",
       "    <tr style=\"text-align: right;\">\n",
       "      <th>event_name</th>\n",
       "      <th>exp_id</th>\n",
       "      <th>MainScreenAppear</th>\n",
       "      <th>Total</th>\n",
       "      <th>rate</th>\n",
       "    </tr>\n",
       "  </thead>\n",
       "  <tbody>\n",
       "    <tr>\n",
       "      <th>0</th>\n",
       "      <td>246</td>\n",
       "      <td>2332</td>\n",
       "      <td>2365</td>\n",
       "      <td>98.60</td>\n",
       "    </tr>\n",
       "    <tr>\n",
       "      <th>1</th>\n",
       "      <td>247</td>\n",
       "      <td>2365</td>\n",
       "      <td>2399</td>\n",
       "      <td>98.58</td>\n",
       "    </tr>\n",
       "    <tr>\n",
       "      <th>2</th>\n",
       "      <td>248</td>\n",
       "      <td>2366</td>\n",
       "      <td>2409</td>\n",
       "      <td>98.22</td>\n",
       "    </tr>\n",
       "  </tbody>\n",
       "</table>\n",
       "</div>"
      ],
      "text/plain": [
       "event_name  exp_id  MainScreenAppear  Total   rate\n",
       "0              246              2332   2365  98.60\n",
       "1              247              2365   2399  98.58\n",
       "2              248              2366   2409  98.22"
      ]
     },
     "execution_count": 36,
     "metadata": {},
     "output_type": "execute_result"
    }
   ],
   "source": [
    "popular_event = groped_events[['exp_id','MainScreenAppear', 'Total']].copy()\n",
    "popular_event['rate'] = round((popular_event['MainScreenAppear']/popular_event['Total'])*100,2)\n",
    "popular_event"
   ]
  },
  {
   "cell_type": "code",
   "execution_count": 37,
   "metadata": {},
   "outputs": [
    {
     "data": {
      "text/html": [
       "<div>\n",
       "<style scoped>\n",
       "    .dataframe tbody tr th:only-of-type {\n",
       "        vertical-align: middle;\n",
       "    }\n",
       "\n",
       "    .dataframe tbody tr th {\n",
       "        vertical-align: top;\n",
       "    }\n",
       "\n",
       "    .dataframe thead th {\n",
       "        text-align: right;\n",
       "    }\n",
       "</style>\n",
       "<table border=\"1\" class=\"dataframe\">\n",
       "  <thead>\n",
       "    <tr style=\"text-align: right;\">\n",
       "      <th>event_name</th>\n",
       "      <th>exp_id</th>\n",
       "      <th>CartScreenAppear</th>\n",
       "      <th>Total</th>\n",
       "      <th>rate</th>\n",
       "    </tr>\n",
       "  </thead>\n",
       "  <tbody>\n",
       "    <tr>\n",
       "      <th>0</th>\n",
       "      <td>246</td>\n",
       "      <td>1154</td>\n",
       "      <td>2365</td>\n",
       "      <td>48.79</td>\n",
       "    </tr>\n",
       "    <tr>\n",
       "      <th>1</th>\n",
       "      <td>247</td>\n",
       "      <td>1134</td>\n",
       "      <td>2399</td>\n",
       "      <td>47.27</td>\n",
       "    </tr>\n",
       "    <tr>\n",
       "      <th>2</th>\n",
       "      <td>248</td>\n",
       "      <td>1109</td>\n",
       "      <td>2409</td>\n",
       "      <td>46.04</td>\n",
       "    </tr>\n",
       "  </tbody>\n",
       "</table>\n",
       "</div>"
      ],
      "text/plain": [
       "event_name  exp_id  CartScreenAppear  Total   rate\n",
       "0              246              1154   2365  48.79\n",
       "1              247              1134   2399  47.27\n",
       "2              248              1109   2409  46.04"
      ]
     },
     "execution_count": 37,
     "metadata": {},
     "output_type": "execute_result"
    }
   ],
   "source": [
    "popular_event = groped_events[['exp_id','CartScreenAppear', 'Total']].copy()\n",
    "popular_event['rate'] = round((popular_event['CartScreenAppear']/popular_event['Total'])*100,2)\n",
    "popular_event"
   ]
  },
  {
   "cell_type": "code",
   "execution_count": 38,
   "metadata": {},
   "outputs": [
    {
     "data": {
      "text/html": [
       "<div>\n",
       "<style scoped>\n",
       "    .dataframe tbody tr th:only-of-type {\n",
       "        vertical-align: middle;\n",
       "    }\n",
       "\n",
       "    .dataframe tbody tr th {\n",
       "        vertical-align: top;\n",
       "    }\n",
       "\n",
       "    .dataframe thead th {\n",
       "        text-align: right;\n",
       "    }\n",
       "</style>\n",
       "<table border=\"1\" class=\"dataframe\">\n",
       "  <thead>\n",
       "    <tr style=\"text-align: right;\">\n",
       "      <th>event_name</th>\n",
       "      <th>exp_id</th>\n",
       "      <th>OffersScreenAppear</th>\n",
       "      <th>Total</th>\n",
       "      <th>rate</th>\n",
       "    </tr>\n",
       "  </thead>\n",
       "  <tbody>\n",
       "    <tr>\n",
       "      <th>0</th>\n",
       "      <td>246</td>\n",
       "      <td>1427</td>\n",
       "      <td>2365</td>\n",
       "      <td>60.34</td>\n",
       "    </tr>\n",
       "    <tr>\n",
       "      <th>1</th>\n",
       "      <td>247</td>\n",
       "      <td>1411</td>\n",
       "      <td>2399</td>\n",
       "      <td>58.82</td>\n",
       "    </tr>\n",
       "    <tr>\n",
       "      <th>2</th>\n",
       "      <td>248</td>\n",
       "      <td>1407</td>\n",
       "      <td>2409</td>\n",
       "      <td>58.41</td>\n",
       "    </tr>\n",
       "  </tbody>\n",
       "</table>\n",
       "</div>"
      ],
      "text/plain": [
       "event_name  exp_id  OffersScreenAppear  Total   rate\n",
       "0              246                1427   2365  60.34\n",
       "1              247                1411   2399  58.82\n",
       "2              248                1407   2409  58.41"
      ]
     },
     "execution_count": 38,
     "metadata": {},
     "output_type": "execute_result"
    }
   ],
   "source": [
    "popular_event = groped_events[['exp_id','OffersScreenAppear', 'Total']].copy()\n",
    "popular_event['rate'] = round((popular_event['OffersScreenAppear']/popular_event['Total'])*100,2)\n",
    "popular_event"
   ]
  },
  {
   "cell_type": "code",
   "execution_count": 39,
   "metadata": {},
   "outputs": [
    {
     "data": {
      "text/html": [
       "<div>\n",
       "<style scoped>\n",
       "    .dataframe tbody tr th:only-of-type {\n",
       "        vertical-align: middle;\n",
       "    }\n",
       "\n",
       "    .dataframe tbody tr th {\n",
       "        vertical-align: top;\n",
       "    }\n",
       "\n",
       "    .dataframe thead th {\n",
       "        text-align: right;\n",
       "    }\n",
       "</style>\n",
       "<table border=\"1\" class=\"dataframe\">\n",
       "  <thead>\n",
       "    <tr style=\"text-align: right;\">\n",
       "      <th>event_name</th>\n",
       "      <th>exp_id</th>\n",
       "      <th>Tutorial</th>\n",
       "      <th>Total</th>\n",
       "      <th>rate</th>\n",
       "    </tr>\n",
       "  </thead>\n",
       "  <tbody>\n",
       "    <tr>\n",
       "      <th>0</th>\n",
       "      <td>246</td>\n",
       "      <td>253</td>\n",
       "      <td>2365</td>\n",
       "      <td>10.70</td>\n",
       "    </tr>\n",
       "    <tr>\n",
       "      <th>1</th>\n",
       "      <td>247</td>\n",
       "      <td>268</td>\n",
       "      <td>2399</td>\n",
       "      <td>11.17</td>\n",
       "    </tr>\n",
       "    <tr>\n",
       "      <th>2</th>\n",
       "      <td>248</td>\n",
       "      <td>255</td>\n",
       "      <td>2409</td>\n",
       "      <td>10.59</td>\n",
       "    </tr>\n",
       "  </tbody>\n",
       "</table>\n",
       "</div>"
      ],
      "text/plain": [
       "event_name  exp_id  Tutorial  Total   rate\n",
       "0              246       253   2365  10.70\n",
       "1              247       268   2399  11.17\n",
       "2              248       255   2409  10.59"
      ]
     },
     "execution_count": 39,
     "metadata": {},
     "output_type": "execute_result"
    }
   ],
   "source": [
    "popular_event = groped_events[['exp_id','Tutorial', 'Total']].copy()\n",
    "popular_event['rate'] = round((popular_event['Tutorial']/popular_event['Total'])*100,2)\n",
    "popular_event"
   ]
  },
  {
   "cell_type": "markdown",
   "metadata": {},
   "source": [
    "###### Аналогично поступите с группой с изменённым шрифтом. Сравните результаты с каждой из контрольных групп в отдельности по каждому событию. Сравните результаты с объединённой контрольной группой. Какие выводы из эксперимента можно сделать?"
   ]
  },
  {
   "cell_type": "code",
   "execution_count": 40,
   "metadata": {},
   "outputs": [
    {
     "data": {
      "text/html": [
       "<div>\n",
       "<style scoped>\n",
       "    .dataframe tbody tr th:only-of-type {\n",
       "        vertical-align: middle;\n",
       "    }\n",
       "\n",
       "    .dataframe tbody tr th {\n",
       "        vertical-align: top;\n",
       "    }\n",
       "\n",
       "    .dataframe thead th {\n",
       "        text-align: right;\n",
       "    }\n",
       "</style>\n",
       "<table border=\"1\" class=\"dataframe\">\n",
       "  <thead>\n",
       "    <tr style=\"text-align: right;\">\n",
       "      <th>event_name</th>\n",
       "      <th>exp_id</th>\n",
       "      <th>CartScreenAppear</th>\n",
       "      <th>MainScreenAppear</th>\n",
       "      <th>OffersScreenAppear</th>\n",
       "      <th>PaymentScreenSuccessful</th>\n",
       "      <th>Tutorial</th>\n",
       "      <th>Total</th>\n",
       "    </tr>\n",
       "  </thead>\n",
       "  <tbody>\n",
       "    <tr>\n",
       "      <th>0</th>\n",
       "      <td>246</td>\n",
       "      <td>1154</td>\n",
       "      <td>2332</td>\n",
       "      <td>1427</td>\n",
       "      <td>1088</td>\n",
       "      <td>253</td>\n",
       "      <td>2365</td>\n",
       "    </tr>\n",
       "    <tr>\n",
       "      <th>1</th>\n",
       "      <td>247</td>\n",
       "      <td>1134</td>\n",
       "      <td>2365</td>\n",
       "      <td>1411</td>\n",
       "      <td>1055</td>\n",
       "      <td>268</td>\n",
       "      <td>2399</td>\n",
       "    </tr>\n",
       "    <tr>\n",
       "      <th>2</th>\n",
       "      <td>248</td>\n",
       "      <td>1109</td>\n",
       "      <td>2366</td>\n",
       "      <td>1407</td>\n",
       "      <td>1062</td>\n",
       "      <td>255</td>\n",
       "      <td>2409</td>\n",
       "    </tr>\n",
       "    <tr>\n",
       "      <th>3</th>\n",
       "      <td>493</td>\n",
       "      <td>2288</td>\n",
       "      <td>4697</td>\n",
       "      <td>2838</td>\n",
       "      <td>2143</td>\n",
       "      <td>521</td>\n",
       "      <td>4764</td>\n",
       "    </tr>\n",
       "  </tbody>\n",
       "</table>\n",
       "</div>"
      ],
      "text/plain": [
       "event_name  exp_id  CartScreenAppear  MainScreenAppear  OffersScreenAppear  \\\n",
       "0              246              1154              2332                1427   \n",
       "1              247              1134              2365                1411   \n",
       "2              248              1109              2366                1407   \n",
       "3              493              2288              4697                2838   \n",
       "\n",
       "event_name  PaymentScreenSuccessful  Tutorial  Total  \n",
       "0                              1088       253   2365  \n",
       "1                              1055       268   2399  \n",
       "2                              1062       255   2409  \n",
       "3                              2143       521   4764  "
      ]
     },
     "execution_count": 40,
     "metadata": {},
     "output_type": "execute_result"
    }
   ],
   "source": [
    "groped_events.loc[3] = groped_events.loc[0] + groped_events.loc[1]\n",
    "groped_events"
   ]
  },
  {
   "cell_type": "markdown",
   "metadata": {},
   "source": [
    "Сформулируем гипотезы:\n",
    "\n",
    "1. Нулевая гипотеза: различий в долях между выборками 246 и 248 нет. Альтернативная гипотеза: различия в долях между выборками 246 и 248 есть.\n",
    "\n",
    "2. Нулевая гипотеза: различий в долях между выборками 247 и 248 нет. Альтернативная гипотеза: различия в долях между выборками 247 и 248 есть."
   ]
  },
  {
   "cell_type": "code",
   "execution_count": 43,
   "metadata": {},
   "outputs": [
    {
     "data": {
      "text/plain": [
       "2365"
      ]
     },
     "execution_count": 43,
     "metadata": {},
     "output_type": "execute_result"
    }
   ],
   "source": [
    "groped_events.iloc[0,6]"
   ]
  },
  {
   "cell_type": "code",
   "execution_count": 41,
   "metadata": {},
   "outputs": [
    {
     "name": "stdout",
     "output_type": "stream",
     "text": [
      "Проверка гипотезы о равности долей групп 246 и 248 по событию CartScreenAppear\n",
      "p-значение:  0.05626720797991558\n",
      "Не получилось отвергнуть нулевую гипотезу, нет оснований считать доли разными\n",
      "Проверка гипотезы о равности долей групп 247 и 248 по событию CartScreenAppear\n",
      "p-значение:  0.3911281023781876\n",
      "Не получилось отвергнуть нулевую гипотезу, нет оснований считать доли разными\n",
      "____________________________________________________________________________________________\n",
      "Проверка гипотезы о равности долей групп 246 и 248 по событию MainScreenAppear\n",
      "p-значение:  0.2822092595945087\n",
      "Не получилось отвергнуть нулевую гипотезу, нет оснований считать доли разными\n",
      "Проверка гипотезы о равности долей групп 247 и 248 по событию MainScreenAppear\n",
      "p-значение:  0.30983823318398684\n",
      "Не получилось отвергнуть нулевую гипотезу, нет оснований считать доли разными\n",
      "____________________________________________________________________________________________\n",
      "Проверка гипотезы о равности долей групп 246 и 248 по событию OffersScreenAppear\n",
      "p-значение:  0.17411984437962635\n",
      "Не получилось отвергнуть нулевую гипотезу, нет оснований считать доли разными\n",
      "Проверка гипотезы о равности долей групп 247 и 248 по событию OffersScreenAppear\n",
      "p-значение:  0.7727788233190573\n",
      "Не получилось отвергнуть нулевую гипотезу, нет оснований считать доли разными\n",
      "____________________________________________________________________________________________\n",
      "Проверка гипотезы о равности долей групп 246 и 248 по событию PaymentScreenSuccessful\n",
      "p-значение:  0.18258984074768403\n",
      "Не получилось отвергнуть нулевую гипотезу, нет оснований считать доли разными\n",
      "Проверка гипотезы о равности долей групп 247 и 248 по событию PaymentScreenSuccessful\n",
      "p-значение:  0.939861444239728\n",
      "Не получилось отвергнуть нулевую гипотезу, нет оснований считать доли разными\n",
      "____________________________________________________________________________________________\n",
      "Проверка гипотезы о равности долей групп 246 и 248 по событию Tutorial\n",
      "p-значение:  0.8998214332207524\n",
      "Не получилось отвергнуть нулевую гипотезу, нет оснований считать доли разными\n",
      "Проверка гипотезы о равности долей групп 247 и 248 по событию Tutorial\n",
      "p-значение:  0.514060593022434\n",
      "Не получилось отвергнуть нулевую гипотезу, нет оснований считать доли разными\n",
      "____________________________________________________________________________________________\n"
     ]
    }
   ],
   "source": [
    "columns = [1,2,3,4,5]\n",
    "\n",
    "for column in columns:\n",
    "    print('Проверка гипотезы о равности долей групп 246 и 248 по событию',groped_events.columns[column])\n",
    "    z_test(groped_events.iloc[0,column], groped_events.iloc[2,column], groped_events.iloc[0,6], groped_events.iloc[2,6], alpha)\n",
    "    \n",
    "    print('Проверка гипотезы о равности долей групп 247 и 248 по событию',groped_events.columns[column])\n",
    "    z_test(groped_events.iloc[1,column], groped_events.iloc[2,column], groped_events.iloc[1,6], groped_events.iloc[2,6], alpha)\n",
    "    \n",
    "    print('____________________________________________________________________________________________')"
   ]
  },
  {
   "cell_type": "code",
   "execution_count": 42,
   "metadata": {},
   "outputs": [
    {
     "name": "stdout",
     "output_type": "stream",
     "text": [
      "Проверка гипотезы о равности долей групп 246+247 и 248 по событию CartScreenAppear\n",
      "p-значение:  0.11068078406757342\n",
      "Не получилось отвергнуть нулевую гипотезу, нет оснований считать доли разными\n",
      "____________________________________________________________________________________________\n",
      "Проверка гипотезы о равности долей групп 246+247 и 248 по событию MainScreenAppear\n",
      "p-значение:  0.2178174063864624\n",
      "Не получилось отвергнуть нулевую гипотезу, нет оснований считать доли разными\n",
      "____________________________________________________________________________________________\n",
      "Проверка гипотезы о равности долей групп 246+247 и 248 по событию OffersScreenAppear\n",
      "p-значение:  0.342740437463807\n",
      "Не получилось отвергнуть нулевую гипотезу, нет оснований считать доли разными\n",
      "____________________________________________________________________________________________\n",
      "Проверка гипотезы о равности долей групп 246+247 и 248 по событию PaymentScreenSuccessful\n",
      "p-значение:  0.46973441160530083\n",
      "Не получилось отвергнуть нулевую гипотезу, нет оснований считать доли разными\n",
      "____________________________________________________________________________________________\n",
      "Проверка гипотезы о равности долей групп 246+247 и 248 по событию Tutorial\n",
      "p-значение:  0.651374302235515\n",
      "Не получилось отвергнуть нулевую гипотезу, нет оснований считать доли разными\n",
      "____________________________________________________________________________________________\n"
     ]
    }
   ],
   "source": [
    "columns = [1,2,3,4,5]\n",
    "\n",
    "for column in columns:\n",
    "    print('Проверка гипотезы о равности долей групп 246+247 и 248 по событию',groped_events.columns[column])\n",
    "    z_test(groped_events.iloc[2,column], groped_events.iloc[3,column], groped_events.iloc[2,6], groped_events.iloc[3,6], alpha)\n",
    "    \n",
    "    print('____________________________________________________________________________________________')"
   ]
  },
  {
   "cell_type": "markdown",
   "metadata": {},
   "source": [
    "Вывод:На основании проверенных гипотез между группами 246, 247, 248 различий по событиям не выявленно. Скорее всего изменение шрифта никак не повлияло на прохождение пользователями всех этапов."
   ]
  },
  {
   "cell_type": "markdown",
   "metadata": {},
   "source": [
    "###### Какой уровень значимости вы выбрали при проверке статистических гипотез выше? Посчитайте, сколько проверок статистических гипотез вы сделали. При уровне значимости 0.1 каждый десятый раз можно получать ложный результат. Какой уровень значимости стоит применить? Если вы хотите изменить его, проделайте предыдущие пункты и проверьте свои выводы."
   ]
  },
  {
   "cell_type": "markdown",
   "metadata": {},
   "source": [
    "При проверке статистических гипотез был выбран уровень значимости 0,05. Было выполнено 20 проверок статистических гипотез. При использования значения 0,01 результат не изменился."
   ]
  },
  {
   "cell_type": "markdown",
   "metadata": {},
   "source": [
    "### Вывод: \n",
    "\n",
    "Проанализировали датасет (244 126 строки).\n",
    "\n",
    "Выполнили предварительную предобработку датасета:\n",
    "\n",
    "1. Названия столбцов приведены к нижнему регистру. \n",
    "2. Даты в верный формат, добавлен столбец 'date', 'month' - даты без времени и месяц в цифровом формате. \n",
    "3. Проверили на отстствие пропусков - 0.\n",
    "4. Проверили на наличие дубликатов. Было найдено 413 дубликатов. После удаления дубликатов остались данные на 243 713 строки.\n",
    "5. После удаления дубликатов осталоось 7 551 пользователей.\n",
    "\n",
    "Расчитали, что в среднем на одного пользователя приходится по 32 события. На 75% пользователей приходится 37 событий. Максимальное число событий 2 307. Стандартное отклонение 65,15. \n",
    "\n",
    "Начало периода 25/07/2019, а окончание - 07/08/2019. Полные данные в логе отображаются с 01/08/2019. Не полные с 25/07/2019 по 31/07/2019. Количество данных в июле - 2 410(неполные данные). Были оставлены данные за август - 171 321. Распределение по группам следующее: \n",
    "1. 246 - (2365)\n",
    "2. 247 - (2399)\n",
    "3. 248 - (2409)\n",
    "\n",
    "События в логе: CartScreenAppear(Появление экрана с корзиной), MainScreenAppear(Появление главного экрана), OffersScreenAppear(Появление экрана с предложением), PaymentScreenSuccessful(Появление экрана с успешной оплатой), Tutorial(Индивидуальное обучение) Воронка - постепенное уменьшение количества событий от большего к меньшему. Соответственное расположение событий:\n",
    "\n",
    "1. MainScreenAppear\n",
    "2. OffersScreenAppear\n",
    "3. CartScreenAppear\n",
    "4. PaymentScreenSuccessful\n",
    "5. Tutorial(не относится к воронке)\n",
    "\n",
    "С этапа MainScreenAppear 60% перешло к следующему OffersScreenAppear. \n",
    "С этапа OffersScreenAppear к CartScreenAppear перешло 80%. \n",
    "С этапа CartScreenAppear на PaymentScreenSuccessful перешло 94%\n",
    "С PaymentScreenSuccessful к Tutorial перешло 24% пользователей.\n",
    "\n",
    "При анализе соотношения от этапа к этапу можно отметить, что больше всего теряется пользователей при перехоже с первого на второй этап(MainScreenAppear->OffersScreenAppear) - переходит 15% пользователей. И при переходе с 4 на 5 этап - PaymentScreenSuccessful->Tutorial - переходит 13% пользователей\n",
    "\n",
    "Наибольшее кол-во событий у MainScreenAppear - 99416. Количество у OffersScreenAppear, CartScreenAppear и PaymentScreenSuccessful находится примерно в одном диапазоне - 32187, 22124, 16667 соответственно. Самое наименьшее кол-во у Tutorial - 927.\n",
    "\n",
    "Было выполнено 20 проверок статистических гипотез. Было проанализировано три группы уникалбных пользователей: 246, 247, 248. Группы 246 и 247 - контрольные, 248 - эксперементальная. 2 контрольные группы со старыми шрифтами и одна экспериментальная — с новыми. Гипотеза о том, что новый шрифт увеличит число пользователей, доходящих до последнего этапа оплаты, не подтвердилась. \n",
    "Провери сравнения групп 246 и 247, 246 и 248, 247 и 248, 246+247 и 248. Значимых различий между группами обнаружено не было.\n",
    "\n",
    "Большая часть пользователей(2818) теряется при переходе с первого этапа на второй (от просмотра экрана на экран с предложением) и при переходе с 4 на 5 этап(2429) (с экрана оплаты на экран с индивидуальным обучением).\n",
    "\n",
    "Рекомендации: на мой взгляд один из вариантов проверить технические ошибки приложения на этапах, на которых теряется наибольшее количество пользователей. Второй - продлить срок исследования на несколько недель больше."
   ]
  },
  {
   "cell_type": "code",
   "execution_count": null,
   "metadata": {},
   "outputs": [],
   "source": []
  }
 ],
 "metadata": {
  "ExecuteTimeLog": [
   {
    "duration": 421,
    "start_time": "2023-05-22T19:46:42.643Z"
   },
   {
    "duration": 916,
    "start_time": "2023-05-22T19:57:19.504Z"
   },
   {
    "duration": 26,
    "start_time": "2023-05-22T19:57:28.135Z"
   },
   {
    "duration": 51,
    "start_time": "2023-05-22T19:57:48.833Z"
   },
   {
    "duration": 47,
    "start_time": "2023-05-22T19:58:16.667Z"
   },
   {
    "duration": 47,
    "start_time": "2023-05-22T19:58:44.057Z"
   },
   {
    "duration": 398,
    "start_time": "2023-05-22T19:59:19.052Z"
   },
   {
    "duration": 7,
    "start_time": "2023-05-22T19:59:21.336Z"
   },
   {
    "duration": 263,
    "start_time": "2023-05-22T19:59:36.939Z"
   },
   {
    "duration": 24,
    "start_time": "2023-05-22T19:59:38.623Z"
   },
   {
    "duration": 193,
    "start_time": "2023-05-22T20:00:25.869Z"
   },
   {
    "duration": 19,
    "start_time": "2023-05-22T20:00:27.218Z"
   },
   {
    "duration": 8,
    "start_time": "2023-05-22T20:00:48.641Z"
   },
   {
    "duration": 28,
    "start_time": "2023-05-22T20:00:57.676Z"
   },
   {
    "duration": 11,
    "start_time": "2023-05-22T20:01:55.932Z"
   },
   {
    "duration": 755,
    "start_time": "2023-05-22T20:02:07.971Z"
   },
   {
    "duration": 175,
    "start_time": "2023-05-22T20:02:20.588Z"
   },
   {
    "duration": 187,
    "start_time": "2023-05-22T20:02:34.038Z"
   },
   {
    "duration": 31,
    "start_time": "2023-05-22T20:02:54.007Z"
   },
   {
    "duration": 9,
    "start_time": "2023-05-22T20:03:02.320Z"
   },
   {
    "duration": 610,
    "start_time": "2023-05-22T20:03:11.127Z"
   },
   {
    "duration": 7,
    "start_time": "2023-05-22T20:05:17.375Z"
   },
   {
    "duration": 23,
    "start_time": "2023-05-22T20:06:02.225Z"
   },
   {
    "duration": 58,
    "start_time": "2023-05-22T20:06:41.085Z"
   },
   {
    "duration": 21,
    "start_time": "2023-05-22T20:07:02.258Z"
   },
   {
    "duration": 31,
    "start_time": "2023-05-22T20:07:09.435Z"
   },
   {
    "duration": 71,
    "start_time": "2023-05-22T20:07:51.852Z"
   },
   {
    "duration": 11,
    "start_time": "2023-05-22T20:09:51.386Z"
   },
   {
    "duration": 13,
    "start_time": "2023-05-22T20:10:07.873Z"
   },
   {
    "duration": 160,
    "start_time": "2023-05-22T20:10:18.402Z"
   },
   {
    "duration": 145,
    "start_time": "2023-05-22T20:10:26.650Z"
   },
   {
    "duration": 196,
    "start_time": "2023-05-22T20:11:16.771Z"
   },
   {
    "duration": 219,
    "start_time": "2023-05-22T20:12:13.418Z"
   },
   {
    "duration": 180,
    "start_time": "2023-05-22T20:12:27.096Z"
   },
   {
    "duration": 88,
    "start_time": "2023-05-22T20:19:49.865Z"
   },
   {
    "duration": 54,
    "start_time": "2023-05-22T20:19:55.944Z"
   },
   {
    "duration": 52,
    "start_time": "2023-05-22T20:20:06.067Z"
   },
   {
    "duration": 57,
    "start_time": "2023-05-22T20:22:53.556Z"
   },
   {
    "duration": 35,
    "start_time": "2023-05-22T20:24:15.046Z"
   },
   {
    "duration": 1371,
    "start_time": "2023-05-22T20:24:24.877Z"
   },
   {
    "duration": 21,
    "start_time": "2023-05-22T20:24:26.250Z"
   },
   {
    "duration": 25,
    "start_time": "2023-05-22T20:24:26.273Z"
   },
   {
    "duration": 20,
    "start_time": "2023-05-22T20:24:26.300Z"
   },
   {
    "duration": 24,
    "start_time": "2023-05-22T20:24:26.322Z"
   },
   {
    "duration": 25,
    "start_time": "2023-05-22T20:24:26.353Z"
   },
   {
    "duration": 67,
    "start_time": "2023-05-22T20:24:26.380Z"
   },
   {
    "duration": 204,
    "start_time": "2023-05-22T20:24:45.128Z"
   },
   {
    "duration": 52,
    "start_time": "2023-05-22T20:24:48.666Z"
   },
   {
    "duration": 174,
    "start_time": "2023-05-22T20:25:35.276Z"
   },
   {
    "duration": 196,
    "start_time": "2023-05-22T20:26:15.078Z"
   },
   {
    "duration": 96,
    "start_time": "2023-05-22T20:28:04.101Z"
   },
   {
    "duration": 19,
    "start_time": "2023-05-22T20:28:27.267Z"
   },
   {
    "duration": 25,
    "start_time": "2023-05-22T20:28:38.001Z"
   },
   {
    "duration": 18,
    "start_time": "2023-05-22T20:28:58.098Z"
   },
   {
    "duration": 1528,
    "start_time": "2023-05-22T20:29:08.467Z"
   },
   {
    "duration": 24,
    "start_time": "2023-05-22T20:29:09.998Z"
   },
   {
    "duration": 44,
    "start_time": "2023-05-22T20:29:10.034Z"
   },
   {
    "duration": 58,
    "start_time": "2023-05-22T20:29:10.080Z"
   },
   {
    "duration": 27,
    "start_time": "2023-05-22T20:29:10.145Z"
   },
   {
    "duration": 211,
    "start_time": "2023-05-22T20:29:10.174Z"
   },
   {
    "duration": 131,
    "start_time": "2023-05-22T20:29:10.388Z"
   },
   {
    "duration": 31,
    "start_time": "2023-05-22T20:29:10.523Z"
   },
   {
    "duration": 37,
    "start_time": "2023-05-22T20:30:11.406Z"
   },
   {
    "duration": 335,
    "start_time": "2023-05-22T20:31:05.568Z"
   },
   {
    "duration": 109,
    "start_time": "2023-05-22T20:32:31.160Z"
   },
   {
    "duration": 218,
    "start_time": "2023-05-22T20:32:36.707Z"
   },
   {
    "duration": 199,
    "start_time": "2023-05-22T20:44:31.774Z"
   },
   {
    "duration": 123,
    "start_time": "2023-05-22T20:45:42.955Z"
   },
   {
    "duration": 916,
    "start_time": "2023-05-22T20:46:06.344Z"
   },
   {
    "duration": 1317,
    "start_time": "2023-05-22T20:46:42.852Z"
   },
   {
    "duration": 15,
    "start_time": "2023-05-22T20:46:44.171Z"
   },
   {
    "duration": 61,
    "start_time": "2023-05-22T20:46:44.188Z"
   },
   {
    "duration": 11,
    "start_time": "2023-05-22T20:46:44.252Z"
   },
   {
    "duration": 13,
    "start_time": "2023-05-22T20:46:44.265Z"
   },
   {
    "duration": 149,
    "start_time": "2023-05-22T20:46:44.280Z"
   },
   {
    "duration": 26,
    "start_time": "2023-05-22T20:46:44.431Z"
   },
   {
    "duration": 110,
    "start_time": "2023-05-22T20:46:44.459Z"
   },
   {
    "duration": 156,
    "start_time": "2023-05-22T20:46:44.570Z"
   },
   {
    "duration": 32,
    "start_time": "2023-05-22T20:46:44.728Z"
   },
   {
    "duration": 6,
    "start_time": "2023-05-22T20:48:13.172Z"
   },
   {
    "duration": 153,
    "start_time": "2023-05-22T20:48:19.005Z"
   },
   {
    "duration": 5,
    "start_time": "2023-05-22T20:48:36.826Z"
   },
   {
    "duration": 7,
    "start_time": "2023-05-22T20:48:54.182Z"
   },
   {
    "duration": 14,
    "start_time": "2023-05-22T20:49:02.435Z"
   },
   {
    "duration": 10,
    "start_time": "2023-05-22T20:49:09.744Z"
   },
   {
    "duration": 26,
    "start_time": "2023-05-22T20:51:28.701Z"
   },
   {
    "duration": 12,
    "start_time": "2023-05-22T20:51:55.852Z"
   },
   {
    "duration": 20,
    "start_time": "2023-05-22T20:52:06.877Z"
   },
   {
    "duration": 9,
    "start_time": "2023-05-22T20:52:53.232Z"
   },
   {
    "duration": 11,
    "start_time": "2023-05-22T20:53:01.577Z"
   },
   {
    "duration": 14,
    "start_time": "2023-05-22T20:53:19.677Z"
   },
   {
    "duration": 12,
    "start_time": "2023-05-22T20:53:32.434Z"
   },
   {
    "duration": 61,
    "start_time": "2023-05-22T20:53:38.024Z"
   },
   {
    "duration": 12,
    "start_time": "2023-05-22T20:53:41.638Z"
   },
   {
    "duration": 9,
    "start_time": "2023-05-22T20:56:04.897Z"
   },
   {
    "duration": 45,
    "start_time": "2023-05-23T18:28:51.613Z"
   },
   {
    "duration": 10,
    "start_time": "2023-05-23T18:29:01.901Z"
   },
   {
    "duration": 1784,
    "start_time": "2023-05-23T18:29:08.510Z"
   },
   {
    "duration": 19,
    "start_time": "2023-05-23T18:29:10.296Z"
   },
   {
    "duration": 31,
    "start_time": "2023-05-23T18:29:10.317Z"
   },
   {
    "duration": 12,
    "start_time": "2023-05-23T18:29:10.350Z"
   },
   {
    "duration": 13,
    "start_time": "2023-05-23T18:29:10.364Z"
   },
   {
    "duration": 156,
    "start_time": "2023-05-23T18:29:10.378Z"
   },
   {
    "duration": 17,
    "start_time": "2023-05-23T18:29:10.535Z"
   },
   {
    "duration": 98,
    "start_time": "2023-05-23T18:29:10.553Z"
   },
   {
    "duration": 120,
    "start_time": "2023-05-23T18:29:10.653Z"
   },
   {
    "duration": 12,
    "start_time": "2023-05-23T18:29:10.774Z"
   },
   {
    "duration": 28,
    "start_time": "2023-05-23T18:29:10.788Z"
   },
   {
    "duration": 45,
    "start_time": "2023-05-23T18:35:04.828Z"
   },
   {
    "duration": 37,
    "start_time": "2023-05-23T18:35:35.578Z"
   },
   {
    "duration": 43,
    "start_time": "2023-05-23T18:37:02.099Z"
   },
   {
    "duration": 50,
    "start_time": "2023-05-23T18:37:46.748Z"
   },
   {
    "duration": 44,
    "start_time": "2023-05-23T18:38:01.315Z"
   },
   {
    "duration": 109,
    "start_time": "2023-05-23T20:00:07.949Z"
   },
   {
    "duration": 14,
    "start_time": "2023-05-23T20:00:21.307Z"
   },
   {
    "duration": 114,
    "start_time": "2023-05-23T20:00:51.980Z"
   },
   {
    "duration": 41,
    "start_time": "2023-05-23T20:01:00.613Z"
   },
   {
    "duration": 12,
    "start_time": "2023-05-23T20:03:27.321Z"
   },
   {
    "duration": 24,
    "start_time": "2023-05-23T20:03:31.173Z"
   },
   {
    "duration": 1370,
    "start_time": "2023-05-23T20:03:42.382Z"
   },
   {
    "duration": 1194,
    "start_time": "2023-05-23T20:03:49.795Z"
   },
   {
    "duration": 12,
    "start_time": "2023-05-23T20:03:50.991Z"
   },
   {
    "duration": 24,
    "start_time": "2023-05-23T20:03:51.005Z"
   },
   {
    "duration": 12,
    "start_time": "2023-05-23T20:03:51.030Z"
   },
   {
    "duration": 24,
    "start_time": "2023-05-23T20:03:51.043Z"
   },
   {
    "duration": 117,
    "start_time": "2023-05-23T20:03:51.068Z"
   },
   {
    "duration": 22,
    "start_time": "2023-05-23T20:03:51.186Z"
   },
   {
    "duration": 74,
    "start_time": "2023-05-23T20:03:51.210Z"
   },
   {
    "duration": 112,
    "start_time": "2023-05-23T20:03:51.297Z"
   },
   {
    "duration": 14,
    "start_time": "2023-05-23T20:03:51.411Z"
   },
   {
    "duration": 104,
    "start_time": "2023-05-23T20:03:51.427Z"
   },
   {
    "duration": 0,
    "start_time": "2023-05-23T20:03:51.533Z"
   },
   {
    "duration": 38,
    "start_time": "2023-05-23T20:04:25.324Z"
   },
   {
    "duration": 10,
    "start_time": "2023-05-23T20:05:08.602Z"
   },
   {
    "duration": 40,
    "start_time": "2023-05-23T20:05:30.205Z"
   },
   {
    "duration": 39,
    "start_time": "2023-05-23T20:07:24.262Z"
   },
   {
    "duration": 15,
    "start_time": "2023-05-23T20:11:15.886Z"
   },
   {
    "duration": 16,
    "start_time": "2023-05-23T20:11:31.653Z"
   },
   {
    "duration": 15,
    "start_time": "2023-05-23T20:12:08.482Z"
   },
   {
    "duration": 125,
    "start_time": "2023-05-23T20:12:30.602Z"
   },
   {
    "duration": 17,
    "start_time": "2023-05-23T20:12:49.276Z"
   },
   {
    "duration": 21,
    "start_time": "2023-05-23T20:25:13.690Z"
   },
   {
    "duration": 18,
    "start_time": "2023-05-23T20:25:19.203Z"
   },
   {
    "duration": 26,
    "start_time": "2023-05-23T20:35:13.524Z"
   },
   {
    "duration": 15,
    "start_time": "2023-05-23T20:42:17.389Z"
   },
   {
    "duration": 11,
    "start_time": "2023-05-23T20:43:37.111Z"
   },
   {
    "duration": 16,
    "start_time": "2023-05-23T20:43:43.119Z"
   },
   {
    "duration": 169,
    "start_time": "2023-05-23T20:45:25.393Z"
   },
   {
    "duration": 16,
    "start_time": "2023-05-23T20:46:02.897Z"
   },
   {
    "duration": 12,
    "start_time": "2023-05-23T20:46:09.621Z"
   },
   {
    "duration": 16,
    "start_time": "2023-05-23T20:55:06.380Z"
   },
   {
    "duration": 14,
    "start_time": "2023-05-23T20:56:09.718Z"
   },
   {
    "duration": 14,
    "start_time": "2023-05-23T20:56:16.911Z"
   },
   {
    "duration": 5,
    "start_time": "2023-05-23T20:56:54.247Z"
   },
   {
    "duration": 7,
    "start_time": "2023-05-23T20:57:42.824Z"
   },
   {
    "duration": 9,
    "start_time": "2023-05-23T20:58:42.848Z"
   },
   {
    "duration": 8,
    "start_time": "2023-05-23T20:58:58.657Z"
   },
   {
    "duration": 9,
    "start_time": "2023-05-23T21:00:03.169Z"
   },
   {
    "duration": 1954,
    "start_time": "2023-05-24T19:50:02.841Z"
   },
   {
    "duration": 12,
    "start_time": "2023-05-24T19:50:04.797Z"
   },
   {
    "duration": 26,
    "start_time": "2023-05-24T19:50:04.811Z"
   },
   {
    "duration": 13,
    "start_time": "2023-05-24T19:50:04.840Z"
   },
   {
    "duration": 23,
    "start_time": "2023-05-24T19:50:04.854Z"
   },
   {
    "duration": 119,
    "start_time": "2023-05-24T19:50:04.879Z"
   },
   {
    "duration": 27,
    "start_time": "2023-05-24T19:50:05.000Z"
   },
   {
    "duration": 92,
    "start_time": "2023-05-24T19:50:05.029Z"
   },
   {
    "duration": 112,
    "start_time": "2023-05-24T19:50:05.123Z"
   },
   {
    "duration": 12,
    "start_time": "2023-05-24T19:50:05.238Z"
   },
   {
    "duration": 21,
    "start_time": "2023-05-24T19:50:05.252Z"
   },
   {
    "duration": 22,
    "start_time": "2023-05-24T19:50:05.274Z"
   },
   {
    "duration": 27,
    "start_time": "2023-05-24T19:50:05.297Z"
   },
   {
    "duration": 8,
    "start_time": "2023-05-24T19:54:57.413Z"
   },
   {
    "duration": 12,
    "start_time": "2023-05-24T19:55:07.624Z"
   },
   {
    "duration": 18,
    "start_time": "2023-05-24T19:55:43.286Z"
   },
   {
    "duration": 30,
    "start_time": "2023-05-24T20:07:12.778Z"
   },
   {
    "duration": 37,
    "start_time": "2023-05-24T20:15:45.199Z"
   },
   {
    "duration": 37,
    "start_time": "2023-05-24T20:15:59.615Z"
   },
   {
    "duration": 38,
    "start_time": "2023-05-24T20:16:24.985Z"
   },
   {
    "duration": 399,
    "start_time": "2023-05-24T20:22:13.714Z"
   },
   {
    "duration": 49,
    "start_time": "2023-05-24T20:22:23.054Z"
   },
   {
    "duration": 437,
    "start_time": "2023-05-24T20:24:37.892Z"
   },
   {
    "duration": 43,
    "start_time": "2023-05-24T20:24:59.555Z"
   },
   {
    "duration": 103,
    "start_time": "2023-05-24T20:27:19.616Z"
   },
   {
    "duration": 72,
    "start_time": "2023-05-24T20:29:27.795Z"
   },
   {
    "duration": 78,
    "start_time": "2023-05-24T20:32:17.745Z"
   },
   {
    "duration": 81,
    "start_time": "2023-05-24T20:32:25.374Z"
   },
   {
    "duration": 340,
    "start_time": "2023-05-24T20:34:21.352Z"
   },
   {
    "duration": 39,
    "start_time": "2023-05-24T20:34:37.948Z"
   },
   {
    "duration": 72,
    "start_time": "2023-05-24T20:34:48.256Z"
   },
   {
    "duration": 62,
    "start_time": "2023-05-24T20:35:12.983Z"
   },
   {
    "duration": 335,
    "start_time": "2023-05-24T20:35:51.253Z"
   },
   {
    "duration": 367,
    "start_time": "2023-05-24T20:36:06.217Z"
   },
   {
    "duration": 29,
    "start_time": "2023-05-24T20:36:46.695Z"
   },
   {
    "duration": 66,
    "start_time": "2023-05-24T20:37:19.387Z"
   },
   {
    "duration": 380,
    "start_time": "2023-05-24T20:37:27.845Z"
   },
   {
    "duration": 29,
    "start_time": "2023-05-24T20:37:37.673Z"
   },
   {
    "duration": 134,
    "start_time": "2023-05-24T20:38:38.946Z"
   },
   {
    "duration": 47,
    "start_time": "2023-05-24T20:38:46.366Z"
   },
   {
    "duration": 47,
    "start_time": "2023-05-24T20:39:07.147Z"
   },
   {
    "duration": 25,
    "start_time": "2023-05-24T20:39:15.444Z"
   },
   {
    "duration": 21,
    "start_time": "2023-05-24T20:39:45.545Z"
   },
   {
    "duration": 24,
    "start_time": "2023-05-24T20:39:55.137Z"
   },
   {
    "duration": 37,
    "start_time": "2023-05-24T20:40:55.697Z"
   },
   {
    "duration": 39,
    "start_time": "2023-05-24T20:41:10.841Z"
   },
   {
    "duration": 25,
    "start_time": "2023-05-24T20:41:34.909Z"
   },
   {
    "duration": 24,
    "start_time": "2023-05-24T20:41:48.310Z"
   },
   {
    "duration": 1925,
    "start_time": "2023-05-25T18:46:05.651Z"
   },
   {
    "duration": 12,
    "start_time": "2023-05-25T18:46:07.578Z"
   },
   {
    "duration": 19,
    "start_time": "2023-05-25T18:46:07.592Z"
   },
   {
    "duration": 15,
    "start_time": "2023-05-25T18:46:07.613Z"
   },
   {
    "duration": 31,
    "start_time": "2023-05-25T18:46:07.630Z"
   },
   {
    "duration": 126,
    "start_time": "2023-05-25T18:46:07.662Z"
   },
   {
    "duration": 29,
    "start_time": "2023-05-25T18:46:07.789Z"
   },
   {
    "duration": 123,
    "start_time": "2023-05-25T18:46:07.821Z"
   },
   {
    "duration": 105,
    "start_time": "2023-05-25T18:46:07.946Z"
   },
   {
    "duration": 16,
    "start_time": "2023-05-25T18:46:08.054Z"
   },
   {
    "duration": 8,
    "start_time": "2023-05-25T18:46:08.071Z"
   },
   {
    "duration": 47,
    "start_time": "2023-05-25T18:46:08.081Z"
   },
   {
    "duration": 36,
    "start_time": "2023-05-25T18:46:08.130Z"
   },
   {
    "duration": 80,
    "start_time": "2023-05-25T18:46:08.168Z"
   },
   {
    "duration": 25,
    "start_time": "2023-05-25T18:46:08.250Z"
   },
   {
    "duration": 13,
    "start_time": "2023-05-25T18:46:08.277Z"
   },
   {
    "duration": 21,
    "start_time": "2023-05-25T19:02:25.554Z"
   },
   {
    "duration": 23,
    "start_time": "2023-05-25T19:02:35.618Z"
   },
   {
    "duration": 1220,
    "start_time": "2023-05-25T19:07:48.689Z"
   },
   {
    "duration": 321,
    "start_time": "2023-05-25T19:08:23.209Z"
   },
   {
    "duration": 151,
    "start_time": "2023-05-25T19:14:54.689Z"
   },
   {
    "duration": 1410,
    "start_time": "2023-05-25T19:15:13.741Z"
   },
   {
    "duration": 14,
    "start_time": "2023-05-25T19:15:15.154Z"
   },
   {
    "duration": 43,
    "start_time": "2023-05-25T19:15:15.170Z"
   },
   {
    "duration": 15,
    "start_time": "2023-05-25T19:15:15.218Z"
   },
   {
    "duration": 25,
    "start_time": "2023-05-25T19:15:15.235Z"
   },
   {
    "duration": 181,
    "start_time": "2023-05-25T19:15:15.261Z"
   },
   {
    "duration": 20,
    "start_time": "2023-05-25T19:15:15.443Z"
   },
   {
    "duration": 102,
    "start_time": "2023-05-25T19:15:15.464Z"
   },
   {
    "duration": 125,
    "start_time": "2023-05-25T19:15:15.568Z"
   },
   {
    "duration": 11,
    "start_time": "2023-05-25T19:15:15.696Z"
   },
   {
    "duration": 14,
    "start_time": "2023-05-25T19:15:15.709Z"
   },
   {
    "duration": 14,
    "start_time": "2023-05-25T19:15:15.725Z"
   },
   {
    "duration": 29,
    "start_time": "2023-05-25T19:15:15.740Z"
   },
   {
    "duration": 80,
    "start_time": "2023-05-25T19:15:15.770Z"
   },
   {
    "duration": 472,
    "start_time": "2023-05-25T19:15:15.852Z"
   },
   {
    "duration": 0,
    "start_time": "2023-05-25T19:15:16.326Z"
   },
   {
    "duration": 40,
    "start_time": "2023-05-25T19:15:33.939Z"
   },
   {
    "duration": 27,
    "start_time": "2023-05-25T19:15:40.338Z"
   },
   {
    "duration": 135,
    "start_time": "2023-05-25T19:16:00.416Z"
   },
   {
    "duration": 145,
    "start_time": "2023-05-25T19:16:16.770Z"
   },
   {
    "duration": 100,
    "start_time": "2023-05-25T19:16:38.626Z"
   },
   {
    "duration": 38,
    "start_time": "2023-05-25T19:17:28.176Z"
   },
   {
    "duration": 12,
    "start_time": "2023-05-25T19:20:01.386Z"
   },
   {
    "duration": 60,
    "start_time": "2023-05-25T19:38:00.559Z"
   },
   {
    "duration": 55,
    "start_time": "2023-05-25T19:38:40.331Z"
   },
   {
    "duration": 33,
    "start_time": "2023-05-25T19:39:27.075Z"
   },
   {
    "duration": 142,
    "start_time": "2023-05-25T19:50:23.246Z"
   },
   {
    "duration": 144,
    "start_time": "2023-05-25T19:50:31.326Z"
   },
   {
    "duration": 31,
    "start_time": "2023-05-25T19:52:18.699Z"
   },
   {
    "duration": 34,
    "start_time": "2023-05-25T19:57:26.501Z"
   },
   {
    "duration": 1115,
    "start_time": "2023-05-25T19:57:53.536Z"
   },
   {
    "duration": 15,
    "start_time": "2023-05-25T19:58:00.274Z"
   },
   {
    "duration": 40,
    "start_time": "2023-05-25T20:02:16.766Z"
   },
   {
    "duration": 26,
    "start_time": "2023-05-25T20:02:43.161Z"
   },
   {
    "duration": 29,
    "start_time": "2023-05-25T20:03:36.214Z"
   },
   {
    "duration": 2271,
    "start_time": "2023-05-27T10:48:33.312Z"
   },
   {
    "duration": 18,
    "start_time": "2023-05-27T10:48:35.589Z"
   },
   {
    "duration": 25,
    "start_time": "2023-05-27T10:48:35.608Z"
   },
   {
    "duration": 16,
    "start_time": "2023-05-27T10:48:35.636Z"
   },
   {
    "duration": 34,
    "start_time": "2023-05-27T10:48:35.654Z"
   },
   {
    "duration": 200,
    "start_time": "2023-05-27T10:48:35.691Z"
   },
   {
    "duration": 31,
    "start_time": "2023-05-27T10:48:35.893Z"
   },
   {
    "duration": 140,
    "start_time": "2023-05-27T10:48:35.926Z"
   },
   {
    "duration": 145,
    "start_time": "2023-05-27T10:48:36.068Z"
   },
   {
    "duration": 18,
    "start_time": "2023-05-27T10:48:36.217Z"
   },
   {
    "duration": 18,
    "start_time": "2023-05-27T10:48:36.237Z"
   },
   {
    "duration": 44,
    "start_time": "2023-05-27T10:48:36.257Z"
   },
   {
    "duration": 58,
    "start_time": "2023-05-27T10:48:36.303Z"
   },
   {
    "duration": 65,
    "start_time": "2023-05-27T10:48:36.377Z"
   },
   {
    "duration": 63,
    "start_time": "2023-05-27T10:48:36.444Z"
   },
   {
    "duration": 35,
    "start_time": "2023-05-27T10:48:36.509Z"
   },
   {
    "duration": 58,
    "start_time": "2023-05-27T10:48:36.546Z"
   },
   {
    "duration": 132,
    "start_time": "2023-05-27T10:57:41.903Z"
   },
   {
    "duration": 63,
    "start_time": "2023-05-27T10:58:06.339Z"
   },
   {
    "duration": 33,
    "start_time": "2023-05-27T10:58:31.339Z"
   },
   {
    "duration": 22,
    "start_time": "2023-05-27T11:02:49.662Z"
   },
   {
    "duration": 58,
    "start_time": "2023-05-27T11:03:26.624Z"
   },
   {
    "duration": 33,
    "start_time": "2023-05-27T11:03:55.812Z"
   },
   {
    "duration": 30,
    "start_time": "2023-05-27T11:07:31.825Z"
   },
   {
    "duration": 26,
    "start_time": "2023-05-27T11:08:03.838Z"
   },
   {
    "duration": 38,
    "start_time": "2023-05-27T11:08:11.082Z"
   },
   {
    "duration": 26,
    "start_time": "2023-05-27T11:08:23.802Z"
   },
   {
    "duration": 25,
    "start_time": "2023-05-27T11:08:35.154Z"
   },
   {
    "duration": 27,
    "start_time": "2023-05-27T11:08:50.938Z"
   },
   {
    "duration": 30,
    "start_time": "2023-05-27T11:09:00.915Z"
   },
   {
    "duration": 31,
    "start_time": "2023-05-27T11:11:19.429Z"
   },
   {
    "duration": 46,
    "start_time": "2023-05-27T11:14:14.013Z"
   },
   {
    "duration": 45,
    "start_time": "2023-05-27T11:14:44.093Z"
   },
   {
    "duration": 43,
    "start_time": "2023-05-27T11:15:06.647Z"
   },
   {
    "duration": 34,
    "start_time": "2023-05-27T11:20:07.354Z"
   },
   {
    "duration": 38,
    "start_time": "2023-05-27T11:21:02.891Z"
   },
   {
    "duration": 48,
    "start_time": "2023-05-27T11:21:37.048Z"
   },
   {
    "duration": 47,
    "start_time": "2023-05-27T11:22:32.689Z"
   },
   {
    "duration": 31,
    "start_time": "2023-05-27T11:22:36.922Z"
   },
   {
    "duration": 30,
    "start_time": "2023-05-27T11:22:54.653Z"
   },
   {
    "duration": 50,
    "start_time": "2023-05-27T11:23:22.447Z"
   },
   {
    "duration": 40,
    "start_time": "2023-05-27T11:24:04.870Z"
   },
   {
    "duration": 43,
    "start_time": "2023-05-27T11:24:13.262Z"
   },
   {
    "duration": 48,
    "start_time": "2023-05-27T11:26:24.343Z"
   },
   {
    "duration": 32,
    "start_time": "2023-05-27T11:27:29.716Z"
   },
   {
    "duration": 42,
    "start_time": "2023-05-27T11:28:05.052Z"
   },
   {
    "duration": 26,
    "start_time": "2023-05-27T11:28:32.023Z"
   },
   {
    "duration": 27,
    "start_time": "2023-05-27T11:28:40.498Z"
   },
   {
    "duration": 28,
    "start_time": "2023-05-27T11:28:53.121Z"
   },
   {
    "duration": 24,
    "start_time": "2023-05-27T11:29:07.002Z"
   },
   {
    "duration": 12,
    "start_time": "2023-05-27T11:29:47.598Z"
   },
   {
    "duration": 14,
    "start_time": "2023-05-27T11:29:59.992Z"
   },
   {
    "duration": 1244,
    "start_time": "2023-05-27T12:09:27.522Z"
   },
   {
    "duration": 399,
    "start_time": "2023-05-27T12:12:23.368Z"
   },
   {
    "duration": 356,
    "start_time": "2023-05-27T12:12:46.870Z"
   },
   {
    "duration": 328,
    "start_time": "2023-05-27T12:12:54.437Z"
   },
   {
    "duration": 1219,
    "start_time": "2023-05-27T12:13:43.234Z"
   },
   {
    "duration": 800,
    "start_time": "2023-05-27T12:13:58.405Z"
   },
   {
    "duration": 588,
    "start_time": "2023-05-27T12:16:32.109Z"
   },
   {
    "duration": 612,
    "start_time": "2023-05-27T12:16:40.271Z"
   },
   {
    "duration": 1020,
    "start_time": "2023-05-27T12:18:26.917Z"
   },
   {
    "duration": 207,
    "start_time": "2023-05-27T12:18:30.723Z"
   },
   {
    "duration": 259,
    "start_time": "2023-05-27T12:18:52.920Z"
   },
   {
    "duration": 219,
    "start_time": "2023-05-27T12:19:10.788Z"
   },
   {
    "duration": 378,
    "start_time": "2023-05-27T12:19:20.639Z"
   },
   {
    "duration": 391,
    "start_time": "2023-05-27T12:19:25.128Z"
   },
   {
    "duration": 1505,
    "start_time": "2023-05-27T12:19:32.256Z"
   },
   {
    "duration": 1531,
    "start_time": "2023-05-27T12:20:14.737Z"
   },
   {
    "duration": 1562,
    "start_time": "2023-05-27T12:21:48.203Z"
   },
   {
    "duration": 1670,
    "start_time": "2023-05-27T12:21:57.293Z"
   },
   {
    "duration": 27,
    "start_time": "2023-05-27T13:04:50.476Z"
   },
   {
    "duration": 20,
    "start_time": "2023-05-27T13:05:41.239Z"
   },
   {
    "duration": 60,
    "start_time": "2023-05-27T13:05:48.819Z"
   },
   {
    "duration": 27,
    "start_time": "2023-05-27T13:05:52.098Z"
   },
   {
    "duration": 24,
    "start_time": "2023-05-27T13:06:03.306Z"
   },
   {
    "duration": 28,
    "start_time": "2023-05-27T13:31:42.374Z"
   },
   {
    "duration": 47,
    "start_time": "2023-05-27T13:32:38.318Z"
   },
   {
    "duration": 1625,
    "start_time": "2023-05-27T13:40:37.625Z"
   },
   {
    "duration": 15,
    "start_time": "2023-05-27T13:55:57.446Z"
   },
   {
    "duration": 12,
    "start_time": "2023-05-27T13:57:41.803Z"
   },
   {
    "duration": 23,
    "start_time": "2023-05-27T13:57:44.226Z"
   },
   {
    "duration": 11,
    "start_time": "2023-05-27T13:58:11.700Z"
   },
   {
    "duration": 6,
    "start_time": "2023-05-27T13:58:17.965Z"
   },
   {
    "duration": 4,
    "start_time": "2023-05-27T14:01:09.602Z"
   },
   {
    "duration": 4,
    "start_time": "2023-05-27T14:01:23.711Z"
   },
   {
    "duration": 5,
    "start_time": "2023-05-27T14:01:33.143Z"
   },
   {
    "duration": 6,
    "start_time": "2023-05-27T14:02:16.809Z"
   },
   {
    "duration": 11,
    "start_time": "2023-05-27T14:03:07.903Z"
   },
   {
    "duration": 10,
    "start_time": "2023-05-27T14:03:29.939Z"
   },
   {
    "duration": 931,
    "start_time": "2023-05-27T14:04:41.889Z"
   },
   {
    "duration": 959,
    "start_time": "2023-05-27T14:04:57.614Z"
   },
   {
    "duration": 11,
    "start_time": "2023-05-27T14:05:15.973Z"
   },
   {
    "duration": 9,
    "start_time": "2023-05-27T14:05:26.241Z"
   },
   {
    "duration": 62,
    "start_time": "2023-05-27T14:08:16.269Z"
   },
   {
    "duration": 54,
    "start_time": "2023-05-27T14:09:01.572Z"
   },
   {
    "duration": 29,
    "start_time": "2023-05-27T14:11:12.727Z"
   },
   {
    "duration": 57,
    "start_time": "2023-05-27T14:11:39.706Z"
   },
   {
    "duration": 9,
    "start_time": "2023-05-27T14:28:18.417Z"
   },
   {
    "duration": 20,
    "start_time": "2023-05-27T15:02:40.686Z"
   },
   {
    "duration": 41,
    "start_time": "2023-05-27T15:04:54.253Z"
   },
   {
    "duration": 55,
    "start_time": "2023-05-27T15:05:04.668Z"
   },
   {
    "duration": 37,
    "start_time": "2023-05-27T15:05:10.701Z"
   },
   {
    "duration": 43,
    "start_time": "2023-05-27T15:06:20.874Z"
   },
   {
    "duration": 64,
    "start_time": "2023-05-27T15:06:59.024Z"
   },
   {
    "duration": 38,
    "start_time": "2023-05-27T15:07:22.316Z"
   },
   {
    "duration": 38,
    "start_time": "2023-05-27T15:08:51.010Z"
   },
   {
    "duration": 44,
    "start_time": "2023-05-27T15:10:41.028Z"
   },
   {
    "duration": 40,
    "start_time": "2023-05-27T15:10:56.213Z"
   },
   {
    "duration": 34,
    "start_time": "2023-05-27T15:11:14.571Z"
   },
   {
    "duration": 37,
    "start_time": "2023-05-27T15:11:47.846Z"
   },
   {
    "duration": 23,
    "start_time": "2023-05-27T15:13:05.507Z"
   },
   {
    "duration": 23,
    "start_time": "2023-05-27T15:13:12.022Z"
   },
   {
    "duration": 14,
    "start_time": "2023-05-27T15:13:20.144Z"
   },
   {
    "duration": 33,
    "start_time": "2023-05-27T15:17:06.843Z"
   },
   {
    "duration": 28,
    "start_time": "2023-05-27T15:17:19.743Z"
   },
   {
    "duration": 21,
    "start_time": "2023-05-27T15:17:35.027Z"
   },
   {
    "duration": 31,
    "start_time": "2023-05-27T15:23:51.614Z"
   },
   {
    "duration": 25,
    "start_time": "2023-05-27T15:26:52.728Z"
   },
   {
    "duration": 37,
    "start_time": "2023-05-27T15:27:21.817Z"
   },
   {
    "duration": 29,
    "start_time": "2023-05-27T15:27:36.162Z"
   },
   {
    "duration": 25,
    "start_time": "2023-05-27T15:44:56.722Z"
   },
   {
    "duration": 26,
    "start_time": "2023-05-27T15:45:12.860Z"
   },
   {
    "duration": 63,
    "start_time": "2023-05-27T15:45:53.545Z"
   },
   {
    "duration": 1079,
    "start_time": "2023-05-27T15:49:01.944Z"
   },
   {
    "duration": 1090,
    "start_time": "2023-05-27T15:49:14.429Z"
   },
   {
    "duration": 1138,
    "start_time": "2023-05-27T15:51:00.123Z"
   },
   {
    "duration": 1272,
    "start_time": "2023-05-27T15:53:21.464Z"
   },
   {
    "duration": 1142,
    "start_time": "2023-05-27T15:53:32.898Z"
   },
   {
    "duration": 57,
    "start_time": "2023-05-27T15:53:55.258Z"
   },
   {
    "duration": 66,
    "start_time": "2023-05-27T15:54:24.571Z"
   },
   {
    "duration": 50,
    "start_time": "2023-05-27T15:54:32.804Z"
   },
   {
    "duration": 58,
    "start_time": "2023-05-27T15:55:07.594Z"
   },
   {
    "duration": 49,
    "start_time": "2023-05-27T15:55:17.358Z"
   },
   {
    "duration": 53,
    "start_time": "2023-05-27T15:55:22.215Z"
   },
   {
    "duration": 59,
    "start_time": "2023-05-27T15:55:39.531Z"
   },
   {
    "duration": 47,
    "start_time": "2023-05-27T15:55:43.730Z"
   },
   {
    "duration": 68,
    "start_time": "2023-05-27T15:55:54.012Z"
   },
   {
    "duration": 4,
    "start_time": "2023-05-27T15:56:33.324Z"
   },
   {
    "duration": 4,
    "start_time": "2023-05-27T15:56:37.436Z"
   },
   {
    "duration": 9,
    "start_time": "2023-05-27T15:56:49.795Z"
   },
   {
    "duration": 71,
    "start_time": "2023-05-27T15:57:01.879Z"
   },
   {
    "duration": 52,
    "start_time": "2023-05-27T15:57:05.196Z"
   },
   {
    "duration": 52,
    "start_time": "2023-05-27T15:57:13.290Z"
   },
   {
    "duration": 66,
    "start_time": "2023-05-27T15:57:22.828Z"
   },
   {
    "duration": 44,
    "start_time": "2023-05-27T15:57:34.519Z"
   },
   {
    "duration": 66,
    "start_time": "2023-05-27T15:57:56.005Z"
   },
   {
    "duration": 55,
    "start_time": "2023-05-27T15:58:13.328Z"
   },
   {
    "duration": 13,
    "start_time": "2023-05-27T15:58:31.223Z"
   },
   {
    "duration": 23,
    "start_time": "2023-05-27T15:58:56.972Z"
   },
   {
    "duration": 21,
    "start_time": "2023-05-27T15:59:10.366Z"
   },
   {
    "duration": 93,
    "start_time": "2023-05-27T16:42:09.892Z"
   },
   {
    "duration": 82,
    "start_time": "2023-05-27T16:42:24.674Z"
   },
   {
    "duration": 73,
    "start_time": "2023-05-27T16:43:05.028Z"
   },
   {
    "duration": 22,
    "start_time": "2023-05-27T16:46:20.129Z"
   },
   {
    "duration": 44,
    "start_time": "2023-05-27T16:47:51.805Z"
   },
   {
    "duration": 1137,
    "start_time": "2023-05-27T16:47:58.440Z"
   },
   {
    "duration": 22,
    "start_time": "2023-05-27T16:50:15.825Z"
   },
   {
    "duration": 21,
    "start_time": "2023-05-27T16:50:22.018Z"
   },
   {
    "duration": 29,
    "start_time": "2023-05-27T16:50:25.336Z"
   },
   {
    "duration": 24,
    "start_time": "2023-05-27T16:50:27.717Z"
   },
   {
    "duration": 74,
    "start_time": "2023-05-27T16:59:15.891Z"
   },
   {
    "duration": 40,
    "start_time": "2023-05-27T16:59:33.406Z"
   },
   {
    "duration": 43,
    "start_time": "2023-05-27T17:02:01.198Z"
   },
   {
    "duration": 40,
    "start_time": "2023-05-27T17:02:19.665Z"
   },
   {
    "duration": 1719,
    "start_time": "2023-05-27T17:05:24.454Z"
   },
   {
    "duration": 1041,
    "start_time": "2023-05-27T17:05:30.222Z"
   },
   {
    "duration": 996,
    "start_time": "2023-05-27T17:05:34.839Z"
   },
   {
    "duration": 999,
    "start_time": "2023-05-27T17:05:46.835Z"
   },
   {
    "duration": 27,
    "start_time": "2023-05-27T17:06:03.122Z"
   },
   {
    "duration": 32,
    "start_time": "2023-05-27T17:06:08.827Z"
   },
   {
    "duration": 27,
    "start_time": "2023-05-27T17:06:25.919Z"
   },
   {
    "duration": 52,
    "start_time": "2023-05-27T17:06:56.994Z"
   },
   {
    "duration": 26,
    "start_time": "2023-05-27T17:07:10.739Z"
   },
   {
    "duration": 36,
    "start_time": "2023-05-27T17:07:50.300Z"
   },
   {
    "duration": 42,
    "start_time": "2023-05-27T17:08:20.502Z"
   },
   {
    "duration": 35,
    "start_time": "2023-05-27T17:08:29.222Z"
   },
   {
    "duration": 28,
    "start_time": "2023-05-27T17:08:46.034Z"
   },
   {
    "duration": 40,
    "start_time": "2023-05-27T17:09:12.704Z"
   },
   {
    "duration": 24,
    "start_time": "2023-05-27T17:09:18.249Z"
   },
   {
    "duration": 22,
    "start_time": "2023-05-27T17:12:29.446Z"
   },
   {
    "duration": 22,
    "start_time": "2023-05-27T17:13:39.445Z"
   },
   {
    "duration": 40,
    "start_time": "2023-05-27T17:14:03.900Z"
   },
   {
    "duration": 24,
    "start_time": "2023-05-27T17:29:40.426Z"
   },
   {
    "duration": 24,
    "start_time": "2023-05-27T17:29:57.404Z"
   },
   {
    "duration": 21,
    "start_time": "2023-05-27T17:49:07.314Z"
   },
   {
    "duration": 27,
    "start_time": "2023-05-27T17:49:25.223Z"
   },
   {
    "duration": 23,
    "start_time": "2023-05-27T17:49:34.832Z"
   },
   {
    "duration": 37,
    "start_time": "2023-05-27T17:50:41.420Z"
   },
   {
    "duration": 58,
    "start_time": "2023-05-27T17:52:01.648Z"
   },
   {
    "duration": 24,
    "start_time": "2023-05-27T17:56:20.744Z"
   },
   {
    "duration": 61,
    "start_time": "2023-05-27T18:09:52.521Z"
   },
   {
    "duration": 69,
    "start_time": "2023-05-27T18:10:01.292Z"
   },
   {
    "duration": 62,
    "start_time": "2023-05-27T18:10:10.969Z"
   },
   {
    "duration": 56,
    "start_time": "2023-05-27T18:10:28.121Z"
   },
   {
    "duration": 42,
    "start_time": "2023-05-27T18:11:04.216Z"
   },
   {
    "duration": 15,
    "start_time": "2023-05-27T18:33:33.031Z"
   },
   {
    "duration": 89,
    "start_time": "2023-05-27T18:33:42.073Z"
   },
   {
    "duration": 52,
    "start_time": "2023-05-27T19:09:49.261Z"
   },
   {
    "duration": 66,
    "start_time": "2023-05-27T19:09:57.152Z"
   },
   {
    "duration": 74,
    "start_time": "2023-05-27T19:10:06.203Z"
   },
   {
    "duration": 70,
    "start_time": "2023-05-27T19:10:40.675Z"
   },
   {
    "duration": 46,
    "start_time": "2023-05-27T19:11:46.338Z"
   },
   {
    "duration": 14,
    "start_time": "2023-05-27T19:16:05.913Z"
   },
   {
    "duration": 31,
    "start_time": "2023-05-27T19:16:24.307Z"
   },
   {
    "duration": 25,
    "start_time": "2023-05-27T19:16:29.125Z"
   },
   {
    "duration": 31,
    "start_time": "2023-05-27T19:16:34.233Z"
   },
   {
    "duration": 86,
    "start_time": "2023-05-27T19:17:36.374Z"
   },
   {
    "duration": 41,
    "start_time": "2023-05-27T19:18:02.673Z"
   },
   {
    "duration": 1571,
    "start_time": "2023-05-27T19:20:35.295Z"
   },
   {
    "duration": 48,
    "start_time": "2023-05-27T19:21:03.457Z"
   },
   {
    "duration": 34,
    "start_time": "2023-05-27T19:21:19.800Z"
   },
   {
    "duration": 101,
    "start_time": "2023-05-27T19:24:33.936Z"
   },
   {
    "duration": 1152,
    "start_time": "2023-05-27T19:25:59.802Z"
   },
   {
    "duration": 31,
    "start_time": "2023-05-27T19:27:11.122Z"
   },
   {
    "duration": 77,
    "start_time": "2023-05-27T19:27:58.961Z"
   },
   {
    "duration": 94,
    "start_time": "2023-05-27T19:28:02.805Z"
   },
   {
    "duration": 57,
    "start_time": "2023-05-27T19:28:15.625Z"
   },
   {
    "duration": 5,
    "start_time": "2023-05-27T19:28:26.843Z"
   },
   {
    "duration": 10,
    "start_time": "2023-05-27T19:28:49.592Z"
   },
   {
    "duration": 16,
    "start_time": "2023-05-27T19:28:55.561Z"
   },
   {
    "duration": 5,
    "start_time": "2023-05-27T19:30:25.841Z"
   },
   {
    "duration": 13,
    "start_time": "2023-05-27T19:30:33.631Z"
   },
   {
    "duration": 21,
    "start_time": "2023-05-27T19:43:19.514Z"
   },
   {
    "duration": 12,
    "start_time": "2023-05-27T19:48:32.333Z"
   },
   {
    "duration": 15,
    "start_time": "2023-05-27T19:48:49.402Z"
   },
   {
    "duration": 9,
    "start_time": "2023-05-27T19:49:26.717Z"
   },
   {
    "duration": 14,
    "start_time": "2023-05-27T19:49:59.091Z"
   },
   {
    "duration": 46,
    "start_time": "2023-05-27T20:11:07.517Z"
   },
   {
    "duration": 37,
    "start_time": "2023-05-27T20:11:25.672Z"
   },
   {
    "duration": 28,
    "start_time": "2023-05-27T20:12:26.631Z"
   },
   {
    "duration": 1816,
    "start_time": "2023-05-28T12:05:25.706Z"
   },
   {
    "duration": 13,
    "start_time": "2023-05-28T12:05:27.525Z"
   },
   {
    "duration": 54,
    "start_time": "2023-05-28T12:05:27.540Z"
   },
   {
    "duration": 12,
    "start_time": "2023-05-28T12:05:27.596Z"
   },
   {
    "duration": 13,
    "start_time": "2023-05-28T12:05:27.610Z"
   },
   {
    "duration": 156,
    "start_time": "2023-05-28T12:05:27.624Z"
   },
   {
    "duration": 19,
    "start_time": "2023-05-28T12:05:27.782Z"
   },
   {
    "duration": 108,
    "start_time": "2023-05-28T12:05:27.802Z"
   },
   {
    "duration": 139,
    "start_time": "2023-05-28T12:05:27.912Z"
   },
   {
    "duration": 12,
    "start_time": "2023-05-28T12:05:28.060Z"
   },
   {
    "duration": 10,
    "start_time": "2023-05-28T12:05:28.074Z"
   },
   {
    "duration": 24,
    "start_time": "2023-05-28T12:05:28.086Z"
   },
   {
    "duration": 50,
    "start_time": "2023-05-28T12:05:28.112Z"
   },
   {
    "duration": 8,
    "start_time": "2023-05-28T12:05:28.164Z"
   },
   {
    "duration": 10,
    "start_time": "2023-05-28T12:05:28.174Z"
   },
   {
    "duration": 46,
    "start_time": "2023-05-28T12:05:28.186Z"
   },
   {
    "duration": 1547,
    "start_time": "2023-05-28T12:05:28.234Z"
   },
   {
    "duration": 27,
    "start_time": "2023-05-28T12:05:29.783Z"
   },
   {
    "duration": 56,
    "start_time": "2023-05-28T12:05:29.813Z"
   },
   {
    "duration": 30,
    "start_time": "2023-05-28T12:05:29.872Z"
   },
   {
    "duration": 53,
    "start_time": "2023-05-28T12:05:29.904Z"
   },
   {
    "duration": 45,
    "start_time": "2023-05-28T12:05:29.959Z"
   },
   {
    "duration": 22,
    "start_time": "2023-05-28T12:05:30.006Z"
   },
   {
    "duration": 68,
    "start_time": "2023-05-28T12:05:30.029Z"
   },
   {
    "duration": 18,
    "start_time": "2023-05-28T12:05:30.099Z"
   },
   {
    "duration": 11,
    "start_time": "2023-05-28T12:05:30.145Z"
   },
   {
    "duration": 56,
    "start_time": "2023-05-28T12:05:30.159Z"
   },
   {
    "duration": 108,
    "start_time": "2023-05-28T12:05:30.218Z"
   },
   {
    "duration": 52,
    "start_time": "2023-05-28T12:30:10.002Z"
   },
   {
    "duration": 48,
    "start_time": "2023-05-28T12:32:23.916Z"
   },
   {
    "duration": 63,
    "start_time": "2023-05-28T12:32:33.383Z"
   },
   {
    "duration": 1316,
    "start_time": "2023-05-28T12:38:13.164Z"
   },
   {
    "duration": 21,
    "start_time": "2023-05-28T12:45:17.672Z"
   },
   {
    "duration": 18,
    "start_time": "2023-05-28T12:45:24.960Z"
   },
   {
    "duration": 18,
    "start_time": "2023-05-28T12:45:28.807Z"
   },
   {
    "duration": 23,
    "start_time": "2023-05-28T12:48:56.167Z"
   },
   {
    "duration": 207,
    "start_time": "2023-05-28T12:49:36.698Z"
   },
   {
    "duration": 1313,
    "start_time": "2023-05-28T13:37:30.357Z"
   },
   {
    "duration": 15,
    "start_time": "2023-05-28T13:37:31.672Z"
   },
   {
    "duration": 28,
    "start_time": "2023-05-28T13:37:31.689Z"
   },
   {
    "duration": 33,
    "start_time": "2023-05-28T13:37:31.720Z"
   },
   {
    "duration": 17,
    "start_time": "2023-05-28T13:37:31.755Z"
   },
   {
    "duration": 197,
    "start_time": "2023-05-28T13:37:31.773Z"
   },
   {
    "duration": 20,
    "start_time": "2023-05-28T13:37:31.972Z"
   },
   {
    "duration": 104,
    "start_time": "2023-05-28T13:37:31.993Z"
   },
   {
    "duration": 144,
    "start_time": "2023-05-28T13:37:32.098Z"
   },
   {
    "duration": 14,
    "start_time": "2023-05-28T13:37:32.245Z"
   },
   {
    "duration": 20,
    "start_time": "2023-05-28T13:37:32.261Z"
   },
   {
    "duration": 52,
    "start_time": "2023-05-28T13:37:32.282Z"
   },
   {
    "duration": 19,
    "start_time": "2023-05-28T13:37:32.335Z"
   },
   {
    "duration": 5,
    "start_time": "2023-05-28T13:37:32.357Z"
   },
   {
    "duration": 33,
    "start_time": "2023-05-28T13:37:32.364Z"
   },
   {
    "duration": 58,
    "start_time": "2023-05-28T13:37:32.399Z"
   },
   {
    "duration": 1422,
    "start_time": "2023-05-28T13:37:32.459Z"
   },
   {
    "duration": 27,
    "start_time": "2023-05-28T13:37:33.883Z"
   },
   {
    "duration": 46,
    "start_time": "2023-05-28T13:37:33.912Z"
   },
   {
    "duration": 35,
    "start_time": "2023-05-28T13:37:33.959Z"
   },
   {
    "duration": 47,
    "start_time": "2023-05-28T13:37:33.996Z"
   },
   {
    "duration": 43,
    "start_time": "2023-05-28T13:37:34.044Z"
   },
   {
    "duration": 23,
    "start_time": "2023-05-28T13:37:34.088Z"
   },
   {
    "duration": 83,
    "start_time": "2023-05-28T13:37:34.113Z"
   },
   {
    "duration": 15,
    "start_time": "2023-05-28T13:37:34.198Z"
   },
   {
    "duration": 29,
    "start_time": "2023-05-28T13:37:34.214Z"
   },
   {
    "duration": 32,
    "start_time": "2023-05-28T13:37:34.245Z"
   },
   {
    "duration": 62,
    "start_time": "2023-05-28T13:37:34.281Z"
   },
   {
    "duration": 19,
    "start_time": "2023-05-28T13:37:34.345Z"
   },
   {
    "duration": 18,
    "start_time": "2023-05-28T13:38:00.205Z"
   },
   {
    "duration": 75,
    "start_time": "2023-05-28T13:45:46.557Z"
   },
   {
    "duration": 19,
    "start_time": "2023-05-28T13:46:07.811Z"
   },
   {
    "duration": 19,
    "start_time": "2023-05-28T13:52:06.069Z"
   },
   {
    "duration": 23,
    "start_time": "2023-05-28T14:11:12.415Z"
   },
   {
    "duration": 1330,
    "start_time": "2023-05-28T14:11:35.962Z"
   },
   {
    "duration": 14,
    "start_time": "2023-05-28T14:15:06.981Z"
   },
   {
    "duration": 10,
    "start_time": "2023-05-28T14:15:50.881Z"
   },
   {
    "duration": 59,
    "start_time": "2023-05-28T14:22:18.357Z"
   },
   {
    "duration": 29,
    "start_time": "2023-05-28T14:22:38.211Z"
   },
   {
    "duration": 36,
    "start_time": "2023-05-28T14:22:40.972Z"
   },
   {
    "duration": 39,
    "start_time": "2023-05-28T14:23:09.510Z"
   },
   {
    "duration": 23,
    "start_time": "2023-05-28T14:25:48.989Z"
   },
   {
    "duration": 34,
    "start_time": "2023-05-28T14:26:01.053Z"
   },
   {
    "duration": 24,
    "start_time": "2023-05-28T14:35:14.204Z"
   },
   {
    "duration": 35,
    "start_time": "2023-05-28T14:36:32.889Z"
   },
   {
    "duration": 10,
    "start_time": "2023-05-28T15:20:50.056Z"
   },
   {
    "duration": 1316,
    "start_time": "2023-05-28T15:21:12.256Z"
   },
   {
    "duration": 12,
    "start_time": "2023-05-28T15:21:13.574Z"
   },
   {
    "duration": 19,
    "start_time": "2023-05-28T15:21:13.588Z"
   },
   {
    "duration": 13,
    "start_time": "2023-05-28T15:21:13.609Z"
   },
   {
    "duration": 17,
    "start_time": "2023-05-28T15:21:13.646Z"
   },
   {
    "duration": 158,
    "start_time": "2023-05-28T15:21:13.665Z"
   },
   {
    "duration": 29,
    "start_time": "2023-05-28T15:21:13.825Z"
   },
   {
    "duration": 97,
    "start_time": "2023-05-28T15:21:13.856Z"
   },
   {
    "duration": 129,
    "start_time": "2023-05-28T15:21:13.955Z"
   },
   {
    "duration": 18,
    "start_time": "2023-05-28T15:21:14.086Z"
   },
   {
    "duration": 30,
    "start_time": "2023-05-28T15:21:14.106Z"
   },
   {
    "duration": 72,
    "start_time": "2023-05-28T15:21:14.141Z"
   },
   {
    "duration": 9,
    "start_time": "2023-05-28T15:21:14.215Z"
   },
   {
    "duration": 9,
    "start_time": "2023-05-28T15:21:14.227Z"
   },
   {
    "duration": 26,
    "start_time": "2023-05-28T15:21:14.238Z"
   },
   {
    "duration": 44,
    "start_time": "2023-05-28T15:21:14.266Z"
   },
   {
    "duration": 1460,
    "start_time": "2023-05-28T15:21:14.312Z"
   },
   {
    "duration": 28,
    "start_time": "2023-05-28T15:21:15.773Z"
   },
   {
    "duration": 67,
    "start_time": "2023-05-28T15:21:15.802Z"
   },
   {
    "duration": 32,
    "start_time": "2023-05-28T15:21:15.871Z"
   },
   {
    "duration": 23,
    "start_time": "2023-05-28T15:21:15.905Z"
   },
   {
    "duration": 53,
    "start_time": "2023-05-28T15:21:15.944Z"
   },
   {
    "duration": 20,
    "start_time": "2023-05-28T15:21:15.999Z"
   },
   {
    "duration": 75,
    "start_time": "2023-05-28T15:21:16.021Z"
   },
   {
    "duration": 15,
    "start_time": "2023-05-28T15:21:16.098Z"
   },
   {
    "duration": 30,
    "start_time": "2023-05-28T15:21:16.115Z"
   },
   {
    "duration": 35,
    "start_time": "2023-05-28T15:21:16.149Z"
   },
   {
    "duration": 57,
    "start_time": "2023-05-28T15:21:16.186Z"
   },
   {
    "duration": 21,
    "start_time": "2023-05-28T15:21:16.252Z"
   },
   {
    "duration": 35,
    "start_time": "2023-05-28T15:21:16.275Z"
   },
   {
    "duration": 4,
    "start_time": "2023-05-28T15:21:16.312Z"
   },
   {
    "duration": 42,
    "start_time": "2023-05-28T15:21:30.161Z"
   },
   {
    "duration": 1548,
    "start_time": "2023-05-28T15:22:58.876Z"
   },
   {
    "duration": 31,
    "start_time": "2023-05-28T15:23:00.427Z"
   },
   {
    "duration": 68,
    "start_time": "2023-05-28T15:23:00.459Z"
   },
   {
    "duration": 28,
    "start_time": "2023-05-28T15:23:00.529Z"
   },
   {
    "duration": 70,
    "start_time": "2023-05-28T15:23:00.565Z"
   },
   {
    "duration": 278,
    "start_time": "2023-05-28T15:23:00.637Z"
   },
   {
    "duration": 35,
    "start_time": "2023-05-28T15:23:00.917Z"
   },
   {
    "duration": 175,
    "start_time": "2023-05-28T15:23:00.953Z"
   },
   {
    "duration": 167,
    "start_time": "2023-05-28T15:23:01.129Z"
   },
   {
    "duration": 14,
    "start_time": "2023-05-28T15:23:01.300Z"
   },
   {
    "duration": 144,
    "start_time": "2023-05-28T15:23:01.316Z"
   },
   {
    "duration": 83,
    "start_time": "2023-05-28T15:23:01.462Z"
   },
   {
    "duration": 84,
    "start_time": "2023-05-28T15:23:01.549Z"
   },
   {
    "duration": 55,
    "start_time": "2023-05-28T15:23:01.635Z"
   },
   {
    "duration": 54,
    "start_time": "2023-05-28T15:23:01.692Z"
   },
   {
    "duration": 99,
    "start_time": "2023-05-28T15:23:01.748Z"
   },
   {
    "duration": 1741,
    "start_time": "2023-05-28T15:23:01.849Z"
   },
   {
    "duration": 30,
    "start_time": "2023-05-28T15:23:03.593Z"
   },
   {
    "duration": 66,
    "start_time": "2023-05-28T15:23:03.625Z"
   },
   {
    "duration": 62,
    "start_time": "2023-05-28T15:23:03.693Z"
   },
   {
    "duration": 28,
    "start_time": "2023-05-28T15:23:03.757Z"
   },
   {
    "duration": 43,
    "start_time": "2023-05-28T15:23:03.787Z"
   },
   {
    "duration": 41,
    "start_time": "2023-05-28T15:23:03.832Z"
   },
   {
    "duration": 52,
    "start_time": "2023-05-28T15:23:03.876Z"
   },
   {
    "duration": 31,
    "start_time": "2023-05-28T15:23:03.930Z"
   },
   {
    "duration": 33,
    "start_time": "2023-05-28T15:23:03.963Z"
   },
   {
    "duration": 33,
    "start_time": "2023-05-28T15:23:03.998Z"
   },
   {
    "duration": 47,
    "start_time": "2023-05-28T15:23:04.035Z"
   },
   {
    "duration": 23,
    "start_time": "2023-05-28T15:23:04.084Z"
   },
   {
    "duration": 63,
    "start_time": "2023-05-28T15:23:04.109Z"
   },
   {
    "duration": 6,
    "start_time": "2023-05-28T15:23:04.174Z"
   },
   {
    "duration": 34,
    "start_time": "2023-05-28T15:23:32.656Z"
   },
   {
    "duration": 10,
    "start_time": "2023-05-28T15:23:38.639Z"
   },
   {
    "duration": 10,
    "start_time": "2023-05-28T15:24:26.185Z"
   },
   {
    "duration": 10,
    "start_time": "2023-05-28T15:25:47.682Z"
   },
   {
    "duration": 150,
    "start_time": "2023-05-28T15:32:37.311Z"
   },
   {
    "duration": 30,
    "start_time": "2023-05-28T15:34:24.863Z"
   },
   {
    "duration": 26,
    "start_time": "2023-05-28T16:01:40.799Z"
   },
   {
    "duration": 22,
    "start_time": "2023-05-28T16:04:04.512Z"
   },
   {
    "duration": 24,
    "start_time": "2023-05-28T16:06:49.262Z"
   },
   {
    "duration": 21,
    "start_time": "2023-05-28T16:06:52.595Z"
   },
   {
    "duration": 28,
    "start_time": "2023-05-28T16:08:07.712Z"
   },
   {
    "duration": 16,
    "start_time": "2023-05-28T16:08:19.561Z"
   },
   {
    "duration": 38,
    "start_time": "2023-05-28T16:36:33.857Z"
   },
   {
    "duration": 39,
    "start_time": "2023-05-28T16:37:16.462Z"
   },
   {
    "duration": 42,
    "start_time": "2023-05-28T16:37:34.052Z"
   },
   {
    "duration": 30,
    "start_time": "2023-05-28T16:38:59.558Z"
   },
   {
    "duration": 63,
    "start_time": "2023-05-28T16:46:23.910Z"
   },
   {
    "duration": 16,
    "start_time": "2023-05-28T17:27:07.863Z"
   },
   {
    "duration": 28,
    "start_time": "2023-05-28T17:27:13.271Z"
   },
   {
    "duration": 29,
    "start_time": "2023-05-28T17:57:46.660Z"
   },
   {
    "duration": 23,
    "start_time": "2023-05-28T18:00:08.772Z"
   },
   {
    "duration": 16,
    "start_time": "2023-05-28T18:00:23.079Z"
   },
   {
    "duration": 40,
    "start_time": "2023-05-28T18:17:57.863Z"
   },
   {
    "duration": 6,
    "start_time": "2023-05-28T18:18:22.663Z"
   },
   {
    "duration": 11,
    "start_time": "2023-05-28T18:18:37.770Z"
   },
   {
    "duration": 6,
    "start_time": "2023-05-28T18:18:41.967Z"
   },
   {
    "duration": 30,
    "start_time": "2023-05-28T18:18:56.963Z"
   },
   {
    "duration": 32,
    "start_time": "2023-05-28T18:20:47.004Z"
   },
   {
    "duration": 34,
    "start_time": "2023-05-28T18:20:53.534Z"
   },
   {
    "duration": 24,
    "start_time": "2023-05-28T18:22:06.953Z"
   },
   {
    "duration": 29,
    "start_time": "2023-05-28T18:23:07.672Z"
   },
   {
    "duration": 5,
    "start_time": "2023-05-28T18:23:24.188Z"
   },
   {
    "duration": 37,
    "start_time": "2023-05-28T18:26:26.757Z"
   },
   {
    "duration": 8,
    "start_time": "2023-05-28T18:26:31.156Z"
   },
   {
    "duration": 36,
    "start_time": "2023-05-28T18:31:37.386Z"
   },
   {
    "duration": 6,
    "start_time": "2023-05-28T18:31:48.622Z"
   },
   {
    "duration": 24,
    "start_time": "2023-05-28T18:37:23.812Z"
   },
   {
    "duration": 103,
    "start_time": "2023-05-28T18:39:51.798Z"
   },
   {
    "duration": 45,
    "start_time": "2023-05-28T18:40:18.740Z"
   },
   {
    "duration": 17,
    "start_time": "2023-05-28T19:03:25.205Z"
   },
   {
    "duration": 17,
    "start_time": "2023-05-28T19:04:17.354Z"
   },
   {
    "duration": 15,
    "start_time": "2023-05-28T19:04:34.455Z"
   },
   {
    "duration": 22,
    "start_time": "2023-05-28T19:04:47.651Z"
   },
   {
    "duration": 23,
    "start_time": "2023-05-28T19:05:09.537Z"
   },
   {
    "duration": 35,
    "start_time": "2023-05-28T19:05:18.454Z"
   },
   {
    "duration": 15,
    "start_time": "2023-05-28T19:07:20.618Z"
   },
   {
    "duration": 17,
    "start_time": "2023-05-28T19:18:25.410Z"
   },
   {
    "duration": 14,
    "start_time": "2023-05-28T19:18:49.418Z"
   },
   {
    "duration": 89,
    "start_time": "2023-05-28T19:21:31.545Z"
   },
   {
    "duration": 18,
    "start_time": "2023-05-28T19:22:43.957Z"
   },
   {
    "duration": 32,
    "start_time": "2023-05-28T19:38:57.982Z"
   },
   {
    "duration": 37,
    "start_time": "2023-05-28T19:39:05.226Z"
   },
   {
    "duration": 15,
    "start_time": "2023-05-28T19:39:07.106Z"
   },
   {
    "duration": 37,
    "start_time": "2023-05-28T19:39:08.368Z"
   },
   {
    "duration": 25,
    "start_time": "2023-05-28T19:39:11.209Z"
   },
   {
    "duration": 26,
    "start_time": "2023-05-28T19:39:12.651Z"
   },
   {
    "duration": 24,
    "start_time": "2023-05-28T19:39:14.000Z"
   },
   {
    "duration": 17,
    "start_time": "2023-05-28T19:39:15.769Z"
   },
   {
    "duration": 6,
    "start_time": "2023-05-28T19:39:19.589Z"
   },
   {
    "duration": 22,
    "start_time": "2023-05-28T19:39:21.771Z"
   },
   {
    "duration": 19,
    "start_time": "2023-05-28T19:39:24.853Z"
   },
   {
    "duration": 17,
    "start_time": "2023-05-28T19:39:26.590Z"
   },
   {
    "duration": 17,
    "start_time": "2023-05-28T19:39:27.959Z"
   },
   {
    "duration": 13,
    "start_time": "2023-05-28T19:39:29.094Z"
   },
   {
    "duration": 34,
    "start_time": "2023-05-28T19:40:17.733Z"
   },
   {
    "duration": 31,
    "start_time": "2023-05-28T19:40:20.258Z"
   },
   {
    "duration": 23,
    "start_time": "2023-05-28T19:40:22.553Z"
   },
   {
    "duration": 20,
    "start_time": "2023-05-28T19:40:25.656Z"
   },
   {
    "duration": 18,
    "start_time": "2023-05-28T19:40:31.310Z"
   },
   {
    "duration": 8,
    "start_time": "2023-05-28T19:40:34.241Z"
   },
   {
    "duration": 6,
    "start_time": "2023-05-28T19:41:02.655Z"
   },
   {
    "duration": 28,
    "start_time": "2023-05-28T19:41:08.022Z"
   },
   {
    "duration": 18,
    "start_time": "2023-05-28T19:41:09.978Z"
   },
   {
    "duration": 35,
    "start_time": "2023-05-28T19:41:11.138Z"
   },
   {
    "duration": 15,
    "start_time": "2023-05-28T19:41:12.081Z"
   },
   {
    "duration": 13,
    "start_time": "2023-05-28T19:41:13.057Z"
   },
   {
    "duration": 35,
    "start_time": "2023-05-28T19:41:41.223Z"
   },
   {
    "duration": 1355,
    "start_time": "2023-05-28T19:57:07.367Z"
   },
   {
    "duration": 14,
    "start_time": "2023-05-28T19:57:08.724Z"
   },
   {
    "duration": 21,
    "start_time": "2023-05-28T19:57:08.741Z"
   },
   {
    "duration": 15,
    "start_time": "2023-05-28T19:57:08.763Z"
   },
   {
    "duration": 15,
    "start_time": "2023-05-28T19:57:08.780Z"
   },
   {
    "duration": 191,
    "start_time": "2023-05-28T19:57:08.796Z"
   },
   {
    "duration": 21,
    "start_time": "2023-05-28T19:57:08.990Z"
   },
   {
    "duration": 110,
    "start_time": "2023-05-28T19:57:09.013Z"
   },
   {
    "duration": 160,
    "start_time": "2023-05-28T19:57:09.126Z"
   },
   {
    "duration": 15,
    "start_time": "2023-05-28T19:57:09.288Z"
   },
   {
    "duration": 10,
    "start_time": "2023-05-28T19:57:09.305Z"
   },
   {
    "duration": 45,
    "start_time": "2023-05-28T19:57:09.317Z"
   },
   {
    "duration": 10,
    "start_time": "2023-05-28T19:57:09.364Z"
   },
   {
    "duration": 6,
    "start_time": "2023-05-28T19:57:09.378Z"
   },
   {
    "duration": 8,
    "start_time": "2023-05-28T19:57:09.386Z"
   },
   {
    "duration": 78,
    "start_time": "2023-05-28T19:57:09.396Z"
   },
   {
    "duration": 1448,
    "start_time": "2023-05-28T19:57:09.476Z"
   },
   {
    "duration": 33,
    "start_time": "2023-05-28T19:57:10.925Z"
   },
   {
    "duration": 34,
    "start_time": "2023-05-28T19:57:10.960Z"
   },
   {
    "duration": 51,
    "start_time": "2023-05-28T19:57:10.996Z"
   },
   {
    "duration": 23,
    "start_time": "2023-05-28T19:57:11.049Z"
   },
   {
    "duration": 69,
    "start_time": "2023-05-28T19:57:11.074Z"
   },
   {
    "duration": 22,
    "start_time": "2023-05-28T19:57:11.145Z"
   },
   {
    "duration": 50,
    "start_time": "2023-05-28T19:57:11.169Z"
   },
   {
    "duration": 18,
    "start_time": "2023-05-28T19:57:11.241Z"
   },
   {
    "duration": 8,
    "start_time": "2023-05-28T19:57:11.261Z"
   },
   {
    "duration": 32,
    "start_time": "2023-05-28T19:57:11.271Z"
   },
   {
    "duration": 94,
    "start_time": "2023-05-28T19:57:11.305Z"
   },
   {
    "duration": 46,
    "start_time": "2023-05-28T19:57:11.401Z"
   },
   {
    "duration": 40,
    "start_time": "2023-05-28T19:57:11.449Z"
   },
   {
    "duration": 12,
    "start_time": "2023-05-28T19:57:11.491Z"
   },
   {
    "duration": 61,
    "start_time": "2023-05-28T19:57:11.505Z"
   },
   {
    "duration": 26,
    "start_time": "2023-05-28T19:57:11.567Z"
   },
   {
    "duration": 27,
    "start_time": "2023-05-28T19:57:11.595Z"
   },
   {
    "duration": 21,
    "start_time": "2023-05-28T19:57:11.642Z"
   },
   {
    "duration": 17,
    "start_time": "2023-05-28T19:57:11.664Z"
   },
   {
    "duration": 5,
    "start_time": "2023-05-28T19:57:11.682Z"
   },
   {
    "duration": 21,
    "start_time": "2023-05-28T19:57:11.689Z"
   },
   {
    "duration": 20,
    "start_time": "2023-05-28T19:57:11.743Z"
   },
   {
    "duration": 20,
    "start_time": "2023-05-28T19:57:11.765Z"
   },
   {
    "duration": 14,
    "start_time": "2023-05-28T19:57:11.789Z"
   },
   {
    "duration": 44,
    "start_time": "2023-05-28T19:57:11.804Z"
   },
   {
    "duration": 1753,
    "start_time": "2023-05-29T09:44:08.387Z"
   },
   {
    "duration": 15,
    "start_time": "2023-05-29T09:44:10.143Z"
   },
   {
    "duration": 27,
    "start_time": "2023-05-29T09:44:10.159Z"
   },
   {
    "duration": 13,
    "start_time": "2023-05-29T09:44:10.188Z"
   },
   {
    "duration": 35,
    "start_time": "2023-05-29T09:44:10.203Z"
   },
   {
    "duration": 145,
    "start_time": "2023-05-29T09:44:10.240Z"
   },
   {
    "duration": 19,
    "start_time": "2023-05-29T09:44:10.386Z"
   },
   {
    "duration": 98,
    "start_time": "2023-05-29T09:44:10.407Z"
   },
   {
    "duration": 137,
    "start_time": "2023-05-29T09:44:10.507Z"
   },
   {
    "duration": 12,
    "start_time": "2023-05-29T09:44:10.646Z"
   },
   {
    "duration": 11,
    "start_time": "2023-05-29T09:44:10.659Z"
   },
   {
    "duration": 18,
    "start_time": "2023-05-29T09:44:10.671Z"
   },
   {
    "duration": 36,
    "start_time": "2023-05-29T09:44:10.691Z"
   },
   {
    "duration": 7,
    "start_time": "2023-05-29T09:44:10.738Z"
   },
   {
    "duration": 5,
    "start_time": "2023-05-29T09:44:10.746Z"
   },
   {
    "duration": 27,
    "start_time": "2023-05-29T09:44:10.753Z"
   },
   {
    "duration": 1230,
    "start_time": "2023-05-29T09:44:10.781Z"
   },
   {
    "duration": 30,
    "start_time": "2023-05-29T09:44:12.015Z"
   },
   {
    "duration": 60,
    "start_time": "2023-05-29T09:44:12.046Z"
   },
   {
    "duration": 39,
    "start_time": "2023-05-29T09:44:12.107Z"
   },
   {
    "duration": 20,
    "start_time": "2023-05-29T09:44:12.147Z"
   },
   {
    "duration": 72,
    "start_time": "2023-05-29T09:44:12.169Z"
   },
   {
    "duration": 20,
    "start_time": "2023-05-29T09:44:12.242Z"
   },
   {
    "duration": 73,
    "start_time": "2023-05-29T09:44:12.263Z"
   },
   {
    "duration": 15,
    "start_time": "2023-05-29T09:44:12.337Z"
   },
   {
    "duration": 13,
    "start_time": "2023-05-29T09:44:12.353Z"
   },
   {
    "duration": 58,
    "start_time": "2023-05-29T09:44:12.367Z"
   },
   {
    "duration": 69,
    "start_time": "2023-05-29T09:44:12.428Z"
   },
   {
    "duration": 36,
    "start_time": "2023-05-29T09:44:12.499Z"
   },
   {
    "duration": 40,
    "start_time": "2023-05-29T09:44:12.545Z"
   },
   {
    "duration": 17,
    "start_time": "2023-05-29T09:44:12.587Z"
   },
   {
    "duration": 58,
    "start_time": "2023-05-29T09:44:12.606Z"
   },
   {
    "duration": 19,
    "start_time": "2023-05-29T09:44:12.665Z"
   },
   {
    "duration": 16,
    "start_time": "2023-05-29T09:44:12.686Z"
   },
   {
    "duration": 37,
    "start_time": "2023-05-29T09:44:12.704Z"
   },
   {
    "duration": 15,
    "start_time": "2023-05-29T09:44:12.742Z"
   },
   {
    "duration": 6,
    "start_time": "2023-05-29T09:44:12.759Z"
   },
   {
    "duration": 17,
    "start_time": "2023-05-29T09:44:12.767Z"
   },
   {
    "duration": 14,
    "start_time": "2023-05-29T09:44:12.785Z"
   },
   {
    "duration": 37,
    "start_time": "2023-05-29T09:44:12.800Z"
   },
   {
    "duration": 14,
    "start_time": "2023-05-29T09:44:12.841Z"
   },
   {
    "duration": 11,
    "start_time": "2023-05-29T09:44:12.857Z"
   },
   {
    "duration": 4,
    "start_time": "2023-05-29T09:44:32.953Z"
   },
   {
    "duration": 1254,
    "start_time": "2023-05-29T10:05:55.139Z"
   },
   {
    "duration": 11,
    "start_time": "2023-05-29T10:05:56.395Z"
   },
   {
    "duration": 34,
    "start_time": "2023-05-29T10:05:56.407Z"
   },
   {
    "duration": 13,
    "start_time": "2023-05-29T10:05:56.443Z"
   },
   {
    "duration": 12,
    "start_time": "2023-05-29T10:05:56.458Z"
   },
   {
    "duration": 142,
    "start_time": "2023-05-29T10:05:56.471Z"
   },
   {
    "duration": 32,
    "start_time": "2023-05-29T10:05:56.615Z"
   },
   {
    "duration": 98,
    "start_time": "2023-05-29T10:05:56.648Z"
   },
   {
    "duration": 130,
    "start_time": "2023-05-29T10:05:56.748Z"
   },
   {
    "duration": 12,
    "start_time": "2023-05-29T10:05:56.879Z"
   },
   {
    "duration": 36,
    "start_time": "2023-05-29T10:05:56.893Z"
   },
   {
    "duration": 25,
    "start_time": "2023-05-29T10:05:56.933Z"
   },
   {
    "duration": 8,
    "start_time": "2023-05-29T10:05:56.960Z"
   },
   {
    "duration": 4,
    "start_time": "2023-05-29T10:05:56.971Z"
   },
   {
    "duration": 9,
    "start_time": "2023-05-29T10:05:56.976Z"
   },
   {
    "duration": 58,
    "start_time": "2023-05-29T10:05:56.987Z"
   },
   {
    "duration": 1299,
    "start_time": "2023-05-29T10:05:57.048Z"
   },
   {
    "duration": 25,
    "start_time": "2023-05-29T10:05:58.349Z"
   },
   {
    "duration": 31,
    "start_time": "2023-05-29T10:05:58.376Z"
   },
   {
    "duration": 44,
    "start_time": "2023-05-29T10:05:58.408Z"
   },
   {
    "duration": 23,
    "start_time": "2023-05-29T10:05:58.454Z"
   },
   {
    "duration": 66,
    "start_time": "2023-05-29T10:05:58.478Z"
   },
   {
    "duration": 20,
    "start_time": "2023-05-29T10:05:58.545Z"
   },
   {
    "duration": 72,
    "start_time": "2023-05-29T10:05:58.566Z"
   },
   {
    "duration": 13,
    "start_time": "2023-05-29T10:05:58.641Z"
   },
   {
    "duration": 9,
    "start_time": "2023-05-29T10:05:58.656Z"
   },
   {
    "duration": 28,
    "start_time": "2023-05-29T10:05:58.666Z"
   },
   {
    "duration": 64,
    "start_time": "2023-05-29T10:05:58.696Z"
   },
   {
    "duration": 25,
    "start_time": "2023-05-29T10:05:58.761Z"
   },
   {
    "duration": 55,
    "start_time": "2023-05-29T10:05:58.788Z"
   },
   {
    "duration": 10,
    "start_time": "2023-05-29T10:05:58.844Z"
   },
   {
    "duration": 26,
    "start_time": "2023-05-29T10:05:58.855Z"
   },
   {
    "duration": 50,
    "start_time": "2023-05-29T10:05:58.883Z"
   },
   {
    "duration": 17,
    "start_time": "2023-05-29T10:05:58.938Z"
   },
   {
    "duration": 15,
    "start_time": "2023-05-29T10:05:58.956Z"
   },
   {
    "duration": 13,
    "start_time": "2023-05-29T10:05:58.973Z"
   },
   {
    "duration": 4,
    "start_time": "2023-05-29T10:05:58.987Z"
   },
   {
    "duration": 61,
    "start_time": "2023-05-29T10:05:58.992Z"
   },
   {
    "duration": 13,
    "start_time": "2023-05-29T10:05:59.055Z"
   },
   {
    "duration": 11,
    "start_time": "2023-05-29T10:05:59.069Z"
   },
   {
    "duration": 10,
    "start_time": "2023-05-29T10:05:59.083Z"
   },
   {
    "duration": 10,
    "start_time": "2023-05-29T10:05:59.095Z"
   },
   {
    "duration": 1366,
    "start_time": "2023-05-29T17:34:46.989Z"
   },
   {
    "duration": 517,
    "start_time": "2023-05-29T17:34:48.357Z"
   },
   {
    "duration": 99,
    "start_time": "2023-05-29T17:36:14.359Z"
   },
   {
    "duration": 1174,
    "start_time": "2023-05-29T17:36:21.957Z"
   },
   {
    "duration": 161,
    "start_time": "2023-05-29T17:36:23.133Z"
   },
   {
    "duration": 12,
    "start_time": "2023-05-29T17:36:23.296Z"
   },
   {
    "duration": 35,
    "start_time": "2023-05-29T17:36:23.310Z"
   },
   {
    "duration": 13,
    "start_time": "2023-05-29T17:36:23.347Z"
   },
   {
    "duration": 19,
    "start_time": "2023-05-29T17:36:23.361Z"
   },
   {
    "duration": 160,
    "start_time": "2023-05-29T17:36:23.382Z"
   },
   {
    "duration": 20,
    "start_time": "2023-05-29T17:36:23.544Z"
   },
   {
    "duration": 83,
    "start_time": "2023-05-29T17:36:23.576Z"
   },
   {
    "duration": 122,
    "start_time": "2023-05-29T17:36:23.663Z"
   },
   {
    "duration": 14,
    "start_time": "2023-05-29T17:36:23.788Z"
   },
   {
    "duration": 13,
    "start_time": "2023-05-29T17:36:23.803Z"
   },
   {
    "duration": 22,
    "start_time": "2023-05-29T17:36:23.818Z"
   },
   {
    "duration": 8,
    "start_time": "2023-05-29T17:36:23.841Z"
   },
   {
    "duration": 27,
    "start_time": "2023-05-29T17:36:23.851Z"
   },
   {
    "duration": 13,
    "start_time": "2023-05-29T17:36:23.879Z"
   },
   {
    "duration": 35,
    "start_time": "2023-05-29T17:36:23.894Z"
   },
   {
    "duration": 713,
    "start_time": "2023-05-29T17:36:23.930Z"
   },
   {
    "duration": 32,
    "start_time": "2023-05-29T17:36:24.645Z"
   },
   {
    "duration": 31,
    "start_time": "2023-05-29T17:36:24.678Z"
   },
   {
    "duration": 27,
    "start_time": "2023-05-29T17:36:24.711Z"
   },
   {
    "duration": 42,
    "start_time": "2023-05-29T17:36:24.740Z"
   },
   {
    "duration": 41,
    "start_time": "2023-05-29T17:36:24.784Z"
   },
   {
    "duration": 19,
    "start_time": "2023-05-29T17:36:24.827Z"
   },
   {
    "duration": 71,
    "start_time": "2023-05-29T17:36:24.848Z"
   },
   {
    "duration": 13,
    "start_time": "2023-05-29T17:36:24.920Z"
   },
   {
    "duration": 11,
    "start_time": "2023-05-29T17:36:24.935Z"
   },
   {
    "duration": 46,
    "start_time": "2023-05-29T17:36:24.949Z"
   },
   {
    "duration": 57,
    "start_time": "2023-05-29T17:36:24.996Z"
   },
   {
    "duration": 42,
    "start_time": "2023-05-29T17:36:25.054Z"
   },
   {
    "duration": 32,
    "start_time": "2023-05-29T17:36:25.098Z"
   },
   {
    "duration": 10,
    "start_time": "2023-05-29T17:36:25.132Z"
   },
   {
    "duration": 48,
    "start_time": "2023-05-29T17:36:25.144Z"
   },
   {
    "duration": 20,
    "start_time": "2023-05-29T17:36:25.194Z"
   },
   {
    "duration": 18,
    "start_time": "2023-05-29T17:36:25.216Z"
   },
   {
    "duration": 42,
    "start_time": "2023-05-29T17:36:25.236Z"
   },
   {
    "duration": 18,
    "start_time": "2023-05-29T17:36:25.280Z"
   },
   {
    "duration": 4,
    "start_time": "2023-05-29T17:36:25.300Z"
   },
   {
    "duration": 21,
    "start_time": "2023-05-29T17:36:25.306Z"
   },
   {
    "duration": 14,
    "start_time": "2023-05-29T17:36:25.329Z"
   },
   {
    "duration": 42,
    "start_time": "2023-05-29T17:36:25.345Z"
   },
   {
    "duration": 16,
    "start_time": "2023-05-29T17:36:25.389Z"
   },
   {
    "duration": 16,
    "start_time": "2023-05-29T17:36:25.407Z"
   },
   {
    "duration": 29,
    "start_time": "2023-05-29T17:36:59.094Z"
   },
   {
    "duration": 4,
    "start_time": "2023-05-29T17:38:25.790Z"
   },
   {
    "duration": 3,
    "start_time": "2023-05-29T17:38:51.916Z"
   },
   {
    "duration": 7,
    "start_time": "2023-05-29T17:39:31.590Z"
   },
   {
    "duration": 8,
    "start_time": "2023-05-29T17:40:43.191Z"
   },
   {
    "duration": 19,
    "start_time": "2023-05-29T17:45:45.588Z"
   },
   {
    "duration": 107,
    "start_time": "2023-05-29T17:45:57.815Z"
   },
   {
    "duration": 9,
    "start_time": "2023-05-29T17:46:03.980Z"
   },
   {
    "duration": 13,
    "start_time": "2023-05-29T17:47:38.239Z"
   },
   {
    "duration": 9,
    "start_time": "2023-05-29T17:47:44.488Z"
   },
   {
    "duration": 4,
    "start_time": "2023-05-29T17:48:01.028Z"
   },
   {
    "duration": 4,
    "start_time": "2023-05-29T17:48:58.647Z"
   },
   {
    "duration": 6,
    "start_time": "2023-05-29T17:49:58.458Z"
   },
   {
    "duration": 6,
    "start_time": "2023-05-29T17:50:11.504Z"
   },
   {
    "duration": 7,
    "start_time": "2023-05-29T17:58:10.901Z"
   },
   {
    "duration": 11,
    "start_time": "2023-05-29T18:00:59.225Z"
   },
   {
    "duration": 11,
    "start_time": "2023-05-29T18:04:23.353Z"
   },
   {
    "duration": 10,
    "start_time": "2023-05-29T18:10:13.528Z"
   },
   {
    "duration": 10,
    "start_time": "2023-05-29T18:10:45.953Z"
   },
   {
    "duration": 9,
    "start_time": "2023-05-29T18:13:49.268Z"
   },
   {
    "duration": 9,
    "start_time": "2023-05-29T18:14:45.648Z"
   },
   {
    "duration": 14,
    "start_time": "2023-05-29T18:15:32.891Z"
   },
   {
    "duration": 9,
    "start_time": "2023-05-29T18:15:46.698Z"
   },
   {
    "duration": 12,
    "start_time": "2023-05-29T18:18:51.131Z"
   },
   {
    "duration": 11,
    "start_time": "2023-05-29T18:20:24.660Z"
   },
   {
    "duration": 8,
    "start_time": "2023-05-29T18:21:44.056Z"
   },
   {
    "duration": 8,
    "start_time": "2023-05-29T18:22:06.591Z"
   },
   {
    "duration": 8,
    "start_time": "2023-05-29T18:23:07.904Z"
   },
   {
    "duration": 13,
    "start_time": "2023-05-29T18:24:17.749Z"
   },
   {
    "duration": 8,
    "start_time": "2023-05-29T18:24:48.957Z"
   },
   {
    "duration": 106,
    "start_time": "2023-05-29T18:50:52.699Z"
   },
   {
    "duration": 11,
    "start_time": "2023-05-29T18:51:03.302Z"
   },
   {
    "duration": 9,
    "start_time": "2023-05-29T18:51:13.953Z"
   },
   {
    "duration": 11,
    "start_time": "2023-05-29T18:51:33.738Z"
   },
   {
    "duration": 12,
    "start_time": "2023-05-29T18:51:51.917Z"
   },
   {
    "duration": 10,
    "start_time": "2023-05-29T18:52:05.837Z"
   },
   {
    "duration": 12,
    "start_time": "2023-05-29T18:52:14.200Z"
   },
   {
    "duration": 8,
    "start_time": "2023-05-29T18:52:19.506Z"
   },
   {
    "duration": 10,
    "start_time": "2023-05-29T18:52:33.086Z"
   },
   {
    "duration": 13,
    "start_time": "2023-05-29T18:52:38.986Z"
   },
   {
    "duration": 41,
    "start_time": "2023-05-29T19:46:54.036Z"
   },
   {
    "duration": 74,
    "start_time": "2023-05-29T19:56:49.592Z"
   },
   {
    "duration": 316,
    "start_time": "2023-05-29T19:57:08.233Z"
   },
   {
    "duration": 28,
    "start_time": "2023-05-29T19:57:55.713Z"
   },
   {
    "duration": 28,
    "start_time": "2023-05-29T19:58:06.208Z"
   },
   {
    "duration": 38,
    "start_time": "2023-05-29T19:58:13.461Z"
   },
   {
    "duration": 27,
    "start_time": "2023-05-29T19:58:17.814Z"
   },
   {
    "duration": 1313,
    "start_time": "2023-05-29T20:01:20.437Z"
   },
   {
    "duration": 1383,
    "start_time": "2023-05-29T20:01:33.396Z"
   },
   {
    "duration": 43,
    "start_time": "2023-05-29T20:02:14.896Z"
   },
   {
    "duration": 1542,
    "start_time": "2023-05-29T20:02:36.137Z"
   },
   {
    "duration": 45,
    "start_time": "2023-05-29T20:03:13.744Z"
   },
   {
    "duration": 26,
    "start_time": "2023-05-29T20:03:46.600Z"
   },
   {
    "duration": 26,
    "start_time": "2023-05-29T20:03:57.059Z"
   },
   {
    "duration": 25,
    "start_time": "2023-05-29T20:04:05.604Z"
   },
   {
    "duration": 20,
    "start_time": "2023-05-29T20:04:20.840Z"
   },
   {
    "duration": 23,
    "start_time": "2023-05-29T20:04:30.860Z"
   },
   {
    "duration": 43,
    "start_time": "2023-05-29T20:04:54.396Z"
   },
   {
    "duration": 52,
    "start_time": "2023-05-29T20:05:11.757Z"
   },
   {
    "duration": 44,
    "start_time": "2023-05-29T20:05:15.546Z"
   },
   {
    "duration": 76,
    "start_time": "2023-05-29T20:18:29.009Z"
   },
   {
    "duration": 21,
    "start_time": "2023-05-29T20:18:38.055Z"
   },
   {
    "duration": 72,
    "start_time": "2023-05-29T20:19:59.345Z"
   },
   {
    "duration": 24,
    "start_time": "2023-05-29T20:20:05.458Z"
   },
   {
    "duration": 21,
    "start_time": "2023-05-29T20:20:13.921Z"
   },
   {
    "duration": 45,
    "start_time": "2023-05-29T20:20:36.041Z"
   },
   {
    "duration": 1132,
    "start_time": "2023-05-29T20:44:35.792Z"
   },
   {
    "duration": 39,
    "start_time": "2023-05-29T20:46:41.287Z"
   },
   {
    "duration": 45,
    "start_time": "2023-05-29T20:46:48.216Z"
   },
   {
    "duration": 8,
    "start_time": "2023-05-29T20:47:33.904Z"
   },
   {
    "duration": 8,
    "start_time": "2023-05-29T20:47:43.834Z"
   },
   {
    "duration": 18,
    "start_time": "2023-05-29T20:52:14.953Z"
   },
   {
    "duration": 5,
    "start_time": "2023-05-29T20:52:43.195Z"
   },
   {
    "duration": 10,
    "start_time": "2023-05-29T20:52:52.593Z"
   },
   {
    "duration": 13,
    "start_time": "2023-05-29T20:53:01.798Z"
   },
   {
    "duration": 13,
    "start_time": "2023-05-29T20:53:13.694Z"
   },
   {
    "duration": 10,
    "start_time": "2023-05-29T20:54:12.196Z"
   },
   {
    "duration": 10,
    "start_time": "2023-05-29T20:54:30.043Z"
   },
   {
    "duration": 11,
    "start_time": "2023-05-29T20:54:37.602Z"
   },
   {
    "duration": 12,
    "start_time": "2023-05-29T20:55:53.509Z"
   },
   {
    "duration": 7,
    "start_time": "2023-05-29T20:56:07.197Z"
   },
   {
    "duration": 12,
    "start_time": "2023-05-29T20:56:16.089Z"
   },
   {
    "duration": 12,
    "start_time": "2023-05-29T20:57:26.984Z"
   },
   {
    "duration": 4,
    "start_time": "2023-05-29T20:57:43.596Z"
   },
   {
    "duration": 18,
    "start_time": "2023-05-29T20:57:53.289Z"
   },
   {
    "duration": 115,
    "start_time": "2023-05-29T21:01:12.427Z"
   },
   {
    "duration": 11,
    "start_time": "2023-05-29T21:02:51.700Z"
   },
   {
    "duration": 14,
    "start_time": "2023-05-29T21:02:58.894Z"
   },
   {
    "duration": 9,
    "start_time": "2023-05-29T21:03:02.010Z"
   },
   {
    "duration": 7,
    "start_time": "2023-05-30T18:20:00.935Z"
   },
   {
    "duration": 163,
    "start_time": "2023-05-30T19:11:03.923Z"
   },
   {
    "duration": 47,
    "start_time": "2023-05-30T19:12:54.974Z"
   },
   {
    "duration": 103,
    "start_time": "2023-05-30T19:17:14.186Z"
   },
   {
    "duration": 69,
    "start_time": "2023-05-30T19:24:50.656Z"
   },
   {
    "duration": 48,
    "start_time": "2023-05-30T19:27:43.197Z"
   },
   {
    "duration": 4,
    "start_time": "2023-05-30T19:27:51.302Z"
   },
   {
    "duration": 48,
    "start_time": "2023-05-30T19:30:59.317Z"
   },
   {
    "duration": 1279,
    "start_time": "2023-05-30T19:31:09.200Z"
   },
   {
    "duration": 698,
    "start_time": "2023-05-30T19:31:10.481Z"
   },
   {
    "duration": 12,
    "start_time": "2023-05-30T19:31:11.180Z"
   },
   {
    "duration": 23,
    "start_time": "2023-05-30T19:31:11.194Z"
   },
   {
    "duration": 12,
    "start_time": "2023-05-30T19:31:11.219Z"
   },
   {
    "duration": 12,
    "start_time": "2023-05-30T19:31:11.233Z"
   },
   {
    "duration": 174,
    "start_time": "2023-05-30T19:31:11.246Z"
   },
   {
    "duration": 19,
    "start_time": "2023-05-30T19:31:11.421Z"
   },
   {
    "duration": 96,
    "start_time": "2023-05-30T19:31:11.442Z"
   },
   {
    "duration": 129,
    "start_time": "2023-05-30T19:31:11.541Z"
   },
   {
    "duration": 12,
    "start_time": "2023-05-30T19:31:11.671Z"
   },
   {
    "duration": 10,
    "start_time": "2023-05-30T19:31:11.685Z"
   },
   {
    "duration": 24,
    "start_time": "2023-05-30T19:31:11.697Z"
   },
   {
    "duration": 11,
    "start_time": "2023-05-30T19:31:11.723Z"
   },
   {
    "duration": 10,
    "start_time": "2023-05-30T19:31:11.735Z"
   },
   {
    "duration": 17,
    "start_time": "2023-05-30T19:31:11.746Z"
   },
   {
    "duration": 34,
    "start_time": "2023-05-30T19:31:11.766Z"
   },
   {
    "duration": 774,
    "start_time": "2023-05-30T19:31:11.802Z"
   },
   {
    "duration": 26,
    "start_time": "2023-05-30T19:31:12.578Z"
   },
   {
    "duration": 37,
    "start_time": "2023-05-30T19:31:12.605Z"
   },
   {
    "duration": 24,
    "start_time": "2023-05-30T19:31:12.656Z"
   },
   {
    "duration": 8,
    "start_time": "2023-05-30T19:31:12.682Z"
   },
   {
    "duration": 39,
    "start_time": "2023-05-30T19:31:12.692Z"
   },
   {
    "duration": 49,
    "start_time": "2023-05-30T19:31:12.733Z"
   },
   {
    "duration": 53,
    "start_time": "2023-05-30T19:31:12.784Z"
   },
   {
    "duration": 55,
    "start_time": "2023-05-30T19:31:12.839Z"
   },
   {
    "duration": 11,
    "start_time": "2023-05-30T19:31:12.895Z"
   },
   {
    "duration": 903,
    "start_time": "2023-05-30T19:31:12.909Z"
   },
   {
    "duration": 0,
    "start_time": "2023-05-30T19:31:13.814Z"
   },
   {
    "duration": 0,
    "start_time": "2023-05-30T19:31:13.815Z"
   },
   {
    "duration": 0,
    "start_time": "2023-05-30T19:31:13.816Z"
   },
   {
    "duration": 0,
    "start_time": "2023-05-30T19:31:13.817Z"
   },
   {
    "duration": 0,
    "start_time": "2023-05-30T19:31:13.818Z"
   },
   {
    "duration": 0,
    "start_time": "2023-05-30T19:31:13.820Z"
   },
   {
    "duration": 0,
    "start_time": "2023-05-30T19:31:13.821Z"
   },
   {
    "duration": 0,
    "start_time": "2023-05-30T19:31:13.822Z"
   },
   {
    "duration": 0,
    "start_time": "2023-05-30T19:31:13.823Z"
   },
   {
    "duration": 0,
    "start_time": "2023-05-30T19:31:13.824Z"
   },
   {
    "duration": 0,
    "start_time": "2023-05-30T19:31:13.826Z"
   },
   {
    "duration": 0,
    "start_time": "2023-05-30T19:31:13.827Z"
   },
   {
    "duration": 0,
    "start_time": "2023-05-30T19:31:13.829Z"
   },
   {
    "duration": 0,
    "start_time": "2023-05-30T19:31:13.831Z"
   },
   {
    "duration": 0,
    "start_time": "2023-05-30T19:31:13.832Z"
   },
   {
    "duration": 0,
    "start_time": "2023-05-30T19:31:13.834Z"
   },
   {
    "duration": 0,
    "start_time": "2023-05-30T19:31:13.835Z"
   },
   {
    "duration": 0,
    "start_time": "2023-05-30T19:31:13.837Z"
   },
   {
    "duration": 0,
    "start_time": "2023-05-30T19:31:13.840Z"
   },
   {
    "duration": 36,
    "start_time": "2023-05-30T19:35:05.482Z"
   },
   {
    "duration": 29,
    "start_time": "2023-05-30T19:35:16.633Z"
   },
   {
    "duration": 41,
    "start_time": "2023-05-30T19:35:39.487Z"
   },
   {
    "duration": 6,
    "start_time": "2023-05-30T19:39:21.339Z"
   },
   {
    "duration": 5,
    "start_time": "2023-05-30T19:40:17.313Z"
   },
   {
    "duration": 58,
    "start_time": "2023-05-30T19:41:56.137Z"
   },
   {
    "duration": 53,
    "start_time": "2023-05-30T19:42:51.395Z"
   },
   {
    "duration": 10,
    "start_time": "2023-05-30T19:43:10.921Z"
   },
   {
    "duration": 4,
    "start_time": "2023-05-30T19:43:52.382Z"
   },
   {
    "duration": 3,
    "start_time": "2023-05-30T19:44:01.135Z"
   },
   {
    "duration": 5,
    "start_time": "2023-05-30T19:45:38.687Z"
   },
   {
    "duration": 7,
    "start_time": "2023-05-30T19:47:19.491Z"
   },
   {
    "duration": 5,
    "start_time": "2023-05-30T19:47:37.040Z"
   },
   {
    "duration": 6,
    "start_time": "2023-05-30T19:49:31.885Z"
   },
   {
    "duration": 14,
    "start_time": "2023-05-30T19:50:57.623Z"
   },
   {
    "duration": 12,
    "start_time": "2023-05-30T19:51:03.125Z"
   },
   {
    "duration": 11,
    "start_time": "2023-05-30T19:51:13.424Z"
   },
   {
    "duration": 6,
    "start_time": "2023-05-30T19:52:03.651Z"
   },
   {
    "duration": 8,
    "start_time": "2023-05-30T19:53:07.643Z"
   },
   {
    "duration": 9,
    "start_time": "2023-05-30T19:54:16.226Z"
   },
   {
    "duration": 9,
    "start_time": "2023-05-30T19:55:09.391Z"
   },
   {
    "duration": 6,
    "start_time": "2023-05-30T19:55:15.248Z"
   },
   {
    "duration": 39,
    "start_time": "2023-05-30T19:56:11.155Z"
   },
   {
    "duration": 64,
    "start_time": "2023-05-30T19:56:16.253Z"
   },
   {
    "duration": 68,
    "start_time": "2023-05-30T19:59:57.553Z"
   },
   {
    "duration": 63,
    "start_time": "2023-05-30T20:00:34.982Z"
   },
   {
    "duration": 86,
    "start_time": "2023-05-30T20:00:51.125Z"
   },
   {
    "duration": 77,
    "start_time": "2023-05-30T20:01:43.826Z"
   },
   {
    "duration": 64,
    "start_time": "2023-05-30T20:01:51.063Z"
   },
   {
    "duration": 8,
    "start_time": "2023-05-30T20:20:44.474Z"
   },
   {
    "duration": 9,
    "start_time": "2023-05-30T20:21:37.324Z"
   },
   {
    "duration": 10,
    "start_time": "2023-05-30T20:27:11.804Z"
   },
   {
    "duration": 4,
    "start_time": "2023-05-30T20:27:58.078Z"
   },
   {
    "duration": 12,
    "start_time": "2023-05-30T20:28:00.458Z"
   },
   {
    "duration": 11,
    "start_time": "2023-05-30T20:32:29.478Z"
   },
   {
    "duration": 1043,
    "start_time": "2023-05-30T20:33:24.005Z"
   },
   {
    "duration": 152,
    "start_time": "2023-05-30T20:33:25.050Z"
   },
   {
    "duration": 13,
    "start_time": "2023-05-30T20:33:25.204Z"
   },
   {
    "duration": 35,
    "start_time": "2023-05-30T20:33:25.220Z"
   },
   {
    "duration": 19,
    "start_time": "2023-05-30T20:33:25.257Z"
   },
   {
    "duration": 13,
    "start_time": "2023-05-30T20:33:25.278Z"
   },
   {
    "duration": 160,
    "start_time": "2023-05-30T20:33:25.292Z"
   },
   {
    "duration": 21,
    "start_time": "2023-05-30T20:33:25.453Z"
   },
   {
    "duration": 95,
    "start_time": "2023-05-30T20:33:25.475Z"
   },
   {
    "duration": 130,
    "start_time": "2023-05-30T20:33:25.573Z"
   },
   {
    "duration": 12,
    "start_time": "2023-05-30T20:33:25.704Z"
   },
   {
    "duration": 9,
    "start_time": "2023-05-30T20:33:25.717Z"
   },
   {
    "duration": 40,
    "start_time": "2023-05-30T20:33:25.727Z"
   },
   {
    "duration": 8,
    "start_time": "2023-05-30T20:33:25.769Z"
   },
   {
    "duration": 5,
    "start_time": "2023-05-30T20:33:25.779Z"
   },
   {
    "duration": 24,
    "start_time": "2023-05-30T20:33:25.786Z"
   },
   {
    "duration": 49,
    "start_time": "2023-05-30T20:33:25.811Z"
   },
   {
    "duration": 741,
    "start_time": "2023-05-30T20:33:25.862Z"
   },
   {
    "duration": 26,
    "start_time": "2023-05-30T20:33:26.605Z"
   },
   {
    "duration": 48,
    "start_time": "2023-05-30T20:33:26.633Z"
   },
   {
    "duration": 13,
    "start_time": "2023-05-30T20:33:26.683Z"
   },
   {
    "duration": 11,
    "start_time": "2023-05-30T20:33:26.698Z"
   },
   {
    "duration": 53,
    "start_time": "2023-05-30T20:33:26.711Z"
   },
   {
    "duration": 22,
    "start_time": "2023-05-30T20:33:26.767Z"
   },
   {
    "duration": 67,
    "start_time": "2023-05-30T20:33:26.791Z"
   },
   {
    "duration": 43,
    "start_time": "2023-05-30T20:33:26.860Z"
   },
   {
    "duration": 11,
    "start_time": "2023-05-30T20:33:26.905Z"
   },
   {
    "duration": 7,
    "start_time": "2023-05-30T20:33:26.919Z"
   },
   {
    "duration": 30,
    "start_time": "2023-05-30T20:33:26.928Z"
   },
   {
    "duration": 28,
    "start_time": "2023-05-30T20:33:26.960Z"
   },
   {
    "duration": 81,
    "start_time": "2023-05-30T20:33:26.990Z"
   },
   {
    "duration": 2,
    "start_time": "2023-05-30T20:33:27.073Z"
   },
   {
    "duration": 109,
    "start_time": "2023-05-30T20:33:27.077Z"
   },
   {
    "duration": 0,
    "start_time": "2023-05-30T20:33:27.188Z"
   },
   {
    "duration": 0,
    "start_time": "2023-05-30T20:33:27.189Z"
   },
   {
    "duration": 0,
    "start_time": "2023-05-30T20:33:27.190Z"
   },
   {
    "duration": 13,
    "start_time": "2023-05-30T20:35:26.603Z"
   },
   {
    "duration": 8,
    "start_time": "2023-05-30T20:36:02.563Z"
   },
   {
    "duration": 40,
    "start_time": "2023-05-30T20:40:08.306Z"
   },
   {
    "duration": 32,
    "start_time": "2023-05-30T20:41:03.072Z"
   },
   {
    "duration": 13,
    "start_time": "2023-05-30T20:49:19.014Z"
   },
   {
    "duration": 61,
    "start_time": "2023-05-30T20:52:21.597Z"
   },
   {
    "duration": 15,
    "start_time": "2023-05-30T20:52:37.555Z"
   },
   {
    "duration": 4,
    "start_time": "2023-05-30T20:54:09.326Z"
   },
   {
    "duration": 8,
    "start_time": "2023-05-30T20:54:15.671Z"
   },
   {
    "duration": 5,
    "start_time": "2023-05-30T20:55:49.877Z"
   },
   {
    "duration": 10,
    "start_time": "2023-05-30T20:55:57.050Z"
   },
   {
    "duration": 9,
    "start_time": "2023-05-30T20:56:25.910Z"
   },
   {
    "duration": 9,
    "start_time": "2023-05-30T20:56:46.909Z"
   },
   {
    "duration": 8,
    "start_time": "2023-05-30T21:00:58.304Z"
   },
   {
    "duration": 10,
    "start_time": "2023-05-30T21:02:05.233Z"
   },
   {
    "duration": 7,
    "start_time": "2023-05-30T21:03:19.979Z"
   },
   {
    "duration": 8,
    "start_time": "2023-05-30T21:05:10.023Z"
   },
   {
    "duration": 11,
    "start_time": "2023-05-30T21:05:59.738Z"
   },
   {
    "duration": 7,
    "start_time": "2023-05-30T21:06:41.219Z"
   },
   {
    "duration": 8,
    "start_time": "2023-05-30T21:07:04.413Z"
   },
   {
    "duration": 11,
    "start_time": "2023-05-30T21:08:05.919Z"
   },
   {
    "duration": 8,
    "start_time": "2023-05-30T21:09:26.314Z"
   },
   {
    "duration": 7,
    "start_time": "2023-05-30T21:09:51.135Z"
   },
   {
    "duration": 10,
    "start_time": "2023-05-30T21:11:20.991Z"
   },
   {
    "duration": 9,
    "start_time": "2023-05-30T21:12:21.305Z"
   },
   {
    "duration": 8,
    "start_time": "2023-05-30T21:17:06.593Z"
   },
   {
    "duration": 8,
    "start_time": "2023-05-30T21:18:21.907Z"
   },
   {
    "duration": 8,
    "start_time": "2023-05-30T21:19:21.104Z"
   },
   {
    "duration": 8,
    "start_time": "2023-05-30T21:23:37.861Z"
   },
   {
    "duration": 8,
    "start_time": "2023-05-30T21:24:40.615Z"
   },
   {
    "duration": 8,
    "start_time": "2023-05-30T21:25:54.820Z"
   },
   {
    "duration": 7,
    "start_time": "2023-05-30T21:26:50.727Z"
   },
   {
    "duration": 8,
    "start_time": "2023-05-30T21:27:54.071Z"
   },
   {
    "duration": 8,
    "start_time": "2023-05-30T21:28:40.613Z"
   },
   {
    "duration": 9,
    "start_time": "2023-05-30T21:29:53.951Z"
   },
   {
    "duration": 7,
    "start_time": "2023-05-30T21:31:31.220Z"
   },
   {
    "duration": 7,
    "start_time": "2023-05-30T21:32:10.172Z"
   },
   {
    "duration": 8,
    "start_time": "2023-05-30T21:33:07.048Z"
   },
   {
    "duration": 7,
    "start_time": "2023-05-30T21:33:11.274Z"
   },
   {
    "duration": 1365,
    "start_time": "2023-05-31T17:07:31.868Z"
   },
   {
    "duration": 736,
    "start_time": "2023-05-31T17:07:33.234Z"
   },
   {
    "duration": 18,
    "start_time": "2023-05-31T17:07:33.972Z"
   },
   {
    "duration": 34,
    "start_time": "2023-05-31T17:07:33.992Z"
   },
   {
    "duration": 15,
    "start_time": "2023-05-31T17:07:34.028Z"
   },
   {
    "duration": 45,
    "start_time": "2023-05-31T17:07:34.045Z"
   },
   {
    "duration": 211,
    "start_time": "2023-05-31T17:07:34.092Z"
   },
   {
    "duration": 26,
    "start_time": "2023-05-31T17:07:34.306Z"
   },
   {
    "duration": 110,
    "start_time": "2023-05-31T17:07:34.334Z"
   },
   {
    "duration": 136,
    "start_time": "2023-05-31T17:07:34.448Z"
   },
   {
    "duration": 21,
    "start_time": "2023-05-31T17:07:34.587Z"
   },
   {
    "duration": 12,
    "start_time": "2023-05-31T17:07:34.611Z"
   },
   {
    "duration": 30,
    "start_time": "2023-05-31T17:07:34.625Z"
   },
   {
    "duration": 18,
    "start_time": "2023-05-31T17:07:34.676Z"
   },
   {
    "duration": 7,
    "start_time": "2023-05-31T17:07:34.696Z"
   },
   {
    "duration": 19,
    "start_time": "2023-05-31T17:07:34.704Z"
   },
   {
    "duration": 66,
    "start_time": "2023-05-31T17:07:34.724Z"
   },
   {
    "duration": 860,
    "start_time": "2023-05-31T17:07:34.792Z"
   },
   {
    "duration": 38,
    "start_time": "2023-05-31T17:07:35.654Z"
   },
   {
    "duration": 48,
    "start_time": "2023-05-31T17:07:35.694Z"
   },
   {
    "duration": 41,
    "start_time": "2023-05-31T17:07:35.745Z"
   },
   {
    "duration": 12,
    "start_time": "2023-05-31T17:07:35.788Z"
   },
   {
    "duration": 33,
    "start_time": "2023-05-31T17:07:35.803Z"
   },
   {
    "duration": 48,
    "start_time": "2023-05-31T17:07:35.837Z"
   },
   {
    "duration": 47,
    "start_time": "2023-05-31T17:07:35.886Z"
   },
   {
    "duration": 78,
    "start_time": "2023-05-31T17:07:35.935Z"
   },
   {
    "duration": 14,
    "start_time": "2023-05-31T17:07:36.015Z"
   },
   {
    "duration": 17,
    "start_time": "2023-05-31T17:07:36.036Z"
   },
   {
    "duration": 22,
    "start_time": "2023-05-31T17:07:36.055Z"
   },
   {
    "duration": 36,
    "start_time": "2023-05-31T17:07:36.081Z"
   },
   {
    "duration": 88,
    "start_time": "2023-05-31T17:07:36.119Z"
   },
   {
    "duration": 3,
    "start_time": "2023-05-31T17:07:36.209Z"
   },
   {
    "duration": 10,
    "start_time": "2023-05-31T17:07:36.215Z"
   },
   {
    "duration": 20,
    "start_time": "2023-05-31T17:07:36.226Z"
   },
   {
    "duration": 28,
    "start_time": "2023-05-31T17:07:36.248Z"
   },
   {
    "duration": 15,
    "start_time": "2023-05-31T17:07:36.279Z"
   },
   {
    "duration": 11,
    "start_time": "2023-05-31T17:07:36.297Z"
   },
   {
    "duration": 16,
    "start_time": "2023-05-31T17:07:36.310Z"
   },
   {
    "duration": 12,
    "start_time": "2023-05-31T17:07:36.327Z"
   },
   {
    "duration": 41,
    "start_time": "2023-05-31T17:07:36.340Z"
   },
   {
    "duration": 18,
    "start_time": "2023-05-31T17:07:36.382Z"
   },
   {
    "duration": 8,
    "start_time": "2023-05-31T17:07:36.402Z"
   },
   {
    "duration": 12,
    "start_time": "2023-05-31T17:07:36.411Z"
   },
   {
    "duration": 10,
    "start_time": "2023-05-31T17:07:36.425Z"
   },
   {
    "duration": 11,
    "start_time": "2023-05-31T17:07:36.438Z"
   },
   {
    "duration": 11,
    "start_time": "2023-05-31T17:07:36.475Z"
   },
   {
    "duration": 10,
    "start_time": "2023-05-31T17:07:36.488Z"
   },
   {
    "duration": 12,
    "start_time": "2023-05-31T17:07:36.500Z"
   },
   {
    "duration": 12,
    "start_time": "2023-05-31T17:07:36.514Z"
   },
   {
    "duration": 18,
    "start_time": "2023-05-31T17:07:36.528Z"
   },
   {
    "duration": 33,
    "start_time": "2023-05-31T17:07:36.548Z"
   },
   {
    "duration": 1131,
    "start_time": "2023-05-31T18:37:23.803Z"
   },
   {
    "duration": 623,
    "start_time": "2023-05-31T18:37:24.936Z"
   },
   {
    "duration": 15,
    "start_time": "2023-05-31T18:37:25.560Z"
   },
   {
    "duration": 21,
    "start_time": "2023-05-31T18:37:25.577Z"
   },
   {
    "duration": 12,
    "start_time": "2023-05-31T18:37:25.600Z"
   },
   {
    "duration": 17,
    "start_time": "2023-05-31T18:37:25.616Z"
   },
   {
    "duration": 119,
    "start_time": "2023-05-31T18:37:25.635Z"
   },
   {
    "duration": 18,
    "start_time": "2023-05-31T18:37:25.756Z"
   },
   {
    "duration": 84,
    "start_time": "2023-05-31T18:37:25.776Z"
   },
   {
    "duration": 111,
    "start_time": "2023-05-31T18:37:25.863Z"
   },
   {
    "duration": 10,
    "start_time": "2023-05-31T18:37:25.976Z"
   },
   {
    "duration": 8,
    "start_time": "2023-05-31T18:37:25.988Z"
   },
   {
    "duration": 24,
    "start_time": "2023-05-31T18:37:25.998Z"
   },
   {
    "duration": 7,
    "start_time": "2023-05-31T18:37:26.023Z"
   },
   {
    "duration": 9,
    "start_time": "2023-05-31T18:37:26.031Z"
   },
   {
    "duration": 10,
    "start_time": "2023-05-31T18:37:26.041Z"
   },
   {
    "duration": 25,
    "start_time": "2023-05-31T18:37:26.053Z"
   },
   {
    "duration": 600,
    "start_time": "2023-05-31T18:37:26.079Z"
   },
   {
    "duration": 21,
    "start_time": "2023-05-31T18:37:26.680Z"
   },
   {
    "duration": 49,
    "start_time": "2023-05-31T18:37:26.703Z"
   },
   {
    "duration": 10,
    "start_time": "2023-05-31T18:37:26.753Z"
   },
   {
    "duration": 8,
    "start_time": "2023-05-31T18:37:26.765Z"
   },
   {
    "duration": 43,
    "start_time": "2023-05-31T18:37:26.775Z"
   },
   {
    "duration": 21,
    "start_time": "2023-05-31T18:37:26.820Z"
   },
   {
    "duration": 38,
    "start_time": "2023-05-31T18:37:26.843Z"
   },
   {
    "duration": 47,
    "start_time": "2023-05-31T18:37:26.882Z"
   },
   {
    "duration": 8,
    "start_time": "2023-05-31T18:37:26.931Z"
   },
   {
    "duration": 6,
    "start_time": "2023-05-31T18:37:26.941Z"
   },
   {
    "duration": 5,
    "start_time": "2023-05-31T18:37:26.948Z"
   },
   {
    "duration": 46,
    "start_time": "2023-05-31T18:37:26.954Z"
   },
   {
    "duration": 59,
    "start_time": "2023-05-31T18:37:27.002Z"
   },
   {
    "duration": 2,
    "start_time": "2023-05-31T18:37:27.063Z"
   },
   {
    "duration": 10,
    "start_time": "2023-05-31T18:37:27.067Z"
   },
   {
    "duration": 7,
    "start_time": "2023-05-31T18:37:27.078Z"
   },
   {
    "duration": 12,
    "start_time": "2023-05-31T18:37:27.087Z"
   },
   {
    "duration": 19,
    "start_time": "2023-05-31T18:37:27.100Z"
   },
   {
    "duration": 7,
    "start_time": "2023-05-31T18:37:27.120Z"
   },
   {
    "duration": 22,
    "start_time": "2023-05-31T18:37:27.128Z"
   },
   {
    "duration": 7,
    "start_time": "2023-05-31T18:37:27.151Z"
   },
   {
    "duration": 20,
    "start_time": "2023-05-31T18:37:27.160Z"
   },
   {
    "duration": 7,
    "start_time": "2023-05-31T18:37:27.181Z"
   },
   {
    "duration": 10,
    "start_time": "2023-05-31T18:37:27.190Z"
   },
   {
    "duration": 14,
    "start_time": "2023-05-31T18:37:27.202Z"
   },
   {
    "duration": 12,
    "start_time": "2023-05-31T18:37:27.217Z"
   },
   {
    "duration": 16,
    "start_time": "2023-05-31T18:37:27.230Z"
   },
   {
    "duration": 12,
    "start_time": "2023-05-31T18:37:27.247Z"
   },
   {
    "duration": 12,
    "start_time": "2023-05-31T18:37:27.260Z"
   },
   {
    "duration": 10,
    "start_time": "2023-05-31T18:37:27.273Z"
   },
   {
    "duration": 12,
    "start_time": "2023-05-31T18:37:27.285Z"
   },
   {
    "duration": 9,
    "start_time": "2023-05-31T18:37:27.298Z"
   },
   {
    "duration": 11,
    "start_time": "2023-05-31T18:37:27.308Z"
   },
   {
    "duration": 10,
    "start_time": "2023-05-31T18:37:27.320Z"
   },
   {
    "duration": 12,
    "start_time": "2023-05-31T18:37:27.331Z"
   },
   {
    "duration": 6,
    "start_time": "2023-05-31T19:00:01.531Z"
   },
   {
    "duration": 7,
    "start_time": "2023-05-31T19:05:27.906Z"
   },
   {
    "duration": 6,
    "start_time": "2023-05-31T19:06:33.295Z"
   },
   {
    "duration": 6,
    "start_time": "2023-05-31T19:08:33.950Z"
   },
   {
    "duration": 6,
    "start_time": "2023-05-31T19:09:34.283Z"
   },
   {
    "duration": 7,
    "start_time": "2023-05-31T19:11:29.641Z"
   },
   {
    "duration": 6,
    "start_time": "2023-05-31T19:16:47.829Z"
   },
   {
    "duration": 10,
    "start_time": "2023-05-31T19:27:48.627Z"
   },
   {
    "duration": 15,
    "start_time": "2023-05-31T19:28:59.026Z"
   },
   {
    "duration": 1497,
    "start_time": "2023-05-31T19:29:15.484Z"
   },
   {
    "duration": 14,
    "start_time": "2023-05-31T19:29:32.690Z"
   },
   {
    "duration": 12,
    "start_time": "2023-05-31T19:31:24.088Z"
   },
   {
    "duration": 15,
    "start_time": "2023-05-31T19:32:00.597Z"
   },
   {
    "duration": 10,
    "start_time": "2023-05-31T19:38:59.884Z"
   },
   {
    "duration": 12,
    "start_time": "2023-05-31T19:42:42.195Z"
   },
   {
    "duration": 20,
    "start_time": "2023-05-31T19:44:45.078Z"
   },
   {
    "duration": 18,
    "start_time": "2023-05-31T19:59:49.993Z"
   },
   {
    "duration": 7,
    "start_time": "2023-05-31T20:08:47.400Z"
   },
   {
    "duration": 117,
    "start_time": "2023-05-31T20:12:04.543Z"
   },
   {
    "duration": 10,
    "start_time": "2023-05-31T20:12:12.020Z"
   },
   {
    "duration": 9,
    "start_time": "2023-05-31T20:12:50.212Z"
   },
   {
    "duration": 9,
    "start_time": "2023-05-31T20:13:01.385Z"
   },
   {
    "duration": 1260,
    "start_time": "2023-05-31T20:16:26.652Z"
   },
   {
    "duration": 1356,
    "start_time": "2023-05-31T20:16:41.481Z"
   },
   {
    "duration": 1246,
    "start_time": "2023-05-31T20:18:35.530Z"
   },
   {
    "duration": 4,
    "start_time": "2023-05-31T20:20:27.653Z"
   },
   {
    "duration": 8,
    "start_time": "2023-05-31T20:20:35.492Z"
   },
   {
    "duration": 14,
    "start_time": "2023-05-31T20:20:59.628Z"
   },
   {
    "duration": 995,
    "start_time": "2023-05-31T20:21:09.537Z"
   },
   {
    "duration": 144,
    "start_time": "2023-05-31T20:21:10.534Z"
   },
   {
    "duration": 11,
    "start_time": "2023-05-31T20:21:10.679Z"
   },
   {
    "duration": 43,
    "start_time": "2023-05-31T20:21:10.691Z"
   },
   {
    "duration": 25,
    "start_time": "2023-05-31T20:21:10.735Z"
   },
   {
    "duration": 28,
    "start_time": "2023-05-31T20:21:10.761Z"
   },
   {
    "duration": 153,
    "start_time": "2023-05-31T20:21:10.790Z"
   },
   {
    "duration": 16,
    "start_time": "2023-05-31T20:21:10.944Z"
   },
   {
    "duration": 93,
    "start_time": "2023-05-31T20:21:10.961Z"
   },
   {
    "duration": 102,
    "start_time": "2023-05-31T20:21:11.057Z"
   },
   {
    "duration": 11,
    "start_time": "2023-05-31T20:21:11.160Z"
   },
   {
    "duration": 22,
    "start_time": "2023-05-31T20:21:11.172Z"
   },
   {
    "duration": 37,
    "start_time": "2023-05-31T20:21:11.196Z"
   },
   {
    "duration": 22,
    "start_time": "2023-05-31T20:21:11.234Z"
   },
   {
    "duration": 14,
    "start_time": "2023-05-31T20:21:11.258Z"
   },
   {
    "duration": 21,
    "start_time": "2023-05-31T20:21:11.273Z"
   },
   {
    "duration": 42,
    "start_time": "2023-05-31T20:21:11.296Z"
   },
   {
    "duration": 594,
    "start_time": "2023-05-31T20:21:11.339Z"
   },
   {
    "duration": 22,
    "start_time": "2023-05-31T20:21:11.935Z"
   },
   {
    "duration": 26,
    "start_time": "2023-05-31T20:21:11.959Z"
   },
   {
    "duration": 9,
    "start_time": "2023-05-31T20:21:11.986Z"
   },
   {
    "duration": 20,
    "start_time": "2023-05-31T20:21:11.997Z"
   },
   {
    "duration": 26,
    "start_time": "2023-05-31T20:21:12.018Z"
   },
   {
    "duration": 18,
    "start_time": "2023-05-31T20:21:12.046Z"
   },
   {
    "duration": 66,
    "start_time": "2023-05-31T20:21:12.065Z"
   },
   {
    "duration": 34,
    "start_time": "2023-05-31T20:21:12.133Z"
   },
   {
    "duration": 8,
    "start_time": "2023-05-31T20:21:12.168Z"
   },
   {
    "duration": 5,
    "start_time": "2023-05-31T20:21:12.179Z"
   },
   {
    "duration": 6,
    "start_time": "2023-05-31T20:21:12.185Z"
   },
   {
    "duration": 43,
    "start_time": "2023-05-31T20:21:12.192Z"
   },
   {
    "duration": 52,
    "start_time": "2023-05-31T20:21:12.236Z"
   },
   {
    "duration": 3,
    "start_time": "2023-05-31T20:21:12.289Z"
   },
   {
    "duration": 5,
    "start_time": "2023-05-31T20:21:12.293Z"
   },
   {
    "duration": 25,
    "start_time": "2023-05-31T20:21:12.300Z"
   },
   {
    "duration": 18,
    "start_time": "2023-05-31T20:21:12.326Z"
   },
   {
    "duration": 8,
    "start_time": "2023-05-31T20:21:12.345Z"
   },
   {
    "duration": 11,
    "start_time": "2023-05-31T20:21:12.355Z"
   },
   {
    "duration": 11,
    "start_time": "2023-05-31T20:21:12.368Z"
   },
   {
    "duration": 10,
    "start_time": "2023-05-31T20:21:12.381Z"
   },
   {
    "duration": 9,
    "start_time": "2023-05-31T20:21:12.392Z"
   },
   {
    "duration": 34,
    "start_time": "2023-05-31T20:21:12.403Z"
   },
   {
    "duration": 9,
    "start_time": "2023-05-31T20:22:55.165Z"
   },
   {
    "duration": 930,
    "start_time": "2023-05-31T20:23:02.778Z"
   },
   {
    "duration": 159,
    "start_time": "2023-05-31T20:23:03.709Z"
   },
   {
    "duration": 23,
    "start_time": "2023-05-31T20:23:03.870Z"
   },
   {
    "duration": 30,
    "start_time": "2023-05-31T20:23:03.896Z"
   },
   {
    "duration": 11,
    "start_time": "2023-05-31T20:23:03.927Z"
   },
   {
    "duration": 21,
    "start_time": "2023-05-31T20:23:03.939Z"
   },
   {
    "duration": 130,
    "start_time": "2023-05-31T20:23:03.961Z"
   },
   {
    "duration": 28,
    "start_time": "2023-05-31T20:23:04.092Z"
   },
   {
    "duration": 73,
    "start_time": "2023-05-31T20:23:04.121Z"
   },
   {
    "duration": 103,
    "start_time": "2023-05-31T20:23:04.197Z"
   },
   {
    "duration": 27,
    "start_time": "2023-05-31T20:23:04.301Z"
   },
   {
    "duration": 8,
    "start_time": "2023-05-31T20:23:04.330Z"
   },
   {
    "duration": 15,
    "start_time": "2023-05-31T20:23:04.340Z"
   },
   {
    "duration": 7,
    "start_time": "2023-05-31T20:23:04.357Z"
   },
   {
    "duration": 5,
    "start_time": "2023-05-31T20:23:04.365Z"
   },
   {
    "duration": 12,
    "start_time": "2023-05-31T20:23:04.371Z"
   },
   {
    "duration": 56,
    "start_time": "2023-05-31T20:23:04.384Z"
   },
   {
    "duration": 569,
    "start_time": "2023-05-31T20:23:04.441Z"
   },
   {
    "duration": 31,
    "start_time": "2023-05-31T20:23:05.011Z"
   },
   {
    "duration": 26,
    "start_time": "2023-05-31T20:23:05.043Z"
   },
   {
    "duration": 10,
    "start_time": "2023-05-31T20:23:05.071Z"
   },
   {
    "duration": 8,
    "start_time": "2023-05-31T20:23:05.082Z"
   },
   {
    "duration": 49,
    "start_time": "2023-05-31T20:23:05.091Z"
   },
   {
    "duration": 18,
    "start_time": "2023-05-31T20:23:05.141Z"
   },
   {
    "duration": 37,
    "start_time": "2023-05-31T20:23:05.161Z"
   },
   {
    "duration": 63,
    "start_time": "2023-05-31T20:23:05.199Z"
   },
   {
    "duration": 11,
    "start_time": "2023-05-31T20:23:05.263Z"
   },
   {
    "duration": 10,
    "start_time": "2023-05-31T20:23:05.278Z"
   },
   {
    "duration": 15,
    "start_time": "2023-05-31T20:23:05.289Z"
   },
   {
    "duration": 51,
    "start_time": "2023-05-31T20:23:05.305Z"
   },
   {
    "duration": 71,
    "start_time": "2023-05-31T20:23:05.358Z"
   },
   {
    "duration": 3,
    "start_time": "2023-05-31T20:23:05.431Z"
   },
   {
    "duration": 19,
    "start_time": "2023-05-31T20:23:05.435Z"
   },
   {
    "duration": 29,
    "start_time": "2023-05-31T20:23:05.456Z"
   },
   {
    "duration": 21,
    "start_time": "2023-05-31T20:23:05.487Z"
   },
   {
    "duration": 39,
    "start_time": "2023-05-31T20:23:05.510Z"
   },
   {
    "duration": 23,
    "start_time": "2023-05-31T20:23:05.551Z"
   },
   {
    "duration": 29,
    "start_time": "2023-05-31T20:23:05.575Z"
   },
   {
    "duration": 27,
    "start_time": "2023-05-31T20:23:05.605Z"
   },
   {
    "duration": 16,
    "start_time": "2023-05-31T20:23:05.634Z"
   },
   {
    "duration": 37,
    "start_time": "2023-05-31T20:23:05.651Z"
   },
   {
    "duration": 16,
    "start_time": "2023-05-31T20:23:05.689Z"
   },
   {
    "duration": 20,
    "start_time": "2023-05-31T20:24:59.006Z"
   },
   {
    "duration": 107,
    "start_time": "2023-05-31T20:31:26.840Z"
   },
   {
    "duration": 11,
    "start_time": "2023-05-31T20:31:37.543Z"
   },
   {
    "duration": 1243,
    "start_time": "2023-07-23T12:17:57.176Z"
   },
   {
    "duration": 713,
    "start_time": "2023-07-23T12:17:58.425Z"
   },
   {
    "duration": 17,
    "start_time": "2023-07-23T12:17:59.140Z"
   },
   {
    "duration": 58,
    "start_time": "2023-07-23T12:17:59.159Z"
   },
   {
    "duration": 14,
    "start_time": "2023-07-23T12:17:59.219Z"
   },
   {
    "duration": 34,
    "start_time": "2023-07-23T12:17:59.235Z"
   },
   {
    "duration": 225,
    "start_time": "2023-07-23T12:17:59.271Z"
   },
   {
    "duration": 20,
    "start_time": "2023-07-23T12:17:59.499Z"
   },
   {
    "duration": 114,
    "start_time": "2023-07-23T12:17:59.520Z"
   },
   {
    "duration": 146,
    "start_time": "2023-07-23T12:17:59.637Z"
   },
   {
    "duration": 16,
    "start_time": "2023-07-23T12:17:59.785Z"
   },
   {
    "duration": 13,
    "start_time": "2023-07-23T12:17:59.803Z"
   },
   {
    "duration": 37,
    "start_time": "2023-07-23T12:17:59.818Z"
   },
   {
    "duration": 16,
    "start_time": "2023-07-23T12:17:59.857Z"
   },
   {
    "duration": 45,
    "start_time": "2023-07-23T12:17:59.874Z"
   },
   {
    "duration": 8,
    "start_time": "2023-07-23T12:17:59.921Z"
   },
   {
    "duration": 54,
    "start_time": "2023-07-23T12:17:59.930Z"
   },
   {
    "duration": 814,
    "start_time": "2023-07-23T12:17:59.988Z"
   },
   {
    "duration": 25,
    "start_time": "2023-07-23T12:18:00.803Z"
   },
   {
    "duration": 136,
    "start_time": "2023-07-23T12:18:00.830Z"
   },
   {
    "duration": 47,
    "start_time": "2023-07-23T12:18:00.969Z"
   },
   {
    "duration": 31,
    "start_time": "2023-07-23T12:18:01.018Z"
   },
   {
    "duration": 82,
    "start_time": "2023-07-23T12:18:01.051Z"
   },
   {
    "duration": 103,
    "start_time": "2023-07-23T12:18:01.135Z"
   },
   {
    "duration": 135,
    "start_time": "2023-07-23T12:18:01.240Z"
   },
   {
    "duration": 82,
    "start_time": "2023-07-23T12:18:01.377Z"
   },
   {
    "duration": 42,
    "start_time": "2023-07-23T12:18:01.466Z"
   },
   {
    "duration": 42,
    "start_time": "2023-07-23T12:18:01.511Z"
   },
   {
    "duration": 123,
    "start_time": "2023-07-23T12:18:01.557Z"
   },
   {
    "duration": 91,
    "start_time": "2023-07-23T12:18:01.686Z"
   },
   {
    "duration": 106,
    "start_time": "2023-07-23T12:18:01.779Z"
   },
   {
    "duration": 3,
    "start_time": "2023-07-23T12:18:01.891Z"
   },
   {
    "duration": 36,
    "start_time": "2023-07-23T12:18:01.895Z"
   },
   {
    "duration": 104,
    "start_time": "2023-07-23T12:18:01.932Z"
   },
   {
    "duration": 79,
    "start_time": "2023-07-23T12:18:02.038Z"
   },
   {
    "duration": 59,
    "start_time": "2023-07-23T12:18:02.119Z"
   },
   {
    "duration": 39,
    "start_time": "2023-07-23T12:18:02.184Z"
   },
   {
    "duration": 47,
    "start_time": "2023-07-23T12:18:02.226Z"
   },
   {
    "duration": 64,
    "start_time": "2023-07-23T12:18:02.274Z"
   },
   {
    "duration": 76,
    "start_time": "2023-07-23T12:18:02.340Z"
   },
   {
    "duration": 88,
    "start_time": "2023-07-23T12:18:02.418Z"
   },
   {
    "duration": 57,
    "start_time": "2023-07-23T12:18:02.508Z"
   },
   {
    "duration": 11,
    "start_time": "2023-07-23T12:18:28.551Z"
   },
   {
    "duration": 5,
    "start_time": "2023-07-23T12:20:03.112Z"
   },
   {
    "duration": 5,
    "start_time": "2023-07-23T12:37:01.018Z"
   },
   {
    "duration": 4,
    "start_time": "2023-07-23T12:37:36.103Z"
   }
  ],
  "kernelspec": {
   "display_name": "Python 3 (ipykernel)",
   "language": "python",
   "name": "python3"
  },
  "language_info": {
   "codemirror_mode": {
    "name": "ipython",
    "version": 3
   },
   "file_extension": ".py",
   "mimetype": "text/x-python",
   "name": "python",
   "nbconvert_exporter": "python",
   "pygments_lexer": "ipython3",
   "version": "3.10.9"
  },
  "toc": {
   "base_numbering": 1,
   "nav_menu": {},
   "number_sections": false,
   "sideBar": true,
   "skip_h1_title": false,
   "title_cell": "Table of Contents",
   "title_sidebar": "Contents",
   "toc_cell": false,
   "toc_position": {
    "height": "calc(100% - 180px)",
    "left": "10px",
    "top": "150px",
    "width": "279.261px"
   },
   "toc_section_display": true,
   "toc_window_display": false
  }
 },
 "nbformat": 4,
 "nbformat_minor": 2
}
