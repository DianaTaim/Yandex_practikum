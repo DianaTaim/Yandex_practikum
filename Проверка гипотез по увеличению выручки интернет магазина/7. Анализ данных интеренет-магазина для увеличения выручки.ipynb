{
 "cells": [
  {
   "cell_type": "markdown",
   "metadata": {},
   "source": [
    "# Анализ данных для увеличения выручки интернет-магазина"
   ]
  },
  {
   "cell_type": "markdown",
   "metadata": {},
   "source": [
    "Цель: Проверить гипотезы с целью увеличения выручки, запустить А/В тестирование"
   ]
  },
  {
   "cell_type": "markdown",
   "metadata": {},
   "source": [
    "### План работы\n",
    "1. Ознакомиться с данными\n",
    "2. Выполнить приоритизацию гипотез\n",
    "3. Проанализировать А/В тест. \n",
    "- Построить графики кумулятивной выручки по группам\n",
    "- Построить график кумулятивного среднего чека по группам\n",
    "- Построить график относительного изменения кумулятивного среднего чека группы B к группе A\n",
    "- Построить график кумулятивного среднего количества заказов на посетителя по группам\n",
    "- Построить график относительного изменения кумулятивного среднего количества заказов на посетителя группы B к группе A\n",
    "- Построить точечный график количества заказов по пользователям\n",
    "- Посчитать 95-й и 99-й перцентили количества заказов на пользователя\n",
    "- Посчитать статистическую значимость различий в среднем количестве заказов на посетителя между группами по «сырым» данным\n",
    "- Посчитать статистическую значимость различий в среднем чеке заказа между группами по «сырым» данным\n",
    "- Посчитать статистическую значимость различий в среднем количестве заказов на посетителя между группами по «очищенным» данным\n",
    "- Посчитать статистическую значимость различий в среднем чеке заказа между группами по «очищенным» данным\n",
    "4. Сформулировать вывод, принять решение продолжать тест/продлить/приоставить"
   ]
  },
  {
   "cell_type": "markdown",
   "metadata": {},
   "source": [
    "### Описание данных\n",
    "\n",
    "**Файл /datasets/hypothesis.csv**\n",
    "\n",
    "- `Hypothesis` — краткое описание гипотезы;\n",
    "- `Reach` — охват пользователей по 10-балльной шкале;\n",
    "- `Impact` — влияние на пользователей по 10-балльной шкале;\n",
    "- `Confidence` — уверенность в гипотезе по 10-балльной шкале;\n",
    "- `Efforts` — затраты ресурсов на проверку гипотезы по 10-балльной шкале. Чем больше значение Efforts, тем дороже проверка гипотезы.\n",
    "\n",
    "**Файл /datasets/orders.csv**\n",
    "\n",
    "- `transactionId` — идентификатор заказа;\n",
    "- `visitorId` — идентификатор пользователя, совершившего заказ;\n",
    "- `date` — дата, когда был совершён заказ;\n",
    "- `revenue` — выручка заказа;\n",
    "- `group` — группа A/B-теста, в которую попал заказ.\n",
    "\n",
    "**Файл /datasets/visitors.csv** \n",
    "\n",
    "- `date` — дата;\n",
    "- `group` — группа A/B-теста;\n",
    "- `visitors` — количество пользователей в указанную дату в указанной группе A/B-теста"
   ]
  },
  {
   "cell_type": "markdown",
   "metadata": {},
   "source": [
    "### 1. Подготовка данных к анализу"
   ]
  },
  {
   "cell_type": "code",
   "execution_count": 1,
   "metadata": {},
   "outputs": [],
   "source": [
    "import pandas as pd\n",
    "import matplotlib.pyplot as plt\n",
    "import numpy as np\n",
    "import datetime as dt\n",
    "import scipy.stats as stats\n",
    "\n",
    "data = pd.read_csv('/datasets/hypothesis.csv')\n",
    "orders = pd.read_csv('/datasets/orders.csv', sep=',')\n",
    "visitors = pd.read_csv('/datasets/visitors.csv')"
   ]
  },
  {
   "cell_type": "code",
   "execution_count": 2,
   "metadata": {},
   "outputs": [
    {
     "name": "stdout",
     "output_type": "stream",
     "text": [
      "<class 'pandas.core.frame.DataFrame'>\n",
      "RangeIndex: 9 entries, 0 to 8\n",
      "Data columns (total 5 columns):\n",
      " #   Column      Non-Null Count  Dtype \n",
      "---  ------      --------------  ----- \n",
      " 0   Hypothesis  9 non-null      object\n",
      " 1   Reach       9 non-null      int64 \n",
      " 2   Impact      9 non-null      int64 \n",
      " 3   Confidence  9 non-null      int64 \n",
      " 4   Efforts     9 non-null      int64 \n",
      "dtypes: int64(4), object(1)\n",
      "memory usage: 488.0+ bytes\n"
     ]
    },
    {
     "data": {
      "text/plain": [
       "None"
      ]
     },
     "metadata": {},
     "output_type": "display_data"
    },
    {
     "name": "stdout",
     "output_type": "stream",
     "text": [
      "<class 'pandas.core.frame.DataFrame'>\n",
      "RangeIndex: 1197 entries, 0 to 1196\n",
      "Data columns (total 5 columns):\n",
      " #   Column         Non-Null Count  Dtype \n",
      "---  ------         --------------  ----- \n",
      " 0   transactionId  1197 non-null   int64 \n",
      " 1   visitorId      1197 non-null   int64 \n",
      " 2   date           1197 non-null   object\n",
      " 3   revenue        1197 non-null   int64 \n",
      " 4   group          1197 non-null   object\n",
      "dtypes: int64(3), object(2)\n",
      "memory usage: 46.9+ KB\n"
     ]
    },
    {
     "data": {
      "text/plain": [
       "None"
      ]
     },
     "metadata": {},
     "output_type": "display_data"
    },
    {
     "name": "stdout",
     "output_type": "stream",
     "text": [
      "<class 'pandas.core.frame.DataFrame'>\n",
      "RangeIndex: 62 entries, 0 to 61\n",
      "Data columns (total 3 columns):\n",
      " #   Column    Non-Null Count  Dtype \n",
      "---  ------    --------------  ----- \n",
      " 0   date      62 non-null     object\n",
      " 1   group     62 non-null     object\n",
      " 2   visitors  62 non-null     int64 \n",
      "dtypes: int64(1), object(2)\n",
      "memory usage: 1.6+ KB\n"
     ]
    },
    {
     "data": {
      "text/plain": [
       "None"
      ]
     },
     "metadata": {},
     "output_type": "display_data"
    }
   ],
   "source": [
    "display(data.info())\n",
    "display(orders.info())\n",
    "display(visitors.info())"
   ]
  },
  {
   "cell_type": "code",
   "execution_count": 3,
   "metadata": {},
   "outputs": [
    {
     "data": {
      "text/html": [
       "<div>\n",
       "<style scoped>\n",
       "    .dataframe tbody tr th:only-of-type {\n",
       "        vertical-align: middle;\n",
       "    }\n",
       "\n",
       "    .dataframe tbody tr th {\n",
       "        vertical-align: top;\n",
       "    }\n",
       "\n",
       "    .dataframe thead th {\n",
       "        text-align: right;\n",
       "    }\n",
       "</style>\n",
       "<table border=\"1\" class=\"dataframe\">\n",
       "  <thead>\n",
       "    <tr style=\"text-align: right;\">\n",
       "      <th></th>\n",
       "      <th>Hypothesis</th>\n",
       "      <th>Reach</th>\n",
       "      <th>Impact</th>\n",
       "      <th>Confidence</th>\n",
       "      <th>Efforts</th>\n",
       "    </tr>\n",
       "  </thead>\n",
       "  <tbody>\n",
       "    <tr>\n",
       "      <th>0</th>\n",
       "      <td>Добавить два новых канала привлечения трафика,...</td>\n",
       "      <td>3</td>\n",
       "      <td>10</td>\n",
       "      <td>8</td>\n",
       "      <td>6</td>\n",
       "    </tr>\n",
       "    <tr>\n",
       "      <th>1</th>\n",
       "      <td>Запустить собственную службу доставки, что сок...</td>\n",
       "      <td>2</td>\n",
       "      <td>5</td>\n",
       "      <td>4</td>\n",
       "      <td>10</td>\n",
       "    </tr>\n",
       "    <tr>\n",
       "      <th>2</th>\n",
       "      <td>Добавить блоки рекомендаций товаров на сайт ин...</td>\n",
       "      <td>8</td>\n",
       "      <td>3</td>\n",
       "      <td>7</td>\n",
       "      <td>3</td>\n",
       "    </tr>\n",
       "    <tr>\n",
       "      <th>3</th>\n",
       "      <td>Изменить структура категорий, что увеличит кон...</td>\n",
       "      <td>8</td>\n",
       "      <td>3</td>\n",
       "      <td>3</td>\n",
       "      <td>8</td>\n",
       "    </tr>\n",
       "    <tr>\n",
       "      <th>4</th>\n",
       "      <td>Изменить цвет фона главной страницы, чтобы уве...</td>\n",
       "      <td>3</td>\n",
       "      <td>1</td>\n",
       "      <td>1</td>\n",
       "      <td>1</td>\n",
       "    </tr>\n",
       "  </tbody>\n",
       "</table>\n",
       "</div>"
      ],
      "text/plain": [
       "                                          Hypothesis  Reach  Impact  \\\n",
       "0  Добавить два новых канала привлечения трафика,...      3      10   \n",
       "1  Запустить собственную службу доставки, что сок...      2       5   \n",
       "2  Добавить блоки рекомендаций товаров на сайт ин...      8       3   \n",
       "3  Изменить структура категорий, что увеличит кон...      8       3   \n",
       "4  Изменить цвет фона главной страницы, чтобы уве...      3       1   \n",
       "\n",
       "   Confidence  Efforts  \n",
       "0           8        6  \n",
       "1           4       10  \n",
       "2           7        3  \n",
       "3           3        8  \n",
       "4           1        1  "
      ]
     },
     "metadata": {},
     "output_type": "display_data"
    },
    {
     "data": {
      "text/html": [
       "<div>\n",
       "<style scoped>\n",
       "    .dataframe tbody tr th:only-of-type {\n",
       "        vertical-align: middle;\n",
       "    }\n",
       "\n",
       "    .dataframe tbody tr th {\n",
       "        vertical-align: top;\n",
       "    }\n",
       "\n",
       "    .dataframe thead th {\n",
       "        text-align: right;\n",
       "    }\n",
       "</style>\n",
       "<table border=\"1\" class=\"dataframe\">\n",
       "  <thead>\n",
       "    <tr style=\"text-align: right;\">\n",
       "      <th></th>\n",
       "      <th>transactionId</th>\n",
       "      <th>visitorId</th>\n",
       "      <th>date</th>\n",
       "      <th>revenue</th>\n",
       "      <th>group</th>\n",
       "    </tr>\n",
       "  </thead>\n",
       "  <tbody>\n",
       "    <tr>\n",
       "      <th>0</th>\n",
       "      <td>3667963787</td>\n",
       "      <td>3312258926</td>\n",
       "      <td>2019-08-15</td>\n",
       "      <td>1650</td>\n",
       "      <td>B</td>\n",
       "    </tr>\n",
       "    <tr>\n",
       "      <th>1</th>\n",
       "      <td>2804400009</td>\n",
       "      <td>3642806036</td>\n",
       "      <td>2019-08-15</td>\n",
       "      <td>730</td>\n",
       "      <td>B</td>\n",
       "    </tr>\n",
       "    <tr>\n",
       "      <th>2</th>\n",
       "      <td>2961555356</td>\n",
       "      <td>4069496402</td>\n",
       "      <td>2019-08-15</td>\n",
       "      <td>400</td>\n",
       "      <td>A</td>\n",
       "    </tr>\n",
       "    <tr>\n",
       "      <th>3</th>\n",
       "      <td>3797467345</td>\n",
       "      <td>1196621759</td>\n",
       "      <td>2019-08-15</td>\n",
       "      <td>9759</td>\n",
       "      <td>B</td>\n",
       "    </tr>\n",
       "    <tr>\n",
       "      <th>4</th>\n",
       "      <td>2282983706</td>\n",
       "      <td>2322279887</td>\n",
       "      <td>2019-08-15</td>\n",
       "      <td>2308</td>\n",
       "      <td>B</td>\n",
       "    </tr>\n",
       "  </tbody>\n",
       "</table>\n",
       "</div>"
      ],
      "text/plain": [
       "   transactionId   visitorId        date  revenue group\n",
       "0     3667963787  3312258926  2019-08-15     1650     B\n",
       "1     2804400009  3642806036  2019-08-15      730     B\n",
       "2     2961555356  4069496402  2019-08-15      400     A\n",
       "3     3797467345  1196621759  2019-08-15     9759     B\n",
       "4     2282983706  2322279887  2019-08-15     2308     B"
      ]
     },
     "metadata": {},
     "output_type": "display_data"
    },
    {
     "data": {
      "text/html": [
       "<div>\n",
       "<style scoped>\n",
       "    .dataframe tbody tr th:only-of-type {\n",
       "        vertical-align: middle;\n",
       "    }\n",
       "\n",
       "    .dataframe tbody tr th {\n",
       "        vertical-align: top;\n",
       "    }\n",
       "\n",
       "    .dataframe thead th {\n",
       "        text-align: right;\n",
       "    }\n",
       "</style>\n",
       "<table border=\"1\" class=\"dataframe\">\n",
       "  <thead>\n",
       "    <tr style=\"text-align: right;\">\n",
       "      <th></th>\n",
       "      <th>date</th>\n",
       "      <th>group</th>\n",
       "      <th>visitors</th>\n",
       "    </tr>\n",
       "  </thead>\n",
       "  <tbody>\n",
       "    <tr>\n",
       "      <th>0</th>\n",
       "      <td>2019-08-01</td>\n",
       "      <td>A</td>\n",
       "      <td>719</td>\n",
       "    </tr>\n",
       "    <tr>\n",
       "      <th>1</th>\n",
       "      <td>2019-08-02</td>\n",
       "      <td>A</td>\n",
       "      <td>619</td>\n",
       "    </tr>\n",
       "    <tr>\n",
       "      <th>2</th>\n",
       "      <td>2019-08-03</td>\n",
       "      <td>A</td>\n",
       "      <td>507</td>\n",
       "    </tr>\n",
       "    <tr>\n",
       "      <th>3</th>\n",
       "      <td>2019-08-04</td>\n",
       "      <td>A</td>\n",
       "      <td>717</td>\n",
       "    </tr>\n",
       "    <tr>\n",
       "      <th>4</th>\n",
       "      <td>2019-08-05</td>\n",
       "      <td>A</td>\n",
       "      <td>756</td>\n",
       "    </tr>\n",
       "  </tbody>\n",
       "</table>\n",
       "</div>"
      ],
      "text/plain": [
       "         date group  visitors\n",
       "0  2019-08-01     A       719\n",
       "1  2019-08-02     A       619\n",
       "2  2019-08-03     A       507\n",
       "3  2019-08-04     A       717\n",
       "4  2019-08-05     A       756"
      ]
     },
     "metadata": {},
     "output_type": "display_data"
    }
   ],
   "source": [
    "display(data.head(5))\n",
    "display(orders.head(5))\n",
    "display(visitors.head(5))"
   ]
  },
  {
   "cell_type": "code",
   "execution_count": 4,
   "metadata": {},
   "outputs": [],
   "source": [
    "orders['date'] = pd.to_datetime(orders['date']).dt.date\n",
    "visitors['date'] = pd.to_datetime(visitors['date']).dt.date"
   ]
  },
  {
   "cell_type": "code",
   "execution_count": 5,
   "metadata": {},
   "outputs": [
    {
     "data": {
      "text/plain": [
       "0"
      ]
     },
     "metadata": {},
     "output_type": "display_data"
    },
    {
     "data": {
      "text/plain": [
       "0"
      ]
     },
     "metadata": {},
     "output_type": "display_data"
    },
    {
     "data": {
      "text/plain": [
       "0"
      ]
     },
     "metadata": {},
     "output_type": "display_data"
    }
   ],
   "source": [
    "display(data.duplicated().sum())\n",
    "display(orders.duplicated().sum())\n",
    "display(visitors.duplicated().sum())"
   ]
  },
  {
   "cell_type": "code",
   "execution_count": 6,
   "metadata": {},
   "outputs": [
    {
     "data": {
      "text/plain": [
       "Hypothesis    0\n",
       "Reach         0\n",
       "Impact        0\n",
       "Confidence    0\n",
       "Efforts       0\n",
       "dtype: int64"
      ]
     },
     "metadata": {},
     "output_type": "display_data"
    },
    {
     "data": {
      "text/plain": [
       "transactionId    0\n",
       "visitorId        0\n",
       "date             0\n",
       "revenue          0\n",
       "group            0\n",
       "dtype: int64"
      ]
     },
     "metadata": {},
     "output_type": "display_data"
    },
    {
     "data": {
      "text/plain": [
       "date        0\n",
       "group       0\n",
       "visitors    0\n",
       "dtype: int64"
      ]
     },
     "metadata": {},
     "output_type": "display_data"
    }
   ],
   "source": [
    "display(data.isna().sum())\n",
    "display(orders.isna().sum())\n",
    "display(visitors.isna().sum())"
   ]
  },
  {
   "cell_type": "code",
   "execution_count": 7,
   "metadata": {},
   "outputs": [],
   "source": [
    "data = data.rename(columns={'Hypothesis':'hypothesis', 'Reach':'reach', 'Impact':'impact', 'Confidence':'confidence', 'Efforts':'efforts'})"
   ]
  },
  {
   "cell_type": "code",
   "execution_count": 8,
   "metadata": {},
   "outputs": [
    {
     "data": {
      "text/plain": [
       "'Количество групп в А/Б тесте'"
      ]
     },
     "metadata": {},
     "output_type": "display_data"
    },
    {
     "data": {
      "text/plain": [
       "A    31\n",
       "B    31\n",
       "Name: group, dtype: int64"
      ]
     },
     "metadata": {},
     "output_type": "display_data"
    },
    {
     "data": {
      "text/plain": [
       "'Дата начала теста'"
      ]
     },
     "metadata": {},
     "output_type": "display_data"
    },
    {
     "data": {
      "text/plain": [
       "datetime.date(2019, 8, 1)"
      ]
     },
     "metadata": {},
     "output_type": "display_data"
    },
    {
     "data": {
      "text/plain": [
       "'Дата окончания теста'"
      ]
     },
     "metadata": {},
     "output_type": "display_data"
    },
    {
     "data": {
      "text/plain": [
       "datetime.date(2019, 8, 31)"
      ]
     },
     "metadata": {},
     "output_type": "display_data"
    }
   ],
   "source": [
    "display('Количество групп в А/Б тесте', visitors['group'].value_counts())\n",
    "display('Дата начала теста', min(visitors['date']))\n",
    "display('Дата окончания теста', max(visitors['date']))"
   ]
  },
  {
   "cell_type": "code",
   "execution_count": 9,
   "metadata": {},
   "outputs": [
    {
     "data": {
      "text/plain": [
       "'Распределение количества пользователей по группам'"
      ]
     },
     "metadata": {},
     "output_type": "display_data"
    },
    {
     "data": {
      "text/html": [
       "<div>\n",
       "<style scoped>\n",
       "    .dataframe tbody tr th:only-of-type {\n",
       "        vertical-align: middle;\n",
       "    }\n",
       "\n",
       "    .dataframe tbody tr th {\n",
       "        vertical-align: top;\n",
       "    }\n",
       "\n",
       "    .dataframe thead th {\n",
       "        text-align: right;\n",
       "    }\n",
       "</style>\n",
       "<table border=\"1\" class=\"dataframe\">\n",
       "  <thead>\n",
       "    <tr style=\"text-align: right;\">\n",
       "      <th></th>\n",
       "      <th>group</th>\n",
       "      <th>visitors</th>\n",
       "    </tr>\n",
       "  </thead>\n",
       "  <tbody>\n",
       "    <tr>\n",
       "      <th>0</th>\n",
       "      <td>A</td>\n",
       "      <td>18736</td>\n",
       "    </tr>\n",
       "    <tr>\n",
       "      <th>1</th>\n",
       "      <td>B</td>\n",
       "      <td>18916</td>\n",
       "    </tr>\n",
       "  </tbody>\n",
       "</table>\n",
       "</div>"
      ],
      "text/plain": [
       "  group  visitors\n",
       "0     A     18736\n",
       "1     B     18916"
      ]
     },
     "metadata": {},
     "output_type": "display_data"
    }
   ],
   "source": [
    "visitors_new = visitors.groupby('group', as_index=False).agg({'visitors':'sum'})\n",
    "display('Распределение количества пользователей по группам', visitors_new)"
   ]
  },
  {
   "cell_type": "code",
   "execution_count": 10,
   "metadata": {},
   "outputs": [
    {
     "data": {
      "text/plain": [
       "'Пользователи из группы А присутствующие в группе Б'"
      ]
     },
     "metadata": {},
     "output_type": "display_data"
    },
    {
     "data": {
      "text/plain": [
       "[4069496402,\n",
       " 199603092,\n",
       " 3803269165,\n",
       " 2378935119,\n",
       " 237748145,\n",
       " 4256040402,\n",
       " 2038680547,\n",
       " 1738359350,\n",
       " 2458001652,\n",
       " 3891541246,\n",
       " 2716752286,\n",
       " 3656415546,\n",
       " 2686716486,\n",
       " 2954449915,\n",
       " 2927087541,\n",
       " 3234906277,\n",
       " 457167155,\n",
       " 2579882178,\n",
       " 3957174400,\n",
       " 1648269707,\n",
       " 2780786433,\n",
       " 818047933,\n",
       " 2044997962,\n",
       " 1959144690,\n",
       " 3202540741,\n",
       " 1333886533,\n",
       " 351125977,\n",
       " 3951559397,\n",
       " 393266494,\n",
       " 3984495233,\n",
       " 4120364173,\n",
       " 4266935830,\n",
       " 1230306981,\n",
       " 1294878855,\n",
       " 1614305549,\n",
       " 8300375,\n",
       " 477780734,\n",
       " 1668030113,\n",
       " 3717692402,\n",
       " 3766097110,\n",
       " 3941795274,\n",
       " 471551937,\n",
       " 1316129916,\n",
       " 1801183820,\n",
       " 1602967004,\n",
       " 2587333274,\n",
       " 2600415354,\n",
       " 232979603,\n",
       " 3972127743,\n",
       " 1404934699,\n",
       " 276558944,\n",
       " 3062433592,\n",
       " 2654030115,\n",
       " 3963646447,\n",
       " 4186807279,\n",
       " 2712142231,\n",
       " 2949041841,\n",
       " 963407295]"
      ]
     },
     "metadata": {},
     "output_type": "display_data"
    }
   ],
   "source": [
    "visitorsA=orders.query('group==\"A\"')\n",
    "visitorsA = visitorsA['visitorId']\n",
    "visitorsA = visitorsA.unique()\n",
    "\n",
    "visitorsB=orders.query('group==\"B\"')\n",
    "visitorsB = visitorsB['visitorId']\n",
    "visitorsB = visitorsB.unique()\n",
    "\n",
    "unique_visitors = []\n",
    "\n",
    "for index in visitorsA:\n",
    "    if index in visitorsB:\n",
    "        unique_visitors.append(index)\n",
    "\n",
    "        \n",
    "display('Пользователи из группы А присутствующие в группе Б',unique_visitors)"
   ]
  },
  {
   "cell_type": "markdown",
   "metadata": {},
   "source": [
    "Вывод: в первом разделе провела предварительное изучение данных. Данные проверены на дубликаты и пропуски. Дубликаты и пропуски отсутствуют. Столбцы с датами приведены к формату дат. Привела названия колонок к нижнему регистру. Количество групп в А/Б тесте для группы А и Б равное - 31. Дата начала теста 01/08/2019, дата окончания теста 31/08/2019. Распределение количества пользователей по группам: группа А - 18736, Б-18916. Всего 58 уникальных пользователей встречается и в группе А, и в группе Б. Решила оставить, чтобы не потерять уникальные транзакции и суммы покупок."
   ]
  },
  {
   "cell_type": "markdown",
   "metadata": {},
   "source": [
    "### 2. Приоритизация гипотез\n",
    "\n",
    "Примените фреймворк ICE для приоритизации гипотез. Отсортируйте их по убыванию приоритета.\n",
    "\n",
    "Примените фреймворк RICE для приоритизации гипотез. Отсортируйте их по убыванию приоритета.\n",
    "\n",
    "Укажите, как изменилась приоритизация гипотез при применении RICE вместо ICE. Объясните, почему так произошло."
   ]
  },
  {
   "cell_type": "code",
   "execution_count": 11,
   "metadata": {},
   "outputs": [
    {
     "data": {
      "text/html": [
       "<div>\n",
       "<style scoped>\n",
       "    .dataframe tbody tr th:only-of-type {\n",
       "        vertical-align: middle;\n",
       "    }\n",
       "\n",
       "    .dataframe tbody tr th {\n",
       "        vertical-align: top;\n",
       "    }\n",
       "\n",
       "    .dataframe thead th {\n",
       "        text-align: right;\n",
       "    }\n",
       "</style>\n",
       "<table border=\"1\" class=\"dataframe\">\n",
       "  <thead>\n",
       "    <tr style=\"text-align: right;\">\n",
       "      <th></th>\n",
       "      <th>hypothesis</th>\n",
       "      <th>reach</th>\n",
       "      <th>impact</th>\n",
       "      <th>confidence</th>\n",
       "      <th>efforts</th>\n",
       "      <th>ice</th>\n",
       "    </tr>\n",
       "  </thead>\n",
       "  <tbody>\n",
       "    <tr>\n",
       "      <th>8</th>\n",
       "      <td>Запустить акцию, дающую скидку на товар в день...</td>\n",
       "      <td>1</td>\n",
       "      <td>9</td>\n",
       "      <td>9</td>\n",
       "      <td>5</td>\n",
       "      <td>16.200000</td>\n",
       "    </tr>\n",
       "    <tr>\n",
       "      <th>0</th>\n",
       "      <td>Добавить два новых канала привлечения трафика,...</td>\n",
       "      <td>3</td>\n",
       "      <td>10</td>\n",
       "      <td>8</td>\n",
       "      <td>6</td>\n",
       "      <td>13.333333</td>\n",
       "    </tr>\n",
       "    <tr>\n",
       "      <th>7</th>\n",
       "      <td>Добавить форму подписки на все основные страни...</td>\n",
       "      <td>10</td>\n",
       "      <td>7</td>\n",
       "      <td>8</td>\n",
       "      <td>5</td>\n",
       "      <td>11.200000</td>\n",
       "    </tr>\n",
       "    <tr>\n",
       "      <th>6</th>\n",
       "      <td>Показать на главной странице баннеры с актуаль...</td>\n",
       "      <td>5</td>\n",
       "      <td>3</td>\n",
       "      <td>8</td>\n",
       "      <td>3</td>\n",
       "      <td>8.000000</td>\n",
       "    </tr>\n",
       "    <tr>\n",
       "      <th>2</th>\n",
       "      <td>Добавить блоки рекомендаций товаров на сайт ин...</td>\n",
       "      <td>8</td>\n",
       "      <td>3</td>\n",
       "      <td>7</td>\n",
       "      <td>3</td>\n",
       "      <td>7.000000</td>\n",
       "    </tr>\n",
       "    <tr>\n",
       "      <th>1</th>\n",
       "      <td>Запустить собственную службу доставки, что сок...</td>\n",
       "      <td>2</td>\n",
       "      <td>5</td>\n",
       "      <td>4</td>\n",
       "      <td>10</td>\n",
       "      <td>2.000000</td>\n",
       "    </tr>\n",
       "    <tr>\n",
       "      <th>5</th>\n",
       "      <td>Добавить страницу отзывов клиентов о магазине,...</td>\n",
       "      <td>3</td>\n",
       "      <td>2</td>\n",
       "      <td>2</td>\n",
       "      <td>3</td>\n",
       "      <td>1.333333</td>\n",
       "    </tr>\n",
       "    <tr>\n",
       "      <th>3</th>\n",
       "      <td>Изменить структура категорий, что увеличит кон...</td>\n",
       "      <td>8</td>\n",
       "      <td>3</td>\n",
       "      <td>3</td>\n",
       "      <td>8</td>\n",
       "      <td>1.125000</td>\n",
       "    </tr>\n",
       "    <tr>\n",
       "      <th>4</th>\n",
       "      <td>Изменить цвет фона главной страницы, чтобы уве...</td>\n",
       "      <td>3</td>\n",
       "      <td>1</td>\n",
       "      <td>1</td>\n",
       "      <td>1</td>\n",
       "      <td>1.000000</td>\n",
       "    </tr>\n",
       "  </tbody>\n",
       "</table>\n",
       "</div>"
      ],
      "text/plain": [
       "                                          hypothesis  reach  impact  \\\n",
       "8  Запустить акцию, дающую скидку на товар в день...      1       9   \n",
       "0  Добавить два новых канала привлечения трафика,...      3      10   \n",
       "7  Добавить форму подписки на все основные страни...     10       7   \n",
       "6  Показать на главной странице баннеры с актуаль...      5       3   \n",
       "2  Добавить блоки рекомендаций товаров на сайт ин...      8       3   \n",
       "1  Запустить собственную службу доставки, что сок...      2       5   \n",
       "5  Добавить страницу отзывов клиентов о магазине,...      3       2   \n",
       "3  Изменить структура категорий, что увеличит кон...      8       3   \n",
       "4  Изменить цвет фона главной страницы, чтобы уве...      3       1   \n",
       "\n",
       "   confidence  efforts        ice  \n",
       "8           9        5  16.200000  \n",
       "0           8        6  13.333333  \n",
       "7           8        5  11.200000  \n",
       "6           8        3   8.000000  \n",
       "2           7        3   7.000000  \n",
       "1           4       10   2.000000  \n",
       "5           2        3   1.333333  \n",
       "3           3        8   1.125000  \n",
       "4           1        1   1.000000  "
      ]
     },
     "metadata": {},
     "output_type": "display_data"
    }
   ],
   "source": [
    "data['ice'] = ((data['impact']*data['confidence'])/data['efforts'])\n",
    "display(data.sort_values(by='ice', ascending = False))"
   ]
  },
  {
   "cell_type": "code",
   "execution_count": 12,
   "metadata": {},
   "outputs": [
    {
     "data": {
      "text/html": [
       "<div>\n",
       "<style scoped>\n",
       "    .dataframe tbody tr th:only-of-type {\n",
       "        vertical-align: middle;\n",
       "    }\n",
       "\n",
       "    .dataframe tbody tr th {\n",
       "        vertical-align: top;\n",
       "    }\n",
       "\n",
       "    .dataframe thead th {\n",
       "        text-align: right;\n",
       "    }\n",
       "</style>\n",
       "<table border=\"1\" class=\"dataframe\">\n",
       "  <thead>\n",
       "    <tr style=\"text-align: right;\">\n",
       "      <th></th>\n",
       "      <th>hypothesis</th>\n",
       "      <th>reach</th>\n",
       "      <th>impact</th>\n",
       "      <th>confidence</th>\n",
       "      <th>efforts</th>\n",
       "      <th>ice</th>\n",
       "      <th>rice</th>\n",
       "    </tr>\n",
       "  </thead>\n",
       "  <tbody>\n",
       "    <tr>\n",
       "      <th>7</th>\n",
       "      <td>Добавить форму подписки на все основные страни...</td>\n",
       "      <td>10</td>\n",
       "      <td>7</td>\n",
       "      <td>8</td>\n",
       "      <td>5</td>\n",
       "      <td>11.200000</td>\n",
       "      <td>112.0</td>\n",
       "    </tr>\n",
       "    <tr>\n",
       "      <th>2</th>\n",
       "      <td>Добавить блоки рекомендаций товаров на сайт ин...</td>\n",
       "      <td>8</td>\n",
       "      <td>3</td>\n",
       "      <td>7</td>\n",
       "      <td>3</td>\n",
       "      <td>7.000000</td>\n",
       "      <td>56.0</td>\n",
       "    </tr>\n",
       "    <tr>\n",
       "      <th>0</th>\n",
       "      <td>Добавить два новых канала привлечения трафика,...</td>\n",
       "      <td>3</td>\n",
       "      <td>10</td>\n",
       "      <td>8</td>\n",
       "      <td>6</td>\n",
       "      <td>13.333333</td>\n",
       "      <td>40.0</td>\n",
       "    </tr>\n",
       "    <tr>\n",
       "      <th>6</th>\n",
       "      <td>Показать на главной странице баннеры с актуаль...</td>\n",
       "      <td>5</td>\n",
       "      <td>3</td>\n",
       "      <td>8</td>\n",
       "      <td>3</td>\n",
       "      <td>8.000000</td>\n",
       "      <td>40.0</td>\n",
       "    </tr>\n",
       "    <tr>\n",
       "      <th>8</th>\n",
       "      <td>Запустить акцию, дающую скидку на товар в день...</td>\n",
       "      <td>1</td>\n",
       "      <td>9</td>\n",
       "      <td>9</td>\n",
       "      <td>5</td>\n",
       "      <td>16.200000</td>\n",
       "      <td>16.2</td>\n",
       "    </tr>\n",
       "    <tr>\n",
       "      <th>3</th>\n",
       "      <td>Изменить структура категорий, что увеличит кон...</td>\n",
       "      <td>8</td>\n",
       "      <td>3</td>\n",
       "      <td>3</td>\n",
       "      <td>8</td>\n",
       "      <td>1.125000</td>\n",
       "      <td>9.0</td>\n",
       "    </tr>\n",
       "    <tr>\n",
       "      <th>1</th>\n",
       "      <td>Запустить собственную службу доставки, что сок...</td>\n",
       "      <td>2</td>\n",
       "      <td>5</td>\n",
       "      <td>4</td>\n",
       "      <td>10</td>\n",
       "      <td>2.000000</td>\n",
       "      <td>4.0</td>\n",
       "    </tr>\n",
       "    <tr>\n",
       "      <th>5</th>\n",
       "      <td>Добавить страницу отзывов клиентов о магазине,...</td>\n",
       "      <td>3</td>\n",
       "      <td>2</td>\n",
       "      <td>2</td>\n",
       "      <td>3</td>\n",
       "      <td>1.333333</td>\n",
       "      <td>4.0</td>\n",
       "    </tr>\n",
       "    <tr>\n",
       "      <th>4</th>\n",
       "      <td>Изменить цвет фона главной страницы, чтобы уве...</td>\n",
       "      <td>3</td>\n",
       "      <td>1</td>\n",
       "      <td>1</td>\n",
       "      <td>1</td>\n",
       "      <td>1.000000</td>\n",
       "      <td>3.0</td>\n",
       "    </tr>\n",
       "  </tbody>\n",
       "</table>\n",
       "</div>"
      ],
      "text/plain": [
       "                                          hypothesis  reach  impact  \\\n",
       "7  Добавить форму подписки на все основные страни...     10       7   \n",
       "2  Добавить блоки рекомендаций товаров на сайт ин...      8       3   \n",
       "0  Добавить два новых канала привлечения трафика,...      3      10   \n",
       "6  Показать на главной странице баннеры с актуаль...      5       3   \n",
       "8  Запустить акцию, дающую скидку на товар в день...      1       9   \n",
       "3  Изменить структура категорий, что увеличит кон...      8       3   \n",
       "1  Запустить собственную службу доставки, что сок...      2       5   \n",
       "5  Добавить страницу отзывов клиентов о магазине,...      3       2   \n",
       "4  Изменить цвет фона главной страницы, чтобы уве...      3       1   \n",
       "\n",
       "   confidence  efforts        ice   rice  \n",
       "7           8        5  11.200000  112.0  \n",
       "2           7        3   7.000000   56.0  \n",
       "0           8        6  13.333333   40.0  \n",
       "6           8        3   8.000000   40.0  \n",
       "8           9        5  16.200000   16.2  \n",
       "3           3        8   1.125000    9.0  \n",
       "1           4       10   2.000000    4.0  \n",
       "5           2        3   1.333333    4.0  \n",
       "4           1        1   1.000000    3.0  "
      ]
     },
     "metadata": {},
     "output_type": "display_data"
    }
   ],
   "source": [
    "data['rice'] = (data['reach']*data['impact']*data['confidence'])/data['efforts']\n",
    "display(data.sort_values(by='rice', ascending=False))"
   ]
  },
  {
   "cell_type": "markdown",
   "metadata": {},
   "source": [
    "Вывод: \n",
    "\n",
    "При применении метода ICЕ в приоритете были пункты:\n",
    "8\tЗапустить акцию, дающую скидку на товар в день..\n",
    "0\tДобавить два новых канала привлечения трафика..\n",
    "7\tДобавить форму подписки на все основные страницы..\n",
    "\n",
    "При применении метода RICE приоритетными стали пункты:\n",
    "\n",
    "7\tДобавить форму подписки на все основные страницы..\n",
    "2\tДобавить блоки рекомендаций товаров на сайт ин..\n",
    "0\tДобавить два новых канала привлечения трафика..\n",
    "6\tПоказать на главной странице баннеры с актуаль..\n",
    "\n",
    "Приоритеты пунктов изменились в связи с участием нового компонента Reach, который отвечает за влияние на показатель по пользователям(количество пользователей, которых затронет изменение)"
   ]
  },
  {
   "cell_type": "markdown",
   "metadata": {},
   "source": [
    "### 3. Анализ A/B-теста\n",
    "\n",
    "Проанализируйте A/B-тест:\n",
    "\n",
    "1.Постройте график кумулятивной выручки по группам. Сделайте выводы и предположения."
   ]
  },
  {
   "cell_type": "code",
   "execution_count": 13,
   "metadata": {},
   "outputs": [
    {
     "data": {
      "text/html": [
       "<div>\n",
       "<style scoped>\n",
       "    .dataframe tbody tr th:only-of-type {\n",
       "        vertical-align: middle;\n",
       "    }\n",
       "\n",
       "    .dataframe tbody tr th {\n",
       "        vertical-align: top;\n",
       "    }\n",
       "\n",
       "    .dataframe thead th {\n",
       "        text-align: right;\n",
       "    }\n",
       "</style>\n",
       "<table border=\"1\" class=\"dataframe\">\n",
       "  <thead>\n",
       "    <tr style=\"text-align: right;\">\n",
       "      <th></th>\n",
       "      <th>date</th>\n",
       "      <th>group</th>\n",
       "      <th>orders</th>\n",
       "      <th>byers</th>\n",
       "      <th>revenue</th>\n",
       "      <th>visitors</th>\n",
       "    </tr>\n",
       "  </thead>\n",
       "  <tbody>\n",
       "    <tr>\n",
       "      <th>0</th>\n",
       "      <td>2019-08-01</td>\n",
       "      <td>A</td>\n",
       "      <td>24.0</td>\n",
       "      <td>20.0</td>\n",
       "      <td>148579.0</td>\n",
       "      <td>719.0</td>\n",
       "    </tr>\n",
       "    <tr>\n",
       "      <th>1</th>\n",
       "      <td>2019-08-01</td>\n",
       "      <td>B</td>\n",
       "      <td>21.0</td>\n",
       "      <td>20.0</td>\n",
       "      <td>101217.0</td>\n",
       "      <td>713.0</td>\n",
       "    </tr>\n",
       "    <tr>\n",
       "      <th>2</th>\n",
       "      <td>2019-08-02</td>\n",
       "      <td>A</td>\n",
       "      <td>44.0</td>\n",
       "      <td>38.0</td>\n",
       "      <td>242401.0</td>\n",
       "      <td>1338.0</td>\n",
       "    </tr>\n",
       "    <tr>\n",
       "      <th>3</th>\n",
       "      <td>2019-08-02</td>\n",
       "      <td>B</td>\n",
       "      <td>45.0</td>\n",
       "      <td>43.0</td>\n",
       "      <td>266748.0</td>\n",
       "      <td>1294.0</td>\n",
       "    </tr>\n",
       "    <tr>\n",
       "      <th>4</th>\n",
       "      <td>2019-08-03</td>\n",
       "      <td>A</td>\n",
       "      <td>68.0</td>\n",
       "      <td>62.0</td>\n",
       "      <td>354874.0</td>\n",
       "      <td>1845.0</td>\n",
       "    </tr>\n",
       "  </tbody>\n",
       "</table>\n",
       "</div>"
      ],
      "text/plain": [
       "         date group  orders  byers   revenue  visitors\n",
       "0  2019-08-01     A    24.0   20.0  148579.0     719.0\n",
       "1  2019-08-01     B    21.0   20.0  101217.0     713.0\n",
       "2  2019-08-02     A    44.0   38.0  242401.0    1338.0\n",
       "3  2019-08-02     B    45.0   43.0  266748.0    1294.0\n",
       "4  2019-08-03     A    68.0   62.0  354874.0    1845.0"
      ]
     },
     "metadata": {},
     "output_type": "display_data"
    }
   ],
   "source": [
    "datesGroups = orders[['date','group']].drop_duplicates()\n",
    "ordersAggregated = datesGroups.apply(lambda x: orders[np.logical_and(orders['date']<x['date'], orders['group']==x['group'])].agg({'date':'max', 'group':'max', 'transactionId':'nunique', 'visitorId':'nunique', 'revenue':'sum'}), axis=1).sort_values(by=['date', 'group'])\n",
    "\n",
    "visitorsAggregated = datesGroups.apply(lambda x: visitors[np.logical_and(visitors['date']<x['date'], visitors['group']==x['group'])].agg({'date':'max', 'group':'max', 'visitors':'sum'}), axis=1).sort_values(by=['date', 'group'])\n",
    "\n",
    "cumulativeData = ordersAggregated.merge(visitorsAggregated, left_on=['date', 'group'], right_on=['date', 'group'])\n",
    "cumulativeData.columns = ['date', 'group','orders', 'byers', 'revenue', 'visitors']\n",
    "display(cumulativeData.head(5))"
   ]
  },
  {
   "cell_type": "code",
   "execution_count": 14,
   "metadata": {},
   "outputs": [
    {
     "data": {
      "text/plain": [
       "<matplotlib.legend.Legend at 0x7fdf85c40760>"
      ]
     },
     "execution_count": 14,
     "metadata": {},
     "output_type": "execute_result"
    },
    {
     "data": {
      "image/png": "[encoded data removed]",
      "text/plain": [
       "<Figure size 1440x360 with 1 Axes>"
      ]
     },
     "metadata": {
      "needs_background": "light"
     },
     "output_type": "display_data"
    }
   ],
   "source": [
    "cumulativeRevenueA = cumulativeData[cumulativeData['group']=='A'][['date', 'revenue','orders']]\n",
    "cumulativeRevenueB = cumulativeData[cumulativeData['group']=='B'][['date', 'revenue','orders']]\n",
    "\n",
    "plt.figure(figsize=(20,5))\n",
    "plt.title('График кумулятивной выручки по группам')\n",
    "plt.xlabel('Даты', fontsize=13)\n",
    "plt.ylabel('Выручка', fontsize=13)\n",
    "plt.plot(cumulativeRevenueA['date'],cumulativeRevenueA['revenue'], label='A')\n",
    "plt.plot(cumulativeRevenueB['date'],cumulativeRevenueB['revenue'], label='B')\n",
    "\n",
    "\n",
    "plt.legend()"
   ]
  },
  {
   "cell_type": "markdown",
   "metadata": {},
   "source": [
    "Вывод по п.1: Судя по графикам, выручка растет в течение всего теста. Кривая группы B по сравнению с группой А в период c 17/08/2019 по 21/08/2019 резко выросла. Возможно это связано с увеличением числа заказов."
   ]
  },
  {
   "cell_type": "markdown",
   "metadata": {},
   "source": [
    "2.Постройте график кумулятивного среднего чека по группам. Сделайте выводы и предположения."
   ]
  },
  {
   "cell_type": "code",
   "execution_count": 15,
   "metadata": {},
   "outputs": [
    {
     "data": {
      "text/plain": [
       "<matplotlib.legend.Legend at 0x7fdf7d37d6a0>"
      ]
     },
     "execution_count": 15,
     "metadata": {},
     "output_type": "execute_result"
    },
    {
     "data": {
      "image/png": "[encoded data removed]",
      "text/plain": [
       "<Figure size 1440x360 with 1 Axes>"
      ]
     },
     "metadata": {
      "needs_background": "light"
     },
     "output_type": "display_data"
    }
   ],
   "source": [
    "plt.figure(figsize=(20,5))\n",
    "plt.title('График кумулятивного среднего чека по группам')\n",
    "plt.xlabel('Даты', fontsize=13)\n",
    "plt.ylabel('Средний чек', fontsize=13)\n",
    "plt.plot(cumulativeRevenueA['date'], cumulativeRevenueA['revenue']/cumulativeRevenueA['orders'], label ='A')\n",
    "plt.plot(cumulativeRevenueB['date'], cumulativeRevenueB['revenue']/cumulativeRevenueB['orders'], label = 'B')\n",
    "plt.legend()"
   ]
  },
  {
   "cell_type": "markdown",
   "metadata": {},
   "source": [
    "Вывод по п.2: средний чек становится равномерным ближе к концу теста. По группе А равномерность устанавливается с 13/08/2019, а для группы В с 18/08/2019. По группе В можно отметить резкий всплеск на графике - возможно это были крупные заказы."
   ]
  },
  {
   "cell_type": "markdown",
   "metadata": {},
   "source": [
    "3. Постройте график относительного изменения кумулятивного среднего чека группы B к группе A. Сделайте выводы и предположения."
   ]
  },
  {
   "cell_type": "code",
   "execution_count": 16,
   "metadata": {},
   "outputs": [
    {
     "data": {
      "text/plain": [
       "<matplotlib.lines.Line2D at 0x7fdf7d8623d0>"
      ]
     },
     "execution_count": 16,
     "metadata": {},
     "output_type": "execute_result"
    },
    {
     "data": {
      "image/png": "[encoded data removed]",
      "text/plain": [
       "<Figure size 1440x360 with 1 Axes>"
      ]
     },
     "metadata": {
      "needs_background": "light"
     },
     "output_type": "display_data"
    }
   ],
   "source": [
    "mergedCumulativeRevenue = cumulativeRevenueA.merge(cumulativeRevenueB, left_on = 'date', right_on = 'date', how = 'left', suffixes = ['A','B'])\n",
    "\n",
    "plt.figure(figsize=(20,5))\n",
    "plt.title('График относительного изменения кумулятивного среднего чека группы B к группе A')\n",
    "plt.xlabel('Даты', fontsize=13)\n",
    "plt.ylabel('Средний чек', fontsize=13)\n",
    "plt.plot(mergedCumulativeRevenue['date'], (mergedCumulativeRevenue['revenueB']/mergedCumulativeRevenue['ordersB'])/(mergedCumulativeRevenue['revenueA']/mergedCumulativeRevenue['ordersA'])-1)\n",
    "\n",
    "plt.axhline(y=0, color='black', linestyle='--')"
   ]
  },
  {
   "cell_type": "markdown",
   "metadata": {},
   "source": [
    "Вывод по п.3: график различия между сегментами в нескольких точках скачет. Скорее всего причиной этому послужили крупные заказы."
   ]
  },
  {
   "cell_type": "markdown",
   "metadata": {},
   "source": [
    "4. Постройте график кумулятивного среднего количества заказов на посетителя по группам. Сделайте выводы и предположения."
   ]
  },
  {
   "cell_type": "code",
   "execution_count": 17,
   "metadata": {},
   "outputs": [
    {
     "data": {
      "text/plain": [
       "<matplotlib.legend.Legend at 0x7fdf7d7ecfd0>"
      ]
     },
     "execution_count": 17,
     "metadata": {},
     "output_type": "execute_result"
    },
    {
     "data": {
      "image/png": "[encoded data removed]",
      "text/plain": [
       "<Figure size 1440x360 with 1 Axes>"
      ]
     },
     "metadata": {
      "needs_background": "light"
     },
     "output_type": "display_data"
    }
   ],
   "source": [
    "cumulativeOrdersA = cumulativeData[cumulativeData['group']=='A'][['date', 'visitors','orders']]\n",
    "cumulativeOrdersB = cumulativeData[cumulativeData['group']=='B'][['date', 'visitors','orders']]\n",
    "\n",
    "plt.figure(figsize=(20,5))\n",
    "plt.title('График кумулятивного среднего количества заказов на посетителя по группам')\n",
    "plt.xlabel('Даты', fontsize=13)\n",
    "plt.ylabel('Количество заказов на посетителя', fontsize=13)\n",
    "plt.plot(cumulativeOrdersA['date'], cumulativeOrdersA['orders']/cumulativeOrdersA['visitors'], label ='A')\n",
    "plt.plot(cumulativeOrdersB['date'], cumulativeOrdersB['orders']/cumulativeOrdersB['visitors'], label = 'B')\n",
    "plt.legend()"
   ]
  },
  {
   "cell_type": "markdown",
   "metadata": {},
   "source": [
    "Вывод по п.4: среднее количество заказов на поситителя по группе А значительно ниже количества заказов по группе В. С 09/08/2019 обе кривые находятся в стабильном состоянии. Различие между группами удерживается в течение стабильного периода примерно на 0,007. В период с 01/08/2019 по 05/08/2019 был резкий всплесе на графике по группе А, по группе В с 01/08/2019 по 09/08/2019. Предполагаю был резкий рост и спад по количеству заказов на одного покупателя, но после 09/08/2019 количество заказов на покупателя стабилизировалось."
   ]
  },
  {
   "cell_type": "markdown",
   "metadata": {},
   "source": [
    "5. Постройте график относительного изменения кумулятивного среднего количества заказов на посетителя группы B к группе A. Сделайте выводы и предположения."
   ]
  },
  {
   "cell_type": "code",
   "execution_count": 18,
   "metadata": {},
   "outputs": [
    {
     "data": {
      "text/plain": [
       "<matplotlib.lines.Line2D at 0x7fdf7d7bd700>"
      ]
     },
     "execution_count": 18,
     "metadata": {},
     "output_type": "execute_result"
    },
    {
     "data": {
      "image/png": "[encoded data removed]",
      "text/plain": [
       "<Figure size 1440x360 with 1 Axes>"
      ]
     },
     "metadata": {
      "needs_background": "light"
     },
     "output_type": "display_data"
    }
   ],
   "source": [
    "mergedCumulativeOrders = cumulativeOrdersA.merge(cumulativeOrdersB,left_on = 'date', right_on = 'date', how = 'left', suffixes = ['A','B'])\n",
    "\n",
    "plt.figure(figsize=(20,5))\n",
    "plt.title('График относительного изменения кумулятивного среднего количества заказов на посетителя группы B к группе A')\n",
    "plt.xlabel('Даты', fontsize=13)\n",
    "plt.ylabel('Количество заказов на посетителя', fontsize=13)\n",
    "plt.plot(mergedCumulativeOrders['date'], (mergedCumulativeOrders['ordersB']/mergedCumulativeOrders['visitorsB'])/(mergedCumulativeOrders['ordersA']/mergedCumulativeOrders['visitorsA'])-1)\n",
    "plt.axhline(y=0, color='black', linestyle='--')"
   ]
  },
  {
   "cell_type": "markdown",
   "metadata": {},
   "source": [
    "Вывод по п.5: график изменения кумулятивного среднего количества заказов на посетителя группы В к А скачет в нескольких местах, возможно на такое поведение на графике связано с количесвом заказов в начале периода тестирования"
   ]
  },
  {
   "cell_type": "markdown",
   "metadata": {},
   "source": [
    "6. Постройте точечный график количества заказов по пользователям. Сделайте выводы и предположения."
   ]
  },
  {
   "cell_type": "code",
   "execution_count": 19,
   "metadata": {},
   "outputs": [
    {
     "data": {
      "text/plain": [
       "<matplotlib.collections.PathCollection at 0x7fdf7d74b790>"
      ]
     },
     "execution_count": 19,
     "metadata": {},
     "output_type": "execute_result"
    },
    {
     "data": {
      "image/png": "[encoded data removed]",
      "text/plain": [
       "<Figure size 1440x360 with 1 Axes>"
      ]
     },
     "metadata": {
      "needs_background": "light"
     },
     "output_type": "display_data"
    }
   ],
   "source": [
    "ordersByUsers = orders.groupby('visitorId', as_index = False).agg({'transactionId':'nunique'})\n",
    "ordersByUsers.columns = ['visitorId', 'orders']\n",
    "\n",
    "x_values = pd.Series(range(0,len(ordersByUsers)))\n",
    "plt.figure(figsize=(20,5))\n",
    "plt.title('Точечный график количества заказов по пользователям')\n",
    "plt.xlabel('Заказы', fontsize=13)\n",
    "plt.ylabel('Количество заказов по пользователям', fontsize=13)\n",
    "plt.scatter(x_values, ordersByUsers['orders']) "
   ]
  },
  {
   "cell_type": "markdown",
   "metadata": {},
   "source": [
    "Вывод по п.6: Большая часть пользователей оформляет по 1 заказу. Значительная доля пользователей оформляет от 2-5 заказа за исследуемый период. Есть выбросы по 8-9-10 заказов. Считать их аномалиями или нет не ясно."
   ]
  },
  {
   "cell_type": "markdown",
   "metadata": {},
   "source": [
    "7. Посчитайте 95-й и 99-й перцентили количества заказов на пользователя. Выберите границу для определения аномальных пользователей."
   ]
  },
  {
   "cell_type": "code",
   "execution_count": 20,
   "metadata": {},
   "outputs": [
    {
     "data": {
      "text/plain": [
       "array([2., 4.])"
      ]
     },
     "metadata": {},
     "output_type": "display_data"
    }
   ],
   "source": [
    "display(np.percentile(ordersByUsers['orders'], [95, 99])) "
   ]
  },
  {
   "cell_type": "code",
   "execution_count": 31,
   "metadata": {},
   "outputs": [],
   "source": [
    "order_cnts = int(np.percentile(ordersByUsers['orders'], [95]))"
   ]
  },
  {
   "cell_type": "markdown",
   "metadata": {},
   "source": [
    "Вывод по п.7: не более 5% пользователей оформляют более 2-х заказов. 1% пользователей оформляет более 4 заказов."
   ]
  },
  {
   "cell_type": "markdown",
   "metadata": {},
   "source": [
    "8. Постройте точечный график стоимостей заказов. Сделайте выводы и предположения."
   ]
  },
  {
   "cell_type": "code",
   "execution_count": 21,
   "metadata": {},
   "outputs": [
    {
     "data": {
      "text/plain": [
       "<matplotlib.collections.PathCollection at 0x7fdf7d50b9a0>"
      ]
     },
     "execution_count": 21,
     "metadata": {},
     "output_type": "execute_result"
    },
    {
     "data": {
      "image/png": "[encoded data removed]",
      "text/plain": [
       "<Figure size 1440x432 with 1 Axes>"
      ]
     },
     "metadata": {
      "needs_background": "light"
     },
     "output_type": "display_data"
    }
   ],
   "source": [
    "x_values = pd.Series(range(0,len(orders['revenue'])))\n",
    "plt.figure(figsize=(20,6))\n",
    "plt.title('Точечный график стоимостей заказов')\n",
    "plt.xlabel('Заказы', fontsize=13)\n",
    "plt.ylabel('Стоимость заказов', fontsize=13)\n",
    "plt.scatter(x_values, orders['revenue']) "
   ]
  },
  {
   "cell_type": "markdown",
   "metadata": {},
   "source": [
    "Вывод по п.8: заказов с высокой стоимостью немного, есть пара выбросов, которые составляют менее 1%. Основная часть графика расположена в пределах от 0 до 0,2."
   ]
  },
  {
   "cell_type": "markdown",
   "metadata": {},
   "source": [
    "9.Посчитайте 95-й и 99-й перцентили стоимости заказов. Выберите границу для определения аномальных заказов."
   ]
  },
  {
   "cell_type": "code",
   "execution_count": 22,
   "metadata": {},
   "outputs": [
    {
     "data": {
      "text/plain": [
       "array([28000. , 58233.2])"
      ]
     },
     "metadata": {},
     "output_type": "display_data"
    }
   ],
   "source": [
    "display(np.percentile(orders['revenue'], [95, 99]))"
   ]
  },
  {
   "cell_type": "code",
   "execution_count": 23,
   "metadata": {},
   "outputs": [],
   "source": [
    "order_cost = int(np.percentile(orders['revenue'], [95]))"
   ]
  },
  {
   "cell_type": "markdown",
   "metadata": {},
   "source": [
    "Вывод по п.9: не более 5% заказов имеют стоимость более 28000, не более 1% заказов имеют стоимость более 58233."
   ]
  },
  {
   "cell_type": "markdown",
   "metadata": {},
   "source": [
    "10. Посчитайте статистическую значимость различий в среднем количестве заказов на посетителя между группами по «сырым» данным. Сделайте выводы и предположения."
   ]
  },
  {
   "cell_type": "markdown",
   "metadata": {},
   "source": [
    "Сформулируем гипотезы:\n",
    "\n",
    " Нулевая: различий в среднем количестве заказов между группами нет. \n",
    " \n",
    " Альтернативная: различия в среднем между группами есть."
   ]
  },
  {
   "cell_type": "code",
   "execution_count": 24,
   "metadata": {},
   "outputs": [
    {
     "data": {
      "text/html": [
       "<div>\n",
       "<style scoped>\n",
       "    .dataframe tbody tr th:only-of-type {\n",
       "        vertical-align: middle;\n",
       "    }\n",
       "\n",
       "    .dataframe tbody tr th {\n",
       "        vertical-align: top;\n",
       "    }\n",
       "\n",
       "    .dataframe thead th {\n",
       "        text-align: right;\n",
       "    }\n",
       "</style>\n",
       "<table border=\"1\" class=\"dataframe\">\n",
       "  <thead>\n",
       "    <tr style=\"text-align: right;\">\n",
       "      <th></th>\n",
       "      <th>date</th>\n",
       "      <th>ordersPerDateA</th>\n",
       "      <th>revenuePerDateA</th>\n",
       "      <th>ordersPerDateB</th>\n",
       "      <th>revenuePerDateB</th>\n",
       "      <th>ordersCummulativeA</th>\n",
       "      <th>revenueCummulativeA</th>\n",
       "      <th>ordersCummulativeB</th>\n",
       "      <th>revenueCummulativeB</th>\n",
       "      <th>visitorsPerDateA</th>\n",
       "      <th>visitorsPerDateB</th>\n",
       "      <th>visitorsCummulativeA</th>\n",
       "      <th>visitorsCummulativeB</th>\n",
       "    </tr>\n",
       "  </thead>\n",
       "  <tbody>\n",
       "    <tr>\n",
       "      <th>0</th>\n",
       "      <td>2019-08-01</td>\n",
       "      <td>24</td>\n",
       "      <td>148579</td>\n",
       "      <td>21</td>\n",
       "      <td>101217</td>\n",
       "      <td>24</td>\n",
       "      <td>148579</td>\n",
       "      <td>21</td>\n",
       "      <td>101217</td>\n",
       "      <td>719</td>\n",
       "      <td>713</td>\n",
       "      <td>719</td>\n",
       "      <td>713</td>\n",
       "    </tr>\n",
       "    <tr>\n",
       "      <th>1</th>\n",
       "      <td>2019-08-02</td>\n",
       "      <td>20</td>\n",
       "      <td>93822</td>\n",
       "      <td>24</td>\n",
       "      <td>165531</td>\n",
       "      <td>44</td>\n",
       "      <td>242401</td>\n",
       "      <td>45</td>\n",
       "      <td>266748</td>\n",
       "      <td>619</td>\n",
       "      <td>581</td>\n",
       "      <td>1338</td>\n",
       "      <td>1294</td>\n",
       "    </tr>\n",
       "    <tr>\n",
       "      <th>2</th>\n",
       "      <td>2019-08-03</td>\n",
       "      <td>24</td>\n",
       "      <td>112473</td>\n",
       "      <td>16</td>\n",
       "      <td>114248</td>\n",
       "      <td>68</td>\n",
       "      <td>354874</td>\n",
       "      <td>61</td>\n",
       "      <td>380996</td>\n",
       "      <td>507</td>\n",
       "      <td>509</td>\n",
       "      <td>1845</td>\n",
       "      <td>1803</td>\n",
       "    </tr>\n",
       "    <tr>\n",
       "      <th>3</th>\n",
       "      <td>2019-08-04</td>\n",
       "      <td>16</td>\n",
       "      <td>70825</td>\n",
       "      <td>17</td>\n",
       "      <td>108571</td>\n",
       "      <td>84</td>\n",
       "      <td>425699</td>\n",
       "      <td>78</td>\n",
       "      <td>489567</td>\n",
       "      <td>717</td>\n",
       "      <td>770</td>\n",
       "      <td>2562</td>\n",
       "      <td>2573</td>\n",
       "    </tr>\n",
       "    <tr>\n",
       "      <th>4</th>\n",
       "      <td>2019-08-05</td>\n",
       "      <td>25</td>\n",
       "      <td>124218</td>\n",
       "      <td>23</td>\n",
       "      <td>92428</td>\n",
       "      <td>109</td>\n",
       "      <td>549917</td>\n",
       "      <td>101</td>\n",
       "      <td>581995</td>\n",
       "      <td>756</td>\n",
       "      <td>707</td>\n",
       "      <td>3318</td>\n",
       "      <td>3280</td>\n",
       "    </tr>\n",
       "  </tbody>\n",
       "</table>\n",
       "</div>"
      ],
      "text/plain": [
       "         date  ordersPerDateA  revenuePerDateA  ordersPerDateB  \\\n",
       "0  2019-08-01              24           148579              21   \n",
       "1  2019-08-02              20            93822              24   \n",
       "2  2019-08-03              24           112473              16   \n",
       "3  2019-08-04              16            70825              17   \n",
       "4  2019-08-05              25           124218              23   \n",
       "\n",
       "   revenuePerDateB  ordersCummulativeA  revenueCummulativeA  \\\n",
       "0           101217                  24               148579   \n",
       "1           165531                  44               242401   \n",
       "2           114248                  68               354874   \n",
       "3           108571                  84               425699   \n",
       "4            92428                 109               549917   \n",
       "\n",
       "   ordersCummulativeB  revenueCummulativeB  visitorsPerDateA  \\\n",
       "0                  21               101217               719   \n",
       "1                  45               266748               619   \n",
       "2                  61               380996               507   \n",
       "3                  78               489567               717   \n",
       "4                 101               581995               756   \n",
       "\n",
       "   visitorsPerDateB  visitorsCummulativeA  visitorsCummulativeB  \n",
       "0               713                   719                   713  \n",
       "1               581                  1338                  1294  \n",
       "2               509                  1845                  1803  \n",
       "3               770                  2562                  2573  \n",
       "4               707                  3318                  3280  "
      ]
     },
     "metadata": {},
     "output_type": "display_data"
    }
   ],
   "source": [
    "visitorsADaily = visitors[visitors['group']=='A'][['date', 'visitors']]\n",
    "visitorsADaily.columns = ['date', 'visitorsPerDateA']\n",
    "visitorsACummulative = visitorsADaily.apply(lambda x: visitorsADaily[visitorsADaily['date']<=x['date']].agg({'date':'max','visitorsPerDateA':'sum'}), axis=1)\n",
    "visitorsACummulative.columns=['date', 'visitorsCummulativeA']\n",
    "\n",
    "visitorsBDaily = visitors[visitors['group']=='B'][['date', 'visitors']]\n",
    "visitorsBDaily.columns=['date', 'visitorsPerDateB']\n",
    "visitorsBCummulative = visitorsBDaily.apply(lambda x:visitorsBDaily[visitorsBDaily['date']<=x['date']].agg({'date':'max', 'visitorsPerDateB':'sum'}), axis=1)\n",
    "visitorsBCummulative.columns=['date', 'visitorsCummulativeB']\n",
    "\n",
    "ordersADaily=orders[orders['group']=='A'][['date', 'transactionId', 'visitorId', 'revenue']].groupby('date',as_index=False).agg({'transactionId':pd.Series.nunique, 'revenue':'sum'})\n",
    "ordersADaily.columns = ['date', 'ordersPerDateA', 'revenuePerDateA']\n",
    "\n",
    "ordersACummulative = ordersADaily.apply(lambda x: ordersADaily[ordersADaily['date']<=x['date']].agg({'date':'max', 'ordersPerDateA':'sum', 'revenuePerDateA':'sum'}), axis=1).sort_values(by='date')\n",
    "ordersACummulative.columns=['date','ordersCummulativeA','revenueCummulativeA']\n",
    "\n",
    "ordersBDaily=orders[orders['group']=='B'][['date', 'transactionId', 'visitorId', 'revenue']].groupby('date',as_index=False).agg({'transactionId':pd.Series.nunique, 'revenue':'sum'})\n",
    "ordersBDaily.columns = ['date', 'ordersPerDateB', 'revenuePerDateB']\n",
    "\n",
    "ordersBCummulative = ordersBDaily.apply(lambda x: ordersBDaily[ordersBDaily['date']<=x['date']].agg({'date':'max', 'ordersPerDateB':'sum', 'revenuePerDateB':'sum'}), axis=1).sort_values(by='date')\n",
    "ordersBCummulative.columns=['date','ordersCummulativeB','revenueCummulativeB']\n",
    "\n",
    "mergedVisitorsOrders = (\n",
    "    ordersADaily.merge(\n",
    "        ordersBDaily, left_on='date', right_on='date', how='left'\n",
    "    )\n",
    "    .merge(ordersACummulative, left_on='date', right_on='date', how='left')\n",
    "    .merge(ordersBCummulative, left_on='date', right_on='date', how='left')\n",
    "    .merge(visitorsADaily, left_on='date', right_on='date', how='left')\n",
    "    .merge(visitorsBDaily, left_on='date', right_on='date', how='left')\n",
    "    .merge(visitorsACummulative, left_on='date', right_on='date', how='left')\n",
    "    .merge(visitorsBCummulative, left_on='date', right_on='date', how='left')\n",
    ")\n",
    "display(mergedVisitorsOrders.head(5)) "
   ]
  },
  {
   "cell_type": "code",
   "execution_count": 25,
   "metadata": {},
   "outputs": [
    {
     "name": "stdout",
     "output_type": "stream",
     "text": [
      "p-value: 0.016792355056752608\n",
      "Относительный прирост среднего числа заказов группы B: 0.13807884655320146\n"
     ]
    }
   ],
   "source": [
    "ordersByUsersA = orders[orders['group']=='A'].groupby('visitorId', as_index=False).agg({'transactionId':'nunique'})\n",
    "ordersByUsersA.columns = ['userId', 'orders']\n",
    "\n",
    "ordersByUsersB = orders[orders['group']=='B'].groupby('visitorId', as_index=False).agg({'transactionId':pd.Series.nunique})\n",
    "ordersByUsersB.columns = ['userId', 'orders']\n",
    "\n",
    "pd.Series(0, index=np.arange(mergedVisitorsOrders['visitorsPerDateA'].sum() - len(ordersByUsersA['orders'])), name='orders')\n",
    "\n",
    "\n",
    "[ordersByUsersA['orders'],pd.Series(0, index=np.arange(mergedVisitorsOrders['visitorsPerDateA'].sum() - len(ordersByUsersA['orders'])), name='orders')] \n",
    "\n",
    "\n",
    "sampleA = pd.concat([ordersByUsersA['orders'],pd.Series(0, index=np.arange(mergedVisitorsOrders['visitorsPerDateA'].sum() - len(ordersByUsersA['orders'])), name='orders')],axis=0)\n",
    "sampleB = pd.concat([ordersByUsersB['orders'],pd.Series(0, index=np.arange(mergedVisitorsOrders['visitorsPerDateB'].sum() - len(ordersByUsersB['orders'])), name='orders')],axis=0)\n",
    "\n",
    "print('p-value:',stats.mannwhitneyu(sampleA, sampleB)[1])\n",
    "print('Относительный прирост среднего числа заказов группы B:',sampleB.mean() / sampleA.mean() - 1)"
   ]
  },
  {
   "cell_type": "markdown",
   "metadata": {},
   "source": [
    "Вывод по п.10: Первое число больше 0,05. Нулевую гипотезу, что статистически значимых различий в среднем количестве заказов между группами нет, не отверргаем. Среднее количество заказов второй гораздо выше первой."
   ]
  },
  {
   "cell_type": "markdown",
   "metadata": {},
   "source": [
    "11. Посчитайте статистическую значимость различий в среднем чеке заказа между группами по «сырым» данным. Сделайте выводы и предположения."
   ]
  },
  {
   "cell_type": "markdown",
   "metadata": {},
   "source": [
    "Сформулируем гипотезу:\n",
    "    \n",
    "    Нулевая гипотеза: различий в среднем чеке между группами нет. \n",
    "        \n",
    "    Альтернативная гипотеза: различия в среднем чеке между группами есть. "
   ]
  },
  {
   "cell_type": "code",
   "execution_count": 26,
   "metadata": {},
   "outputs": [
    {
     "name": "stdout",
     "output_type": "stream",
     "text": [
      "p-value: 0.7292909855432458\n",
      "Относительные различия в среднем чеке между группами: 0.2587136699126005\n"
     ]
    }
   ],
   "source": [
    "print('p-value:', stats.mannwhitneyu(orders[orders['group']=='A']['revenue'], orders[orders['group']=='B']['revenue'])[1])\n",
    "print('Относительные различия в среднем чеке между группами:', orders[orders['group']=='B']['revenue'].mean()/orders[orders['group']=='A']['revenue'].mean()-1)"
   ]
  },
  {
   "cell_type": "markdown",
   "metadata": {},
   "source": [
    "Вывод по п.11: Первое число больше 0.05 значит гипотезу о том, что различий в среднем чеке между группами нет, отвергнуть не можем. Средний чек второй группы гораздо ниже."
   ]
  },
  {
   "cell_type": "markdown",
   "metadata": {},
   "source": [
    "12. Посчитайте статистическую значимость различий в среднем количестве заказов на посетителя между группами по «очищенным» данным. Сделайте выводы и предположения."
   ]
  },
  {
   "cell_type": "code",
   "execution_count": 32,
   "metadata": {},
   "outputs": [
    {
     "name": "stdout",
     "output_type": "stream",
     "text": [
      "1099    148427295\n",
      "18      199603092\n",
      "928     204675465\n",
      "23      237748145\n",
      "37      249864742\n",
      "dtype: int64\n",
      "74\n"
     ]
    }
   ],
   "source": [
    "usersWithManyOrders = pd.concat(\n",
    "    [\n",
    "        ordersByUsersA[ordersByUsersA['orders'] > order_cnts]['userId'],\n",
    "        ordersByUsersB[ordersByUsersB['orders'] > order_cnts]['userId'],\n",
    "    ],\n",
    "    axis=0,\n",
    ")\n",
    "usersWithExpensiveOrders = orders[orders['revenue'] > order_cost]['visitorId']\n",
    "abnormalUsers = (\n",
    "    pd.concat([usersWithManyOrders, usersWithExpensiveOrders], axis=0)\n",
    "    .drop_duplicates()\n",
    "    .sort_values()\n",
    ")\n",
    "print(abnormalUsers.head(5))\n",
    "print(abnormalUsers.shape[0]) "
   ]
  },
  {
   "cell_type": "code",
   "execution_count": 28,
   "metadata": {},
   "outputs": [
    {
     "name": "stdout",
     "output_type": "stream",
     "text": [
      "p-value 0.017942888591552505\n",
      "Относительный прирост среднего числа заказов группы B: 0.14846453749198907\n"
     ]
    }
   ],
   "source": [
    "sampleAFiltered = pd.concat([ordersByUsersA[np.logical_not(ordersByUsersA['userId'].isin(abnormalUsers))]['orders'],pd.Series(0,index=np.arange(mergedVisitorsOrders['visitorsPerDateA'].sum() - len(ordersByUsersA['orders'])),name='orders')],axis=0)\n",
    "\n",
    "sampleBFiltered = pd.concat([ordersByUsersB[np.logical_not(ordersByUsersB['userId'].isin(abnormalUsers))]['orders'],pd.Series(0,index=np.arange(mergedVisitorsOrders['visitorsPerDateB'].sum() - len(ordersByUsersB['orders'])),name='orders')],axis=0) \n",
    "\n",
    "print('p-value', stats.mannwhitneyu(sampleAFiltered, sampleBFiltered)[1])\n",
    "print('Относительный прирост среднего числа заказов группы B:', sampleBFiltered.mean()/sampleAFiltered.mean()-1)"
   ]
  },
  {
   "cell_type": "markdown",
   "metadata": {},
   "source": [
    "Вывод по п.12: Данные по среднему количеству заказов незначительно выросли, но в целом не сильно изменились"
   ]
  },
  {
   "cell_type": "markdown",
   "metadata": {},
   "source": [
    "13. Посчитайте статистическую значимость различий в среднем чеке заказа между группами по «очищенным» данным. Сделайте выводы и предположения."
   ]
  },
  {
   "cell_type": "code",
   "execution_count": 29,
   "metadata": {},
   "outputs": [
    {
     "name": "stdout",
     "output_type": "stream",
     "text": [
      "p-value: 0.9765292921254219\n",
      "Относительные различия в среднем чеке между группами: -0.016790250458817324\n"
     ]
    }
   ],
   "source": [
    "print('p-value:', stats.mannwhitneyu(orders[np.logical_and(orders['group'] == 'A',np.logical_not(orders['visitorId'].isin(abnormalUsers)))]['revenue'],orders[np.logical_and(orders['group'] == 'B',np.logical_not(orders['visitorId'].isin(abnormalUsers)))]['revenue'])[1])\n",
    "\n",
    "print('Относительные различия в среднем чеке между группами:', orders[np.logical_and(orders['group'] == 'B',np.logical_not(orders['visitorId'].isin(abnormalUsers)),)]['revenue'].mean()/ orders[np.logical_and(orders['group'] == 'A',np.logical_not(orders['visitorId'].isin(abnormalUsers)),)]['revenue'].mean()- 1)"
   ]
  },
  {
   "cell_type": "markdown",
   "metadata": {},
   "source": [
    "P-value незначительно увеличился, разница между сегментами снизилась до -17%, аномалии влияют на результаты теста."
   ]
  },
  {
   "cell_type": "markdown",
   "metadata": {},
   "source": [
    "14. Примите решение по результатам теста и объясните его. Варианты решений:\n",
    "\n",
    "\n",
    "1) Остановить тест, зафиксировать победу одной из групп.\n",
    "2) Остановить тест, зафиксировать отсутствие различий между группами.\n",
    "3) Продолжить тест."
   ]
  },
  {
   "cell_type": "markdown",
   "metadata": {},
   "source": [
    "### Вывод:\n",
    "\n",
    "Суммарная выручка по группе В значительно выше группы А. На графике есть резкий скачок, что свидетельствует о выбросах по группе В. Средний чек по группе В также выше чем среднего чека группы А. Среднее количество заказов по группе В на одного пользователя также выше среднего чека на пользователя чем у группы А.\n",
    "Изучение точечного графика также показывает выбросы по количеству заказов. Норма от 0 до 3 заказов. Есть единичные выбросы по стоимости заказов, менее 5% имеют стоимость более 28000, не более 1% имеют стоимость  58000.\n",
    "Статистически значимого различия по среднему количеству заказов между группами ни по «сырым», ни по данным после фильтрации аномалий не наблюдается.\n",
    "Есть статистически значимое различие между сырыми и отфильтрованными данными.\n",
    "\n",
    "График различия среднего количества заказов между группами сообщает, что результаты группы B лучше группы A, в конце исследуемого периода есть тенденция к снижению среднего чека. Результаты группы В относительно группы А лучше, значиния количества заказов зафиксированы с течение продолжительного срока.\n",
    "\n",
    "На мой взгляд тест можно остановить, результаты теста признать успешным."
   ]
  },
  {
   "cell_type": "code",
   "execution_count": null,
   "metadata": {},
   "outputs": [],
   "source": []
  }
 ],
 "metadata": {
  "ExecuteTimeLog": [
   {
    "duration": 463,
    "start_time": "2023-05-11T22:35:32.159Z"
   },
   {
    "duration": 85,
    "start_time": "2023-05-11T22:35:51.626Z"
   },
   {
    "duration": 40,
    "start_time": "2023-05-11T22:36:11.708Z"
   },
   {
    "duration": 30,
    "start_time": "2023-05-11T22:36:23.385Z"
   },
   {
    "duration": 9,
    "start_time": "2023-05-11T22:36:25.483Z"
   },
   {
    "duration": 82,
    "start_time": "2023-05-11T22:37:49.752Z"
   },
   {
    "duration": 232,
    "start_time": "2023-05-11T22:42:12.959Z"
   },
   {
    "duration": 21,
    "start_time": "2023-05-11T22:42:14.124Z"
   },
   {
    "duration": 37,
    "start_time": "2023-05-11T22:43:19.686Z"
   },
   {
    "duration": 594,
    "start_time": "2023-05-12T09:57:52.508Z"
   },
   {
    "duration": 38,
    "start_time": "2023-05-12T09:57:53.104Z"
   },
   {
    "duration": 19,
    "start_time": "2023-05-12T09:57:53.144Z"
   },
   {
    "duration": 6,
    "start_time": "2023-05-12T10:00:27.759Z"
   },
   {
    "duration": 56,
    "start_time": "2023-05-12T10:00:54.241Z"
   },
   {
    "duration": 4,
    "start_time": "2023-05-12T10:00:59.075Z"
   },
   {
    "duration": 10,
    "start_time": "2023-05-12T10:01:02.629Z"
   },
   {
    "duration": 66,
    "start_time": "2023-05-12T10:01:21.792Z"
   },
   {
    "duration": 10,
    "start_time": "2023-05-12T10:01:25.829Z"
   },
   {
    "duration": 11,
    "start_time": "2023-05-12T10:02:12.083Z"
   },
   {
    "duration": 486,
    "start_time": "2023-05-12T10:03:46.068Z"
   },
   {
    "duration": 31,
    "start_time": "2023-05-12T10:03:47.864Z"
   },
   {
    "duration": 19,
    "start_time": "2023-05-12T10:03:48.325Z"
   },
   {
    "duration": 11,
    "start_time": "2023-05-12T10:03:48.780Z"
   },
   {
    "duration": 12,
    "start_time": "2023-05-12T10:03:49.751Z"
   },
   {
    "duration": 749,
    "start_time": "2023-05-12T10:09:13.457Z"
   },
   {
    "duration": 1042,
    "start_time": "2023-05-12T14:30:44.393Z"
   },
   {
    "duration": 36,
    "start_time": "2023-05-12T14:30:45.439Z"
   },
   {
    "duration": 20,
    "start_time": "2023-05-12T14:30:45.477Z"
   },
   {
    "duration": 48,
    "start_time": "2023-05-12T14:30:45.499Z"
   },
   {
    "duration": 24,
    "start_time": "2023-05-12T14:30:45.550Z"
   },
   {
    "duration": 1859,
    "start_time": "2023-05-12T14:30:45.576Z"
   },
   {
    "duration": 5,
    "start_time": "2023-05-12T14:34:05.634Z"
   },
   {
    "duration": 6,
    "start_time": "2023-05-12T14:34:09.785Z"
   },
   {
    "duration": 5,
    "start_time": "2023-05-12T14:38:31.547Z"
   },
   {
    "duration": 17,
    "start_time": "2023-05-12T14:41:07.914Z"
   },
   {
    "duration": 20,
    "start_time": "2023-05-12T14:51:40.998Z"
   },
   {
    "duration": 1188,
    "start_time": "2023-05-12T19:17:15.951Z"
   },
   {
    "duration": 53,
    "start_time": "2023-05-12T19:17:17.142Z"
   },
   {
    "duration": 30,
    "start_time": "2023-05-12T19:17:17.197Z"
   },
   {
    "duration": 105,
    "start_time": "2023-05-12T19:17:17.229Z"
   },
   {
    "duration": 0,
    "start_time": "2023-05-12T19:17:17.336Z"
   },
   {
    "duration": 0,
    "start_time": "2023-05-12T19:17:17.337Z"
   },
   {
    "duration": 0,
    "start_time": "2023-05-12T19:17:17.338Z"
   },
   {
    "duration": 0,
    "start_time": "2023-05-12T19:17:17.339Z"
   },
   {
    "duration": 0,
    "start_time": "2023-05-12T19:17:17.340Z"
   },
   {
    "duration": 0,
    "start_time": "2023-05-12T19:17:17.341Z"
   },
   {
    "duration": 16,
    "start_time": "2023-05-12T19:17:38.944Z"
   },
   {
    "duration": 9,
    "start_time": "2023-05-12T19:17:44.844Z"
   },
   {
    "duration": 11,
    "start_time": "2023-05-12T19:17:47.102Z"
   },
   {
    "duration": 14,
    "start_time": "2023-05-12T19:17:47.817Z"
   },
   {
    "duration": 15,
    "start_time": "2023-05-12T19:17:51.984Z"
   },
   {
    "duration": 33,
    "start_time": "2023-05-12T19:17:57.098Z"
   },
   {
    "duration": 15,
    "start_time": "2023-05-12T19:17:57.604Z"
   },
   {
    "duration": 8,
    "start_time": "2023-05-12T19:18:03.414Z"
   },
   {
    "duration": 11,
    "start_time": "2023-05-12T19:19:28.448Z"
   },
   {
    "duration": 6,
    "start_time": "2023-05-12T19:19:36.793Z"
   },
   {
    "duration": 14,
    "start_time": "2023-05-12T19:19:57.593Z"
   },
   {
    "duration": 39,
    "start_time": "2023-05-12T19:58:40.910Z"
   },
   {
    "duration": 86,
    "start_time": "2023-05-12T19:59:55.127Z"
   },
   {
    "duration": 43,
    "start_time": "2023-05-12T19:59:56.118Z"
   },
   {
    "duration": 33,
    "start_time": "2023-05-12T19:59:56.585Z"
   },
   {
    "duration": 9,
    "start_time": "2023-05-12T19:59:56.899Z"
   },
   {
    "duration": 12,
    "start_time": "2023-05-12T19:59:57.923Z"
   },
   {
    "duration": 19,
    "start_time": "2023-05-12T20:00:00.549Z"
   },
   {
    "duration": 5,
    "start_time": "2023-05-12T20:00:02.214Z"
   },
   {
    "duration": 24,
    "start_time": "2023-05-12T20:00:11.978Z"
   },
   {
    "duration": 26,
    "start_time": "2023-05-12T20:00:14.403Z"
   },
   {
    "duration": 36,
    "start_time": "2023-05-12T20:00:17.197Z"
   },
   {
    "duration": 189,
    "start_time": "2023-05-12T20:04:16.624Z"
   },
   {
    "duration": 294,
    "start_time": "2023-05-12T20:04:51.074Z"
   },
   {
    "duration": 296,
    "start_time": "2023-05-12T20:10:20.804Z"
   },
   {
    "duration": 214,
    "start_time": "2023-05-12T20:10:41.867Z"
   },
   {
    "duration": 231,
    "start_time": "2023-05-12T20:12:01.096Z"
   },
   {
    "duration": 241,
    "start_time": "2023-05-12T20:14:21.602Z"
   },
   {
    "duration": 82,
    "start_time": "2023-05-12T20:15:50.840Z"
   },
   {
    "duration": 326,
    "start_time": "2023-05-12T20:20:11.074Z"
   },
   {
    "duration": 187,
    "start_time": "2023-05-12T20:21:36.200Z"
   },
   {
    "duration": 205,
    "start_time": "2023-05-12T20:23:11.503Z"
   },
   {
    "duration": 238,
    "start_time": "2023-05-12T20:26:25.291Z"
   },
   {
    "duration": 232,
    "start_time": "2023-05-12T20:26:45.749Z"
   },
   {
    "duration": 261,
    "start_time": "2023-05-12T20:26:52.854Z"
   },
   {
    "duration": 332,
    "start_time": "2023-05-12T20:27:14.164Z"
   },
   {
    "duration": 230,
    "start_time": "2023-05-12T20:36:15.405Z"
   },
   {
    "duration": 208,
    "start_time": "2023-05-12T20:36:53.157Z"
   },
   {
    "duration": 327,
    "start_time": "2023-05-12T20:48:55.398Z"
   },
   {
    "duration": 383,
    "start_time": "2023-05-12T20:49:18.041Z"
   },
   {
    "duration": 1105,
    "start_time": "2023-05-13T19:19:53.680Z"
   },
   {
    "duration": 28,
    "start_time": "2023-05-13T19:19:54.787Z"
   },
   {
    "duration": 23,
    "start_time": "2023-05-13T19:19:54.817Z"
   },
   {
    "duration": 8,
    "start_time": "2023-05-13T19:19:54.842Z"
   },
   {
    "duration": 37,
    "start_time": "2023-05-13T19:19:54.852Z"
   },
   {
    "duration": 11,
    "start_time": "2023-05-13T19:19:54.891Z"
   },
   {
    "duration": 28,
    "start_time": "2023-05-13T19:19:54.904Z"
   },
   {
    "duration": 37,
    "start_time": "2023-05-13T19:19:54.934Z"
   },
   {
    "duration": 38,
    "start_time": "2023-05-13T19:19:54.973Z"
   },
   {
    "duration": 262,
    "start_time": "2023-05-13T19:19:55.013Z"
   },
   {
    "duration": 245,
    "start_time": "2023-05-13T19:19:55.276Z"
   },
   {
    "duration": 176,
    "start_time": "2023-05-13T19:19:55.522Z"
   },
   {
    "duration": 405,
    "start_time": "2023-05-13T19:19:55.699Z"
   },
   {
    "duration": 1607,
    "start_time": "2023-05-13T19:54:36.973Z"
   },
   {
    "duration": 227,
    "start_time": "2023-05-13T19:58:08.972Z"
   },
   {
    "duration": 666,
    "start_time": "2023-05-13T20:31:04.957Z"
   },
   {
    "duration": 28,
    "start_time": "2023-05-13T20:31:05.625Z"
   },
   {
    "duration": 25,
    "start_time": "2023-05-13T20:31:05.655Z"
   },
   {
    "duration": 38,
    "start_time": "2023-05-13T20:31:05.682Z"
   },
   {
    "duration": 19,
    "start_time": "2023-05-13T20:31:05.721Z"
   },
   {
    "duration": 10,
    "start_time": "2023-05-13T20:31:05.742Z"
   },
   {
    "duration": 10,
    "start_time": "2023-05-13T20:31:05.754Z"
   },
   {
    "duration": 37,
    "start_time": "2023-05-13T20:31:05.765Z"
   },
   {
    "duration": 24,
    "start_time": "2023-05-13T20:31:05.803Z"
   },
   {
    "duration": 327,
    "start_time": "2023-05-13T20:31:05.830Z"
   },
   {
    "duration": 364,
    "start_time": "2023-05-13T20:31:06.159Z"
   },
   {
    "duration": 211,
    "start_time": "2023-05-13T20:31:06.525Z"
   },
   {
    "duration": 260,
    "start_time": "2023-05-13T20:31:06.738Z"
   },
   {
    "duration": 262,
    "start_time": "2023-05-13T20:31:07.002Z"
   },
   {
    "duration": 10,
    "start_time": "2023-05-13T20:31:07.265Z"
   },
   {
    "duration": 309,
    "start_time": "2023-05-13T20:34:57.565Z"
   },
   {
    "duration": 73,
    "start_time": "2023-05-13T20:58:23.424Z"
   },
   {
    "duration": 77,
    "start_time": "2023-05-13T20:58:27.925Z"
   },
   {
    "duration": 345,
    "start_time": "2023-05-13T20:59:42.878Z"
   },
   {
    "duration": 151,
    "start_time": "2023-05-13T21:03:46.001Z"
   },
   {
    "duration": 185,
    "start_time": "2023-05-13T21:04:07.096Z"
   },
   {
    "duration": 128,
    "start_time": "2023-05-13T21:07:13.803Z"
   },
   {
    "duration": 143,
    "start_time": "2023-05-13T21:07:18.760Z"
   },
   {
    "duration": 181,
    "start_time": "2023-05-13T21:07:26.334Z"
   },
   {
    "duration": 4,
    "start_time": "2023-05-13T21:24:09.244Z"
   },
   {
    "duration": 92,
    "start_time": "2023-05-13T21:51:00.851Z"
   },
   {
    "duration": 99,
    "start_time": "2023-05-13T21:52:03.543Z"
   },
   {
    "duration": 137,
    "start_time": "2023-05-13T21:52:21.694Z"
   },
   {
    "duration": 155,
    "start_time": "2023-05-13T21:52:35.473Z"
   },
   {
    "duration": 200,
    "start_time": "2023-05-13T21:54:28.663Z"
   },
   {
    "duration": 133,
    "start_time": "2023-05-13T21:54:39.211Z"
   },
   {
    "duration": 10,
    "start_time": "2023-05-13T21:56:15.324Z"
   },
   {
    "duration": 141,
    "start_time": "2023-05-13T21:56:22.932Z"
   },
   {
    "duration": 130,
    "start_time": "2023-05-13T21:56:28.059Z"
   },
   {
    "duration": 5,
    "start_time": "2023-05-13T22:04:53.980Z"
   },
   {
    "duration": 1010,
    "start_time": "2023-05-14T09:30:29.289Z"
   },
   {
    "duration": 35,
    "start_time": "2023-05-14T09:30:30.301Z"
   },
   {
    "duration": 25,
    "start_time": "2023-05-14T09:30:30.338Z"
   },
   {
    "duration": 21,
    "start_time": "2023-05-14T09:30:30.365Z"
   },
   {
    "duration": 52,
    "start_time": "2023-05-14T09:30:30.388Z"
   },
   {
    "duration": 75,
    "start_time": "2023-05-14T09:30:30.441Z"
   },
   {
    "duration": 34,
    "start_time": "2023-05-14T09:30:30.518Z"
   },
   {
    "duration": 63,
    "start_time": "2023-05-14T09:30:30.554Z"
   },
   {
    "duration": 42,
    "start_time": "2023-05-14T09:30:30.619Z"
   },
   {
    "duration": 307,
    "start_time": "2023-05-14T09:30:30.662Z"
   },
   {
    "duration": 273,
    "start_time": "2023-05-14T09:30:30.970Z"
   },
   {
    "duration": 193,
    "start_time": "2023-05-14T09:30:31.245Z"
   },
   {
    "duration": 373,
    "start_time": "2023-05-14T09:30:31.440Z"
   },
   {
    "duration": 271,
    "start_time": "2023-05-14T09:30:31.815Z"
   },
   {
    "duration": 290,
    "start_time": "2023-05-14T09:30:32.087Z"
   },
   {
    "duration": 133,
    "start_time": "2023-05-14T09:30:32.378Z"
   },
   {
    "duration": 4,
    "start_time": "2023-05-14T09:30:32.513Z"
   },
   {
    "duration": 161,
    "start_time": "2023-05-14T09:30:32.519Z"
   },
   {
    "duration": 5,
    "start_time": "2023-05-14T09:30:32.681Z"
   },
   {
    "duration": 58,
    "start_time": "2023-05-14T11:36:58.235Z"
   },
   {
    "duration": 49,
    "start_time": "2023-05-14T11:38:07.586Z"
   },
   {
    "duration": 51,
    "start_time": "2023-05-14T11:38:23.184Z"
   },
   {
    "duration": 756,
    "start_time": "2023-05-14T11:38:31.534Z"
   },
   {
    "duration": 808,
    "start_time": "2023-05-14T11:46:00.154Z"
   },
   {
    "duration": 668,
    "start_time": "2023-05-14T11:47:37.995Z"
   },
   {
    "duration": 192,
    "start_time": "2023-05-14T11:48:52.480Z"
   },
   {
    "duration": 215,
    "start_time": "2023-05-14T11:49:40.804Z"
   },
   {
    "duration": 89,
    "start_time": "2023-05-14T12:41:49.454Z"
   },
   {
    "duration": 187,
    "start_time": "2023-05-14T12:43:03.488Z"
   },
   {
    "duration": 712,
    "start_time": "2023-05-14T12:43:51.308Z"
   },
   {
    "duration": 677,
    "start_time": "2023-05-14T12:47:19.202Z"
   },
   {
    "duration": 15,
    "start_time": "2023-05-14T12:55:34.864Z"
   },
   {
    "duration": 26,
    "start_time": "2023-05-14T12:58:05.209Z"
   },
   {
    "duration": 519,
    "start_time": "2023-05-14T13:01:33.546Z"
   },
   {
    "duration": 1119,
    "start_time": "2023-05-14T13:01:42.256Z"
   },
   {
    "duration": 34,
    "start_time": "2023-05-14T13:01:43.377Z"
   },
   {
    "duration": 19,
    "start_time": "2023-05-14T13:01:43.413Z"
   },
   {
    "duration": 6,
    "start_time": "2023-05-14T13:01:43.434Z"
   },
   {
    "duration": 41,
    "start_time": "2023-05-14T13:01:43.442Z"
   },
   {
    "duration": 14,
    "start_time": "2023-05-14T13:01:43.484Z"
   },
   {
    "duration": 6,
    "start_time": "2023-05-14T13:01:43.499Z"
   },
   {
    "duration": 15,
    "start_time": "2023-05-14T13:01:43.506Z"
   },
   {
    "duration": 12,
    "start_time": "2023-05-14T13:01:43.522Z"
   },
   {
    "duration": 312,
    "start_time": "2023-05-14T13:01:43.537Z"
   },
   {
    "duration": 338,
    "start_time": "2023-05-14T13:01:43.851Z"
   },
   {
    "duration": 218,
    "start_time": "2023-05-14T13:01:44.191Z"
   },
   {
    "duration": 282,
    "start_time": "2023-05-14T13:01:44.411Z"
   },
   {
    "duration": 212,
    "start_time": "2023-05-14T13:01:44.695Z"
   },
   {
    "duration": 287,
    "start_time": "2023-05-14T13:01:44.908Z"
   },
   {
    "duration": 139,
    "start_time": "2023-05-14T13:01:45.196Z"
   },
   {
    "duration": 5,
    "start_time": "2023-05-14T13:01:45.337Z"
   },
   {
    "duration": 165,
    "start_time": "2023-05-14T13:01:45.344Z"
   },
   {
    "duration": 5,
    "start_time": "2023-05-14T13:01:45.511Z"
   },
   {
    "duration": 228,
    "start_time": "2023-05-14T13:01:45.518Z"
   },
   {
    "duration": 52,
    "start_time": "2023-05-14T13:01:45.747Z"
   },
   {
    "duration": 45,
    "start_time": "2023-05-14T13:03:42.941Z"
   },
   {
    "duration": 35,
    "start_time": "2023-05-14T13:03:51.587Z"
   },
   {
    "duration": 300,
    "start_time": "2023-05-14T13:05:27.301Z"
   },
   {
    "duration": 31,
    "start_time": "2023-05-14T13:14:42.211Z"
   },
   {
    "duration": 34,
    "start_time": "2023-05-14T13:15:21.577Z"
   },
   {
    "duration": 41,
    "start_time": "2023-05-14T13:16:10.372Z"
   },
   {
    "duration": 21,
    "start_time": "2023-05-14T13:16:42.952Z"
   },
   {
    "duration": 22,
    "start_time": "2023-05-14T13:16:49.393Z"
   },
   {
    "duration": 30,
    "start_time": "2023-05-14T13:17:10.555Z"
   },
   {
    "duration": 25,
    "start_time": "2023-05-14T13:17:16.686Z"
   },
   {
    "duration": 20,
    "start_time": "2023-05-14T13:18:16.552Z"
   },
   {
    "duration": 19,
    "start_time": "2023-05-14T13:18:33.451Z"
   },
   {
    "duration": 19,
    "start_time": "2023-05-14T13:18:39.817Z"
   },
   {
    "duration": 19,
    "start_time": "2023-05-14T13:18:48.123Z"
   },
   {
    "duration": 18,
    "start_time": "2023-05-14T13:19:15.410Z"
   },
   {
    "duration": 82,
    "start_time": "2023-05-14T13:19:22.724Z"
   },
   {
    "duration": 17,
    "start_time": "2023-05-14T13:19:35.417Z"
   },
   {
    "duration": 19,
    "start_time": "2023-05-14T13:19:53.438Z"
   },
   {
    "duration": 23,
    "start_time": "2023-05-14T13:37:32.783Z"
   },
   {
    "duration": 19,
    "start_time": "2023-05-14T13:38:49.540Z"
   },
   {
    "duration": 21,
    "start_time": "2023-05-14T13:39:03.507Z"
   },
   {
    "duration": 142,
    "start_time": "2023-05-14T13:40:01.748Z"
   },
   {
    "duration": 120,
    "start_time": "2023-05-14T13:40:09.485Z"
   },
   {
    "duration": 11,
    "start_time": "2023-05-14T15:25:06.224Z"
   },
   {
    "duration": 92,
    "start_time": "2023-05-14T15:27:25.532Z"
   },
   {
    "duration": 898,
    "start_time": "2023-05-14T15:58:34.754Z"
   },
   {
    "duration": 9,
    "start_time": "2023-05-14T16:02:16.580Z"
   },
   {
    "duration": 707,
    "start_time": "2023-05-14T16:21:16.750Z"
   },
   {
    "duration": 746,
    "start_time": "2023-05-14T16:21:54.346Z"
   },
   {
    "duration": 26,
    "start_time": "2023-05-14T16:22:45.944Z"
   },
   {
    "duration": 790,
    "start_time": "2023-05-14T16:31:33.399Z"
   },
   {
    "duration": 19,
    "start_time": "2023-05-14T16:31:54.078Z"
   },
   {
    "duration": 8,
    "start_time": "2023-05-14T17:07:23.153Z"
   },
   {
    "duration": 25,
    "start_time": "2023-05-14T17:07:33.669Z"
   },
   {
    "duration": 8,
    "start_time": "2023-05-14T17:10:43.587Z"
   },
   {
    "duration": 9,
    "start_time": "2023-05-14T17:11:00.621Z"
   },
   {
    "duration": 137,
    "start_time": "2023-05-14T17:18:00.784Z"
   },
   {
    "duration": 116,
    "start_time": "2023-05-14T17:18:20.887Z"
   },
   {
    "duration": 136,
    "start_time": "2023-05-14T17:18:27.326Z"
   },
   {
    "duration": 144,
    "start_time": "2023-05-14T17:18:36.968Z"
   },
   {
    "duration": 151,
    "start_time": "2023-05-14T17:18:55.830Z"
   },
   {
    "duration": 158,
    "start_time": "2023-05-14T17:19:31.305Z"
   },
   {
    "duration": 6,
    "start_time": "2023-05-14T17:20:59.826Z"
   },
   {
    "duration": 6,
    "start_time": "2023-05-14T17:21:24.246Z"
   },
   {
    "duration": 134,
    "start_time": "2023-05-14T17:22:37.826Z"
   },
   {
    "duration": 10,
    "start_time": "2023-05-14T17:23:14.932Z"
   },
   {
    "duration": 30,
    "start_time": "2023-05-14T17:23:20.393Z"
   },
   {
    "duration": 13,
    "start_time": "2023-05-14T17:23:24.978Z"
   },
   {
    "duration": 9,
    "start_time": "2023-05-14T18:44:43.658Z"
   },
   {
    "duration": 35,
    "start_time": "2023-05-14T18:44:49.259Z"
   },
   {
    "duration": 12,
    "start_time": "2023-05-14T18:44:53.596Z"
   },
   {
    "duration": 1651,
    "start_time": "2023-05-15T16:15:31.276Z"
   },
   {
    "duration": 38,
    "start_time": "2023-05-15T16:15:32.929Z"
   },
   {
    "duration": 22,
    "start_time": "2023-05-15T16:15:32.968Z"
   },
   {
    "duration": 32,
    "start_time": "2023-05-15T16:15:32.992Z"
   },
   {
    "duration": 17,
    "start_time": "2023-05-15T16:15:33.026Z"
   },
   {
    "duration": 22,
    "start_time": "2023-05-15T16:15:33.044Z"
   },
   {
    "duration": 12,
    "start_time": "2023-05-15T16:15:33.067Z"
   },
   {
    "duration": 48,
    "start_time": "2023-05-15T16:15:33.081Z"
   },
   {
    "duration": 14,
    "start_time": "2023-05-15T16:15:33.131Z"
   },
   {
    "duration": 305,
    "start_time": "2023-05-15T16:15:33.146Z"
   },
   {
    "duration": 321,
    "start_time": "2023-05-15T16:15:33.453Z"
   },
   {
    "duration": 229,
    "start_time": "2023-05-15T16:15:33.776Z"
   },
   {
    "duration": 321,
    "start_time": "2023-05-15T16:15:34.009Z"
   },
   {
    "duration": 278,
    "start_time": "2023-05-15T16:15:34.334Z"
   },
   {
    "duration": 337,
    "start_time": "2023-05-15T16:15:34.613Z"
   },
   {
    "duration": 160,
    "start_time": "2023-05-15T16:15:34.952Z"
   },
   {
    "duration": 6,
    "start_time": "2023-05-15T16:15:35.114Z"
   },
   {
    "duration": 233,
    "start_time": "2023-05-15T16:15:35.122Z"
   },
   {
    "duration": 5,
    "start_time": "2023-05-15T16:15:35.357Z"
   },
   {
    "duration": 213,
    "start_time": "2023-05-15T16:15:35.364Z"
   },
   {
    "duration": 105,
    "start_time": "2023-05-15T16:15:35.579Z"
   },
   {
    "duration": 22,
    "start_time": "2023-05-15T16:15:35.685Z"
   },
   {
    "duration": 17,
    "start_time": "2023-05-15T16:15:35.711Z"
   },
   {
    "duration": 38,
    "start_time": "2023-05-15T16:15:35.729Z"
   },
   {
    "duration": 10,
    "start_time": "2023-05-15T16:15:35.769Z"
   },
   {
    "duration": 1522,
    "start_time": "2023-05-15T18:50:43.866Z"
   },
   {
    "duration": 32,
    "start_time": "2023-05-15T18:50:45.390Z"
   },
   {
    "duration": 33,
    "start_time": "2023-05-15T18:50:45.423Z"
   },
   {
    "duration": 6,
    "start_time": "2023-05-15T18:50:45.458Z"
   },
   {
    "duration": 12,
    "start_time": "2023-05-15T18:50:45.465Z"
   },
   {
    "duration": 12,
    "start_time": "2023-05-15T18:50:45.478Z"
   },
   {
    "duration": 4,
    "start_time": "2023-05-15T18:50:45.491Z"
   },
   {
    "duration": 41,
    "start_time": "2023-05-15T18:50:45.496Z"
   },
   {
    "duration": 15,
    "start_time": "2023-05-15T18:50:45.538Z"
   },
   {
    "duration": 314,
    "start_time": "2023-05-15T18:50:45.558Z"
   },
   {
    "duration": 324,
    "start_time": "2023-05-15T18:50:45.874Z"
   },
   {
    "duration": 212,
    "start_time": "2023-05-15T18:50:46.200Z"
   },
   {
    "duration": 357,
    "start_time": "2023-05-15T18:50:46.414Z"
   },
   {
    "duration": 246,
    "start_time": "2023-05-15T18:50:46.773Z"
   },
   {
    "duration": 321,
    "start_time": "2023-05-15T18:50:47.026Z"
   },
   {
    "duration": 154,
    "start_time": "2023-05-15T18:50:47.349Z"
   },
   {
    "duration": 5,
    "start_time": "2023-05-15T18:50:47.505Z"
   },
   {
    "duration": 181,
    "start_time": "2023-05-15T18:50:47.512Z"
   },
   {
    "duration": 5,
    "start_time": "2023-05-15T18:50:47.695Z"
   },
   {
    "duration": 216,
    "start_time": "2023-05-15T18:50:47.702Z"
   },
   {
    "duration": 139,
    "start_time": "2023-05-15T18:50:47.919Z"
   },
   {
    "duration": 11,
    "start_time": "2023-05-15T18:50:48.060Z"
   },
   {
    "duration": 10,
    "start_time": "2023-05-15T18:50:48.073Z"
   },
   {
    "duration": 64,
    "start_time": "2023-05-15T18:50:48.085Z"
   },
   {
    "duration": 12,
    "start_time": "2023-05-15T18:50:48.154Z"
   },
   {
    "duration": 241,
    "start_time": "2023-05-15T18:52:21.006Z"
   },
   {
    "duration": 278,
    "start_time": "2023-05-15T18:54:44.244Z"
   },
   {
    "duration": 221,
    "start_time": "2023-05-15T18:54:57.000Z"
   },
   {
    "duration": 236,
    "start_time": "2023-05-15T18:55:10.008Z"
   },
   {
    "duration": 269,
    "start_time": "2023-05-15T18:56:09.631Z"
   },
   {
    "duration": 260,
    "start_time": "2023-05-15T18:56:25.519Z"
   },
   {
    "duration": 227,
    "start_time": "2023-05-15T18:56:45.180Z"
   },
   {
    "duration": 337,
    "start_time": "2023-05-15T18:57:36.723Z"
   },
   {
    "duration": 235,
    "start_time": "2023-05-15T18:59:26.264Z"
   },
   {
    "duration": 328,
    "start_time": "2023-05-15T19:00:14.326Z"
   },
   {
    "duration": 161,
    "start_time": "2023-05-15T19:01:41.367Z"
   },
   {
    "duration": 173,
    "start_time": "2023-05-15T19:01:54.858Z"
   },
   {
    "duration": 174,
    "start_time": "2023-05-15T19:02:25.547Z"
   },
   {
    "duration": 191,
    "start_time": "2023-05-15T19:04:08.120Z"
   },
   {
    "duration": 45,
    "start_time": "2023-05-15T19:52:15.382Z"
   },
   {
    "duration": 76,
    "start_time": "2023-05-15T19:52:24.091Z"
   },
   {
    "duration": 68,
    "start_time": "2023-05-15T19:52:55.630Z"
   },
   {
    "duration": 1217,
    "start_time": "2023-05-15T19:53:05.022Z"
   },
   {
    "duration": 32,
    "start_time": "2023-05-15T19:53:06.245Z"
   },
   {
    "duration": 19,
    "start_time": "2023-05-15T19:53:06.278Z"
   },
   {
    "duration": 22,
    "start_time": "2023-05-15T19:53:06.298Z"
   },
   {
    "duration": 33,
    "start_time": "2023-05-15T19:53:06.321Z"
   },
   {
    "duration": 12,
    "start_time": "2023-05-15T19:53:06.356Z"
   },
   {
    "duration": 5,
    "start_time": "2023-05-15T19:53:06.369Z"
   },
   {
    "duration": 14,
    "start_time": "2023-05-15T19:53:06.375Z"
   },
   {
    "duration": 12,
    "start_time": "2023-05-15T19:53:06.391Z"
   },
   {
    "duration": 312,
    "start_time": "2023-05-15T19:53:06.405Z"
   },
   {
    "duration": 347,
    "start_time": "2023-05-15T19:53:06.719Z"
   },
   {
    "duration": 47,
    "start_time": "2023-05-15T19:53:07.067Z"
   },
   {
    "duration": 0,
    "start_time": "2023-05-15T19:53:07.116Z"
   },
   {
    "duration": 0,
    "start_time": "2023-05-15T19:53:07.117Z"
   },
   {
    "duration": 0,
    "start_time": "2023-05-15T19:53:07.118Z"
   },
   {
    "duration": 0,
    "start_time": "2023-05-15T19:53:07.120Z"
   },
   {
    "duration": 0,
    "start_time": "2023-05-15T19:53:07.120Z"
   },
   {
    "duration": 0,
    "start_time": "2023-05-15T19:53:07.121Z"
   },
   {
    "duration": 0,
    "start_time": "2023-05-15T19:53:07.123Z"
   },
   {
    "duration": 0,
    "start_time": "2023-05-15T19:53:07.124Z"
   },
   {
    "duration": 0,
    "start_time": "2023-05-15T19:53:07.131Z"
   },
   {
    "duration": 0,
    "start_time": "2023-05-15T19:53:07.132Z"
   },
   {
    "duration": 0,
    "start_time": "2023-05-15T19:53:07.133Z"
   },
   {
    "duration": 0,
    "start_time": "2023-05-15T19:53:07.133Z"
   },
   {
    "duration": 0,
    "start_time": "2023-05-15T19:53:07.134Z"
   },
   {
    "duration": 0,
    "start_time": "2023-05-15T19:53:07.135Z"
   },
   {
    "duration": 69,
    "start_time": "2023-05-15T19:54:06.091Z"
   },
   {
    "duration": 55,
    "start_time": "2023-05-15T19:54:20.894Z"
   },
   {
    "duration": 52,
    "start_time": "2023-05-15T19:54:35.445Z"
   },
   {
    "duration": 13,
    "start_time": "2023-05-15T20:04:20.114Z"
   },
   {
    "duration": 11,
    "start_time": "2023-05-15T20:04:30.349Z"
   },
   {
    "duration": 14,
    "start_time": "2023-05-15T20:15:47.937Z"
   },
   {
    "duration": 117,
    "start_time": "2023-05-15T20:29:05.790Z"
   },
   {
    "duration": 4,
    "start_time": "2023-05-15T20:29:20.906Z"
   },
   {
    "duration": 4,
    "start_time": "2023-05-15T20:29:33.678Z"
   },
   {
    "duration": 6,
    "start_time": "2023-05-15T20:30:08.850Z"
   },
   {
    "duration": 11,
    "start_time": "2023-05-15T20:38:21.146Z"
   },
   {
    "duration": 6,
    "start_time": "2023-05-15T20:38:34.269Z"
   },
   {
    "duration": 11,
    "start_time": "2023-05-15T20:39:39.298Z"
   },
   {
    "duration": 20,
    "start_time": "2023-05-15T20:40:09.816Z"
   },
   {
    "duration": 12,
    "start_time": "2023-05-15T20:40:55.484Z"
   },
   {
    "duration": 5,
    "start_time": "2023-05-15T20:54:36.214Z"
   },
   {
    "duration": 7,
    "start_time": "2023-05-15T20:54:43.369Z"
   },
   {
    "duration": 8,
    "start_time": "2023-05-15T20:55:48.515Z"
   },
   {
    "duration": 10,
    "start_time": "2023-05-15T20:56:09.637Z"
   },
   {
    "duration": 7,
    "start_time": "2023-05-15T21:16:10.157Z"
   },
   {
    "duration": 6,
    "start_time": "2023-05-15T21:27:38.997Z"
   },
   {
    "duration": 5,
    "start_time": "2023-05-15T21:28:57.559Z"
   },
   {
    "duration": 7,
    "start_time": "2023-05-15T21:29:08.390Z"
   },
   {
    "duration": 8,
    "start_time": "2023-05-15T21:59:04.456Z"
   },
   {
    "duration": 13,
    "start_time": "2023-05-15T21:59:10.838Z"
   },
   {
    "duration": 211,
    "start_time": "2023-05-15T22:00:03.630Z"
   },
   {
    "duration": 12,
    "start_time": "2023-05-15T22:00:27.166Z"
   },
   {
    "duration": 16,
    "start_time": "2023-05-15T22:00:49.739Z"
   },
   {
    "duration": 14,
    "start_time": "2023-05-15T22:01:06.228Z"
   },
   {
    "duration": 14,
    "start_time": "2023-05-15T22:01:14.806Z"
   },
   {
    "duration": 13,
    "start_time": "2023-05-15T22:01:37.889Z"
   },
   {
    "duration": 13,
    "start_time": "2023-05-15T22:02:17.417Z"
   },
   {
    "duration": 1643,
    "start_time": "2023-05-16T17:47:37.258Z"
   },
   {
    "duration": 37,
    "start_time": "2023-05-16T17:47:38.903Z"
   },
   {
    "duration": 21,
    "start_time": "2023-05-16T17:47:38.942Z"
   },
   {
    "duration": 28,
    "start_time": "2023-05-16T17:47:38.965Z"
   },
   {
    "duration": 12,
    "start_time": "2023-05-16T17:47:38.995Z"
   },
   {
    "duration": 15,
    "start_time": "2023-05-16T17:47:39.008Z"
   },
   {
    "duration": 5,
    "start_time": "2023-05-16T17:47:39.025Z"
   },
   {
    "duration": 59,
    "start_time": "2023-05-16T17:47:39.032Z"
   },
   {
    "duration": 14,
    "start_time": "2023-05-16T17:47:39.093Z"
   },
   {
    "duration": 20,
    "start_time": "2023-05-16T17:47:39.110Z"
   },
   {
    "duration": 13,
    "start_time": "2023-05-16T17:47:39.132Z"
   },
   {
    "duration": 48,
    "start_time": "2023-05-16T17:47:39.146Z"
   },
   {
    "duration": 323,
    "start_time": "2023-05-16T17:47:39.196Z"
   },
   {
    "duration": 333,
    "start_time": "2023-05-16T17:47:39.521Z"
   },
   {
    "duration": 241,
    "start_time": "2023-05-16T17:47:39.855Z"
   },
   {
    "duration": 420,
    "start_time": "2023-05-16T17:47:40.097Z"
   },
   {
    "duration": 279,
    "start_time": "2023-05-16T17:47:40.519Z"
   },
   {
    "duration": 355,
    "start_time": "2023-05-16T17:47:40.800Z"
   },
   {
    "duration": 205,
    "start_time": "2023-05-16T17:47:41.156Z"
   },
   {
    "duration": 5,
    "start_time": "2023-05-16T17:47:41.363Z"
   },
   {
    "duration": 210,
    "start_time": "2023-05-16T17:47:41.370Z"
   },
   {
    "duration": 8,
    "start_time": "2023-05-16T17:47:41.582Z"
   },
   {
    "duration": 232,
    "start_time": "2023-05-16T17:47:41.592Z"
   },
   {
    "duration": 119,
    "start_time": "2023-05-16T17:47:41.826Z"
   },
   {
    "duration": 12,
    "start_time": "2023-05-16T17:47:41.947Z"
   },
   {
    "duration": 27,
    "start_time": "2023-05-16T17:47:41.961Z"
   },
   {
    "duration": 28,
    "start_time": "2023-05-16T17:47:41.990Z"
   },
   {
    "duration": 14,
    "start_time": "2023-05-16T17:47:42.021Z"
   },
   {
    "duration": 15,
    "start_time": "2023-05-16T17:51:51.320Z"
   },
   {
    "duration": 15,
    "start_time": "2023-05-16T17:55:38.887Z"
   },
   {
    "duration": 16,
    "start_time": "2023-05-16T17:55:56.014Z"
   },
   {
    "duration": 4,
    "start_time": "2023-05-16T18:01:36.718Z"
   },
   {
    "duration": 6,
    "start_time": "2023-05-16T18:01:50.127Z"
   },
   {
    "duration": 152,
    "start_time": "2023-05-16T18:10:39.777Z"
   },
   {
    "duration": 6,
    "start_time": "2023-05-16T18:10:51.006Z"
   },
   {
    "duration": 11,
    "start_time": "2023-05-16T18:23:57.500Z"
   },
   {
    "duration": 10,
    "start_time": "2023-05-16T18:24:53.193Z"
   },
   {
    "duration": 8,
    "start_time": "2023-05-16T18:25:09.423Z"
   },
   {
    "duration": 8,
    "start_time": "2023-05-16T18:25:19.347Z"
   },
   {
    "duration": 15,
    "start_time": "2023-05-16T18:31:53.442Z"
   },
   {
    "duration": 7,
    "start_time": "2023-05-16T18:31:59.709Z"
   },
   {
    "duration": 12,
    "start_time": "2023-05-16T18:32:10.104Z"
   },
   {
    "duration": 15,
    "start_time": "2023-05-16T18:39:43.400Z"
   },
   {
    "duration": 18,
    "start_time": "2023-05-16T18:39:54.441Z"
   },
   {
    "duration": 6,
    "start_time": "2023-05-16T18:40:18.913Z"
   },
   {
    "duration": 12,
    "start_time": "2023-05-16T18:40:26.343Z"
   },
   {
    "duration": 17,
    "start_time": "2023-05-16T18:40:59.747Z"
   },
   {
    "duration": 24,
    "start_time": "2023-05-16T18:41:07.720Z"
   },
   {
    "duration": 15,
    "start_time": "2023-05-16T18:41:14.386Z"
   },
   {
    "duration": 8,
    "start_time": "2023-05-16T18:41:56.816Z"
   },
   {
    "duration": 21,
    "start_time": "2023-05-16T18:42:21.209Z"
   },
   {
    "duration": 8,
    "start_time": "2023-05-16T18:42:46.340Z"
   },
   {
    "duration": 15,
    "start_time": "2023-05-16T18:42:50.251Z"
   },
   {
    "duration": 14,
    "start_time": "2023-05-16T18:53:19.635Z"
   },
   {
    "duration": 14,
    "start_time": "2023-05-16T18:53:32.644Z"
   },
   {
    "duration": 14,
    "start_time": "2023-05-16T18:56:49.310Z"
   },
   {
    "duration": 15,
    "start_time": "2023-05-16T18:59:35.718Z"
   },
   {
    "duration": 12,
    "start_time": "2023-05-16T19:04:48.602Z"
   },
   {
    "duration": 15,
    "start_time": "2023-05-16T19:04:56.344Z"
   },
   {
    "duration": 18,
    "start_time": "2023-05-16T19:05:28.038Z"
   },
   {
    "duration": 26,
    "start_time": "2023-05-16T19:05:51.681Z"
   },
   {
    "duration": 24,
    "start_time": "2023-05-16T19:06:32.720Z"
   },
   {
    "duration": 15,
    "start_time": "2023-05-16T19:06:57.817Z"
   },
   {
    "duration": 42,
    "start_time": "2023-05-16T19:12:27.377Z"
   },
   {
    "duration": 10,
    "start_time": "2023-05-16T19:17:45.488Z"
   },
   {
    "duration": 11,
    "start_time": "2023-05-16T19:18:02.635Z"
   },
   {
    "duration": 16,
    "start_time": "2023-05-16T19:25:46.394Z"
   },
   {
    "duration": 19,
    "start_time": "2023-05-16T19:25:54.769Z"
   },
   {
    "duration": 26,
    "start_time": "2023-05-16T19:26:39.935Z"
   },
   {
    "duration": 20,
    "start_time": "2023-05-16T19:26:48.911Z"
   },
   {
    "duration": 34,
    "start_time": "2023-05-16T19:27:14.508Z"
   },
   {
    "duration": 15,
    "start_time": "2023-05-16T19:27:28.539Z"
   },
   {
    "duration": 18,
    "start_time": "2023-05-16T19:29:00.103Z"
   },
   {
    "duration": 11,
    "start_time": "2023-05-16T19:29:13.888Z"
   },
   {
    "duration": 10,
    "start_time": "2023-05-16T19:29:19.801Z"
   },
   {
    "duration": 9,
    "start_time": "2023-05-16T19:29:38.981Z"
   },
   {
    "duration": 12,
    "start_time": "2023-05-16T19:30:47.455Z"
   },
   {
    "duration": 10,
    "start_time": "2023-05-16T19:32:07.317Z"
   },
   {
    "duration": 11,
    "start_time": "2023-05-16T19:49:50.031Z"
   },
   {
    "duration": 12,
    "start_time": "2023-05-16T19:49:57.844Z"
   },
   {
    "duration": 16,
    "start_time": "2023-05-16T19:53:53.520Z"
   },
   {
    "duration": 10,
    "start_time": "2023-05-16T20:02:47.760Z"
   },
   {
    "duration": 22,
    "start_time": "2023-05-16T20:03:01.661Z"
   },
   {
    "duration": 13,
    "start_time": "2023-05-16T20:03:39.540Z"
   },
   {
    "duration": 21,
    "start_time": "2023-05-16T20:05:38.921Z"
   },
   {
    "duration": 8,
    "start_time": "2023-05-16T20:39:24.022Z"
   },
   {
    "duration": 24,
    "start_time": "2023-05-16T20:39:33.517Z"
   },
   {
    "duration": 1240,
    "start_time": "2023-05-16T20:40:13.905Z"
   },
   {
    "duration": 33,
    "start_time": "2023-05-16T20:40:15.147Z"
   },
   {
    "duration": 29,
    "start_time": "2023-05-16T20:40:15.182Z"
   },
   {
    "duration": 7,
    "start_time": "2023-05-16T20:40:15.213Z"
   },
   {
    "duration": 12,
    "start_time": "2023-05-16T20:40:15.222Z"
   },
   {
    "duration": 16,
    "start_time": "2023-05-16T20:40:15.236Z"
   },
   {
    "duration": 36,
    "start_time": "2023-05-16T20:40:15.254Z"
   },
   {
    "duration": 13,
    "start_time": "2023-05-16T20:40:15.293Z"
   },
   {
    "duration": 14,
    "start_time": "2023-05-16T20:40:15.308Z"
   },
   {
    "duration": 15,
    "start_time": "2023-05-16T20:40:15.326Z"
   },
   {
    "duration": 57,
    "start_time": "2023-05-16T20:40:15.344Z"
   },
   {
    "duration": 15,
    "start_time": "2023-05-16T20:40:15.403Z"
   },
   {
    "duration": 15,
    "start_time": "2023-05-16T20:40:15.420Z"
   },
   {
    "duration": 320,
    "start_time": "2023-05-16T20:40:15.437Z"
   },
   {
    "duration": 331,
    "start_time": "2023-05-16T20:40:15.759Z"
   },
   {
    "duration": 255,
    "start_time": "2023-05-16T20:40:16.091Z"
   },
   {
    "duration": 315,
    "start_time": "2023-05-16T20:40:16.348Z"
   },
   {
    "duration": 255,
    "start_time": "2023-05-16T20:40:16.665Z"
   },
   {
    "duration": 312,
    "start_time": "2023-05-16T20:40:16.921Z"
   },
   {
    "duration": 205,
    "start_time": "2023-05-16T20:40:17.235Z"
   },
   {
    "duration": 6,
    "start_time": "2023-05-16T20:40:17.441Z"
   },
   {
    "duration": 205,
    "start_time": "2023-05-16T20:40:17.449Z"
   },
   {
    "duration": 6,
    "start_time": "2023-05-16T20:40:17.656Z"
   },
   {
    "duration": 252,
    "start_time": "2023-05-16T20:40:17.664Z"
   },
   {
    "duration": 114,
    "start_time": "2023-05-16T20:40:17.917Z"
   },
   {
    "duration": 10,
    "start_time": "2023-05-16T20:40:18.033Z"
   },
   {
    "duration": 26,
    "start_time": "2023-05-16T20:40:18.045Z"
   },
   {
    "duration": 55,
    "start_time": "2023-05-16T20:40:18.073Z"
   },
   {
    "duration": 38,
    "start_time": "2023-05-16T20:40:18.130Z"
   },
   {
    "duration": 114,
    "start_time": "2023-05-16T20:42:30.820Z"
   },
   {
    "duration": 13,
    "start_time": "2023-05-16T20:42:35.409Z"
   },
   {
    "duration": 13,
    "start_time": "2023-05-16T20:42:44.652Z"
   },
   {
    "duration": 1238,
    "start_time": "2023-05-16T20:43:16.724Z"
   },
   {
    "duration": 38,
    "start_time": "2023-05-16T20:43:17.964Z"
   },
   {
    "duration": 26,
    "start_time": "2023-05-16T20:43:18.004Z"
   },
   {
    "duration": 8,
    "start_time": "2023-05-16T20:43:18.032Z"
   },
   {
    "duration": 36,
    "start_time": "2023-05-16T20:43:18.043Z"
   },
   {
    "duration": 15,
    "start_time": "2023-05-16T20:43:18.089Z"
   },
   {
    "duration": 11,
    "start_time": "2023-05-16T20:43:18.105Z"
   },
   {
    "duration": 34,
    "start_time": "2023-05-16T20:43:18.118Z"
   },
   {
    "duration": 15,
    "start_time": "2023-05-16T20:43:18.154Z"
   },
   {
    "duration": 36,
    "start_time": "2023-05-16T20:43:18.172Z"
   },
   {
    "duration": 15,
    "start_time": "2023-05-16T20:43:18.210Z"
   },
   {
    "duration": 13,
    "start_time": "2023-05-16T20:43:18.227Z"
   },
   {
    "duration": 14,
    "start_time": "2023-05-16T20:43:18.242Z"
   },
   {
    "duration": 324,
    "start_time": "2023-05-16T20:43:18.258Z"
   },
   {
    "duration": 310,
    "start_time": "2023-05-16T20:43:18.599Z"
   },
   {
    "duration": 270,
    "start_time": "2023-05-16T20:43:18.911Z"
   },
   {
    "duration": 339,
    "start_time": "2023-05-16T20:43:19.187Z"
   },
   {
    "duration": 263,
    "start_time": "2023-05-16T20:43:19.528Z"
   },
   {
    "duration": 331,
    "start_time": "2023-05-16T20:43:19.792Z"
   },
   {
    "duration": 224,
    "start_time": "2023-05-16T20:43:20.125Z"
   },
   {
    "duration": 7,
    "start_time": "2023-05-16T20:43:20.351Z"
   },
   {
    "duration": 219,
    "start_time": "2023-05-16T20:43:20.360Z"
   },
   {
    "duration": 10,
    "start_time": "2023-05-16T20:43:20.581Z"
   },
   {
    "duration": 275,
    "start_time": "2023-05-16T20:43:20.593Z"
   },
   {
    "duration": 112,
    "start_time": "2023-05-16T20:43:20.870Z"
   },
   {
    "duration": 13,
    "start_time": "2023-05-16T20:43:20.983Z"
   },
   {
    "duration": 9,
    "start_time": "2023-05-16T20:43:20.998Z"
   },
   {
    "duration": 35,
    "start_time": "2023-05-16T20:43:21.011Z"
   },
   {
    "duration": 39,
    "start_time": "2023-05-16T20:43:21.048Z"
   },
   {
    "duration": 15,
    "start_time": "2023-05-16T20:44:16.458Z"
   },
   {
    "duration": 18,
    "start_time": "2023-05-16T21:03:00.441Z"
   },
   {
    "duration": 1272,
    "start_time": "2023-05-16T21:04:21.588Z"
   },
   {
    "duration": 41,
    "start_time": "2023-05-16T21:04:22.863Z"
   },
   {
    "duration": 22,
    "start_time": "2023-05-16T21:04:22.906Z"
   },
   {
    "duration": 6,
    "start_time": "2023-05-16T21:04:22.930Z"
   },
   {
    "duration": 17,
    "start_time": "2023-05-16T21:04:22.938Z"
   },
   {
    "duration": 39,
    "start_time": "2023-05-16T21:04:22.957Z"
   },
   {
    "duration": 6,
    "start_time": "2023-05-16T21:04:22.998Z"
   },
   {
    "duration": 17,
    "start_time": "2023-05-16T21:04:23.005Z"
   },
   {
    "duration": 17,
    "start_time": "2023-05-16T21:04:23.024Z"
   },
   {
    "duration": 48,
    "start_time": "2023-05-16T21:04:23.044Z"
   },
   {
    "duration": 19,
    "start_time": "2023-05-16T21:04:23.094Z"
   },
   {
    "duration": 15,
    "start_time": "2023-05-16T21:04:23.116Z"
   },
   {
    "duration": 314,
    "start_time": "2023-05-16T21:04:23.133Z"
   },
   {
    "duration": 342,
    "start_time": "2023-05-16T21:04:23.449Z"
   },
   {
    "duration": 262,
    "start_time": "2023-05-16T21:04:23.792Z"
   },
   {
    "duration": 363,
    "start_time": "2023-05-16T21:04:24.056Z"
   },
   {
    "duration": 275,
    "start_time": "2023-05-16T21:04:24.421Z"
   },
   {
    "duration": 346,
    "start_time": "2023-05-16T21:04:24.698Z"
   },
   {
    "duration": 194,
    "start_time": "2023-05-16T21:04:25.046Z"
   },
   {
    "duration": 5,
    "start_time": "2023-05-16T21:04:25.242Z"
   },
   {
    "duration": 219,
    "start_time": "2023-05-16T21:04:25.248Z"
   },
   {
    "duration": 6,
    "start_time": "2023-05-16T21:04:25.468Z"
   },
   {
    "duration": 243,
    "start_time": "2023-05-16T21:04:25.488Z"
   },
   {
    "duration": 114,
    "start_time": "2023-05-16T21:04:25.733Z"
   },
   {
    "duration": 12,
    "start_time": "2023-05-16T21:04:25.849Z"
   },
   {
    "duration": 30,
    "start_time": "2023-05-16T21:04:25.863Z"
   },
   {
    "duration": 29,
    "start_time": "2023-05-16T21:04:25.895Z"
   },
   {
    "duration": 13,
    "start_time": "2023-05-16T21:04:25.927Z"
   },
   {
    "duration": 104,
    "start_time": "2023-05-16T21:11:21.378Z"
   },
   {
    "duration": 123,
    "start_time": "2023-05-16T21:11:33.686Z"
   },
   {
    "duration": 147,
    "start_time": "2023-05-16T21:13:50.206Z"
   },
   {
    "duration": 116,
    "start_time": "2023-05-16T21:13:58.089Z"
   },
   {
    "duration": 109,
    "start_time": "2023-05-16T21:14:05.373Z"
   },
   {
    "duration": 10,
    "start_time": "2023-05-16T21:14:36.598Z"
   },
   {
    "duration": 11,
    "start_time": "2023-05-16T21:16:19.991Z"
   },
   {
    "duration": 11,
    "start_time": "2023-05-16T21:16:28.105Z"
   },
   {
    "duration": 32,
    "start_time": "2023-05-16T21:20:02.127Z"
   },
   {
    "duration": 17,
    "start_time": "2023-05-16T21:20:59.721Z"
   },
   {
    "duration": 4,
    "start_time": "2023-05-16T21:30:55.112Z"
   },
   {
    "duration": 123,
    "start_time": "2023-05-16T21:31:21.220Z"
   },
   {
    "duration": 5,
    "start_time": "2023-05-16T21:32:07.711Z"
   },
   {
    "duration": 1433,
    "start_time": "2023-05-16T21:33:33.577Z"
   },
   {
    "duration": 45,
    "start_time": "2023-05-16T21:33:35.014Z"
   },
   {
    "duration": 37,
    "start_time": "2023-05-16T21:33:35.061Z"
   },
   {
    "duration": 12,
    "start_time": "2023-05-16T21:33:35.101Z"
   },
   {
    "duration": 25,
    "start_time": "2023-05-16T21:33:35.116Z"
   },
   {
    "duration": 21,
    "start_time": "2023-05-16T21:33:35.144Z"
   },
   {
    "duration": 10,
    "start_time": "2023-05-16T21:33:35.188Z"
   },
   {
    "duration": 14,
    "start_time": "2023-05-16T21:33:35.203Z"
   },
   {
    "duration": 22,
    "start_time": "2023-05-16T21:33:35.219Z"
   },
   {
    "duration": 45,
    "start_time": "2023-05-16T21:33:35.244Z"
   },
   {
    "duration": 18,
    "start_time": "2023-05-16T21:33:35.298Z"
   },
   {
    "duration": 19,
    "start_time": "2023-05-16T21:33:35.318Z"
   },
   {
    "duration": 411,
    "start_time": "2023-05-16T21:33:35.340Z"
   },
   {
    "duration": 465,
    "start_time": "2023-05-16T21:33:35.754Z"
   },
   {
    "duration": 316,
    "start_time": "2023-05-16T21:33:36.221Z"
   },
   {
    "duration": 383,
    "start_time": "2023-05-16T21:33:36.539Z"
   },
   {
    "duration": 307,
    "start_time": "2023-05-16T21:33:36.924Z"
   },
   {
    "duration": 451,
    "start_time": "2023-05-16T21:33:37.234Z"
   },
   {
    "duration": 281,
    "start_time": "2023-05-16T21:33:37.688Z"
   },
   {
    "duration": 19,
    "start_time": "2023-05-16T21:33:37.972Z"
   },
   {
    "duration": 264,
    "start_time": "2023-05-16T21:33:37.993Z"
   },
   {
    "duration": 6,
    "start_time": "2023-05-16T21:33:38.259Z"
   },
   {
    "duration": 11,
    "start_time": "2023-05-16T21:33:38.268Z"
   },
   {
    "duration": 272,
    "start_time": "2023-05-16T21:33:38.292Z"
   },
   {
    "duration": 118,
    "start_time": "2023-05-16T21:33:38.566Z"
   },
   {
    "duration": 21,
    "start_time": "2023-05-16T21:33:38.686Z"
   },
   {
    "duration": 12,
    "start_time": "2023-05-16T21:33:38.713Z"
   },
   {
    "duration": 41,
    "start_time": "2023-05-16T21:33:38.729Z"
   },
   {
    "duration": 40,
    "start_time": "2023-05-16T21:33:38.772Z"
   },
   {
    "duration": 4,
    "start_time": "2023-05-16T21:37:06.457Z"
   },
   {
    "duration": 4,
    "start_time": "2023-05-16T21:37:17.141Z"
   },
   {
    "duration": 12,
    "start_time": "2023-05-16T21:37:45.296Z"
   }
  ],
  "kernelspec": {
   "display_name": "Python 3 (ipykernel)",
   "language": "python",
   "name": "python3"
  },
  "language_info": {
   "codemirror_mode": {
    "name": "ipython",
    "version": 3
   },
   "file_extension": ".py",
   "mimetype": "text/x-python",
   "name": "python",
   "nbconvert_exporter": "python",
   "pygments_lexer": "ipython3",
   "version": "3.10.9"
  },
  "toc": {
   "base_numbering": 1,
   "nav_menu": {},
   "number_sections": true,
   "sideBar": true,
   "skip_h1_title": true,
   "title_cell": "Table of Contents",
   "title_sidebar": "Contents",
   "toc_cell": false,
   "toc_position": {},
   "toc_section_display": true,
   "toc_window_display": false
  }
 },
 "nbformat": 4,
 "nbformat_minor": 2
}
