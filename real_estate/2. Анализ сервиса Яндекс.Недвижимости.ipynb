{
 "cells": [
  {
   "cell_type": "markdown",
   "metadata": {},
   "source": [
    "# Исследование объявлений о продаже квартир\n",
    "\n",
    "В вашем распоряжении данные сервиса Яндекс.Недвижимость — архив объявлений о продаже квартир в Санкт-Петербурге и соседних населённых пунктов за несколько лет. Нужно научиться определять рыночную стоимость объектов недвижимости. Ваша задача — установить параметры. Это позволит построить автоматизированную систему: она отследит аномалии и мошенническую деятельность. \n",
    "\n",
    "По каждой квартире на продажу доступны два вида данных. Первые вписаны пользователем, вторые — получены автоматически на основе картографических данных. Например, расстояние до центра, аэропорта, ближайшего парка и водоёма. "
   ]
  },
  {
   "cell_type": "markdown",
   "metadata": {},
   "source": [
    "### План работы:\n",
    "   1. знакомство с данными\n",
    "   2. выполнить предобработку (определить пропуски и заполнить их, преобразовать данные, устранить явные и неявные дубликаты)\n",
    "   3. добавить новые столбцы (цена 1 кв.м., день недели,  месяц и год публикации, тип этажа, расстояние до центра (км)\n",
    "   4. провести исследовательский анализ (Изучить параметры объектов, как быстро продавались квартиры, какие факторы влияют на стоитмость квартиры, вычислить цену квадратного метра, определить цену каждого км)\n",
    "   5. сформулировать общий вывод\n",
    "   "
   ]
  },
  {
   "cell_type": "markdown",
   "metadata": {},
   "source": [
    "### Описание данных:\n",
    "\n",
    "- `airports_nearest` — расстояние до ближайшего аэропорта в метрах (м)\n",
    "- `balcony` — число балконов\n",
    "- `ceiling_height` — высота потолков (м)\n",
    "- `cityCenters_nearest` — расстояние до центра города (м)\n",
    "- `days_exposition` — сколько дней было размещено объявление (от публикации до снятия)\n",
    "- `first_day_exposition` — дата публикации\n",
    "- `floor` — этаж\n",
    "- `floors_total` — всего этажей в доме\n",
    "- `is_apartment` — апартаменты (булев тип)\n",
    "- `kitchen_area` — площадь кухни в квадратных метрах (м²)\n",
    "- `last_price` — цена на момент снятия с публикации\n",
    "- `living_area` — жилая площадь в квадратных метрах (м²)\n",
    "- `locality_name` — название населённого пункта\n",
    "- `open_plan` — свободная планировка (булев тип)\n",
    "- `parks_around3000` — число парков в радиусе 3 км\n",
    "- `parks_nearest` — расстояние до ближайшего парка (м)\n",
    "- `ponds_around3000` — число водоёмов в радиусе 3 км\n",
    "- `ponds_nearest` — расстояние до ближайшего водоёма (м)\n",
    "- `rooms` — число комнат\n",
    "- `studio` — квартира-студия (булев тип)\n",
    "- `total_area` — общая площадь квартиры в квадратных метрах (м²)\n",
    "- `total_images` — число фотографий квартиры в объявлении"
   ]
  },
  {
   "cell_type": "markdown",
   "metadata": {},
   "source": [
    "# Знакомство"
   ]
  },
  {
   "cell_type": "code",
   "execution_count": 53,
   "metadata": {},
   "outputs": [],
   "source": [
    "import matplotlib.pyplot as plt\n",
    "import pandas as pd\n",
    "import seaborn as sns"
   ]
  },
  {
   "cell_type": "code",
   "execution_count": 2,
   "metadata": {},
   "outputs": [],
   "source": [
    "try:\n",
    "    data = pd.read_csv('/datasets/real_estate_data.csv', sep='\\t')\n",
    "except:\n",
    "    data = pd.read_csv('https://code.s3.yandex.net/datasets/real_estate_data.csv', sep='\\t')"
   ]
  },
  {
   "cell_type": "code",
   "execution_count": 3,
   "metadata": {},
   "outputs": [
    {
     "data": {
      "text/html": [
       "<div>\n",
       "<style scoped>\n",
       "    .dataframe tbody tr th:only-of-type {\n",
       "        vertical-align: middle;\n",
       "    }\n",
       "\n",
       "    .dataframe tbody tr th {\n",
       "        vertical-align: top;\n",
       "    }\n",
       "\n",
       "    .dataframe thead th {\n",
       "        text-align: right;\n",
       "    }\n",
       "</style>\n",
       "<table border=\"1\" class=\"dataframe\">\n",
       "  <thead>\n",
       "    <tr style=\"text-align: right;\">\n",
       "      <th></th>\n",
       "      <th>total_images</th>\n",
       "      <th>last_price</th>\n",
       "      <th>total_area</th>\n",
       "      <th>first_day_exposition</th>\n",
       "      <th>rooms</th>\n",
       "      <th>ceiling_height</th>\n",
       "      <th>floors_total</th>\n",
       "      <th>living_area</th>\n",
       "      <th>floor</th>\n",
       "      <th>is_apartment</th>\n",
       "      <th>...</th>\n",
       "      <th>kitchen_area</th>\n",
       "      <th>balcony</th>\n",
       "      <th>locality_name</th>\n",
       "      <th>airports_nearest</th>\n",
       "      <th>cityCenters_nearest</th>\n",
       "      <th>parks_around3000</th>\n",
       "      <th>parks_nearest</th>\n",
       "      <th>ponds_around3000</th>\n",
       "      <th>ponds_nearest</th>\n",
       "      <th>days_exposition</th>\n",
       "    </tr>\n",
       "  </thead>\n",
       "  <tbody>\n",
       "    <tr>\n",
       "      <th>0</th>\n",
       "      <td>20</td>\n",
       "      <td>13000000.0</td>\n",
       "      <td>108.0</td>\n",
       "      <td>2019-03-07T00:00:00</td>\n",
       "      <td>3</td>\n",
       "      <td>2.70</td>\n",
       "      <td>16.0</td>\n",
       "      <td>51.0</td>\n",
       "      <td>8</td>\n",
       "      <td>NaN</td>\n",
       "      <td>...</td>\n",
       "      <td>25.0</td>\n",
       "      <td>NaN</td>\n",
       "      <td>Санкт-Петербург</td>\n",
       "      <td>18863.0</td>\n",
       "      <td>16028.0</td>\n",
       "      <td>1.0</td>\n",
       "      <td>482.0</td>\n",
       "      <td>2.0</td>\n",
       "      <td>755.0</td>\n",
       "      <td>NaN</td>\n",
       "    </tr>\n",
       "    <tr>\n",
       "      <th>1</th>\n",
       "      <td>7</td>\n",
       "      <td>3350000.0</td>\n",
       "      <td>40.4</td>\n",
       "      <td>2018-12-04T00:00:00</td>\n",
       "      <td>1</td>\n",
       "      <td>NaN</td>\n",
       "      <td>11.0</td>\n",
       "      <td>18.6</td>\n",
       "      <td>1</td>\n",
       "      <td>NaN</td>\n",
       "      <td>...</td>\n",
       "      <td>11.0</td>\n",
       "      <td>2.0</td>\n",
       "      <td>посёлок Шушары</td>\n",
       "      <td>12817.0</td>\n",
       "      <td>18603.0</td>\n",
       "      <td>0.0</td>\n",
       "      <td>NaN</td>\n",
       "      <td>0.0</td>\n",
       "      <td>NaN</td>\n",
       "      <td>81.0</td>\n",
       "    </tr>\n",
       "    <tr>\n",
       "      <th>2</th>\n",
       "      <td>10</td>\n",
       "      <td>5196000.0</td>\n",
       "      <td>56.0</td>\n",
       "      <td>2015-08-20T00:00:00</td>\n",
       "      <td>2</td>\n",
       "      <td>NaN</td>\n",
       "      <td>5.0</td>\n",
       "      <td>34.3</td>\n",
       "      <td>4</td>\n",
       "      <td>NaN</td>\n",
       "      <td>...</td>\n",
       "      <td>8.3</td>\n",
       "      <td>0.0</td>\n",
       "      <td>Санкт-Петербург</td>\n",
       "      <td>21741.0</td>\n",
       "      <td>13933.0</td>\n",
       "      <td>1.0</td>\n",
       "      <td>90.0</td>\n",
       "      <td>2.0</td>\n",
       "      <td>574.0</td>\n",
       "      <td>558.0</td>\n",
       "    </tr>\n",
       "    <tr>\n",
       "      <th>3</th>\n",
       "      <td>0</td>\n",
       "      <td>64900000.0</td>\n",
       "      <td>159.0</td>\n",
       "      <td>2015-07-24T00:00:00</td>\n",
       "      <td>3</td>\n",
       "      <td>NaN</td>\n",
       "      <td>14.0</td>\n",
       "      <td>NaN</td>\n",
       "      <td>9</td>\n",
       "      <td>NaN</td>\n",
       "      <td>...</td>\n",
       "      <td>NaN</td>\n",
       "      <td>0.0</td>\n",
       "      <td>Санкт-Петербург</td>\n",
       "      <td>28098.0</td>\n",
       "      <td>6800.0</td>\n",
       "      <td>2.0</td>\n",
       "      <td>84.0</td>\n",
       "      <td>3.0</td>\n",
       "      <td>234.0</td>\n",
       "      <td>424.0</td>\n",
       "    </tr>\n",
       "    <tr>\n",
       "      <th>4</th>\n",
       "      <td>2</td>\n",
       "      <td>10000000.0</td>\n",
       "      <td>100.0</td>\n",
       "      <td>2018-06-19T00:00:00</td>\n",
       "      <td>2</td>\n",
       "      <td>3.03</td>\n",
       "      <td>14.0</td>\n",
       "      <td>32.0</td>\n",
       "      <td>13</td>\n",
       "      <td>NaN</td>\n",
       "      <td>...</td>\n",
       "      <td>41.0</td>\n",
       "      <td>NaN</td>\n",
       "      <td>Санкт-Петербург</td>\n",
       "      <td>31856.0</td>\n",
       "      <td>8098.0</td>\n",
       "      <td>2.0</td>\n",
       "      <td>112.0</td>\n",
       "      <td>1.0</td>\n",
       "      <td>48.0</td>\n",
       "      <td>121.0</td>\n",
       "    </tr>\n",
       "  </tbody>\n",
       "</table>\n",
       "<p>5 rows × 22 columns</p>\n",
       "</div>"
      ],
      "text/plain": [
       "   total_images  last_price  total_area first_day_exposition  rooms  \\\n",
       "0            20  13000000.0       108.0  2019-03-07T00:00:00      3   \n",
       "1             7   3350000.0        40.4  2018-12-04T00:00:00      1   \n",
       "2            10   5196000.0        56.0  2015-08-20T00:00:00      2   \n",
       "3             0  64900000.0       159.0  2015-07-24T00:00:00      3   \n",
       "4             2  10000000.0       100.0  2018-06-19T00:00:00      2   \n",
       "\n",
       "   ceiling_height  floors_total  living_area  floor is_apartment  ...  \\\n",
       "0            2.70          16.0         51.0      8          NaN  ...   \n",
       "1             NaN          11.0         18.6      1          NaN  ...   \n",
       "2             NaN           5.0         34.3      4          NaN  ...   \n",
       "3             NaN          14.0          NaN      9          NaN  ...   \n",
       "4            3.03          14.0         32.0     13          NaN  ...   \n",
       "\n",
       "   kitchen_area  balcony    locality_name  airports_nearest  \\\n",
       "0          25.0      NaN  Санкт-Петербург           18863.0   \n",
       "1          11.0      2.0   посёлок Шушары           12817.0   \n",
       "2           8.3      0.0  Санкт-Петербург           21741.0   \n",
       "3           NaN      0.0  Санкт-Петербург           28098.0   \n",
       "4          41.0      NaN  Санкт-Петербург           31856.0   \n",
       "\n",
       "  cityCenters_nearest  parks_around3000  parks_nearest  ponds_around3000  \\\n",
       "0             16028.0               1.0          482.0               2.0   \n",
       "1             18603.0               0.0            NaN               0.0   \n",
       "2             13933.0               1.0           90.0               2.0   \n",
       "3              6800.0               2.0           84.0               3.0   \n",
       "4              8098.0               2.0          112.0               1.0   \n",
       "\n",
       "   ponds_nearest  days_exposition  \n",
       "0          755.0              NaN  \n",
       "1            NaN             81.0  \n",
       "2          574.0            558.0  \n",
       "3          234.0            424.0  \n",
       "4           48.0            121.0  \n",
       "\n",
       "[5 rows x 22 columns]"
      ]
     },
     "execution_count": 3,
     "metadata": {},
     "output_type": "execute_result"
    }
   ],
   "source": [
    "data.head()"
   ]
  },
  {
   "cell_type": "code",
   "execution_count": 4,
   "metadata": {},
   "outputs": [
    {
     "name": "stdout",
     "output_type": "stream",
     "text": [
      "<class 'pandas.core.frame.DataFrame'>\n",
      "RangeIndex: 23699 entries, 0 to 23698\n",
      "Data columns (total 22 columns):\n",
      " #   Column                Non-Null Count  Dtype  \n",
      "---  ------                --------------  -----  \n",
      " 0   total_images          23699 non-null  int64  \n",
      " 1   last_price            23699 non-null  float64\n",
      " 2   total_area            23699 non-null  float64\n",
      " 3   first_day_exposition  23699 non-null  object \n",
      " 4   rooms                 23699 non-null  int64  \n",
      " 5   ceiling_height        14504 non-null  float64\n",
      " 6   floors_total          23613 non-null  float64\n",
      " 7   living_area           21796 non-null  float64\n",
      " 8   floor                 23699 non-null  int64  \n",
      " 9   is_apartment          2775 non-null   object \n",
      " 10  studio                23699 non-null  bool   \n",
      " 11  open_plan             23699 non-null  bool   \n",
      " 12  kitchen_area          21421 non-null  float64\n",
      " 13  balcony               12180 non-null  float64\n",
      " 14  locality_name         23650 non-null  object \n",
      " 15  airports_nearest      18157 non-null  float64\n",
      " 16  cityCenters_nearest   18180 non-null  float64\n",
      " 17  parks_around3000      18181 non-null  float64\n",
      " 18  parks_nearest         8079 non-null   float64\n",
      " 19  ponds_around3000      18181 non-null  float64\n",
      " 20  ponds_nearest         9110 non-null   float64\n",
      " 21  days_exposition       20518 non-null  float64\n",
      "dtypes: bool(2), float64(14), int64(3), object(3)\n",
      "memory usage: 3.7+ MB\n"
     ]
    }
   ],
   "source": [
    "data.info()"
   ]
  },
  {
   "cell_type": "code",
   "execution_count": 5,
   "metadata": {},
   "outputs": [
    {
     "data": {
      "text/html": [
       "<div>\n",
       "<style scoped>\n",
       "    .dataframe tbody tr th:only-of-type {\n",
       "        vertical-align: middle;\n",
       "    }\n",
       "\n",
       "    .dataframe tbody tr th {\n",
       "        vertical-align: top;\n",
       "    }\n",
       "\n",
       "    .dataframe thead th {\n",
       "        text-align: right;\n",
       "    }\n",
       "</style>\n",
       "<table border=\"1\" class=\"dataframe\">\n",
       "  <thead>\n",
       "    <tr style=\"text-align: right;\">\n",
       "      <th></th>\n",
       "      <th>total_images</th>\n",
       "      <th>last_price</th>\n",
       "      <th>total_area</th>\n",
       "      <th>rooms</th>\n",
       "      <th>ceiling_height</th>\n",
       "      <th>floors_total</th>\n",
       "      <th>living_area</th>\n",
       "      <th>floor</th>\n",
       "      <th>kitchen_area</th>\n",
       "      <th>balcony</th>\n",
       "      <th>airports_nearest</th>\n",
       "      <th>cityCenters_nearest</th>\n",
       "      <th>parks_around3000</th>\n",
       "      <th>parks_nearest</th>\n",
       "      <th>ponds_around3000</th>\n",
       "      <th>ponds_nearest</th>\n",
       "      <th>days_exposition</th>\n",
       "    </tr>\n",
       "  </thead>\n",
       "  <tbody>\n",
       "    <tr>\n",
       "      <th>count</th>\n",
       "      <td>23699.000000</td>\n",
       "      <td>2.369900e+04</td>\n",
       "      <td>23699.000000</td>\n",
       "      <td>23699.000000</td>\n",
       "      <td>14504.000000</td>\n",
       "      <td>23613.000000</td>\n",
       "      <td>21796.000000</td>\n",
       "      <td>23699.000000</td>\n",
       "      <td>21421.000000</td>\n",
       "      <td>12180.000000</td>\n",
       "      <td>18157.000000</td>\n",
       "      <td>18180.000000</td>\n",
       "      <td>18181.000000</td>\n",
       "      <td>8079.000000</td>\n",
       "      <td>18181.000000</td>\n",
       "      <td>9110.000000</td>\n",
       "      <td>20518.000000</td>\n",
       "    </tr>\n",
       "    <tr>\n",
       "      <th>mean</th>\n",
       "      <td>9.858475</td>\n",
       "      <td>6.541549e+06</td>\n",
       "      <td>60.348651</td>\n",
       "      <td>2.070636</td>\n",
       "      <td>2.771499</td>\n",
       "      <td>10.673824</td>\n",
       "      <td>34.457852</td>\n",
       "      <td>5.892358</td>\n",
       "      <td>10.569807</td>\n",
       "      <td>1.150082</td>\n",
       "      <td>28793.672193</td>\n",
       "      <td>14191.277833</td>\n",
       "      <td>0.611408</td>\n",
       "      <td>490.804555</td>\n",
       "      <td>0.770255</td>\n",
       "      <td>517.980900</td>\n",
       "      <td>180.888634</td>\n",
       "    </tr>\n",
       "    <tr>\n",
       "      <th>std</th>\n",
       "      <td>5.682529</td>\n",
       "      <td>1.088701e+07</td>\n",
       "      <td>35.654083</td>\n",
       "      <td>1.078405</td>\n",
       "      <td>1.261056</td>\n",
       "      <td>6.597173</td>\n",
       "      <td>22.030445</td>\n",
       "      <td>4.885249</td>\n",
       "      <td>5.905438</td>\n",
       "      <td>1.071300</td>\n",
       "      <td>12630.880622</td>\n",
       "      <td>8608.386210</td>\n",
       "      <td>0.802074</td>\n",
       "      <td>342.317995</td>\n",
       "      <td>0.938346</td>\n",
       "      <td>277.720643</td>\n",
       "      <td>219.727988</td>\n",
       "    </tr>\n",
       "    <tr>\n",
       "      <th>min</th>\n",
       "      <td>0.000000</td>\n",
       "      <td>1.219000e+04</td>\n",
       "      <td>12.000000</td>\n",
       "      <td>0.000000</td>\n",
       "      <td>1.000000</td>\n",
       "      <td>1.000000</td>\n",
       "      <td>2.000000</td>\n",
       "      <td>1.000000</td>\n",
       "      <td>1.300000</td>\n",
       "      <td>0.000000</td>\n",
       "      <td>0.000000</td>\n",
       "      <td>181.000000</td>\n",
       "      <td>0.000000</td>\n",
       "      <td>1.000000</td>\n",
       "      <td>0.000000</td>\n",
       "      <td>13.000000</td>\n",
       "      <td>1.000000</td>\n",
       "    </tr>\n",
       "    <tr>\n",
       "      <th>25%</th>\n",
       "      <td>6.000000</td>\n",
       "      <td>3.400000e+06</td>\n",
       "      <td>40.000000</td>\n",
       "      <td>1.000000</td>\n",
       "      <td>2.520000</td>\n",
       "      <td>5.000000</td>\n",
       "      <td>18.600000</td>\n",
       "      <td>2.000000</td>\n",
       "      <td>7.000000</td>\n",
       "      <td>0.000000</td>\n",
       "      <td>18585.000000</td>\n",
       "      <td>9238.000000</td>\n",
       "      <td>0.000000</td>\n",
       "      <td>288.000000</td>\n",
       "      <td>0.000000</td>\n",
       "      <td>294.000000</td>\n",
       "      <td>45.000000</td>\n",
       "    </tr>\n",
       "    <tr>\n",
       "      <th>50%</th>\n",
       "      <td>9.000000</td>\n",
       "      <td>4.650000e+06</td>\n",
       "      <td>52.000000</td>\n",
       "      <td>2.000000</td>\n",
       "      <td>2.650000</td>\n",
       "      <td>9.000000</td>\n",
       "      <td>30.000000</td>\n",
       "      <td>4.000000</td>\n",
       "      <td>9.100000</td>\n",
       "      <td>1.000000</td>\n",
       "      <td>26726.000000</td>\n",
       "      <td>13098.500000</td>\n",
       "      <td>0.000000</td>\n",
       "      <td>455.000000</td>\n",
       "      <td>1.000000</td>\n",
       "      <td>502.000000</td>\n",
       "      <td>95.000000</td>\n",
       "    </tr>\n",
       "    <tr>\n",
       "      <th>75%</th>\n",
       "      <td>14.000000</td>\n",
       "      <td>6.800000e+06</td>\n",
       "      <td>69.900000</td>\n",
       "      <td>3.000000</td>\n",
       "      <td>2.800000</td>\n",
       "      <td>16.000000</td>\n",
       "      <td>42.300000</td>\n",
       "      <td>8.000000</td>\n",
       "      <td>12.000000</td>\n",
       "      <td>2.000000</td>\n",
       "      <td>37273.000000</td>\n",
       "      <td>16293.000000</td>\n",
       "      <td>1.000000</td>\n",
       "      <td>612.000000</td>\n",
       "      <td>1.000000</td>\n",
       "      <td>729.000000</td>\n",
       "      <td>232.000000</td>\n",
       "    </tr>\n",
       "    <tr>\n",
       "      <th>max</th>\n",
       "      <td>50.000000</td>\n",
       "      <td>7.630000e+08</td>\n",
       "      <td>900.000000</td>\n",
       "      <td>19.000000</td>\n",
       "      <td>100.000000</td>\n",
       "      <td>60.000000</td>\n",
       "      <td>409.700000</td>\n",
       "      <td>33.000000</td>\n",
       "      <td>112.000000</td>\n",
       "      <td>5.000000</td>\n",
       "      <td>84869.000000</td>\n",
       "      <td>65968.000000</td>\n",
       "      <td>3.000000</td>\n",
       "      <td>3190.000000</td>\n",
       "      <td>3.000000</td>\n",
       "      <td>1344.000000</td>\n",
       "      <td>1580.000000</td>\n",
       "    </tr>\n",
       "  </tbody>\n",
       "</table>\n",
       "</div>"
      ],
      "text/plain": [
       "       total_images    last_price    total_area         rooms  ceiling_height  \\\n",
       "count  23699.000000  2.369900e+04  23699.000000  23699.000000    14504.000000   \n",
       "mean       9.858475  6.541549e+06     60.348651      2.070636        2.771499   \n",
       "std        5.682529  1.088701e+07     35.654083      1.078405        1.261056   \n",
       "min        0.000000  1.219000e+04     12.000000      0.000000        1.000000   \n",
       "25%        6.000000  3.400000e+06     40.000000      1.000000        2.520000   \n",
       "50%        9.000000  4.650000e+06     52.000000      2.000000        2.650000   \n",
       "75%       14.000000  6.800000e+06     69.900000      3.000000        2.800000   \n",
       "max       50.000000  7.630000e+08    900.000000     19.000000      100.000000   \n",
       "\n",
       "       floors_total   living_area         floor  kitchen_area       balcony  \\\n",
       "count  23613.000000  21796.000000  23699.000000  21421.000000  12180.000000   \n",
       "mean      10.673824     34.457852      5.892358     10.569807      1.150082   \n",
       "std        6.597173     22.030445      4.885249      5.905438      1.071300   \n",
       "min        1.000000      2.000000      1.000000      1.300000      0.000000   \n",
       "25%        5.000000     18.600000      2.000000      7.000000      0.000000   \n",
       "50%        9.000000     30.000000      4.000000      9.100000      1.000000   \n",
       "75%       16.000000     42.300000      8.000000     12.000000      2.000000   \n",
       "max       60.000000    409.700000     33.000000    112.000000      5.000000   \n",
       "\n",
       "       airports_nearest  cityCenters_nearest  parks_around3000  parks_nearest  \\\n",
       "count      18157.000000         18180.000000      18181.000000    8079.000000   \n",
       "mean       28793.672193         14191.277833          0.611408     490.804555   \n",
       "std        12630.880622          8608.386210          0.802074     342.317995   \n",
       "min            0.000000           181.000000          0.000000       1.000000   \n",
       "25%        18585.000000          9238.000000          0.000000     288.000000   \n",
       "50%        26726.000000         13098.500000          0.000000     455.000000   \n",
       "75%        37273.000000         16293.000000          1.000000     612.000000   \n",
       "max        84869.000000         65968.000000          3.000000    3190.000000   \n",
       "\n",
       "       ponds_around3000  ponds_nearest  days_exposition  \n",
       "count      18181.000000    9110.000000     20518.000000  \n",
       "mean           0.770255     517.980900       180.888634  \n",
       "std            0.938346     277.720643       219.727988  \n",
       "min            0.000000      13.000000         1.000000  \n",
       "25%            0.000000     294.000000        45.000000  \n",
       "50%            1.000000     502.000000        95.000000  \n",
       "75%            1.000000     729.000000       232.000000  \n",
       "max            3.000000    1344.000000      1580.000000  "
      ]
     },
     "execution_count": 5,
     "metadata": {},
     "output_type": "execute_result"
    }
   ],
   "source": [
    "data.describe()"
   ]
  },
  {
   "cell_type": "code",
   "execution_count": 6,
   "metadata": {},
   "outputs": [
    {
     "data": {
      "text/plain": [
       "array([[<Axes: title={'center': 'total_images'}>,\n",
       "        <Axes: title={'center': 'last_price'}>,\n",
       "        <Axes: title={'center': 'total_area'}>,\n",
       "        <Axes: title={'center': 'rooms'}>],\n",
       "       [<Axes: title={'center': 'ceiling_height'}>,\n",
       "        <Axes: title={'center': 'floors_total'}>,\n",
       "        <Axes: title={'center': 'living_area'}>,\n",
       "        <Axes: title={'center': 'floor'}>],\n",
       "       [<Axes: title={'center': 'kitchen_area'}>,\n",
       "        <Axes: title={'center': 'balcony'}>,\n",
       "        <Axes: title={'center': 'airports_nearest'}>,\n",
       "        <Axes: title={'center': 'cityCenters_nearest'}>],\n",
       "       [<Axes: title={'center': 'parks_around3000'}>,\n",
       "        <Axes: title={'center': 'parks_nearest'}>,\n",
       "        <Axes: title={'center': 'ponds_around3000'}>,\n",
       "        <Axes: title={'center': 'ponds_nearest'}>],\n",
       "       [<Axes: title={'center': 'days_exposition'}>, <Axes: >, <Axes: >,\n",
       "        <Axes: >]], dtype=object)"
      ]
     },
     "execution_count": 6,
     "metadata": {},
     "output_type": "execute_result"
    },
    {
     "data": {
      "image/png": "[encoded data removed]",
      "text/plain": [
       "<Figure size 1500x2000 with 20 Axes>"
      ]
     },
     "metadata": {},
     "output_type": "display_data"
    }
   ],
   "source": [
    "data.hist(figsize=(15, 20))"
   ]
  },
  {
   "cell_type": "markdown",
   "metadata": {},
   "source": [
    "Вывод: датасет состоит из 23699 строк, имеются пропуски в некоторых столбцах. Построены первые гистограммы для наглядности.\n"
   ]
  },
  {
   "cell_type": "markdown",
   "metadata": {},
   "source": [
    "# Предобработка данных"
   ]
  },
  {
   "cell_type": "markdown",
   "metadata": {},
   "source": [
    "###### Проверим датасет на явные дубликаты и пропуски"
   ]
  },
  {
   "cell_type": "code",
   "execution_count": 7,
   "metadata": {},
   "outputs": [
    {
     "data": {
      "text/plain": [
       "0"
      ]
     },
     "execution_count": 7,
     "metadata": {},
     "output_type": "execute_result"
    }
   ],
   "source": [
    "data.duplicated().sum()"
   ]
  },
  {
   "cell_type": "code",
   "execution_count": 8,
   "metadata": {},
   "outputs": [
    {
     "data": {
      "text/plain": [
       "total_images                0\n",
       "last_price                  0\n",
       "total_area                  0\n",
       "first_day_exposition        0\n",
       "rooms                       0\n",
       "ceiling_height           9195\n",
       "floors_total               86\n",
       "living_area              1903\n",
       "floor                       0\n",
       "is_apartment            20924\n",
       "studio                      0\n",
       "open_plan                   0\n",
       "kitchen_area             2278\n",
       "balcony                 11519\n",
       "locality_name              49\n",
       "airports_nearest         5542\n",
       "cityCenters_nearest      5519\n",
       "parks_around3000         5518\n",
       "parks_nearest           15620\n",
       "ponds_around3000         5518\n",
       "ponds_nearest           14589\n",
       "days_exposition          3181\n",
       "dtype: int64"
      ]
     },
     "execution_count": 8,
     "metadata": {},
     "output_type": "execute_result"
    }
   ],
   "source": [
    "data.isna().sum()"
   ]
  },
  {
   "cell_type": "markdown",
   "metadata": {},
   "source": [
    "###### Проверим уникальные значения в столбце locality_name"
   ]
  },
  {
   "cell_type": "code",
   "execution_count": 9,
   "metadata": {},
   "outputs": [
    {
     "data": {
      "text/plain": [
       "array(['Санкт-Петербург', 'посёлок Шушары', 'городской посёлок Янино-1',\n",
       "       'посёлок Парголово', 'посёлок Мурино', 'Ломоносов', 'Сертолово',\n",
       "       'Петергоф', 'Пушкин', 'деревня Кудрово', 'Коммунар', 'Колпино',\n",
       "       'поселок городского типа Красный Бор', 'Гатчина', 'поселок Мурино',\n",
       "       'деревня Фёдоровское', 'Выборг', 'Кронштадт', 'Кировск',\n",
       "       'деревня Новое Девяткино', 'посёлок Металлострой',\n",
       "       'посёлок городского типа Лебяжье',\n",
       "       'посёлок городского типа Сиверский', 'поселок Молодцово',\n",
       "       'поселок городского типа Кузьмоловский',\n",
       "       'садовое товарищество Новая Ропша', 'Павловск',\n",
       "       'деревня Пикколово', 'Всеволожск', 'Волхов', 'Кингисепп',\n",
       "       'Приозерск', 'Сестрорецк', 'деревня Куттузи', 'посёлок Аннино',\n",
       "       'поселок городского типа Ефимовский', 'посёлок Плодовое',\n",
       "       'деревня Заклинье', 'поселок Торковичи', 'поселок Первомайское',\n",
       "       'Красное Село', 'посёлок Понтонный', 'Сясьстрой', 'деревня Старая',\n",
       "       'деревня Лесколово', 'посёлок Новый Свет', 'Сланцы',\n",
       "       'село Путилово', 'Ивангород', 'Мурино', 'Шлиссельбург',\n",
       "       'Никольское', 'Зеленогорск', 'Сосновый Бор', 'поселок Новый Свет',\n",
       "       'деревня Оржицы', 'деревня Кальтино', 'Кудрово',\n",
       "       'поселок Романовка', 'посёлок Бугры', 'поселок Бугры',\n",
       "       'поселок городского типа Рощино', 'Кириши', 'Луга', 'Волосово',\n",
       "       'Отрадное', 'село Павлово', 'поселок Оредеж', 'село Копорье',\n",
       "       'посёлок городского типа Красный Бор', 'посёлок Молодёжное',\n",
       "       'Тихвин', 'посёлок Победа', 'деревня Нурма',\n",
       "       'поселок городского типа Синявино', 'Тосно',\n",
       "       'посёлок городского типа Кузьмоловский', 'посёлок Стрельна',\n",
       "       'Бокситогорск', 'посёлок Александровская', 'деревня Лопухинка',\n",
       "       'Пикалёво', 'поселок Терволово',\n",
       "       'поселок городского типа Советский', 'Подпорожье',\n",
       "       'посёлок Петровское', 'посёлок городского типа Токсово',\n",
       "       'поселок Сельцо', 'посёлок городского типа Вырица',\n",
       "       'деревня Кипень', 'деревня Келози', 'деревня Вартемяги',\n",
       "       'посёлок Тельмана', 'поселок Севастьяново',\n",
       "       'городской поселок Большая Ижора', nan,\n",
       "       'городской посёлок Павлово', 'деревня Агалатово',\n",
       "       'посёлок Новогорелово', 'городской посёлок Лесогорский',\n",
       "       'деревня Лаголово', 'поселок Цвелодубово',\n",
       "       'поселок городского типа Рахья', 'поселок городского типа Вырица',\n",
       "       'деревня Белогорка', 'поселок Заводской',\n",
       "       'городской посёлок Новоселье', 'деревня Большие Колпаны',\n",
       "       'деревня Горбунки', 'деревня Батово', 'деревня Заневка',\n",
       "       'деревня Иссад', 'Приморск', 'городской посёлок Фёдоровское',\n",
       "       'деревня Мистолово', 'Новая Ладога', 'поселок Зимитицы',\n",
       "       'поселок Барышево', 'деревня Разметелево',\n",
       "       'поселок городского типа имени Свердлова', 'деревня Пеники',\n",
       "       'поселок Рябово', 'деревня Пудомяги', 'поселок станции Корнево',\n",
       "       'деревня Низино', 'деревня Бегуницы', 'посёлок Поляны',\n",
       "       'городской посёлок Мга', 'поселок Елизаветино',\n",
       "       'посёлок городского типа Кузнечное', 'деревня Колтуши',\n",
       "       'поселок Запорожское', 'посёлок городского типа Рощино',\n",
       "       'деревня Гостилицы', 'деревня Малое Карлино',\n",
       "       'посёлок Мичуринское', 'посёлок городского типа имени Морозова',\n",
       "       'посёлок Песочный', 'посёлок Сосново', 'деревня Аро',\n",
       "       'поселок Ильичёво', 'посёлок городского типа Тайцы',\n",
       "       'деревня Малое Верево', 'деревня Извара', 'поселок станции Вещево',\n",
       "       'село Паша', 'деревня Калитино',\n",
       "       'посёлок городского типа Ульяновка', 'деревня Чудской Бор',\n",
       "       'поселок городского типа Дубровка', 'деревня Мины',\n",
       "       'поселок Войсковицы', 'посёлок городского типа имени Свердлова',\n",
       "       'деревня Коркино', 'посёлок Ропша',\n",
       "       'поселок городского типа Приладожский', 'посёлок Щеглово',\n",
       "       'посёлок Гаврилово', 'Лодейное Поле', 'деревня Рабитицы',\n",
       "       'поселок городского типа Никольский', 'деревня Кузьмолово',\n",
       "       'деревня Малые Колпаны', 'поселок Тельмана',\n",
       "       'посёлок Петро-Славянка', 'городской посёлок Назия',\n",
       "       'посёлок Репино', 'посёлок Ильичёво', 'поселок Углово',\n",
       "       'поселок Старая Малукса', 'садовое товарищество Рахья',\n",
       "       'поселок Аннино', 'поселок Победа', 'деревня Меньково',\n",
       "       'деревня Старые Бегуницы', 'посёлок Сапёрный', 'поселок Семрино',\n",
       "       'поселок Гаврилово', 'поселок Глажево', 'поселок Кобринское',\n",
       "       'деревня Гарболово', 'деревня Юкки',\n",
       "       'поселок станции Приветнинское', 'деревня Мануйлово',\n",
       "       'деревня Пчева', 'поселок Поляны', 'поселок Цвылёво',\n",
       "       'поселок Мельниково', 'посёлок Пудость', 'посёлок Усть-Луга',\n",
       "       'Светогорск', 'Любань', 'поселок Селезнёво',\n",
       "       'поселок городского типа Рябово', 'Каменногорск', 'деревня Кривко',\n",
       "       'поселок Глебычево', 'деревня Парицы', 'поселок Жилпосёлок',\n",
       "       'посёлок городского типа Мга', 'городской поселок Янино-1',\n",
       "       'посёлок Войскорово', 'село Никольское', 'посёлок Терволово',\n",
       "       'поселок Стеклянный', 'посёлок городского типа Важины',\n",
       "       'посёлок Мыза-Ивановка', 'село Русско-Высоцкое',\n",
       "       'поселок городского типа Лебяжье',\n",
       "       'поселок городского типа Форносово', 'село Старая Ладога',\n",
       "       'поселок Житково', 'городской посёлок Виллози', 'деревня Лампово',\n",
       "       'деревня Шпаньково', 'деревня Лаврики', 'посёлок Сумино',\n",
       "       'посёлок Возрождение', 'деревня Старосиверская',\n",
       "       'посёлок Кикерино', 'поселок Возрождение',\n",
       "       'деревня Старое Хинколово', 'посёлок Пригородный',\n",
       "       'посёлок Торфяное', 'городской посёлок Будогощь',\n",
       "       'поселок Суходолье', 'поселок Красная Долина', 'деревня Хапо-Ое',\n",
       "       'поселок городского типа Дружная Горка', 'поселок Лисий Нос',\n",
       "       'деревня Яльгелево', 'посёлок Стеклянный', 'село Рождествено',\n",
       "       'деревня Старополье', 'посёлок Левашово', 'деревня Сяськелево',\n",
       "       'деревня Камышовка',\n",
       "       'садоводческое некоммерческое товарищество Лесная Поляна',\n",
       "       'деревня Хязельки', 'поселок Жилгородок',\n",
       "       'посёлок городского типа Павлово', 'деревня Ялгино',\n",
       "       'поселок Новый Учхоз', 'городской посёлок Рощино',\n",
       "       'поселок Гончарово', 'поселок Почап', 'посёлок Сапёрное',\n",
       "       'посёлок Платформа 69-й километр', 'поселок Каложицы',\n",
       "       'деревня Фалилеево', 'деревня Пельгора',\n",
       "       'поселок городского типа Лесогорский', 'деревня Торошковичи',\n",
       "       'посёлок Белоостров', 'посёлок Алексеевка', 'поселок Серебрянский',\n",
       "       'поселок Лукаши', 'поселок Петровское', 'деревня Щеглово',\n",
       "       'поселок Мичуринское', 'деревня Тарасово', 'поселок Кингисеппский',\n",
       "       'посёлок при железнодорожной станции Вещево', 'поселок Ушаки',\n",
       "       'деревня Котлы', 'деревня Сижно', 'деревня Торосово',\n",
       "       'посёлок Форт Красная Горка', 'поселок городского типа Токсово',\n",
       "       'деревня Новолисино', 'посёлок станции Громово', 'деревня Глинка',\n",
       "       'посёлок Мельниково', 'поселок городского типа Назия',\n",
       "       'деревня Старая Пустошь', 'поселок Коммунары', 'поселок Починок',\n",
       "       'посёлок городского типа Вознесенье', 'деревня Разбегаево',\n",
       "       'посёлок городского типа Рябово', 'поселок Гладкое',\n",
       "       'посёлок при железнодорожной станции Приветнинское',\n",
       "       'поселок Тёсово-4', 'посёлок Жилгородок', 'деревня Бор',\n",
       "       'посёлок Коробицыно', 'деревня Большая Вруда', 'деревня Курковицы',\n",
       "       'посёлок Лисий Нос', 'городской посёлок Советский',\n",
       "       'посёлок Кобралово', 'деревня Суоранда', 'поселок Кобралово',\n",
       "       'поселок городского типа Кондратьево',\n",
       "       'коттеджный поселок Счастье', 'поселок Любань', 'деревня Реброво',\n",
       "       'деревня Зимитицы', 'деревня Тойворово', 'поселок Семиозерье',\n",
       "       'поселок Лесное', 'поселок Совхозный', 'поселок Усть-Луга',\n",
       "       'посёлок Ленинское', 'посёлок Суйда',\n",
       "       'посёлок городского типа Форносово', 'деревня Нижние Осельки',\n",
       "       'посёлок станции Свирь', 'поселок Перово', 'Высоцк',\n",
       "       'поселок Гарболово', 'село Шум', 'поселок Котельский',\n",
       "       'поселок станции Лужайка', 'деревня Большая Пустомержа',\n",
       "       'поселок Красносельское', 'деревня Вахнова Кара', 'деревня Пижма',\n",
       "       'коттеджный поселок Кивеннапа Север', 'поселок Коробицыно',\n",
       "       'поселок Ромашки', 'посёлок Перово', 'деревня Каськово',\n",
       "       'деревня Куровицы', 'посёлок Плоское', 'поселок Сумино',\n",
       "       'поселок городского типа Большая Ижора', 'поселок Кирпичное',\n",
       "       'деревня Ям-Тесово', 'деревня Раздолье', 'деревня Терпилицы',\n",
       "       'посёлок Шугозеро', 'деревня Ваганово', 'поселок Пушное',\n",
       "       'садовое товарищество Садко', 'посёлок Усть-Ижора',\n",
       "       'деревня Выскатка', 'городской посёлок Свирьстрой',\n",
       "       'поселок Громово', 'деревня Кисельня', 'посёлок Старая Малукса',\n",
       "       'деревня Трубников Бор', 'поселок Калитино',\n",
       "       'посёлок Высокоключевой', 'садовое товарищество Приладожский',\n",
       "       'посёлок Пансионат Зелёный Бор', 'деревня Ненимяки',\n",
       "       'поселок Пансионат Зелёный Бор', 'деревня Снегирёвка',\n",
       "       'деревня Рапполово', 'деревня Пустынка', 'поселок Рабитицы',\n",
       "       'деревня Большой Сабск', 'деревня Русско', 'деревня Лупполово',\n",
       "       'деревня Большое Рейзино', 'деревня Малая Романовка',\n",
       "       'поселок Дружноселье', 'поселок Пчевжа', 'поселок Володарское',\n",
       "       'деревня Нижняя', 'коттеджный посёлок Лесное', 'деревня Тихковицы',\n",
       "       'деревня Борисова Грива', 'посёлок Дзержинского'], dtype=object)"
      ]
     },
     "execution_count": 9,
     "metadata": {},
     "output_type": "execute_result"
    }
   ],
   "source": [
    "data['locality_name'].unique()"
   ]
  },
  {
   "cell_type": "markdown",
   "metadata": {},
   "source": [
    "###### Заполним пропуски в столбце balcony, приведем занчения в столбцах balcony и last price в соответствующий формат"
   ]
  },
  {
   "cell_type": "code",
   "execution_count": 10,
   "metadata": {},
   "outputs": [],
   "source": [
    "data['balcony'] = data['balcony'].fillna(0)\n",
    "data['balcony'] = data['balcony'].astype(int)\n",
    "data['last_price'] = data['last_price'].astype(int)"
   ]
  },
  {
   "cell_type": "markdown",
   "metadata": {},
   "source": [
    "###### удалим неявные дубликаты в столбце locality name"
   ]
  },
  {
   "cell_type": "code",
   "execution_count": 11,
   "metadata": {
    "scrolled": false
   },
   "outputs": [],
   "source": [
    "data['locality_name'].unique()\n",
    "duplicates = [ 'деревня Кудрово']\n",
    "name = 'Кудрово'\n",
    "data['locality_name'] = data['locality_name'].replace(duplicates,name)\n",
    "duplicates = ['посёлок городского типа Красный Бор']\n",
    "name = 'поселок городского типа Красный Бор'\n",
    "data['locality_name'] = data['locality_name'].replace(duplicates,name)\n",
    "duplicates = ['посёлок городского типа Вознесенье','посёлок Возрождение']\n",
    "name ='посeлок Возрождение'\n",
    "data['locality_name'] = data['locality_name'].replace(duplicates,name)\n",
    "duplicates = ['городской посёлок Янино-1']\n",
    "name ='городской посeлок Янино-1'\n",
    "data['locality_name'] = data['locality_name'].replace(duplicates,name)\n",
    "duplicates = ['посёлок Тельмана']\n",
    "name ='поселок Тельмана'\n",
    "data['locality_name'] = data['locality_name'].replace(duplicates,name)\n",
    "duplicates = ['посёлок городского типа Рябово','поселок городского типа Рябово']\n",
    "name ='поселок Рябово'\n",
    "data['locality_name'] = data['locality_name'].replace(duplicates,name)\n",
    "duplicates = ['посёлок Бугры']\n",
    "name ='поселок Бугры'\n",
    "data['locality_name'] = data['locality_name'].replace(duplicates,name)\n",
    "duplicates = ['посёлок городского типа Вырица']\n",
    "name = 'поселок городского типа Вырица'\n",
    "data['locality_name'] = data['locality_name'].replace(duplicates,name)\n",
    "duplicates = ['посёлок городского типа Токсово']\n",
    "name = 'поселок городского типа Токсово'\n",
    "data['locality_name'] = data['locality_name'].replace(duplicates,name)\n",
    "duplicates = [ 'посёлок Жилгородок']\n",
    "name ='поселок Жилгородок'\n",
    "data['locality_name'] = data['locality_name'].replace(duplicates,name)\n",
    "duplicates = ['посёлок Мурино','поселок Мурино']\n",
    "name ='Мурино'\n",
    "data['locality_name'] = data['locality_name'].replace(duplicates,name)\n",
    "duplicates = ['посёлок Новый Свет']\n",
    "name = 'поселок Новый Свет'\n",
    "data['locality_name'] = data['locality_name'].replace(duplicates,name)\n",
    "duplicates = ['посёлок Перово']\n",
    "name ='поселок Перово'\n",
    "data['locality_name'] = data['locality_name'].replace(duplicates,name)\n",
    "duplicates = ['посёлок Победа']\n",
    "name = 'поселок Победа'\n",
    "data['locality_name'] = data['locality_name'].replace(duplicates,name) \n",
    "duplicates = ['посёлок Поляны']\n",
    "name = 'поселок Поляны'\n",
    "data['locality_name'] = data['locality_name'].replace(duplicates,name) \n",
    "duplicates = ['посёлок Сумино']\n",
    "name = 'поселок Сумино'\n",
    "data['locality_name'] = data['locality_name'].replace(duplicates,name) \n",
    "duplicates = ['посёлок Усть-Луга']\n",
    "name = 'поселок Усть-Луга'\n",
    "data['locality_name'] = data['locality_name'].replace(duplicates,name)\n",
    "duplicates = ['посёлок городского типа Павлово','городской посёлок Павлово']\n",
    "name ='село Павлово'\n",
    "data['locality_name'] = data['locality_name'].replace(duplicates,name) \n",
    "duplicates = ['коттеджный посёлок Лесное']\n",
    "name ='поселок Лесное'\n",
    "data['locality_name'] = data['locality_name'].replace(duplicates,name) \n",
    "duplicates = ['посёлок Гаврилово']\n",
    "name ='поселок Гаврилово'\n",
    "data['locality_name'] = data['locality_name'].replace(duplicates,name) \n",
    "duplicates = ['посёлок городского типа Форносово']\n",
    "name ='поселок городского типа Форносово'\n",
    "data['locality_name'] = data['locality_name'].replace(duplicates,name) \n",
    "duplicates = ['посёлок Лисий Нос']\n",
    "name ='поселок Лисий Нос'\n",
    "data['locality_name'] = data['locality_name'].replace(duplicates,name) \n",
    "duplicates = ['посёлок Мичуринское']\n",
    "name ='поселок Мичуринское'\n",
    "data['locality_name'] = data['locality_name'].replace(duplicates,name) \n",
    "duplicates = ['посёлок Пансионат Зелёный Бор']\n",
    "name ='поселок Пансионат Зелёный Бор'\n",
    "data['locality_name'] = data['locality_name'].replace(duplicates,name) \n",
    "duplicates = ['поселок городского типа Рощино', 'посёлок городского типа Рощино']\n",
    "name ='городской посёлок Рощино'\n",
    "data['locality_name'] = data['locality_name'].replace(duplicates,name) \n",
    "duplicates = ['поселок городского типа Советский']\n",
    "name ='городской посёлок Советский'\n",
    "data['locality_name'] = data['locality_name'].replace(duplicates,name) \n",
    "duplicates = ['деревня Фёдоровское']\n",
    "name ='городской посёлок Фёдоровское'\n",
    "data['locality_name'] = data['locality_name'].replace(duplicates,name)\n",
    "duplicates = ['поселок городского типа Большая Ижора']\n",
    "name ='городской поселок Большая Ижора'\n",
    "data['locality_name'] = data['locality_name'].replace(duplicates,name)"
   ]
  },
  {
   "cell_type": "markdown",
   "metadata": {},
   "source": [
    "###### напишем цикл, преобразуем возможные аномальные значения ceiling height, удалим аномальные значения"
   ]
  },
  {
   "cell_type": "code",
   "execution_count": 12,
   "metadata": {},
   "outputs": [],
   "source": [
    "for x in data['balcony'].unique():\n",
    "    data.loc[(data['balcony']==x)&(data['ceiling_height'].isna()),'ceiling_height']=\\\n",
    "    data.loc[(data['balcony']==x),'ceiling_height'].mean()\n",
    "    \n",
    "data['ceiling_height'] = data['ceiling_height'].replace(32.0, 3.2)\n",
    "data['ceiling_height'] = data['ceiling_height'].replace(27.5, 2.75)\n",
    "data['ceiling_height'] = data['ceiling_height'].replace(27.0, 2.70)\n",
    "data['ceiling_height'] = data['ceiling_height'].replace(26.0, 2.60)\n",
    "data['ceiling_height'] = data['ceiling_height'].replace(25.0, 2.50)\n",
    "data['ceiling_height'] = data['ceiling_height'].replace(24.0, 2.40)\n",
    "data['ceiling_height'] = data['ceiling_height'].replace(22.6, 2.26)\n",
    "data['ceiling_height'] = data['ceiling_height'].replace(20.0, 2.00)\n",
    "\n",
    "data = data[(data['ceiling_height']!=100.00)&(data['ceiling_height']!=1.00)&(data['ceiling_height']!=1.20)&(data['ceiling_height']!=1.75)&(data['ceiling_height']!=14.00)&(data['ceiling_height']!=10.30)]\n",
    "\n",
    "data = data[(data['floors_total']!= 1)&(data['floors_total']!= 33)&(data['floors_total']!= 35)&(data['floors_total']!= 28)&(data['floors_total']!= 36)&(data['floors_total']!= 29)&(data['floors_total']!= 60)&(data['floors_total']!= 52)&(data['floors_total']!= 34)&(data['floors_total']!= 32)]\n",
    "data = data[(data['last_price']!=420000000)]"
   ]
  },
  {
   "cell_type": "markdown",
   "metadata": {},
   "source": [
    "Заменила пропуски в столбце ceiling_height средним значением, а также заменили аномальные значения в этом же столбце на более реальные(например, высоту 25 м или 35 м на 2.5 и 3.5 соответственно, т.к. скорее всего запятая/точка была пропущена из-за человеческого фактора). Нереально большую и слишком маленькую высоту потолков решила убрать(1м,7м,10м, 14м), т.к. их немного. Также убрала излишне высокоэтажные здания (60 этажей, 30 этажей) т.к. в Спб таких практически нет."
   ]
  },
  {
   "cell_type": "markdown",
   "metadata": {},
   "source": [
    "###### Заполним пропущенные данные в столбце floor_total из столбца floor. Преобразуем данные в столбцах floor. Добавим новый столбцец is_apartment. "
   ]
  },
  {
   "cell_type": "code",
   "execution_count": 13,
   "metadata": {},
   "outputs": [],
   "source": [
    "data['floors_total'] = data['floors_total'].fillna(data['floor'])\n",
    "data['floors_total'] = data['floors_total'].astype(int)\n",
    "data['floor'] = data['floor'].astype(int)\n",
    "data['is_apartment'] = data['is_apartment'].fillna(False)"
   ]
  },
  {
   "cell_type": "code",
   "execution_count": 14,
   "metadata": {},
   "outputs": [
    {
     "data": {
      "text/html": [
       "<div>\n",
       "<style scoped>\n",
       "    .dataframe tbody tr th:only-of-type {\n",
       "        vertical-align: middle;\n",
       "    }\n",
       "\n",
       "    .dataframe tbody tr th {\n",
       "        vertical-align: top;\n",
       "    }\n",
       "\n",
       "    .dataframe thead th {\n",
       "        text-align: right;\n",
       "    }\n",
       "</style>\n",
       "<table border=\"1\" class=\"dataframe\">\n",
       "  <thead>\n",
       "    <tr style=\"text-align: right;\">\n",
       "      <th></th>\n",
       "      <th>total_images</th>\n",
       "      <th>last_price</th>\n",
       "      <th>total_area</th>\n",
       "      <th>first_day_exposition</th>\n",
       "      <th>rooms</th>\n",
       "      <th>ceiling_height</th>\n",
       "      <th>floors_total</th>\n",
       "      <th>living_area</th>\n",
       "      <th>floor</th>\n",
       "      <th>is_apartment</th>\n",
       "      <th>...</th>\n",
       "      <th>kitchen_area</th>\n",
       "      <th>balcony</th>\n",
       "      <th>locality_name</th>\n",
       "      <th>airports_nearest</th>\n",
       "      <th>cityCenters_nearest</th>\n",
       "      <th>parks_around3000</th>\n",
       "      <th>parks_nearest</th>\n",
       "      <th>ponds_around3000</th>\n",
       "      <th>ponds_nearest</th>\n",
       "      <th>days_exposition</th>\n",
       "    </tr>\n",
       "  </thead>\n",
       "  <tbody>\n",
       "    <tr>\n",
       "      <th>12971</th>\n",
       "      <td>19</td>\n",
       "      <td>763000000</td>\n",
       "      <td>400.0</td>\n",
       "      <td>2017-09-30T00:00:00</td>\n",
       "      <td>7</td>\n",
       "      <td>2.762338</td>\n",
       "      <td>10</td>\n",
       "      <td>250.0</td>\n",
       "      <td>10</td>\n",
       "      <td>False</td>\n",
       "      <td>...</td>\n",
       "      <td>NaN</td>\n",
       "      <td>2</td>\n",
       "      <td>Санкт-Петербург</td>\n",
       "      <td>25108.0</td>\n",
       "      <td>3956.0</td>\n",
       "      <td>1.0</td>\n",
       "      <td>530.0</td>\n",
       "      <td>3.0</td>\n",
       "      <td>756.0</td>\n",
       "      <td>33.0</td>\n",
       "    </tr>\n",
       "    <tr>\n",
       "      <th>14706</th>\n",
       "      <td>15</td>\n",
       "      <td>401300000</td>\n",
       "      <td>401.0</td>\n",
       "      <td>2016-02-20T00:00:00</td>\n",
       "      <td>5</td>\n",
       "      <td>2.718108</td>\n",
       "      <td>9</td>\n",
       "      <td>204.0</td>\n",
       "      <td>9</td>\n",
       "      <td>False</td>\n",
       "      <td>...</td>\n",
       "      <td>24.0</td>\n",
       "      <td>3</td>\n",
       "      <td>Санкт-Петербург</td>\n",
       "      <td>21912.0</td>\n",
       "      <td>2389.0</td>\n",
       "      <td>1.0</td>\n",
       "      <td>545.0</td>\n",
       "      <td>1.0</td>\n",
       "      <td>478.0</td>\n",
       "      <td>393.0</td>\n",
       "    </tr>\n",
       "    <tr>\n",
       "      <th>1436</th>\n",
       "      <td>19</td>\n",
       "      <td>330000000</td>\n",
       "      <td>190.0</td>\n",
       "      <td>2018-04-04T00:00:00</td>\n",
       "      <td>3</td>\n",
       "      <td>3.500000</td>\n",
       "      <td>7</td>\n",
       "      <td>95.0</td>\n",
       "      <td>5</td>\n",
       "      <td>False</td>\n",
       "      <td>...</td>\n",
       "      <td>40.0</td>\n",
       "      <td>0</td>\n",
       "      <td>Санкт-Петербург</td>\n",
       "      <td>23011.0</td>\n",
       "      <td>1197.0</td>\n",
       "      <td>3.0</td>\n",
       "      <td>519.0</td>\n",
       "      <td>3.0</td>\n",
       "      <td>285.0</td>\n",
       "      <td>233.0</td>\n",
       "    </tr>\n",
       "    <tr>\n",
       "      <th>15651</th>\n",
       "      <td>20</td>\n",
       "      <td>300000000</td>\n",
       "      <td>618.0</td>\n",
       "      <td>2017-12-18T00:00:00</td>\n",
       "      <td>7</td>\n",
       "      <td>3.400000</td>\n",
       "      <td>7</td>\n",
       "      <td>258.0</td>\n",
       "      <td>5</td>\n",
       "      <td>False</td>\n",
       "      <td>...</td>\n",
       "      <td>70.0</td>\n",
       "      <td>0</td>\n",
       "      <td>Санкт-Петербург</td>\n",
       "      <td>32440.0</td>\n",
       "      <td>5297.0</td>\n",
       "      <td>0.0</td>\n",
       "      <td>NaN</td>\n",
       "      <td>2.0</td>\n",
       "      <td>198.0</td>\n",
       "      <td>111.0</td>\n",
       "    </tr>\n",
       "    <tr>\n",
       "      <th>22831</th>\n",
       "      <td>18</td>\n",
       "      <td>289238400</td>\n",
       "      <td>187.5</td>\n",
       "      <td>2019-03-19T00:00:00</td>\n",
       "      <td>2</td>\n",
       "      <td>3.370000</td>\n",
       "      <td>6</td>\n",
       "      <td>63.7</td>\n",
       "      <td>6</td>\n",
       "      <td>False</td>\n",
       "      <td>...</td>\n",
       "      <td>30.2</td>\n",
       "      <td>0</td>\n",
       "      <td>Санкт-Петербург</td>\n",
       "      <td>22494.0</td>\n",
       "      <td>1073.0</td>\n",
       "      <td>3.0</td>\n",
       "      <td>386.0</td>\n",
       "      <td>3.0</td>\n",
       "      <td>188.0</td>\n",
       "      <td>NaN</td>\n",
       "    </tr>\n",
       "  </tbody>\n",
       "</table>\n",
       "<p>5 rows × 22 columns</p>\n",
       "</div>"
      ],
      "text/plain": [
       "       total_images  last_price  total_area first_day_exposition  rooms  \\\n",
       "12971            19   763000000       400.0  2017-09-30T00:00:00      7   \n",
       "14706            15   401300000       401.0  2016-02-20T00:00:00      5   \n",
       "1436             19   330000000       190.0  2018-04-04T00:00:00      3   \n",
       "15651            20   300000000       618.0  2017-12-18T00:00:00      7   \n",
       "22831            18   289238400       187.5  2019-03-19T00:00:00      2   \n",
       "\n",
       "       ceiling_height  floors_total  living_area  floor  is_apartment  ...  \\\n",
       "12971        2.762338            10        250.0     10         False  ...   \n",
       "14706        2.718108             9        204.0      9         False  ...   \n",
       "1436         3.500000             7         95.0      5         False  ...   \n",
       "15651        3.400000             7        258.0      5         False  ...   \n",
       "22831        3.370000             6         63.7      6         False  ...   \n",
       "\n",
       "       kitchen_area  balcony    locality_name  airports_nearest  \\\n",
       "12971           NaN        2  Санкт-Петербург           25108.0   \n",
       "14706          24.0        3  Санкт-Петербург           21912.0   \n",
       "1436           40.0        0  Санкт-Петербург           23011.0   \n",
       "15651          70.0        0  Санкт-Петербург           32440.0   \n",
       "22831          30.2        0  Санкт-Петербург           22494.0   \n",
       "\n",
       "      cityCenters_nearest  parks_around3000  parks_nearest  ponds_around3000  \\\n",
       "12971              3956.0               1.0          530.0               3.0   \n",
       "14706              2389.0               1.0          545.0               1.0   \n",
       "1436               1197.0               3.0          519.0               3.0   \n",
       "15651              5297.0               0.0            NaN               2.0   \n",
       "22831              1073.0               3.0          386.0               3.0   \n",
       "\n",
       "       ponds_nearest  days_exposition  \n",
       "12971          756.0             33.0  \n",
       "14706          478.0            393.0  \n",
       "1436           285.0            233.0  \n",
       "15651          198.0            111.0  \n",
       "22831          188.0              NaN  \n",
       "\n",
       "[5 rows x 22 columns]"
      ]
     },
     "execution_count": 14,
     "metadata": {},
     "output_type": "execute_result"
    }
   ],
   "source": [
    "data.sort_values(by='last_price', ascending = False).head()"
   ]
  },
  {
   "cell_type": "markdown",
   "metadata": {},
   "source": [
    "###### Расчитаем стоимость одного метра"
   ]
  },
  {
   "cell_type": "code",
   "execution_count": 15,
   "metadata": {
    "scrolled": false
   },
   "outputs": [],
   "source": [
    "data['one_metr_price'] = data['last_price']/data['total_area']"
   ]
  },
  {
   "cell_type": "markdown",
   "metadata": {},
   "source": [
    "###### Преобразуем формат даты в столбце с датой"
   ]
  },
  {
   "cell_type": "code",
   "execution_count": 16,
   "metadata": {},
   "outputs": [],
   "source": [
    "data['first_day_exposition'] = pd.to_datetime(data['first_day_exposition'], format='%Y.%m.%dT%H:%M')"
   ]
  },
  {
   "cell_type": "markdown",
   "metadata": {},
   "source": [
    "###### Добавим новый столбец weekday"
   ]
  },
  {
   "cell_type": "code",
   "execution_count": 17,
   "metadata": {},
   "outputs": [],
   "source": [
    "data['weekday'] = data['first_day_exposition'].dt.weekday"
   ]
  },
  {
   "cell_type": "markdown",
   "metadata": {},
   "source": [
    "###### Напишем цикл для сортировки дат по дням недели"
   ]
  },
  {
   "cell_type": "code",
   "execution_count": 18,
   "metadata": {},
   "outputs": [],
   "source": [
    "def categorize_weekday(weekday):\n",
    "    try:\n",
    "        if weekday==0:\n",
    "            return 'пн'\n",
    "        elif weekday==1:\n",
    "            return 'вт'\n",
    "        elif weekday==2:\n",
    "            return 'ср'\n",
    "        elif weekday==3:\n",
    "            return 'чт'\n",
    "        elif weekday==4:\n",
    "            return 'пт'\n",
    "        elif weekday==5:\n",
    "            return 'сб'\n",
    "        elif weekday==6:\n",
    "            return 'вс'\n",
    "    except:\n",
    "        pass"
   ]
  },
  {
   "cell_type": "code",
   "execution_count": 19,
   "metadata": {},
   "outputs": [],
   "source": [
    "data['weekday_2']=data['weekday'].apply(categorize_weekday)"
   ]
  },
  {
   "cell_type": "markdown",
   "metadata": {},
   "source": [
    "###### Добавим столбец с месяцем и годом"
   ]
  },
  {
   "cell_type": "code",
   "execution_count": 20,
   "metadata": {},
   "outputs": [],
   "source": [
    "data['month'] = pd.DatetimeIndex(data['first_day_exposition']).month\n",
    "data['year'] = pd.DatetimeIndex(data['first_day_exposition']).year"
   ]
  },
  {
   "cell_type": "markdown",
   "metadata": {},
   "source": [
    "###### Рассмотрим распеределение количества этажей"
   ]
  },
  {
   "cell_type": "code",
   "execution_count": 21,
   "metadata": {},
   "outputs": [
    {
     "data": {
      "text/plain": [
       "5     5791\n",
       "9     3766\n",
       "16    1375\n",
       "12    1367\n",
       "4     1210\n",
       "10    1177\n",
       "25    1074\n",
       "6      923\n",
       "17     834\n",
       "3      672\n",
       "7      596\n",
       "14     554\n",
       "18     508\n",
       "24     471\n",
       "8      398\n",
       "2      384\n",
       "15     368\n",
       "23     353\n",
       "19     342\n",
       "22     287\n",
       "20     273\n",
       "13     232\n",
       "11     206\n",
       "27     164\n",
       "21     162\n",
       "26     124\n",
       "1        3\n",
       "Name: floors_total, dtype: int64"
      ]
     },
     "execution_count": 21,
     "metadata": {},
     "output_type": "execute_result"
    }
   ],
   "source": [
    "data['floors_total'].value_counts()"
   ]
  },
  {
   "cell_type": "markdown",
   "metadata": {},
   "source": [
    "###### Добавим столбец с признаком этажа (первый, последний, другой)"
   ]
  },
  {
   "cell_type": "code",
   "execution_count": 22,
   "metadata": {},
   "outputs": [],
   "source": [
    "data['new_floor'] = 0\n",
    "data.loc[data['floor']==1, 'new_floor']='первый'\n",
    "data.loc[data['floors_total']-data['floor']==0, 'new_floor']='последний'\n",
    "data.loc[data['new_floor']==0, 'new_floor']= 'другой'"
   ]
  },
  {
   "cell_type": "markdown",
   "metadata": {},
   "source": [
    "###### Добавим столбец с расстоянием до центра"
   ]
  },
  {
   "cell_type": "code",
   "execution_count": 23,
   "metadata": {},
   "outputs": [],
   "source": [
    "data['center_km'] = round(data['cityCenters_nearest']/1000)"
   ]
  },
  {
   "cell_type": "code",
   "execution_count": 24,
   "metadata": {},
   "outputs": [
    {
     "data": {
      "text/html": [
       "<div>\n",
       "<style scoped>\n",
       "    .dataframe tbody tr th:only-of-type {\n",
       "        vertical-align: middle;\n",
       "    }\n",
       "\n",
       "    .dataframe tbody tr th {\n",
       "        vertical-align: top;\n",
       "    }\n",
       "\n",
       "    .dataframe thead th {\n",
       "        text-align: right;\n",
       "    }\n",
       "</style>\n",
       "<table border=\"1\" class=\"dataframe\">\n",
       "  <thead>\n",
       "    <tr style=\"text-align: right;\">\n",
       "      <th></th>\n",
       "      <th>total_images</th>\n",
       "      <th>last_price</th>\n",
       "      <th>total_area</th>\n",
       "      <th>first_day_exposition</th>\n",
       "      <th>rooms</th>\n",
       "      <th>ceiling_height</th>\n",
       "      <th>floors_total</th>\n",
       "      <th>living_area</th>\n",
       "      <th>floor</th>\n",
       "      <th>is_apartment</th>\n",
       "      <th>...</th>\n",
       "      <th>ponds_around3000</th>\n",
       "      <th>ponds_nearest</th>\n",
       "      <th>days_exposition</th>\n",
       "      <th>one_metr_price</th>\n",
       "      <th>weekday</th>\n",
       "      <th>weekday_2</th>\n",
       "      <th>month</th>\n",
       "      <th>year</th>\n",
       "      <th>new_floor</th>\n",
       "      <th>center_km</th>\n",
       "    </tr>\n",
       "  </thead>\n",
       "  <tbody>\n",
       "    <tr>\n",
       "      <th>12971</th>\n",
       "      <td>19</td>\n",
       "      <td>763000000</td>\n",
       "      <td>400.0</td>\n",
       "      <td>2017-09-30</td>\n",
       "      <td>7</td>\n",
       "      <td>2.762338</td>\n",
       "      <td>10</td>\n",
       "      <td>250.0</td>\n",
       "      <td>10</td>\n",
       "      <td>False</td>\n",
       "      <td>...</td>\n",
       "      <td>3.0</td>\n",
       "      <td>756.0</td>\n",
       "      <td>33.0</td>\n",
       "      <td>1.907500e+06</td>\n",
       "      <td>5</td>\n",
       "      <td>сб</td>\n",
       "      <td>9</td>\n",
       "      <td>2017</td>\n",
       "      <td>последний</td>\n",
       "      <td>4.0</td>\n",
       "    </tr>\n",
       "    <tr>\n",
       "      <th>14706</th>\n",
       "      <td>15</td>\n",
       "      <td>401300000</td>\n",
       "      <td>401.0</td>\n",
       "      <td>2016-02-20</td>\n",
       "      <td>5</td>\n",
       "      <td>2.718108</td>\n",
       "      <td>9</td>\n",
       "      <td>204.0</td>\n",
       "      <td>9</td>\n",
       "      <td>False</td>\n",
       "      <td>...</td>\n",
       "      <td>1.0</td>\n",
       "      <td>478.0</td>\n",
       "      <td>393.0</td>\n",
       "      <td>1.000748e+06</td>\n",
       "      <td>5</td>\n",
       "      <td>сб</td>\n",
       "      <td>2</td>\n",
       "      <td>2016</td>\n",
       "      <td>последний</td>\n",
       "      <td>2.0</td>\n",
       "    </tr>\n",
       "    <tr>\n",
       "      <th>1436</th>\n",
       "      <td>19</td>\n",
       "      <td>330000000</td>\n",
       "      <td>190.0</td>\n",
       "      <td>2018-04-04</td>\n",
       "      <td>3</td>\n",
       "      <td>3.500000</td>\n",
       "      <td>7</td>\n",
       "      <td>95.0</td>\n",
       "      <td>5</td>\n",
       "      <td>False</td>\n",
       "      <td>...</td>\n",
       "      <td>3.0</td>\n",
       "      <td>285.0</td>\n",
       "      <td>233.0</td>\n",
       "      <td>1.736842e+06</td>\n",
       "      <td>2</td>\n",
       "      <td>ср</td>\n",
       "      <td>4</td>\n",
       "      <td>2018</td>\n",
       "      <td>другой</td>\n",
       "      <td>1.0</td>\n",
       "    </tr>\n",
       "    <tr>\n",
       "      <th>15651</th>\n",
       "      <td>20</td>\n",
       "      <td>300000000</td>\n",
       "      <td>618.0</td>\n",
       "      <td>2017-12-18</td>\n",
       "      <td>7</td>\n",
       "      <td>3.400000</td>\n",
       "      <td>7</td>\n",
       "      <td>258.0</td>\n",
       "      <td>5</td>\n",
       "      <td>False</td>\n",
       "      <td>...</td>\n",
       "      <td>2.0</td>\n",
       "      <td>198.0</td>\n",
       "      <td>111.0</td>\n",
       "      <td>4.854369e+05</td>\n",
       "      <td>0</td>\n",
       "      <td>пн</td>\n",
       "      <td>12</td>\n",
       "      <td>2017</td>\n",
       "      <td>другой</td>\n",
       "      <td>5.0</td>\n",
       "    </tr>\n",
       "    <tr>\n",
       "      <th>22831</th>\n",
       "      <td>18</td>\n",
       "      <td>289238400</td>\n",
       "      <td>187.5</td>\n",
       "      <td>2019-03-19</td>\n",
       "      <td>2</td>\n",
       "      <td>3.370000</td>\n",
       "      <td>6</td>\n",
       "      <td>63.7</td>\n",
       "      <td>6</td>\n",
       "      <td>False</td>\n",
       "      <td>...</td>\n",
       "      <td>3.0</td>\n",
       "      <td>188.0</td>\n",
       "      <td>NaN</td>\n",
       "      <td>1.542605e+06</td>\n",
       "      <td>1</td>\n",
       "      <td>вт</td>\n",
       "      <td>3</td>\n",
       "      <td>2019</td>\n",
       "      <td>последний</td>\n",
       "      <td>1.0</td>\n",
       "    </tr>\n",
       "  </tbody>\n",
       "</table>\n",
       "<p>5 rows × 29 columns</p>\n",
       "</div>"
      ],
      "text/plain": [
       "       total_images  last_price  total_area first_day_exposition  rooms  \\\n",
       "12971            19   763000000       400.0           2017-09-30      7   \n",
       "14706            15   401300000       401.0           2016-02-20      5   \n",
       "1436             19   330000000       190.0           2018-04-04      3   \n",
       "15651            20   300000000       618.0           2017-12-18      7   \n",
       "22831            18   289238400       187.5           2019-03-19      2   \n",
       "\n",
       "       ceiling_height  floors_total  living_area  floor  is_apartment  ...  \\\n",
       "12971        2.762338            10        250.0     10         False  ...   \n",
       "14706        2.718108             9        204.0      9         False  ...   \n",
       "1436         3.500000             7         95.0      5         False  ...   \n",
       "15651        3.400000             7        258.0      5         False  ...   \n",
       "22831        3.370000             6         63.7      6         False  ...   \n",
       "\n",
       "       ponds_around3000  ponds_nearest  days_exposition  one_metr_price  \\\n",
       "12971               3.0          756.0             33.0    1.907500e+06   \n",
       "14706               1.0          478.0            393.0    1.000748e+06   \n",
       "1436                3.0          285.0            233.0    1.736842e+06   \n",
       "15651               2.0          198.0            111.0    4.854369e+05   \n",
       "22831               3.0          188.0              NaN    1.542605e+06   \n",
       "\n",
       "      weekday  weekday_2  month  year  new_floor  center_km  \n",
       "12971       5         сб      9  2017  последний        4.0  \n",
       "14706       5         сб      2  2016  последний        2.0  \n",
       "1436        2         ср      4  2018     другой        1.0  \n",
       "15651       0         пн     12  2017     другой        5.0  \n",
       "22831       1         вт      3  2019  последний        1.0  \n",
       "\n",
       "[5 rows x 29 columns]"
      ]
     },
     "execution_count": 24,
     "metadata": {},
     "output_type": "execute_result"
    }
   ],
   "source": [
    "data.sort_values(by='last_price', ascending = False).head()"
   ]
  },
  {
   "cell_type": "markdown",
   "metadata": {},
   "source": [
    "ВЫВОД: \n",
    "\n",
    "В данном разделе в столбце balcony заменила на ноль, так как скорее всего, если пользователь не указал их, значит они отсутствуют, а также перевела данные в этом столбце в числовой формат.\n",
    "Также проверила дата сет на явные дубликаты и проверила пропущенные значения. Также проверила на неявные дубликаты столбец locality_name и привели все наименования к единому написанию(e-ё, сокращенные наименования поселков и пр.)\n",
    "Проверила средние значения и межквартильные диапазоны. Заменила пропуски в столбце ceiling_height средним значением, а также заменили аномальные значения в этом же столбце на более реальные(например, высоту 25 м или 35 м на 2.5 и 3.5 соответственно, т.к. скорее всего запятая/точка была пропущена из-за человеческого фактора).\n",
    "Нереально большую и слишком маленькую высоту потолков решила убрать(1м,7м,10м, 14м), т.к. их немного. Также убрала излишне высокоэтажные здания (60 этажей, 30 этажей) т.к. в Спб таких практически нет.\n",
    "А отсутствующие значения в столбце total_floor дополнила значениями из столбца floor, так мы будем иметь хоть какое-то представление об этажности здания. Также перевела оба столбца в числовой формат. В столбце is_apartment заменила пропущенные значения на False, скорее всего это поле было не заполнено пользователем по незнанию.\n",
    "В датасете 23699 строк, из них пропущеные значения присутствуют в столбцах balcony, total_floor, ceiling_height, is_apartment (то, что заполняется пользователем) и имеются пропущенные данные в столюцах с информацией об удаленности парков, прудов, количестве дней публикации объявлений и пр.\n",
    "\n",
    "Добавила новый столбец - цену за кв. м. Перевела в столбец first_day_exposition в соответствующий формат. Проставила дни недели от даты публикации. Прописала функцию для написания сокращенного вида дней недели и применила функцию к столбцу weekday. Выделили месяц и год в отдельные столбцы. Создала новый столбец для этажа: если этаж первый, то добавляю из floor в новый стобец. Если разница между последним этажом и этажом квартиры равно 0, то он последний, значит добавляю его в новый столбец. Пропущенные значения этажей заменила на другой. Добавила новый стоблец, расстояние до центра в км(значение округлила)."
   ]
  },
  {
   "cell_type": "markdown",
   "metadata": {},
   "source": [
    "# Исследовательский анализ"
   ]
  },
  {
   "cell_type": "markdown",
   "metadata": {},
   "source": [
    "###### Рассмотрим распределение общей площади квартир в столбце total_area по метражу"
   ]
  },
  {
   "cell_type": "code",
   "execution_count": 25,
   "metadata": {},
   "outputs": [
    {
     "data": {
      "text/plain": [
       "<Axes: title={'center': 'Площадь квартир'}, ylabel='Frequency'>"
      ]
     },
     "execution_count": 25,
     "metadata": {},
     "output_type": "execute_result"
    },
    {
     "data": {
      "image/png": "[encoded data removed]",
      "text/plain": [
       "<Figure size 1500x300 with 1 Axes>"
      ]
     },
     "metadata": {},
     "output_type": "display_data"
    }
   ],
   "source": [
    "data['total_area'].plot(kind='hist', figsize=(15,3), title='Площадь квартир')"
   ]
  },
  {
   "cell_type": "markdown",
   "metadata": {},
   "source": [
    "в среднем общая площадь варьируется от 25 до 100 кв м, таких квартир порядка 20 тыс"
   ]
  },
  {
   "cell_type": "markdown",
   "metadata": {},
   "source": [
    "###### Рассмотрим распределение метража living area "
   ]
  },
  {
   "cell_type": "code",
   "execution_count": 26,
   "metadata": {},
   "outputs": [
    {
     "data": {
      "text/plain": [
       "<Axes: title={'center': 'Жилая площадь'}, ylabel='Frequency'>"
      ]
     },
     "execution_count": 26,
     "metadata": {},
     "output_type": "execute_result"
    },
    {
     "data": {
      "image/png": "[encoded data removed]",
      "text/plain": [
       "<Figure size 1500x300 with 1 Axes>"
      ]
     },
     "metadata": {},
     "output_type": "display_data"
    }
   ],
   "source": [
    "data['living_area'].plot(kind='hist', figsize=(15,3), title='Жилая площадь')"
   ]
  },
  {
   "cell_type": "markdown",
   "metadata": {},
   "source": [
    "15 тыс квартир площадью до 40 кв.м., 5 тыс квартир площадью до 70-80 кв.м."
   ]
  },
  {
   "cell_type": "markdown",
   "metadata": {},
   "source": [
    "###### Рассмотрим распределение метража kitchen area"
   ]
  },
  {
   "cell_type": "code",
   "execution_count": 57,
   "metadata": {},
   "outputs": [
    {
     "data": {
      "text/plain": [
       "<Axes: title={'center': 'Площадь кухни'}, ylabel='Frequency'>"
      ]
     },
     "execution_count": 57,
     "metadata": {},
     "output_type": "execute_result"
    },
    {
     "data": {
      "image/png": "[encoded data removed]",
      "text/plain": [
       "<Figure size 1500x300 with 1 Axes>"
      ]
     },
     "metadata": {},
     "output_type": "display_data"
    }
   ],
   "source": [
    "data['kitchen_area'].plot(kind='hist', figsize=(15,3), title='Площадь кухни')"
   ]
  },
  {
   "cell_type": "markdown",
   "metadata": {},
   "source": [
    "в основном площадь кухни составляет до 20 кв м"
   ]
  },
  {
   "cell_type": "markdown",
   "metadata": {},
   "source": [
    "###### Рассмотрим распределение стоимости квартир"
   ]
  },
  {
   "cell_type": "code",
   "execution_count": 60,
   "metadata": {},
   "outputs": [
    {
     "data": {
      "text/plain": [
       "<Axes: title={'center': 'Стоимость квартир'}>"
      ]
     },
     "execution_count": 60,
     "metadata": {},
     "output_type": "execute_result"
    },
    {
     "data": {
      "image/png": "[encoded data removed]",
      "text/plain": [
       "<Figure size 1500x300 with 1 Axes>"
      ]
     },
     "metadata": {},
     "output_type": "display_data"
    }
   ],
   "source": [
    "data['last_price'].plot(figsize=(15,3), title='Стоимость квартир')"
   ]
  },
  {
   "cell_type": "markdown",
   "metadata": {},
   "source": [
    "минимальная стоимость меньше 1 млн, одна из самых дорогих квартир стоит около 8 млн, в среднем цены варьируются до 2 млн"
   ]
  },
  {
   "cell_type": "markdown",
   "metadata": {},
   "source": [
    "###### Рассмотрим распределение количества комнат"
   ]
  },
  {
   "cell_type": "code",
   "execution_count": 62,
   "metadata": {},
   "outputs": [
    {
     "data": {
      "text/plain": [
       "<Axes: title={'center': 'Количество комнат в квартире'}, ylabel='Frequency'>"
      ]
     },
     "execution_count": 62,
     "metadata": {},
     "output_type": "execute_result"
    },
    {
     "data": {
      "image/png": "[encoded data removed]",
      "text/plain": [
       "<Figure size 1500x300 with 1 Axes>"
      ]
     },
     "metadata": {},
     "output_type": "display_data"
    }
   ],
   "source": [
    "data['rooms'].plot(kind='hist', figsize=(15,3), title='Количество комнат в квартире')"
   ]
  },
  {
   "cell_type": "markdown",
   "metadata": {},
   "source": [
    "около 8 тыс квартир 1-комнатные, 14 тыс квартир 2-4-комнатные, около 1 тыс квартир 5-комнатные"
   ]
  },
  {
   "cell_type": "markdown",
   "metadata": {},
   "source": [
    "###### Рассмотрим распределение метража потолков"
   ]
  },
  {
   "cell_type": "code",
   "execution_count": 63,
   "metadata": {},
   "outputs": [
    {
     "data": {
      "text/plain": [
       "<Axes: title={'center': 'Метраж потолка'}, ylabel='Frequency'>"
      ]
     },
     "execution_count": 63,
     "metadata": {},
     "output_type": "execute_result"
    },
    {
     "data": {
      "image/png": "[encoded data removed]",
      "text/plain": [
       "<Figure size 1500x300 with 1 Axes>"
      ]
     },
     "metadata": {},
     "output_type": "display_data"
    }
   ],
   "source": [
    "data['ceiling_height'].plot(kind='hist', figsize=(15,3), title='Метраж потолка')"
   ]
  },
  {
   "cell_type": "markdown",
   "metadata": {},
   "source": [
    "в основном 95% квартир имеют высоту потолков 2-3 м "
   ]
  },
  {
   "cell_type": "markdown",
   "metadata": {},
   "source": [
    "###### Рассмотрим распределение количества значений по столбцу floor"
   ]
  },
  {
   "cell_type": "code",
   "execution_count": 65,
   "metadata": {},
   "outputs": [
    {
     "data": {
      "text/plain": [
       "<Axes: title={'center': 'Этаж квартиры'}, ylabel='Frequency'>"
      ]
     },
     "execution_count": 65,
     "metadata": {},
     "output_type": "execute_result"
    },
    {
     "data": {
      "image/png": "[encoded data removed]",
      "text/plain": [
       "<Figure size 1500x300 with 1 Axes>"
      ]
     },
     "metadata": {},
     "output_type": "display_data"
    }
   ],
   "source": [
    "data['floor'].plot(kind='hist', figsize=(15,3), title='Этаж квартиры')"
   ]
  },
  {
   "cell_type": "markdown",
   "metadata": {},
   "source": [
    " около 19 тыс квартир находится с 1 по 10 этаж, 3-4 тыс располагаются с 10 по 20 этажи"
   ]
  },
  {
   "cell_type": "markdown",
   "metadata": {},
   "source": [
    "###### Рассмотрим распределение количества квартир между последним, первым и другим этажом"
   ]
  },
  {
   "cell_type": "code",
   "execution_count": 69,
   "metadata": {},
   "outputs": [
    {
     "data": {
      "text/plain": [
       "<Axes: >"
      ]
     },
     "execution_count": 69,
     "metadata": {},
     "output_type": "execute_result"
    },
    {
     "data": {
      "image/png": "[encoded data removed]",
      "text/plain": [
       "<Figure size 640x480 with 1 Axes>"
      ]
     },
     "metadata": {},
     "output_type": "display_data"
    }
   ],
   "source": [
    "data['new_floor'].hist(bins=10)"
   ]
  },
  {
   "cell_type": "markdown",
   "metadata": {},
   "source": [
    "примерно 17 тыс квартир находятся ни на первом, ни на последнем этажах, суммарно около 6 тыс квартир находится на певром и последних этажах "
   ]
  },
  {
   "cell_type": "markdown",
   "metadata": {},
   "source": [
    "###### Рассмотрим распределение квартир относительно центра"
   ]
  },
  {
   "cell_type": "code",
   "execution_count": 70,
   "metadata": {},
   "outputs": [
    {
     "data": {
      "text/plain": [
       "<Axes: title={'center': 'Удаленность от центра'}, ylabel='Frequency'>"
      ]
     },
     "execution_count": 70,
     "metadata": {},
     "output_type": "execute_result"
    },
    {
     "data": {
      "image/png": "[encoded data removed]",
      "text/plain": [
       "<Figure size 1500x300 with 1 Axes>"
      ]
     },
     "metadata": {},
     "output_type": "display_data"
    }
   ],
   "source": [
    "data['cityCenters_nearest'].plot(kind='hist', figsize=(15,3), title='Удаленность от центра')"
   ]
  },
  {
   "cell_type": "markdown",
   "metadata": {},
   "source": [
    "Большая часть квартир находится на расстоянии до 20 тыс м"
   ]
  },
  {
   "cell_type": "markdown",
   "metadata": {},
   "source": [
    "###### Рассмотрим распределение квартир относительно близости к аэропорту"
   ]
  },
  {
   "cell_type": "code",
   "execution_count": 71,
   "metadata": {},
   "outputs": [
    {
     "data": {
      "text/plain": [
       "<Axes: title={'center': 'Удаленность от аэропорта'}, ylabel='Frequency'>"
      ]
     },
     "execution_count": 71,
     "metadata": {},
     "output_type": "execute_result"
    },
    {
     "data": {
      "image/png": "[encoded data removed]",
      "text/plain": [
       "<Figure size 1500x300 with 1 Axes>"
      ]
     },
     "metadata": {},
     "output_type": "display_data"
    }
   ],
   "source": [
    "data['airports_nearest'].plot(kind='hist', figsize=(15,3), title='Удаленность от аэропорта')"
   ]
  },
  {
   "cell_type": "markdown",
   "metadata": {},
   "source": [
    "в среднем квартиры находятся от ближайшего аэропорта от 10 до 60 тыс м"
   ]
  },
  {
   "cell_type": "markdown",
   "metadata": {},
   "source": [
    "###### Рассмотрим распределение квартир относительно близости к паркам"
   ]
  },
  {
   "cell_type": "code",
   "execution_count": 72,
   "metadata": {},
   "outputs": [
    {
     "data": {
      "text/plain": [
       "<Axes: title={'center': 'Расстояние до парка'}, ylabel='Frequency'>"
      ]
     },
     "execution_count": 72,
     "metadata": {},
     "output_type": "execute_result"
    },
    {
     "data": {
      "image/png": "[encoded data removed]",
      "text/plain": [
       "<Figure size 1500x300 with 1 Axes>"
      ]
     },
     "metadata": {},
     "output_type": "display_data"
    }
   ],
   "source": [
    "data['parks_nearest'].plot(kind='hist', figsize=(15,3), title='Расстояние до парка')"
   ]
  },
  {
   "cell_type": "markdown",
   "metadata": {},
   "source": [
    "4 тыс кв имеют парк в 400-600 м, для 2,5 тыс кв-р парк находтся на расстоянии до 300 м"
   ]
  },
  {
   "cell_type": "markdown",
   "metadata": {},
   "source": [
    "###### Рассмотрим распределение продаж квартир по месяцам"
   ]
  },
  {
   "cell_type": "code",
   "execution_count": 74,
   "metadata": {},
   "outputs": [
    {
     "data": {
      "text/plain": [
       "<Axes: title={'center': 'Публикации объявлений по месяцам'}, ylabel='Frequency'>"
      ]
     },
     "execution_count": 74,
     "metadata": {},
     "output_type": "execute_result"
    },
    {
     "data": {
      "image/png": "[encoded data removed]",
      "text/plain": [
       "<Figure size 1500x300 with 1 Axes>"
      ]
     },
     "metadata": {},
     "output_type": "display_data"
    }
   ],
   "source": [
    "data['month'].plot(kind='hist', figsize=(15,3), title='Публикации объявлений по месяцам')"
   ]
  },
  {
   "cell_type": "markdown",
   "metadata": {},
   "source": [
    "по 4 тыс публикаций в янв-фев и дек, по 2 тыс весной, осенью и летом "
   ]
  },
  {
   "cell_type": "markdown",
   "metadata": {},
   "source": [
    "###### Рассмотрим распределение продаж квартир по дням недели "
   ]
  },
  {
   "cell_type": "code",
   "execution_count": 77,
   "metadata": {},
   "outputs": [
    {
     "data": {
      "text/plain": [
       "<Axes: title={'center': 'Публикации объявлений по дням'}>"
      ]
     },
     "execution_count": 77,
     "metadata": {},
     "output_type": "execute_result"
    },
    {
     "data": {
      "image/png": "[encoded data removed]",
      "text/plain": [
       "<Figure size 1500x300 with 1 Axes>"
      ]
     },
     "metadata": {},
     "output_type": "display_data"
    }
   ],
   "source": [
    "data.groupby('weekday_2', as_index=False)\n",
    "    .agg({'total_images':'count'})\n",
    "    .plot(figsize=(15,3), title='Публикации объявлений по дням')"
   ]
  },
  {
   "cell_type": "markdown",
   "metadata": {},
   "source": [
    " чт, вт, сб,вс публикуется примерно по 4 тыс объявлений,в пт наименьшее число публикаций объявлений - менее 2000"
   ]
  },
  {
   "cell_type": "markdown",
   "metadata": {},
   "source": [
    "###### Рассмотрим сколько было опубликовано объявление (среднее и медианное значение) по городам"
   ]
  },
  {
   "cell_type": "code",
   "execution_count": 78,
   "metadata": {},
   "outputs": [
    {
     "data": {
      "text/html": [
       "<div>\n",
       "<style scoped>\n",
       "    .dataframe tbody tr th:only-of-type {\n",
       "        vertical-align: middle;\n",
       "    }\n",
       "\n",
       "    .dataframe tbody tr th {\n",
       "        vertical-align: top;\n",
       "    }\n",
       "\n",
       "    .dataframe thead tr th {\n",
       "        text-align: left;\n",
       "    }\n",
       "\n",
       "    .dataframe thead tr:last-of-type th {\n",
       "        text-align: right;\n",
       "    }\n",
       "</style>\n",
       "<table border=\"1\" class=\"dataframe\">\n",
       "  <thead>\n",
       "    <tr>\n",
       "      <th></th>\n",
       "      <th>mean</th>\n",
       "      <th>median</th>\n",
       "    </tr>\n",
       "    <tr>\n",
       "      <th></th>\n",
       "      <th>days_exposition</th>\n",
       "      <th>days_exposition</th>\n",
       "    </tr>\n",
       "    <tr>\n",
       "      <th>locality_name</th>\n",
       "      <th></th>\n",
       "      <th></th>\n",
       "    </tr>\n",
       "  </thead>\n",
       "  <tbody>\n",
       "    <tr>\n",
       "      <th>Бокситогорск</th>\n",
       "      <td>89.571429</td>\n",
       "      <td>45.0</td>\n",
       "    </tr>\n",
       "    <tr>\n",
       "      <th>Волосово</th>\n",
       "      <td>287.366667</td>\n",
       "      <td>135.5</td>\n",
       "    </tr>\n",
       "    <tr>\n",
       "      <th>Волхов</th>\n",
       "      <td>152.400000</td>\n",
       "      <td>104.0</td>\n",
       "    </tr>\n",
       "    <tr>\n",
       "      <th>Всеволожск</th>\n",
       "      <td>197.085546</td>\n",
       "      <td>123.0</td>\n",
       "    </tr>\n",
       "    <tr>\n",
       "      <th>Выборг</th>\n",
       "      <td>177.375000</td>\n",
       "      <td>99.5</td>\n",
       "    </tr>\n",
       "    <tr>\n",
       "      <th>...</th>\n",
       "      <td>...</td>\n",
       "      <td>...</td>\n",
       "    </tr>\n",
       "    <tr>\n",
       "      <th>село Путилово</th>\n",
       "      <td>261.500000</td>\n",
       "      <td>261.5</td>\n",
       "    </tr>\n",
       "    <tr>\n",
       "      <th>село Рождествено</th>\n",
       "      <td>99.000000</td>\n",
       "      <td>99.0</td>\n",
       "    </tr>\n",
       "    <tr>\n",
       "      <th>село Русско-Высоцкое</th>\n",
       "      <td>313.250000</td>\n",
       "      <td>342.5</td>\n",
       "    </tr>\n",
       "    <tr>\n",
       "      <th>село Старая Ладога</th>\n",
       "      <td>45.000000</td>\n",
       "      <td>45.0</td>\n",
       "    </tr>\n",
       "    <tr>\n",
       "      <th>село Шум</th>\n",
       "      <td>9.000000</td>\n",
       "      <td>9.0</td>\n",
       "    </tr>\n",
       "  </tbody>\n",
       "</table>\n",
       "<p>301 rows × 2 columns</p>\n",
       "</div>"
      ],
      "text/plain": [
       "                                mean          median\n",
       "                     days_exposition days_exposition\n",
       "locality_name                                       \n",
       "Бокситогорск               89.571429            45.0\n",
       "Волосово                  287.366667           135.5\n",
       "Волхов                    152.400000           104.0\n",
       "Всеволожск                197.085546           123.0\n",
       "Выборг                    177.375000            99.5\n",
       "...                              ...             ...\n",
       "село Путилово             261.500000           261.5\n",
       "село Рождествено           99.000000            99.0\n",
       "село Русско-Высоцкое      313.250000           342.5\n",
       "село Старая Ладога         45.000000            45.0\n",
       "село Шум                    9.000000             9.0\n",
       "\n",
       "[301 rows x 2 columns]"
      ]
     },
     "execution_count": 78,
     "metadata": {},
     "output_type": "execute_result"
    },
    {
     "data": {
      "image/png": "[encoded data removed]",
      "text/plain": [
       "<Figure size 640x480 with 2 Axes>"
      ]
     },
     "metadata": {},
     "output_type": "display_data"
    }
   ],
   "source": [
    "data.pivot_table(index='locality_name', values='days_exposition', aggfunc=['mean','median']).hist(range=(0,10))\n",
    "data.pivot_table(index='locality_name', values='days_exposition', aggfunc=['mean','median'])"
   ]
  },
  {
   "cell_type": "markdown",
   "metadata": {},
   "source": [
    "Если рассматривать средние значения, то объявление находится около 200 дней и далее идет постепенное снижение. Самый долгий срок 400 дней. Если рассматривать медианные значения самое высокое это 80 дней, самое менешее 400 дней."
   ]
  },
  {
   "cell_type": "markdown",
   "metadata": {},
   "source": [
    "###### Рассмотрим зависимость цены от общего метража"
   ]
  },
  {
   "cell_type": "code",
   "execution_count": 86,
   "metadata": {},
   "outputs": [
    {
     "data": {
      "text/plain": [
       "<Axes: title={'center': 'Зависимость цен от кв м'}, xlabel='total_area', ylabel='last_price'>"
      ]
     },
     "execution_count": 86,
     "metadata": {},
     "output_type": "execute_result"
    },
    {
     "data": {
      "image/png": "[encoded data removed]",
      "text/plain": [
       "<Figure size 1500x300 with 1 Axes>"
      ]
     },
     "metadata": {},
     "output_type": "display_data"
    }
   ],
   "source": [
    "data.plot(x='total_area', y='last_price', kind='scatter', alpha=0.4, figsize=(15,3), title='Зависимость цен от кв м')"
   ]
  },
  {
   "cell_type": "markdown",
   "metadata": {},
   "source": [
    "При увеличении площади квартиры цена растет пропорционально."
   ]
  },
  {
   "cell_type": "markdown",
   "metadata": {},
   "source": [
    "###### Рассмотрим зависимость цены от метража жилой площади"
   ]
  },
  {
   "cell_type": "code",
   "execution_count": 85,
   "metadata": {},
   "outputs": [
    {
     "data": {
      "text/plain": [
       "<Axes: title={'center': 'Зависимость цены от жилой площади'}, xlabel='living_area', ylabel='last_price'>"
      ]
     },
     "execution_count": 85,
     "metadata": {},
     "output_type": "execute_result"
    },
    {
     "data": {
      "image/png": "[encoded data removed]",
      "text/plain": [
       "<Figure size 1500x300 with 1 Axes>"
      ]
     },
     "metadata": {},
     "output_type": "display_data"
    }
   ],
   "source": [
    "data.plot(x='living_area', y='last_price', kind='scatter', alpha=0.4, figsize=(15,3), title ='Зависимость цены от жилой площади')"
   ]
  },
  {
   "cell_type": "markdown",
   "metadata": {},
   "source": [
    "Жилая площадь также влияет на увеличение стоимости квартиры."
   ]
  },
  {
   "cell_type": "markdown",
   "metadata": {},
   "source": [
    "###### Рассмотрим зависимость цены от метража кухни"
   ]
  },
  {
   "cell_type": "code",
   "execution_count": 84,
   "metadata": {},
   "outputs": [
    {
     "data": {
      "text/plain": [
       "<Axes: title={'center': 'Зависимость цены квартиры от метража кухни'}, xlabel='kitchen_area', ylabel='last_price'>"
      ]
     },
     "execution_count": 84,
     "metadata": {},
     "output_type": "execute_result"
    },
    {
     "data": {
      "image/png": "[encoded data removed]",
      "text/plain": [
       "<Figure size 1500x300 with 1 Axes>"
      ]
     },
     "metadata": {},
     "output_type": "display_data"
    }
   ],
   "source": [
    "data.plot(x='kitchen_area', y='last_price', kind='scatter', alpha=0.4,figsize=(15,3), title='Зависимость цены квартиры от метража кухни' )"
   ]
  },
  {
   "cell_type": "markdown",
   "metadata": {},
   "source": [
    "В целом большая площадь кухни не сильно влияет на конечную стоимость квартиры,но все же увеличивает ее стоимость."
   ]
  },
  {
   "cell_type": "markdown",
   "metadata": {},
   "source": [
    "###### Рассмотрим зависимость цены от количества комнат"
   ]
  },
  {
   "cell_type": "code",
   "execution_count": 90,
   "metadata": {
    "scrolled": true
   },
   "outputs": [
    {
     "data": {
      "text/plain": [
       "<Axes: title={'center': 'Зависимость цены от количества комнат'}, xlabel='rooms'>"
      ]
     },
     "execution_count": 90,
     "metadata": {},
     "output_type": "execute_result"
    },
    {
     "data": {
      "image/png": "[encoded data removed]",
      "text/plain": [
       "<Figure size 1500x300 with 1 Axes>"
      ]
     },
     "metadata": {},
     "output_type": "display_data"
    }
   ],
   "source": [
    "rooms_to_price = data.pivot_table(index='rooms', values='last_price', aggfunc='mean')\n",
    "rooms_to_price.plot(y='last_price', kind='bar', legend=True, figsize=(15,3), title='Зависимость цены от количества комнат')"
   ]
  },
  {
   "cell_type": "markdown",
   "metadata": {},
   "source": [
    "Цены увеличиваются в соответствии с количеством комнат. Стоимость от 5-комнатных начинается с 14 млн. Самая дорогая квартира -15комнатная."
   ]
  },
  {
   "cell_type": "markdown",
   "metadata": {},
   "source": [
    "###### Рассмотрим зависимость цены от нахождения квартиры на этаже"
   ]
  },
  {
   "cell_type": "code",
   "execution_count": 89,
   "metadata": {},
   "outputs": [
    {
     "data": {
      "text/plain": [
       "<Axes: title={'center': 'Зависимость цены от этажа квартиры'}, xlabel='new_floor'>"
      ]
     },
     "execution_count": 89,
     "metadata": {},
     "output_type": "execute_result"
    },
    {
     "data": {
      "image/png": "[encoded data removed]",
      "text/plain": [
       "<Figure size 1500x300 with 1 Axes>"
      ]
     },
     "metadata": {},
     "output_type": "display_data"
    }
   ],
   "source": [
    "floor_price = data.pivot_table(index='new_floor', values='last_price', aggfunc='mean')\n",
    "floor_price.plot(y='last_price', kind='bar', legend=True, figsize=(15,3), title = 'Зависимость цены от этажа квартиры')"
   ]
  },
  {
   "cell_type": "markdown",
   "metadata": {},
   "source": [
    "Самые дорогие квартиры на последних этаж, чуть дешевле на других. Квартиры на первых этажах как и ожидалось продаются дешевле."
   ]
  },
  {
   "cell_type": "markdown",
   "metadata": {},
   "source": [
    "###### Рассмотрим зависимость цены от дня недели"
   ]
  },
  {
   "cell_type": "code",
   "execution_count": 92,
   "metadata": {},
   "outputs": [
    {
     "data": {
      "text/plain": [
       "<Axes: title={'center': 'Зависимость цены от дня недели'}, xlabel='weekday_2'>"
      ]
     },
     "execution_count": 92,
     "metadata": {},
     "output_type": "execute_result"
    },
    {
     "data": {
      "image/png": "[encoded data removed]",
      "text/plain": [
       "<Figure size 1500x300 with 1 Axes>"
      ]
     },
     "metadata": {},
     "output_type": "display_data"
    }
   ],
   "source": [
    "weekday_price = data.pivot_table(index='weekday_2', values='last_price', aggfunc='mean')\n",
    "weekday_price.plot(y='last_price', kind='bar', legend=True, title = 'Зависимость цены от дня недели', figsize=(15,3))"
   ]
  },
  {
   "cell_type": "markdown",
   "metadata": {},
   "source": [
    "Зависимости между днями и стоимостью не наблюдается, едиснтвенное, что чуть больше стоят квартиры, чьи объявления опубликованы в сб."
   ]
  },
  {
   "cell_type": "markdown",
   "metadata": {},
   "source": [
    "###### Рассмотрим зависимость цены от месяца года"
   ]
  },
  {
   "cell_type": "code",
   "execution_count": 94,
   "metadata": {},
   "outputs": [
    {
     "data": {
      "text/plain": [
       "<Axes: title={'center': 'Зависимость цены от месяца'}, xlabel='month'>"
      ]
     },
     "execution_count": 94,
     "metadata": {},
     "output_type": "execute_result"
    },
    {
     "data": {
      "image/png": "[encoded data removed]",
      "text/plain": [
       "<Figure size 1500x300 with 1 Axes>"
      ]
     },
     "metadata": {},
     "output_type": "display_data"
    }
   ],
   "source": [
    "month_to_price = data.pivot_table(index='month', values='last_price', aggfunc='mean')\n",
    "month_to_price.plot(y='last_price', kind='bar', legend=True, title = 'Зависимость цены от месяца', figsize=(15,3))"
   ]
  },
  {
   "cell_type": "markdown",
   "metadata": {},
   "source": [
    "Также и по месяцам, продажи квартиры не особо завязаны на месяце, в котором они пуликовались. Чуть больше стоят квартиры опубликованные в апреле, июле, сентябре и декабре."
   ]
  },
  {
   "cell_type": "markdown",
   "metadata": {},
   "source": [
    "###### Рассмотрим зависимость цены от года"
   ]
  },
  {
   "cell_type": "code",
   "execution_count": 95,
   "metadata": {},
   "outputs": [
    {
     "data": {
      "text/html": [
       "<div>\n",
       "<style scoped>\n",
       "    .dataframe tbody tr th:only-of-type {\n",
       "        vertical-align: middle;\n",
       "    }\n",
       "\n",
       "    .dataframe tbody tr th {\n",
       "        vertical-align: top;\n",
       "    }\n",
       "\n",
       "    .dataframe thead th {\n",
       "        text-align: right;\n",
       "    }\n",
       "</style>\n",
       "<table border=\"1\" class=\"dataframe\">\n",
       "  <thead>\n",
       "    <tr style=\"text-align: right;\">\n",
       "      <th></th>\n",
       "      <th>last_price</th>\n",
       "    </tr>\n",
       "    <tr>\n",
       "      <th>year</th>\n",
       "      <th></th>\n",
       "    </tr>\n",
       "  </thead>\n",
       "  <tbody>\n",
       "    <tr>\n",
       "      <th>2014</th>\n",
       "      <td>7700000</td>\n",
       "    </tr>\n",
       "    <tr>\n",
       "      <th>2015</th>\n",
       "      <td>5350000</td>\n",
       "    </tr>\n",
       "    <tr>\n",
       "      <th>2016</th>\n",
       "      <td>4550000</td>\n",
       "    </tr>\n",
       "    <tr>\n",
       "      <th>2017</th>\n",
       "      <td>4500000</td>\n",
       "    </tr>\n",
       "    <tr>\n",
       "      <th>2018</th>\n",
       "      <td>4550000</td>\n",
       "    </tr>\n",
       "    <tr>\n",
       "      <th>2019</th>\n",
       "      <td>5050000</td>\n",
       "    </tr>\n",
       "  </tbody>\n",
       "</table>\n",
       "</div>"
      ],
      "text/plain": [
       "      last_price\n",
       "year            \n",
       "2014     7700000\n",
       "2015     5350000\n",
       "2016     4550000\n",
       "2017     4500000\n",
       "2018     4550000\n",
       "2019     5050000"
      ]
     },
     "execution_count": 95,
     "metadata": {},
     "output_type": "execute_result"
    },
    {
     "data": {
      "image/png": "[encoded data removed]",
      "text/plain": [
       "<Figure size 1500x300 with 1 Axes>"
      ]
     },
     "metadata": {},
     "output_type": "display_data"
    }
   ],
   "source": [
    "year_to_price = data.pivot_table(index='year', values='last_price', aggfunc='median')\n",
    "year_to_price.plot(y='last_price', kind='bar', legend=True, title = 'Зависимость цены от года', figsize=(15,3))\n",
    "year_to_price"
   ]
  },
  {
   "cell_type": "markdown",
   "metadata": {},
   "source": [
    "Самые дорогие квартиры были в 2014 году, в остальные годы цены находились примерно на одном уровне. Возможно как-то повлиял кризис 2014 года."
   ]
  },
  {
   "cell_type": "markdown",
   "metadata": {},
   "source": [
    "###### Рассмотрим распределение количества квартир по городам"
   ]
  },
  {
   "cell_type": "code",
   "execution_count": 47,
   "metadata": {},
   "outputs": [
    {
     "data": {
      "text/plain": [
       "Санкт-Петербург      15671\n",
       "Мурино                 586\n",
       "Кудрово                472\n",
       "посёлок Шушары         440\n",
       "Всеволожск             398\n",
       "Пушкин                 369\n",
       "Колпино                338\n",
       "посёлок Парголово      321\n",
       "Гатчина                307\n",
       "Выборг                 237\n",
       "Name: locality_name, dtype: int64"
      ]
     },
     "execution_count": 47,
     "metadata": {},
     "output_type": "execute_result"
    }
   ],
   "source": [
    "data['locality_name'].value_counts().head(10)"
   ]
  },
  {
   "cell_type": "markdown",
   "metadata": {},
   "source": [
    "По срезу ТОП-10 по самым большим количествам обявлений Санкт-Петербург -15671 объявление, Мурино -586, Кудрово-472."
   ]
  },
  {
   "cell_type": "markdown",
   "metadata": {},
   "source": [
    "###### Рассмотрим распределение цены одного метра по городам"
   ]
  },
  {
   "cell_type": "code",
   "execution_count": 48,
   "metadata": {},
   "outputs": [
    {
     "data": {
      "text/plain": [
       "locality_name\n",
       "Всеволожск            68654.473986\n",
       "Выборг                58141.909153\n",
       "Гатчина               68746.146763\n",
       "Колпино               75424.579098\n",
       "Кудрово               95324.930544\n",
       "Мурино                86134.673802\n",
       "Пушкин               103125.819291\n",
       "Санкт-Петербург      114803.167526\n",
       "посёлок Парголово     90124.910061\n",
       "посёлок Шушары        78677.364217\n",
       "Name: one_metr_price, dtype: float64"
      ]
     },
     "execution_count": 48,
     "metadata": {},
     "output_type": "execute_result"
    }
   ],
   "source": [
    "data.query('locality_name in [\"Санкт-Петербург\",\"Мурино\", \"Кудрово\",\"посёлок Шушары\",\"Всеволожск\",\"Пушкин\",\"Колпино\",\"посёлок Парголово\",\"Гатчина\",\"Выборг\"]').groupby('locality_name')['one_metr_price'].mean()"
   ]
  },
  {
   "cell_type": "markdown",
   "metadata": {},
   "source": [
    "Самый дорогой средний метр в Санкт-Петербурге - 114803 руб/кв м и Пушкин - 103125 руб/кв м. Самый недорогой метраж в Выборге - 58141 руб/кв м."
   ]
  },
  {
   "cell_type": "markdown",
   "metadata": {},
   "source": [
    "###### Рассмотрим распределение кв метра в Санкт-Петербурге в зависимости от км до центра"
   ]
  },
  {
   "cell_type": "code",
   "execution_count": 96,
   "metadata": {},
   "outputs": [
    {
     "data": {
      "text/html": [
       "<div>\n",
       "<style scoped>\n",
       "    .dataframe tbody tr th:only-of-type {\n",
       "        vertical-align: middle;\n",
       "    }\n",
       "\n",
       "    .dataframe tbody tr th {\n",
       "        vertical-align: top;\n",
       "    }\n",
       "\n",
       "    .dataframe thead th {\n",
       "        text-align: right;\n",
       "    }\n",
       "</style>\n",
       "<table border=\"1\" class=\"dataframe\">\n",
       "  <thead>\n",
       "    <tr style=\"text-align: right;\">\n",
       "      <th></th>\n",
       "      <th>center_km</th>\n",
       "      <th>one_metr_price</th>\n",
       "    </tr>\n",
       "  </thead>\n",
       "  <tbody>\n",
       "    <tr>\n",
       "      <th>29</th>\n",
       "      <td>29.0</td>\n",
       "      <td>72953.365445</td>\n",
       "    </tr>\n",
       "    <tr>\n",
       "      <th>28</th>\n",
       "      <td>28.0</td>\n",
       "      <td>81161.915320</td>\n",
       "    </tr>\n",
       "    <tr>\n",
       "      <th>27</th>\n",
       "      <td>27.0</td>\n",
       "      <td>132115.709459</td>\n",
       "    </tr>\n",
       "    <tr>\n",
       "      <th>26</th>\n",
       "      <td>26.0</td>\n",
       "      <td>89285.876593</td>\n",
       "    </tr>\n",
       "    <tr>\n",
       "      <th>25</th>\n",
       "      <td>25.0</td>\n",
       "      <td>91531.371618</td>\n",
       "    </tr>\n",
       "  </tbody>\n",
       "</table>\n",
       "</div>"
      ],
      "text/plain": [
       "    center_km  one_metr_price\n",
       "29       29.0    72953.365445\n",
       "28       28.0    81161.915320\n",
       "27       27.0   132115.709459\n",
       "26       26.0    89285.876593\n",
       "25       25.0    91531.371618"
      ]
     },
     "execution_count": 96,
     "metadata": {},
     "output_type": "execute_result"
    }
   ],
   "source": [
    "data_spb = (data\n",
    "            .query('locality_name==\"Санкт-Петербург\"')\n",
    "            .pivot_table(index='center_km', values='one_metr_price', aggfunc='mean')\n",
    "            .reset_index(False))\n",
    "data_spb.sort_values(by='center_km', ascending=False).head()"
   ]
  },
  {
   "cell_type": "markdown",
   "metadata": {},
   "source": [
    "Близость от центра также влияет на стоимость квартиры. Чем ближе к центру, тем дороже. От 10 до 16 км от центра стоимость кв.м вариируется в пределах 112-110 тыс р, более 20 км от центра цена в пределах 80-90 тыс за кв м."
   ]
  },
  {
   "cell_type": "markdown",
   "metadata": {},
   "source": [
    "Вывод:\n",
    "\n",
    "В среднем общая площадь варьируется от 25 до 100 кв м, таких квартир порядка 20 тыс. 15 тыс квартир площадью до 40 кв.м., 5 тыс квартир площадью до 70-80 кв.м. В основном площадь кухни составляет до 20 кв м. Минимальная стоимость меньше 1 млн, одна из самых дорогих квартир стоит около 8 млн, в среднем цены варьируются до 2 млн. Около 8 тыс квартир 1-комнатные, 14 тыс квартир 2-4-комнатные, около 1 тыс квартир 5-комнатные. В основном 95% квартир имеют высоту потолков 2-3 м. Около 19 тыс квартир находится с 1 по 10 этаж, 3-4 тыс располагаются с 10 по 20 этажи. Примерно 17 тыс квартир находятся ни на первом, ни на последнем этажах, суммарно около 6 тыс квартир находится на певром и последних этажах. Большая часть квартир находится на расстоянии до 20 тыс м. В среднем квартиры находятся от ближайшего аэропорта от 10 до 60 тыс м. 4 тыс кв имеют парк в 400-600 м, для 2,5 тыс кв-р парк находтся на расстоянии до 300 м. По 4 тыс публикаций в янв-фев и дек, по 2 тыс весной, осенью и летом. В чт, вт, сб,вс публикуется примерно по 4 тыс объявлений,в пт наименьшее число публикаций объявлений - менее 2000\n",
    "Если рассматривать средние значения, то объявление находтся около 200 дней и далее идет постепенное снижение. Самый долгий срок 400 дней. Если рассматривать медианные значения самое высокое это 80 дней, самое менешее 400 дней. При увеличении площади квартиры цена растет пропорционально. Жилая площадь также влияет на увеличение стоимости квартиры. В целом большая площадь кухни не сильно влияет на конечную стоимость квартиры,но все же увеличивает ее стоимость.\n",
    "\n",
    "Самые дорогие квартиры на последних этаж, чуть дешевле на других. Квартиры на первых этажах как и ожидалось продаются дешевле. Самые недорогие квартиры студии и однокомнатные. В основном цены увеличиваются в соответствии с количеством комнат. Стоимость от 5-комнатных начинается с 14 млн. Самая дорогая квартира -15комнатная. Зависимости между днями и стоимостью не наблюдается, едиснтвенное, что чуть больше стоят квартиры, чьи объявления опубликованы в сб. Также и по месяцам, продажи квартиры не особо завязаны на месяце, в котором они пуликовались. Чуть больше стоят квартиры опубликованные в апреле, июле, сентябре и декабре.\n",
    "По зависимости цены от года можно сказать, что самые дорогие квартиры были в 2014 году, в остальные годы цены находились примерно на одном уровне. Возможно как-то повлиял кризис 2014 года.\n",
    "\n",
    "По срезу ТОП-10 по самым большим количествам обявлений Санкт-Петербург -15671 объявление, Мурино -586, Кудрово-472. Самый дорогой средний метр в Санкт-Петербурге - 114803 руб/кв м и Пушкин - 103125 руб/кв м. Самый недорогой метраж в Выборге - 58141 руб/кв м.\n",
    "\n",
    "Самые долгопродаваемыми квартирами можно считать квартиры в поселках Севастьяново,Молодёжное,Рабитицы. Объявления в среднем могут \"висеть\" от почти года (300 дней) до 3 лет. Самое старое объявление опубликовано более 1000 дней назад. А самые быстрые продажи (неделю и менее) прошли в поселоке Володарское, поселоке Заводской, садовом товариществе Садко, коттеджном поселоке Счастье, деревне Яльгелево.\n",
    "\n",
    "Близость от центра также влияет на стоимость квартиры. Чем ближе к центру, тем дороже. От 10 до 16 км от центра стоимость кв.м вариируется в пределах 112-110 тыс р, более 20 км от центра цена в пределах 80-90 тыс за кв м."
   ]
  },
  {
   "cell_type": "markdown",
   "metadata": {},
   "source": [
    "### Общий вывод"
   ]
  },
  {
   "cell_type": "markdown",
   "metadata": {},
   "source": [
    "Изучен датасет - архив объявлений о продаже квартир в Санкт-Петербурге и соседних населённых пунктов за несколько лет. Были заменены значения по некоторым группам и пропуски. В столбце Высота потолков были исправлены аномальные значения на более реальные, объеденены дублирующие наименования городов и пригородов. Пропущенные значения в балконах были заменены на 0,т.к. логичнее всего предположить, что они отсутствуют и пользователь пропустил заполнение данного поля. Т.к. часть данных заполняется пользователем вручную, предполагаю, что пользователи допускались человеческим факторром, (пропущено поле, запятая и пр). Другая часть данных отсутствует на мой взгляд по технической причине(расстояние до пруда и парка, кол-во дней публикации объявления).\n",
    "Из анализа данных можно судить от чего зависит стоимость квартиры. Больше всего на стоимость квартиры влияет удаленность от центра, метраж жилой площади и населенный пункт. Например, в Санкт-Петербурге стоимость одного квадратного метра 114 тыс, а в деревне Старополье всего 11 тыс руб за кв м. Самые дорогие квартиры в центре Санкт-Петербурга - средняя стоимость кв м - 245 тыс р, тогда как при удалении от центра цена также снижается, 10 км от центра 112 тыс, 20 км от центра 87 тыс за кв.м. Также мы можем точно сказать что в основном рынок недвижимости рос каждый год, лучше всего эту разницу можно увидеть на графике, сравнивая 2014 и 2015 годы. Такеж можно сказать, что квартиры на первых этажах квратиры берут менее охотно, чем на других.\n",
    "\n",
    "В среднем общая площадь варьируется от 25 до 100 кв м, таких квартир порядка 20 тыс. 15 тыс квартир площадью до 40 кв.м., 5 тыс квартир площадью до 70-80 кв.м. В основном площадь кухни составляет до 20 кв м. Минимальная стоимость меньше 1 млн, одна из самых дорогих квартир стоит около 8 млн, в среднем цены варьируются до 2 млн. Около 8 тыс квартир 1-комнатные, 14 тыс квартир 2-4-комнатные, около 1 тыс квартир 5-комнатные. В основном 95% квартир имеют высоту потолков 2-3 м. Около 19 тыс квартир находится с 1 по 10 этаж, 3-4 тыс располагаются с 10 по 20 этажи. Примерно 17 тыс квартир находятся ни на первом, ни на последнем этажах, суммарно около 6 тыс квартир находится на певром и последних этажах. Большая часть квартир находится на расстоянии до 20 тыс м. В среднем квартиры находятся от ближайшего аэропорта от 10 до 60 тыс м. 4 тыс кв имеют парк в 400-600 м, для 2,5 тыс кв-р парк находтся на расстоянии до 300 м. По 4 тыс публикаций в янв-фев и дек, по 2 тыс весной, осенью и летом. В чт, вт, сб,вс публикуется примерно по 4 тыс объявлений,в пт наименьшее число публикаций объявлений - менее 2000\n",
    "Если рассматривать средние значения, то объявление находтся около 200 дней и далее идет постепенное снижение. Самый долгий срок 400 дней. Если рассматривать медианные значения самое высокое это 80 дней, самое менешее 400 дней. При увеличении площади квартиры цена растет пропорционально. Жилая площадь также влияет на увеличение стоимости квартиры. В целом большая площадь кухни не сильно влияет на конечную стоимость квартиры,но все же увеличивает ее стоимость.\n",
    "\n",
    "Самые дорогие квартиры на последних этаж, чуть дешевле на других. Квартиры на первых этажах как и ожидалось продаются дешевле. Самые недорогие квартиры студии и однокомнатные. В основном цены увеличиваются в соответствии с количеством комнат. Стоимость от 5-комнатных начинается с 14 млн. Самая дорогая квартира -15комнатная. Зависимости между днями и стоимостью не наблюдается, едиснтвенное, что чуть больше стоят квартиры, чьи объявления опубликованы в сб. Также и по месяцам, продажи квартиры не особо завязаны на месяце, в котором они пуликовались. Чуть больше стоят квартиры опубликованные в апреле, июле, сентябре и декабре.\n",
    "По зависимости цены от года можно сказать, что самые дорогие квартиры были в 2014 году, в остальные годы цены находились примерно на одном уровне. Возможно как-то повлиял кризис 2014 года.\n",
    "\n",
    "По срезу ТОП-10 по самым большим количествам обявлений Санкт-Петербург -15671 объявление, Мурино -586, Кудрово-472. Самый дорогой средний метр в Санкт-Петербурге - 114803 руб/кв м и Пушкин - 103125 руб/кв м. Самый недорогой метраж в Выборге - 58141 руб/кв м.\n",
    "\n",
    "Самые долгопродаваемыми квартирами можно считать квартиры в поселках Севастьяново,Молодёжное,Рабитицы. Объявления в среднем могут \"висеть\" от почти года (300 дней) до 3 лет. Самое старое объявление опубликовано более 1000 дней назад. А самые быстрые продажи (неделю и менее) прошли в поселоке Володарское, поселоке Заводской, садовом товариществе Садко, коттеджном поселоке Счастье, деревне Яльгелево.\n",
    "\n",
    "Близость от центра также влияет на стоимость квартиры. Чем ближе к центру, тем дороже. От 10 до 16 км от центра стоимость кв.м вариируется в пределах 112-110 тыс р, более 20 км от центра цена в пределах 80-90 тыс за кв м."
   ]
  },
  {
   "cell_type": "code",
   "execution_count": null,
   "metadata": {},
   "outputs": [],
   "source": []
  }
 ],
 "metadata": {
  "ExecuteTimeLog": [
   {
    "duration": 513,
    "start_time": "2023-02-23T17:11:39.833Z"
   },
   {
    "duration": 17,
    "start_time": "2023-02-23T17:12:59.864Z"
   },
   {
    "duration": 500,
    "start_time": "2023-02-23T17:20:02.225Z"
   },
   {
    "duration": 98,
    "start_time": "2023-02-23T17:20:38.629Z"
   },
   {
    "duration": 113,
    "start_time": "2023-02-23T17:26:21.322Z"
   },
   {
    "duration": 2170,
    "start_time": "2023-02-23T17:45:51.355Z"
   },
   {
    "duration": 11,
    "start_time": "2023-02-23T17:56:43.637Z"
   },
   {
    "duration": 2999,
    "start_time": "2023-02-24T12:06:25.755Z"
   },
   {
    "duration": 8,
    "start_time": "2023-02-24T12:06:31.487Z"
   },
   {
    "duration": 13,
    "start_time": "2023-02-24T12:20:47.752Z"
   },
   {
    "duration": 8,
    "start_time": "2023-02-24T12:20:50.968Z"
   },
   {
    "duration": 2002,
    "start_time": "2023-02-24T12:21:06.450Z"
   },
   {
    "duration": 2038,
    "start_time": "2023-02-24T12:21:32.432Z"
   },
   {
    "duration": 10,
    "start_time": "2023-02-24T12:21:38.786Z"
   },
   {
    "duration": 19,
    "start_time": "2023-02-24T12:21:45.636Z"
   },
   {
    "duration": 11,
    "start_time": "2023-02-24T12:22:11.673Z"
   },
   {
    "duration": 47,
    "start_time": "2023-02-24T12:36:48.949Z"
   },
   {
    "duration": 31,
    "start_time": "2023-02-24T12:36:58.931Z"
   },
   {
    "duration": 43,
    "start_time": "2023-02-24T12:41:00.258Z"
   },
   {
    "duration": 17,
    "start_time": "2023-02-24T12:41:52.938Z"
   },
   {
    "duration": 38,
    "start_time": "2023-02-24T12:46:24.069Z"
   },
   {
    "duration": 127,
    "start_time": "2023-02-24T12:46:58.207Z"
   },
   {
    "duration": 33,
    "start_time": "2023-02-24T12:47:18.499Z"
   },
   {
    "duration": 1886,
    "start_time": "2023-02-24T12:52:42.948Z"
   },
   {
    "duration": 34,
    "start_time": "2023-02-24T12:53:31.736Z"
   },
   {
    "duration": 12,
    "start_time": "2023-02-24T12:53:35.667Z"
   },
   {
    "duration": 40,
    "start_time": "2023-02-24T13:07:47.219Z"
   },
   {
    "duration": 26,
    "start_time": "2023-02-24T13:08:01.062Z"
   },
   {
    "duration": 29,
    "start_time": "2023-02-24T13:13:36.356Z"
   },
   {
    "duration": 22,
    "start_time": "2023-02-24T13:14:52.750Z"
   },
   {
    "duration": 37,
    "start_time": "2023-02-24T13:17:23.885Z"
   },
   {
    "duration": 29,
    "start_time": "2023-02-24T13:28:01.238Z"
   },
   {
    "duration": 170,
    "start_time": "2023-02-24T13:30:00.771Z"
   },
   {
    "duration": 2741,
    "start_time": "2023-02-26T15:58:20.783Z"
   },
   {
    "duration": 34,
    "start_time": "2023-02-26T15:58:34.123Z"
   },
   {
    "duration": 14,
    "start_time": "2023-02-26T16:15:48.351Z"
   },
   {
    "duration": 14,
    "start_time": "2023-02-26T16:30:49.845Z"
   },
   {
    "duration": 11,
    "start_time": "2023-02-26T16:31:39.932Z"
   },
   {
    "duration": 2576,
    "start_time": "2023-02-26T16:43:38.040Z"
   },
   {
    "duration": 1875,
    "start_time": "2023-02-26T16:43:54.341Z"
   },
   {
    "duration": 1739,
    "start_time": "2023-02-26T16:55:44.744Z"
   },
   {
    "duration": 16,
    "start_time": "2023-02-26T17:06:28.496Z"
   },
   {
    "duration": 18,
    "start_time": "2023-02-26T17:07:19.674Z"
   },
   {
    "duration": 7,
    "start_time": "2023-02-26T17:23:04.800Z"
   },
   {
    "duration": 8,
    "start_time": "2023-02-26T17:23:54.298Z"
   },
   {
    "duration": 24,
    "start_time": "2023-02-26T17:36:40.694Z"
   },
   {
    "duration": 131,
    "start_time": "2023-02-26T17:38:48.066Z"
   },
   {
    "duration": 24,
    "start_time": "2023-02-26T17:52:03.644Z"
   },
   {
    "duration": 11,
    "start_time": "2023-02-26T17:52:07.540Z"
   },
   {
    "duration": 9,
    "start_time": "2023-02-26T17:58:08.537Z"
   },
   {
    "duration": 9,
    "start_time": "2023-02-26T17:58:25.428Z"
   },
   {
    "duration": 11,
    "start_time": "2023-02-26T18:04:15.501Z"
   },
   {
    "duration": 11,
    "start_time": "2023-02-26T18:04:18.465Z"
   },
   {
    "duration": 1863,
    "start_time": "2023-02-26T18:04:26.586Z"
   },
   {
    "duration": 25,
    "start_time": "2023-02-26T18:04:32.364Z"
   },
   {
    "duration": 49,
    "start_time": "2023-02-26T18:05:24.950Z"
   },
   {
    "duration": 28,
    "start_time": "2023-02-26T18:05:33.739Z"
   },
   {
    "duration": 25,
    "start_time": "2023-02-26T18:05:52.939Z"
   },
   {
    "duration": 24,
    "start_time": "2023-02-26T18:05:56.148Z"
   },
   {
    "duration": 24,
    "start_time": "2023-02-26T18:06:38.364Z"
   },
   {
    "duration": 25,
    "start_time": "2023-02-26T18:06:51.438Z"
   },
   {
    "duration": 25,
    "start_time": "2023-02-26T18:07:06.160Z"
   },
   {
    "duration": 25,
    "start_time": "2023-02-26T18:07:13.662Z"
   },
   {
    "duration": 26,
    "start_time": "2023-02-26T18:07:26.980Z"
   },
   {
    "duration": 28,
    "start_time": "2023-02-26T18:15:45.823Z"
   },
   {
    "duration": 34,
    "start_time": "2023-02-26T18:17:50.158Z"
   },
   {
    "duration": 27,
    "start_time": "2023-02-26T18:18:42.379Z"
   },
   {
    "duration": 26,
    "start_time": "2023-02-26T18:21:23.546Z"
   },
   {
    "duration": 37,
    "start_time": "2023-02-26T18:21:35.911Z"
   },
   {
    "duration": 31,
    "start_time": "2023-02-26T18:22:30.162Z"
   },
   {
    "duration": 29,
    "start_time": "2023-02-26T18:31:09.068Z"
   },
   {
    "duration": 32,
    "start_time": "2023-02-26T18:32:04.007Z"
   },
   {
    "duration": 31,
    "start_time": "2023-02-26T18:32:24.992Z"
   },
   {
    "duration": 2831,
    "start_time": "2023-02-27T07:53:06.072Z"
   },
   {
    "duration": 97,
    "start_time": "2023-02-27T07:53:28.994Z"
   },
   {
    "duration": 148,
    "start_time": "2023-02-27T07:56:08.542Z"
   },
   {
    "duration": 130,
    "start_time": "2023-02-27T07:56:16.251Z"
   },
   {
    "duration": 116,
    "start_time": "2023-02-27T07:56:59.111Z"
   },
   {
    "duration": 189,
    "start_time": "2023-02-27T07:57:11.822Z"
   },
   {
    "duration": 130,
    "start_time": "2023-02-27T07:57:57.033Z"
   },
   {
    "duration": 113,
    "start_time": "2023-02-27T08:17:46.249Z"
   },
   {
    "duration": 103,
    "start_time": "2023-02-27T08:20:24.011Z"
   },
   {
    "duration": 2093,
    "start_time": "2023-02-27T08:36:26.258Z"
   },
   {
    "duration": 127,
    "start_time": "2023-02-27T08:36:33.739Z"
   },
   {
    "duration": 183,
    "start_time": "2023-02-27T08:36:45.417Z"
   },
   {
    "duration": 197,
    "start_time": "2023-02-27T08:37:15.468Z"
   },
   {
    "duration": 2107,
    "start_time": "2023-02-27T08:37:29.605Z"
   },
   {
    "duration": 150,
    "start_time": "2023-02-27T08:37:36.121Z"
   },
   {
    "duration": 171,
    "start_time": "2023-02-27T08:54:27.289Z"
   },
   {
    "duration": 138,
    "start_time": "2023-02-27T08:54:53.801Z"
   },
   {
    "duration": 164,
    "start_time": "2023-02-27T08:55:37.160Z"
   },
   {
    "duration": 149,
    "start_time": "2023-02-27T08:56:05.266Z"
   },
   {
    "duration": 103,
    "start_time": "2023-02-27T08:56:29.491Z"
   },
   {
    "duration": 102,
    "start_time": "2023-02-27T08:58:18.994Z"
   },
   {
    "duration": 105,
    "start_time": "2023-02-27T08:58:24.407Z"
   },
   {
    "duration": 2017,
    "start_time": "2023-02-27T08:58:33.703Z"
   },
   {
    "duration": 145,
    "start_time": "2023-02-27T08:58:42.112Z"
   },
   {
    "duration": 108,
    "start_time": "2023-02-27T08:59:43.672Z"
   },
   {
    "duration": 120,
    "start_time": "2023-02-27T09:00:55.877Z"
   },
   {
    "duration": 111,
    "start_time": "2023-02-27T09:42:33.324Z"
   },
   {
    "duration": 99,
    "start_time": "2023-02-27T09:42:44.692Z"
   },
   {
    "duration": 2082,
    "start_time": "2023-02-27T09:42:56.832Z"
   },
   {
    "duration": 184,
    "start_time": "2023-02-27T09:43:07.797Z"
   },
   {
    "duration": 176,
    "start_time": "2023-02-27T09:43:43.669Z"
   },
   {
    "duration": 161,
    "start_time": "2023-02-27T09:44:59.965Z"
   },
   {
    "duration": 252,
    "start_time": "2023-02-27T09:50:54.984Z"
   },
   {
    "duration": 199,
    "start_time": "2023-02-27T09:52:26.522Z"
   },
   {
    "duration": 122,
    "start_time": "2023-02-27T09:52:54.064Z"
   },
   {
    "duration": 105,
    "start_time": "2023-02-27T09:53:13.280Z"
   },
   {
    "duration": 2176,
    "start_time": "2023-02-27T09:53:22.705Z"
   },
   {
    "duration": 195,
    "start_time": "2023-02-27T09:53:32.688Z"
   },
   {
    "duration": 180,
    "start_time": "2023-02-27T09:53:52.286Z"
   },
   {
    "duration": 26026,
    "start_time": "2023-02-27T09:58:43.953Z"
   },
   {
    "duration": 26054,
    "start_time": "2023-02-27T10:00:12.184Z"
   },
   {
    "duration": 198,
    "start_time": "2023-02-27T10:01:44.116Z"
   },
   {
    "duration": 26571,
    "start_time": "2023-02-27T10:02:04.600Z"
   },
   {
    "duration": 1913,
    "start_time": "2023-02-27T10:44:57.635Z"
   },
   {
    "duration": 26790,
    "start_time": "2023-02-27T10:45:03.977Z"
   },
   {
    "duration": 151,
    "start_time": "2023-02-27T10:47:07.681Z"
   },
   {
    "duration": 151,
    "start_time": "2023-02-27T10:48:43.698Z"
   },
   {
    "duration": 2355,
    "start_time": "2023-02-27T11:04:30.538Z"
   },
   {
    "duration": 178,
    "start_time": "2023-02-27T11:05:01.435Z"
   },
   {
    "duration": 185,
    "start_time": "2023-02-27T11:07:50.695Z"
   },
   {
    "duration": 176,
    "start_time": "2023-02-27T11:08:03.338Z"
   },
   {
    "duration": 113,
    "start_time": "2023-02-27T11:25:53.662Z"
   },
   {
    "duration": 1499,
    "start_time": "2023-02-27T11:26:06.425Z"
   },
   {
    "duration": 1428,
    "start_time": "2023-02-27T11:26:26.178Z"
   },
   {
    "duration": 2208,
    "start_time": "2023-02-27T11:26:53.844Z"
   },
   {
    "duration": 1419,
    "start_time": "2023-02-27T11:26:58.278Z"
   },
   {
    "duration": 1458,
    "start_time": "2023-02-27T11:27:06.753Z"
   },
   {
    "duration": 924,
    "start_time": "2023-02-27T11:27:46.053Z"
   },
   {
    "duration": 1024,
    "start_time": "2023-02-27T11:28:15.380Z"
   },
   {
    "duration": 167,
    "start_time": "2023-02-27T11:39:24.157Z"
   },
   {
    "duration": 187,
    "start_time": "2023-02-27T11:39:32.705Z"
   },
   {
    "duration": 2241,
    "start_time": "2023-02-27T11:39:39.959Z"
   },
   {
    "duration": 156,
    "start_time": "2023-02-27T11:39:46.874Z"
   },
   {
    "duration": 195,
    "start_time": "2023-02-27T11:42:28.208Z"
   },
   {
    "duration": 206,
    "start_time": "2023-02-27T11:42:55.375Z"
   },
   {
    "duration": 185,
    "start_time": "2023-02-27T11:43:12.114Z"
   },
   {
    "duration": 1854,
    "start_time": "2023-02-27T11:43:22.673Z"
   },
   {
    "duration": 2294,
    "start_time": "2023-02-27T11:43:30.443Z"
   },
   {
    "duration": 187,
    "start_time": "2023-02-27T11:43:35.996Z"
   },
   {
    "duration": 100,
    "start_time": "2023-02-27T11:44:46.686Z"
   },
   {
    "duration": 101,
    "start_time": "2023-02-27T11:45:14.469Z"
   },
   {
    "duration": 159,
    "start_time": "2023-02-27T11:46:16.472Z"
   },
   {
    "duration": 180,
    "start_time": "2023-02-27T11:47:04.808Z"
   },
   {
    "duration": 219,
    "start_time": "2023-02-27T11:47:17.176Z"
   },
   {
    "duration": 99,
    "start_time": "2023-02-27T11:49:14.379Z"
   },
   {
    "duration": 110,
    "start_time": "2023-02-27T11:49:31.824Z"
   },
   {
    "duration": 88,
    "start_time": "2023-02-27T11:51:07.526Z"
   },
   {
    "duration": 148,
    "start_time": "2023-02-27T12:00:46.364Z"
   },
   {
    "duration": 1797,
    "start_time": "2023-02-27T12:02:11.899Z"
   },
   {
    "duration": 159,
    "start_time": "2023-02-27T12:02:19.858Z"
   },
   {
    "duration": 186,
    "start_time": "2023-02-27T12:03:43.513Z"
   },
   {
    "duration": 173,
    "start_time": "2023-02-27T12:23:41.199Z"
   },
   {
    "duration": 195,
    "start_time": "2023-02-27T12:23:47.328Z"
   },
   {
    "duration": 107,
    "start_time": "2023-02-27T12:24:21.772Z"
   },
   {
    "duration": 208,
    "start_time": "2023-02-27T12:24:37.777Z"
   },
   {
    "duration": 168,
    "start_time": "2023-02-27T12:25:11.547Z"
   },
   {
    "duration": 155,
    "start_time": "2023-02-27T12:26:12.091Z"
   },
   {
    "duration": 165,
    "start_time": "2023-02-27T12:26:47.196Z"
   },
   {
    "duration": 156,
    "start_time": "2023-02-27T12:32:33.872Z"
   },
   {
    "duration": 164,
    "start_time": "2023-02-27T12:33:07.177Z"
   },
   {
    "duration": 162,
    "start_time": "2023-02-27T12:35:59.064Z"
   },
   {
    "duration": 157,
    "start_time": "2023-02-27T12:36:08.075Z"
   },
   {
    "duration": 175,
    "start_time": "2023-02-27T12:36:46.791Z"
   },
   {
    "duration": 2241,
    "start_time": "2023-02-27T12:36:54.304Z"
   },
   {
    "duration": 187,
    "start_time": "2023-02-27T12:36:56.845Z"
   },
   {
    "duration": 175,
    "start_time": "2023-02-27T12:37:18.788Z"
   },
   {
    "duration": 169,
    "start_time": "2023-02-27T12:38:01.361Z"
   },
   {
    "duration": 154,
    "start_time": "2023-02-27T12:39:23.680Z"
   },
   {
    "duration": 181,
    "start_time": "2023-02-27T12:45:39.285Z"
   },
   {
    "duration": 192,
    "start_time": "2023-02-27T12:45:48.480Z"
   },
   {
    "duration": 163,
    "start_time": "2023-02-27T12:56:00.303Z"
   },
   {
    "duration": 203,
    "start_time": "2023-02-27T12:56:09.263Z"
   },
   {
    "duration": 201,
    "start_time": "2023-02-27T12:56:30.484Z"
   },
   {
    "duration": 219,
    "start_time": "2023-02-27T12:59:39.786Z"
   },
   {
    "duration": 257,
    "start_time": "2023-02-27T12:59:58.931Z"
   },
   {
    "duration": 3565,
    "start_time": "2023-02-27T15:32:31.800Z"
   },
   {
    "duration": 265,
    "start_time": "2023-02-27T15:32:43.177Z"
   },
   {
    "duration": 255,
    "start_time": "2023-02-27T15:48:13.490Z"
   },
   {
    "duration": 262,
    "start_time": "2023-02-27T15:49:00.809Z"
   },
   {
    "duration": 274,
    "start_time": "2023-02-27T15:50:10.062Z"
   },
   {
    "duration": 515,
    "start_time": "2023-02-27T15:50:49.972Z"
   },
   {
    "duration": 175,
    "start_time": "2023-02-27T15:51:32.759Z"
   },
   {
    "duration": 26,
    "start_time": "2023-02-27T15:51:52.554Z"
   },
   {
    "duration": 22,
    "start_time": "2023-02-27T15:52:22.712Z"
   },
   {
    "duration": 2058,
    "start_time": "2023-02-27T15:52:46.682Z"
   },
   {
    "duration": 180,
    "start_time": "2023-02-27T15:52:54.876Z"
   },
   {
    "duration": 219,
    "start_time": "2023-02-27T15:53:12.578Z"
   },
   {
    "duration": 299,
    "start_time": "2023-02-27T15:53:41.527Z"
   },
   {
    "duration": 233,
    "start_time": "2023-02-27T15:55:00.293Z"
   },
   {
    "duration": 210,
    "start_time": "2023-02-27T15:55:09.156Z"
   },
   {
    "duration": 223,
    "start_time": "2023-02-27T15:56:25.571Z"
   },
   {
    "duration": 174,
    "start_time": "2023-02-27T15:57:58.428Z"
   },
   {
    "duration": 181,
    "start_time": "2023-02-27T15:59:03.856Z"
   },
   {
    "duration": 234,
    "start_time": "2023-02-27T15:59:09.188Z"
   },
   {
    "duration": 212,
    "start_time": "2023-02-27T16:01:27.014Z"
   },
   {
    "duration": 209,
    "start_time": "2023-02-27T16:01:57.475Z"
   },
   {
    "duration": 272,
    "start_time": "2023-02-27T16:02:15.927Z"
   },
   {
    "duration": 211,
    "start_time": "2023-02-27T16:02:22.607Z"
   },
   {
    "duration": 204,
    "start_time": "2023-02-27T16:02:36.896Z"
   },
   {
    "duration": 245,
    "start_time": "2023-02-27T16:03:57.856Z"
   },
   {
    "duration": 220,
    "start_time": "2023-02-27T16:04:11.352Z"
   },
   {
    "duration": 182,
    "start_time": "2023-02-27T16:05:05.515Z"
   },
   {
    "duration": 187,
    "start_time": "2023-02-27T16:05:16.819Z"
   },
   {
    "duration": 180,
    "start_time": "2023-02-27T16:05:50.086Z"
   },
   {
    "duration": 217,
    "start_time": "2023-02-27T16:06:21.140Z"
   },
   {
    "duration": 102,
    "start_time": "2023-02-27T16:14:18.464Z"
   },
   {
    "duration": 2160,
    "start_time": "2023-02-27T16:14:42.418Z"
   },
   {
    "duration": 93,
    "start_time": "2023-02-27T16:14:47.918Z"
   },
   {
    "duration": 189,
    "start_time": "2023-02-27T16:14:57.017Z"
   },
   {
    "duration": 198,
    "start_time": "2023-02-27T16:17:01.878Z"
   },
   {
    "duration": 172,
    "start_time": "2023-02-27T16:26:41.675Z"
   },
   {
    "duration": 182,
    "start_time": "2023-02-27T16:27:00.068Z"
   },
   {
    "duration": 36,
    "start_time": "2023-02-27T16:29:41.398Z"
   },
   {
    "duration": 13,
    "start_time": "2023-02-27T16:38:36.680Z"
   },
   {
    "duration": 11,
    "start_time": "2023-02-27T16:42:17.388Z"
   },
   {
    "duration": 10,
    "start_time": "2023-02-27T16:43:11.484Z"
   },
   {
    "duration": 44,
    "start_time": "2023-02-27T16:43:23.245Z"
   },
   {
    "duration": 48,
    "start_time": "2023-02-27T16:43:39.266Z"
   },
   {
    "duration": 71,
    "start_time": "2023-02-27T16:53:16.079Z"
   },
   {
    "duration": 57,
    "start_time": "2023-02-27T16:57:50.321Z"
   },
   {
    "duration": 59,
    "start_time": "2023-02-27T16:58:39.865Z"
   },
   {
    "duration": 175,
    "start_time": "2023-02-27T17:03:13.262Z"
   },
   {
    "duration": 71,
    "start_time": "2023-02-27T18:00:24.015Z"
   },
   {
    "duration": 71,
    "start_time": "2023-02-27T18:00:37.986Z"
   },
   {
    "duration": 32,
    "start_time": "2023-02-27T18:02:09.008Z"
   },
   {
    "duration": 32,
    "start_time": "2023-02-27T18:02:24.508Z"
   },
   {
    "duration": 32,
    "start_time": "2023-02-27T18:03:02.438Z"
   },
   {
    "duration": 34,
    "start_time": "2023-02-27T18:03:10.176Z"
   },
   {
    "duration": 1300,
    "start_time": "2023-02-27T18:06:46.614Z"
   },
   {
    "duration": 193,
    "start_time": "2023-02-27T18:11:06.821Z"
   },
   {
    "duration": 206,
    "start_time": "2023-02-27T18:14:47.852Z"
   },
   {
    "duration": 31,
    "start_time": "2023-02-27T18:15:18.508Z"
   },
   {
    "duration": 204,
    "start_time": "2023-02-27T18:16:05.300Z"
   },
   {
    "duration": 30,
    "start_time": "2023-02-27T18:16:11.996Z"
   },
   {
    "duration": 199,
    "start_time": "2023-02-27T18:20:41.226Z"
   },
   {
    "duration": 198,
    "start_time": "2023-02-27T18:38:00.623Z"
   },
   {
    "duration": 95,
    "start_time": "2023-02-27T18:50:32.780Z"
   },
   {
    "duration": 1372,
    "start_time": "2023-02-27T18:50:45.165Z"
   },
   {
    "duration": 1259,
    "start_time": "2023-02-27T18:52:19.089Z"
   },
   {
    "duration": 1448,
    "start_time": "2023-02-27T18:52:38.707Z"
   },
   {
    "duration": 171,
    "start_time": "2023-02-27T18:57:23.004Z"
   },
   {
    "duration": 1218,
    "start_time": "2023-02-27T18:59:24.565Z"
   },
   {
    "duration": 1362,
    "start_time": "2023-02-27T19:02:53.208Z"
   },
   {
    "duration": 2479,
    "start_time": "2023-02-27T19:03:04.789Z"
   },
   {
    "duration": 226,
    "start_time": "2023-02-27T19:03:11.867Z"
   },
   {
    "duration": 1351,
    "start_time": "2023-02-27T19:03:22.129Z"
   },
   {
    "duration": 31,
    "start_time": "2023-02-27T19:05:09.065Z"
   },
   {
    "duration": 57,
    "start_time": "2023-02-27T19:05:16.868Z"
   },
   {
    "duration": 1260,
    "start_time": "2023-02-27T19:06:15.269Z"
   },
   {
    "duration": 1222,
    "start_time": "2023-02-27T19:06:48.018Z"
   },
   {
    "duration": 1272,
    "start_time": "2023-02-27T19:09:35.377Z"
   },
   {
    "duration": 48,
    "start_time": "2023-02-27T19:10:29.485Z"
   },
   {
    "duration": 80,
    "start_time": "2023-02-27T19:10:39.130Z"
   },
   {
    "duration": 1262,
    "start_time": "2023-02-27T19:12:47.695Z"
   },
   {
    "duration": 1285,
    "start_time": "2023-02-27T19:13:35.544Z"
   },
   {
    "duration": 48,
    "start_time": "2023-02-27T19:14:34.069Z"
   },
   {
    "duration": 262,
    "start_time": "2023-02-27T19:14:40.631Z"
   },
   {
    "duration": 42,
    "start_time": "2023-02-27T19:15:36.369Z"
   },
   {
    "duration": 36,
    "start_time": "2023-02-27T19:15:47.617Z"
   },
   {
    "duration": 1150,
    "start_time": "2023-02-27T19:20:25.034Z"
   },
   {
    "duration": 58,
    "start_time": "2023-02-27T19:21:00.843Z"
   },
   {
    "duration": 49,
    "start_time": "2023-02-28T17:00:12.675Z"
   },
   {
    "duration": 11,
    "start_time": "2023-02-28T17:00:33.240Z"
   },
   {
    "duration": 3462,
    "start_time": "2023-02-28T17:00:39.931Z"
   },
   {
    "duration": 197,
    "start_time": "2023-02-28T17:00:48.476Z"
   },
   {
    "duration": 26,
    "start_time": "2023-02-28T17:00:54.438Z"
   },
   {
    "duration": 51,
    "start_time": "2023-02-28T17:01:10.290Z"
   },
   {
    "duration": 52,
    "start_time": "2023-02-28T17:01:42.020Z"
   },
   {
    "duration": 46,
    "start_time": "2023-02-28T17:04:04.462Z"
   },
   {
    "duration": 126,
    "start_time": "2023-02-28T17:04:47.588Z"
   },
   {
    "duration": 35,
    "start_time": "2023-02-28T17:05:53.699Z"
   },
   {
    "duration": 34,
    "start_time": "2023-02-28T17:06:04.955Z"
   },
   {
    "duration": 43,
    "start_time": "2023-02-28T17:06:28.058Z"
   },
   {
    "duration": 49,
    "start_time": "2023-02-28T17:18:09.330Z"
   },
   {
    "duration": 51,
    "start_time": "2023-02-28T17:19:42.554Z"
   },
   {
    "duration": 65,
    "start_time": "2023-02-28T17:20:00.640Z"
   },
   {
    "duration": 68,
    "start_time": "2023-02-28T17:20:42.838Z"
   },
   {
    "duration": 63,
    "start_time": "2023-02-28T17:21:39.228Z"
   },
   {
    "duration": 3270,
    "start_time": "2023-03-01T19:30:23.454Z"
   },
   {
    "duration": 237,
    "start_time": "2023-03-01T19:30:31.339Z"
   },
   {
    "duration": 72,
    "start_time": "2023-03-01T19:30:51.584Z"
   },
   {
    "duration": 62,
    "start_time": "2023-03-01T19:31:15.657Z"
   },
   {
    "duration": 67,
    "start_time": "2023-03-01T19:45:51.225Z"
   },
   {
    "duration": 72,
    "start_time": "2023-03-01T19:46:20.939Z"
   },
   {
    "duration": 284,
    "start_time": "2023-03-01T19:52:41.690Z"
   },
   {
    "duration": 222,
    "start_time": "2023-03-01T19:52:55.894Z"
   },
   {
    "duration": 3228,
    "start_time": "2023-03-02T18:30:52.693Z"
   },
   {
    "duration": 228,
    "start_time": "2023-03-02T18:31:06.207Z"
   },
   {
    "duration": 73,
    "start_time": "2023-03-02T18:31:13.903Z"
   },
   {
    "duration": 2770,
    "start_time": "2023-03-02T18:32:28.092Z"
   },
   {
    "duration": 122,
    "start_time": "2023-03-02T18:37:06.146Z"
   },
   {
    "duration": 124,
    "start_time": "2023-03-02T18:37:36.501Z"
   },
   {
    "duration": 333,
    "start_time": "2023-03-02T18:37:49.883Z"
   },
   {
    "duration": 83,
    "start_time": "2023-03-02T18:39:19.678Z"
   },
   {
    "duration": 87,
    "start_time": "2023-03-02T18:39:31.082Z"
   },
   {
    "duration": 1508,
    "start_time": "2023-03-02T18:40:20.980Z"
   },
   {
    "duration": 2121,
    "start_time": "2023-03-02T18:42:06.703Z"
   },
   {
    "duration": 55,
    "start_time": "2023-03-02T18:42:24.008Z"
   },
   {
    "duration": 3036,
    "start_time": "2023-03-02T18:42:28.108Z"
   },
   {
    "duration": 852,
    "start_time": "2023-03-02T18:42:47.072Z"
   },
   {
    "duration": 1000,
    "start_time": "2023-03-02T18:43:23.137Z"
   },
   {
    "duration": 224,
    "start_time": "2023-03-02T18:43:35.255Z"
   },
   {
    "duration": 130,
    "start_time": "2023-03-02T18:44:18.285Z"
   },
   {
    "duration": 235,
    "start_time": "2023-03-02T18:55:07.119Z"
   },
   {
    "duration": 1312,
    "start_time": "2023-03-02T18:55:15.281Z"
   },
   {
    "duration": 2841,
    "start_time": "2023-03-02T18:56:40.423Z"
   },
   {
    "duration": 1241,
    "start_time": "2023-03-02T18:56:48.630Z"
   },
   {
    "duration": 257,
    "start_time": "2023-03-02T18:56:59.281Z"
   },
   {
    "duration": 1298,
    "start_time": "2023-03-02T19:01:01.593Z"
   },
   {
    "duration": 142,
    "start_time": "2023-03-02T19:01:15.370Z"
   },
   {
    "duration": 626,
    "start_time": "2023-03-02T19:01:29.624Z"
   },
   {
    "duration": 1775,
    "start_time": "2023-03-02T19:04:36.994Z"
   },
   {
    "duration": 231,
    "start_time": "2023-03-02T19:06:02.604Z"
   },
   {
    "duration": 1250,
    "start_time": "2023-03-02T19:07:02.230Z"
   },
   {
    "duration": 188,
    "start_time": "2023-03-02T19:07:09.317Z"
   },
   {
    "duration": 131,
    "start_time": "2023-03-02T19:09:23.756Z"
   },
   {
    "duration": 175,
    "start_time": "2023-03-02T19:09:39.906Z"
   },
   {
    "duration": 153,
    "start_time": "2023-03-02T19:12:34.621Z"
   },
   {
    "duration": 135,
    "start_time": "2023-03-02T19:12:44.354Z"
   },
   {
    "duration": 87,
    "start_time": "2023-03-02T19:13:15.890Z"
   },
   {
    "duration": 51,
    "start_time": "2023-03-02T19:13:59.863Z"
   },
   {
    "duration": 77,
    "start_time": "2023-03-02T19:14:16.338Z"
   },
   {
    "duration": 76,
    "start_time": "2023-03-02T19:14:41.609Z"
   },
   {
    "duration": 151,
    "start_time": "2023-03-02T19:17:11.182Z"
   },
   {
    "duration": 145,
    "start_time": "2023-03-02T19:17:20.237Z"
   },
   {
    "duration": 140,
    "start_time": "2023-03-02T19:17:48.356Z"
   },
   {
    "duration": 77,
    "start_time": "2023-03-02T19:18:13.116Z"
   },
   {
    "duration": 49,
    "start_time": "2023-03-02T19:19:12.182Z"
   },
   {
    "duration": 56,
    "start_time": "2023-03-02T19:19:41.897Z"
   },
   {
    "duration": 148,
    "start_time": "2023-03-02T19:20:14.413Z"
   },
   {
    "duration": 146,
    "start_time": "2023-03-02T19:20:20.725Z"
   },
   {
    "duration": 136,
    "start_time": "2023-03-02T19:20:32.530Z"
   },
   {
    "duration": 77,
    "start_time": "2023-03-02T19:22:17.813Z"
   },
   {
    "duration": 4,
    "start_time": "2023-03-02T19:22:42.710Z"
   },
   {
    "duration": 140,
    "start_time": "2023-03-02T19:23:57.322Z"
   },
   {
    "duration": 139,
    "start_time": "2023-03-02T19:24:08.365Z"
   },
   {
    "duration": 711,
    "start_time": "2023-03-02T19:24:12.999Z"
   },
   {
    "duration": 4,
    "start_time": "2023-03-02T19:24:25.650Z"
   },
   {
    "duration": 281,
    "start_time": "2023-03-02T19:24:29.375Z"
   },
   {
    "duration": 77,
    "start_time": "2023-03-02T19:24:44.465Z"
   },
   {
    "duration": 1461,
    "start_time": "2023-03-02T19:25:05.421Z"
   },
   {
    "duration": 138,
    "start_time": "2023-03-02T19:25:14.797Z"
   },
   {
    "duration": 260,
    "start_time": "2023-03-02T19:25:25.274Z"
   },
   {
    "duration": 190,
    "start_time": "2023-03-02T19:25:29.972Z"
   },
   {
    "duration": 751,
    "start_time": "2023-03-02T19:25:44.814Z"
   },
   {
    "duration": 141,
    "start_time": "2023-03-02T19:25:53.184Z"
   },
   {
    "duration": 116,
    "start_time": "2023-03-02T19:26:28.539Z"
   },
   {
    "duration": 127,
    "start_time": "2023-03-02T19:26:35.369Z"
   },
   {
    "duration": 135,
    "start_time": "2023-03-02T19:26:53.829Z"
   },
   {
    "duration": 144,
    "start_time": "2023-03-02T19:26:58.146Z"
   },
   {
    "duration": 84,
    "start_time": "2023-03-02T19:36:00.367Z"
   },
   {
    "duration": 148,
    "start_time": "2023-03-02T19:36:20.710Z"
   },
   {
    "duration": 127,
    "start_time": "2023-03-02T19:36:35.970Z"
   },
   {
    "duration": 127,
    "start_time": "2023-03-02T19:38:24.113Z"
   },
   {
    "duration": 50,
    "start_time": "2023-03-02T19:38:38.569Z"
   },
   {
    "duration": 53,
    "start_time": "2023-03-02T19:38:45.262Z"
   },
   {
    "duration": 125,
    "start_time": "2023-03-02T19:39:31.293Z"
   },
   {
    "duration": 164,
    "start_time": "2023-03-02T19:43:15.332Z"
   },
   {
    "duration": 150,
    "start_time": "2023-03-02T19:43:21.601Z"
   },
   {
    "duration": 58,
    "start_time": "2023-03-02T19:43:34.385Z"
   },
   {
    "duration": 180,
    "start_time": "2023-03-02T19:44:00.279Z"
   },
   {
    "duration": 165,
    "start_time": "2023-03-02T19:46:14.309Z"
   },
   {
    "duration": 181,
    "start_time": "2023-03-02T19:46:30.503Z"
   },
   {
    "duration": 161,
    "start_time": "2023-03-02T19:47:55.683Z"
   },
   {
    "duration": 179,
    "start_time": "2023-03-02T19:47:59.179Z"
   },
   {
    "duration": 90,
    "start_time": "2023-03-02T19:50:18.795Z"
   },
   {
    "duration": 141,
    "start_time": "2023-03-02T19:50:39.569Z"
   },
   {
    "duration": 165,
    "start_time": "2023-03-02T19:50:48.611Z"
   },
   {
    "duration": 156,
    "start_time": "2023-03-02T19:50:57.437Z"
   },
   {
    "duration": 180,
    "start_time": "2023-03-02T19:51:09.870Z"
   },
   {
    "duration": 309,
    "start_time": "2023-03-02T19:51:32.720Z"
   },
   {
    "duration": 2299,
    "start_time": "2023-03-02T19:51:37.075Z"
   },
   {
    "duration": 1527,
    "start_time": "2023-03-02T19:51:44.397Z"
   },
   {
    "duration": 143,
    "start_time": "2023-03-02T19:51:50.540Z"
   },
   {
    "duration": 101,
    "start_time": "2023-03-02T19:54:32.377Z"
   },
   {
    "duration": 259,
    "start_time": "2023-03-02T19:55:44.353Z"
   },
   {
    "duration": 246,
    "start_time": "2023-03-02T19:56:00.899Z"
   },
   {
    "duration": 261,
    "start_time": "2023-03-02T19:56:20.934Z"
   },
   {
    "duration": 256,
    "start_time": "2023-03-02T19:57:03.651Z"
   },
   {
    "duration": 242,
    "start_time": "2023-03-02T19:57:09.757Z"
   },
   {
    "duration": 1358,
    "start_time": "2023-03-02T19:58:10.739Z"
   },
   {
    "duration": 1046,
    "start_time": "2023-03-02T19:58:29.886Z"
   },
   {
    "duration": 2096,
    "start_time": "2023-03-02T20:05:14.061Z"
   },
   {
    "duration": 222,
    "start_time": "2023-03-02T20:05:43.909Z"
   },
   {
    "duration": 213,
    "start_time": "2023-03-02T20:06:07.736Z"
   },
   {
    "duration": 207,
    "start_time": "2023-03-02T20:06:28.719Z"
   },
   {
    "duration": 81,
    "start_time": "2023-03-02T20:07:02.173Z"
   },
   {
    "duration": 363,
    "start_time": "2023-03-02T20:08:06.688Z"
   },
   {
    "duration": 246,
    "start_time": "2023-03-02T20:08:14.924Z"
   },
   {
    "duration": 128,
    "start_time": "2023-03-02T20:10:35.486Z"
   },
   {
    "duration": 170,
    "start_time": "2023-03-02T20:10:40.872Z"
   },
   {
    "duration": 47,
    "start_time": "2023-03-02T20:10:55.632Z"
   },
   {
    "duration": 1415,
    "start_time": "2023-03-02T20:11:01.381Z"
   },
   {
    "duration": 274,
    "start_time": "2023-03-02T20:11:43.622Z"
   },
   {
    "duration": 154,
    "start_time": "2023-03-02T20:11:53.883Z"
   },
   {
    "duration": 237,
    "start_time": "2023-03-02T20:13:41.071Z"
   },
   {
    "duration": 144,
    "start_time": "2023-03-02T20:13:44.893Z"
   },
   {
    "duration": 226,
    "start_time": "2023-03-02T20:15:27.975Z"
   },
   {
    "duration": 736,
    "start_time": "2023-03-02T20:18:38.213Z"
   },
   {
    "duration": 154,
    "start_time": "2023-03-02T20:18:47.391Z"
   },
   {
    "duration": 177,
    "start_time": "2023-03-02T20:20:38.823Z"
   },
   {
    "duration": 21,
    "start_time": "2023-03-02T20:28:39.891Z"
   },
   {
    "duration": 17,
    "start_time": "2023-03-02T20:30:53.119Z"
   },
   {
    "duration": 31,
    "start_time": "2023-03-02T20:31:53.216Z"
   },
   {
    "duration": 3062,
    "start_time": "2023-03-03T18:29:48.367Z"
   },
   {
    "duration": 210,
    "start_time": "2023-03-03T18:29:55.479Z"
   },
   {
    "duration": 238,
    "start_time": "2023-03-03T18:30:07.212Z"
   },
   {
    "duration": 78,
    "start_time": "2023-03-03T18:30:18.878Z"
   },
   {
    "duration": 243,
    "start_time": "2023-03-03T18:37:05.798Z"
   },
   {
    "duration": 551,
    "start_time": "2023-03-03T18:37:16.864Z"
   },
   {
    "duration": 336,
    "start_time": "2023-03-03T18:37:29.290Z"
   },
   {
    "duration": 226,
    "start_time": "2023-03-03T18:39:23.033Z"
   },
   {
    "duration": 242,
    "start_time": "2023-03-03T18:39:41.004Z"
   },
   {
    "duration": 237,
    "start_time": "2023-03-03T18:40:10.409Z"
   },
   {
    "duration": 278,
    "start_time": "2023-03-03T18:40:43.580Z"
   },
   {
    "duration": 77,
    "start_time": "2023-03-03T18:48:31.072Z"
   },
   {
    "duration": 11,
    "start_time": "2023-03-03T18:48:38.767Z"
   },
   {
    "duration": 164,
    "start_time": "2023-03-03T18:49:07.815Z"
   },
   {
    "duration": 238,
    "start_time": "2023-03-03T19:30:51.702Z"
   },
   {
    "duration": 11,
    "start_time": "2023-03-03T19:32:12.592Z"
   },
   {
    "duration": 305,
    "start_time": "2023-03-03T19:32:30.559Z"
   },
   {
    "duration": 364,
    "start_time": "2023-03-03T19:44:10.917Z"
   },
   {
    "duration": 19,
    "start_time": "2023-03-03T19:46:07.766Z"
   },
   {
    "duration": 19,
    "start_time": "2023-03-03T19:46:15.969Z"
   },
   {
    "duration": 19,
    "start_time": "2023-03-03T19:46:19.280Z"
   },
   {
    "duration": 19,
    "start_time": "2023-03-03T19:46:23.288Z"
   },
   {
    "duration": 2228,
    "start_time": "2023-03-03T19:46:28.908Z"
   },
   {
    "duration": 237,
    "start_time": "2023-03-03T19:46:37.053Z"
   },
   {
    "duration": 199,
    "start_time": "2023-03-03T19:46:42.138Z"
   },
   {
    "duration": 20,
    "start_time": "2023-03-03T19:46:55.752Z"
   },
   {
    "duration": 40,
    "start_time": "2023-03-03T19:48:32.965Z"
   },
   {
    "duration": 26,
    "start_time": "2023-03-03T19:51:43.739Z"
   },
   {
    "duration": 27,
    "start_time": "2023-03-03T19:54:59.272Z"
   },
   {
    "duration": 234,
    "start_time": "2023-03-03T20:01:55.741Z"
   },
   {
    "duration": 230,
    "start_time": "2023-03-03T20:02:04.564Z"
   },
   {
    "duration": 3881,
    "start_time": "2023-03-04T08:26:00.071Z"
   },
   {
    "duration": 284,
    "start_time": "2023-03-04T08:26:07.813Z"
   },
   {
    "duration": 104,
    "start_time": "2023-03-04T08:26:13.296Z"
   },
   {
    "duration": 287,
    "start_time": "2023-03-04T08:26:18.431Z"
   },
   {
    "duration": 154,
    "start_time": "2023-03-04T09:10:01.604Z"
   },
   {
    "duration": 150,
    "start_time": "2023-03-04T09:10:06.579Z"
   },
   {
    "duration": 221,
    "start_time": "2023-03-04T09:10:38.000Z"
   },
   {
    "duration": 302,
    "start_time": "2023-03-04T09:10:52.562Z"
   },
   {
    "duration": 262,
    "start_time": "2023-03-04T09:11:06.970Z"
   },
   {
    "duration": 844,
    "start_time": "2023-03-04T09:20:22.432Z"
   },
   {
    "duration": 244,
    "start_time": "2023-03-04T09:20:29.118Z"
   },
   {
    "duration": 139,
    "start_time": "2023-03-04T09:58:41.553Z"
   },
   {
    "duration": 139,
    "start_time": "2023-03-04T09:58:48.953Z"
   },
   {
    "duration": 147,
    "start_time": "2023-03-04T09:58:54.615Z"
   },
   {
    "duration": 140,
    "start_time": "2023-03-04T09:58:59.245Z"
   },
   {
    "duration": 142,
    "start_time": "2023-03-04T10:00:17.427Z"
   },
   {
    "duration": 150,
    "start_time": "2023-03-04T10:00:21.839Z"
   },
   {
    "duration": 168,
    "start_time": "2023-03-04T10:00:25.397Z"
   },
   {
    "duration": 177,
    "start_time": "2023-03-04T10:00:34.269Z"
   },
   {
    "duration": 152,
    "start_time": "2023-03-04T10:00:48.524Z"
   },
   {
    "duration": 151,
    "start_time": "2023-03-04T10:00:54.352Z"
   },
   {
    "duration": 257,
    "start_time": "2023-03-04T10:14:16.417Z"
   },
   {
    "duration": 257,
    "start_time": "2023-03-04T10:14:29.984Z"
   },
   {
    "duration": 258,
    "start_time": "2023-03-04T10:14:37.416Z"
   },
   {
    "duration": 378,
    "start_time": "2023-03-04T10:15:03.923Z"
   },
   {
    "duration": 198,
    "start_time": "2023-03-04T10:15:40.065Z"
   },
   {
    "duration": 208,
    "start_time": "2023-03-04T10:16:05.081Z"
   },
   {
    "duration": 209,
    "start_time": "2023-03-04T10:16:09.278Z"
   },
   {
    "duration": 194,
    "start_time": "2023-03-04T10:16:24.602Z"
   },
   {
    "duration": 209,
    "start_time": "2023-03-04T10:16:31.319Z"
   },
   {
    "duration": 202,
    "start_time": "2023-03-04T10:16:34.584Z"
   },
   {
    "duration": 191,
    "start_time": "2023-03-04T10:16:47.187Z"
   },
   {
    "duration": 409,
    "start_time": "2023-03-04T10:21:45.972Z"
   },
   {
    "duration": 595,
    "start_time": "2023-03-04T10:25:56.033Z"
   },
   {
    "duration": 751,
    "start_time": "2023-03-04T10:28:19.515Z"
   },
   {
    "duration": 2656,
    "start_time": "2023-03-04T10:33:00.104Z"
   },
   {
    "duration": 1119,
    "start_time": "2023-03-04T10:33:07.163Z"
   },
   {
    "duration": 1303,
    "start_time": "2023-03-04T10:35:02.889Z"
   },
   {
    "duration": 1738,
    "start_time": "2023-03-04T10:36:51.312Z"
   },
   {
    "duration": 1649,
    "start_time": "2023-03-04T10:38:58.207Z"
   },
   {
    "duration": 1571,
    "start_time": "2023-03-04T10:42:17.991Z"
   },
   {
    "duration": 2021,
    "start_time": "2023-03-04T10:48:03.885Z"
   },
   {
    "duration": 1583,
    "start_time": "2023-03-04T10:48:18.349Z"
   },
   {
    "duration": 1582,
    "start_time": "2023-03-04T10:48:39.104Z"
   },
   {
    "duration": 1891,
    "start_time": "2023-03-04T10:49:32.035Z"
   },
   {
    "duration": 1743,
    "start_time": "2023-03-04T10:50:16.754Z"
   },
   {
    "duration": 80,
    "start_time": "2023-03-04T10:54:48.216Z"
   },
   {
    "duration": 1595,
    "start_time": "2023-03-04T10:55:24.471Z"
   },
   {
    "duration": 1737,
    "start_time": "2023-03-04T10:55:46.248Z"
   },
   {
    "duration": 1632,
    "start_time": "2023-03-04T10:56:42.283Z"
   },
   {
    "duration": 1556,
    "start_time": "2023-03-04T12:09:19.708Z"
   },
   {
    "duration": 1489,
    "start_time": "2023-03-04T12:09:58.689Z"
   },
   {
    "duration": 3050,
    "start_time": "2023-03-08T11:19:35.648Z"
   },
   {
    "duration": 2191,
    "start_time": "2023-03-08T11:20:30.836Z"
   },
   {
    "duration": 125,
    "start_time": "2023-03-08T11:20:54.941Z"
   },
   {
    "duration": 125,
    "start_time": "2023-03-08T11:21:49.813Z"
   },
   {
    "duration": 49,
    "start_time": "2023-03-08T11:26:04.789Z"
   },
   {
    "duration": 2212,
    "start_time": "2023-03-08T13:08:31.695Z"
   },
   {
    "duration": 201,
    "start_time": "2023-03-08T13:08:44.271Z"
   },
   {
    "duration": 1045,
    "start_time": "2023-03-08T13:17:21.302Z"
   },
   {
    "duration": 2240,
    "start_time": "2023-03-08T13:17:32.859Z"
   },
   {
    "duration": 177,
    "start_time": "2023-03-08T13:17:41.885Z"
   },
   {
    "duration": 69,
    "start_time": "2023-03-08T13:17:49.100Z"
   },
   {
    "duration": 370,
    "start_time": "2023-03-08T13:17:55.833Z"
   },
   {
    "duration": 1989,
    "start_time": "2023-03-08T13:18:21.642Z"
   },
   {
    "duration": 201,
    "start_time": "2023-03-08T13:18:54.272Z"
   },
   {
    "duration": 15,
    "start_time": "2023-03-08T13:20:25.911Z"
   },
   {
    "duration": 13,
    "start_time": "2023-03-08T13:20:32.888Z"
   },
   {
    "duration": 19,
    "start_time": "2023-03-08T13:20:38.939Z"
   },
   {
    "duration": 158,
    "start_time": "2023-03-08T13:21:33.459Z"
   },
   {
    "duration": 176,
    "start_time": "2023-03-08T13:22:10.082Z"
   },
   {
    "duration": 125,
    "start_time": "2023-03-08T13:22:31.886Z"
   },
   {
    "duration": 149,
    "start_time": "2023-03-08T13:22:59.457Z"
   },
   {
    "duration": 128,
    "start_time": "2023-03-08T13:23:28.340Z"
   },
   {
    "duration": 197,
    "start_time": "2023-03-08T13:23:48.010Z"
   },
   {
    "duration": 158,
    "start_time": "2023-03-08T13:23:56.936Z"
   },
   {
    "duration": 205,
    "start_time": "2023-03-08T13:24:06.754Z"
   },
   {
    "duration": 166,
    "start_time": "2023-03-08T13:24:29.604Z"
   },
   {
    "duration": 159,
    "start_time": "2023-03-08T13:24:37.136Z"
   },
   {
    "duration": 133,
    "start_time": "2023-03-08T13:25:05.022Z"
   },
   {
    "duration": 256,
    "start_time": "2023-03-08T13:25:13.721Z"
   },
   {
    "duration": 142,
    "start_time": "2023-03-08T13:25:44.251Z"
   },
   {
    "duration": 134,
    "start_time": "2023-03-08T13:26:12.441Z"
   },
   {
    "duration": 147,
    "start_time": "2023-03-08T13:26:44.688Z"
   },
   {
    "duration": 137,
    "start_time": "2023-03-08T13:27:11.261Z"
   },
   {
    "duration": 149,
    "start_time": "2023-03-08T13:27:44.411Z"
   },
   {
    "duration": 172,
    "start_time": "2023-03-08T13:28:01.347Z"
   },
   {
    "duration": 180,
    "start_time": "2023-03-08T13:29:00.275Z"
   },
   {
    "duration": 201,
    "start_time": "2023-03-08T13:29:23.445Z"
   },
   {
    "duration": 182,
    "start_time": "2023-03-08T13:29:49.265Z"
   },
   {
    "duration": 208,
    "start_time": "2023-03-08T13:30:11.318Z"
   },
   {
    "duration": 250,
    "start_time": "2023-03-08T13:30:33.256Z"
   },
   {
    "duration": 188,
    "start_time": "2023-03-08T13:30:58.065Z"
   },
   {
    "duration": 202,
    "start_time": "2023-03-08T13:31:21.621Z"
   },
   {
    "duration": 227,
    "start_time": "2023-03-08T13:31:45.329Z"
   },
   {
    "duration": 271,
    "start_time": "2023-03-08T13:31:53.657Z"
   },
   {
    "duration": 425,
    "start_time": "2023-03-08T14:16:24.005Z"
   },
   {
    "duration": 344,
    "start_time": "2023-03-08T14:17:23.000Z"
   },
   {
    "duration": 297,
    "start_time": "2023-03-08T14:17:53.067Z"
   },
   {
    "duration": 315,
    "start_time": "2023-03-08T14:18:22.975Z"
   },
   {
    "duration": 319,
    "start_time": "2023-03-08T14:19:23.001Z"
   },
   {
    "duration": 293,
    "start_time": "2023-03-08T14:19:33.980Z"
   },
   {
    "duration": 332,
    "start_time": "2023-03-08T14:20:10.456Z"
   },
   {
    "duration": 350,
    "start_time": "2023-03-08T14:24:46.728Z"
   },
   {
    "duration": 282,
    "start_time": "2023-03-08T14:25:10.401Z"
   },
   {
    "duration": 340,
    "start_time": "2023-03-08T14:27:11.471Z"
   },
   {
    "duration": 383,
    "start_time": "2023-03-08T14:28:08.876Z"
   },
   {
    "duration": 310,
    "start_time": "2023-03-08T14:28:48.617Z"
   },
   {
    "duration": 319,
    "start_time": "2023-03-08T14:30:41.095Z"
   },
   {
    "duration": 307,
    "start_time": "2023-03-08T14:30:58.509Z"
   },
   {
    "duration": 415,
    "start_time": "2023-03-08T14:35:33.777Z"
   },
   {
    "duration": 1305,
    "start_time": "2023-03-08T14:38:37.815Z"
   },
   {
    "duration": 2267,
    "start_time": "2023-03-08T14:38:55.899Z"
   },
   {
    "duration": 243,
    "start_time": "2023-03-08T14:39:18.976Z"
   },
   {
    "duration": 164,
    "start_time": "2023-03-08T14:39:57.223Z"
   },
   {
    "duration": 217,
    "start_time": "2023-03-08T14:53:26.631Z"
   },
   {
    "duration": 13,
    "start_time": "2023-03-08T14:57:04.200Z"
   },
   {
    "duration": 167,
    "start_time": "2023-03-08T14:57:11.177Z"
   },
   {
    "duration": 157,
    "start_time": "2023-03-08T14:57:31.102Z"
   },
   {
    "duration": 263,
    "start_time": "2023-03-08T15:00:22.841Z"
   },
   {
    "duration": 23,
    "start_time": "2023-03-08T15:00:55.292Z"
   },
   {
    "duration": 213,
    "start_time": "2023-03-08T15:01:14.847Z"
   },
   {
    "duration": 13,
    "start_time": "2023-03-08T15:01:35.811Z"
   },
   {
    "duration": 650,
    "start_time": "2023-03-08T15:01:51.199Z"
   },
   {
    "duration": 365,
    "start_time": "2023-03-08T15:03:01.768Z"
   },
   {
    "duration": 13,
    "start_time": "2023-03-08T15:07:42.017Z"
   },
   {
    "duration": 681,
    "start_time": "2023-03-08T15:07:49.796Z"
   },
   {
    "duration": 11,
    "start_time": "2023-03-08T15:08:07.977Z"
   },
   {
    "duration": 15,
    "start_time": "2023-03-08T15:08:14.997Z"
   },
   {
    "duration": 12,
    "start_time": "2023-03-08T15:08:19.721Z"
   },
   {
    "duration": 24,
    "start_time": "2023-03-08T15:08:28.680Z"
   },
   {
    "duration": 13,
    "start_time": "2023-03-08T15:09:15.508Z"
   },
   {
    "duration": 20,
    "start_time": "2023-03-08T15:09:38.107Z"
   },
   {
    "duration": 16,
    "start_time": "2023-03-08T15:10:16.353Z"
   },
   {
    "duration": 188,
    "start_time": "2023-03-08T15:20:01.973Z"
   },
   {
    "duration": 181,
    "start_time": "2023-03-08T15:20:17.209Z"
   },
   {
    "duration": 2183,
    "start_time": "2023-03-08T16:17:05.116Z"
   },
   {
    "duration": 212,
    "start_time": "2023-03-08T16:17:12.143Z"
   },
   {
    "duration": 209,
    "start_time": "2023-03-08T16:21:48.082Z"
   },
   {
    "duration": 2256,
    "start_time": "2023-03-08T16:29:23.702Z"
   },
   {
    "duration": 2182,
    "start_time": "2023-03-08T16:33:03.846Z"
   },
   {
    "duration": 194,
    "start_time": "2023-03-08T16:33:08.934Z"
   },
   {
    "duration": 79,
    "start_time": "2023-03-08T16:33:17.465Z"
   },
   {
    "duration": 155,
    "start_time": "2023-03-08T16:33:24.304Z"
   },
   {
    "duration": 132,
    "start_time": "2023-03-08T16:33:26.969Z"
   },
   {
    "duration": 125,
    "start_time": "2023-03-08T16:33:32.185Z"
   },
   {
    "duration": 125,
    "start_time": "2023-03-08T16:33:33.337Z"
   },
   {
    "duration": 157,
    "start_time": "2023-03-08T16:33:38.264Z"
   },
   {
    "duration": 149,
    "start_time": "2023-03-08T16:33:39.296Z"
   },
   {
    "duration": 154,
    "start_time": "2023-03-08T16:33:48.975Z"
   },
   {
    "duration": 133,
    "start_time": "2023-03-08T16:33:50.032Z"
   },
   {
    "duration": 142,
    "start_time": "2023-03-08T16:33:57.938Z"
   },
   {
    "duration": 130,
    "start_time": "2023-03-08T16:34:01.296Z"
   },
   {
    "duration": 152,
    "start_time": "2023-03-08T16:34:08.732Z"
   },
   {
    "duration": 144,
    "start_time": "2023-03-08T16:34:11.220Z"
   },
   {
    "duration": 143,
    "start_time": "2023-03-08T16:34:17.914Z"
   },
   {
    "duration": 281,
    "start_time": "2023-03-08T16:34:22.240Z"
   },
   {
    "duration": 222,
    "start_time": "2023-03-08T16:34:29.459Z"
   },
   {
    "duration": 224,
    "start_time": "2023-03-08T16:34:31.340Z"
   },
   {
    "duration": 191,
    "start_time": "2023-03-08T16:34:36.645Z"
   },
   {
    "duration": 221,
    "start_time": "2023-03-08T16:34:38.080Z"
   },
   {
    "duration": 3091,
    "start_time": "2023-03-08T16:47:24.885Z"
   },
   {
    "duration": 213,
    "start_time": "2023-03-08T16:47:35.213Z"
   },
   {
    "duration": 88,
    "start_time": "2023-03-08T16:47:45.083Z"
   },
   {
    "duration": 212,
    "start_time": "2023-03-08T16:47:51.224Z"
   },
   {
    "duration": 155,
    "start_time": "2023-03-08T16:47:53.333Z"
   },
   {
    "duration": 166,
    "start_time": "2023-03-08T16:47:54.105Z"
   },
   {
    "duration": 209,
    "start_time": "2023-03-08T16:47:54.816Z"
   },
   {
    "duration": 169,
    "start_time": "2023-03-08T16:47:55.175Z"
   },
   {
    "duration": 283,
    "start_time": "2023-03-08T16:47:55.621Z"
   },
   {
    "duration": 159,
    "start_time": "2023-03-08T16:47:56.502Z"
   },
   {
    "duration": 144,
    "start_time": "2023-03-08T16:47:57.071Z"
   },
   {
    "duration": 156,
    "start_time": "2023-03-08T16:47:58.230Z"
   },
   {
    "duration": 140,
    "start_time": "2023-03-08T16:48:00.778Z"
   },
   {
    "duration": 151,
    "start_time": "2023-03-08T16:48:01.611Z"
   },
   {
    "duration": 141,
    "start_time": "2023-03-08T16:48:02.315Z"
   },
   {
    "duration": 201,
    "start_time": "2023-03-08T16:48:04.146Z"
   },
   {
    "duration": 258,
    "start_time": "2023-03-08T16:48:08.168Z"
   },
   {
    "duration": 195,
    "start_time": "2023-03-08T16:48:16.950Z"
   },
   {
    "duration": 233,
    "start_time": "2023-03-08T16:48:17.929Z"
   },
   {
    "duration": 292,
    "start_time": "2023-03-08T16:48:18.648Z"
   },
   {
    "duration": 223,
    "start_time": "2023-03-08T16:48:19.457Z"
   },
   {
    "duration": 215,
    "start_time": "2023-03-08T16:48:20.025Z"
   },
   {
    "duration": 216,
    "start_time": "2023-03-08T16:48:20.858Z"
   },
   {
    "duration": 239,
    "start_time": "2023-03-08T16:48:21.730Z"
   },
   {
    "duration": 258,
    "start_time": "2023-03-08T16:48:22.794Z"
   },
   {
    "duration": 19,
    "start_time": "2023-03-08T16:48:23.536Z"
   },
   {
    "duration": 14,
    "start_time": "2023-03-08T16:48:25.302Z"
   },
   {
    "duration": 22,
    "start_time": "2023-03-08T16:48:25.915Z"
   },
   {
    "duration": 2857,
    "start_time": "2023-03-08T16:51:56.670Z"
   },
   {
    "duration": 201,
    "start_time": "2023-03-08T16:51:59.530Z"
   },
   {
    "duration": 82,
    "start_time": "2023-03-08T16:51:59.733Z"
   },
   {
    "duration": 150,
    "start_time": "2023-03-08T16:51:59.818Z"
   },
   {
    "duration": 152,
    "start_time": "2023-03-08T16:51:59.969Z"
   },
   {
    "duration": 164,
    "start_time": "2023-03-08T16:52:00.123Z"
   },
   {
    "duration": 145,
    "start_time": "2023-03-08T16:52:00.290Z"
   },
   {
    "duration": 168,
    "start_time": "2023-03-08T16:52:00.437Z"
   },
   {
    "duration": 296,
    "start_time": "2023-03-08T16:52:00.607Z"
   },
   {
    "duration": 166,
    "start_time": "2023-03-08T16:52:00.907Z"
   },
   {
    "duration": 143,
    "start_time": "2023-03-08T16:52:01.075Z"
   },
   {
    "duration": 169,
    "start_time": "2023-03-08T16:52:01.220Z"
   },
   {
    "duration": 165,
    "start_time": "2023-03-08T16:52:01.391Z"
   },
   {
    "duration": 207,
    "start_time": "2023-03-08T16:52:01.558Z"
   },
   {
    "duration": 207,
    "start_time": "2023-03-08T16:52:01.768Z"
   },
   {
    "duration": 159,
    "start_time": "2023-03-08T16:52:01.977Z"
   },
   {
    "duration": 248,
    "start_time": "2023-03-08T16:52:02.138Z"
   },
   {
    "duration": 196,
    "start_time": "2023-03-08T16:52:02.387Z"
   },
   {
    "duration": 213,
    "start_time": "2023-03-08T16:52:02.585Z"
   },
   {
    "duration": 256,
    "start_time": "2023-03-08T16:52:02.799Z"
   },
   {
    "duration": 200,
    "start_time": "2023-03-08T16:52:03.057Z"
   },
   {
    "duration": 185,
    "start_time": "2023-03-08T16:52:03.258Z"
   },
   {
    "duration": 198,
    "start_time": "2023-03-08T16:52:03.444Z"
   },
   {
    "duration": 195,
    "start_time": "2023-03-08T16:52:03.644Z"
   },
   {
    "duration": 242,
    "start_time": "2023-03-08T16:52:03.841Z"
   },
   {
    "duration": 20,
    "start_time": "2023-03-08T16:52:04.085Z"
   },
   {
    "duration": 18,
    "start_time": "2023-03-08T16:52:04.108Z"
   },
   {
    "duration": 46,
    "start_time": "2023-03-08T16:52:04.129Z"
   },
   {
    "duration": 2885,
    "start_time": "2023-03-08T16:53:54.207Z"
   },
   {
    "duration": 206,
    "start_time": "2023-03-08T16:53:57.094Z"
   },
   {
    "duration": 86,
    "start_time": "2023-03-08T16:53:57.301Z"
   },
   {
    "duration": 157,
    "start_time": "2023-03-08T16:53:57.389Z"
   },
   {
    "duration": 149,
    "start_time": "2023-03-08T16:53:57.552Z"
   },
   {
    "duration": 158,
    "start_time": "2023-03-08T16:53:57.703Z"
   },
   {
    "duration": 143,
    "start_time": "2023-03-08T16:53:57.863Z"
   },
   {
    "duration": 169,
    "start_time": "2023-03-08T16:53:58.008Z"
   },
   {
    "duration": 244,
    "start_time": "2023-03-08T16:53:58.179Z"
   },
   {
    "duration": 157,
    "start_time": "2023-03-08T16:53:58.427Z"
   },
   {
    "duration": 140,
    "start_time": "2023-03-08T16:53:58.586Z"
   },
   {
    "duration": 164,
    "start_time": "2023-03-08T16:53:58.728Z"
   },
   {
    "duration": 135,
    "start_time": "2023-03-08T16:53:58.894Z"
   },
   {
    "duration": 174,
    "start_time": "2023-03-08T16:53:59.032Z"
   },
   {
    "duration": 155,
    "start_time": "2023-03-08T16:53:59.208Z"
   },
   {
    "duration": 167,
    "start_time": "2023-03-08T16:53:59.366Z"
   },
   {
    "duration": 257,
    "start_time": "2023-03-08T16:53:59.535Z"
   },
   {
    "duration": 200,
    "start_time": "2023-03-08T16:53:59.794Z"
   },
   {
    "duration": 222,
    "start_time": "2023-03-08T16:53:59.995Z"
   },
   {
    "duration": 264,
    "start_time": "2023-03-08T16:54:00.219Z"
   },
   {
    "duration": 206,
    "start_time": "2023-03-08T16:54:00.485Z"
   },
   {
    "duration": 188,
    "start_time": "2023-03-08T16:54:00.692Z"
   },
   {
    "duration": 215,
    "start_time": "2023-03-08T16:54:00.882Z"
   },
   {
    "duration": 227,
    "start_time": "2023-03-08T16:54:01.099Z"
   },
   {
    "duration": 227,
    "start_time": "2023-03-08T16:54:01.328Z"
   },
   {
    "duration": 17,
    "start_time": "2023-03-08T16:54:01.556Z"
   },
   {
    "duration": 32,
    "start_time": "2023-03-08T16:54:01.574Z"
   },
   {
    "duration": 137,
    "start_time": "2023-03-08T16:54:01.610Z"
   },
   {
    "duration": 2881,
    "start_time": "2023-03-08T16:56:37.866Z"
   },
   {
    "duration": 214,
    "start_time": "2023-03-08T16:56:40.750Z"
   },
   {
    "duration": 100,
    "start_time": "2023-03-08T16:56:40.966Z"
   },
   {
    "duration": 144,
    "start_time": "2023-03-08T16:56:41.069Z"
   },
   {
    "duration": 154,
    "start_time": "2023-03-08T16:56:41.214Z"
   },
   {
    "duration": 160,
    "start_time": "2023-03-08T16:56:41.370Z"
   },
   {
    "duration": 140,
    "start_time": "2023-03-08T16:56:41.532Z"
   },
   {
    "duration": 181,
    "start_time": "2023-03-08T16:56:41.673Z"
   },
   {
    "duration": 255,
    "start_time": "2023-03-08T16:56:41.855Z"
   },
   {
    "duration": 175,
    "start_time": "2023-03-08T16:56:42.113Z"
   },
   {
    "duration": 142,
    "start_time": "2023-03-08T16:56:42.290Z"
   },
   {
    "duration": 152,
    "start_time": "2023-03-08T16:56:42.434Z"
   },
   {
    "duration": 132,
    "start_time": "2023-03-08T16:56:42.588Z"
   },
   {
    "duration": 172,
    "start_time": "2023-03-08T16:56:42.722Z"
   },
   {
    "duration": 161,
    "start_time": "2023-03-08T16:56:42.896Z"
   },
   {
    "duration": 169,
    "start_time": "2023-03-08T16:56:43.059Z"
   },
   {
    "duration": 292,
    "start_time": "2023-03-08T16:56:43.229Z"
   },
   {
    "duration": 210,
    "start_time": "2023-03-08T16:56:43.523Z"
   },
   {
    "duration": 238,
    "start_time": "2023-03-08T16:56:43.735Z"
   },
   {
    "duration": 301,
    "start_time": "2023-03-08T16:56:43.975Z"
   },
   {
    "duration": 212,
    "start_time": "2023-03-08T16:56:44.277Z"
   },
   {
    "duration": 2874,
    "start_time": "2023-03-08T16:57:48.062Z"
   },
   {
    "duration": 207,
    "start_time": "2023-03-08T16:57:50.938Z"
   },
   {
    "duration": 89,
    "start_time": "2023-03-08T16:57:51.146Z"
   },
   {
    "duration": 165,
    "start_time": "2023-03-08T16:57:51.237Z"
   },
   {
    "duration": 156,
    "start_time": "2023-03-08T16:57:51.403Z"
   },
   {
    "duration": 151,
    "start_time": "2023-03-08T16:57:51.561Z"
   },
   {
    "duration": 141,
    "start_time": "2023-03-08T16:57:51.714Z"
   },
   {
    "duration": 157,
    "start_time": "2023-03-08T16:57:51.856Z"
   },
   {
    "duration": 262,
    "start_time": "2023-03-08T16:57:52.016Z"
   },
   {
    "duration": 146,
    "start_time": "2023-03-08T16:57:52.281Z"
   },
   {
    "duration": 132,
    "start_time": "2023-03-08T16:57:52.429Z"
   },
   {
    "duration": 144,
    "start_time": "2023-03-08T16:57:52.562Z"
   },
   {
    "duration": 145,
    "start_time": "2023-03-08T16:57:52.708Z"
   },
   {
    "duration": 153,
    "start_time": "2023-03-08T16:57:52.856Z"
   },
   {
    "duration": 150,
    "start_time": "2023-03-08T16:57:53.012Z"
   },
   {
    "duration": 153,
    "start_time": "2023-03-08T16:57:53.164Z"
   },
   {
    "duration": 258,
    "start_time": "2023-03-08T16:57:53.319Z"
   },
   {
    "duration": 208,
    "start_time": "2023-03-08T16:57:53.579Z"
   },
   {
    "duration": 240,
    "start_time": "2023-03-08T16:57:53.789Z"
   },
   {
    "duration": 301,
    "start_time": "2023-03-08T16:57:54.032Z"
   },
   {
    "duration": 199,
    "start_time": "2023-03-08T16:57:54.335Z"
   },
   {
    "duration": 89,
    "start_time": "2023-03-08T16:57:54.535Z"
   },
   {
    "duration": 0,
    "start_time": "2023-03-08T16:57:54.625Z"
   },
   {
    "duration": 0,
    "start_time": "2023-03-08T16:57:54.627Z"
   },
   {
    "duration": 0,
    "start_time": "2023-03-08T16:57:54.628Z"
   },
   {
    "duration": 0,
    "start_time": "2023-03-08T16:57:54.630Z"
   },
   {
    "duration": 0,
    "start_time": "2023-03-08T16:57:54.631Z"
   },
   {
    "duration": 0,
    "start_time": "2023-03-08T16:57:54.632Z"
   },
   {
    "duration": 17,
    "start_time": "2023-03-08T17:03:13.631Z"
   },
   {
    "duration": 218,
    "start_time": "2023-03-08T17:03:15.856Z"
   },
   {
    "duration": 194,
    "start_time": "2023-03-08T17:03:27.202Z"
   },
   {
    "duration": 199,
    "start_time": "2023-03-08T17:03:28.534Z"
   },
   {
    "duration": 20,
    "start_time": "2023-03-08T17:03:29.327Z"
   },
   {
    "duration": 16,
    "start_time": "2023-03-08T17:03:30.505Z"
   },
   {
    "duration": 20,
    "start_time": "2023-03-08T17:03:30.954Z"
   },
   {
    "duration": 2892,
    "start_time": "2023-03-08T17:14:37.611Z"
   },
   {
    "duration": 215,
    "start_time": "2023-03-08T17:14:40.506Z"
   },
   {
    "duration": 88,
    "start_time": "2023-03-08T17:14:40.723Z"
   },
   {
    "duration": 154,
    "start_time": "2023-03-08T17:14:40.814Z"
   },
   {
    "duration": 153,
    "start_time": "2023-03-08T17:14:40.970Z"
   },
   {
    "duration": 143,
    "start_time": "2023-03-08T17:14:41.124Z"
   },
   {
    "duration": 146,
    "start_time": "2023-03-08T17:14:41.269Z"
   },
   {
    "duration": 164,
    "start_time": "2023-03-08T17:14:41.417Z"
   },
   {
    "duration": 243,
    "start_time": "2023-03-08T17:14:41.583Z"
   },
   {
    "duration": 161,
    "start_time": "2023-03-08T17:14:41.830Z"
   },
   {
    "duration": 132,
    "start_time": "2023-03-08T17:14:41.993Z"
   },
   {
    "duration": 144,
    "start_time": "2023-03-08T17:14:42.127Z"
   },
   {
    "duration": 118,
    "start_time": "2023-03-08T17:14:42.273Z"
   },
   {
    "duration": 151,
    "start_time": "2023-03-08T17:14:42.393Z"
   },
   {
    "duration": 156,
    "start_time": "2023-03-08T17:14:42.546Z"
   },
   {
    "duration": 155,
    "start_time": "2023-03-08T17:14:42.704Z"
   },
   {
    "duration": 264,
    "start_time": "2023-03-08T17:14:42.860Z"
   },
   {
    "duration": 201,
    "start_time": "2023-03-08T17:14:43.125Z"
   },
   {
    "duration": 212,
    "start_time": "2023-03-08T17:14:43.328Z"
   },
   {
    "duration": 257,
    "start_time": "2023-03-08T17:14:43.542Z"
   },
   {
    "duration": 283,
    "start_time": "2023-03-08T17:14:43.801Z"
   },
   {
    "duration": 203,
    "start_time": "2023-03-08T17:14:44.086Z"
   },
   {
    "duration": 197,
    "start_time": "2023-03-08T17:14:44.291Z"
   },
   {
    "duration": 198,
    "start_time": "2023-03-08T17:14:44.491Z"
   },
   {
    "duration": 217,
    "start_time": "2023-03-08T17:14:44.691Z"
   },
   {
    "duration": 15,
    "start_time": "2023-03-08T17:14:44.910Z"
   },
   {
    "duration": 33,
    "start_time": "2023-03-08T17:14:44.927Z"
   },
   {
    "duration": 19,
    "start_time": "2023-03-08T17:14:44.964Z"
   },
   {
    "duration": 200,
    "start_time": "2023-03-08T17:18:18.044Z"
   },
   {
    "duration": 34667,
    "start_time": "2023-03-08T17:20:26.504Z"
   },
   {
    "duration": 0,
    "start_time": "2023-03-08T17:21:41.920Z"
   },
   {
    "duration": 199,
    "start_time": "2023-03-08T17:39:22.398Z"
   },
   {
    "duration": 2474,
    "start_time": "2023-03-08T17:39:22.600Z"
   },
   {
    "duration": 30,
    "start_time": "2023-03-08T17:40:58.645Z"
   },
   {
    "duration": 2129,
    "start_time": "2023-03-08T17:41:34.391Z"
   },
   {
    "duration": 210,
    "start_time": "2023-03-08T17:41:43.622Z"
   },
   {
    "duration": 68,
    "start_time": "2023-03-08T17:41:50.873Z"
   },
   {
    "duration": 157,
    "start_time": "2023-03-08T17:42:00.325Z"
   },
   {
    "duration": 153,
    "start_time": "2023-03-08T17:42:00.924Z"
   },
   {
    "duration": 141,
    "start_time": "2023-03-08T17:42:01.521Z"
   },
   {
    "duration": 139,
    "start_time": "2023-03-08T17:42:01.989Z"
   },
   {
    "duration": 156,
    "start_time": "2023-03-08T17:42:02.489Z"
   },
   {
    "duration": 197,
    "start_time": "2023-03-08T17:42:03.850Z"
   },
   {
    "duration": 196,
    "start_time": "2023-03-08T17:42:04.049Z"
   },
   {
    "duration": 147,
    "start_time": "2023-03-08T17:42:04.270Z"
   },
   {
    "duration": 156,
    "start_time": "2023-03-08T17:42:04.603Z"
   },
   {
    "duration": 148,
    "start_time": "2023-03-08T17:42:05.441Z"
   },
   {
    "duration": 172,
    "start_time": "2023-03-08T17:42:06.012Z"
   },
   {
    "duration": 170,
    "start_time": "2023-03-08T17:42:06.725Z"
   },
   {
    "duration": 168,
    "start_time": "2023-03-08T17:42:07.712Z"
   },
   {
    "duration": 282,
    "start_time": "2023-03-08T17:42:09.516Z"
   },
   {
    "duration": 208,
    "start_time": "2023-03-08T17:42:11.540Z"
   },
   {
    "duration": 221,
    "start_time": "2023-03-08T17:42:13.078Z"
   },
   {
    "duration": 190,
    "start_time": "2023-03-08T17:42:14.315Z"
   },
   {
    "duration": 206,
    "start_time": "2023-03-08T17:42:16.942Z"
   },
   {
    "duration": 14,
    "start_time": "2023-03-08T17:42:18.127Z"
   },
   {
    "duration": 11,
    "start_time": "2023-03-08T17:42:26.418Z"
   },
   {
    "duration": 246,
    "start_time": "2023-03-08T17:42:34.095Z"
   },
   {
    "duration": 13,
    "start_time": "2023-03-08T17:43:51.269Z"
   },
   {
    "duration": 17,
    "start_time": "2023-03-08T17:43:58.156Z"
   },
   {
    "duration": 16,
    "start_time": "2023-03-08T17:44:25.073Z"
   },
   {
    "duration": 16,
    "start_time": "2023-03-08T17:44:38.571Z"
   },
   {
    "duration": 23,
    "start_time": "2023-03-08T17:44:48.041Z"
   },
   {
    "duration": 149,
    "start_time": "2023-03-08T17:45:57.301Z"
   },
   {
    "duration": 176,
    "start_time": "2023-03-08T17:46:24.633Z"
   },
   {
    "duration": 162,
    "start_time": "2023-03-08T17:47:29.940Z"
   },
   {
    "duration": 235,
    "start_time": "2023-03-08T17:49:29.697Z"
   },
   {
    "duration": 238,
    "start_time": "2023-03-08T17:49:42.012Z"
   },
   {
    "duration": 3155,
    "start_time": "2023-03-08T19:14:38.484Z"
   },
   {
    "duration": 240,
    "start_time": "2023-03-08T19:14:41.642Z"
   },
   {
    "duration": 80,
    "start_time": "2023-03-08T19:14:41.887Z"
   },
   {
    "duration": 155,
    "start_time": "2023-03-08T19:14:41.968Z"
   },
   {
    "duration": 164,
    "start_time": "2023-03-08T19:14:42.125Z"
   },
   {
    "duration": 156,
    "start_time": "2023-03-08T19:14:42.291Z"
   },
   {
    "duration": 155,
    "start_time": "2023-03-08T19:14:42.453Z"
   },
   {
    "duration": 185,
    "start_time": "2023-03-08T19:14:42.609Z"
   },
   {
    "duration": 249,
    "start_time": "2023-03-08T19:14:42.796Z"
   },
   {
    "duration": 190,
    "start_time": "2023-03-08T19:14:43.046Z"
   },
   {
    "duration": 151,
    "start_time": "2023-03-08T19:14:43.238Z"
   },
   {
    "duration": 155,
    "start_time": "2023-03-08T19:14:43.390Z"
   },
   {
    "duration": 140,
    "start_time": "2023-03-08T19:14:43.546Z"
   },
   {
    "duration": 182,
    "start_time": "2023-03-08T19:14:43.689Z"
   },
   {
    "duration": 212,
    "start_time": "2023-03-08T19:14:43.872Z"
   },
   {
    "duration": 214,
    "start_time": "2023-03-08T19:14:44.086Z"
   },
   {
    "duration": 292,
    "start_time": "2023-03-08T19:14:44.302Z"
   },
   {
    "duration": 218,
    "start_time": "2023-03-08T19:14:44.596Z"
   },
   {
    "duration": 253,
    "start_time": "2023-03-08T19:14:44.816Z"
   },
   {
    "duration": 253,
    "start_time": "2023-03-08T19:14:45.076Z"
   },
   {
    "duration": 233,
    "start_time": "2023-03-08T19:14:45.330Z"
   },
   {
    "duration": 162,
    "start_time": "2023-03-08T19:14:45.564Z"
   },
   {
    "duration": 259,
    "start_time": "2023-03-08T19:14:45.727Z"
   },
   {
    "duration": 225,
    "start_time": "2023-03-08T19:14:45.989Z"
   },
   {
    "duration": 231,
    "start_time": "2023-03-08T19:14:46.219Z"
   },
   {
    "duration": 29,
    "start_time": "2023-03-08T19:14:46.456Z"
   },
   {
    "duration": 15,
    "start_time": "2023-03-08T19:14:46.487Z"
   },
   {
    "duration": 20,
    "start_time": "2023-03-08T19:14:46.504Z"
   },
   {
    "duration": 157,
    "start_time": "2023-03-08T19:16:32.995Z"
   },
   {
    "duration": 193,
    "start_time": "2023-03-08T19:17:11.201Z"
   },
   {
    "duration": 165,
    "start_time": "2023-03-08T19:17:49.503Z"
   },
   {
    "duration": 168,
    "start_time": "2023-03-08T19:18:23.644Z"
   },
   {
    "duration": 177,
    "start_time": "2023-03-08T19:18:29.804Z"
   },
   {
    "duration": 246,
    "start_time": "2023-03-08T19:19:56.599Z"
   },
   {
    "duration": 323,
    "start_time": "2023-03-08T19:32:12.010Z"
   },
   {
    "duration": 37,
    "start_time": "2023-03-08T19:34:14.248Z"
   },
   {
    "duration": 236,
    "start_time": "2023-03-08T19:34:33.383Z"
   },
   {
    "duration": 228,
    "start_time": "2023-03-08T19:35:49.563Z"
   },
   {
    "duration": 229,
    "start_time": "2023-03-08T19:36:10.409Z"
   },
   {
    "duration": 238,
    "start_time": "2023-03-08T19:36:18.936Z"
   },
   {
    "duration": 251,
    "start_time": "2023-03-08T19:47:21.279Z"
   },
   {
    "duration": 252,
    "start_time": "2023-03-08T19:47:47.354Z"
   },
   {
    "duration": 273,
    "start_time": "2023-03-08T19:49:13.888Z"
   },
   {
    "duration": 2745,
    "start_time": "2023-03-08T19:49:21.225Z"
   },
   {
    "duration": 26,
    "start_time": "2023-03-08T19:50:07.547Z"
   },
   {
    "duration": 15,
    "start_time": "2023-03-08T19:50:31.536Z"
   },
   {
    "duration": 21,
    "start_time": "2023-03-08T19:51:28.781Z"
   },
   {
    "duration": 234,
    "start_time": "2023-03-08T19:51:44.802Z"
   },
   {
    "duration": 76,
    "start_time": "2023-03-08T19:53:45.759Z"
   },
   {
    "duration": 70,
    "start_time": "2023-03-08T19:53:52.751Z"
   },
   {
    "duration": 52,
    "start_time": "2023-03-08T19:56:18.595Z"
   },
   {
    "duration": 79,
    "start_time": "2023-03-08T19:58:22.715Z"
   },
   {
    "duration": 98,
    "start_time": "2023-03-08T19:58:42.815Z"
   },
   {
    "duration": 113,
    "start_time": "2023-03-08T19:58:57.432Z"
   },
   {
    "duration": 281,
    "start_time": "2023-03-08T19:59:25.409Z"
   },
   {
    "duration": 172,
    "start_time": "2023-03-08T19:59:27.006Z"
   },
   {
    "duration": 314,
    "start_time": "2023-03-08T20:01:13.409Z"
   },
   {
    "duration": 125,
    "start_time": "2023-03-08T20:01:33.811Z"
   },
   {
    "duration": 26,
    "start_time": "2023-03-08T20:01:53.937Z"
   },
   {
    "duration": 19,
    "start_time": "2023-03-08T20:02:48.410Z"
   },
   {
    "duration": 195,
    "start_time": "2023-03-08T20:03:31.583Z"
   },
   {
    "duration": 2608,
    "start_time": "2023-03-08T20:04:06.388Z"
   },
   {
    "duration": 261,
    "start_time": "2023-03-08T20:04:12.285Z"
   },
   {
    "duration": 103,
    "start_time": "2023-03-08T20:04:18.504Z"
   },
   {
    "duration": 182,
    "start_time": "2023-03-08T20:04:25.483Z"
   },
   {
    "duration": 172,
    "start_time": "2023-03-08T20:04:26.731Z"
   },
   {
    "duration": 164,
    "start_time": "2023-03-08T20:04:27.614Z"
   },
   {
    "duration": 153,
    "start_time": "2023-03-08T20:04:28.418Z"
   },
   {
    "duration": 184,
    "start_time": "2023-03-08T20:04:29.211Z"
   },
   {
    "duration": 72,
    "start_time": "2023-03-08T20:05:09.569Z"
   },
   {
    "duration": 233,
    "start_time": "2023-03-08T20:05:22.612Z"
   },
   {
    "duration": 284,
    "start_time": "2023-03-08T20:05:30.677Z"
   },
   {
    "duration": 167,
    "start_time": "2023-03-08T20:05:59.830Z"
   },
   {
    "duration": 354,
    "start_time": "2023-03-08T20:06:07.232Z"
   },
   {
    "duration": 161,
    "start_time": "2023-03-08T20:06:09.621Z"
   },
   {
    "duration": 196,
    "start_time": "2023-03-08T20:06:15.304Z"
   },
   {
    "duration": 151,
    "start_time": "2023-03-08T20:06:21.250Z"
   },
   {
    "duration": 142,
    "start_time": "2023-03-08T20:06:25.400Z"
   },
   {
    "duration": 163,
    "start_time": "2023-03-08T20:06:33.312Z"
   },
   {
    "duration": 134,
    "start_time": "2023-03-08T20:06:41.216Z"
   },
   {
    "duration": 130,
    "start_time": "2023-03-08T20:06:42.330Z"
   },
   {
    "duration": 177,
    "start_time": "2023-03-08T20:06:43.324Z"
   },
   {
    "duration": 149,
    "start_time": "2023-03-08T20:06:44.799Z"
   },
   {
    "duration": 165,
    "start_time": "2023-03-08T20:06:50.722Z"
   },
   {
    "duration": 279,
    "start_time": "2023-03-08T20:06:51.945Z"
   },
   {
    "duration": 233,
    "start_time": "2023-03-08T20:06:59.823Z"
   },
   {
    "duration": 216,
    "start_time": "2023-03-08T20:07:15.196Z"
   },
   {
    "duration": 216,
    "start_time": "2023-03-08T20:07:32.815Z"
   },
   {
    "duration": 199,
    "start_time": "2023-03-08T20:07:40.324Z"
   },
   {
    "duration": 235,
    "start_time": "2023-03-08T20:07:45.255Z"
   },
   {
    "duration": 216,
    "start_time": "2023-03-08T20:07:52.692Z"
   },
   {
    "duration": 213,
    "start_time": "2023-03-08T20:07:59.416Z"
   },
   {
    "duration": 38,
    "start_time": "2023-03-08T20:08:07.948Z"
   },
   {
    "duration": 22,
    "start_time": "2023-03-08T20:08:28.016Z"
   },
   {
    "duration": 18,
    "start_time": "2023-03-08T20:09:13.507Z"
   },
   {
    "duration": 26,
    "start_time": "2023-03-08T20:11:18.554Z"
   },
   {
    "duration": 294,
    "start_time": "2023-03-08T20:12:20.550Z"
   },
   {
    "duration": 2692,
    "start_time": "2023-03-08T20:12:53.547Z"
   },
   {
    "duration": 243,
    "start_time": "2023-03-08T20:12:57.929Z"
   },
   {
    "duration": 177,
    "start_time": "2023-03-08T20:13:20.528Z"
   },
   {
    "duration": 219,
    "start_time": "2023-03-08T20:13:21.494Z"
   },
   {
    "duration": 184,
    "start_time": "2023-03-08T20:13:22.123Z"
   },
   {
    "duration": 370,
    "start_time": "2023-03-08T20:13:22.715Z"
   },
   {
    "duration": 202,
    "start_time": "2023-03-08T20:13:23.625Z"
   },
   {
    "duration": 533,
    "start_time": "2023-03-08T20:13:34.012Z"
   },
   {
    "duration": 182,
    "start_time": "2023-03-08T20:13:40.085Z"
   },
   {
    "duration": 224,
    "start_time": "2023-03-08T20:13:59.748Z"
   },
   {
    "duration": 174,
    "start_time": "2023-03-08T20:14:08.920Z"
   },
   {
    "duration": 248,
    "start_time": "2023-03-08T20:14:09.738Z"
   },
   {
    "duration": 185,
    "start_time": "2023-03-08T20:14:10.839Z"
   },
   {
    "duration": 893,
    "start_time": "2023-03-08T20:14:11.886Z"
   },
   {
    "duration": 927,
    "start_time": "2023-03-08T20:14:18.320Z"
   },
   {
    "duration": 1942,
    "start_time": "2023-03-08T20:15:01.649Z"
   },
   {
    "duration": 993,
    "start_time": "2023-03-08T20:15:20.600Z"
   },
   {
    "duration": 222,
    "start_time": "2023-03-08T20:15:35.786Z"
   },
   {
    "duration": 153,
    "start_time": "2023-03-08T20:15:52.612Z"
   },
   {
    "duration": 172,
    "start_time": "2023-03-08T20:16:01.290Z"
   },
   {
    "duration": 175,
    "start_time": "2023-03-08T20:16:14.716Z"
   },
   {
    "duration": 173,
    "start_time": "2023-03-08T20:16:21.174Z"
   },
   {
    "duration": 223,
    "start_time": "2023-03-08T20:16:22.398Z"
   },
   {
    "duration": 255,
    "start_time": "2023-03-08T20:16:23.941Z"
   },
   {
    "duration": 203,
    "start_time": "2023-03-08T20:16:25.824Z"
   },
   {
    "duration": 400,
    "start_time": "2023-03-08T20:16:31.010Z"
   },
   {
    "duration": 284,
    "start_time": "2023-03-08T20:16:39.124Z"
   },
   {
    "duration": 266,
    "start_time": "2023-03-08T20:16:44.926Z"
   },
   {
    "duration": 277,
    "start_time": "2023-03-08T20:16:51.151Z"
   },
   {
    "duration": 20,
    "start_time": "2023-03-08T20:16:57.444Z"
   },
   {
    "duration": 230,
    "start_time": "2023-03-08T20:17:34.907Z"
   },
   {
    "duration": 174,
    "start_time": "2023-03-08T20:21:58.037Z"
   },
   {
    "duration": 217,
    "start_time": "2023-03-08T20:22:21.601Z"
   },
   {
    "duration": 160,
    "start_time": "2023-03-08T20:24:15.351Z"
   },
   {
    "duration": 164,
    "start_time": "2023-03-08T20:24:39.772Z"
   },
   {
    "duration": 165,
    "start_time": "2023-03-08T20:24:56.484Z"
   },
   {
    "duration": 22,
    "start_time": "2023-03-08T20:29:22.428Z"
   },
   {
    "duration": 13,
    "start_time": "2023-03-08T20:34:23.634Z"
   },
   {
    "duration": 15,
    "start_time": "2023-03-08T20:34:36.092Z"
   },
   {
    "duration": 17,
    "start_time": "2023-03-08T20:36:58.050Z"
   },
   {
    "duration": 6,
    "start_time": "2023-03-08T20:37:09.039Z"
   },
   {
    "duration": 3742,
    "start_time": "2023-03-08T20:37:27.306Z"
   },
   {
    "duration": 255,
    "start_time": "2023-03-08T20:37:31.050Z"
   },
   {
    "duration": 130,
    "start_time": "2023-03-08T20:37:31.307Z"
   },
   {
    "duration": 181,
    "start_time": "2023-03-08T20:37:31.440Z"
   },
   {
    "duration": 220,
    "start_time": "2023-03-08T20:37:31.623Z"
   },
   {
    "duration": 221,
    "start_time": "2023-03-08T20:37:31.845Z"
   },
   {
    "duration": 218,
    "start_time": "2023-03-08T20:37:32.069Z"
   },
   {
    "duration": 215,
    "start_time": "2023-03-08T20:37:32.290Z"
   },
   {
    "duration": 302,
    "start_time": "2023-03-08T20:37:32.509Z"
   },
   {
    "duration": 165,
    "start_time": "2023-03-08T20:37:32.813Z"
   },
   {
    "duration": 136,
    "start_time": "2023-03-08T20:37:32.982Z"
   },
   {
    "duration": 182,
    "start_time": "2023-03-08T20:37:33.120Z"
   },
   {
    "duration": 137,
    "start_time": "2023-03-08T20:37:33.304Z"
   },
   {
    "duration": 249,
    "start_time": "2023-03-08T20:37:33.443Z"
   },
   {
    "duration": 208,
    "start_time": "2023-03-08T20:37:33.695Z"
   },
   {
    "duration": 192,
    "start_time": "2023-03-08T20:37:33.907Z"
   },
   {
    "duration": 339,
    "start_time": "2023-03-08T20:37:34.101Z"
   },
   {
    "duration": 262,
    "start_time": "2023-03-08T20:37:34.443Z"
   },
   {
    "duration": 217,
    "start_time": "2023-03-08T20:37:34.708Z"
   },
   {
    "duration": 303,
    "start_time": "2023-03-08T20:37:34.927Z"
   },
   {
    "duration": 248,
    "start_time": "2023-03-08T20:37:35.232Z"
   },
   {
    "duration": 149,
    "start_time": "2023-03-08T20:37:35.489Z"
   },
   {
    "duration": 181,
    "start_time": "2023-03-08T20:37:35.640Z"
   },
   {
    "duration": 222,
    "start_time": "2023-03-08T20:37:35.823Z"
   },
   {
    "duration": 188,
    "start_time": "2023-03-08T20:37:36.047Z"
   },
   {
    "duration": 37,
    "start_time": "2023-03-08T20:37:36.236Z"
   },
   {
    "duration": 13,
    "start_time": "2023-03-08T20:37:36.279Z"
   },
   {
    "duration": 21,
    "start_time": "2023-03-08T20:37:36.296Z"
   },
   {
    "duration": 15,
    "start_time": "2023-03-08T20:37:50.449Z"
   },
   {
    "duration": 116,
    "start_time": "2023-03-08T20:38:57.150Z"
   },
   {
    "duration": 12,
    "start_time": "2023-03-08T20:39:38.591Z"
   },
   {
    "duration": 11,
    "start_time": "2023-03-08T20:42:04.990Z"
   },
   {
    "duration": 8,
    "start_time": "2023-03-08T20:42:29.016Z"
   },
   {
    "duration": 12,
    "start_time": "2023-03-08T20:42:38.736Z"
   },
   {
    "duration": 16,
    "start_time": "2023-03-08T20:48:32.006Z"
   },
   {
    "duration": 13,
    "start_time": "2023-03-08T20:49:14.483Z"
   },
   {
    "duration": 10,
    "start_time": "2023-03-08T20:50:07.388Z"
   },
   {
    "duration": 243,
    "start_time": "2023-03-08T20:53:15.792Z"
   },
   {
    "duration": 57,
    "start_time": "2023-03-08T20:55:39.203Z"
   },
   {
    "duration": 42,
    "start_time": "2023-03-08T20:55:51.250Z"
   },
   {
    "duration": 31,
    "start_time": "2023-03-08T20:56:28.306Z"
   },
   {
    "duration": 8,
    "start_time": "2023-03-08T20:58:34.332Z"
   },
   {
    "duration": 52,
    "start_time": "2023-03-08T21:00:56.993Z"
   },
   {
    "duration": 55,
    "start_time": "2023-03-08T21:01:56.489Z"
   },
   {
    "duration": 17,
    "start_time": "2023-03-08T21:04:28.423Z"
   },
   {
    "duration": 17,
    "start_time": "2023-03-08T21:04:46.183Z"
   },
   {
    "duration": 16,
    "start_time": "2023-03-08T21:05:19.187Z"
   },
   {
    "duration": 25,
    "start_time": "2023-03-08T21:09:26.349Z"
   },
   {
    "duration": 18,
    "start_time": "2023-03-08T21:15:22.602Z"
   },
   {
    "duration": 2920,
    "start_time": "2023-03-13T17:02:14.225Z"
   },
   {
    "duration": 195,
    "start_time": "2023-03-13T17:02:17.147Z"
   },
   {
    "duration": 80,
    "start_time": "2023-03-13T17:02:17.344Z"
   },
   {
    "duration": 146,
    "start_time": "2023-03-13T17:02:17.426Z"
   },
   {
    "duration": 138,
    "start_time": "2023-03-13T17:02:17.574Z"
   },
   {
    "duration": 141,
    "start_time": "2023-03-13T17:02:17.714Z"
   },
   {
    "duration": 132,
    "start_time": "2023-03-13T17:02:17.857Z"
   },
   {
    "duration": 149,
    "start_time": "2023-03-13T17:02:17.991Z"
   },
   {
    "duration": 231,
    "start_time": "2023-03-13T17:02:18.141Z"
   },
   {
    "duration": 152,
    "start_time": "2023-03-13T17:02:18.375Z"
   },
   {
    "duration": 130,
    "start_time": "2023-03-13T17:02:18.528Z"
   },
   {
    "duration": 140,
    "start_time": "2023-03-13T17:02:18.659Z"
   },
   {
    "duration": 116,
    "start_time": "2023-03-13T17:02:18.801Z"
   },
   {
    "duration": 145,
    "start_time": "2023-03-13T17:02:18.923Z"
   },
   {
    "duration": 137,
    "start_time": "2023-03-13T17:02:19.069Z"
   },
   {
    "duration": 175,
    "start_time": "2023-03-13T17:02:19.207Z"
   },
   {
    "duration": 256,
    "start_time": "2023-03-13T17:02:19.385Z"
   },
   {
    "duration": 203,
    "start_time": "2023-03-13T17:02:19.643Z"
   },
   {
    "duration": 209,
    "start_time": "2023-03-13T17:02:19.848Z"
   },
   {
    "duration": 266,
    "start_time": "2023-03-13T17:02:20.059Z"
   },
   {
    "duration": 223,
    "start_time": "2023-03-13T17:02:20.327Z"
   },
   {
    "duration": 141,
    "start_time": "2023-03-13T17:02:20.552Z"
   },
   {
    "duration": 160,
    "start_time": "2023-03-13T17:02:20.695Z"
   },
   {
    "duration": 181,
    "start_time": "2023-03-13T17:02:20.857Z"
   },
   {
    "duration": 159,
    "start_time": "2023-03-13T17:02:21.040Z"
   },
   {
    "duration": 28,
    "start_time": "2023-03-13T17:02:21.201Z"
   },
   {
    "duration": 15,
    "start_time": "2023-03-13T17:02:21.230Z"
   },
   {
    "duration": 2887,
    "start_time": "2023-07-17T19:10:05.549Z"
   },
   {
    "duration": 176,
    "start_time": "2023-07-17T19:10:08.438Z"
   },
   {
    "duration": 73,
    "start_time": "2023-07-17T19:10:08.616Z"
   },
   {
    "duration": 129,
    "start_time": "2023-07-17T19:10:08.692Z"
   },
   {
    "duration": 131,
    "start_time": "2023-07-17T19:10:08.823Z"
   },
   {
    "duration": 132,
    "start_time": "2023-07-17T19:10:08.956Z"
   },
   {
    "duration": 123,
    "start_time": "2023-07-17T19:10:09.090Z"
   },
   {
    "duration": 145,
    "start_time": "2023-07-17T19:10:09.214Z"
   },
   {
    "duration": 207,
    "start_time": "2023-07-17T19:10:09.360Z"
   },
   {
    "duration": 129,
    "start_time": "2023-07-17T19:10:09.575Z"
   },
   {
    "duration": 119,
    "start_time": "2023-07-17T19:10:09.705Z"
   },
   {
    "duration": 123,
    "start_time": "2023-07-17T19:10:09.825Z"
   },
   {
    "duration": 109,
    "start_time": "2023-07-17T19:10:09.950Z"
   },
   {
    "duration": 134,
    "start_time": "2023-07-17T19:10:10.061Z"
   },
   {
    "duration": 131,
    "start_time": "2023-07-17T19:10:10.197Z"
   },
   {
    "duration": 150,
    "start_time": "2023-07-17T19:10:10.330Z"
   },
   {
    "duration": 219,
    "start_time": "2023-07-17T19:10:10.481Z"
   },
   {
    "duration": 181,
    "start_time": "2023-07-17T19:10:10.702Z"
   },
   {
    "duration": 180,
    "start_time": "2023-07-17T19:10:10.885Z"
   },
   {
    "duration": 237,
    "start_time": "2023-07-17T19:10:11.074Z"
   },
   {
    "duration": 184,
    "start_time": "2023-07-17T19:10:11.313Z"
   },
   {
    "duration": 137,
    "start_time": "2023-07-17T19:10:11.499Z"
   },
   {
    "duration": 150,
    "start_time": "2023-07-17T19:10:11.637Z"
   },
   {
    "duration": 163,
    "start_time": "2023-07-17T19:10:11.789Z"
   },
   {
    "duration": 143,
    "start_time": "2023-07-17T19:10:11.954Z"
   },
   {
    "duration": 17,
    "start_time": "2023-07-17T19:10:12.099Z"
   },
   {
    "duration": 15,
    "start_time": "2023-07-17T19:10:12.117Z"
   },
   {
    "duration": 6,
    "start_time": "2023-07-17T19:10:30.825Z"
   }
  ],
  "kernelspec": {
   "display_name": "Python 3 (ipykernel)",
   "language": "python",
   "name": "python3"
  },
  "language_info": {
   "codemirror_mode": {
    "name": "ipython",
    "version": 3
   },
   "file_extension": ".py",
   "mimetype": "text/x-python",
   "name": "python",
   "nbconvert_exporter": "python",
   "pygments_lexer": "ipython3",
   "version": "3.10.9"
  },
  "toc": {
   "base_numbering": 1,
   "nav_menu": {},
   "number_sections": true,
   "sideBar": true,
   "skip_h1_title": true,
   "title_cell": "Table of Contents",
   "title_sidebar": "Contents",
   "toc_cell": false,
   "toc_position": {},
   "toc_section_display": true,
   "toc_window_display": false
  }
 },
 "nbformat": 4,
 "nbformat_minor": 2
}
